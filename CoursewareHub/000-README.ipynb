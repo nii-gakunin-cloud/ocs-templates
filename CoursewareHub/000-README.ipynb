{
 "cells": [
  {
   "cell_type": "markdown",
   "metadata": {},
   "source": [
    "# README\n",
    "\n",
    "---\n",
    "\n",
    "VCP SDKを用いてクラウド上にCoursewareHub環境を構築します。"
   ]
  },
  {
   "cell_type": "markdown",
   "metadata": {},
   "source": [
    "## はじめに\n",
    "\n",
    "このアプリケーションテンプレートではVCPで作成したノードに[CoursewareHub](https://github.com/NII-cloud-operation/CoursewareHub-LC_jupyterhub-deploy)環境を構築します。"
   ]
  },
  {
   "cell_type": "markdown",
   "metadata": {},
   "source": [
    "### CoursewareHubのユーザ認証について\n",
    "\n",
    "CoursewareHubではユーザの認証機能として以下に示す三つの方式に対応しています。\n",
    "\n",
    "* ローカルユーザ認証\n",
    "    * CoursewareHubのローカルユーザデータベースを用いてユーザ管理を行う\n",
    "* 学認連携に基づく認証\n",
    "    * [学認](https://www.gakunin.jp/)のSPとして登録し、認証連携を行う\n",
    "    * CoursewareHubを直接SPとしては登録せずに、プロキシ(IdPプロキシ)を経由して連携することも可能\n",
    "* LMS(Learning Management System)との認証連携\n",
    "    * [LTI 1.3](http://www.imsglobal.org/spec/lti/v1p3/)による認証連携を行う\n",
    "    * このテンプレートでは連携するLMSとして[Moodle](https://moodle.org/)を想定している\n",
    "\n",
    "それぞれの認証機能は共存することが可能になっています。ただし、学認連携認証を用いる場合はコンテナの構成や設定手順が異なります。そのため、それに応じた異なる構築手順を用意しています。\n",
    "\n",
    "一方 LMSとの認証連携を行う場合は、まずローカルユーザ認証、あるいは学認連携認証の手順でCoursewareHubを構築してください。その後にLMSとの認証連携の設定を追加する手順となっています。"
   ]
  },
  {
   "cell_type": "markdown",
   "metadata": {},
   "source": [
    "### コンテナの構成について\n",
    "\n",
    "ローカルユーザ認証のみを用いる場合と、学認連携認証を利用する場合とではコンテナの構成が異なります。ここでは、それぞれのコンテナ構成について記します。\n",
    "\n",
    "CoursewareHubでは、学認連携の有無、あるいは連携方法の違いにより以下に示す方式を選択することができます。\n",
    "* ローカルユーザ認証のみを利用する\n",
    "* 学認フェデレーションに参加し、学認のIdPを利用して認証を行う\n",
    "    - IdP-proxyをSPとして学認に登録し、複数のCoursewareHubがIdP-proxyを通して学認のIdPを利用する\n",
    "    - CoursewareHubを直接SPとして学認に登録する\n",
    "    \n",
    "それぞれの方式に対応する構成図を以下に示します。\n",
    "    \n",
    "#### ローカルユーザ認証のみを利用する場合\n",
    "\n",
    "![モジュール構成a](notebooks/images/cw-121-01.png)\n",
    "\n",
    "#### IdP-proxyを利用する場合\n",
    "\n",
    "![モジュール構成b](notebooks/images/cw-221-01.png)\n",
    "\n",
    "#### CoursewareHubを直接SPとして登録する場合\n",
    "\n",
    "![モジュール構成c](notebooks/images/cw-321-01.png)"
   ]
  },
  {
   "cell_type": "markdown",
   "metadata": {},
   "source": [
    "### ノード構成\n",
    "\n",
    "CoursewareHubのノードは役割に応じて以下のものに分類されます\n",
    "\n",
    "* manager\n",
    "    - JupyterHub, auth-proxy, PostgreSQLなどのSystemコンテナを実行するノード\n",
    "    - Docker Swarmのmanagerノードとなる\n",
    "* worker\n",
    "    - single-user Jupyter notebook serverを実行するノード\n",
    "    - Docker Swarm の workerノードとなる\n",
    "    \n",
    "CoursewareHubではデータやNotebookなどをノード間で共有するためにNFSを利用します。NFSサーバの配置により以下の３つパターン構成が可能となっています。\n",
    "\n",
    "1. 構成1\n",
    "    - managerノードにNFSサーバを配置する\n",
    "1. 構成2\n",
    "    - managerノードとNFSサーバを別のノードとして構成する\n",
    "1. 構成3\n",
    "    - 構成2のNFSサーバに、新たなCoursewareHub環境を追加する構成"
   ]
  },
  {
   "cell_type": "markdown",
   "metadata": {},
   "source": [
    "#### 構成1\n",
    "\n",
    "managerノードでNFSサーバを実行します。\n",
    "\n",
    "![構成1](notebooks/images/cw-011-01.png)"
   ]
  },
  {
   "cell_type": "markdown",
   "metadata": {},
   "source": [
    "#### 構成2\n",
    "\n",
    "managerノードとNFSサーバを分離し別々のノードとして構築します。\n",
    "\n",
    "![構成2](notebooks/images/cw-021-01.png)"
   ]
  },
  {
   "cell_type": "markdown",
   "metadata": {},
   "source": [
    "#### 構成3\n",
    "\n",
    "構成2のNFSサーバに、新たなCoursewareHub環境を追加します。NFSサーバは複数のCoursewareHub環境で共有されます。\n",
    "\n",
    "![構成3](notebooks/images/cw-031-01.png)"
   ]
  },
  {
   "cell_type": "markdown",
   "metadata": {},
   "source": [
    "### 収容設計について"
   ]
  },
  {
   "cell_type": "markdown",
   "metadata": {},
   "source": [
    "#### managerノード"
   ]
  },
  {
   "cell_type": "markdown",
   "metadata": {},
   "source": [
    "* システム用コンテナが実行される\n",
    "    - auth-proxyコンテナ\n",
    "    - JupyterHubコンテナ\n",
    "    - PostgreSQLコンテナ\n",
    "* ユーザが利用する single-userサーバコンテナは実行されない\n",
    "* NFSサーバをmanagerノードに共存させる場合（構成１）はディスク容量を適切な値に設定する"
   ]
  },
  {
   "cell_type": "markdown",
   "metadata": {},
   "source": [
    "#### workerノード"
   ]
  },
  {
   "cell_type": "markdown",
   "metadata": {},
   "source": [
    "* ユーザが利用するsingle-userコンテナが実行される\n",
    "* single-userコンテナのリソース量として以下の設定を行っている\n",
    "    - 最大CPU利用数\n",
    "    - 最大メモリ量(GB)\n",
    "    - 保証される最小割当てメモリ量(GB)\n",
    "* システム全体で必要となるリソース量を見積もるには\n",
    "    - (コンテナに割り当てるリソース量)×(最大同時使用人数)+(システムが利用するリソース量)×(ノード数)"
   ]
  },
  {
   "cell_type": "markdown",
   "metadata": {},
   "source": [
    "#### 運用例"
   ]
  },
  {
   "cell_type": "markdown",
   "metadata": {},
   "source": [
    "* 最大同時使用人数\n",
    "    - 400 人\n",
    "* コンテナに割り当てるリソース量\n",
    "    - メモリ最小値保証\n",
    "        - 1GB\n",
    "    - メモリ最大値制限\n",
    "        - 2GB(swap 4GB)\n",
    "    - CPU最大値制限\n",
    "        - 200% (2cores)\n",
    "        \n",
    "上記の条件で運用を行った際の実績値を示します。"
   ]
  },
  {
   "cell_type": "markdown",
   "metadata": {},
   "source": [
    "* managerノード\n",
    "    - vCPU\n",
    "        - 10\n",
    "    - memory\n",
    "        - 16GB\n",
    "    - HDD\n",
    "        - 800GB\n",
    "* workerノード\n",
    "  - ノードA\n",
    "    - ノード数\n",
    "        - 4\n",
    "    - vCPU\n",
    "        - 30\n",
    "    - memory\n",
    "        - 100GB\n",
    "    - HDD\n",
    "        - 300GB\n",
    "  - ノードB\n",
    "    - ノード数\n",
    "        - 1\n",
    "    - vCPU\n",
    "        - 20\n",
    "    - memory\n",
    "        - 80GB\n",
    "    - HDD\n",
    "        - 300GB\n",
    "\n",
    "> workerノードはリソース量の異なるノードAとノードBで構成されていた。\n",
    "\n",
    "workerノードのメモリ総量は480GB(=100×4+80)となっていますが、これは以下のように見積もっています。\n",
    "```\n",
    "(コンテナのメモリ最小値保証)×(最大同時使用人数)+(システム利用分)\n",
    "= 1GB × 400人 + 80GB\n",
    "```"
   ]
  },
  {
   "cell_type": "markdown",
   "metadata": {},
   "source": [
    "## 事前に準備が必要となるものについて\n",
    "\n",
    "このアプリケーションテンプレートを実行するにあたって事前に準備が必要となるものについて記します。"
   ]
  },
  {
   "cell_type": "markdown",
   "metadata": {},
   "source": [
    "### VCノード\n",
    "\n",
    "ノードを作成するとき必要となるものについて記します。"
   ]
  },
  {
   "cell_type": "markdown",
   "metadata": {},
   "source": [
    "* VCCアクセストークン\n",
    "    - VCP SDKを利用してクラウド環境にノード作成などを行うために必要となります\n",
    "    - VCCアクセストークンがない場合はVC管理者に発行を依頼してください\n",
    "* SSH公開鍵ペア\n",
    "    - VCノードに登録するSSHの公開鍵\n",
    "    - このNotebook環境内で新たに作成するか、事前に作成したものをこの環境にアップロードしておいてください\n",
    "* VCノードに割り当てるアドレス\n",
    "    - ノードのネットワークインタフェースに以下に示す何れかのアドレスを指定することができます\n",
    "        - IPアドレス\n",
    "        - MACアドレス\n",
    "* NTPの設定\n",
    "    - 学認フェデレーションに参加し SAML 認証を利用する場合、正しい時刻設定が必要となります\n",
    "    - VCノードのNTPサービスを有効にするためには、事前にVCコントローラへの設定が必要となります\n",
    "    - VCコントローラへの設定にはOCS運用担当者への申請が必要となります"
   ]
  },
  {
   "cell_type": "markdown",
   "metadata": {},
   "source": [
    "### CoursewareHub\n",
    "\n",
    "CoursewareHub環境を構築する際に必要となるものについて記します。"
   ]
  },
  {
   "cell_type": "markdown",
   "metadata": {},
   "source": [
    "* CoursewareHubのサーバ証明書\n",
    "    - CoursewareHubではHTTPSでサーバを公開するため、サーバ証明書とその秘密鍵が必要となります\n",
    "    - 必要に応じて、サーバ証明書の中間CA証明書を準備してください\n",
    "    - サーバ証明書に記載されているホスト名のDNS登録も必要となります\n",
    "\n",
    "また事前の段階では不要ですが、学認のIdPを認証に利用する場合は構築手順の過程で\n",
    "学認フェデレーションに参加の申請を行う必要があります。"
   ]
  },
  {
   "cell_type": "markdown",
   "metadata": {},
   "source": [
    "### IdP-proxy\n",
    "\n",
    "IdP-proxy を構築する際に必要となるものについて記します。"
   ]
  },
  {
   "cell_type": "markdown",
   "metadata": {},
   "source": [
    "* IdP-proxyのサーバ証明書\n",
    "    - IdP-proxyではHTTPSでサーバを公開するため、サーバ証明書とその秘密鍵が必要となります\n",
    "    - 必要に応じて、サーバ証明書の中間CA証明書を準備してください\n",
    "    - サーバ証明書に記載されているホスト名のDNS登録も必要となります\n",
    "\n",
    "また事前の段階では不要ですが、学認のIdPを認証に利用する場合は構築手順の過程で\n",
    "学認フェデレーションに参加の申請を行う必要があります。"
   ]
  },
  {
   "cell_type": "markdown",
   "metadata": {},
   "source": [
    "## Notebookの一覧\n",
    "\n",
    "テンプレートのNotebook一覧を示します。"
   ]
  },
  {
   "cell_type": "markdown",
   "metadata": {},
   "source": [
    "**注意**:\n",
    "\n",
    "この節ではテンプレートのNotebookへのリンクを示す箇所がありますが、リンク先のNotebookは参照用となっていて**そのままでは実行できません**。\n",
    "\n",
    "> Notebook自体は実行できてしまいますが、パスなどが想定しているものと異なるため正しく処理できずエラーとなります。\n",
    "\n",
    "次のどちらかの手順で作業用Notebookを作成する必要があります。\n",
    "\n",
    "* 次節の「作業用Notebookの作成」で作業用のNotebookを作成する。\n",
    "* テンプレートのNotebookを配置してある `notebooks/` から、この`000-README.ipynb`と同じディレクトリにNotebookをコピーする。"
   ]
  },
  {
   "cell_type": "markdown",
   "metadata": {},
   "source": [
    "### 各Notebookの関連について\n",
    "\n",
    "各Notebookの実行順序などの関係性を示す図を表示します。"
   ]
  },
  {
   "cell_type": "markdown",
   "metadata": {},
   "source": [
    "次のセルを実行すると、各Notebookの関連を示す図を表示します。\n",
    "\n",
    "> 図が表示されずに `<IPython.core.display.SVG object>` と表示されている場合は、次のセルを `unfreeze` した後に再実行してください。\n",
    "\n",
    "図に表示される１つのブロックが１つのNotebookに対応しており、ブロックのタイトル部分にNotebookへのリンクが埋め込まれています。"
   ]
  },
  {
   "cell_type": "code",
   "execution_count": null,
   "metadata": {
    "scrolled": false
   },
   "outputs": [],
   "source": [
    "from IPython.display import SVG\n",
    "%run scripts/nb_utils.py\n",
    "SVG(filename=generate_svg_diag(diag='images/notebooks.diag'))"
   ]
  },
  {
   "cell_type": "markdown",
   "metadata": {},
   "source": [
    "次のセルを実行するとIdP-proxyの構築とそれに関連するCoursewareHubのNotebookの関連図を示します。"
   ]
  },
  {
   "cell_type": "code",
   "execution_count": null,
   "metadata": {
    "scrolled": false
   },
   "outputs": [],
   "source": [
    "from IPython.display import SVG\n",
    "%run scripts/nb_utils.py\n",
    "SVG(filename=generate_svg_diag(diag='images/notebooks-idp.diag'))"
   ]
  },
  {
   "cell_type": "markdown",
   "metadata": {},
   "source": [
    "### 各Notebookの目次"
   ]
  },
  {
   "cell_type": "markdown",
   "metadata": {},
   "source": [
    "次のセルを実行すると、各Notebookの目次が表示されます。\n",
    "\n",
    "> 目次が表示されずに `<IPython.core.display.Markdown object>` と表示されている場合は、次のセルを `unfreeze` した後に再実行してください。\n",
    "\n",
    "リンクが表示されている項目が一つのNotebookに対応しており、そのサブ項目が各Notebook内の目次になっています。"
   ]
  },
  {
   "cell_type": "code",
   "execution_count": null,
   "metadata": {
    "scrolled": false
   },
   "outputs": [],
   "source": [
    "from IPython.display import Markdown\n",
    "%run scripts/nb_utils.py\n",
    "Markdown(notebooks_toc())"
   ]
  },
  {
   "cell_type": "markdown",
   "metadata": {},
   "source": [
    "## 作業用Notebookの作成\n",
    "\n",
    "この節のセルを実行することで、テンプレートのNotebookから作業用Notebookを作成することができます。"
   ]
  },
  {
   "cell_type": "markdown",
   "metadata": {},
   "source": [
    "まず、作業用Notebookを配置するディレクトリを指定してください。"
   ]
  },
  {
   "cell_type": "code",
   "execution_count": null,
   "metadata": {},
   "outputs": [],
   "source": [
    "WORK_DIR = 'work'"
   ]
  },
  {
   "cell_type": "markdown",
   "metadata": {},
   "source": [
    "以下のセルを実行すると、Notebook名のドロップダウンリストと「作業開始」ボタンが現れます。\n",
    "「作業開始」ボタンを押すと、テンプレートのNotebookをコピーし、そのNotebookを自動的にブラウザで開きます。\n",
    "Notebookの説明を確認しながら実行、適宜修正しながら実行していってください。\n",
    "\n",
    "> このNotebookを Shutdown した後に再度開いた場合、次のセルに既に表示されている「作業開始」ボタンが正しく動作しません。この節のセルをいったん unfreeze した後、セルを再実行してから「作業開始」ボタンをクリックして下さい。"
   ]
  },
  {
   "cell_type": "code",
   "execution_count": null,
   "metadata": {
    "scrolled": true
   },
   "outputs": [],
   "source": [
    "from IPython.core.display import HTML\n",
    "%run scripts/nb_utils.py\n",
    "setup_nb_workdir(WORK_DIR)\n",
    "nb_pattern = \"[01234789]*-*.ipynb\"\n",
    "HTML(generate_html_work_nbs(WORK_DIR, nb_pattern, \"cwh\"))"
   ]
  },
  {
   "cell_type": "markdown",
   "metadata": {},
   "source": [
    "IdP-proxyに関するNotebookに関しては上のセルが表示するリストから分離しています。IdP-proxyを構築する場合は次のセルを実行して作業を進めてください。\n"
   ]
  },
  {
   "cell_type": "code",
   "execution_count": null,
   "metadata": {},
   "outputs": [],
   "source": [
    "from IPython.core.display import HTML\n",
    "%run scripts/nb_utils.py\n",
    "setup_nb_workdir(WORK_DIR)\n",
    "nb_pattern = \"5*-*.ipynb\"\n",
    "HTML(generate_html_work_nbs(WORK_DIR, nb_pattern, \"idp\"))"
   ]
  }
 ],
 "metadata": {
  "kernelspec": {
   "display_name": "Python 3",
   "language": "python",
   "name": "python3"
  },
  "language_info": {
   "file_extension": ".py",
   "mimetype": "text/x-python",
   "name": "python",
   "nbconvert_exporter": "python",
   "pygments_lexer": "ipython3",
   "version": "3.10.4"
  },
  "toc": {
   "base_numbering": 1,
   "nav_menu": {},
   "number_sections": true,
   "sideBar": true,
   "skip_h1_title": true,
   "title_cell": "Table of Contents",
   "title_sidebar": "Contents",
   "toc_cell": false,
   "toc_position": {},
   "toc_section_display": "block",
   "toc_window_display": true
  }
 },
 "nbformat": 4,
 "nbformat_minor": 2
}
