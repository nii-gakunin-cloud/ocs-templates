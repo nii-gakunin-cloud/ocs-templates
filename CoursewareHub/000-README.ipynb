{
 "cells": [
  {
   "cell_type": "markdown",
   "metadata": {},
   "source": [
    "# CoursewareHub\n",
    "\n",
    "VCP SDKを用いてクラウド上にCoursewareHub環境を構築します。"
   ]
  },
  {
   "cell_type": "markdown",
   "metadata": {},
   "source": [
    "## 概要"
   ]
  },
  {
   "cell_type": "markdown",
   "metadata": {},
   "source": [
    "### CoursewareHubとは\n",
    "\n",
    "[CoursewareHub](https://coursewarehub.github.io/)は[Jupyter Notebook](https://jupyter.org/)を用いた講義演習環境を提供するシステムです。大学・研究機関での教育活動においてプログラミング演習やデータサイエンス講義等での利用を想定しています。\n",
    "\n",
    "**主要機能:**\n",
    "\n",
    "* **Jupyter Notebook環境の提供**: 受講者がブラウザ経由でプログラミング環境にアクセス\n",
    "* **教材配布・課題管理**: 講師による教材配布、課題の回答収集機能\n",
    "* **学習履歴の収集**: 操作履歴や実行状況の収集・分析機能\n",
    "* **マルチユーザ対応**: 同時に多数のユーザが利用可能な環境\n",
    "* **LTI連携**: Learning Management System（LMS）との認証連携\n",
    "* **複数コース管理**: Named Serverを活用した複数コースの同時運用"
   ]
  },
  {
   "cell_type": "markdown",
   "metadata": {},
   "source": [
    "## JupyterHubの基本概念\n",
    "\n",
    "CoursewareHubのベースとなる[JupyterHub](https://jupyterhub.readthedocs.io/)の基本的な概念について説明します。"
   ]
  },
  {
   "cell_type": "markdown",
   "metadata": {},
   "source": [
    "### JupyterHubとは\n",
    "\n",
    "JupyterHubは、複数のユーザが同時にJupyter Notebookを利用できる環境を提供するシステムです。\n",
    "\n",
    "#### 通常のJupyter Notebookとの違い\n",
    "\n",
    "* **通常のJupyter**: 1台のPCで1人のユーザが個人的に使用\n",
    "* **JupyterHub**: 1つのサーバで多数のユーザが同時に安全に使用\n",
    "\n",
    "#### 講義演習環境への導入メリット\n",
    "\n",
    "* **統一された環境**: 全ての受講者が同じソフトウェア環境を利用\n",
    "* **管理効率**: 講師が一元的に環境管理・課題配布\n",
    "* **スケーラブル**: 受講者数に応じてリソースを調整\n",
    "* **手軽な利用**: 受講者はブラウザだけでアクセス可能"
   ]
  },
  {
   "cell_type": "markdown",
   "metadata": {},
   "source": [
    "### 主要コンポーネント\n",
    "\n",
    "![JupyterHub](notebooks/images/cw-000-01.png)\n",
    "\n"
   ]
  },
  {
   "cell_type": "markdown",
   "metadata": {},
   "source": [
    "#### Hub\n",
    "* 各ユーザのNotebook環境の状態管理  \n",
    "* ユーザのアクセスを適切な環境に転送\n",
    "* システム全体の管理・監視\n",
    "\n",
    "#### Spawner\n",
    "* ユーザがログインしたときに専用環境を起動\n",
    "* ユーザ毎のリソース制限（CPU・メモリ）\n",
    "* 使用後の自動停止でリソース節約\n",
    "\n",
    "#### Single-user Server\n",
    "* ユーザごとの独立したJupyter Notebook環境\n",
    "* 作業ファイルはユーザのホームディレクトリで管理\n",
    "* 他ユーザからサーバ、ファイルともに完全に分離\n",
    "\n",
    "#### Authenticator\n",
    "* ユーザの認証、ログイン検証\n",
    "* ユーザの権限確認"
   ]
  },
  {
   "cell_type": "markdown",
   "metadata": {},
   "source": [
    "### CoursewareHubとの関係\n",
    "\n",
    "[CoursewareHub](https://coursewarehub.github.io/)は[JupyterHub](https://jupyterhub.readthedocs.io/)をベースに、国立情報学研究所が教育利用向けに拡張したシステムです。\n",
    "\n",
    "#### JupyterHubの活用部分\n",
    "* マルチユーザ機能\n",
    "* スケーラビリティ\n",
    "* セキュリティ\n",
    "\n",
    "#### CoursewareHub独自の拡張\n",
    "* **教材配布機能**: 講師が作成した教材を受講者に一括配布\n",
    "* **学習履歴収集**: 受講者の操作履歴や実行状況の収集・分析\n",
    "* **LTI連携**: Moodleなどの学習管理システムとの連携\n",
    "* **複数コース対応**: 1つのシステムで複数の講義を同時運用"
   ]
  },
  {
   "cell_type": "markdown",
   "metadata": {},
   "source": [
    "## システム構成とアーキテクチャ\n",
    "\n",
    "CoursewareHubの構築・運用で必要となるシステム構成について説明します。"
   ]
  },
  {
   "cell_type": "markdown",
   "metadata": {},
   "source": [
    "### CoursewareHubのノード構成\n",
    "\n",
    "CoursewareHubは、JupyterHubの分散アーキテクチャを基盤として以下のノード構成で動作します：\n",
    "\n",
    "#### managerノード（管理機能）\n",
    "\n",
    "* **JupyterHub**: JupyterHubの基本機能（Single-user Serverの管理、リソース制限、ユーザ管理）\n",
    "* **auth-proxy**: CoursewareHub独自の認証プロキシ\n",
    "  * LTI連携（Moodleとの連携）\n",
    "  * 学認連携（大学間連携）\n",
    "* **PostgreSQL**: ユーザ情報、セッション情報\n",
    "* **Registry**: Single-user serverのコンテナイメージを保存、配布する\n",
    "* **NFS共有機能**（基本構成の場合）: ユーザデータの共有ストレージ\n",
    "\n",
    "#### workerノード（実行環境）\n",
    "JupyterHubのSingle-user serverを実行する環境：\n",
    "\n",
    "* **リソース分離**: ユーザ毎のCPU・メモリ制限とプロセス分離\n",
    "* **コンテナ実行基盤**: Spawnerにより起動されるコンテナの実行環境\n",
    "* **講義用コンテナイメージ**: コース毎に用意されたコンテナイメージを使用\n",
    "\n",
    "#### 分散処理の利点\n",
    "* **スケーラビリティ**: workerノードを追加することで同時ユーザ数を拡大\n",
    "* **リソース効率**: managerノードは計算処理を行わず管理に専念\n",
    "* **障害分離**: 特定のworkerノードの障害が全体システムに影響しない"
   ]
  },
  {
   "cell_type": "markdown",
   "metadata": {},
   "source": [
    "### ストレージとネットワーク構成\n",
    "\n",
    "#### ストレージ構成\n",
    "データ共有にはNFSを利用します。以下の構成から選択可能：\n",
    "\n",
    "**構成1（基本構成）**\n",
    "* managerノードにNFSサーバを配置する最もシンプルな構成\n",
    "* ![構成1](notebooks/images/cw-011-01.png)\n",
    "\n",
    "**その他の構成**\n",
    "* **構成2**: managerノードとNFSサーバを分離した構成\n",
    "* **構成3**: 構成2で構築したNFSサーバを共有して、CoursewareHubを構築する構成\n",
    "\n",
    "#### 認証方式別のコンテナ構成\n",
    "* **ローカルユーザ認証・LTI連携**: ![モジュール構成a](notebooks/images/cw-121-01.png)\n",
    "* **学認連携**: IdP-proxy経由・直接連携の2つの方式が選択可能（詳細は[学認連携設定ガイド](001-gakunin.ipynb)参照）"
   ]
  },
  {
   "cell_type": "markdown",
   "metadata": {},
   "source": [
    "### 収容設計と要件\n",
    "\n",
    "#### システム要件の考え方\n",
    "JupyterHubのSpawnerによる動的コンテナ管理（ユーザログイン時の起動・アイドル時の自動停止）を考慮したリソース設計：\n",
    "\n",
    "**基本計算式**\n",
    "```\n",
    "総必要リソース = (single-userコンテナリソース) × (最大同時利用者数) + (システム利用分)\n",
    "```\n",
    "\n",
    "#### managerノードの要件\n",
    "* **主要負荷**: PostgreSQLとJupyterHubプロセスの処理\n",
    "* **特性**: ユーザ数が増加してもCPU・メモリ使用量は比較的安定\n",
    "* **構成1の場合**: NFSサーバも同居するため十分なディスク容量とI/O性能が必要\n",
    "\n",
    "#### workerノードの要件\n",
    "* **コンテナリソース設定例**:\n",
    "  * 保証メモリ量（mem_guarantee）: 1GB\n",
    "  * 最大メモリ量（mem_limit）: 2GB\n",
    "  * 保証CPU利用数（cpu_guarantee）: 0.5\n",
    "  * 最大CPU利用数（cpu_limit）: 2.0\n",
    "\n",
    "#### 運用実績例（400人同時利用）\n",
    "* **managerノード**: vCPU: 10、メモリ: 16GB、HDD: 800GB\n",
    "* **workerノード**: ノード数: 5、総vCPU: 140、総メモリ: 480GB、総HDD: 1.5TB\n",
    "  * メモリ設計:\n",
    "    * (コンテナのメモリ最小値保証)×(最大同時使用人数)+(システム利用分) = 1GB × 400 + 80GB"
   ]
  },
  {
   "cell_type": "markdown",
   "metadata": {},
   "source": [
    "## 認証方式の選択\n",
    "\n",
    "CoursewareHubでは、利用環境に応じて複数の認証方式から選択できます。"
   ]
  },
  {
   "cell_type": "markdown",
   "metadata": {},
   "source": [
    "### 認証方式の比較\n",
    "\n",
    "| 認証方式 | 適用場面 | 特徴 | 管理負荷 |\n",
    "|---------|---------|------|----------|\n",
    "| **ローカルユーザ認証** | 小規模講義、短期利用 | 簡単セットアップ | 高（手動ユーザ管理） |\n",
    "| **LTI連携** | LMS統合環境 | Moodleとのシームレス連携 | 低（LMS側で管理） |\n",
    "| **学認連携** | 大学間連携、学認参加機関 | ID管理不要、SSO | 低（自動ID連携） |"
   ]
  },
  {
   "cell_type": "markdown",
   "metadata": {},
   "source": [
    "### 認証方式別の必要条件\n",
    "\n",
    "各認証方式を選択する際の必要条件は以下の通りです：\n",
    "\n",
    "**ローカルユーザ認証:**\n",
    "* 小規模な受講者数（手動ユーザ管理が可能な範囲）\n",
    "* 短期間での利用\n",
    "* 迅速なシステム構築が最優先である\n",
    "* 既存の認証システムやLMSとの連携が不要\n",
    "\n",
    "**LTI連携:**\n",
    "* LTI 1.3対応のMoodle環境が既に稼動中（バージョン4.1以降推奨）\n",
    "* CoursewareHubからMoodleへのネットワークアクセスが確保されている\n",
    "* Moodleサイト管理者権限での設定が必要（外部ツール登録のため）\n",
    "* 複数コースでの運用が要求される\n",
    "\n",
    "**学認連携:**\n",
    "* 学認（学術認証フェデレーション）参加機関であること\n",
    "* 機関のIdP（Identity Provider）が学認フェデレーションに接続済み\n",
    "* 複数大学での共同講義または大規模利用の要件がある\n",
    "* 機関内でのSAML認証基盤の運用体制が整備されている"
   ]
  },
  {
   "cell_type": "markdown",
   "metadata": {},
   "source": [
    "### LTI連携の機能\n",
    "\n",
    "LTI（Learning Tools Interoperability）連携では以下の機能を提供します：\n",
    "\n",
    "* **基本LTI連携**: MoodleコースとCoursewareHubの連携\n",
    "* **複数コース対応**: JupyterHubのNamed Server機能を活用した複数コース同時運用"
   ]
  },
  {
   "cell_type": "markdown",
   "metadata": {},
   "source": [
    "#### Named Serverを活用した複数コース機能\n",
    "\n",
    "CoursewareHubの複数コース機能は、JupyterHubの**Named Server**機能を基盤として実現されています：\n",
    "\n",
    "**Named Serverとは**:\n",
    "* JupyterHub標準機能の一つで、1ユーザが複数の独立したNotebook環境を同時に持てる仕組み\n",
    "* 各Named Serverには固有の名前が付与され、異なるコンテナイメージや設定を使用可能\n",
    "* CoursewareHubでは、Named Server名にコース名を使用してコース毎の環境を分離\n",
    "\n",
    "**CoursewareHubでの活用方法**:\n",
    "* **コース毎の環境分離**: `course_server`パラメータで指定したコース名をNamed Server名として使用\n",
    "* **専用ディレクトリ**: `/home/{username}/{coursename}/` にコース専用の作業領域を自動作成\n",
    "* **講師権限制御**: 講師ユーザのみが新しいNamed Server（コース環境）を作成可能\n",
    "* **受講者制限**: 受講者は講師が作成済みのコース環境にのみアクセス可能\n",
    "\n",
    "**実装上の要点**:\n",
    "* LTIカスタムパラメータ`course_server`の値をNamed Server名として使用\n",
    "* JupyterHubのSpawnerが、指定されたNamed Serverとして新しいsingle-user serverを起動\n",
    "* 環境変数`CWH_COURSE_NAME`にコース名を設定し、Notebook内でコース識別が可能\n",
    "\n",
    "学認連携の詳細については[学認連携設定ガイド](001-gakunin.ipynb)を参照してください。"
   ]
  },
  {
   "cell_type": "markdown",
   "metadata": {},
   "source": [
    "## 構築の準備と手順"
   ]
  },
  {
   "cell_type": "markdown",
   "metadata": {},
   "source": [
    "### 事前準備\n",
    "\n",
    "#### VCP環境\n",
    "* VCCアクセストークン\n",
    "* VCノードに割り当てるIPアドレスまたはMACアドレス\n",
    "\n",
    "#### 証明書・DNS\n",
    "* CoursewareHubのサーバ証明書と秘密鍵\n",
    "* サーバ証明書に対応するDNS登録\n",
    "\n",
    "#### 認証方式別の追加準備\n",
    "\n",
    "**LTI連携利用時**\n",
    "* 連携対象のMoodle環境（LTI 1.3対応、バージョン4.1以降推奨）\n",
    "* CoursewareHubからMoodleへのネットワークアクセス\n",
    "* Moodleサイト管理者権限（外部ツール登録のため）\n",
    "\n",
    "**学認連携利用時**\n",
    "* 学認フェデレーション関連の準備（詳細は[学認連携設定ガイド](001-gakunin.ipynb)参照）"
   ]
  },
  {
   "cell_type": "markdown",
   "metadata": {},
   "source": [
    "### 構築の流れ\n",
    "\n",
    "1. **VCノード作成** → 基本インフラの準備\n",
    "2. **CoursewareHub基本セットアップ** → ローカル認証での基本機能\n",
    "3. **認証連携設定**（必要に応じて） → 学認・LTI連携の追加\n",
    "4. **運用設定** → 管理者設定、カスタムイメージ等"
   ]
  },
  {
   "cell_type": "markdown",
   "metadata": {},
   "source": [
    "### 構築手順\n",
    "\n",
    "#### 基本構築（ローカル認証）\n",
    "1. [011: VCノード作成--構成1](notebooks/011-VCノード作成-構成1.ipynb)\n",
    "2. [121: CoursewareHubセットアップ--ローカルユーザ認証](notebooks/121-CoursewareHubのセットアップ-ローカルユーザ認証.ipynb)\n",
    "\n",
    "#### LTI連携追加\n",
    "* [411: LTI認証連携設定](notebooks/411-LTI認証連携の設定を行う.ipynb)\n",
    "\n",
    "#### 学認連携追加\n",
    "詳細な手順は[学認連携設定ガイド](001-gakunin.ipynb)を参照してください。"
   ]
  },
  {
   "cell_type": "markdown",
   "metadata": {},
   "source": [
    "## 運用・管理"
   ]
  },
  {
   "cell_type": "markdown",
   "metadata": {},
   "source": [
    "### 日常運用\n",
    "\n",
    "#### 教材・環境管理\n",
    "\n",
    "* [731: 講義用Notebook環境のイメージ登録](notebooks/731-講義用Notebook環境のイメージ登録.ipynb) - カスタムイメージ管理\n",
    "\n",
    "#### 権限管理、設定変更\n",
    "\n",
    "* [721: 管理者の追加](notebooks/721-管理者の追加.ipynb) - 管理者ユーザの追加\n",
    "* [711: パラメータ変更](notebooks/711-CoursewareHubのパラメータ変更.ipynb) - 設定変更"
   ]
  },
  {
   "cell_type": "markdown",
   "metadata": {},
   "source": [
    "### スケーリング・リソース管理\n",
    "\n",
    "#### 自動スケーリング\n",
    "\n",
    "* [811: ノード数のスケジュール設定](notebooks/811-ノード数のスケジュール設定.ipynb) - 自動スケーリング設定\n",
    "* [812: スケジュール設定変更](notebooks/812-ノード数のスケジュール設定を変更する.ipynb)\n",
    "* [821: スケジュール設定削除](notebooks/821-ノード数のスケジュール設定を削除する.ipynb)\n",
    "\n",
    "#### 手動スケーリング\n",
    "\n",
    "* [921: workerノード追加](notebooks/921-workerノードの追加.ipynb)\n",
    "* [922: workerノード削除](notebooks/922-workerノードの削除.ipynb)\n",
    "\n",
    "#### リソース監視\n",
    "\n",
    "* [801: リソース可視化](notebooks/801-リソース可視化.ipynb) - Grafanaダッシュボード登録"
   ]
  },
  {
   "cell_type": "markdown",
   "metadata": {},
   "source": [
    "### セキュリティ・証明書管理\n",
    "\n",
    "* [741: サーバ証明書の更新](notebooks/741-サーバ証明書の更新.ipynb) - SSL証明書更新"
   ]
  },
  {
   "cell_type": "markdown",
   "metadata": {},
   "source": [
    "### システム操作\n",
    "\n",
    "* [911: ノードの停止](notebooks/911-ノードの停止.ipynb)\n",
    "* [912: ノードの再開](notebooks/912-ノードの再開.ipynb)\n",
    "* [991: CoursewareHub環境の削除](notebooks/991-CoursewareHub環境の削除.ipynb)"
   ]
  },
  {
   "cell_type": "markdown",
   "metadata": {},
   "source": [
    "## Notebookの関連図\n",
    "\n",
    "各Notebookの実行順序などの関係性を示す図を表示します。"
   ]
  },
  {
   "cell_type": "code",
   "execution_count": null,
   "metadata": {},
   "outputs": [],
   "source": [
    "from IPython.display import SVG\n",
    "%run scripts/nb_utils.py\n",
    "SVG(filename=generate_svg_diag(diag='images/notebooks.diag'))"
   ]
  },
  {
   "cell_type": "markdown",
   "metadata": {},
   "source": [
    "## 作業用Notebookの作成\n",
    "\n",
    "この節のセルを実行することで、テンプレートのNotebookから作業用Notebookを作成することができます。"
   ]
  },
  {
   "cell_type": "markdown",
   "metadata": {},
   "source": [
    "作業用Notebookを配置するディレクトリを指定してください。"
   ]
  },
  {
   "cell_type": "code",
   "execution_count": null,
   "metadata": {},
   "outputs": [],
   "source": [
    "WORK_DIR = 'work'"
   ]
  },
  {
   "cell_type": "markdown",
   "metadata": {},
   "source": [
    "以下のセルを実行すると、Notebook名のドロップダウンリストと「作業開始」ボタンが現れます。\n",
    "「作業開始」ボタンを押すと、テンプレートのNotebookをコピーし、そのNotebookを自動的にブラウザで開きます。\n",
    "Notebookの説明を確認しながら実行、適宜修正しながら実行していってください。\n",
    "\n",
    "> このNotebookを Shutdown した後に再度開いた場合、次のセルに既に表示されている「作業開始」ボタンが正しく動作しません。この節のセルをいったん unfreeze した後、セルを再実行してから「作業開始」ボタンをクリックして下さい。"
   ]
  },
  {
   "cell_type": "code",
   "execution_count": null,
   "metadata": {},
   "outputs": [],
   "source": [
    "from IPython.core.display import HTML\n",
    "%run scripts/nb_utils.py\n",
    "setup_nb_workdir(WORK_DIR)\n",
    "nb_pattern = \"[014789]*-*.ipynb\"\n",
    "HTML(generate_html_work_nbs(WORK_DIR, nb_pattern, \"cwh\"))"
   ]
  }
 ],
 "metadata": {
  "kernelspec": {
   "display_name": "Python 3",
   "language": "python",
   "name": "python3"
  },
  "language_info": {
   "file_extension": ".py",
   "mimetype": "text/x-python",
   "name": "python",
   "nbconvert_exporter": "python",
   "pygments_lexer": "ipython3",
   "version": "3.10.11"
  },
  "toc": {
   "base_numbering": 1,
   "nav_menu": {},
   "number_sections": true,
   "sideBar": true,
   "skip_h1_title": true,
   "title_cell": "Table of Contents",
   "title_sidebar": "Contents",
   "toc_cell": false,
   "toc_position": {},
   "toc_section_display": true,
   "toc_window_display": false
  }
 },
 "nbformat": 4,
 "nbformat_minor": 4
}
