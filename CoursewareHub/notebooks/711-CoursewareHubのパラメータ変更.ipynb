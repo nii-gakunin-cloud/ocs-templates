{
 "cells": [
  {
   "cell_type": "markdown",
   "metadata": {},
   "source": [
    "# CoursewareHubのパラメータ変更\n",
    "\n",
    "---\n",
    "\n",
    "構築したCoursewareHubのパラメータを変更します。"
   ]
  },
  {
   "cell_type": "markdown",
   "metadata": {},
   "source": [
    "## 概要\n"
   ]
  },
  {
   "cell_type": "markdown",
   "metadata": {},
   "source": [
    "### グループ名\n",
    "\n",
    "変更対象となるCoursewareHubを構築したときに指定したansibleのグループ名を指定します。"
   ]
  },
  {
   "cell_type": "markdown",
   "metadata": {},
   "source": [
    "ansibleのグループ名を確認するために `group_vars`ファイル名の一覧を表示します。"
   ]
  },
  {
   "cell_type": "code",
   "execution_count": null,
   "metadata": {},
   "outputs": [],
   "source": [
    "!ls -1 --hide all group_vars/"
   ]
  },
  {
   "cell_type": "markdown",
   "metadata": {},
   "source": [
    "上のセルの出力結果を参考にしてグループ名を次のセルに指定してください。"
   ]
  },
  {
   "cell_type": "code",
   "execution_count": null,
   "metadata": {
    "tags": [
     "vcp:parameters"
    ]
   },
   "outputs": [],
   "source": [
    "# (例)\n",
    "# ugroup_name = 'CoursewareHub'\n",
    "\n",
    "ugroup_name = "
   ]
  },
  {
   "cell_type": "markdown",
   "metadata": {
    "heading_collapsed": true
   },
   "source": [
    "### チェック\n",
    "\n",
    "指定されたグループ名が前提条件を満たしていることを確認します。"
   ]
  },
  {
   "cell_type": "markdown",
   "metadata": {
    "hidden": true
   },
   "source": [
    "Ansibleの設定ファイルの場所を環境変数に設定しておきます。"
   ]
  },
  {
   "cell_type": "code",
   "execution_count": null,
   "metadata": {
    "hidden": true
   },
   "outputs": [],
   "source": [
    "from pathlib import Path\n",
    "import os\n",
    "\n",
    "cfg_ansible = Path('ansible.cfg')\n",
    "if cfg_ansible.exists():\n",
    "    os.environ['ANSIBLE_CONFIG'] = str(cfg_ansible.resolve())"
   ]
  },
  {
   "cell_type": "markdown",
   "metadata": {
    "hidden": true
   },
   "source": [
    "構築対象となる各VCノードにアクセスできることを確認します。"
   ]
  },
  {
   "cell_type": "code",
   "execution_count": null,
   "metadata": {
    "hidden": true
   },
   "outputs": [],
   "source": [
    "target_hub = f'{ugroup_name}_manager'\n",
    "\n",
    "!ansible {target_hub} -m ping"
   ]
  },
  {
   "cell_type": "code",
   "execution_count": null,
   "metadata": {
    "hidden": true
   },
   "outputs": [],
   "source": [
    "target_nodes = f'{ugroup_name}_worker'\n",
    "\n",
    "!ansible {target_nodes} -m ping"
   ]
  },
  {
   "cell_type": "markdown",
   "metadata": {
    "hidden": true
   },
   "source": [
    "UnitGroup名に対応する group_varsファイルが存在していることを確認します。"
   ]
  },
  {
   "cell_type": "code",
   "execution_count": null,
   "metadata": {
    "hidden": true
   },
   "outputs": [],
   "source": [
    "!test -f group_vars/{ugroup_name}"
   ]
  },
  {
   "cell_type": "markdown",
   "metadata": {
    "hidden": true
   },
   "source": [
    "CoursewareHubのサービスが実行されていることを確認します。"
   ]
  },
  {
   "cell_type": "code",
   "execution_count": null,
   "metadata": {
    "hidden": true
   },
   "outputs": [],
   "source": [
    "cmd = \"docker stack services --format '{{.Replicas}}' coursewarehub | grep '1/1' | wc -l\"\n",
    "!ansible {target_hub} -m shell -a \"{{% raw %}} [ \\$({cmd}) -eq 4 ] {{% endraw %}}\""
   ]
  },
  {
   "cell_type": "markdown",
   "metadata": {
    "hidden": true
   },
   "source": [
    "group_varsから現在の設定値を読み込みます。"
   ]
  },
  {
   "cell_type": "code",
   "execution_count": null,
   "metadata": {
    "hidden": true
   },
   "outputs": [],
   "source": [
    "import yaml\n",
    "from pathlib import Path\n",
    "\n",
    "gvars_path = Path(f'group_vars/{ugroup_name}')\n",
    "with gvars_path.open() as f:\n",
    "    gvars = yaml.safe_load(f)"
   ]
  },
  {
   "cell_type": "markdown",
   "metadata": {},
   "source": [
    "## パラメータの更新"
   ]
  },
  {
   "cell_type": "markdown",
   "metadata": {},
   "source": [
    "### Single-user Server\n",
    "\n",
    "ユーザの利用環境となるSingle-user Serverに関するパラメータを指定します。"
   ]
  },
  {
   "cell_type": "markdown",
   "metadata": {},
   "source": [
    "#### ユーザインターフェース\n",
    "\n",
    "デフォルトの表示をClassic Notebook InterfaceとJupyterLabのどちらにするかを指定します。"
   ]
  },
  {
   "cell_type": "markdown",
   "metadata": {},
   "source": [
    "現在の設定値を確認します。次のセルを実行すると、どちらのユーザインターフェースが指定されているかが表示されます。"
   ]
  },
  {
   "cell_type": "code",
   "execution_count": null,
   "metadata": {},
   "outputs": [],
   "source": [
    "default_url = gvars.get(\"jupyterhub_singleuser_default_url\", \"/lab\")\n",
    "if  default_url == \"/tree\":\n",
    "    print(\"Classic Notebook Interface\")\n",
    "elif default_url == \"/lab\":\n",
    "    print(\"JupyterLab\")\n",
    "else:\n",
    "    raise RuntimeError(default_url)"
   ]
  },
  {
   "cell_type": "markdown",
   "metadata": {},
   "source": [
    "現在の設定値から変更する場合は次のセルのどちらかの行のコメントを外して実行してください。"
   ]
  },
  {
   "cell_type": "code",
   "execution_count": null,
   "metadata": {},
   "outputs": [],
   "source": [
    "# jupyterhub_singleuser_default_url = '/tree'   # Classic Notebook Interface\n",
    "# jupyterhub_singleuser_default_url = '/lab'     # JupyterLab"
   ]
  },
  {
   "cell_type": "markdown",
   "metadata": {},
   "source": [
    "#### リソース制限の設定\n",
    "\n",
    "single-user Serverに割り当てるリソースの制限に関する設定を行います。"
   ]
  },
  {
   "cell_type": "markdown",
   "metadata": {
    "heading_collapsed": true
   },
   "source": [
    "##### リソース制限の設定方法"
   ]
  },
  {
   "cell_type": "markdown",
   "metadata": {
    "hidden": true
   },
   "source": [
    "CoursewareHubではユーザの役割に応じて利用方法が異なることがあります。例えば講師権限ユーザーは採点を行う場合などに複数のNotebookを同時に開くことがあります。そのような利用を行う場合、一般の受講者ユーザよりも多くのリソースが必要となります。また講師権限を与えないが、採点の補助を行う役割をもつTA(Teaching Assistant)のユーザーがいる場合があります。それらのユーザには一般の受講者ユーザーとは異なるリソース制限設定を行うことが考えられます。\n",
    "\n",
    "これらのことに対応するためにCoursewareHubでは権限もしくは所属グループに応じたリソース制限の設定を行うことができます。"
   ]
  },
  {
   "cell_type": "markdown",
   "metadata": {
    "hidden": true
   },
   "source": [
    "リソース制限の設定はYAMLファイルで行います。YAMLファイルの記述例を以下に示します。\n",
    "\n",
    "```yaml\n",
    "groups:\n",
    "    student:\n",
    "        mem_limit: 1G\n",
    "        cpu_limit: 1.0\n",
    "        priority: 10\n",
    "    teaching-assistant:\n",
    "        mem_limit: 2G\n",
    "        cpu_limit: 2.0\n",
    "        mem_guarantee: 1G\n",
    "        cpu_guarantee: 0.5\n",
    "        priority: 1\n",
    "admin:\n",
    "    mem_limit: 5G\n",
    "default:\n",
    "    mem_limit: 1G\n",
    "    cpu_limit: 2.0\n",
    "    mem_guarantee: 1G\n",
    "    cpu_guarantee: 0.5\n",
    "```\n",
    "\n",
    "上の例では `student`グループ、`teaching-assistant`グループ、講師権限ユーザ(`admin`)、それ以外のユーザ（デフォルト設定）についてリソース制限の設定を行っています。複数のグループに所属するユーザについては、グループの`priority`が小さいほうのグループの設定が優先されます。上記の例では`student`グループ、`teaching-assistant`グループの両方に属するユーザは `priority`が`1`となっている`teaching-assistant`グループの設定が優先されます。"
   ]
  },
  {
   "cell_type": "markdown",
   "metadata": {
    "hidden": true
   },
   "source": [
    "コンテナに対するリソース制限設定として以下の４つの属性を指定することができます。\n",
    "\n",
    "* [mem_guarantee](https://jupyterhub.readthedocs.io/en/stable/api/spawner.html#jupyterhub.spawner.Spawner.mem_guarantee)\n",
    "    - コンテナの使用が保証されるメモリサイズの下限\n",
    "* [mem_limit](https://jupyterhub.readthedocs.io/en/stable/api/spawner.html#jupyterhub.spawner.Spawner.mem_limit)\n",
    "    - コンテナが使用可能なメモリのサイズの上限\n",
    "* [cpu_guarantee](https://jupyterhub.readthedocs.io/en/stable/api/spawner.html#jupyterhub.spawner.LocalProcessSpawner.cpu_guarantee)\n",
    "    - コンテナの使用が保証される CPU 使用率の下限\n",
    "* [cpu_limit](https://jupyterhub.readthedocs.io/en/stable/api/spawner.html#jupyterhub.spawner.LocalProcessSpawner.cpu_limit)\n",
    "    - コンテナが使用可能な CPU 使用率の上限"
   ]
  },
  {
   "cell_type": "markdown",
   "metadata": {},
   "source": [
    "##### リソース制限の設定を行うYAMLファイルを作成する"
   ]
  },
  {
   "cell_type": "markdown",
   "metadata": {},
   "source": [
    "現在、設定されている値を確認します。"
   ]
  },
  {
   "cell_type": "code",
   "execution_count": null,
   "metadata": {},
   "outputs": [],
   "source": [
    "!cat {gvars[\"rsc_yml\"]}"
   ]
  },
  {
   "cell_type": "markdown",
   "metadata": {},
   "source": [
    "設定されている値を変更する場合はこの後のセルの実行を続けてください。現在の設定のままで良い場合は、次の節までスキップしてください。"
   ]
  },
  {
   "cell_type": "markdown",
   "metadata": {},
   "source": [
    "リソースファイルを作成するディレクトリを作成します。"
   ]
  },
  {
   "cell_type": "code",
   "execution_count": null,
   "metadata": {},
   "outputs": [],
   "source": [
    "from tempfile import mkdtemp\n",
    "from pathlib import Path\n",
    "rsc_pdir = Path('./rsc').resolve()\n",
    "rsc_pdir.mkdir(exist_ok=True)\n",
    "rsc_dir = Path(mkdtemp(dir=rsc_pdir))"
   ]
  },
  {
   "cell_type": "markdown",
   "metadata": {},
   "source": [
    "YAMLファイルを作成します。\n",
    "\n",
    "リソース制限の設定に対応する内容に次のセルを変更してください。その後、セルを実行するとYAMLファイルが作成されます。"
   ]
  },
  {
   "cell_type": "code",
   "execution_count": null,
   "metadata": {},
   "outputs": [],
   "source": [
    "%%writefile {rsc_dir}/resource.yaml\n",
    "default:\n",
    "    mem_limit: 1G\n",
    "    mem_guarantee: 1G\n",
    "    cpu_limit: 1.0\n",
    "\n",
    "admin:\n",
    "    mem_limit: 4G\n",
    "    mem_guarantee: 1G\n",
    "    cpu_limit: 1.0\n",
    "\n",
    "groups:\n",
    "    staff:\n",
    "        mem_limit: 4G\n",
    "        mem_guarantee: 1G\n",
    "        cpu_limit: 1.0\n",
    "        priority: 1\n"
   ]
  },
  {
   "cell_type": "markdown",
   "metadata": {},
   "source": [
    "YAMLファイルの記述内容が妥当であるかをチェックします。\n",
    "\n",
    "次のセルが正常に実行できることを確認してください。実行結果がエラーとなった場合はYAMLファイルの記述内容に問題があります。上のセルを unfreeze して記述内容を修正して再実行してください。"
   ]
  },
  {
   "cell_type": "code",
   "execution_count": null,
   "metadata": {
    "scrolled": true
   },
   "outputs": [],
   "source": [
    "import jsonschema\n",
    "import json\n",
    "import yaml\n",
    "\n",
    "!ansible -c local {target_hub} -m get_url -a \\\n",
    "    'url=https://raw.githubusercontent.com/NII-cloud-operation/CoursewareHub-LC_platform/master/jupyterhub/resources-schema.json \\\n",
    "    dest={rsc_dir}/resources-schema.json'\n",
    "with (rsc_dir / 'resources-schema.json').open() as f:\n",
    "    resources_config_schema = json.load(f)\n",
    "\n",
    "with (rsc_dir / 'resource.yaml').open() as f:\n",
    "    resources_config = yaml.load(f, Loader=yaml.SafeLoader)\n",
    "    jsonschema.validate(resources_config, resources_config_schema)\n",
    "\n",
    "print(json.dumps(resources_config, indent=2))"
   ]
  },
  {
   "cell_type": "markdown",
   "metadata": {},
   "source": [
    "現在の設定との差分を確認します。"
   ]
  },
  {
   "cell_type": "code",
   "execution_count": null,
   "metadata": {},
   "outputs": [],
   "source": [
    "!diff -u {gvars[\"rsc_yml\"]} {rsc_dir}/resource.yaml || true"
   ]
  },
  {
   "cell_type": "markdown",
   "metadata": {},
   "source": [
    "### JupyterHub\n",
    "\n",
    "JupyterHubコンテナに設定するパラメータを指定します。"
   ]
  },
  {
   "cell_type": "markdown",
   "metadata": {},
   "source": [
    "#### Cullingの設定\n",
    "\n",
    "アイドル状態のSingle-user Serverを自動的に停止する機能に関するパラメータを指定します。"
   ]
  },
  {
   "cell_type": "markdown",
   "metadata": {},
   "source": [
    "ここで指定できるパラメータを以下に示します。\n",
    "\n",
    "|項目 | 説明 | デフォルト値|\n",
    "|:---|:---|--:|\n",
    "|cull_server              | アイドル状態のNotebookサーバーの停止を有効／無効化 (yes/no/0/1)| no |\n",
    "|cull_server_idle_timeout | アイドル状態のNotebookサーバーの停止までのタイムアウト時間(秒)     | 600 |\n",
    "|cull_server_max_age      | アイドル状態でなくてもNotebookサーバーを停止するまでの時間(秒)     | 0 |\n",
    "|cull_server_every       | Notebookのアイドル状態のタイムアウトのチェック間隔(秒)             | 0 |\n",
    "\n"
   ]
  },
  {
   "cell_type": "markdown",
   "metadata": {},
   "source": [
    "現在の設定値を確認します。"
   ]
  },
  {
   "cell_type": "code",
   "execution_count": null,
   "metadata": {},
   "outputs": [],
   "source": [
    "print(f\"\"\"cull_server={gvars.get('cull_server', 'no')}\n",
    "cull_server_idle_timeout={gvars.get('cull_server_idle_timeout', 600)}\n",
    "cull_server_max_age={gvars.get('cull_server_max_age', 0)}\n",
    "cull_server_every={gvars.get('cull_server_every', 0)}\"\"\")"
   ]
  },
  {
   "cell_type": "markdown",
   "metadata": {},
   "source": [
    "現在の設定値から変更する場合は、対応する以下のセルに値を指定して実行してください。設定値を変更する必要がないセルは実行せずにスキップしてください。"
   ]
  },
  {
   "cell_type": "code",
   "execution_count": null,
   "metadata": {},
   "outputs": [],
   "source": [
    "# (例)\n",
    "# cull_server = \"yes\"       # 自動停止を有効にする\n",
    "# cull_server = \"no\"        # 自動停止を無効にする\n",
    "\n",
    "cull_server = "
   ]
  },
  {
   "cell_type": "code",
   "execution_count": null,
   "metadata": {},
   "outputs": [],
   "source": [
    "# (例)\n",
    "# cull_server_idle_timeout = 10 * 60               # １０分間\n",
    "# cull_server_idle_timeout = 12 * 60 * 60      # 12時間\n",
    "\n",
    "cull_server_idle_timeout = "
   ]
  },
  {
   "cell_type": "code",
   "execution_count": null,
   "metadata": {},
   "outputs": [],
   "source": [
    "# (例)\n",
    "# cull_server_max_age = 0\n",
    "# cull_server_max_age = 24 * 60 * 60      # 24時間\n",
    "\n",
    "cull_server_max_age = "
   ]
  },
  {
   "cell_type": "code",
   "execution_count": null,
   "metadata": {},
   "outputs": [],
   "source": [
    "# (例)\n",
    "# cull_server_every = 0\n",
    "# cull_server_every = 60\n",
    "\n",
    "cull_server_every = "
   ]
  },
  {
   "cell_type": "markdown",
   "metadata": {},
   "source": [
    "#### JupyterHubのSpawnerの設定\n",
    "\n",
    "Single-user Serverの起動に関するパラメータを指定します。"
   ]
  },
  {
   "cell_type": "markdown",
   "metadata": {},
   "source": [
    "ここで指定できるパラメータを以下に示します。\n",
    "\n",
    "|項目 | 説明 | デフォルト値 |\n",
    "|:---|:---|---:|\n",
    "|concurrent_spawn_limit   | ユーザーコンテナ同時起動処理数                                 | 20 |\n",
    "|spawner_http_timeout     | ユーザーNotebookサービス 起動タイムアウト時間(秒)              | 120 |\n",
    "|spawner_start_timeout | アイドル状態のNotebookサーバーの停止までのタイムアウト時間(秒)  | 300 |"
   ]
  },
  {
   "cell_type": "markdown",
   "metadata": {},
   "source": [
    "現在の設定値を確認します。"
   ]
  },
  {
   "cell_type": "code",
   "execution_count": null,
   "metadata": {},
   "outputs": [],
   "source": [
    "print(f\"\"\"concurrent_spawn_limit={gvars.get('concurrent_spawn_limit', 20)}\n",
    "spawner_http_timeout={gvars.get('spawner_http_timeout', 120)}\n",
    "spawner_start_timeout={gvars.get('spawner_start_timeout', 300)}\"\"\")"
   ]
  },
  {
   "cell_type": "markdown",
   "metadata": {},
   "source": [
    "現在の設定値から変更する場合は、対応する以下のセルに値を指定して実行してください。設定値を変更する必要がないセルは実行せずにスキップしてください。"
   ]
  },
  {
   "cell_type": "code",
   "execution_count": null,
   "metadata": {},
   "outputs": [],
   "source": [
    "# (例)\n",
    "# concurrent_spawn_limit = 20\n",
    "\n",
    "concurrent_spawn_limit = "
   ]
  },
  {
   "cell_type": "code",
   "execution_count": null,
   "metadata": {},
   "outputs": [],
   "source": [
    "# (例)\n",
    "# spawner_http_timeout = 120\n",
    "\n",
    "spawner_http_timeout = "
   ]
  },
  {
   "cell_type": "code",
   "execution_count": null,
   "metadata": {},
   "outputs": [],
   "source": [
    "# (例)\n",
    "# spawner_start_timeout = 300\n",
    "\n",
    "spawner_start_timeout = "
   ]
  },
  {
   "cell_type": "markdown",
   "metadata": {},
   "source": [
    "#### ロゴ\n",
    "\n",
    "JupyterHubのロゴを更新します。変更しない場合は次の節までスキップしてください。"
   ]
  },
  {
   "cell_type": "markdown",
   "metadata": {},
   "source": [
    "現在の設定値を確認します。次のセルの実行結果に何も表示されない場合はデフォルトのロゴとなっています。"
   ]
  },
  {
   "cell_type": "code",
   "execution_count": null,
   "metadata": {},
   "outputs": [],
   "source": [
    "print(gvars.get(\"logo_file\", \"\"))"
   ]
  },
  {
   "cell_type": "markdown",
   "metadata": {},
   "source": [
    "このNotebookを実行している環境にロゴファイルを配置してそのパスを次のセルで指定してください。"
   ]
  },
  {
   "cell_type": "code",
   "execution_count": null,
   "metadata": {},
   "outputs": [],
   "source": [
    "# (例)\n",
    "# logo_file = 'jupyterhub-logo.png'\n",
    "\n",
    "logo_file = "
   ]
  },
  {
   "cell_type": "markdown",
   "metadata": {},
   "source": [
    "#### カスタマイズ\n",
    "\n",
    "JupyterHubのカスタマイズ用設定ファイルを更新します。変更しない場合は次の節までスキップしてください。"
   ]
  },
  {
   "cell_type": "markdown",
   "metadata": {},
   "source": [
    "現在の設定値を確認します。次のセルの実行結果に何も表示されない場合は設定ファイルのカスタマイズは行われていません。"
   ]
  },
  {
   "cell_type": "code",
   "execution_count": null,
   "metadata": {},
   "outputs": [],
   "source": [
    "for x in gvars.get(\"jupyterhub_config_list\", []):\n",
    "    print(x)"
   ]
  },
  {
   "cell_type": "markdown",
   "metadata": {},
   "source": [
    "用意した設定ファイルの名前を次のセルのリストに指定してください。既に指定しているファイルも有効にするのであれば、既存のファイル名も次のセルのリストに指定する必要があります。またファイル名の末尾は`.py`であるものだけが有効になります。"
   ]
  },
  {
   "cell_type": "code",
   "execution_count": null,
   "metadata": {},
   "outputs": [],
   "source": [
    "jupyterhub_config_list = [\n",
    "    # (例)\n",
    "    #  'share_jupyterhub_config.py',\n",
    "]"
   ]
  },
  {
   "cell_type": "markdown",
   "metadata": {},
   "source": [
    "設定ファイルの記述方法については以下のページなどを参照してください。\n",
    "\n",
    "* [JupyterHub - Configuration Reference](https://jupyterhub.readthedocs.io/en/stable/reference/config-reference.html)"
   ]
  },
  {
   "cell_type": "markdown",
   "metadata": {
    "heading_collapsed": true
   },
   "source": [
    "### パラメータの保存\n",
    "\n",
    "ここまで指定したパラメータを ansible の変数として `group_vars`ファイルに保存します。"
   ]
  },
  {
   "cell_type": "code",
   "execution_count": null,
   "metadata": {
    "hidden": true,
    "scrolled": true
   },
   "outputs": [],
   "source": [
    "import yaml\n",
    "from pathlib import Path\n",
    "\n",
    "gvars_path = Path(f'group_vars/{ugroup_name}')\n",
    "with gvars_path.open() as f:\n",
    "    gvars = yaml.safe_load(f)\n",
    "\n",
    "if 'rsc_dir' in vars() and (Path(rsc_dir) / 'resource.yaml').exists():\n",
    "    rsc_yml = str((Path(rsc_dir) / 'resource.yaml').resolve())\n",
    "\n",
    "if 'logo_file' in vars():\n",
    "    logo_file = str(Path(logo_file).resolve())\n",
    "if 'jupyterhub_config_list' in vars():\n",
    "    jupyterhub_config_list = [str(Path(x).resolve()) for x in jupyterhub_config_list]\n",
    "\n",
    "jupyterhub_param_names = [\n",
    "    'rsc_yml',\n",
    "    'cull_server',\n",
    "    'cull_server_idle_timeout',\n",
    "    'cull_server_max_age',\n",
    "    'cull_server_every',\n",
    "    'concurrent_spawn_limit',\n",
    "    'spawner_http_timeout',\n",
    "    'spawner_start_timeout',\n",
    "    'logo_file',\n",
    "    'jupyterhub_config_list',\n",
    "    'intermediate_certfile',\n",
    "    'jupyterhub_singleuser_default_url',\n",
    "]\n",
    "\n",
    "for name in jupyterhub_param_names:\n",
    "    if name in vars():\n",
    "        gvars[name] = vars()[name]\n",
    "\n",
    "gvars_path.rename(gvars_path.parent / f\".{gvars_path.stem}.old\")\n",
    "with gvars_path.open(mode='w') as f:\n",
    "    yaml.safe_dump(gvars, stream=f)\n",
    "    \n",
    "!cat group_vars/{ugroup_name}"
   ]
  },
  {
   "cell_type": "markdown",
   "metadata": {
    "heading_collapsed": true
   },
   "source": [
    "## コンテナの更新"
   ]
  },
  {
   "cell_type": "markdown",
   "metadata": {
    "hidden": true
   },
   "source": [
    "### JupyterHubコンテナに関するファイルの配置\n",
    "\n",
    "JupyterHubコンテナを実行するために必要となるファイルを配置します。"
   ]
  },
  {
   "cell_type": "markdown",
   "metadata": {
    "hidden": true
   },
   "source": [
    "ここで実行するplaybookが配置するファイル、ディレクトリを以下の表に示します。\n",
    "\n",
    "|パス|用途|\n",
    "|:---|:---|\n",
    "|/var/jupyterhub/resource.yaml|リソース割り当て設定ファイル|\n",
    "|/var/jupyterhub/logo.png|ロゴファイル|\n",
    "|/etc/jupyterhub/jupyterhub_config.d/|カスタマイズ設定ファイルディレクトリ|\n"
   ]
  },
  {
   "cell_type": "markdown",
   "metadata": {
    "hidden": true
   },
   "source": [
    "まず、実際に設定を変更する前にドライラン（チェックモード）でansibleを実行します。"
   ]
  },
  {
   "cell_type": "code",
   "execution_count": null,
   "metadata": {
    "hidden": true,
    "scrolled": true
   },
   "outputs": [],
   "source": [
    "!ansible-playbook -l {target_hub} -CDv playbooks/setup-jupyterhub.yml || true"
   ]
  },
  {
   "cell_type": "markdown",
   "metadata": {
    "hidden": true
   },
   "source": [
    "実際に設定変更を行います。"
   ]
  },
  {
   "cell_type": "code",
   "execution_count": null,
   "metadata": {
    "hidden": true,
    "scrolled": true
   },
   "outputs": [],
   "source": [
    "!ansible-playbook -l {target_hub} playbooks/setup-jupyterhub.yml"
   ]
  },
  {
   "cell_type": "markdown",
   "metadata": {
    "hidden": true
   },
   "source": [
    "配置したファイルを確認します。"
   ]
  },
  {
   "cell_type": "code",
   "execution_count": null,
   "metadata": {
    "hidden": true,
    "scrolled": true
   },
   "outputs": [],
   "source": [
    "!ansible {target_hub} -a 'tree -F {{{{jupyterhub_cfg_dir}}}}'"
   ]
  },
  {
   "cell_type": "code",
   "execution_count": null,
   "metadata": {
    "hidden": true
   },
   "outputs": [],
   "source": [
    "!ansible {target_hub} -a 'tree -F {{{{jupyterhub_var_dir}}}}'"
   ]
  },
  {
   "cell_type": "markdown",
   "metadata": {
    "hidden": true
   },
   "source": [
    "### docker-compose.yml の配置"
   ]
  },
  {
   "cell_type": "markdown",
   "metadata": {
    "hidden": true
   },
   "source": [
    "複数のコンテナに関する設定をまとめて扱うために `docker-compose.yml` を利用します。ここまでに指定されたパラメータに応じた`docker-compose.yml`を生成しmanagerノードの`/opt/coursewarehub/docker-compose.yml`に配置します。"
   ]
  },
  {
   "cell_type": "markdown",
   "metadata": {
    "hidden": true
   },
   "source": [
    "まずはチェックモードで確認を行います。"
   ]
  },
  {
   "cell_type": "code",
   "execution_count": null,
   "metadata": {
    "hidden": true,
    "scrolled": true
   },
   "outputs": [],
   "source": [
    "!ansible-playbook -l {target_hub} -CDv playbooks/deploy-docker-compose.yml || true"
   ]
  },
  {
   "cell_type": "markdown",
   "metadata": {
    "hidden": true
   },
   "source": [
    "実際に`docker-compose.yml`の配置を行います。"
   ]
  },
  {
   "cell_type": "code",
   "execution_count": null,
   "metadata": {
    "hidden": true,
    "scrolled": true
   },
   "outputs": [],
   "source": [
    "!ansible-playbook -l {target_hub} playbooks/deploy-docker-compose.yml"
   ]
  },
  {
   "cell_type": "markdown",
   "metadata": {
    "hidden": true
   },
   "source": [
    "配置したファイルを確認します。異なるパラメータで何度か配置を行った場合は、以前に配置したファイルがバックアップファイルとして残されています。"
   ]
  },
  {
   "cell_type": "code",
   "execution_count": null,
   "metadata": {
    "hidden": true
   },
   "outputs": [],
   "source": [
    "!ansible {target_hub} -b -a 'tree -F {{{{compose_dir}}}}'"
   ]
  },
  {
   "cell_type": "markdown",
   "metadata": {
    "hidden": true
   },
   "source": [
    "### コンテナの起動\n",
    "\n",
    "コンテナを起動します。"
   ]
  },
  {
   "cell_type": "markdown",
   "metadata": {
    "hidden": true
   },
   "source": [
    "起動中のコンテナを一度停止します。"
   ]
  },
  {
   "cell_type": "code",
   "execution_count": null,
   "metadata": {
    "hidden": true
   },
   "outputs": [],
   "source": [
    "!ansible {target_hub} -a 'docker stack rm coursewarehub'"
   ]
  },
  {
   "cell_type": "markdown",
   "metadata": {
    "hidden": true
   },
   "source": [
    "改めてコンテナを起動し直します。"
   ]
  },
  {
   "cell_type": "code",
   "execution_count": null,
   "metadata": {
    "hidden": true
   },
   "outputs": [],
   "source": [
    "!ansible {target_hub} -a 'chdir={{{{compose_dir}}}} \\\n",
    "    docker stack deploy -c docker-compose.yml coursewarehub'"
   ]
  },
  {
   "cell_type": "markdown",
   "metadata": {
    "hidden": true
   },
   "source": [
    "コンテナの起動状態を確認します。"
   ]
  },
  {
   "cell_type": "code",
   "execution_count": null,
   "metadata": {
    "hidden": true
   },
   "outputs": [],
   "source": [
    "!ansible {target_hub} -a 'docker service ls'"
   ]
  },
  {
   "cell_type": "markdown",
   "metadata": {
    "hidden": true
   },
   "source": [
    "全てのコンテナが起動するまで待ち合わせを行います。\n",
    "\n",
    "> 次のセルの実行結果がエラーとなる場合は、その後のセルを実行してコンテナの実行状況やログを確認してください。"
   ]
  },
  {
   "cell_type": "code",
   "execution_count": null,
   "metadata": {
    "hidden": true
   },
   "outputs": [],
   "source": [
    "import time\n",
    "import sys\n",
    "\n",
    "\n",
    "cmd = \"docker service ls --format '{{.Name}} {{.Replicas}}' | grep '1/1' | grep coursewarehub_ | wc -l\"\n",
    "cmd = \"docker stack services --format '{{.Replicas}}' coursewarehub | grep '1/1' | wc -l\"\n",
    "for retry in range(18):\n",
    "    time.sleep(10)\n",
    "    try:\n",
    "        !ansible {target_hub} -m shell -a \"{{% raw %}} [ \\$({cmd}) -eq 4 ] {{% endraw %}}\"\n",
    "        break\n",
    "    except:\n",
    "        print('retry', file=sys.stderr)\n",
    "else:\n",
    "    !ansible {target_hub} -a 'docker service ls'\n",
    "    raise RuntimeError(\"起動処理が完了しませんでした。\")"
   ]
  },
  {
   "cell_type": "markdown",
   "metadata": {
    "hidden": true
   },
   "source": [
    "`postgres` コンテナのログを表示してみます。"
   ]
  },
  {
   "cell_type": "code",
   "execution_count": null,
   "metadata": {
    "hidden": true,
    "scrolled": true
   },
   "outputs": [],
   "source": [
    "!ansible {target_hub} -a 'docker service logs coursewarehub_postgres'"
   ]
  },
  {
   "cell_type": "markdown",
   "metadata": {
    "hidden": true
   },
   "source": [
    "`jupyterhub` コンテナのログを表示してみます。\n",
    "\n",
    "> PostgreSQLに接続できないなどのエラーが表示されていないことを確認してください。"
   ]
  },
  {
   "cell_type": "code",
   "execution_count": null,
   "metadata": {
    "hidden": true,
    "scrolled": true
   },
   "outputs": [],
   "source": [
    "!ansible {target_hub} -a 'docker service logs coursewarehub_jupyterhub'"
   ]
  },
  {
   "cell_type": "markdown",
   "metadata": {
    "hidden": true
   },
   "source": [
    "`auth-proxy` コンテナのログを表示してみます。\n",
    "\n",
    "> 証明書設定に誤りがあるなどのエラーが表示されていないことを確認してください。"
   ]
  },
  {
   "cell_type": "code",
   "execution_count": null,
   "metadata": {
    "hidden": true,
    "scrolled": true
   },
   "outputs": [],
   "source": [
    "!ansible {target_hub} -a 'docker service logs coursewarehub_auth-proxy'"
   ]
  },
  {
   "cell_type": "markdown",
   "metadata": {},
   "source": [
    "## CoursewareHubにアクセスする\n",
    "\n",
    "パラメータを更新したCoursewareHub環境にアクセスして正しく動作していることを確認してください。"
   ]
  },
  {
   "cell_type": "markdown",
   "metadata": {},
   "source": [
    "次のセルを実行するとCoursewareHubのアドレスを表示します。"
   ]
  },
  {
   "cell_type": "code",
   "execution_count": null,
   "metadata": {},
   "outputs": [],
   "source": [
    "print(f'https://{gvars[\"master_fqdn\"]}')"
   ]
  }
 ],
 "metadata": {
  "kernelspec": {
   "display_name": "Python 3",
   "language": "python",
   "name": "python3"
  },
  "language_info": {
   "file_extension": ".py",
   "mimetype": "text/x-python",
   "name": "python",
   "nbconvert_exporter": "python",
   "pygments_lexer": "ipython3",
   "version": "3.10.4"
  },
  "toc": {
   "base_numbering": 1,
   "nav_menu": {},
   "number_sections": true,
   "sideBar": true,
   "skip_h1_title": true,
   "title_cell": "Table of Contents",
   "title_sidebar": "Contents",
   "toc_cell": false,
   "toc_position": {},
   "toc_section_display": true,
   "toc_window_display": true
  }
 },
 "nbformat": 4,
 "nbformat_minor": 2
}
