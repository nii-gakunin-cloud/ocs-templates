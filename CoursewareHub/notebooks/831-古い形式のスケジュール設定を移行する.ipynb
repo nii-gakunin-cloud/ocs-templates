{
 "cells": [
  {
   "cell_type": "markdown",
   "metadata": {},
   "source": [
    "# 古い形式のスケジュール設定を移行する\n",
    "---\n",
    "\n",
    "[2024/12/23](https://github.com/nii-gakunin-cloud/ocs-templates/releases/tag/release%2F23.11.0-20241223)以前のテンプレートにより設定された古い形式のスケジュール設定を新しい形式に移行する。"
   ]
  },
  {
   "cell_type": "markdown",
   "metadata": {},
   "source": [
    "## パラメータの指定\n",
    "\n",
    "新しいスケジュール定義に移行するために必要となるパラメータを指定します。"
   ]
  },
  {
   "cell_type": "markdown",
   "metadata": {},
   "source": [
    "### VCCアクセストークンの入力"
   ]
  },
  {
   "cell_type": "markdown",
   "metadata": {},
   "source": [
    "VCノードを操作するためにVC Controller(VCC)のアクセストークンが必要となります。\n",
    "次のセルを実行すると表示される入力枠にVCCのアクセストークンを入力してください。\n",
    "\n",
    "> アクセストークン入力後に Enter キーを押すことで入力が完了します。"
   ]
  },
  {
   "cell_type": "code",
   "execution_count": null,
   "metadata": {},
   "outputs": [],
   "source": [
    "from getpass import getpass\n",
    "vcc_access_token = getpass()"
   ]
  },
  {
   "cell_type": "markdown",
   "metadata": {},
   "source": [
    "入力されたアクセストークンが正しいことを、実際にVCCにアクセスして確認します。"
   ]
  },
  {
   "cell_type": "code",
   "execution_count": null,
   "metadata": {},
   "outputs": [],
   "source": [
    "from common import logsetting\n",
    "from vcpsdk.vcpsdk import VcpSDK\n",
    "\n",
    "vcp = VcpSDK(vcc_access_token)"
   ]
  },
  {
   "cell_type": "markdown",
   "metadata": {},
   "source": [
    "上のセルの実行結果がエラーとなり以下のようなメッセージが表示されている場合は、入力されたアクセストークンに誤りがあります。\n",
    "\n",
    "```\n",
    "config vc failed: http_status(403)\n",
    "2023/XX/XX XX:XX:XX UTC: VCPAuthException: xxxxxxx:token lookup is failed: permission denied\n",
    "```\n",
    "\n",
    "エラーになった場合はこの節のセルを全て `unfreeze` してから、もう一度アクセストークンの入力を行ってください。"
   ]
  },
  {
   "cell_type": "markdown",
   "metadata": {},
   "source": [
    "### Ansibleのグループ名\n",
    "\n",
    "対象となるスケジュール設定を行なったAnsibleのグループ名を指定します。"
   ]
  },
  {
   "cell_type": "markdown",
   "metadata": {},
   "source": [
    "グループ名を確認するために `group_vars` ファイル名の一覧を表示します。"
   ]
  },
  {
   "cell_type": "code",
   "execution_count": null,
   "metadata": {},
   "outputs": [],
   "source": [
    "!ls -1 --hide all group_vars/"
   ]
  },
  {
   "cell_type": "markdown",
   "metadata": {},
   "source": [
    "Ansibleのグループ名を指定してください。"
   ]
  },
  {
   "cell_type": "code",
   "execution_count": null,
   "metadata": {},
   "outputs": [],
   "source": [
    "# (例)\n",
    "# target_group = 'scaleout'\n",
    "\n",
    "target_group = "
   ]
  },
  {
   "cell_type": "markdown",
   "metadata": {
    "heading_collapsed": true
   },
   "source": [
    "#### チェック\n",
    "\n",
    "指定されたグループ名が妥当なものであることをチェックします。"
   ]
  },
  {
   "cell_type": "markdown",
   "metadata": {
    "hidden": true
   },
   "source": [
    "指定されたグループ名でスケジュール設定が行われ、かつ古い形式のスケジュール定義であることを確認します。"
   ]
  },
  {
   "cell_type": "code",
   "execution_count": null,
   "metadata": {
    "hidden": true
   },
   "outputs": [],
   "source": [
    "%run scripts/group.py\n",
    "gvars = load_group_vars(target_group)\n",
    "if (old_cfg := gvars.get(\"vcnode_schedule\")) is None:\n",
    "    raise RuntimeError(\"スケジュールの設定が行われていません\")\n",
    "if not isinstance(old_cfg, list):\n",
    "    raise RuntimeError(\"古い形式のスケジュール定義ではありません\")\n",
    "\n",
    "ugroup_name = gvars.get(\"ugroup_name\")\n",
    "if ugroup_name == target_group:\n",
    "    target_group = f'{ugroup_name}_manager'\n",
    "    group_name = ugroup_name\n",
    "else:\n",
    "    group_name = target_group"
   ]
  },
  {
   "cell_type": "markdown",
   "metadata": {
    "hidden": true
   },
   "source": [
    "スケジュール設定を行なっているノードにアクセスできることを確認します。"
   ]
  },
  {
   "cell_type": "code",
   "execution_count": null,
   "metadata": {
    "hidden": true
   },
   "outputs": [],
   "source": [
    "!ansible {target_group} -m ping"
   ]
  },
  {
   "cell_type": "markdown",
   "metadata": {
    "hidden": true
   },
   "source": [
    "managerノードにアクセスできることを確認します。"
   ]
  },
  {
   "cell_type": "code",
   "execution_count": null,
   "metadata": {
    "hidden": true
   },
   "outputs": [],
   "source": [
    "!ansible {ugroup_name}_manager -m ping\n",
    "!ansible {ugroup_name}_manager -b -a 'whoami'"
   ]
  },
  {
   "cell_type": "markdown",
   "metadata": {},
   "source": [
    "## 設定状況の確認\n",
    "\n",
    "現在設定されている状態を確認します。"
   ]
  },
  {
   "cell_type": "markdown",
   "metadata": {},
   "source": [
    "スケジュールの内容を表示するための環境を準備します。"
   ]
  },
  {
   "cell_type": "code",
   "execution_count": null,
   "metadata": {
    "scrolled": true
   },
   "outputs": [],
   "source": [
    "from pathlib import Path\n",
    "!ansible-playbook -v -e venv_dir={str(Path.cwd() / \".venv\")} playbooks/setup-local-venv.yml"
   ]
  },
  {
   "cell_type": "markdown",
   "metadata": {},
   "source": [
    "現在設定されているスケジュールの内容を表示します。"
   ]
  },
  {
   "cell_type": "code",
   "execution_count": null,
   "metadata": {
    "scrolled": true
   },
   "outputs": [],
   "source": [
    "%run scripts/schedule.py\n",
    "description_swarm_schedule(group_name)"
   ]
  },
  {
   "cell_type": "markdown",
   "metadata": {},
   "source": [
    "## 新しいスケジュール定義形式に移行する"
   ]
  },
  {
   "cell_type": "markdown",
   "metadata": {},
   "source": [
    "### 自動的な移行処理を利用する\n",
    "\n",
    "現在の定義内容を、機械的な処理により自動的に新しいスケジュール定義形式に移行します。"
   ]
  },
  {
   "cell_type": "markdown",
   "metadata": {},
   "source": [
    "現在の定義内容を新しい形式に変換できるかチェックします。次のセルを実行してエラーとならないことを確認してください。エラーとなる場合は「[3.2 手作業で移行を行う](#手作業で移行を行う)」で新しいスケジュール定義形式のパラメータを指定してください。"
   ]
  },
  {
   "cell_type": "code",
   "execution_count": null,
   "metadata": {},
   "outputs": [],
   "source": [
    "%run scripts/schedule.py\n",
    "ocs_vcnode_schedule = convert_to_ocs(group_name)"
   ]
  },
  {
   "cell_type": "markdown",
   "metadata": {},
   "source": [
    "新しいスケジュール定義形式に移行した内容でgroup_varsを更新します。"
   ]
  },
  {
   "cell_type": "code",
   "execution_count": null,
   "metadata": {},
   "outputs": [],
   "source": [
    "%run scripts/group.py\n",
    "if ocs_vcnode_schedule is not None:\n",
    "    ug_gvars = load_group_vars(ugroup_name)\n",
    "    !cp group_vars/{ugroup_name} group_vars/.{ugroup_name}.bak || true\n",
    "    update_group_vars(ugroup_name, vcnode_schedule=ocs_vcnode_schedule)\n",
    "    if ug_gvars.get(\"schedule\") == \"power-ctl\":\n",
    "        ug = vcp.get_ugroup(ugroup_name)\n",
    "        ut = ug.get_unit(\"worker\")\n",
    "        update_group_vars(ugroup_name, vcnode_all_ipaddress=ut.find_ip_addresses())\n",
    "    else:\n",
    "        update_group_vars(ugroup_name, vcnode_all_ipaddress=gvars.get(\"vcnode_all_ipaddress\"))\n",
    "    remove_group_vars(ugroup_name, \"schedule\", if_exists=True)\n",
    "    remove_group_vars(ugroup_name, \"vcnode_ctl_dir\", if_exists=True)\n",
    "    \n",
    "    if not group_name.startswith(ugroup_name):\n",
    "        !cp group_vars/{group_name} group_vars/.{group_name}.bak || true\n",
    "        remove_group_vars(group_name, \"vcnode_schedule\", if_exists=True)"
   ]
  },
  {
   "cell_type": "markdown",
   "metadata": {},
   "source": [
    "group_varsの差分を確認します。"
   ]
  },
  {
   "cell_type": "code",
   "execution_count": null,
   "metadata": {
    "scrolled": true
   },
   "outputs": [],
   "source": [
    "! ! diff -u group_vars/.{ugroup_name}.bak group_vars/{ugroup_name}"
   ]
  },
  {
   "cell_type": "markdown",
   "metadata": {},
   "source": [
    "変換後のスケジュール定義の内容を表示します。「[2. 設定状況の確認](#設定状況の確認)」で表示したものと同じ内容であることを確認してください。"
   ]
  },
  {
   "cell_type": "code",
   "execution_count": null,
   "metadata": {},
   "outputs": [],
   "source": [
    "%run scripts/schedule.py\n",
    "description_schedule(ugroup_name)"
   ]
  },
  {
   "cell_type": "markdown",
   "metadata": {
    "heading_collapsed": true
   },
   "source": [
    "### 手作業で移行を行う\n",
    "\n",
    "機械的な変換処理が利用できない場合は、新しい定義形式の各パラメータを指定する必要があります。\n",
    "\n",
    "> 「[3.1 自動的な移行処理を利用する](#自動的な移行処理を利用する)」でgroup_varsを更新した場合は、この節を実行する必要はありません。"
   ]
  },
  {
   "cell_type": "markdown",
   "metadata": {
    "hidden": true
   },
   "source": [
    "以下に記した内容に沿って、新たなスケジュール定義形式のパラメータを指定してください。\n",
    "\n",
    "\n",
    "* [3.2.1 スケジュールの指定](#スケジュールの指定)\n",
    "* [3.2.2 通常時のノード数](#通常時のノード数)\n",
    "* [3.2.3 新たなタスクの受付を停止する期間の指定](#新たなタスクの受付を停止する期間の指定)"
   ]
  },
  {
   "cell_type": "markdown",
   "metadata": {
    "hidden": true
   },
   "source": [
    "#### スケジュールの指定\n",
    "\n",
    "workerノード数を変更する期間とそのノード数を指定します。"
   ]
  },
  {
   "cell_type": "markdown",
   "metadata": {
    "hidden": true
   },
   "source": [
    "ひとつのスケジュールを定義するには、期間を`begin`(開始時刻)と`end`(終了時刻)で指定し、その期間におけるworkerノード数を`node_count`で指定します。この３つの値をpythonのdictで指定します。例えば毎日22:00から翌朝7:00まではworkerノード数を1にするスケジュールは以下のような値で定義します。\n",
    "\n",
    "```python\n",
    "{\n",
    "    \"begin\": \"22:00\",\n",
    "    \"end\": \"7:00\",\n",
    "    \"node_count\": 1,\n",
    "}\n",
    "```\n",
    "\n",
    "期間は日毎、週毎、月毎、年毎、特定日時の指定が行えます。\n",
    "\n",
    "日毎の場合は`22:00`のように`{時}:{分}`の形式で指定します。\n",
    "\n",
    "週毎の場合は`Sat 0:00`のように`{曜日} {時}:{分}`の形式で指定します。曜日は`Sunday`、`日曜日`、`Sun`、`日`のような値で指定を行います。\n",
    "\n",
    "月毎の場合は`1日 0:00`のように`{日} {時}:{分}`の形式で指定します。日は`1日`、`1`のような値で指定を行います。\n",
    "\n",
    "年毎の場合は`12/29 0:00`のように`{月}/{日} {時}:{分}`の形式で指定します。\n",
    "\n",
    "特定日時の場合は`2025/4/1 0:00`のように`{年}/{月}/{日} {時}:{分}`の形式で指定します。\n",
    "\n",
    "期間の開始と終了は同じ粒度（日毎、週毎、月毎、年毎、特定日時）を指定する必要があります。"
   ]
  },
  {
   "cell_type": "markdown",
   "metadata": {
    "hidden": true
   },
   "source": [
    "次のセルでスケジュール定義のリストを指定してください。リストの個々の要素は上で説明した`begin`, `end`, `node_count`をキーに持つdictになります。複数のスケジュール期間が重複した場合、リストで先に指定したものが優先されます。"
   ]
  },
  {
   "cell_type": "code",
   "execution_count": null,
   "metadata": {
    "hidden": true
   },
   "outputs": [],
   "source": [
    "schedule_list = [\n",
    "# (例)\n",
    "#    {\"begin\": \"9:00\", \"end\": \"16:00\", \"node_count\": 5},                                        # 日毎のスケジュール 9:00--16:00\n",
    "#    {\"begin\": \"Mon 9:00\", \"end\": \"Fri 20:00\", \"node_count\": 5},                          # 週毎のスケジュール 月曜日9:00--金曜日20:00\n",
    "#    {\"begin\": \"1日 0:00\", \"end\": \"1日 12:00\", \"node_count\": 5},                         # 月毎のスケジュール 1日0:00--1日12:00\n",
    "#    {\"begin\": \"12/29 0:00\", \"end\": \"1/4 0:00\", \"node_count\": 0},                     # 年毎のスケジュール 12月29日0:00--1月4日0:00\n",
    "#    {\"begin\": \"2025/4/1 0:00\", \"end\": \"2025/4/2 0:00\", \"node_count\": 5},   # 特定日時のスケジュール 2025/4月1日0:00--2025/4月2日0:00\n",
    "\n",
    "]"
   ]
  },
  {
   "cell_type": "markdown",
   "metadata": {
    "hidden": true
   },
   "source": [
    "リスト`schedule_list`に指定したスケジュールをチェックします。次のセルを実行してエラーにならないことを確認してください。指定されたスケジュールのリストに問題ない場合は設定した内容を表示します。意図したスケジュールが指定できていることを確認してください。"
   ]
  },
  {
   "cell_type": "code",
   "execution_count": null,
   "metadata": {
    "hidden": true
   },
   "outputs": [],
   "source": [
    "import sys\n",
    "ug_vars = load_group_vars(ugroup_name)\n",
    "schedule_down_type = \"power_down\" if ug_vars.get(\"schedule\") == \"power-ctl\" else \"deleted\"\n",
    "params = {name: value for name, value in vars().items() if name.startswith(\"schedule\")}\n",
    "try:\n",
    "    description_schedule(ugroup_name, params, \"node_count\")\n",
    "except ValueError as e:\n",
    "    print(f\"ERROR: {e}\", file=sys.stderr)\n",
    "    raise"
   ]
  },
  {
   "cell_type": "markdown",
   "metadata": {
    "hidden": true
   },
   "source": [
    "#### 通常時のノード数\n",
    "\n",
    "通常時のworkerノード数を次のセルで指定してください。"
   ]
  },
  {
   "cell_type": "code",
   "execution_count": null,
   "metadata": {
    "hidden": true
   },
   "outputs": [],
   "source": [
    "# (例)\n",
    "# schedule_default_nodes = 1\n",
    "\n",
    "schedule_default_nodes = "
   ]
  },
  {
   "cell_type": "markdown",
   "metadata": {
    "hidden": true
   },
   "source": [
    "#### 新たなタスクの受付を停止する期間の指定\n",
    "\n",
    "ノードを停止する前に、タスクの受付を停止し新たなコンテナを起動できないようにする期間を設けます。これは、Docker Swarmに対してノードのAvailabilityを`Pause`にすることで実現します。Availabilityを`Pause`にする時間を次のセルで指定してください。指定の単位は分となります。"
   ]
  },
  {
   "cell_type": "code",
   "execution_count": null,
   "metadata": {
    "hidden": true
   },
   "outputs": [],
   "source": [
    "# (例)\n",
    "# schedule_drain_time = 60\n",
    "\n",
    "schedule_drain_time = "
   ]
  },
  {
   "cell_type": "markdown",
   "metadata": {
    "hidden": true
   },
   "source": [
    "#### 設定内容の確認\n",
    "\n",
    "ここまで設定した内容を確認します。"
   ]
  },
  {
   "cell_type": "code",
   "execution_count": null,
   "metadata": {
    "hidden": true
   },
   "outputs": [],
   "source": [
    "params = {name: value for name, value in vars().items() if name.startswith(\"schedule\")}\n",
    "description_schedule(ugroup_name, params)"
   ]
  },
  {
   "cell_type": "markdown",
   "metadata": {
    "hidden": true
   },
   "source": [
    "#### group_varsの更新"
   ]
  },
  {
   "cell_type": "code",
   "execution_count": null,
   "metadata": {
    "hidden": true
   },
   "outputs": [],
   "source": [
    "%run scripts/schedule.py\n",
    "ug_gvars = load_group_vars(ugroup_name)\n",
    "!cp group_vars/{ugroup_name} group_vars/.{ugroup_name}.bak || true\n",
    "\n",
    "params = {name: value for name, value in vars().items() if name.startswith(\"schedule\")}\n",
    "update_group_vars(ugroup_name, vcnode_schedule=get_schedule_definition(ugroup_name, params))\n",
    "if ug_gvars.get(\"schedule\") == \"power-ctl\":\n",
    "    ug = vcp.get_ugroup(ugroup_name)\n",
    "    ut = ug.get_unit(\"worker\")\n",
    "    update_group_vars(ugroup_name, vcnode_all_ipaddress=ut.find_ip_addresses())\n",
    "else:\n",
    "    update_group_vars(ugroup_name, vcnode_all_ipaddress=gvars.get(\"vcnode_all_ipaddress\"))\n",
    "remove_group_vars(ugroup_name, \"schedule\", if_exists=True)\n",
    "remove_group_vars(ugroup_name, \"vcnode_ctl_dir\", if_exists=True)\n",
    "\n",
    "if not group_name.startswith(ugroup_name):\n",
    "    !cp group_vars/{group_name} group_vars/.{group_name}.bak || true\n",
    "    remove_group_vars(group_name, \"vcnode_schedule\", if_exists=True)"
   ]
  },
  {
   "cell_type": "markdown",
   "metadata": {},
   "source": [
    "## 配備\n",
    "\n",
    "新しい形式に変換したスケジュール定義を用いてスケジュール設定に関する資材をmanagerノードに配備します。"
   ]
  },
  {
   "cell_type": "markdown",
   "metadata": {},
   "source": [
    "次のセルを実行すると、現在実行中のsystemdタイマーの設定を無効化し、その後に新たな資材の配備とsystemdタイマーの開始を行います。"
   ]
  },
  {
   "cell_type": "code",
   "execution_count": null,
   "metadata": {},
   "outputs": [],
   "source": [
    "import json\n",
    "from pathlib import Path\n",
    "from tempfile import TemporaryDirectory\n",
    "\n",
    "with TemporaryDirectory() as work_dir:\n",
    "    vars_path = Path(work_dir) / \"params.json\"\n",
    "    with vars_path.open(mode=\"w\") as f:\n",
    "        json.dump({\"vcc_access_token\": vcc_access_token}, f)\n",
    "    !ansible-playbook -Dv -l {target_group} playbooks/disable-swarm-schedule.yml\n",
    "    !ansible-playbook -Dv -l {ugroup_name}_manager -e @{str(vars_path)} playbooks/setup-schedule.yml"
   ]
  },
  {
   "cell_type": "markdown",
   "metadata": {},
   "source": [
    "CoursewareHubのmanagerノードに配備した資材を確認します。"
   ]
  },
  {
   "cell_type": "code",
   "execution_count": null,
   "metadata": {},
   "outputs": [],
   "source": [
    "!ansible {ugroup_name}_manager -b -a 'tree chdir=/srv/worker-schedule'"
   ]
  },
  {
   "cell_type": "code",
   "execution_count": null,
   "metadata": {},
   "outputs": [],
   "source": [
    "!ansible {ugroup_name}_manager -b -m shell -a 'ls -l cwh* chdir=/etc/systemd/system/'"
   ]
  },
  {
   "cell_type": "markdown",
   "metadata": {},
   "source": [
    "開始したsystemdタイマーの状態を確認します。通常は１５分ごとにworkerノード状態の確認とノード数の更新を行います。"
   ]
  },
  {
   "cell_type": "code",
   "execution_count": null,
   "metadata": {},
   "outputs": [],
   "source": [
    "!ansible {ugroup_name}_manager -b -a 'systemctl list-timers cwh-worker-node.timer'"
   ]
  },
  {
   "cell_type": "markdown",
   "metadata": {},
   "source": [
    "不要となったAnsibleのグループを整理します。"
   ]
  },
  {
   "cell_type": "code",
   "execution_count": null,
   "metadata": {},
   "outputs": [],
   "source": [
    "if not group_name.startswith(ugroup_name):\n",
    "    !mv group_vars/{target_group} group_vars/.{target_group}.old\n",
    "    remove_group_from_inventory_yml(target_group)"
   ]
  }
 ],
 "metadata": {
  "kernelspec": {
   "display_name": "Python 3",
   "language": "python",
   "name": "python3"
  },
  "language_info": {
   "file_extension": ".py",
   "mimetype": "text/x-python",
   "name": "python",
   "nbconvert_exporter": "python",
   "pygments_lexer": "ipython3",
   "version": "3.10.4"
  },
  "toc": {
   "base_numbering": 1,
   "nav_menu": {},
   "number_sections": true,
   "sideBar": true,
   "skip_h1_title": true,
   "title_cell": "Table of Contents",
   "title_sidebar": "Contents",
   "toc_cell": false,
   "toc_position": {},
   "toc_section_display": true,
   "toc_window_display": true
  }
 },
 "nbformat": 4,
 "nbformat_minor": 2
}