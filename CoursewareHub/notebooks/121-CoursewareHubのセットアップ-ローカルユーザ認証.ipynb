{
 "cells": [
  {
   "cell_type": "markdown",
   "metadata": {},
   "source": [
    "# CoursewareHubのセットアップ--ローカルユーザ認証\n",
    "\n",
    "---\n",
    "\n",
    "VCノードにCoursewareHub環境を構築します。"
   ]
  },
  {
   "cell_type": "markdown",
   "metadata": {},
   "source": [
    "## 概要\n",
    "\n",
    "このNotebookで構築するCoursewareHubの構成要素を以下に示します。\n",
    "\n",
    "![構成](images/cw-121-01.png)\n",
    "\n",
    "各コンテナの役割や処理の詳細については https://github.com/NII-cloud-operation/CoursewareHub-LC_jupyterhub-deploy を参照してください。"
   ]
  },
  {
   "cell_type": "markdown",
   "metadata": {},
   "source": [
    "> このNotebookで構築するCoursewareHubでは学認との連携を行いません。ローカルユーザとして登録されているユーザからのみの利用を想定しています。"
   ]
  },
  {
   "cell_type": "markdown",
   "metadata": {},
   "source": [
    "### 事前に準備が必要となるものについて\n",
    "\n",
    "このNotebookを実行するにあたって、あらかじめ準備が必要となるものについて以下に記します。\n",
    "\n",
    "* CoursewareHubのサーバ証明書\n",
    "    - CoursewareHubではHTTPSによる公開を行うためサーバ証明書とその秘密鍵を準備する必要があります。また必要に応じてサーバ証明書の中間CA証明書を準備してください。"
   ]
  },
  {
   "cell_type": "markdown",
   "metadata": {},
   "source": [
    "### UnitGroup名\n",
    "\n",
    "CoursewareHubの構築環境となるVCPのUnitGroup名を指定します。"
   ]
  },
  {
   "cell_type": "markdown",
   "metadata": {},
   "source": [
    "VCノードを作成時に指定した値を確認するために `group_vars`ファイル名の一覧を表示します。"
   ]
  },
  {
   "cell_type": "code",
   "execution_count": null,
   "metadata": {},
   "outputs": [],
   "source": [
    "!ls -1 --hide all group_vars/"
   ]
  },
  {
   "cell_type": "markdown",
   "metadata": {},
   "source": [
    "上のセルの出力結果を参考にして、UnitGroup名を次のセルに指定してください。"
   ]
  },
  {
   "cell_type": "code",
   "execution_count": null,
   "metadata": {
    "tags": [
     "vcp:parameters"
    ]
   },
   "outputs": [],
   "source": [
    "# (例)\n",
    "# ugroup_name = 'CoursewareHub'\n",
    "\n",
    "ugroup_name = "
   ]
  },
  {
   "cell_type": "markdown",
   "metadata": {
    "heading_collapsed": true
   },
   "source": [
    "### チェック\n",
    "\n",
    "対象となるVCノードがAnsibleによって操作できることを確認します。"
   ]
  },
  {
   "cell_type": "markdown",
   "metadata": {
    "hidden": true
   },
   "source": [
    "Ansibleの設定ファイルの場所を環境変数に設定しておきます。"
   ]
  },
  {
   "cell_type": "code",
   "execution_count": null,
   "metadata": {
    "hidden": true
   },
   "outputs": [],
   "source": [
    "from pathlib import Path\n",
    "import os\n",
    "\n",
    "cfg_ansible = Path('ansible.cfg')\n",
    "if cfg_ansible.exists():\n",
    "    os.environ['ANSIBLE_CONFIG'] = str(cfg_ansible.resolve())"
   ]
  },
  {
   "cell_type": "markdown",
   "metadata": {
    "hidden": true
   },
   "source": [
    "構築対象となる各VCノードにアクセスできることを確認します。"
   ]
  },
  {
   "cell_type": "code",
   "execution_count": null,
   "metadata": {
    "hidden": true
   },
   "outputs": [],
   "source": [
    "target_hub = f'{ugroup_name}_manager'\n",
    "\n",
    "!ansible {target_hub} -m ping"
   ]
  },
  {
   "cell_type": "code",
   "execution_count": null,
   "metadata": {
    "hidden": true
   },
   "outputs": [],
   "source": [
    "target_nodes = f'{ugroup_name}_worker'\n",
    "\n",
    "!ansible {target_nodes} -m ping"
   ]
  },
  {
   "cell_type": "markdown",
   "metadata": {
    "hidden": true
   },
   "source": [
    "UnitGroup名に対応する group_varsファイルが存在していることを確認します。"
   ]
  },
  {
   "cell_type": "code",
   "execution_count": null,
   "metadata": {
    "hidden": true
   },
   "outputs": [],
   "source": [
    "!test -f group_vars/{ugroup_name}"
   ]
  },
  {
   "cell_type": "markdown",
   "metadata": {},
   "source": [
    "## パラメータの設定"
   ]
  },
  {
   "cell_type": "markdown",
   "metadata": {},
   "source": [
    "### Single-user Server\n",
    "\n",
    "ユーザの利用環境となるSingle-user Serverに関するパラメータを指定します。"
   ]
  },
  {
   "cell_type": "markdown",
   "metadata": {},
   "source": [
    "#### ユーザインターフェース\n",
    "\n",
    "Single-user Serverのデフォルト表示をClassic Notebook InterfaceとJupyterLabのどちらにするかを指定します。"
   ]
  },
  {
   "cell_type": "markdown",
   "metadata": {},
   "source": [
    "ユーザインターフェースの選択はデフォルトのURLにより指定します。次のセルで指定してください。指定しない場合は JupyterLab がデフォルトの表示となります"
   ]
  },
  {
   "cell_type": "code",
   "execution_count": null,
   "metadata": {},
   "outputs": [],
   "source": [
    "# (例)\n",
    "# jupyterhub_singleuser_default_url = '/tree'   # Classic Notebook Interface\n",
    "# jupyterhub_singleuser_default_url = '/lab'     # JupyterLab\n",
    "\n",
    "jupyterhub_singleuser_default_url = '/tree' "
   ]
  },
  {
   "cell_type": "markdown",
   "metadata": {},
   "source": [
    "#### リソース制限の設定\n",
    "\n",
    "Single-user Serverに割り当てるリソースの制限に関する設定を行います。"
   ]
  },
  {
   "cell_type": "markdown",
   "metadata": {},
   "source": [
    "##### リソース制限の設定方法"
   ]
  },
  {
   "cell_type": "markdown",
   "metadata": {},
   "source": [
    "CoursewareHubではユーザの役割に応じて利用方法が異なることがあります。例えば講師権限ユーザーは採点を行う場合などに複数のNotebookを同時に開くことがあります。そのような利用を行う場合、一般の受講者ユーザよりも多くのリソースが必要となります。また講師権限を与えないが、採点の補助を行う役割をもつTA(Teaching Assistant)のユーザーがいる場合があります。それらのユーザには一般の受講者ユーザーとは異なるリソース制限設定を行うことが考えられます。\n",
    "\n",
    "これらのことに対応するためにCoursewareHubでは権限もしくは所属グループに応じたリソース制限の設定を行うことができます。"
   ]
  },
  {
   "cell_type": "markdown",
   "metadata": {},
   "source": [
    "リソース制限の設定はYAMLファイルで行います。YAMLファイルの記述例を以下に示します。\n",
    "\n",
    "```yaml\n",
    "groups:\n",
    "    student:\n",
    "        mem_limit: 1G\n",
    "        cpu_limit: 1.0\n",
    "        priority: 10\n",
    "    teaching-assistant:\n",
    "        mem_limit: 2G\n",
    "        cpu_limit: 2.0\n",
    "        mem_guarantee: 1G\n",
    "        cpu_guarantee: 0.5\n",
    "        priority: 1\n",
    "admin:\n",
    "    mem_limit: 5G\n",
    "default:\n",
    "    mem_limit: 1G\n",
    "    cpu_limit: 2.0\n",
    "    mem_guarantee: 1G\n",
    "    cpu_guarantee: 0.5\n",
    "```\n",
    "\n",
    "上の例では `student`グループ、`teaching-assistant`グループ、講師権限ユーザ(`admin`)、それ以外のユーザ（デフォルト設定）についてリソース制限の設定を行っています。複数のグループに所属するユーザについては、グループの`priority`が小さいほうのグループの設定が優先されます。上記の例では`student`グループ、`teaching-assistant`グループの両方に属するユーザは `priority`が`1`となっている`teaching-assistant`グループの設定が優先されます。"
   ]
  },
  {
   "cell_type": "markdown",
   "metadata": {},
   "source": [
    "コンテナに対するリソース制限設定として以下の４つの属性を指定することができます。\n",
    "\n",
    "* [mem_guarantee](https://jupyterhub.readthedocs.io/en/stable/api/spawner.html#jupyterhub.spawner.Spawner.mem_guarantee)\n",
    "    - コンテナの使用が保証されるメモリサイズの下限\n",
    "* [mem_limit](https://jupyterhub.readthedocs.io/en/stable/api/spawner.html#jupyterhub.spawner.Spawner.mem_limit)\n",
    "    - コンテナが使用可能なメモリのサイズの上限\n",
    "* [cpu_guarantee](https://jupyterhub.readthedocs.io/en/stable/api/spawner.html#jupyterhub.spawner.LocalProcessSpawner.cpu_guarantee)\n",
    "    - コンテナの使用が保証される CPU 使用率の下限\n",
    "* [cpu_limit](https://jupyterhub.readthedocs.io/en/stable/api/spawner.html#jupyterhub.spawner.LocalProcessSpawner.cpu_limit)\n",
    "    - コンテナが使用可能な CPU 使用率の上限"
   ]
  },
  {
   "cell_type": "markdown",
   "metadata": {},
   "source": [
    "##### リソース制限の設定を行うYAMLファイルを作成する\n",
    "\n",
    "前節で説明したYAMLファイルを作成します。"
   ]
  },
  {
   "cell_type": "markdown",
   "metadata": {},
   "source": [
    "リソースファイルを作成するディレクトリを作成します。"
   ]
  },
  {
   "cell_type": "code",
   "execution_count": null,
   "metadata": {},
   "outputs": [],
   "source": [
    "from tempfile import mkdtemp\n",
    "from pathlib import Path\n",
    "rsc_pdir = Path('./rsc').absolute()\n",
    "rsc_pdir.mkdir(exist_ok=True)\n",
    "rsc_dir = Path(mkdtemp(dir=rsc_pdir))"
   ]
  },
  {
   "cell_type": "markdown",
   "metadata": {},
   "source": [
    "YAMLファイルを作成します。\n",
    "\n",
    "リソース制限の設定に対応する内容に次のセルを変更してください。その後、セルを実行するとYAMLファイルが作成されます。"
   ]
  },
  {
   "cell_type": "code",
   "execution_count": null,
   "metadata": {},
   "outputs": [],
   "source": [
    "%%writefile {rsc_dir}/resource.yaml\n",
    "default:\n",
    "    mem_limit: 1G\n",
    "    mem_guarantee: 1G\n",
    "    cpu_limit: 1.0\n",
    "\n",
    "admin:\n",
    "    mem_limit: 4G\n",
    "    mem_guarantee: 1G\n",
    "    cpu_limit: 1.0\n",
    "\n",
    "groups:\n",
    "    staff:\n",
    "        mem_limit: 4G\n",
    "        mem_guarantee: 1G\n",
    "        cpu_limit: 1.0\n",
    "        priority: 1\n"
   ]
  },
  {
   "cell_type": "markdown",
   "metadata": {},
   "source": [
    "YAMLファイルの記述内容が妥当であるかをチェックします。\n",
    "\n",
    "次のセルが正常に実行できることを確認してください。実行結果がエラーとなった場合はYAMLファイルの記述内容に問題があります。上のセルを unfreeze して記述内容を修正して再実行してください。"
   ]
  },
  {
   "cell_type": "code",
   "execution_count": null,
   "metadata": {
    "scrolled": true
   },
   "outputs": [],
   "source": [
    "import jsonschema\n",
    "import json\n",
    "import yaml\n",
    "\n",
    "!ansible -c local {target_hub} -m get_url -a \\\n",
    "    'url=https://raw.githubusercontent.com/NII-cloud-operation/CoursewareHub-LC_platform/master/jupyterhub/resources-schema.json \\\n",
    "    dest={rsc_dir}/resources-schema.json'\n",
    "with (rsc_dir / 'resources-schema.json').open() as f:\n",
    "    resources_config_schema = json.load(f)\n",
    "\n",
    "with (rsc_dir / 'resource.yaml').open() as f:\n",
    "    resources_config = yaml.load(f, Loader=yaml.SafeLoader)\n",
    "    jsonschema.validate(resources_config, resources_config_schema)\n",
    "\n",
    "print(json.dumps(resources_config, indent=2))"
   ]
  },
  {
   "cell_type": "markdown",
   "metadata": {},
   "source": [
    "### JupyterHub\n",
    "\n",
    "JupyterHubコンテナに設定するパラメータを指定します。"
   ]
  },
  {
   "cell_type": "markdown",
   "metadata": {},
   "source": [
    "#### Cullingの設定\n",
    "\n",
    "アイドル状態のsingle-userサーバーを自動的に停止する機能に関するパラメータを指定します。"
   ]
  },
  {
   "cell_type": "markdown",
   "metadata": {},
   "source": [
    "ここで指定できるパラメータを以下に示します。\n",
    "\n",
    "|項目 | 説明 | デフォルト値|\n",
    "|:---|:---|--:|\n",
    "|cull_server              | アイドル状態のNotebookサーバーの停止を有効／無効化 (yes/no/0/1)| no |\n",
    "|cull_server_idle_timeout | アイドル状態のNotebookサーバーの停止までのタイムアウト時間(秒)     | 600 |\n",
    "|cull_server_max_age      | アイドル状態でなくてもNotebookサーバーを停止するまでの時間(秒)     | 0 |\n",
    "|cull_server_every       | Notebookのアイドル状態のタイムアウトのチェック間隔(秒)             | 0 |\n",
    "\n"
   ]
  },
  {
   "cell_type": "markdown",
   "metadata": {},
   "source": [
    "各パラメータの値を以下のセルで指定してください。パラメータの設定が不要な場合は、そのセルを実行せずにスキップしてください。"
   ]
  },
  {
   "cell_type": "code",
   "execution_count": null,
   "metadata": {},
   "outputs": [],
   "source": [
    "# (例)\n",
    "# cull_server = \"yes\"       # 自動停止を有効にする\n",
    "# cull_server = \"no\"        # 自動停止を無効にする\n",
    "\n",
    "cull_server ="
   ]
  },
  {
   "cell_type": "code",
   "execution_count": null,
   "metadata": {},
   "outputs": [],
   "source": [
    "# (例)\n",
    "# cull_server_idle_timeout = 10 * 60               # １０分間\n",
    "# cull_server_idle_timeout = 12 * 60 * 60      # 12時間\n",
    "\n",
    "cull_server_idle_timeout = "
   ]
  },
  {
   "cell_type": "code",
   "execution_count": null,
   "metadata": {},
   "outputs": [],
   "source": [
    "# (例)\n",
    "# cull_server_max_age = 0\n",
    "# cull_server_max_age = 24 * 60 * 60      # 24時間\n",
    "\n",
    "cull_server_max_age = "
   ]
  },
  {
   "cell_type": "code",
   "execution_count": null,
   "metadata": {},
   "outputs": [],
   "source": [
    "# (例)\n",
    "# cull_server_every = 0\n",
    "# cull_server_every = 60\n",
    "\n",
    "cull_server_every = "
   ]
  },
  {
   "cell_type": "markdown",
   "metadata": {},
   "source": [
    "#### JupyterHubのSpawnerの設定\n",
    "\n",
    "single-userサーバーの起動に関するパラメータを指定します。"
   ]
  },
  {
   "cell_type": "markdown",
   "metadata": {},
   "source": [
    "ここで指定できるパラメータを以下に示します。\n",
    "\n",
    "|項目 | 説明 | デフォルト値 |\n",
    "|:---|:---|---:|\n",
    "|concurrent_spawn_limit   | ユーザーコンテナ同時起動処理数                                 | 20 |\n",
    "|spawner_http_timeout     | ユーザーNotebookサービス 起動タイムアウト時間(秒)              | 120 |\n",
    "|spawner_start_timeout | アイドル状態のNotebookサーバーの停止までのタイムアウト時間(秒)  | 300 |"
   ]
  },
  {
   "cell_type": "markdown",
   "metadata": {},
   "source": [
    "各パラメータの値を以下のセルで指定してください。パラメータの設定が不要な場合は、そのセルを実行せずにスキップしてください。"
   ]
  },
  {
   "cell_type": "code",
   "execution_count": null,
   "metadata": {},
   "outputs": [],
   "source": [
    "# (例)\n",
    "# concurrent_spawn_limit = 20\n",
    "\n",
    "concurrent_spawn_limit = "
   ]
  },
  {
   "cell_type": "code",
   "execution_count": null,
   "metadata": {},
   "outputs": [],
   "source": [
    "# (例)\n",
    "# spawner_http_timeout = 120\n",
    "\n",
    "spawner_http_timeout = "
   ]
  },
  {
   "cell_type": "code",
   "execution_count": null,
   "metadata": {},
   "outputs": [],
   "source": [
    "# (例)\n",
    "# spawner_start_timeout = 300\n",
    "\n",
    "spawner_start_timeout = "
   ]
  },
  {
   "cell_type": "markdown",
   "metadata": {},
   "source": [
    "#### ロゴ"
   ]
  },
  {
   "cell_type": "markdown",
   "metadata": {},
   "source": [
    "JupyterHubのロゴをカスタマイズしたい場合は、このNotebookを実行している環境にロゴファイルを配置してそのパスを次のセルで指定してください。指定しない場合はCoursewareHubのデフォルトのロゴが表示されます。"
   ]
  },
  {
   "cell_type": "code",
   "execution_count": null,
   "metadata": {},
   "outputs": [],
   "source": [
    "# (例)\n",
    "# logo_file = 'jupyterhub-logo.png'"
   ]
  },
  {
   "cell_type": "markdown",
   "metadata": {},
   "source": [
    "#### カスタマイズ\n",
    "\n",
    "JupyterHubの設定ファイルを追加することでJupyterHubコンテナの動作をカスタマイズすることがすることができます。"
   ]
  },
  {
   "cell_type": "markdown",
   "metadata": {},
   "source": [
    "例えば共有ディレクトリ機能を使う場合は、以下のような設定ファイルをこのNotebookを実行している環境に用意します。\n",
    "\n",
    "```python\n",
    "from docker.types import Mount\n",
    "\n",
    "extra_user_mounts = []\n",
    "extra_user_mounts.append(\n",
    "    Mount(\n",
    "        type=\"bind\",\n",
    "        target=\"{homedir}/share\",\n",
    "        source=\"/share\",\n",
    "        read_only=False,\n",
    "    )\n",
    ")\n",
    "c.CoursewareUserSpawner.extra_user_mounts = extra_user_mounts\n",
    "```\n",
    "\n",
    "そして、用意した設定ファイルの名前を次のセルのリストに追加してください。ファイル名の末尾は`.py`とする必要があります（ただし共有ディレクトリ機能を利用するには、この他にNFSの設定を行う必要があります）。"
   ]
  },
  {
   "cell_type": "code",
   "execution_count": null,
   "metadata": {},
   "outputs": [],
   "source": [
    "jupyterhub_config_list = [\n",
    "    # (例)\n",
    "    #  'share_jupyterhub_config.py',\n",
    "]"
   ]
  },
  {
   "cell_type": "markdown",
   "metadata": {},
   "source": [
    "設定ファイルの記述方法については以下のページなどを参照してください。\n",
    "\n",
    "* [JupyterHub - Configuration Reference](https://jupyterhub.readthedocs.io/en/stable/reference/config-reference.html)"
   ]
  },
  {
   "cell_type": "markdown",
   "metadata": {},
   "source": [
    "### データベース\n",
    "\n",
    "CoursewareHubのデータを保存するデータベース(PostgreSQL)に関するパラメータを指定します。"
   ]
  },
  {
   "cell_type": "markdown",
   "metadata": {},
   "source": [
    "CoursewareHubが利用するデータベース名を指定してください。"
   ]
  },
  {
   "cell_type": "code",
   "execution_count": null,
   "metadata": {},
   "outputs": [],
   "source": [
    "# (例)\n",
    "# db_name = 'jupyterhub'\n",
    "\n",
    "db_name = 'jupyterhub'"
   ]
  },
  {
   "cell_type": "markdown",
   "metadata": {},
   "source": [
    "データベースのユーザ名を指定してください。"
   ]
  },
  {
   "cell_type": "code",
   "execution_count": null,
   "metadata": {},
   "outputs": [],
   "source": [
    "# (例)\n",
    "# db_user = 'jhauth'\n",
    "\n",
    "db_user = 'jhauth'"
   ]
  },
  {
   "cell_type": "markdown",
   "metadata": {},
   "source": [
    "データベースに接続する際のパスワードを指定してください。"
   ]
  },
  {
   "cell_type": "code",
   "execution_count": null,
   "metadata": {
    "tags": [
     "vcp:skip",
     "vcp:parameters"
    ]
   },
   "outputs": [],
   "source": [
    "from getpass import getpass\n",
    "db_pass = getpass()"
   ]
  },
  {
   "cell_type": "markdown",
   "metadata": {},
   "source": [
    "### auth-proxy\n",
    "\n",
    "auth-proxyコンテナに関するパラメータを設定します。"
   ]
  },
  {
   "cell_type": "markdown",
   "metadata": {},
   "source": [
    "SimpleSAMLphp cronモジュールのトリガー用secret文字列を生成します。"
   ]
  },
  {
   "cell_type": "code",
   "execution_count": null,
   "metadata": {},
   "outputs": [],
   "source": [
    "import random\n",
    "import string\n",
    "cron_secret = ''.join([random.choice(\"abcdef\" + string.digits) for _ in range(32)])\n",
    "cron_secret"
   ]
  },
  {
   "cell_type": "markdown",
   "metadata": {},
   "source": [
    "### registry\n",
    "\n",
    "registryコンテナに関するパラメータを設定します。"
   ]
  },
  {
   "cell_type": "markdown",
   "metadata": {},
   "source": [
    "レジストリのパスワードを生成します。"
   ]
  },
  {
   "cell_type": "code",
   "execution_count": null,
   "metadata": {},
   "outputs": [],
   "source": [
    "registry_pass = ''.join([random.choice(\"abcdef\" + string.digits) for _ in range(32)])\n",
    "registry_pass"
   ]
  },
  {
   "cell_type": "markdown",
   "metadata": {},
   "source": [
    "### オーバーレイネットワークの指定"
   ]
  },
  {
   "cell_type": "markdown",
   "metadata": {},
   "source": [
    "CoursewareHubのコンテナはDocker Swarmのオーバーレイネットワークで実行されます。オーバーレイネットワークに割り当てるサブネットを指定します。\n",
    "\n",
    "> 基本的にはデフォルト値からの変更は不要ですが、VCノードに割り当てられているIPアドレスと範囲が重複している場合は他のサブネットに変更して下さい。"
   ]
  },
  {
   "cell_type": "code",
   "execution_count": null,
   "metadata": {},
   "outputs": [],
   "source": [
    "# (例)\n",
    "# cousewarehub_backend = '10.100.0.0/20'\n",
    "\n",
    "cousewarehub_backend = '10.100.0.0/20'"
   ]
  },
  {
   "cell_type": "markdown",
   "metadata": {},
   "source": [
    "指定されたサブネットがVCノードに割り当てられているIPアドレスと重なっていないことをチェックします。次のセルを実行してエラーとならないことを確認してください。"
   ]
  },
  {
   "cell_type": "code",
   "execution_count": null,
   "metadata": {
    "scrolled": true
   },
   "outputs": [],
   "source": [
    "!ansible-playbook -v -e cousewarehub_backend={cousewarehub_backend} -l {ugroup_name} \\\n",
    "    playbooks/check-subnet.yml"
   ]
  },
  {
   "cell_type": "markdown",
   "metadata": {},
   "source": [
    "### 管理者情報の設定"
   ]
  },
  {
   "cell_type": "markdown",
   "metadata": {},
   "source": [
    "管理者として登録するメールアドレスを指定します。CoursewareHubに管理者としてログインするにはここで指定したメールアドレスをログイン画面で入力します。"
   ]
  },
  {
   "cell_type": "code",
   "execution_count": null,
   "metadata": {
    "scrolled": true,
    "tags": [
     "vcp:skip",
     "vcp:parameters"
    ]
   },
   "outputs": [],
   "source": [
    "# (例)\n",
    "# teacher_email = 'admin@example.org'\n",
    "\n",
    "teacher_email = "
   ]
  },
  {
   "cell_type": "markdown",
   "metadata": {},
   "source": [
    "管理者のパスワードを入力してください。"
   ]
  },
  {
   "cell_type": "code",
   "execution_count": null,
   "metadata": {},
   "outputs": [],
   "source": [
    "from getpass import getpass\n",
    "teacher_password = getpass()"
   ]
  },
  {
   "cell_type": "markdown",
   "metadata": {
    "heading_collapsed": true
   },
   "source": [
    "### パラメータの保存\n",
    "\n",
    "ここまで指定したパラメータを ansible の変数として `group_vars`ファイルに保存します。"
   ]
  },
  {
   "cell_type": "code",
   "execution_count": null,
   "metadata": {
    "hidden": true,
    "scrolled": true
   },
   "outputs": [],
   "source": [
    "import yaml\n",
    "from pathlib import Path\n",
    "\n",
    "gvars_path = Path(f'group_vars/{ugroup_name}')\n",
    "with gvars_path.open() as f:\n",
    "    gvars = yaml.safe_load(f)\n",
    "\n",
    "teacher_email_list = gvars.get('teacher_email_list', [])\n",
    "teacher_email_list.append(teacher_email)\n",
    "teacher_email_list = list(set(teacher_email_list))\n",
    "\n",
    "gvars.update({\n",
    "    'rsc_yml': f'{rsc_dir}/resource.yaml',\n",
    "    'db_name': db_name,\n",
    "    'db_user': db_user,\n",
    "    'db_pass': db_pass,\n",
    "    'cousewarehub_backend': cousewarehub_backend,\n",
    "    'cron_secret': cron_secret,\n",
    "    'registry_pass': registry_pass,\n",
    "    'teacher_email_list': teacher_email_list,\n",
    "})\n",
    "\n",
    "if 'logo_file' in vars():\n",
    "    logo_file = str(Path(logo_file).resolve())\n",
    "if 'jupyterhub_config_list' in vars():\n",
    "    jupyterhub_config_list = [str(Path(x).resolve()) for x in jupyterhub_config_list]\n",
    "\n",
    "jupyterhub_param_names = [\n",
    "    'cull_server',\n",
    "    'cull_server_idle_timeout',\n",
    "    'cull_server_max_age',\n",
    "    'cull_server_every',\n",
    "    'concurrent_spawn_limit',\n",
    "    'spawner_http_timeout',\n",
    "    'spawner_start_timeout',\n",
    "    'logo_file',\n",
    "    'jupyterhub_config_list',\n",
    "    'intermediate_certfile',\n",
    "    'jupyterhub_singleuser_default_url',\n",
    "]\n",
    "\n",
    "for name in jupyterhub_param_names:\n",
    "    if name in vars():\n",
    "        gvars[name] = vars()[name]\n",
    "    elif 'name' in gvars:\n",
    "        del(gvars['name'])\n",
    "\n",
    "gvars_path.rename(gvars_path.parent / f\".{gvars_path.stem}.old\")\n",
    "with gvars_path.open(mode='w') as f:\n",
    "    yaml.safe_dump(gvars, stream=f)\n",
    "    \n",
    "!cat group_vars/{ugroup_name}"
   ]
  },
  {
   "cell_type": "markdown",
   "metadata": {},
   "source": [
    "## 証明書の配置\n",
    "\n",
    "auth-proxyコンテナで使用するサーバ証明書、秘密鍵などのファイルを配置します。出どころなどの情報を必要以上に残さないためにNotebookからの操作ではなく、ターミナルなどから **managerノードに ssh でログインして操作を行ってください**。"
   ]
  },
  {
   "cell_type": "markdown",
   "metadata": {},
   "source": [
    "manager ノードのIPアドレスを確認します。表示されたIPアドレスに対して、ユーザ名`vcp`と「VCノード作成」のNotebookで設定したSSHの秘密鍵を指定することで manager ノードにsshでログインできます。"
   ]
  },
  {
   "cell_type": "code",
   "execution_count": null,
   "metadata": {},
   "outputs": [],
   "source": [
    "!ansible {target_hub} -c local -m debug -a 'var=servicenet_ip'"
   ]
  },
  {
   "cell_type": "markdown",
   "metadata": {},
   "source": [
    "サーバ証明書、秘密鍵をそれぞれ以下のセルの実行結果に表示されるパスに配置してください。"
   ]
  },
  {
   "cell_type": "code",
   "execution_count": null,
   "metadata": {},
   "outputs": [],
   "source": [
    "!ansible {target_hub} -c local -m debug -a 'msg=\"/home/{{{{ansible_user}}}}/certs/{{{{master_fqdn}}}}.cer\"'"
   ]
  },
  {
   "cell_type": "code",
   "execution_count": null,
   "metadata": {},
   "outputs": [],
   "source": [
    "!ansible {target_hub} -c local -m debug -a 'msg=\"/home/{{{{ansible_user}}}}/certs/{{{{master_fqdn}}}}.key\"'"
   ]
  },
  {
   "cell_type": "markdown",
   "metadata": {},
   "source": [
    "中間CA証明書がある場合は、サーバ証明書と同じディレクトリに配置してください。中間CA証明書を配置した場合は次のセルにそのファイル名を指定してください。"
   ]
  },
  {
   "cell_type": "code",
   "execution_count": null,
   "metadata": {},
   "outputs": [],
   "source": [
    "# (例)\n",
    "# intermediate_certfile = 'nii-odca4g7rsa.cer'\n",
    "\n",
    "intermediate_certfile = "
   ]
  },
  {
   "cell_type": "markdown",
   "metadata": {},
   "source": [
    "また個別の中間CA証明書を配置するのではなく、中間CA証明書を連結したファイルを配置することもできます。その場合は次のセルの実行結果に表示されるパスに配置してください。中間CA証明書を連結したファイルが存在している場合は、個別の中間CA証明書を指定しても**連結したファイルの方が優先**されます。"
   ]
  },
  {
   "cell_type": "code",
   "execution_count": null,
   "metadata": {},
   "outputs": [],
   "source": [
    "!ansible {target_hub} -c local -m debug -a 'msg=\"/home/{{{{ansible_user}}}}/certs/{{{{master_fqdn}}}}.chained.cer\"'"
   ]
  },
  {
   "cell_type": "markdown",
   "metadata": {},
   "source": [
    "**証明書などの配置を行った後に、これ以降の操作を行ってください。**"
   ]
  },
  {
   "cell_type": "markdown",
   "metadata": {},
   "source": [
    "証明書が配置されたことを確認します。managerノードに配置されたサーバ証明書の内容を表示してみます。"
   ]
  },
  {
   "cell_type": "code",
   "execution_count": null,
   "metadata": {
    "scrolled": true
   },
   "outputs": [],
   "source": [
    "!ansible {target_hub} -a \\\n",
    "    'openssl x509 -noout -text -in certs/{{{{master_fqdn}}}}.cer'"
   ]
  },
  {
   "cell_type": "markdown",
   "metadata": {},
   "source": [
    "秘密鍵の内容を表示してみます。"
   ]
  },
  {
   "cell_type": "code",
   "execution_count": null,
   "metadata": {
    "scrolled": true
   },
   "outputs": [],
   "source": [
    "!ansible {target_hub} -m shell -a \\\n",
    "    'openssl ec -noout -text -in  certs/{{{{master_fqdn}}}}.key || \\\n",
    "    openssl rsa -noout -text -in  certs/{{{{master_fqdn}}}}.key'"
   ]
  },
  {
   "cell_type": "markdown",
   "metadata": {},
   "source": [
    "中間CA証明書を指定した場合は、そのファイルがmanagerノードに配置されていることを確認します。また、中間CA証明書のパスをgroup_varsに保存します。"
   ]
  },
  {
   "cell_type": "code",
   "execution_count": null,
   "metadata": {
    "scrolled": true
   },
   "outputs": [],
   "source": [
    "if \"intermediate_certfile\" in vars():\n",
    "    !ansible {target_hub} -a \\\n",
    "        'openssl x509 -noout -text -in certs/{intermediate_certfile}'\n",
    "    import yaml\n",
    "    from pathlib import Path\n",
    "    gvars_path = Path(f\"group_vars/{ugroup_name}\")\n",
    "    with gvars_path.open() as f:\n",
    "        gvars = yaml.safe_load(f)\n",
    "    gvars[\"intermediate_certfile\"] = intermediate_certfile\n",
    "    with gvars_path.open(mode='w') as f:\n",
    "        yaml.safe_dump(gvars, stream=f)"
   ]
  },
  {
   "cell_type": "markdown",
   "metadata": {},
   "source": [
    "中間CA証明書を連結したファイルを配置した場合は、その内容を確認します。"
   ]
  },
  {
   "cell_type": "code",
   "execution_count": null,
   "metadata": {},
   "outputs": [],
   "source": [
    "!ansible {target_hub} -m shell -a 'chdir=certs \\\n",
    "    test ! -f {{{{master_fqdn}}}}.chained.cer || \\\n",
    "    ( openssl crl2pkcs7 -nocrl -certfile {{{{master_fqdn}}}}.chained.cer | openssl pkcs7 -print_certs -noout )'"
   ]
  },
  {
   "cell_type": "markdown",
   "metadata": {
    "heading_collapsed": true
   },
   "source": [
    "## CoursewareHubのセットアップ\n",
    "\n",
    "CoursewareHubを構成するサービスやコンテナのセットアップを行います。"
   ]
  },
  {
   "cell_type": "markdown",
   "metadata": {
    "hidden": true
   },
   "source": [
    "### restuserのインストール\n",
    "\n",
    "JupyterHubコンテナからホスト環境のローカルユーザ情報を取得するために利用する[restuser](https://github.com/minrk/restuser)をインストールします。"
   ]
  },
  {
   "cell_type": "markdown",
   "metadata": {
    "hidden": true
   },
   "source": [
    " restuserはGitHubに公開されている\n",
    "[NII-cloud-operation/CoursewareHub-LC_jupyterhub-deploy](https://github.com/NII-cloud-operation/CoursewareHub-LC_jupyterhub-deploy)の中にあるansibleのタスクを利用してインストールします。"
   ]
  },
  {
   "cell_type": "markdown",
   "metadata": {
    "hidden": true
   },
   "source": [
    "まずGitHubから取得したファイルを格納する作業ディレクトリを作成します。"
   ]
  },
  {
   "cell_type": "code",
   "execution_count": null,
   "metadata": {
    "hidden": true
   },
   "outputs": [],
   "source": [
    "import tempfile\n",
    "work_dir = tempfile.mkdtemp()"
   ]
  },
  {
   "cell_type": "markdown",
   "metadata": {
    "hidden": true
   },
   "source": [
    "GitHubからソースツリーを取得します。"
   ]
  },
  {
   "cell_type": "code",
   "execution_count": null,
   "metadata": {
    "hidden": true
   },
   "outputs": [],
   "source": [
    "!git clone https://github.com/NII-cloud-operation/CoursewareHub-LC_jupyterhub-deploy.git {work_dir}/jupyterhub-deploy"
   ]
  },
  {
   "cell_type": "markdown",
   "metadata": {
    "hidden": true
   },
   "source": [
    "直近のコミットログを確認します。"
   ]
  },
  {
   "cell_type": "code",
   "execution_count": null,
   "metadata": {
    "hidden": true,
    "scrolled": true
   },
   "outputs": [],
   "source": [
    "!cd {work_dir}/jupyterhub-deploy && git log -n 5"
   ]
  },
  {
   "cell_type": "markdown",
   "metadata": {
    "hidden": true
   },
   "source": [
    "restuserに関するroleをコピーします。"
   ]
  },
  {
   "cell_type": "code",
   "execution_count": null,
   "metadata": {
    "hidden": true
   },
   "outputs": [],
   "source": [
    "!cp -a {work_dir}/jupyterhub-deploy/roles/restuser playbooks/roles/"
   ]
  },
  {
   "cell_type": "markdown",
   "metadata": {
    "hidden": true
   },
   "source": [
    "取得したroleを利用してrestuserのインストールを行います。まず、実際の変更を行う前にドライラン（チェックモード）でPlaybookを実行します。"
   ]
  },
  {
   "cell_type": "code",
   "execution_count": null,
   "metadata": {
    "hidden": true,
    "scrolled": true
   },
   "outputs": [],
   "source": [
    "!ansible-playbook -l {target_hub} -CDv playbooks/install-restuser.yml || true"
   ]
  },
  {
   "cell_type": "markdown",
   "metadata": {
    "hidden": true
   },
   "source": [
    "実際にrestuserのインストールを行います。"
   ]
  },
  {
   "cell_type": "code",
   "execution_count": null,
   "metadata": {
    "hidden": true,
    "scrolled": true
   },
   "outputs": [],
   "source": [
    "!ansible-playbook -l {target_hub} playbooks/install-restuser.yml"
   ]
  },
  {
   "cell_type": "markdown",
   "metadata": {
    "hidden": true
   },
   "source": [
    "インストールされたファイルを確認します。"
   ]
  },
  {
   "cell_type": "code",
   "execution_count": null,
   "metadata": {
    "hidden": true
   },
   "outputs": [],
   "source": [
    "!ansible {target_hub} -a 'tree /srv/restuser'"
   ]
  },
  {
   "cell_type": "markdown",
   "metadata": {
    "hidden": true
   },
   "source": [
    "restuserはベースコンテナ環境のサービスとしてインストールされています。restuserサービスの状態を確認します。次のセルの出力結果に`Active: active (running)` と表示されることを確認してください。"
   ]
  },
  {
   "cell_type": "code",
   "execution_count": null,
   "metadata": {
    "hidden": true
   },
   "outputs": [],
   "source": [
    "!ansible {target_hub} -b -a 'systemctl status restuser'"
   ]
  },
  {
   "cell_type": "markdown",
   "metadata": {
    "hidden": true
   },
   "source": [
    "`restuser`によってユーザ情報が取得できることを確認します。HTTPの応答がOK(200)となり、以下の情報が取得できることを確認してください。\n",
    "\n",
    "```\n",
    "{\"name\": \"vcp\", \"dir\": \"/home/vcp\", \"shell\": \"/bin/bash\", \"uid\": 1000, \"gid\": 1000}\n",
    "```"
   ]
  },
  {
   "cell_type": "code",
   "execution_count": null,
   "metadata": {
    "hidden": true
   },
   "outputs": [],
   "source": [
    "!ansible {target_hub} -b \\\n",
    "    -a 'curl -sf --unix-socket /var/run/restuser.sock -X POST localhost/{{{{ansible_user}}}}'"
   ]
  },
  {
   "cell_type": "markdown",
   "metadata": {
    "hidden": true
   },
   "source": [
    "作業ディレクトリを削除します。"
   ]
  },
  {
   "cell_type": "code",
   "execution_count": null,
   "metadata": {
    "hidden": true
   },
   "outputs": [],
   "source": [
    "!rm -rf {work_dir}"
   ]
  },
  {
   "cell_type": "markdown",
   "metadata": {
    "hidden": true
   },
   "source": [
    "### JupyterHubコンテナに関するファイルの配置\n",
    "\n",
    "JupyterHubコンテナを実行するために必要となるファイルを配置します。"
   ]
  },
  {
   "cell_type": "markdown",
   "metadata": {
    "hidden": true
   },
   "source": [
    "ここで実行するplaybookが配置するファイル、ディレクトリを以下の表に示します。\n",
    "\n",
    "|パス|用途|\n",
    "|:---|:---|\n",
    "|/var/jupyterhub/resource.yaml|リソース割り当て設定ファイル|\n",
    "|/var/jupyterhub/logo.png|ロゴファイル|\n",
    "|/etc/jupyterhub/jupyterhub_config.d/|カスタマイズ設定ファイルディレクトリ|\n"
   ]
  },
  {
   "cell_type": "markdown",
   "metadata": {
    "hidden": true
   },
   "source": [
    "まず、実際に設定を変更する前にドライラン（チェックモード）でansibleを実行します。"
   ]
  },
  {
   "cell_type": "code",
   "execution_count": null,
   "metadata": {
    "hidden": true,
    "scrolled": true
   },
   "outputs": [],
   "source": [
    "!ansible-playbook -l {target_hub} -CDv playbooks/setup-jupyterhub.yml || true"
   ]
  },
  {
   "cell_type": "markdown",
   "metadata": {
    "hidden": true
   },
   "source": [
    "実際に設定変更を行います。"
   ]
  },
  {
   "cell_type": "code",
   "execution_count": null,
   "metadata": {
    "hidden": true,
    "scrolled": true
   },
   "outputs": [],
   "source": [
    "!ansible-playbook -l {target_hub} playbooks/setup-jupyterhub.yml"
   ]
  },
  {
   "cell_type": "markdown",
   "metadata": {
    "hidden": true
   },
   "source": [
    "配置したファイルを確認します。"
   ]
  },
  {
   "cell_type": "code",
   "execution_count": null,
   "metadata": {
    "hidden": true,
    "scrolled": true
   },
   "outputs": [],
   "source": [
    "!ansible {target_hub} -a 'tree -F {{{{jupyterhub_cfg_dir}}}}'"
   ]
  },
  {
   "cell_type": "code",
   "execution_count": null,
   "metadata": {
    "hidden": true
   },
   "outputs": [],
   "source": [
    "!ansible {target_hub} -a 'tree -F {{{{jupyterhub_var_dir}}}}'"
   ]
  },
  {
   "cell_type": "markdown",
   "metadata": {
    "hidden": true
   },
   "source": [
    "### PostgreSQLコンテナに関するファイルの配置\n",
    "\n",
    "PostgreSQLコンテナに関するファイル、ディレクトリのセットアップを行います。"
   ]
  },
  {
   "cell_type": "markdown",
   "metadata": {
    "hidden": true
   },
   "source": [
    "ここで実行するplaybookが配置するファイル、ディレクトリを以下の表に示します。\n",
    "\n",
    "|パス|用途|\n",
    "|:---|:---|\n",
    "|/jupyter/psql/data/|データディレクトリ|\n",
    "|/jupyter/psql/create.sql|初期実行SQLファイル|\n"
   ]
  },
  {
   "cell_type": "markdown",
   "metadata": {
    "hidden": true
   },
   "source": [
    "まず、実際に設定を変更する前にドライラン（チェックモード）でansibleを実行します。"
   ]
  },
  {
   "cell_type": "code",
   "execution_count": null,
   "metadata": {
    "hidden": true,
    "scrolled": true
   },
   "outputs": [],
   "source": [
    "!ansible-playbook -l {target_hub} -CDv playbooks/setup-postgres.yml"
   ]
  },
  {
   "cell_type": "markdown",
   "metadata": {
    "hidden": true
   },
   "source": [
    "実際に設定変更を行います。"
   ]
  },
  {
   "cell_type": "code",
   "execution_count": null,
   "metadata": {
    "hidden": true,
    "scrolled": true
   },
   "outputs": [],
   "source": [
    "!ansible-playbook -l {target_hub} playbooks/setup-postgres.yml"
   ]
  },
  {
   "cell_type": "markdown",
   "metadata": {
    "hidden": true
   },
   "source": [
    "配置したファイルを確認します。"
   ]
  },
  {
   "cell_type": "code",
   "execution_count": null,
   "metadata": {
    "hidden": true
   },
   "outputs": [],
   "source": [
    "!ansible {target_hub} -b -a 'tree -F {{{{postgres_dir}}}}'"
   ]
  },
  {
   "cell_type": "markdown",
   "metadata": {
    "hidden": true
   },
   "source": [
    "### auth-proxyコンテナに関するファイルの配置\n",
    "\n",
    "auth-proxyコンテナを実行するために必要となるファイルを配置します。"
   ]
  },
  {
   "cell_type": "markdown",
   "metadata": {
    "hidden": true
   },
   "source": [
    "ここで実行するplaybookが配置するファイル、ディレクトリを以下の表に示します。\n",
    "\n",
    "|パス|用途|\n",
    "|:---|:---|\n",
    "|/etc/jupyterhub/hub-const.php|auth-proxyコンテナの設定ファイル|\n",
    "|/etc/jupyterhub/nginx/certs/auth-proxy.chained.cer|nginxで利用するサーバ証明書|\n",
    "|/etc/jupyterhub/nginx/certs/auth-proxy.key|nginxで利用する秘密鍵|\n",
    "|/etc/jupyterhub/simplesamlphp/cert/auth-proxy.cer|simplesamlphpで利用する証明書|\n",
    "|/etc/jupyterhub/simplesamlphp/cert/auth-proxy.key|simplesamlphpで利用する秘密鍵|\n",
    "|/etc/jupyterhub/simplesamlphp/metadata/xml/|学認連携を行う場合にメタデータを配置するディレクトリ|\n",
    "|/etc/jupyterhub/lti.json|LTI連携に関する設定ファイル|\n",
    "|/etc/jupyterhub/lti/private.key|LTI連携で利用する秘密鍵|\n"
   ]
  },
  {
   "cell_type": "markdown",
   "metadata": {
    "hidden": true
   },
   "source": [
    "まず、実際に設定を変更する前にドライラン（チェックモード）でansibleを実行します。"
   ]
  },
  {
   "cell_type": "code",
   "execution_count": null,
   "metadata": {
    "hidden": true,
    "scrolled": true
   },
   "outputs": [],
   "source": [
    "!ansible-playbook -l {target_hub} -CDv playbooks/setup-auth-proxy.yml || true"
   ]
  },
  {
   "cell_type": "markdown",
   "metadata": {
    "hidden": true
   },
   "source": [
    "実際に設定変更を行います。"
   ]
  },
  {
   "cell_type": "code",
   "execution_count": null,
   "metadata": {
    "hidden": true,
    "scrolled": true
   },
   "outputs": [],
   "source": [
    "!ansible-playbook -v -l {target_hub} playbooks/setup-auth-proxy.yml"
   ]
  },
  {
   "cell_type": "markdown",
   "metadata": {
    "hidden": true
   },
   "source": [
    "配置したファイルを確認します。JupyterHubコンテナのために配置したファイル、ディレクトリも含まれています。"
   ]
  },
  {
   "cell_type": "code",
   "execution_count": null,
   "metadata": {
    "hidden": true
   },
   "outputs": [],
   "source": [
    "!ansible {target_hub} -a 'tree -F {{{{jupyterhub_cfg_dir}}}}'"
   ]
  },
  {
   "cell_type": "markdown",
   "metadata": {
    "hidden": true
   },
   "source": [
    "### registryコンテナに関するファイルの配置\n",
    "\n",
    "registryコンテナを実行するために必要となるファイルを配置します。"
   ]
  },
  {
   "cell_type": "markdown",
   "metadata": {
    "hidden": true
   },
   "source": [
    "ここで実行するplaybookが配置するファイル、ディレクトリを以下の表に示します。\n",
    "\n",
    "|パス|用途|\n",
    "|:---|:---|\n",
    "|/jupyter/registry/data/|データディレクトリ|\n",
    "|/jupyter/registry/htpasswd|認証に関する設定ファイル|\n"
   ]
  },
  {
   "cell_type": "markdown",
   "metadata": {
    "hidden": true
   },
   "source": [
    "まず、実際に設定を変更する前にドライラン（チェックモード）でansibleを実行します。"
   ]
  },
  {
   "cell_type": "code",
   "execution_count": null,
   "metadata": {
    "hidden": true,
    "scrolled": true
   },
   "outputs": [],
   "source": [
    "!ansible-playbook -l {target_hub} -CDv playbooks/setup-registry.yml"
   ]
  },
  {
   "cell_type": "markdown",
   "metadata": {
    "hidden": true
   },
   "source": [
    "実際に設定変更を行います。"
   ]
  },
  {
   "cell_type": "code",
   "execution_count": null,
   "metadata": {
    "hidden": true,
    "scrolled": true
   },
   "outputs": [],
   "source": [
    "!ansible-playbook -l {target_hub} -v playbooks/setup-registry.yml"
   ]
  },
  {
   "cell_type": "markdown",
   "metadata": {
    "hidden": true
   },
   "source": [
    "配置したファイルを確認します。"
   ]
  },
  {
   "cell_type": "code",
   "execution_count": null,
   "metadata": {
    "hidden": true
   },
   "outputs": [],
   "source": [
    "!ansible {target_hub} -b -a 'tree -F -L 1 {{{{registry_dir}}}}'"
   ]
  },
  {
   "cell_type": "markdown",
   "metadata": {
    "heading_collapsed": true
   },
   "source": [
    "## コンテナの起動"
   ]
  },
  {
   "cell_type": "markdown",
   "metadata": {
    "hidden": true
   },
   "source": [
    "### docker-compose.yml の配置"
   ]
  },
  {
   "cell_type": "markdown",
   "metadata": {
    "hidden": true
   },
   "source": [
    "複数のコンテナに関する設定をまとめて扱うために `docker-compose.yml` を利用します。ここまでに指定されたパラメータに応じた`docker-compose.yml`を生成しmanagerノードの`/opt/coursewarehub/docker-compose.yml`に配置します。"
   ]
  },
  {
   "cell_type": "markdown",
   "metadata": {
    "hidden": true
   },
   "source": [
    "まずはチェックモードで確認を行います。"
   ]
  },
  {
   "cell_type": "code",
   "execution_count": null,
   "metadata": {
    "hidden": true,
    "scrolled": true
   },
   "outputs": [],
   "source": [
    "!ansible-playbook -l {target_hub} -CDv playbooks/deploy-docker-compose.yml || true"
   ]
  },
  {
   "cell_type": "markdown",
   "metadata": {
    "hidden": true
   },
   "source": [
    "実際に`docker-compose.yml`の配置を行います。"
   ]
  },
  {
   "cell_type": "code",
   "execution_count": null,
   "metadata": {
    "hidden": true,
    "scrolled": true
   },
   "outputs": [],
   "source": [
    "!ansible-playbook -l {target_hub} playbooks/deploy-docker-compose.yml"
   ]
  },
  {
   "cell_type": "markdown",
   "metadata": {
    "hidden": true
   },
   "source": [
    "配置したファイルを確認します。異なるパラメータで何度か配置を行った場合は、以前に配置したファイルがバックアップファイルとして残されています。"
   ]
  },
  {
   "cell_type": "code",
   "execution_count": null,
   "metadata": {
    "hidden": true
   },
   "outputs": [],
   "source": [
    "!ansible {target_hub} -b -a 'tree -F {{{{compose_dir}}}}'"
   ]
  },
  {
   "cell_type": "markdown",
   "metadata": {
    "hidden": true
   },
   "source": [
    "### コンテナの起動\n",
    "\n",
    "コンテナを起動します。"
   ]
  },
  {
   "cell_type": "markdown",
   "metadata": {
    "hidden": true
   },
   "source": [
    "必要なコンテナイメージを事前に取得しておきます。"
   ]
  },
  {
   "cell_type": "code",
   "execution_count": null,
   "metadata": {
    "hidden": true
   },
   "outputs": [],
   "source": [
    "!ansible {target_hub} -a 'chdir={{{{compose_dir}}}} \\\n",
    "    docker compose pull -q'"
   ]
  },
  {
   "cell_type": "markdown",
   "metadata": {
    "hidden": true
   },
   "source": [
    "実際にコンテナの起動を行います。"
   ]
  },
  {
   "cell_type": "code",
   "execution_count": null,
   "metadata": {
    "hidden": true
   },
   "outputs": [],
   "source": [
    "!ansible {target_hub} -a 'chdir={{{{compose_dir}}}} \\\n",
    "    docker stack deploy -c docker-compose.yml coursewarehub'"
   ]
  },
  {
   "cell_type": "markdown",
   "metadata": {
    "hidden": true
   },
   "source": [
    "コンテナの起動状態を確認します。"
   ]
  },
  {
   "cell_type": "code",
   "execution_count": null,
   "metadata": {
    "hidden": true
   },
   "outputs": [],
   "source": [
    "!ansible {target_hub} -a 'docker service ls'"
   ]
  },
  {
   "cell_type": "markdown",
   "metadata": {
    "hidden": true
   },
   "source": [
    "全てのコンテナが起動するまで待ち合わせを行います。\n",
    "\n",
    "> 次のセルの実行結果がエラーとなる場合は、その後のセルを実行してコンテナの実行状況やログを確認してください。"
   ]
  },
  {
   "cell_type": "code",
   "execution_count": null,
   "metadata": {
    "hidden": true
   },
   "outputs": [],
   "source": [
    "import time\n",
    "import sys\n",
    "\n",
    "\n",
    "cmd = \"docker service ls --format '{{.Name}} {{.Replicas}}' | grep '1/1' | grep coursewarehub_ | wc -l\"\n",
    "cmd = \"docker stack services --format '{{.Replicas}}' coursewarehub | grep '1/1' | wc -l\"\n",
    "for retry in range(18):\n",
    "    time.sleep(10)\n",
    "    try:\n",
    "        !ansible {target_hub} -m shell -a \"{{% raw %}} [ \\$({cmd}) -eq 4 ] {{% endraw %}}\"\n",
    "        break\n",
    "    except:\n",
    "        print('retry', file=sys.stderr)\n",
    "else:\n",
    "    !ansible {target_hub} -a 'docker service ls'\n",
    "    raise RuntimeError(\"起動処理が完了しませんでした。\")"
   ]
  },
  {
   "cell_type": "markdown",
   "metadata": {
    "hidden": true
   },
   "source": [
    "`postgres` コンテナのログを表示してみます。"
   ]
  },
  {
   "cell_type": "code",
   "execution_count": null,
   "metadata": {
    "hidden": true,
    "scrolled": true
   },
   "outputs": [],
   "source": [
    "!ansible {target_hub} -a 'docker service logs coursewarehub_postgres'"
   ]
  },
  {
   "cell_type": "markdown",
   "metadata": {
    "hidden": true
   },
   "source": [
    "`jupyterhub` コンテナのログを表示してみます。\n",
    "\n",
    "> PostgreSQLに接続できないなどのエラーが表示されていないことを確認してください。"
   ]
  },
  {
   "cell_type": "code",
   "execution_count": null,
   "metadata": {
    "hidden": true,
    "scrolled": true
   },
   "outputs": [],
   "source": [
    "!ansible {target_hub} -a 'docker service logs coursewarehub_jupyterhub'"
   ]
  },
  {
   "cell_type": "markdown",
   "metadata": {
    "hidden": true
   },
   "source": [
    "`auth-proxy` コンテナのログを表示してみます。\n",
    "\n",
    "> 証明書設定に誤りがあるなどのエラーが表示されていないことを確認してください。"
   ]
  },
  {
   "cell_type": "code",
   "execution_count": null,
   "metadata": {
    "hidden": true,
    "scrolled": true
   },
   "outputs": [],
   "source": [
    "!ansible {target_hub} -a 'docker service logs coursewarehub_auth-proxy'"
   ]
  },
  {
   "cell_type": "markdown",
   "metadata": {
    "hidden": true
   },
   "source": [
    "### registryにイメージをpushする\n",
    "\n",
    "single-userサーバの初期イメージをregistryにpushします。"
   ]
  },
  {
   "cell_type": "markdown",
   "metadata": {
    "hidden": true
   },
   "source": [
    "まずはチェックモードで確認を行います。"
   ]
  },
  {
   "cell_type": "code",
   "execution_count": null,
   "metadata": {
    "hidden": true,
    "scrolled": true
   },
   "outputs": [],
   "source": [
    "!ansible-playbook -l {target_hub} -CDv playbooks/deploy-singleuser-container.yml || true"
   ]
  },
  {
   "cell_type": "markdown",
   "metadata": {
    "hidden": true
   },
   "source": [
    "実際の操作を行います。コンテナイメージの取得などを行うので５分前後の時間がかかります。"
   ]
  },
  {
   "cell_type": "code",
   "execution_count": null,
   "metadata": {
    "hidden": true
   },
   "outputs": [],
   "source": [
    "!ansible-playbook -l {target_hub} -v playbooks/deploy-singleuser-container.yml"
   ]
  },
  {
   "cell_type": "markdown",
   "metadata": {
    "hidden": true
   },
   "source": [
    "workerノードに初期イメージを配置します。まずチェックモードで確認を行います。"
   ]
  },
  {
   "cell_type": "code",
   "execution_count": null,
   "metadata": {
    "hidden": true
   },
   "outputs": [],
   "source": [
    "!ansible-playbook -l {target_nodes} -CDv playbooks/deploy-singleuser-image.yml || true"
   ]
  },
  {
   "cell_type": "markdown",
   "metadata": {
    "hidden": true
   },
   "source": [
    "実際の操作を行います。"
   ]
  },
  {
   "cell_type": "code",
   "execution_count": null,
   "metadata": {
    "hidden": true
   },
   "outputs": [],
   "source": [
    "!ansible-playbook -l {target_nodes} -v playbooks/deploy-singleuser-image.yml"
   ]
  },
  {
   "cell_type": "markdown",
   "metadata": {
    "heading_collapsed": true
   },
   "source": [
    "## 管理者の登録\n",
    "\n",
    "CoursewareHubに管理ユーザを登録します。"
   ]
  },
  {
   "cell_type": "markdown",
   "metadata": {
    "hidden": true
   },
   "source": [
    "ここでセットアップする主な項目を以下に示します。\n",
    "\n",
    "* 全てのノード(manager, worker)にユーザーアカウントを作成する\n",
    "* sshの鍵ペアを作成する\n",
    "* ansibleのインベントリファイルを作成する\n",
    "* sudo権限を与える\n",
    "* JupyterHubユーザとして登録する"
   ]
  },
  {
   "cell_type": "markdown",
   "metadata": {
    "hidden": true
   },
   "source": [
    "### パラメータの確認"
   ]
  },
  {
   "cell_type": "markdown",
   "metadata": {
    "hidden": true
   },
   "source": [
    "CoursewareHubではメールアドレスから一定のルールで導き出された名前をローカルユーザ名として利用します。管理ユーザのローカルユーザ名を確認します。"
   ]
  },
  {
   "cell_type": "code",
   "execution_count": null,
   "metadata": {
    "hidden": true
   },
   "outputs": [],
   "source": [
    "%run scripts/cwh.py\n",
    "teacher_id = get_username_from_mail_address(teacher_email)\n",
    "print(teacher_id)"
   ]
  },
  {
   "cell_type": "markdown",
   "metadata": {
    "hidden": true
   },
   "source": [
    "管理ユーザのハッシュ化されたパスワードを取得します。"
   ]
  },
  {
   "cell_type": "code",
   "execution_count": null,
   "metadata": {
    "hidden": true
   },
   "outputs": [],
   "source": [
    "from crypt import crypt\n",
    "\n",
    "encrypted_teacher_password = crypt(teacher_password)\n",
    "encrypted_teacher_password"
   ]
  },
  {
   "cell_type": "markdown",
   "metadata": {
    "hidden": true
   },
   "source": [
    "JupyterHubのユーザ登録に必要となるcookie idを作成します。"
   ]
  },
  {
   "cell_type": "code",
   "execution_count": null,
   "metadata": {
    "hidden": true
   },
   "outputs": [],
   "source": [
    "import random\n",
    "import string\n",
    "cookie_id = ''.join([random.choice(\"abcdef\" + string.digits) for _ in range(32)])\n",
    "cookie_id"
   ]
  },
  {
   "cell_type": "markdown",
   "metadata": {
    "hidden": true
   },
   "source": [
    "### 管理ユーザの登録"
   ]
  },
  {
   "cell_type": "markdown",
   "metadata": {
    "hidden": true
   },
   "source": [
    "ユーザに関するパラメータをextra_varsとして記述したJSONファイルを作成します。"
   ]
  },
  {
   "cell_type": "code",
   "execution_count": null,
   "metadata": {
    "hidden": true
   },
   "outputs": [],
   "source": [
    "import tempfile\n",
    "from pathlib import Path\n",
    "import yaml\n",
    "\n",
    "work_dir = tempfile.mkdtemp()\n",
    "extra_vars = Path(work_dir) / 'group.yml'\n",
    "with extra_vars.open(mode='w') as f:\n",
    "    yaml.safe_dump(dict(\n",
    "        teacher_id=teacher_id,\n",
    "        cookie_id=cookie_id,\n",
    "        encrypted_teacher_password=encrypted_teacher_password,\n",
    "        teacher_email=teacher_email,\n",
    "    ), stream=f)"
   ]
  },
  {
   "cell_type": "markdown",
   "metadata": {
    "hidden": true
   },
   "source": [
    "managerノードに管理者ユーザを登録するplaybookを実行します。まずはチェックモードで確認を行います。"
   ]
  },
  {
   "cell_type": "code",
   "execution_count": null,
   "metadata": {
    "hidden": true,
    "scrolled": true
   },
   "outputs": [],
   "source": [
    "!ansible-playbook -l {target_hub} -CDv -e @{str(extra_vars)} playbooks/setup-admin-user.yml || true"
   ]
  },
  {
   "cell_type": "markdown",
   "metadata": {
    "hidden": true
   },
   "source": [
    "実際の設定変更を行います。"
   ]
  },
  {
   "cell_type": "code",
   "execution_count": null,
   "metadata": {
    "hidden": true
   },
   "outputs": [],
   "source": [
    "!ansible-playbook -l {target_hub} -Dv -e @{str(extra_vars)} playbooks/setup-admin-user.yml"
   ]
  },
  {
   "cell_type": "markdown",
   "metadata": {
    "hidden": true
   },
   "source": [
    "managerノードに作成した管理ユーザと同じアカウントをworkerノードにも作成します。managerノードに作成した管理ユーザのUID, GIDの値を確認します。"
   ]
  },
  {
   "cell_type": "code",
   "execution_count": null,
   "metadata": {
    "hidden": true
   },
   "outputs": [],
   "source": [
    "out = !ansible {target_hub} -a 'id -u {teacher_id}' 2> /dev/null\n",
    "teacher_uid = out[-1]\n",
    "teacher_uid"
   ]
  },
  {
   "cell_type": "code",
   "execution_count": null,
   "metadata": {
    "hidden": true
   },
   "outputs": [],
   "source": [
    "out = !ansible {target_hub} -a 'id -g {teacher_id}' 2> /dev/null\n",
    "teacher_gid = out[-1]\n",
    "teacher_gid"
   ]
  },
  {
   "cell_type": "markdown",
   "metadata": {
    "hidden": true
   },
   "source": [
    "workerノードに管理者ユーザを登録するplaybookを実行します。まずはチェックモードで確認を行います。"
   ]
  },
  {
   "cell_type": "code",
   "execution_count": null,
   "metadata": {
    "hidden": true
   },
   "outputs": [],
   "source": [
    "!ansible-playbook -l {target_nodes} -CDv \\\n",
    "    -e teacher_id={teacher_id} -e teacher_uid={teacher_uid} -e teacher_gid={teacher_gid} \\\n",
    "    playbooks/setup-worker-admin-user.yml"
   ]
  },
  {
   "cell_type": "markdown",
   "metadata": {
    "hidden": true
   },
   "source": [
    "実際の設定変更を行います。"
   ]
  },
  {
   "cell_type": "code",
   "execution_count": null,
   "metadata": {
    "hidden": true
   },
   "outputs": [],
   "source": [
    "!ansible-playbook -l {target_nodes} -Dv \\\n",
    "    -e teacher_id={teacher_id} -e teacher_uid={teacher_uid} -e teacher_gid={teacher_gid} \\\n",
    "    playbooks/setup-worker-admin-user.yml"
   ]
  },
  {
   "cell_type": "markdown",
   "metadata": {
    "hidden": true
   },
   "source": [
    "### 確認\n",
    "\n",
    "管理ユーザが作成されたことを確認します。"
   ]
  },
  {
   "cell_type": "markdown",
   "metadata": {
    "hidden": true
   },
   "source": [
    "管理ユーザのホームディレクトリの状態を確認します。以下のファイルが作成されていることを確認してください。\n",
    "\n",
    "|パス|内容|\n",
    "|:---|:---|\n",
    "|ansible/inventory|ansibleのインベントリ|\n",
    "|.ssh/authorized_keys|公開鍵の登録ファイル|\n",
    "|.ssh/id_rsa|sshの秘密鍵|\n",
    "|.ssh/id_rsa.pub|sshの公開鍵|\n",
    "|info/|コンテンツディレクトリ|\n",
    "|textbook/|コンテンツディレクトリ|"
   ]
  },
  {
   "cell_type": "code",
   "execution_count": null,
   "metadata": {
    "hidden": true
   },
   "outputs": [],
   "source": [
    "!ansible {target_hub} -b -a 'tree -aF {{{{home_dir}}}}/{teacher_id}'"
   ]
  },
  {
   "cell_type": "markdown",
   "metadata": {
    "hidden": true
   },
   "source": [
    "JupyterHubのユーザとして登録されていることを確認します。\n",
    "\n",
    "PostgreSQLコンテナでJupyterHubのユーザを管理している`users`テーブルと、CoursewareHubのローカル認証情報を管理している`local_users`の内容を表示します。それぞれのテーブルで`teacher_id`に対応するレコードが表示されることを確認してください。"
   ]
  },
  {
   "cell_type": "code",
   "execution_count": null,
   "metadata": {
    "hidden": true
   },
   "outputs": [],
   "source": [
    "out = !ansible-playbook -l {target_hub} -e teacher_id={teacher_id} \\\n",
    "    playbooks/show-jupyterhub-user.yml\n",
    "line = [x for x in out if x.find(\"show_tables.stdout\") >= 0][0]\n",
    "print(json.loads(f'{{{line}}}')['show_tables.stdout'])"
   ]
  },
  {
   "cell_type": "markdown",
   "metadata": {
    "hidden": true
   },
   "source": [
    "作業ディレクトリを削除します。"
   ]
  },
  {
   "cell_type": "code",
   "execution_count": null,
   "metadata": {
    "hidden": true
   },
   "outputs": [],
   "source": [
    "!rm -rf {work_dir}"
   ]
  },
  {
   "cell_type": "markdown",
   "metadata": {
    "heading_collapsed": true
   },
   "source": [
    "## コンテンツの配備の準備\n",
    "\n",
    "CoursewareHubのコンテンツを格納するディレクトリを作成し、コンテンツの配置を行うNotebookを管理者のホームディレクトリに配置します。"
   ]
  },
  {
   "cell_type": "markdown",
   "metadata": {
    "hidden": true
   },
   "source": [
    "ここで実行するplaybookが配置するファイル、ディレクトリを以下の表に示します。\n",
    "\n",
    "|パス|用途|\n",
    "|:---|:---|\n",
    "|/jupyter/admin/admin_tools|コンテンツ用ディレクトリ|\n",
    "|/jupyter/admin/tools|コンテンツ用ディレクトリ|\n",
    "|/jupyter/admin/textbook|コンテンツ用ディレクトリ|\n",
    "|/jupyter/admin/info|コンテンツ用ディレクトリ|\n",
    "|/jupyter/users/{teacher_id}/D06_CoursewareHubコンテンツの配備.ipynb|コンテンツを配備するnotebook|\n",
    "\n",
    "`{teacher_id}`は管理ユーザ名によって異なる値となります。"
   ]
  },
  {
   "cell_type": "markdown",
   "metadata": {
    "hidden": true
   },
   "source": [
    "「D06_CoursewareHubコンテンツの配備.ipynb」はNII Cloud Operation Teamにより公開されている[CoursewareHub-LC_deploy/coursewarehub/D06_CoursewareHubコンテンツの配備.ipynb](https://github.com/NII-cloud-operation/CoursewareHub-LC_deploy/blob/main/coursewarehub/D06_CoursewareHub%E3%82%B3%E3%83%B3%E3%83%86%E3%83%B3%E3%83%84%E3%81%AE%E9%85%8D%E5%82%99.ipynb)をGitHubより取得して配備します。"
   ]
  },
  {
   "cell_type": "markdown",
   "metadata": {
    "hidden": true
   },
   "source": [
    "実際に設定を変更する前にドライラン（チェックモード）でansibleを実行します。"
   ]
  },
  {
   "cell_type": "code",
   "execution_count": null,
   "metadata": {
    "hidden": true,
    "scrolled": true
   },
   "outputs": [],
   "source": [
    "!ansible-playbook -l {target_hub} -CDv -e teacher_id={teacher_id} playbooks/manage-tools.yml"
   ]
  },
  {
   "cell_type": "markdown",
   "metadata": {
    "hidden": true
   },
   "source": [
    "実際に設定変更を行います。"
   ]
  },
  {
   "cell_type": "code",
   "execution_count": null,
   "metadata": {
    "hidden": true,
    "scrolled": true
   },
   "outputs": [],
   "source": [
    "!ansible-playbook -l {target_hub} -e teacher_id={teacher_id} playbooks/manage-tools.yml"
   ]
  },
  {
   "cell_type": "markdown",
   "metadata": {
    "hidden": true
   },
   "source": [
    "配置したディレクトリ、ファイルを確認します。"
   ]
  },
  {
   "cell_type": "code",
   "execution_count": null,
   "metadata": {
    "hidden": true
   },
   "outputs": [],
   "source": [
    "!ansible {target_hub} -b -a 'tree -F {{{{jupyter_root_dir}}}}/admin'"
   ]
  },
  {
   "cell_type": "code",
   "execution_count": null,
   "metadata": {
    "hidden": true
   },
   "outputs": [],
   "source": [
    "!ansible {target_hub} -b -a 'tree -F -L 1 {{{{home_dir}}}}/{teacher_id}'"
   ]
  },
  {
   "cell_type": "markdown",
   "metadata": {},
   "source": [
    "## CoursewareHubにアクセスする\n",
    "\n",
    "構築したCoursewareHub環境にアクセスして、正しく動作していることを確認してください。"
   ]
  },
  {
   "cell_type": "markdown",
   "metadata": {},
   "source": [
    "次のセルを実行すると、構築したCoursewareHubのアドレスを表示します。"
   ]
  },
  {
   "cell_type": "code",
   "execution_count": null,
   "metadata": {},
   "outputs": [],
   "source": [
    "print(f'https://{gvars[\"master_fqdn\"]}')"
   ]
  },
  {
   "cell_type": "markdown",
   "metadata": {},
   "source": [
    "CoursewareHubの構築後の最初のログインでは、コンテナイメージの取得に時間がかかるためsingle-userサーバが起動するまでに5分程度の時間がかかります。"
   ]
  },
  {
   "cell_type": "markdown",
   "metadata": {},
   "source": [
    "管理ユーザのホームディレクトリにはコンテンツを配備するためのnotebook「D06_CoursewareHubコンテンツの配備.ipynb」が用意されています。管理ユーザでログインした後に実行してください。"
   ]
  },
  {
   "cell_type": "markdown",
   "metadata": {},
   "source": [
    "JupyterHub 3.1ではRBACの仕様変更により`JUPYTERHUB_API_TOKEN`のトークンでできる操作の範囲が狭められています。そのため「D06_CoursewareHubコンテンツの配備.ipynb」が配置するもののうち、以下のものについてはAPIトークンの設定方法を変更する必要があります。\n",
    "\n",
    "* 80_AddLocalUsers.ipynb\n",
    "* 83_AddUsersToGroup.ipynb\n",
    "* 84_RemoveUsersFromGroup.ipynb\n",
    "* 85_ShowUserGroups.ipynb\n",
    "\n",
    "上記のnotebookではJupyterHubのAPIトークンを設定するセルが以下のような記述となっています。\n",
    "\n",
    "```\n",
    "import os\n",
    "apitoken = os.environ['JUPYTERHUB_API_TOKEN']\n",
    "api_url = os.environ['JUPYTERHUB_API_URL']\n",
    "```\n",
    "\n",
    "このようなセルは、例えば「80_AddLocalUsers.ipynb」の場合、「3.JupyterHubユーザーの追加」にあります。\n",
    "\n",
    "現時点(2023/10/20)では、このままnotebookを実行するとエラーとなってしまいます。管理ユーザがJupyterHubで明示的に発行したAPIトークンを指定するように変更してください。例えば発行したAPIトークンの値が`xxxxxxxx`の場合、セルの内容を以下のように変更して実行してください。\n",
    "\n",
    "```\n",
    "import os\n",
    "apitoken = 'xxxxxxxx'\n",
    "api_url = os.environ['JUPYTERHUB_API_URL']\n",
    "```\n",
    "\n",
    "管理ユーザがJupyterHubのAPIトークンを発行するには、まず[Control Panel]ボタン（下図の赤丸）を選択して管理画面を表示してください。\n",
    "\n",
    "![control panel](images/cw-731-10.png)\n",
    "\n",
    "その後、[Token]タブ（下図の赤丸）を選択することで表示される画面の[Request new API token]ボタンからAPIトークンを発行できます。\n",
    "\n",
    "![token tab](images/cw-121-02.png)"
   ]
  }
 ],
 "metadata": {
  "kernelspec": {
   "display_name": "Python 3",
   "language": "python",
   "name": "python3"
  },
  "language_info": {
   "file_extension": ".py",
   "mimetype": "text/x-python",
   "name": "python",
   "nbconvert_exporter": "python",
   "pygments_lexer": "ipython3",
   "version": "3.10.4"
  },
  "toc": {
   "base_numbering": 1,
   "nav_menu": {},
   "number_sections": true,
   "sideBar": true,
   "skip_h1_title": true,
   "title_cell": "Table of Contents",
   "title_sidebar": "Contents",
   "toc_cell": false,
   "toc_position": {},
   "toc_section_display": true,
   "toc_window_display": true
  }
 },
 "nbformat": 4,
 "nbformat_minor": 2
}
