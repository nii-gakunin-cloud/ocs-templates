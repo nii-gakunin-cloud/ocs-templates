{
 "cells": [
  {
   "cell_type": "markdown",
   "metadata": {},
   "source": [
    "# ノード数変更のスケジュールを設定する\n",
    "\n",
    "---\n",
    "\n",
    "workerノード数を増減させるスケジュール設定を行います。"
   ]
  },
  {
   "cell_type": "markdown",
   "metadata": {},
   "source": [
    "## 概要\n",
    "\n",
    "workerノードの起動数を変更するスケジュールを設定します。利用頻度の低い時間帯にworkerノードの起動数を減らすことで、クラウドプロバイダの課金や使用電力量を抑えるようにします。"
   ]
  },
  {
   "cell_type": "markdown",
   "metadata": {},
   "source": [
    "このnotebookで設定を行う対象を次図に示します。\n",
    "\n",
    "![構成図](images/cw-954-01.png)\n",
    "\n",
    "workerノード数を制御するコンテナをmanagerノードで実行し、VCノードの起動数の変更やDocker Swarmの状態変更を行います。制御コンテナはsystemd timerから一定時間（１５分）毎に起動されます。起動されたコンテナでは現在のworkerノードの状態を確認し、変更が必要な場合のみVCノードの起動、停止やDocker SwarmのノードAvailabilityを更新します。"
   ]
  },
  {
   "cell_type": "markdown",
   "metadata": {},
   "source": [
    "### workerノード数\n",
    "\n",
    "workerノードの利用頻度は授業時間とそれ以外、また日中と夜間、平日と週末など時間帯によって異なることが考えられます。このnotebookでは授業などを行う特定の時間帯とそれ以外の時間帯のノード数を変更する設定を行います。\n",
    "\n",
    "特定の時間帯でのノード数の指定は「[3.1 スケジュールの指定](#スケジュールの指定)」で行います。時間帯の指定は日毎、週毎、月毎、年毎、特定日時のいずれかで行うことができます。またスケジュールの指定は複数行うことができます。スケジュールで指定した以外の時間帯のノード数の指定を「[3.2 通常時のノード数](#通常時のノード数)」で行います。\n",
    "\n",
    "このnotebookでスケジュール設定を行なった後に休講など臨時のスケジュールを追加する場合は「812-ノード数のスケジュール設定を変更する.ipynb」を実行してスケジュールの変更を行なってください。"
   ]
  },
  {
   "cell_type": "markdown",
   "metadata": {},
   "source": [
    "### ノード停止の準備期間\n",
    "\n",
    "Docker SwarmのノードAvailabilityを[Pause](https://docs.docker.com/engine/swarm/manage-nodes/#change-node-availability)にすることで、そのノードで新たなコンテナが開始されないようにすることができます。このnotebookで構築した環境ではノードを停止する前の一定時間、ノードAvailabilityをPauseにするように設定できます。停止前にPauseにする時間を「[3.3 新たなタスクの受付を停止する期間の指定](#新たなタスクの受付を停止する期間の指定)」で指定してください。"
   ]
  },
  {
   "cell_type": "markdown",
   "metadata": {},
   "source": [
    "### VCノードの停止方法\n",
    "\n",
    "workerノードはVCノードとして管理されています。そのためVCPSDKを利用することでノードの起動、停止などの操作を実現できます。VCノードの停止方法には、ノードを削除する方法とノードの電源オフにする方法があります。どちらの方法を用いてノードの停止を行うのかを「[2.3 ノードの停止方法](#ノードの停止方法)」で指定することができます。\n",
    "\n",
    "> VCノードの電源操作は一部のクラウドプロバイダのみ利用可能な機能です。電源操作をサポートしているかについては[OCSユーザーズマニュアル](https://nii-gakunin-cloud.github.io/ocs-docs/usermanual/appendix.html#vcp%E3%81%AB%E3%81%8A%E3%81%91%E3%82%8B%E3%82%AF%E3%83%A9%E3%82%A6%E3%83%89%E3%83%97%E3%83%AD%E3%83%90%E3%82%A4%E3%83%80%E3%81%A8%E3%82%AA%E3%83%97%E3%82%B7%E3%83%A7%E3%83%8A%E3%83%AB%E6%A9%9F%E8%83%BD%E3%81%AE%E5%AF%BE%E5%BF%9C)を確認してください。"
   ]
  },
  {
   "cell_type": "markdown",
   "metadata": {
    "heading_collapsed": true
   },
   "source": [
    "### 想定するシナリオ\n",
    "\n",
    "このNotebookで想定するCoursewareHubの利用状況を示します。"
   ]
  },
  {
   "cell_type": "markdown",
   "metadata": {
    "hidden": true
   },
   "source": [
    "* 授業時間中\n",
    "  * 授業開始数十分前から授業終了数十分後まで\n",
    "  * workerノードを最大限利用する時間帯\n",
    "* 授業時間後\n",
    "  * 授業終了数十分後から数時間後まで\n",
    "  * 利用者が徐々に減少していく時間帯\n",
    "* 授業時間外\n",
    "  * 授業時間中、授業時間後以外の時間\n",
    "  * 利用者が少ない時間帯"
   ]
  },
  {
   "cell_type": "markdown",
   "metadata": {
    "hidden": true
   },
   "source": [
    "#### 授業時間中\n",
    "\n",
    "![授業時間中](images/cw-951-02.png)\n",
    "\n",
    "「授業時間中」は全てのworkerノードを利用可能な状態にします。この時間帯はworkerノードの計算資源の上限まで、生徒が利用するJupyter環境(single-user Jupyter notebook server)コンテナを起動することができるようにします。"
   ]
  },
  {
   "cell_type": "markdown",
   "metadata": {
    "hidden": true
   },
   "source": [
    "#### 授業時間後\n",
    "\n",
    "![授業時間中後](images/cw-951-03.png)\n",
    "\n",
    "授業が終了した後の一定時間（授業時間外となるまで）は一部のノードでDocker SwarmのAvailabilityを[Pause](https://docs.docker.com/engine/swarm/manage-nodes/#change-node-availability)に変更します。この時間帯を「授業時間後」と呼びます。Pauseに変更したノードでは実行中のコンテナを引き続き利用できますが、新たなコンテナが起動できなくなります。また「[5. CoursewareHubのculling設定](#CoursewareHubのculling設定)」を設定している場合、アイドル状態のNotebookサーバーは順次停止されます。これらの設定により実行するコンテナは少数の利用可能状態のノードに集約されることが期待されます。"
   ]
  },
  {
   "cell_type": "markdown",
   "metadata": {
    "hidden": true
   },
   "source": [
    "#### 授業時間外\n",
    "\n",
    "![授業時間外](images/cw-951-04.png)\n",
    "\n",
    "「授業時間外」になると必要最小限のノード以外を停止します。ノードの停止方法は電源オフにする方法とノードを削除する方法を選択できます。どちらの方法をとる場合もクラウドプロバイダの課金を抑えられることが期待されます。\n",
    "\n",
    "停止するノードで実行しているコンテナは「授業時間後」の時間帯に全て終了することが期待されます。もし停止するノードで実行中のコンテナがある場合、ノード停止にともない実行中のコンテナはいったん終了します。その後、利用可能なworkerノードで再実行されます（計算資源に空きがある場合）。"
   ]
  },
  {
   "cell_type": "markdown",
   "metadata": {
    "hidden": true
   },
   "source": [
    "#### パラメータの指定方法 \n",
    "\n",
    "\n",
    "\n",
    "「授業時間中」と「授業時間後」を合わせた時間帯に利用するノード数を「[3.1 スケジュールの指定](#スケジュールの指定)」で指定します。また「授業時間後」にする時間を「[3.3 新たなタスクの受付を停止する期間の指定](#新たなタスクの受付を停止する期間の指定)」で指定します。「授業時間外」のノード数は「[3.2 通常時のノード数](#通常時のノード数)」で指定します。\n",
    "\n",
    "\n",
    "\n",
    "例えば「授業時間中」の時間帯が月曜日の10:00から12:00で「授業時間後」の時間帯がその後の12:00から16:00の場合を考えます。授業中に起動するノード数を5とし、それ以外の時間帯のノード数を1とする場合以下のような指定を行います。\n",
    "\n",
    "```python\n",
    "schedule_list = [\n",
    "    {\"begin\": \"Mon 10:00\", \"end\": \"Mon 16:00\", \"node_count\": 5}\n",
    "]                               # 3.1 スケジュールの指定\n",
    "\n",
    "schedule_default_nodes = 1      # 3.2 通常時のノード数\n",
    "\n",
    "schedule_drain_time = 60 * 4    # 3.3 新たなタスクの受付を停止する期間の指定\n",
    "```\n"
   ]
  },
  {
   "cell_type": "markdown",
   "metadata": {},
   "source": [
    "## パラメータの指定\n",
    "\n",
    "VCノードのスケールアウト、スケールインを行うのに必要となるパラメータを指定します。"
   ]
  },
  {
   "cell_type": "markdown",
   "metadata": {},
   "source": [
    "### UnitGroup名\n",
    "\n",
    "CoursewareHubのUnitGroup名を指定します。"
   ]
  },
  {
   "cell_type": "markdown",
   "metadata": {},
   "source": [
    "VCノードを作成時に指定したUnitGroup名を確認するために `group_vars` ファイル名の一覧を表示します。"
   ]
  },
  {
   "cell_type": "code",
   "execution_count": null,
   "metadata": {},
   "outputs": [],
   "source": [
    "!ls -1 --hide all group_vars/"
   ]
  },
  {
   "cell_type": "markdown",
   "metadata": {},
   "source": [
    "UnitGroup名を指定してください。"
   ]
  },
  {
   "cell_type": "code",
   "execution_count": null,
   "metadata": {},
   "outputs": [],
   "source": [
    "# (例)\n",
    "# ugroup_name = 'CoursewareHub'\n",
    "\n",
    "ugroup_name = "
   ]
  },
  {
   "cell_type": "markdown",
   "metadata": {
    "heading_collapsed": true
   },
   "source": [
    "#### チェック\n",
    "\n",
    "指定されたグループ名が妥当なものであることをチェックします。"
   ]
  },
  {
   "cell_type": "markdown",
   "metadata": {
    "hidden": true
   },
   "source": [
    "managerノードにアクセスできることを確認します。"
   ]
  },
  {
   "cell_type": "code",
   "execution_count": null,
   "metadata": {
    "hidden": true
   },
   "outputs": [],
   "source": [
    "target_group = f'{ugroup_name}_manager'\n",
    "!ansible {target_group} -m ping"
   ]
  },
  {
   "cell_type": "markdown",
   "metadata": {
    "hidden": true
   },
   "source": [
    "managerノードを管理者として操作できることを確認します。"
   ]
  },
  {
   "cell_type": "code",
   "execution_count": null,
   "metadata": {
    "hidden": true
   },
   "outputs": [],
   "source": [
    "!ansible {target_group} -b -a 'whoami'"
   ]
  },
  {
   "cell_type": "markdown",
   "metadata": {
    "hidden": true
   },
   "source": [
    "指定されたUnitGroupで、既にスケジュール設定が行われていないことを確認します。"
   ]
  },
  {
   "cell_type": "code",
   "execution_count": null,
   "metadata": {
    "hidden": true
   },
   "outputs": [],
   "source": [
    "%run scripts/group.py\n",
    "gvars = load_group_vars(ugroup_name)\n",
    "if gvars.get(\"vcnode_schedule\") is not None:\n",
    "    raise RuntimeError(\"既にスケジュール設定が行われています\")"
   ]
  },
  {
   "cell_type": "markdown",
   "metadata": {
    "hidden": true
   },
   "source": [
    "> 設定済みのスケジュールを変更するには「812-ノード数のスケジュール設定を変更する.ipynb」を実行してください。"
   ]
  },
  {
   "cell_type": "markdown",
   "metadata": {},
   "source": [
    "### VCCアクセストークンの入力"
   ]
  },
  {
   "cell_type": "markdown",
   "metadata": {},
   "source": [
    "VCノードを操作するためにVC Controller(VCC)のアクセストークンが必要となります。\n",
    "次のセルを実行すると表示される入力枠にVCCのアクセストークンを入力してください。\n",
    "\n",
    "> アクセストークン入力後に Enter キーを押すことで入力が完了します。"
   ]
  },
  {
   "cell_type": "code",
   "execution_count": null,
   "metadata": {},
   "outputs": [],
   "source": [
    "from getpass import getpass\n",
    "vcc_access_token = getpass()"
   ]
  },
  {
   "cell_type": "markdown",
   "metadata": {},
   "source": [
    "入力されたアクセストークンが正しいことを、実際にVCCにアクセスして確認します。"
   ]
  },
  {
   "cell_type": "code",
   "execution_count": null,
   "metadata": {},
   "outputs": [],
   "source": [
    "from common import logsetting\n",
    "from vcpsdk.vcpsdk import VcpSDK\n",
    "\n",
    "vcp = VcpSDK(vcc_access_token)"
   ]
  },
  {
   "cell_type": "markdown",
   "metadata": {},
   "source": [
    "上のセルの実行結果がエラーとなり以下のようなメッセージが表示されている場合は、入力されたアクセストークンに誤りがあります。\n",
    "\n",
    "```\n",
    "ERROR - config vc failed: http_status(403)\n",
    "ERROR - 2025/04/01 00:00:00 UTC: VCPAuthException: xxx:token lookup is failed: permission denied\n",
    "```\n",
    "\n",
    "エラーになった場合はこの節のセルを全て `unfreeze` してから、もう一度アクセストークンの入力を行ってください。"
   ]
  },
  {
   "cell_type": "markdown",
   "metadata": {},
   "source": [
    "### ノードの停止方法\n",
    "\n",
    "ノードの停止方法は、ノードを削除する方法と、ノードの電源をオフにする方法の２つの方法から選択できます。"
   ]
  },
  {
   "cell_type": "markdown",
   "metadata": {},
   "source": [
    "次のセルで`deleted`(削除)と`power_down`(電源オフ)のいずれかを指定してください。"
   ]
  },
  {
   "cell_type": "code",
   "execution_count": null,
   "metadata": {},
   "outputs": [],
   "source": [
    "# (例)\n",
    "# schedule_down_type = \"deleted\"           # ノードを削除する\n",
    "# schedule_down_type = \"power_down\"  # ノードの電源をオフする\n",
    "\n",
    "schedule_down_type = "
   ]
  },
  {
   "cell_type": "markdown",
   "metadata": {},
   "source": [
    "### IPアドレス\n",
    "\n",
    "workerノードに割り当てるIPアドレスを指定します。workerノードとして起動する最大ノード数のIPアドレスを指定する必要があります。"
   ]
  },
  {
   "cell_type": "markdown",
   "metadata": {},
   "source": [
    "現在のworkerノードの状態を確認します。"
   ]
  },
  {
   "cell_type": "code",
   "execution_count": null,
   "metadata": {},
   "outputs": [],
   "source": [
    "ug = vcp.get_ugroup(ugroup_name)\n",
    "ut = ug.get_unit(\"worker\")\n",
    "ut.df_nodes()"
   ]
  },
  {
   "cell_type": "markdown",
   "metadata": {},
   "source": [
    "IPアドレスのリストを次のセルで指定してください。現在起動しているworkerノードのIPアドレスが含まれていない場合は、現在のworkerノードを削除した後に改めて指定されたIPアドレスのworkerノードが起動されます。"
   ]
  },
  {
   "cell_type": "code",
   "execution_count": null,
   "metadata": {},
   "outputs": [],
   "source": [
    "# (例)\n",
    "# vcnode_all_ipaddress = [\n",
    "#    \"172.30.2.101\",\n",
    "#    \"172.30.2.102\",\n",
    "#    \"172.30.2.103\",\n",
    "#]\n",
    "#\n",
    "# vcnode_all_ipaddress = [\n",
    "#    f\"172.30.2.{x}\"\n",
    "#    for x in range(101, 105)\n",
    "# ]\n",
    "\n",
    "vcnode_all_ipaddress = [\n",
    "    \n",
    "]"
   ]
  },
  {
   "cell_type": "markdown",
   "metadata": {
    "heading_collapsed": true
   },
   "source": [
    "### 保存\n",
    "\n",
    "ここまで指定されたパラメータをgroup_varsに保存します。ただしVCCアクセストークンは保存対象から除外しています。"
   ]
  },
  {
   "cell_type": "markdown",
   "metadata": {
    "hidden": true
   },
   "source": [
    "保存する前に、簡単なチェックを行います。"
   ]
  },
  {
   "cell_type": "code",
   "execution_count": null,
   "metadata": {
    "hidden": true
   },
   "outputs": [],
   "source": [
    "%run scripts/check_params.py\n",
    "%run scripts/group.py\n",
    "gvars = load_group_vars(ugroup_name)\n",
    "current_nodes = ut.find_ip_addresses(node_state=\"RUNNING\")\n",
    "\n",
    "check_parameters(\n",
    "    \"schedule_down_type\",\n",
    "    \"vcnode_all_ipaddress\",\n",
    "    params={\n",
    "        \"vcp\": vcp,\n",
    "        \"vc_provider\": gvars.get(\"vc_provider\"),\n",
    "        \"current_nodes\": current_nodes,\n",
    "    },\n",
    "    nb_vars=locals(),\n",
    ")"
   ]
  },
  {
   "cell_type": "markdown",
   "metadata": {
    "hidden": true
   },
   "source": [
    "group_varsに保存します。"
   ]
  },
  {
   "cell_type": "code",
   "execution_count": null,
   "metadata": {
    "hidden": true
   },
   "outputs": [],
   "source": [
    "update_group_vars(\n",
    "    ugroup_name,\n",
    "    schedule_down_type=schedule_down_type,\n",
    "    vcnode_all_ipaddress=vcnode_all_ipaddress,\n",
    ")"
   ]
  },
  {
   "cell_type": "markdown",
   "metadata": {},
   "source": [
    "## スケジュール定義"
   ]
  },
  {
   "cell_type": "markdown",
   "metadata": {},
   "source": [
    "### スケジュールの指定\n",
    "\n",
    "workerノード数を変更する期間とそのノード数を指定します。"
   ]
  },
  {
   "cell_type": "markdown",
   "metadata": {},
   "source": [
    "ひとつのスケジュールを定義するには、期間を`begin`(開始時刻)と`end`(終了時刻)で指定し、その期間におけるworkerノード数を`node_count`で指定します。この３つの値をpythonのdictで指定します。例えば毎日22:00から翌朝7:00まではworkerノード数を1にするスケジュールは以下のような値で定義します。\n",
    "\n",
    "```python\n",
    "{\n",
    "    \"begin\": \"22:00\",\n",
    "    \"end\": \"7:00\",\n",
    "    \"node_count\": 1,\n",
    "}\n",
    "```\n",
    "\n",
    "期間は日毎、週毎、月毎、年毎、特定日時の指定が行えます。\n",
    "\n",
    "日毎の場合は`22:00`のように`{時}:{分}`の形式で指定します。\n",
    "\n",
    "週毎の場合は`Sat 0:00`のように`{曜日} {時}:{分}`の形式で指定します。曜日は`Sunday`、`日曜日`、`Sun`、`日`のような値で指定を行います。\n",
    "\n",
    "月毎の場合は`1日 0:00`のように`{日} {時}:{分}`の形式で指定します。日は`1日`、`1`のような値で指定を行います。\n",
    "\n",
    "年毎の場合は`12/29 0:00`のように`{月}/{日} {時}:{分}`の形式で指定します。\n",
    "\n",
    "特定日時の場合は`2025/4/1 0:00`のように`{年}/{月}/{日} {時}:{分}`の形式で指定します。\n",
    "\n",
    "期間の開始と終了は同じ粒度（日毎、週毎、月毎、年毎、特定日時）を指定する必要があります。"
   ]
  },
  {
   "cell_type": "markdown",
   "metadata": {},
   "source": [
    "次のセルでスケジュール定義のリストを指定してください。リストの個々の要素は上で説明した`begin`, `end`, `node_count`をキーに持つdictになります。複数のスケジュール期間が重複した場合、リストで先に指定したものが優先されます。"
   ]
  },
  {
   "cell_type": "code",
   "execution_count": null,
   "metadata": {},
   "outputs": [],
   "source": [
    "schedule_list = [\n",
    "# (例)\n",
    "#    {\"begin\": \"9:00\", \"end\": \"16:00\", \"node_count\": 5},                                        # 日毎のスケジュール 9:00--16:00\n",
    "#    {\"begin\": \"Mon 9:00\", \"end\": \"Fri 20:00\", \"node_count\": 5},                          # 週毎のスケジュール 月曜日9:00--金曜日20:00\n",
    "#    {\"begin\": \"1日 0:00\", \"end\": \"1日 12:00\", \"node_count\": 5},                         # 月毎のスケジュール 1日0:00--1日12:00\n",
    "#    {\"begin\": \"12/29 0:00\", \"end\": \"1/4 0:00\", \"node_count\": 0},                     # 年毎のスケジュール 12月29日0:00--1月4日0:00\n",
    "#    {\"begin\": \"2025/4/1 0:00\", \"end\": \"2025/4/2 0:00\", \"node_count\": 5},   # 特定日時のスケジュール 2025/4月1日0:00--2025/4月2日0:00\n",
    "\n",
    "]"
   ]
  },
  {
   "cell_type": "markdown",
   "metadata": {},
   "source": [
    "設定されたスケジュールをチェックするための準備を行います。"
   ]
  },
  {
   "cell_type": "code",
   "execution_count": null,
   "metadata": {
    "scrolled": true
   },
   "outputs": [],
   "source": [
    "from pathlib import Path\n",
    "\n",
    "!ansible-playbook -v -e venv_dir={str(Path.cwd() / \".venv\")} playbooks/setup-local-venv.yml"
   ]
  },
  {
   "cell_type": "markdown",
   "metadata": {},
   "source": [
    "リスト`schedule_list`に指定したスケジュールをチェックします。次のセルを実行してエラーにならないことを確認してください。指定されたスケジュールのリストに問題ない場合は設定した内容を表示します。意図したスケジュールが指定できていることを確認してください。"
   ]
  },
  {
   "cell_type": "code",
   "execution_count": null,
   "metadata": {
    "scrolled": true
   },
   "outputs": [],
   "source": [
    "import sys\n",
    "%run scripts/schedule.py\n",
    "\n",
    "params = {name: value for name, value in vars().items() if name.startswith(\"schedule\")}\n",
    "try:\n",
    "    description_schedule(ugroup_name, params, \"node_count\")\n",
    "except ValueError as e:\n",
    "    print(f\"ERROR: {e}\", file=sys.stderr)\n",
    "    raise"
   ]
  },
  {
   "cell_type": "markdown",
   "metadata": {},
   "source": [
    "### 通常時のノード数\n",
    "\n",
    "通常時のworkerノード数を指定します。現在のworkerノード数を通常時のノード数とする場合はこの節をスキップして次の節に進むことができます。"
   ]
  },
  {
   "cell_type": "markdown",
   "metadata": {},
   "source": [
    "現在のworkerノード数を確認します。"
   ]
  },
  {
   "cell_type": "code",
   "execution_count": null,
   "metadata": {
    "scrolled": true
   },
   "outputs": [],
   "source": [
    "print(gvars[\"worker_nodes\"])"
   ]
  },
  {
   "cell_type": "markdown",
   "metadata": {},
   "source": [
    "通常時のworkerノード数を次のセルで指定してください。"
   ]
  },
  {
   "cell_type": "code",
   "execution_count": null,
   "metadata": {},
   "outputs": [],
   "source": [
    "# (例)\n",
    "# schedule_default_nodes = 1\n",
    "\n",
    "schedule_default_nodes = "
   ]
  },
  {
   "cell_type": "markdown",
   "metadata": {},
   "source": [
    "### 新たなタスクの受付を停止する期間の指定\n",
    "\n",
    "ノードを停止する前に、タスクの受付を停止し新たなコンテナを起動できないようにする期間を設けます。これは、Docker Swarmに対してノードのAvailabilityを`Pause`にすることで実現します。"
   ]
  },
  {
   "cell_type": "markdown",
   "metadata": {},
   "source": [
    "Availabilityを`Pause`にする時間を次のセルで指定してください。指定の単位は分となります。"
   ]
  },
  {
   "cell_type": "code",
   "execution_count": null,
   "metadata": {},
   "outputs": [],
   "source": [
    "# (例)\n",
    "# schedule_drain_time = 60\n",
    "\n",
    "schedule_drain_time = "
   ]
  },
  {
   "cell_type": "markdown",
   "metadata": {},
   "source": [
    "### 設定内容の確認\n",
    "\n",
    "ここまで設定した内容を確認します。"
   ]
  },
  {
   "cell_type": "code",
   "execution_count": null,
   "metadata": {},
   "outputs": [],
   "source": [
    "%run scripts/schedule.py\n",
    "params = {name: value for name, value in vars().items() if name.startswith(\"schedule\")}\n",
    "description_schedule(ugroup_name, params)"
   ]
  },
  {
   "cell_type": "markdown",
   "metadata": {},
   "source": [
    "### 保存\n",
    "\n",
    "定義したスケジュールをgroup_varsに保存します。"
   ]
  },
  {
   "cell_type": "code",
   "execution_count": null,
   "metadata": {},
   "outputs": [],
   "source": [
    "%run scripts/schedule.py\n",
    "params = {name: value for name, value in vars().items() if name.startswith(\"schedule\")}\n",
    "update_group_vars(\n",
    "    ugroup_name,\n",
    "    vcnode_schedule=get_schedule_definition(ugroup_name, params),\n",
    ")"
   ]
  },
  {
   "cell_type": "markdown",
   "metadata": {},
   "source": [
    "## 配備\n",
    "\n",
    "スケジュール設定に関する資材をmanagerノードに配備してサービスを開始するように設定します。"
   ]
  },
  {
   "cell_type": "markdown",
   "metadata": {},
   "source": [
    "次のセルを実行すると資材の配備とサービスの開始を行います。"
   ]
  },
  {
   "cell_type": "code",
   "execution_count": null,
   "metadata": {
    "scrolled": true
   },
   "outputs": [],
   "source": [
    "import json\n",
    "from pathlib import Path\n",
    "from tempfile import TemporaryDirectory\n",
    "\n",
    "with TemporaryDirectory() as work_dir:\n",
    "    vars_path = Path(work_dir) / \"params.json\"\n",
    "    with vars_path.open(mode=\"w\") as f:\n",
    "        json.dump({\"vcc_access_token\": vcc_access_token}, f)\n",
    "    !ansible-playbook -Dv -l {target_group} -e @{str(vars_path)} playbooks/setup-schedule.yml"
   ]
  },
  {
   "cell_type": "markdown",
   "metadata": {},
   "source": [
    "CoursewareHubのmanagerノードに配備した資材を確認します。"
   ]
  },
  {
   "cell_type": "code",
   "execution_count": null,
   "metadata": {},
   "outputs": [],
   "source": [
    "!ansible {target_group} -b -a 'tree chdir=/srv/worker-schedule'"
   ]
  },
  {
   "cell_type": "code",
   "execution_count": null,
   "metadata": {},
   "outputs": [],
   "source": [
    "!ansible {target_group} -b -m shell -a 'ls -l cwh* chdir=/etc/systemd/system/'"
   ]
  },
  {
   "cell_type": "markdown",
   "metadata": {},
   "source": [
    "開始したsystemdタイマーの状態を確認します。通常は１５分ごとにworkerノード状態の確認とノード数の更新を行います。"
   ]
  },
  {
   "cell_type": "code",
   "execution_count": null,
   "metadata": {},
   "outputs": [],
   "source": [
    "!ansible {target_group} -b -a 'systemctl list-timers cwh-worker-node.timer'"
   ]
  },
  {
   "cell_type": "markdown",
   "metadata": {
    "heading_collapsed": true
   },
   "source": [
    "## CoursewareHubのculling設定\n",
    "\n",
    "CoursewareHubを構成するJupyterHubコンテナに環境変数を設定することでculling設定を有効にすることができます。「CoursewareHubのセットアップ.ipynb」でCoursewareHub環境を構築した時にculling機能を有効にしていない場合は、必要に応じてこの章を実行してください。"
   ]
  },
  {
   "cell_type": "markdown",
   "metadata": {
    "hidden": true
   },
   "source": [
    "### パラメータの指定\n",
    "\n",
    "アイドル状態のsingle-userサーバーを自動的に停止する機能に関するパラメータを指定します。"
   ]
  },
  {
   "cell_type": "markdown",
   "metadata": {
    "hidden": true
   },
   "source": [
    "ここで指定できるパラメータを以下に示します。\n",
    "\n",
    "|項目 | 説明 | デフォルト値|\n",
    "|:---|:---|--:|\n",
    "|cull_server              | アイドル状態のNotebookサーバーの停止を有効／無効化 (yes/no/0/1)| no |\n",
    "|cull_server_idle_timeout | アイドル状態のNotebookサーバーの停止までのタイムアウト時間(秒)     | 600 |\n",
    "|cull_server_max_age      | アイドル状態でなくてもNotebookサーバーを停止するまでの時間(秒)     | 0 |\n",
    "|cull_server_every       | Notebookのアイドル状態のタイムアウトのチェック間隔(秒)             | 0 |"
   ]
  },
  {
   "cell_type": "markdown",
   "metadata": {
    "hidden": true
   },
   "source": [
    "各パラメータの値を以下のセルで指定してください。デフォルト値のままで良いパラメータはセルを実行せずにスキップしてください。"
   ]
  },
  {
   "cell_type": "code",
   "execution_count": null,
   "metadata": {
    "hidden": true
   },
   "outputs": [],
   "source": [
    "# (例)\n",
    "# cull_server = \"yes\"       # 自動停止を有効にする\n",
    "# cull_server = \"no\"        # 自動停止を無効にする\n",
    "\n",
    "cull_server = \"yes\""
   ]
  },
  {
   "cell_type": "code",
   "execution_count": null,
   "metadata": {
    "hidden": true
   },
   "outputs": [],
   "source": [
    "# (例)\n",
    "# cull_server_idle_timeout = 10 * 60               # １０分間\n",
    "# cull_server_idle_timeout = 12 * 60 * 60      # 12時間\n",
    "\n",
    "cull_server_idle_timeout = "
   ]
  },
  {
   "cell_type": "code",
   "execution_count": null,
   "metadata": {
    "hidden": true
   },
   "outputs": [],
   "source": [
    "# (例)\n",
    "# cull_server_max_age = 0\n",
    "# cull_server_max_age = 24 * 60 * 60      # 24時間\n",
    "\n",
    "cull_server_max_age = "
   ]
  },
  {
   "cell_type": "code",
   "execution_count": null,
   "metadata": {
    "hidden": true
   },
   "outputs": [],
   "source": [
    "# (例)\n",
    "# cull_server_every = 0\n",
    "# cull_server_every = 60\n",
    "\n",
    "cull_server_every = "
   ]
  },
  {
   "cell_type": "markdown",
   "metadata": {
    "heading_collapsed": true,
    "hidden": true
   },
   "source": [
    "#### パラメータの保存"
   ]
  },
  {
   "cell_type": "markdown",
   "metadata": {
    "hidden": true
   },
   "source": [
    "ここまで指定したパラメータを ansible の変数として `group_vars`ファイルに保存します。"
   ]
  },
  {
   "cell_type": "code",
   "execution_count": null,
   "metadata": {
    "hidden": true
   },
   "outputs": [],
   "source": [
    "import yaml\n",
    "from pathlib import Path\n",
    "\n",
    "gvars_path = Path(f'group_vars/{ugroup_name}')\n",
    "with gvars_path.open() as f:\n",
    "    gvars = yaml.safe_load(f)\n",
    "\n",
    "jupyterhub_param_names = [\n",
    "    'cull_server',\n",
    "    'cull_server_idle_timeout',\n",
    "    'cull_server_max_age',\n",
    "    'cull_server_every',\n",
    "]\n",
    "\n",
    "for name in jupyterhub_param_names:\n",
    "    if name in vars():\n",
    "        gvars[name] = vars()[name]\n",
    "    elif 'name' in gvars:\n",
    "        del(gvars['name'])\n",
    "\n",
    "with gvars_path.open(mode='w') as f:\n",
    "    yaml.safe_dump(gvars, stream=f)\n",
    "    \n",
    "!cat group_vars/{ugroup_name}"
   ]
  },
  {
   "cell_type": "markdown",
   "metadata": {
    "hidden": true
   },
   "source": [
    "### docker-compose.ymlの配置\n",
    "\n",
    "構築環境にculling設定を追加したdocker-compose.ymlを配置します。"
   ]
  },
  {
   "cell_type": "markdown",
   "metadata": {
    "hidden": true
   },
   "source": [
    "まずはチェックモードで確認を行います。"
   ]
  },
  {
   "cell_type": "code",
   "execution_count": null,
   "metadata": {
    "hidden": true
   },
   "outputs": [],
   "source": [
    "!ansible-playbook -l {target_group} -CDv playbooks/deploy-docker-compose.yml || true"
   ]
  },
  {
   "cell_type": "markdown",
   "metadata": {
    "hidden": true
   },
   "source": [
    "実際に`docker-compose.yml`の配置を行います。"
   ]
  },
  {
   "cell_type": "code",
   "execution_count": null,
   "metadata": {
    "hidden": true
   },
   "outputs": [],
   "source": [
    "!ansible-playbook -l {target_group} playbooks/deploy-docker-compose.yml"
   ]
  },
  {
   "cell_type": "markdown",
   "metadata": {
    "hidden": true
   },
   "source": [
    "### コンテナの更新\n",
    "\n",
    "指定されたパラメータに更新された`docker-compose.yml`でコンテナを起動し直します。"
   ]
  },
  {
   "cell_type": "markdown",
   "metadata": {
    "hidden": true
   },
   "source": [
    "コンテナ設定の更新を行います。culling設定を変更している場合はjupyterhubコンテナが起動され直します。"
   ]
  },
  {
   "cell_type": "code",
   "execution_count": null,
   "metadata": {
    "hidden": true
   },
   "outputs": [],
   "source": [
    "!ansible {target_group} -a 'chdir={{{{compose_dir}}}} \\\n",
    "    docker stack deploy -c docker-compose.yml coursewarehub'"
   ]
  },
  {
   "cell_type": "markdown",
   "metadata": {
    "hidden": true
   },
   "source": [
    "コンテナの起動状態を確認します。"
   ]
  },
  {
   "cell_type": "code",
   "execution_count": null,
   "metadata": {
    "hidden": true
   },
   "outputs": [],
   "source": [
    "!ansible {target_group} -a 'docker service ls'"
   ]
  }
 ],
 "metadata": {
  "kernelspec": {
   "display_name": "Python 3",
   "language": "python",
   "name": "python3"
  },
  "language_info": {
   "file_extension": ".py",
   "mimetype": "text/x-python",
   "name": "python",
   "nbconvert_exporter": "python",
   "pygments_lexer": "ipython3",
   "version": "3.10.4"
  },
  "toc": {
   "base_numbering": 1,
   "nav_menu": {},
   "number_sections": true,
   "sideBar": true,
   "skip_h1_title": true,
   "title_cell": "Table of Contents",
   "title_sidebar": "Contents",
   "toc_cell": false,
   "toc_position": {},
   "toc_section_display": true,
   "toc_window_display": true
  }
 },
 "nbformat": 4,
 "nbformat_minor": 2
}