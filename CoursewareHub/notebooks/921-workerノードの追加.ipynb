{
 "cells": [
  {
   "cell_type": "markdown",
   "metadata": {},
   "source": [
    "# workerノードの追加\n",
    "\n",
    "---\n",
    "\n",
    "CoursewareHub環境を構成しているworkerノードに新たなノードを追加します。"
   ]
  },
  {
   "cell_type": "markdown",
   "metadata": {},
   "source": [
    "## パラメータの指定\n",
    "\n",
    "workerノードを追加するのに必要となるパラメータを入力します。"
   ]
  },
  {
   "cell_type": "markdown",
   "metadata": {},
   "source": [
    "### UnitGroup名\n",
    "\n",
    "操作対象となるVCPのUnitGroup名を指定します。"
   ]
  },
  {
   "cell_type": "markdown",
   "metadata": {},
   "source": [
    "VCノードを作成時に指定したUnitGroup名を確認するために `group_vars` ファイル名の一覧を表示します。"
   ]
  },
  {
   "cell_type": "code",
   "execution_count": null,
   "metadata": {},
   "outputs": [],
   "source": [
    "!ls -1 --hide all group_vars/"
   ]
  },
  {
   "cell_type": "markdown",
   "metadata": {},
   "source": [
    "UnitGroup名を指定してください。"
   ]
  },
  {
   "cell_type": "code",
   "execution_count": null,
   "metadata": {
    "tags": [
     "vcp:skip",
     "vcp:parameters"
    ]
   },
   "outputs": [],
   "source": [
    "# (例)\n",
    "# ugroup_name = 'CoursewareHub'\n",
    "\n",
    "ugroup_name = "
   ]
  },
  {
   "cell_type": "markdown",
   "metadata": {
    "heading_collapsed": true
   },
   "source": [
    "#### チェック\n",
    "\n",
    "対象となるVCノードがAnsibleによって操作できることを確認します。"
   ]
  },
  {
   "cell_type": "markdown",
   "metadata": {
    "hidden": true
   },
   "source": [
    "Ansibleの設定ファイルの場所を環境変数に設定しておきます。"
   ]
  },
  {
   "cell_type": "code",
   "execution_count": null,
   "metadata": {
    "hidden": true
   },
   "outputs": [],
   "source": [
    "from pathlib import Path\n",
    "import os\n",
    "\n",
    "cfg_ansible = Path(\"ansible.cfg\")\n",
    "if cfg_ansible.exists():\n",
    "    os.environ[\"ANSIBLE_CONFIG\"] = str(cfg_ansible.resolve())"
   ]
  },
  {
   "cell_type": "markdown",
   "metadata": {
    "hidden": true
   },
   "source": [
    "managerノードにアクセスできることを確認します。"
   ]
  },
  {
   "cell_type": "code",
   "execution_count": null,
   "metadata": {
    "hidden": true
   },
   "outputs": [],
   "source": [
    "target_hub = f\"{ugroup_name}_manager\"\n",
    "\n",
    "!ansible {target_hub} -m ping"
   ]
  },
  {
   "cell_type": "markdown",
   "metadata": {
    "hidden": true
   },
   "source": [
    "UnitGroup名に対応する group_varsファイルが存在していることを確認します。"
   ]
  },
  {
   "cell_type": "code",
   "execution_count": null,
   "metadata": {
    "hidden": true
   },
   "outputs": [],
   "source": [
    "!test -f group_vars/{ugroup_name}"
   ]
  },
  {
   "cell_type": "markdown",
   "metadata": {
    "hidden": true
   },
   "source": [
    "UnitGroupの変数をgroup_varsファイルから読み込みます。"
   ]
  },
  {
   "cell_type": "code",
   "execution_count": null,
   "metadata": {
    "hidden": true
   },
   "outputs": [],
   "source": [
    "%run scripts/group.py\n",
    "gvars = load_group_vars(ugroup_name)"
   ]
  },
  {
   "cell_type": "markdown",
   "metadata": {
    "hidden": true
   },
   "source": [
    "指定されたUnitGroupでworkerノードのスケジュール設定が行われている場合は、このnotebookでworkerノードの追加を行うことができません。「821-ノード数のスケジュール設定を削除する.ipynb」でスケジュール設定を削除した後にこのnotebookを実行してください。"
   ]
  },
  {
   "cell_type": "code",
   "execution_count": null,
   "metadata": {
    "hidden": true
   },
   "outputs": [],
   "source": [
    "if any(name in gvars for name in [\"vcnode_schedule\", \"schedule\"]):\n",
    "    raise RuntimeError(\"スケジュール設定が行われています\")"
   ]
  },
  {
   "cell_type": "markdown",
   "metadata": {},
   "source": [
    "### VCCアクセストークンの入力"
   ]
  },
  {
   "cell_type": "markdown",
   "metadata": {},
   "source": [
    "VCノードを追加するためにVC Controller(VCC)のアクセストークンが必要となります。\n",
    "次のセルを実行すると表示される入力枠にVCCのアクセストークンを入力してください。\n",
    "\n",
    "> アクセストークン入力後に Enter キーを押すことで入力が完了します。"
   ]
  },
  {
   "cell_type": "code",
   "execution_count": null,
   "metadata": {
    "tags": [
     "vcp:skip",
     "vcp:parameters"
    ]
   },
   "outputs": [],
   "source": [
    "from getpass import getpass\n",
    "\n",
    "vcc_access_token = getpass()"
   ]
  },
  {
   "cell_type": "markdown",
   "metadata": {},
   "source": [
    "入力されたアクセストークンが正しいことを、実際にVCCにアクセスして確認します。"
   ]
  },
  {
   "cell_type": "code",
   "execution_count": null,
   "metadata": {
    "tags": [
     "vcp:rewrite:vcpsdk"
    ]
   },
   "outputs": [],
   "source": [
    "from common import logsetting\n",
    "from vcpsdk.vcpsdk import VcpSDK\n",
    "\n",
    "vcp = VcpSDK(vcc_access_token)"
   ]
  },
  {
   "cell_type": "markdown",
   "metadata": {},
   "source": [
    "上のセルの実行結果がエラーとなり以下のようなメッセージが表示されている場合は、入力されたアクセストークンに誤りがあります。\n",
    "\n",
    "```\n",
    "config vc failed: http_status(403)\n",
    "2023/XX/XX XX:XX:XX UTC: VCPAuthException: xxxxxxx:token lookup is failed: permission denied\n",
    "```\n",
    "\n",
    "エラーになった場合はこの節のセルを全て `unfreeze` してから、もう一度アクセストークンの入力を行ってください。"
   ]
  },
  {
   "cell_type": "markdown",
   "metadata": {},
   "source": [
    "### 追加するノードの指定\n",
    "\n",
    "workerノードから追加するノードを指定します。"
   ]
  },
  {
   "cell_type": "markdown",
   "metadata": {},
   "source": [
    "追加するノードの指定は二通りの方法で行うことができます。\n",
    "\n",
    "* 追加するworkerノード数を指定する\n",
    "* 追加するノードのIPアドレスを指定する"
   ]
  },
  {
   "cell_type": "markdown",
   "metadata": {},
   "source": [
    "ノードの追加を行う前に、現在のworkerノードの状態を確認します。"
   ]
  },
  {
   "cell_type": "code",
   "execution_count": null,
   "metadata": {},
   "outputs": [],
   "source": [
    "ugroup = vcp.get_ugroup(ugroup_name)\n",
    "unit_worker = ugroup.get_unit(\"worker\")\n",
    "unit_worker.df_nodes()"
   ]
  },
  {
   "cell_type": "markdown",
   "metadata": {},
   "source": [
    "#### 追加するworkerノード数を指定する"
   ]
  },
  {
   "cell_type": "markdown",
   "metadata": {},
   "source": [
    "> 追加するノードをIPアドレスで指定する場合はこの節をスキップしてください。"
   ]
  },
  {
   "cell_type": "markdown",
   "metadata": {},
   "source": [
    "追加するノード数を指定してください。"
   ]
  },
  {
   "cell_type": "code",
   "execution_count": null,
   "metadata": {},
   "outputs": [],
   "source": [
    "# (例)\n",
    "# add_nodes = 2\n",
    "\n",
    "add_nodes = "
   ]
  },
  {
   "cell_type": "markdown",
   "metadata": {},
   "source": [
    "#### 追加するノードのIPアドレスを指定する"
   ]
  },
  {
   "cell_type": "markdown",
   "metadata": {},
   "source": [
    "> 追加するノード数を指定した場合はこの節をスキップしてください。ノード数とIPアドレスの両方を指定した場合はIPアドレスの指定が優先されます。"
   ]
  },
  {
   "cell_type": "markdown",
   "metadata": {},
   "source": [
    "追加するノードのIPアドレスのリストを指定してください。"
   ]
  },
  {
   "cell_type": "code",
   "execution_count": null,
   "metadata": {},
   "outputs": [],
   "source": [
    "# (例)\n",
    "# add_ipaddresses = [\n",
    "#     '172.30.2.101',\n",
    "#     '172.30.2.102',\n",
    "#     '172.30.2.103',\n",
    "# ]\n",
    "\n",
    "add_ipaddresses = [\n",
    "    \n",
    "]"
   ]
  },
  {
   "cell_type": "markdown",
   "metadata": {},
   "source": [
    "#### 追加するノードのMACアドレスを指定する"
   ]
  },
  {
   "cell_type": "markdown",
   "metadata": {},
   "source": [
    "> 追加するノード数を指定した場合、またはMACアドレスの指定が不要な場合はこの節をスキップしてください。ノード数とIPアドレスの両方を指定した場合はIPアドレスの指定が優先されます。またIPアドレスとMACアドレスの両方を指定する場合は、同じ数のアドレスを指定してください。"
   ]
  },
  {
   "cell_type": "markdown",
   "metadata": {},
   "source": [
    "追加するノードのMACアドレスのリストを指定してください。"
   ]
  },
  {
   "cell_type": "code",
   "execution_count": null,
   "metadata": {},
   "outputs": [],
   "source": [
    "# (例)\n",
    "# add_mac_addresses = [\n",
    "#     '4a:d1:4d:ab:cf:14',\n",
    "#     '4a:d1:4d:ab:cf:15',\n",
    "#     '4a:d1:4d:ab:cf:16',\n",
    "# ]\n",
    "\n",
    "add_mac_addresses = [\n",
    "\n",
    "]"
   ]
  },
  {
   "cell_type": "markdown",
   "metadata": {
    "heading_collapsed": true
   },
   "source": [
    "#### チェック\n",
    "\n",
    "指定されたパラメータをチェックします。"
   ]
  },
  {
   "cell_type": "code",
   "execution_count": null,
   "metadata": {
    "hidden": true
   },
   "outputs": [],
   "source": [
    "worker_addrs = unit_worker.find_ip_addresses()\n",
    "if \"add_ipaddresses\" in vars() and len(add_ipaddresses) > 0:\n",
    "    if len(set(add_ipaddresses) & set(worker_addrs)) > 0:\n",
    "        raise RuntimeError(\"既存のIPアドレスと重複した値が指定されています\")\n",
    "    if \"add_mac_addresses\" in vars() and len(add_mac_addresses) > 0 and len(add_mac_addresses) != len(add_ipaddresses):\n",
    "        raise RuntimeError(\"指定されたIPアドレス数とMACアドレス数が異なります\")\n",
    "elif \"add_nodes\" in vars():\n",
    "    if add_nodes <= 0:\n",
    "        raise RuntimeError(\"追加するノード数には正の値を指定してください\")"
   ]
  },
  {
   "cell_type": "markdown",
   "metadata": {
    "heading_collapsed": true
   },
   "source": [
    "## ノードの追加"
   ]
  },
  {
   "cell_type": "markdown",
   "metadata": {
    "hidden": true
   },
   "source": [
    "### NFSサーバ\n",
    "\n",
    "NFSサーバが属しているansibleのグループ名を指定します。"
   ]
  },
  {
   "cell_type": "code",
   "execution_count": null,
   "metadata": {
    "hidden": true
   },
   "outputs": [],
   "source": [
    "if 'nfs_target' in gvars:\n",
    "    nfs_group = gvars['nfs_target']\n",
    "elif 'nfs_ipaddress' in gvars:\n",
    "    nfs_group = f'{ugroup_name}_nfs'\n",
    "else:\n",
    "    nfs_group = f'{ugroup_name}_manager'"
   ]
  },
  {
   "cell_type": "markdown",
   "metadata": {
    "hidden": true
   },
   "source": [
    "指定されたグループのノードを操作できることを確認します。"
   ]
  },
  {
   "cell_type": "code",
   "execution_count": null,
   "metadata": {
    "hidden": true
   },
   "outputs": [],
   "source": [
    "!ansible {nfs_group} -m ping"
   ]
  },
  {
   "cell_type": "code",
   "execution_count": null,
   "metadata": {
    "hidden": true
   },
   "outputs": [],
   "source": [
    "!ansible {nfs_group} -b -a 'whoami'"
   ]
  },
  {
   "cell_type": "markdown",
   "metadata": {
    "hidden": true
   },
   "source": [
    "### /etc/exportsの設定を一時変更する\n",
    "\n",
    "追加するノードからNFSサーバにアクセスできるようにするためにサブネット全体を許可するように`/etc/exports`の設定を変更します。ノードを追加後にworkerノードのIPアドレスが確定した後に、workerノードからのみアクセス可能となるように`/etc/exports`を設定しなおします。"
   ]
  },
  {
   "cell_type": "markdown",
   "metadata": {
    "hidden": true
   },
   "source": [
    "一時的にNFSサーバへのアクセスを許可するサブネットの値を確認します。"
   ]
  },
  {
   "cell_type": "code",
   "execution_count": null,
   "metadata": {
    "hidden": true
   },
   "outputs": [],
   "source": [
    "print(vcp.get_vpn_catalog(gvars[\"vc_provider\"]).get(\"private_network_ipmask\"))"
   ]
  },
  {
   "cell_type": "markdown",
   "metadata": {
    "hidden": true
   },
   "source": [
    "`/etc/exports`の記述を変更します。"
   ]
  },
  {
   "cell_type": "code",
   "execution_count": null,
   "metadata": {
    "hidden": true,
    "scrolled": true
   },
   "outputs": [],
   "source": [
    "from tempfile import TemporaryDirectory\n",
    "from pathlib import Path\n",
    "\n",
    "exports_opts = 'rw,fsid=0,no_root_squash,no_subtree_check,sync,crossmnt'\n",
    "subnet = vcp.get_vpn_catalog(gvars[\"vc_provider\"]).get('private_network_ipmask')\n",
    "with TemporaryDirectory() as workdir:\n",
    "        exports = Path(workdir) / f'{ugroup_name}.exports'\n",
    "        with exports.open(mode='w') as f:\n",
    "               f.write(f'/exported/{ugroup_name} {subnet}({exports_opts})\\n')\n",
    "        !cat {exports}\n",
    "        !ansible {nfs_group} -b -D -m copy -a \\\n",
    "                'src={exports} dest=/etc/exports.d/ backup=yes'"
   ]
  },
  {
   "cell_type": "markdown",
   "metadata": {
    "hidden": true
   },
   "source": [
    "設定ファイルを読み込ませてエクスポート設定を更新します。"
   ]
  },
  {
   "cell_type": "code",
   "execution_count": null,
   "metadata": {
    "hidden": true
   },
   "outputs": [],
   "source": [
    "!ansible {nfs_group} -b -a 'exportfs -r -v'"
   ]
  },
  {
   "cell_type": "markdown",
   "metadata": {
    "hidden": true
   },
   "source": [
    "### VCノードの追加\n",
    "\n",
    "VCノードを追加します。"
   ]
  },
  {
   "cell_type": "code",
   "execution_count": null,
   "metadata": {
    "hidden": true,
    "scrolled": true
   },
   "outputs": [],
   "source": [
    "params = {}\n",
    "if \"add_ipaddresses\" in vars() and len(add_ipaddresses) > 0:\n",
    "    params[\"ip_addresses\"] = add_ipaddresses\n",
    "if \"add_mac_addresses\" in vars() and len(add_mac_addresses) > 0:\n",
    "    params[\"mac_addresses\"] = add_mac_addresses\n",
    "if \"add_nodes\" in vars():\n",
    "    params[\"num_add_nodes\"] = add_nodes\n",
    "unit_worker.add_nodes(**params)"
   ]
  },
  {
   "cell_type": "markdown",
   "metadata": {
    "hidden": true
   },
   "source": [
    "追加後のworkerノードの状態を確認します。"
   ]
  },
  {
   "cell_type": "code",
   "execution_count": null,
   "metadata": {
    "hidden": true
   },
   "outputs": [],
   "source": [
    "unit_worker.df_nodes()"
   ]
  },
  {
   "cell_type": "markdown",
   "metadata": {
    "hidden": true
   },
   "source": [
    "### Ansibleの設定を更新する"
   ]
  },
  {
   "cell_type": "markdown",
   "metadata": {
    "hidden": true
   },
   "source": [
    "Ansibleのインベントリにノードの情報を追加します。"
   ]
  },
  {
   "cell_type": "code",
   "execution_count": null,
   "metadata": {
    "hidden": true
   },
   "outputs": [],
   "source": [
    "from pathlib import Path\n",
    "import yaml\n",
    "\n",
    "inventory_path = Path(\"inventory.yml\")\n",
    "with inventory_path.open() as f:\n",
    "    inventory = yaml.safe_load(f)\n",
    "inventory[\"all\"][\"children\"][ugroup_name][\"children\"][\n",
    "    f\"{ugroup_name}_{unit_worker.name}\"\n",
    "][\"hosts\"] = dict([(x, dict(servicenet_ip=x)) for x in unit_worker.find_ip_addresses()])\n",
    "bak_inventory_path = Path(inventory_path.parent, inventory_path.name + \".bak\")\n",
    "inventory_path.rename(bak_inventory_path)\n",
    "with inventory_path.open(mode=\"w\") as f:\n",
    "    yaml.safe_dump(inventory, f)"
   ]
  },
  {
   "cell_type": "markdown",
   "metadata": {
    "hidden": true
   },
   "source": [
    "変更差分を確認します。"
   ]
  },
  {
   "cell_type": "code",
   "execution_count": null,
   "metadata": {
    "hidden": true
   },
   "outputs": [],
   "source": [
    "! ! diff -u {bak_inventory_path} {inventory_path}"
   ]
  },
  {
   "cell_type": "markdown",
   "metadata": {
    "hidden": true
   },
   "source": [
    "追加したVCノードにSSHでログインできるようにするために `~/.ssh/known_hosts` の更新を行います。"
   ]
  },
  {
   "cell_type": "code",
   "execution_count": null,
   "metadata": {
    "hidden": true,
    "scrolled": true
   },
   "outputs": [],
   "source": [
    "from time import sleep\n",
    "\n",
    "\n",
    "def check_update_known_hosts(ipaddr):\n",
    "    # VCノード起動直後だと sshd サービスが開始されておらずに known_hosts が更新されない場合がある\n",
    "    # ssh-keyscan が値を取得できるまで何度かリトライする\n",
    "    for x in range(10):\n",
    "        out = ! echo $(ssh-keyscan {ipaddr} 2> /dev/null | wc -l)\n",
    "        update_lines = int(out[0])\n",
    "        if update_lines > 0:\n",
    "            break\n",
    "        sleep(1)\n",
    "    else:\n",
    "        raise RuntimeError(\"ERROR: timeout!\")\n",
    "\n",
    "\n",
    "!mkdir -p -m 0700 ~/.ssh\n",
    "!touch ~/.ssh/known_hosts\n",
    "for addr in unit_worker.find_ip_addresses():\n",
    "    !ssh-keygen -R {addr}\n",
    "    check_update_known_hosts(addr)\n",
    "    !ssh-keyscan -H {addr} >> ~/.ssh/known_hosts"
   ]
  },
  {
   "cell_type": "markdown",
   "metadata": {
    "hidden": true
   },
   "source": [
    " Ansible でアクセスできることを確認します。"
   ]
  },
  {
   "cell_type": "code",
   "execution_count": null,
   "metadata": {
    "hidden": true
   },
   "outputs": [],
   "source": [
    "!ansible {ugroup_name}_{unit_worker.name} -m ping"
   ]
  },
  {
   "cell_type": "markdown",
   "metadata": {
    "hidden": true
   },
   "source": [
    "group_varsに記録されているworkerノードのIPアドレスとノード数を更新します。"
   ]
  },
  {
   "cell_type": "code",
   "execution_count": null,
   "metadata": {
    "hidden": true
   },
   "outputs": [],
   "source": [
    "%run scripts/group.py\n",
    "worker_ipaddresses = unit_worker.find_ip_addresses()\n",
    "update_group_vars(\n",
    "    ugroup_name,\n",
    "    worker_nodes=len(worker_ipaddresses),\n",
    "    worker_ipaddresses=worker_ipaddresses,\n",
    ")"
   ]
  },
  {
   "cell_type": "markdown",
   "metadata": {
    "hidden": true
   },
   "source": [
    "### /etc/exportsを更新する\n",
    "\n",
    "NFSサーバの`/etc/exports`に追加したノードに対応する設定を追加します。"
   ]
  },
  {
   "cell_type": "markdown",
   "metadata": {
    "hidden": true
   },
   "source": [
    "`/etc/exports`の記述を更新します。"
   ]
  },
  {
   "cell_type": "code",
   "execution_count": null,
   "metadata": {
    "hidden": true
   },
   "outputs": [],
   "source": [
    "from tempfile import TemporaryDirectory\n",
    "from pathlib import Path\n",
    "\n",
    "exports_opts = 'rw,fsid=0,no_root_squash,no_subtree_check,sync,crossmnt'\n",
    "with TemporaryDirectory() as workdir:\n",
    "        exports = Path(workdir) / f'{ugroup_name}.exports'\n",
    "        with exports.open(mode='w') as f:\n",
    "            if 'nfs_ipaddress' in gvars:\n",
    "                addr = gvars[\"manager_ipaddress\"]\n",
    "                f.write(f'/exported/{ugroup_name} {addr}({exports_opts})\\n')\n",
    "            for addr in unit_worker.find_ip_addresses():\n",
    "                f.write(f'/exported/{ugroup_name} {addr}({exports_opts})\\n')\n",
    "        !cat {exports}\n",
    "        !ansible {nfs_group} -b -m copy -a \\\n",
    "                'src={exports} dest=/etc/exports.d/ backup=yes'"
   ]
  },
  {
   "cell_type": "markdown",
   "metadata": {
    "hidden": true
   },
   "source": [
    "設定ファイルを読み込ませてエクスポート設定を更新します。"
   ]
  },
  {
   "cell_type": "code",
   "execution_count": null,
   "metadata": {
    "hidden": true
   },
   "outputs": [],
   "source": [
    "!ansible {nfs_group} -b -a 'exportfs -r -v'"
   ]
  },
  {
   "cell_type": "markdown",
   "metadata": {
    "hidden": true
   },
   "source": [
    "NFSサーバ側に作成したファイルをNFSクライアント側で参照できることを確認します。"
   ]
  },
  {
   "cell_type": "code",
   "execution_count": null,
   "metadata": {
    "hidden": true,
    "scrolled": true
   },
   "outputs": [],
   "source": [
    "!ansible {nfs_group} -m file -a 'path=/exported/{ugroup_name}/jupyter/xxx state=touch'\n",
    "!ansible {nfs_group} -m file -a 'path=/exported/{ugroup_name}/exchange/xxx state=touch'\n",
    "!ansible {ugroup_name}_{unit_worker.name} -a 'test -f /jupyter/xxx'\n",
    "!ansible {ugroup_name}_{unit_worker.name} -a 'test -f /exchange/xxx'\n",
    "!ansible {nfs_group} -m file -a 'path=/exported/{ugroup_name}/jupyter/xxx state=absent'\n",
    "!ansible {nfs_group} -m file -a 'path=/exported/{ugroup_name}/exchange/xxx state=absent'"
   ]
  },
  {
   "cell_type": "markdown",
   "metadata": {
    "hidden": true
   },
   "source": [
    "### Docker Swarmを更新する\n",
    "\n",
    "追加したノードをDocker Swarmに追加します。"
   ]
  },
  {
   "cell_type": "markdown",
   "metadata": {
    "hidden": true
   },
   "source": [
    "更新前のworkerノードの一覧を確認します。"
   ]
  },
  {
   "cell_type": "code",
   "execution_count": null,
   "metadata": {
    "hidden": true
   },
   "outputs": [],
   "source": [
    "!ansible {ugroup_name}_manager -a 'docker node ls -f role=worker'"
   ]
  },
  {
   "cell_type": "markdown",
   "metadata": {
    "hidden": true
   },
   "source": [
    "workerノードを追加するためのトークンをmanagerノードで取得します。"
   ]
  },
  {
   "cell_type": "code",
   "execution_count": null,
   "metadata": {
    "hidden": true
   },
   "outputs": [],
   "source": [
    "out = !ansible {ugroup_name}_manager -a 'docker swarm join-token -q worker' 2> /dev/null\n",
    "if out[0].find(\"CHANGED\") >= 0 or out[0].find(\"SUCCESS\") >= 0:\n",
    "    swarm_token = out[1]\n",
    "    print(swarm_token)\n",
    "else:\n",
    "    raise"
   ]
  },
  {
   "cell_type": "markdown",
   "metadata": {
    "hidden": true
   },
   "source": [
    "追加したVCノードをworkerノードとしてDocker Swarmに追加します。"
   ]
  },
  {
   "cell_type": "code",
   "execution_count": null,
   "metadata": {
    "hidden": true
   },
   "outputs": [],
   "source": [
    "out = !ansible {ugroup_name}_manager -a \\\n",
    "    'docker node ls -f role=worker --format \"{{% raw %}}{{{{.ID}}}}{{% endraw %}}\"' 2> /dev/null\n",
    "exist_nodes = []\n",
    "for node_id in out[1:]:\n",
    "    out2 = !ansible {ugroup_name}_manager -a \\\n",
    "        'docker node inspect --format \"{{% raw %}}{{{{.Status.Addr}}}}{{% endraw %}}\" {node_id}' 2> /dev/null\n",
    "    exist_nodes.append(out2[1])\n",
    "manager_ip = gvars['manager_ipaddress']\n",
    "for addr in unit_worker.find_ip_addresses():\n",
    "    if addr not in exist_nodes:\n",
    "        !ansible {addr} -a \\\n",
    "            'docker swarm join --token {swarm_token} {manager_ip}:2377'"
   ]
  },
  {
   "cell_type": "markdown",
   "metadata": {
    "hidden": true
   },
   "source": [
    "更新後のworkerノードの一覧を確認します。"
   ]
  },
  {
   "cell_type": "code",
   "execution_count": null,
   "metadata": {
    "hidden": true
   },
   "outputs": [],
   "source": [
    "!ansible {ugroup_name}_manager -a 'docker node ls -f role=worker'"
   ]
  },
  {
   "cell_type": "markdown",
   "metadata": {
    "hidden": true
   },
   "source": [
    "### コンテナイメージの取得\n",
    "\n",
    "single-userサーバのコンテナイメージをworkerノードに配置します。"
   ]
  },
  {
   "cell_type": "markdown",
   "metadata": {
    "hidden": true
   },
   "source": [
    "チェックモードで確認を行います。"
   ]
  },
  {
   "cell_type": "code",
   "execution_count": null,
   "metadata": {
    "hidden": true
   },
   "outputs": [],
   "source": [
    "!ansible-playbook -l {ugroup_name}_worker -CDv playbooks/deploy-singleuser-image.yml || true"
   ]
  },
  {
   "cell_type": "markdown",
   "metadata": {
    "hidden": true
   },
   "source": [
    "実際にコンテナイメージの配置を行います。"
   ]
  },
  {
   "cell_type": "code",
   "execution_count": null,
   "metadata": {
    "hidden": true
   },
   "outputs": [],
   "source": [
    "!ansible-playbook -l {ugroup_name}_worker -v playbooks/deploy-singleuser-image.yml"
   ]
  },
  {
   "cell_type": "markdown",
   "metadata": {
    "heading_collapsed": true
   },
   "source": [
    "## 管理者ユーザの設定\n",
    "\n",
    "構築環境のJupyterHubでは講師権限を持つ管理ユーザが操作を行うためのインベントリファイルが配置されています。このインベントリを更新します。"
   ]
  },
  {
   "cell_type": "markdown",
   "metadata": {
    "hidden": true
   },
   "source": [
    "### ユーザの登録\n",
    "\n",
    "追加したworkerノードに管理者ユーザを登録します。"
   ]
  },
  {
   "cell_type": "code",
   "execution_count": null,
   "metadata": {
    "hidden": true,
    "scrolled": true
   },
   "outputs": [],
   "source": [
    "%run scripts/cwh.py\n",
    "\n",
    "for email in gvars.get(\"teacher_email_list\", []):\n",
    "    name = get_username_from_mail_address(email)\n",
    "    out = !ansible {ugroup_name}_manager -a 'id -u {name}' 2> /dev/null\n",
    "    teacher_uid = out[-1]\n",
    "    out = !ansible {ugroup_name}_manager -a 'id -g {name}' 2> /dev/null\n",
    "    teacher_gid = out[-1]\n",
    "\n",
    "    !ansible-playbook -l {ugroup_name}_worker -Dv \\\n",
    "        -e teacher_id={name} -e teacher_uid={teacher_uid} -e teacher_gid={teacher_gid} \\\n",
    "        playbooks/setup-worker-admin-user.yml"
   ]
  },
  {
   "cell_type": "markdown",
   "metadata": {
    "hidden": true
   },
   "source": [
    "### インベントリの更新\n",
    "\n",
    "管理者に配布している　インベントリに追加したノードを登録します。"
   ]
  },
  {
   "cell_type": "code",
   "execution_count": null,
   "metadata": {
    "hidden": true,
    "scrolled": true
   },
   "outputs": [],
   "source": [
    "for email in gvars.get(\"teacher_email_list\", []):\n",
    "    name = get_username_from_mail_address(email)\n",
    "    !ansible-playbook -Dv -l {ugroup.name}_manager -e teacher_id={name} playbooks/deploy-inventory.yml"
   ]
  }
 ],
 "metadata": {
  "kernelspec": {
   "display_name": "Python 3",
   "language": "python",
   "name": "python3"
  },
  "language_info": {
   "file_extension": ".py",
   "mimetype": "text/x-python",
   "name": "python",
   "nbconvert_exporter": "python",
   "pygments_lexer": "ipython3",
   "version": "3.10.4"
  },
  "toc": {
   "base_numbering": 1,
   "nav_menu": {},
   "number_sections": true,
   "sideBar": true,
   "skip_h1_title": true,
   "title_cell": "Table of Contents",
   "title_sidebar": "Contents",
   "toc_cell": false,
   "toc_position": {},
   "toc_section_display": true,
   "toc_window_display": true
  },
  "vscode": {
   "interpreter": {
    "hash": "b65f94699575a72e949ff5a7848d3af0b4af139300d613828d6b8653c081f8fc"
   }
  }
 },
 "nbformat": 4,
 "nbformat_minor": 2
}