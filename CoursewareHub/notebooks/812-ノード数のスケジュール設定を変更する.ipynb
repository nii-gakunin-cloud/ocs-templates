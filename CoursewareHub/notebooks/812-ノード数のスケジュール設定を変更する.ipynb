{
 "cells": [
  {
   "cell_type": "markdown",
   "metadata": {},
   "source": [
    "# ノード数のスケジュール設定を変更する\n",
    "---\n",
    "\n",
    "workerノード数のスケジュールを変更します。"
   ]
  },
  {
   "cell_type": "markdown",
   "metadata": {},
   "source": [
    "## パラメータの指定\n",
    "\n",
    "スケジュールを変更するのに必要となるパラメータを指定します。"
   ]
  },
  {
   "cell_type": "markdown",
   "metadata": {},
   "source": [
    "### UnitGroup名\n",
    "\n",
    "対象となるCoursewareHubのUnitGroup名を指定します。"
   ]
  },
  {
   "cell_type": "markdown",
   "metadata": {},
   "source": [
    "VCノードを作成時に指定したUnitGroup名を確認するために `group_vars` ファイル名の一覧を表示します。"
   ]
  },
  {
   "cell_type": "code",
   "execution_count": null,
   "metadata": {},
   "outputs": [],
   "source": [
    "!ls -1 --hide all group_vars/"
   ]
  },
  {
   "cell_type": "markdown",
   "metadata": {},
   "source": [
    "UnitGroup名を指定してください。"
   ]
  },
  {
   "cell_type": "code",
   "execution_count": null,
   "metadata": {},
   "outputs": [],
   "source": [
    "# (例)\n",
    "# ugroup_name = 'CoursewareHub'\n",
    "\n",
    "ugroup_name = "
   ]
  },
  {
   "cell_type": "markdown",
   "metadata": {
    "heading_collapsed": true
   },
   "source": [
    "#### チェック\n",
    "\n",
    "指定されたグループ名が妥当なものであることをチェックします。"
   ]
  },
  {
   "cell_type": "markdown",
   "metadata": {
    "hidden": true
   },
   "source": [
    "managerノードにアクセスできることを確認します。"
   ]
  },
  {
   "cell_type": "code",
   "execution_count": null,
   "metadata": {
    "hidden": true
   },
   "outputs": [],
   "source": [
    "target_group = f'{ugroup_name}_manager'\n",
    "!ansible {target_group} -m ping"
   ]
  },
  {
   "cell_type": "markdown",
   "metadata": {
    "hidden": true
   },
   "source": [
    "managerノードを管理者として操作できることを確認します。"
   ]
  },
  {
   "cell_type": "code",
   "execution_count": null,
   "metadata": {
    "hidden": true
   },
   "outputs": [],
   "source": [
    "!ansible {target_group} -b -a 'whoami'"
   ]
  },
  {
   "cell_type": "markdown",
   "metadata": {
    "hidden": true
   },
   "source": [
    "指定されたUnitGroupでスケジュール設定が行われていることを確認します。"
   ]
  },
  {
   "cell_type": "code",
   "execution_count": null,
   "metadata": {
    "hidden": true
   },
   "outputs": [],
   "source": [
    "%run scripts/group.py\n",
    "gvars = load_group_vars(ugroup_name)\n",
    "if gvars.get(\"vcnode_schedule\") is None:\n",
    "    raise RuntimeError(\"まだスケジュールの設定が行われていません\")"
   ]
  },
  {
   "cell_type": "markdown",
   "metadata": {},
   "source": [
    "## スケジュール定義の変更"
   ]
  },
  {
   "cell_type": "markdown",
   "metadata": {},
   "source": [
    "### 状態確認\n",
    "\n",
    "現在設定されているスケジュールの定義内容を確認します。"
   ]
  },
  {
   "cell_type": "markdown",
   "metadata": {},
   "source": [
    "スケジュールの内容を表示するための環境を準備します。"
   ]
  },
  {
   "cell_type": "code",
   "execution_count": null,
   "metadata": {
    "scrolled": true
   },
   "outputs": [],
   "source": [
    "from pathlib import Path\n",
    "!ansible-playbook -v -e venv_dir={str(Path.cwd() / \".venv\")} playbooks/setup-local-venv.yml"
   ]
  },
  {
   "cell_type": "markdown",
   "metadata": {},
   "source": [
    "現在設定されているスケジュールの内容を表示します。"
   ]
  },
  {
   "cell_type": "code",
   "execution_count": null,
   "metadata": {},
   "outputs": [],
   "source": [
    "%run scripts/schedule.py\n",
    "description_schedule(ugroup_name)"
   ]
  },
  {
   "cell_type": "markdown",
   "metadata": {},
   "source": [
    "### スケジュールの指定\n",
    "\n",
    "スケジュールの内容（期間、ノード数）または、各スケジュールの優先度を変更します。変更しない場合はこの節をスキップして次の節に進んでください。"
   ]
  },
  {
   "cell_type": "markdown",
   "metadata": {},
   "source": [
    "ひとつのスケジュールを定義するには、期間を`begin`(開始時刻)と`end`(終了時刻)で指定し、その期間におけるworkerノード数を`node_count`で指定します。この３つの値をpythonのdictで指定します。例えば毎日22:00から翌朝7:00まではworkerノード数を1にするスケジュールは以下のような値で定義します。\n",
    "\n",
    "```python\n",
    "{\n",
    "    \"begin\": \"22:00\",\n",
    "    \"end\": \"7:00\",\n",
    "    \"node_count\": 1,\n",
    "}\n",
    "```\n",
    "\n",
    "期間は日毎、週毎、月毎、年毎、特定日時の指定が行えます。\n",
    "\n",
    "日毎の場合は`22:00`のように`{時}:{分}`の形式で指定します。\n",
    "\n",
    "週毎の場合は`Sat 0:00`のように`{曜日} {時}:{分}`の形式で指定します。曜日は`Sunday`、`日曜日`、`Sun`、`日`のような値で指定を行います。\n",
    "\n",
    "月毎の場合は`1日 0:00`のように`{日} {時}:{分}`の形式で指定します。日は`1日`、`1`のような値で指定を行います。\n",
    "\n",
    "年毎の場合は`12/29 0:00`のように`{月}/{日} {時}:{分}`の形式で指定します。\n",
    "\n",
    "特定日時の場合は`2025/4/1 0:00`のように`{年}/{月}/{日} {時}:{分}`の形式で指定します。\n",
    "\n",
    "期間の開始と終了は同じ粒度（日毎、週毎、月毎、年毎、特定日時）を指定する必要があります。"
   ]
  },
  {
   "cell_type": "markdown",
   "metadata": {},
   "source": [
    "次のセルを実行すると現在設定されているスケジュール定義の`schedule_list`を表示します。"
   ]
  },
  {
   "cell_type": "code",
   "execution_count": null,
   "metadata": {},
   "outputs": [],
   "source": [
    "%run scripts/schedule.py\n",
    "show_schedule_list(ugroup_name)"
   ]
  },
  {
   "cell_type": "markdown",
   "metadata": {},
   "source": [
    "次のセルでスケジュール定義のリストを指定してください。現在の設定を一部引き継ぐ場合は上のセルの出力結果から必要な箇所をコピーしてください。\n",
    "\n",
    "複数のスケジュール期間が重複した場合、リストで先に指定したものが優先されます。"
   ]
  },
  {
   "cell_type": "code",
   "execution_count": null,
   "metadata": {},
   "outputs": [],
   "source": [
    "schedule_list = [\n",
    "\n",
    "]"
   ]
  },
  {
   "cell_type": "markdown",
   "metadata": {},
   "source": [
    "指定したスケジュール定義の内容を確認します。次のセルの実行結果がエラーになる場合は指定されたパラメータに問題があります。上のセルで指定した`schedule_list`の値を修正してください。"
   ]
  },
  {
   "cell_type": "code",
   "execution_count": null,
   "metadata": {
    "scrolled": true
   },
   "outputs": [],
   "source": [
    "import sys\n",
    "%run scripts/schedule.py\n",
    "\n",
    "params = {name: value for name, value in vars().items() if name.startswith(\"schedule\")}\n",
    "params[\"schedule_down_type\"] = schedule_down_type if \"schedule_down_type\" in vars() else \"power_down\"\n",
    "params[\"schedule_default_nodes\"] = (\n",
    "    schedule_default_compute_nodes if \"schedule_default_nodes\" in vars() else gvars[\"vcnode_schedule\"][\"default\"][\"node_count\"]\n",
    ")\n",
    "try:\n",
    "    description_schedule(ugroup_name, params, \"node_count\")\n",
    "except ValueError as e:\n",
    "    print(f\"ERROR: {e}\", file=sys.stderr)\n",
    "    raise"
   ]
  },
  {
   "cell_type": "markdown",
   "metadata": {},
   "source": [
    "### 通常時のノード数\n",
    "\n",
    "通常時のworkerノード数を変更します。変更しない場合はこの節をスキップして次の節に進んでください。"
   ]
  },
  {
   "cell_type": "markdown",
   "metadata": {},
   "source": [
    "現在の通常時ノード数を確認します。"
   ]
  },
  {
   "cell_type": "code",
   "execution_count": null,
   "metadata": {},
   "outputs": [],
   "source": [
    "print(gvars[\"vcnode_schedule\"][\"default\"][\"node_count\"])"
   ]
  },
  {
   "cell_type": "markdown",
   "metadata": {},
   "source": [
    "通常時のworkerノード数を次のセルで指定してください。"
   ]
  },
  {
   "cell_type": "code",
   "execution_count": null,
   "metadata": {},
   "outputs": [],
   "source": [
    "# (例)\n",
    "# schedule_default_nodes = 10\n",
    "\n",
    "schedule_default_nodes = "
   ]
  },
  {
   "cell_type": "markdown",
   "metadata": {},
   "source": [
    "### ノードの停止方法\n",
    "\n",
    "ノードの停止方法を変更します。変更しない場合はこの節をスキップして次の節に進んでください。"
   ]
  },
  {
   "cell_type": "markdown",
   "metadata": {},
   "source": [
    "現在のノード停止方法を確認します。"
   ]
  },
  {
   "cell_type": "code",
   "execution_count": null,
   "metadata": {},
   "outputs": [],
   "source": [
    "print(gvars[\"vcnode_schedule\"][\"default\"][\"down_type\"])"
   ]
  },
  {
   "cell_type": "markdown",
   "metadata": {},
   "source": [
    "次のセルで`deleted`(削除)と`power_down`(電源オフ)のどちらかを指定してください。"
   ]
  },
  {
   "cell_type": "code",
   "execution_count": null,
   "metadata": {},
   "outputs": [],
   "source": [
    "# (例)\n",
    "# schedule_down_type = \"deleted\"           # ノードを削除する\n",
    "# schedule_down_type = \"power_down\"  # ノードの電源をオフする\n",
    "\n",
    "schedule_down_type = "
   ]
  },
  {
   "cell_type": "markdown",
   "metadata": {},
   "source": [
    "### 新たなタスクの受付を停止する期間の指定\n",
    "\n",
    "ノードを停止する前に、タスクの受付を停止し新たなコンテナを起動できないようにする期間を指定します。現在の設定値を変更しない場合はこの節をスキップして次の節に進んでください。"
   ]
  },
  {
   "cell_type": "markdown",
   "metadata": {},
   "source": [
    "現在、設定している値を確認します。"
   ]
  },
  {
   "cell_type": "code",
   "execution_count": null,
   "metadata": {},
   "outputs": [],
   "source": [
    "print(gvars[\"vcnode_schedule\"][\"default\"][\"drain_time\"])"
   ]
  },
  {
   "cell_type": "markdown",
   "metadata": {},
   "source": [
    "Availabilityを`Pause`にする時間を次のセルで指定してください。指定の単位は分となります。"
   ]
  },
  {
   "cell_type": "code",
   "execution_count": null,
   "metadata": {},
   "outputs": [],
   "source": [
    "# (例)\n",
    "# schedule_drain_time = 60\n",
    "\n",
    "schedule_drain_time = "
   ]
  },
  {
   "cell_type": "markdown",
   "metadata": {},
   "source": [
    "### 設定内容の確認\n",
    "\n",
    "ここまでで指定した内容を確認します。"
   ]
  },
  {
   "cell_type": "code",
   "execution_count": null,
   "metadata": {},
   "outputs": [],
   "source": [
    "%run scripts/schedule.py\n",
    "params = {\n",
    "    \"schedule_default_nodes\": gvars[\"vcnode_schedule\"][\"default\"][\"node_count\"],\n",
    "    \"schedule_down_type\": gvars[\"vcnode_schedule\"][\"default\"][\"down_type\"],\n",
    "    \"schedule_drain_time\": gvars[\"vcnode_schedule\"][\"default\"][\"drain_time\"],\n",
    "    \"schedule_list\": get_schedule_list(ugroup_name),\n",
    "}\n",
    "params.update({name: value for name, value in vars().items() if name.startswith(\"schedule\")})\n",
    "description_schedule(ugroup_name, params)"
   ]
  },
  {
   "cell_type": "markdown",
   "metadata": {},
   "source": [
    "### 保存\n",
    "\n",
    "新たに指定したスケジュール定義をgroup_varsに保存します。"
   ]
  },
  {
   "cell_type": "code",
   "execution_count": null,
   "metadata": {},
   "outputs": [],
   "source": [
    "update_group_vars(\n",
    "    ugroup_name,\n",
    "    vcnode_schedule=get_schedule_definition(ugroup_name, params),\n",
    ")"
   ]
  },
  {
   "cell_type": "markdown",
   "metadata": {},
   "source": [
    "## 配備\n",
    "\n",
    "スケジュールの定義ファイルを配置します。"
   ]
  },
  {
   "cell_type": "code",
   "execution_count": null,
   "metadata": {
    "scrolled": true
   },
   "outputs": [],
   "source": [
    "!ansible-playbook -Dv -l {target_group} playbooks/deploy-schedule-cfg.yml"
   ]
  },
  {
   "cell_type": "markdown",
   "metadata": {},
   "source": [
    "systemdタイマーの状態を確認します。タイマーによる次回の実行では新たな定義ファイルに沿ったノード構成とする処理を行います。"
   ]
  },
  {
   "cell_type": "code",
   "execution_count": null,
   "metadata": {},
   "outputs": [],
   "source": [
    "!ansible {target_group} -b -a 'systemctl list-timers cwh-worker-node.timer'"
   ]
  }
 ],
 "metadata": {
  "kernelspec": {
   "display_name": "Python 3",
   "language": "python",
   "name": "python3"
  },
  "language_info": {
   "file_extension": ".py",
   "mimetype": "text/x-python",
   "name": "python",
   "nbconvert_exporter": "python",
   "pygments_lexer": "ipython3",
   "version": "3.10.4"
  },
  "toc": {
   "base_numbering": 1,
   "nav_menu": {},
   "number_sections": true,
   "sideBar": true,
   "skip_h1_title": true,
   "title_cell": "Table of Contents",
   "title_sidebar": "Contents",
   "toc_cell": false,
   "toc_position": {},
   "toc_section_display": true,
   "toc_window_display": true
  }
 },
 "nbformat": 4,
 "nbformat_minor": 2
}