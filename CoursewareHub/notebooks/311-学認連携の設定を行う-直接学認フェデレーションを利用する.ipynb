{
 "cells": [
  {
   "cell_type": "markdown",
   "metadata": {},
   "source": [
    "# 学認連携の設定を行う -- 直接学認フェデレーションを利用する\n",
    "\n",
    "---\n",
    "\n",
    "学認と連携する設定を行います。IdP-proxyを利用せずにCoursewareHubを直接SPとして学認に登録します。"
   ]
  },
  {
   "cell_type": "markdown",
   "metadata": {},
   "source": [
    "## 概要\n",
    "\n",
    "このNotebookで設定するCoursewareHubと学認フェデレーションの構成要素を以下に示します。\n",
    "\n",
    "![構成](images/cw-321-01.png)"
   ]
  },
  {
   "cell_type": "markdown",
   "metadata": {},
   "source": [
    "このNotebookでは IdP-proxyを利用せずに直接CoursewareHubをSPとして学認に登録する手順について記しています。\n",
    "\n",
    "各コンテナの役割や処理の詳細については https://github.com/NII-cloud-operation/CoursewareHub-LC_jupyterhub-deploy を参照してください。"
   ]
  },
  {
   "cell_type": "markdown",
   "metadata": {},
   "source": [
    "### 前提条件"
   ]
  },
  {
   "cell_type": "markdown",
   "metadata": {},
   "source": [
    "このNotebookは構築済みのCoursewareHubに対して学認連携による認証を追加する設定を行います。そのためCoursewareHubが構築済みであることを前提としています。"
   ]
  },
  {
   "cell_type": "markdown",
   "metadata": {},
   "source": [
    "### おもな設定手順"
   ]
  },
  {
   "cell_type": "markdown",
   "metadata": {},
   "source": [
    "このNotebookの主な設定手順を以下に示します。\n",
    "\n",
    "1. mAPグループの作成\n",
    "1. CoursewareHubに対して学認連携に関する設定変更を行う\n",
    "1. 学認にSP設置の申請を行う\n",
    "1. 学認mAPとの連携\n",
    "\n",
    "\n",
    "このNotebookでの設定手順は学認との連携を設定するためCoursewareHubの設定だけではなく学認のシステムでの設定手順も含まれています。上に示した手順のうち　1　と 4 は学認のクラウドゲートウェイでの設定となります。また手順 3 は学認申請システムでの設定となります。手順2がCoursewareHubに対する設定となっています。\n",
    "\n",
    "学認に関する設定手順ではウェブインターフェースによる設定だけでなく、メールなどによる学認側への依頼が必要となることがあります。"
   ]
  },
  {
   "cell_type": "markdown",
   "metadata": {},
   "source": [
    "### UnitGroup名\n",
    "\n",
    "学認連携を設定する対象となるUnitGroup名を指定します。"
   ]
  },
  {
   "cell_type": "markdown",
   "metadata": {},
   "source": [
    "VCノードを作成時に指定した値を確認するために `group_vars`ファイル名の一覧を表示します。"
   ]
  },
  {
   "cell_type": "code",
   "execution_count": null,
   "metadata": {},
   "outputs": [],
   "source": [
    "!ls -1 --hide all group_vars/"
   ]
  },
  {
   "cell_type": "markdown",
   "metadata": {},
   "source": [
    "UnitGroup名を次のセルに指定してください。"
   ]
  },
  {
   "cell_type": "code",
   "execution_count": null,
   "metadata": {
    "tags": [
     "vcp:parameters"
    ]
   },
   "outputs": [],
   "source": [
    "# (例)\n",
    "# ugroup_name = 'CoursewareHub'\n",
    "\n",
    "ugroup_name = "
   ]
  },
  {
   "cell_type": "markdown",
   "metadata": {
    "heading_collapsed": true
   },
   "source": [
    "### チェック\n",
    "\n",
    "指定されたUnitGroup名が前提条件を満たしていることを確認します。"
   ]
  },
  {
   "cell_type": "markdown",
   "metadata": {
    "hidden": true
   },
   "source": [
    "Ansibleの設定ファイルの場所を環境変数に設定しておきます。"
   ]
  },
  {
   "cell_type": "code",
   "execution_count": null,
   "metadata": {
    "hidden": true
   },
   "outputs": [],
   "source": [
    "from pathlib import Path\n",
    "import os\n",
    "\n",
    "cfg_ansible = Path('ansible.cfg')\n",
    "if cfg_ansible.exists():\n",
    "    os.environ['ANSIBLE_CONFIG'] = str(cfg_ansible.resolve())"
   ]
  },
  {
   "cell_type": "markdown",
   "metadata": {
    "hidden": true
   },
   "source": [
    "構築対象となるVCノードにアクセスできることを確認します。"
   ]
  },
  {
   "cell_type": "code",
   "execution_count": null,
   "metadata": {
    "hidden": true,
    "pinned_outputs": []
   },
   "outputs": [],
   "source": [
    "target_hub = f'{ugroup_name}_manager'\n",
    "\n",
    "!ansible {target_hub} -m ping"
   ]
  },
  {
   "cell_type": "markdown",
   "metadata": {
    "hidden": true
   },
   "source": [
    "UnitGroup名に対応する group_varsファイルが存在していることを確認します。"
   ]
  },
  {
   "cell_type": "code",
   "execution_count": null,
   "metadata": {
    "hidden": true
   },
   "outputs": [],
   "source": [
    "!test -f group_vars/{ugroup_name}"
   ]
  },
  {
   "cell_type": "markdown",
   "metadata": {
    "hidden": true
   },
   "source": [
    "CoursewareHubのサービスが実行されていることを確認します。"
   ]
  },
  {
   "cell_type": "code",
   "execution_count": null,
   "metadata": {
    "hidden": true
   },
   "outputs": [],
   "source": [
    "cmd = \"docker stack services --format '{{.Replicas}}' coursewarehub | grep '1/1' | wc -l\"\n",
    "!ansible {target_hub} -m shell -a \"{{% raw %}} [ \\$({cmd}) -eq 4 ] {{% endraw %}}\""
   ]
  },
  {
   "cell_type": "markdown",
   "metadata": {},
   "source": [
    "## mAPグループの作成"
   ]
  },
  {
   "cell_type": "markdown",
   "metadata": {},
   "source": [
    "[学認クラウドゲートウェイサービス](https://cg.gakunin.jp/)またはSP検証環境(テストフェデレーションの場合)にアクセスしてグループの作成などを行います。手順の詳細については「[GakuNin mAPマニュアル--グループ管理者](https://meatwiki.nii.ac.jp/confluence/pages/viewpage.action?pageId=20873726)」を参照してください。"
   ]
  },
  {
   "cell_type": "markdown",
   "metadata": {},
   "source": [
    "テストフェデレーションでクラウドゲートウェイの機能（SP検証環境）を利用するには事前に利用申請が必要となります。学認mAPの「[問い合わせ](https://meatwiki.nii.ac.jp/confluence/pages/viewpage.action?pageId=8716731)」などに記されている窓口を通してSP検証環境を利用するための依頼を行ってください。テストフェデレーションSP検証環境のアドレスは利用申請後にメールなどで通知されます。"
   ]
  },
  {
   "cell_type": "markdown",
   "metadata": {},
   "source": [
    "### グループの作成\n",
    "\n",
    "学認クラウドゲートウェイのウェブサイトから「グループの作成」を実行してください。"
   ]
  },
  {
   "cell_type": "markdown",
   "metadata": {},
   "source": [
    "![初期画面](images/cw-211-01.png)\n",
    "\n",
    "> キャプチャー画面はテストフェデレーションのものです。\n",
    "\n",
    "グループの作成画面に表示された項目を入力してください。\n",
    "\n",
    "![グループの作成](images/cw-211-02.png)\n",
    "\n",
    "\n",
    "後ほどCoursewareHubに対して学認連携設定を行う際に、ここで「グループID」として指定した値が必要となります。"
   ]
  },
  {
   "cell_type": "markdown",
   "metadata": {},
   "source": [
    "### メンバーの招待\n",
    "\n",
    "必要に応じて「メンバー招待」からCoursewareHubの利用者に対してグループへの招待を行ってください。"
   ]
  },
  {
   "cell_type": "markdown",
   "metadata": {},
   "source": [
    "![メンバー招待](images/cw-211-07.png)"
   ]
  },
  {
   "cell_type": "markdown",
   "metadata": {},
   "source": [
    "## CoursewareHubの設定\n",
    "\n",
    "CoursewareHubに対して学認連携設定を行います。"
   ]
  },
  {
   "cell_type": "markdown",
   "metadata": {},
   "source": [
    "### パラメータを指定する\n",
    "\n",
    "CoursewareHubと連携する学認フェデレーションに関するパラメータを設定します。"
   ]
  },
  {
   "cell_type": "markdown",
   "metadata": {},
   "source": [
    "#### フェデレーション"
   ]
  },
  {
   "cell_type": "markdown",
   "metadata": {},
   "source": [
    "参加するフェデレーションがテストフェデレーションであるか否かを次のセルで指定してください。"
   ]
  },
  {
   "cell_type": "code",
   "execution_count": null,
   "metadata": {},
   "outputs": [],
   "source": [
    "# (例)\n",
    "# enable_test_federation = False   # 運用フェデレーション\n",
    "# enable_test_federation = True    # テストフェデレーション\n",
    "\n",
    "enable_test_federation = "
   ]
  },
  {
   "cell_type": "markdown",
   "metadata": {},
   "source": [
    "#### DSサーバ\n",
    "\n",
    "DSのサーバ名を指定します。"
   ]
  },
  {
   "cell_type": "markdown",
   "metadata": {},
   "source": [
    "指定しない場合は運用フェデレーションのDSサーバ名がデフォルト値として用いられます。テストフェデレーションに参加している場合は次のセルのコメントを外してDSサーバ名を指定してください。"
   ]
  },
  {
   "cell_type": "code",
   "execution_count": null,
   "metadata": {},
   "outputs": [],
   "source": [
    "# gakunin_ds_hostname = 'test-ds.gakunin.nii.ac.jp'    # テストフェデレーション"
   ]
  },
  {
   "cell_type": "markdown",
   "metadata": {},
   "source": [
    "#### クラウドゲートウェイ\n",
    "クラウドゲートウェイのサーバ名を指定します。"
   ]
  },
  {
   "cell_type": "markdown",
   "metadata": {},
   "source": [
    "指定しない場合は運用フェデレーションのサーバ名がデフォルト値として用いられます。テストフェデレーションに参加している場合は次のセルのコメントを外してクラウドゲートウェイのサーバ名を指定してください。"
   ]
  },
  {
   "cell_type": "code",
   "execution_count": null,
   "metadata": {},
   "outputs": [],
   "source": [
    "# cg_fqdn = 'sptest.cg.gakunin.jp'    # テストフェデレーション"
   ]
  },
  {
   "cell_type": "markdown",
   "metadata": {},
   "source": [
    "#### メタデータ検証用証明書\n",
    "\n",
    "メタデータを検証するための証明書を指定します。"
   ]
  },
  {
   "cell_type": "markdown",
   "metadata": {},
   "source": [
    "証明書を配布しているURLを次のセルで指定してください。"
   ]
  },
  {
   "cell_type": "code",
   "execution_count": null,
   "metadata": {},
   "outputs": [],
   "source": [
    "# (例)\n",
    "# metadata_signer_url = 'https://metadata.gakunin.nii.ac.jp/gakunin-signer-2017.cer'          # 運用フェデレーション\n",
    "# metadata_signer_url = 'https://metadata.gakunin.nii.ac.jp/gakunin-test-signer-2020.cer'  # テストフェデレーション\n",
    "\n",
    "metadata_signer_url = "
   ]
  },
  {
   "cell_type": "markdown",
   "metadata": {},
   "source": [
    "####  mAPのグループを指定する\n",
    "\n",
    "CoursewareHubの利用を許可対象となる利用者を指定します。"
   ]
  },
  {
   "cell_type": "markdown",
   "metadata": {},
   "source": [
    "指定する値は「[2. mAPグループの作成](#mAPグループの作成)」で作成した学認mAPのグループIDとなります。グループIDの指定はリストの形式で行うので複数のグループIDを指定することができます。"
   ]
  },
  {
   "cell_type": "code",
   "execution_count": null,
   "metadata": {},
   "outputs": [],
   "source": [
    "# (例)\n",
    "# cg_groups = [\n",
    "#    'group1-id',\n",
    "#    'group2-id',\n",
    "#]\n",
    "\n",
    "cg_groups = [\n",
    "    \n",
    "]"
   ]
  },
  {
   "cell_type": "markdown",
   "metadata": {
    "heading_collapsed": true
   },
   "source": [
    "#### パラメータの保存\n",
    "\n",
    "ここまで指定したパラメータを ansible の変数として `group_vars`ファイルに保存します。"
   ]
  },
  {
   "cell_type": "code",
   "execution_count": null,
   "metadata": {
    "hidden": true
   },
   "outputs": [],
   "source": [
    "import yaml\n",
    "from pathlib import Path\n",
    "\n",
    "gvars_path = Path(f'group_vars/{ugroup_name}')\n",
    "with gvars_path.open() as f:\n",
    "    gvars = yaml.safe_load(f)\n",
    "\n",
    "cg_group_prefix = (\n",
    "    \"https://cg.gakunin.jp/gr/\"\n",
    "    if not enable_test_federation\n",
    "    else \"https://sptest.cg.gakunin.jp/gr/\"\n",
    ")\n",
    "\n",
    "for key in [\"auth_fqdn\"]:\n",
    "    if key in gvars:\n",
    "        del(gvars[key])\n",
    "\n",
    "gvars.update({\n",
    "    'enable_federation': True,\n",
    "    'enable_test_federation': enable_test_federation,\n",
    "    'metadata_signer_url': metadata_signer_url,\n",
    "    'cg_groups': [\n",
    "        f'{cg_group_prefix}{x}' if not x.startswith('https://') else x\n",
    "        for x in cg_groups\n",
    "    ],\n",
    "})\n",
    "\n",
    "jupyterhub_param_names = ['gakunin_ds_hostname', 'cg_fqdn']\n",
    "for name in jupyterhub_param_names:\n",
    "    if name in vars():\n",
    "        gvars[name] = vars()[name]\n",
    "    elif 'name' in gvars:\n",
    "        del(gvars['name'])\n",
    "\n",
    "with gvars_path.open(mode='w') as f:\n",
    "    yaml.safe_dump(gvars, stream=f)\n",
    "    \n",
    "!cat group_vars/{ugroup_name}"
   ]
  },
  {
   "cell_type": "markdown",
   "metadata": {
    "heading_collapsed": true
   },
   "source": [
    "### 設定ファイルの配置、更新\n",
    "\n",
    "学認連携のために必要となる設定ファイルの配置や更新を行います。"
   ]
  },
  {
   "cell_type": "markdown",
   "metadata": {
    "hidden": true
   },
   "source": [
    "ここで配置、更新するファイルを以下の表に示します。\n",
    "\n",
    "|パス|用途|\n",
    "|:---|:---|\n",
    "|/etc/jupyterhub/simplesamlphp/cert/gakunin-signer.cer|メタデータ検証用証明書|\n",
    "|/etc/jupyterhub/hub-const.php|auth-proxyコンテナの設定ファイル(更新)|\n",
    "|/opt/coursewarehub/docker-compose.yml|docker-composeの設定ファイル(更新)|\n"
   ]
  },
  {
   "cell_type": "markdown",
   "metadata": {
    "hidden": true
   },
   "source": [
    "まず実際に設定を変更する前にドライラン（チェックモード）でansibleを実行します。"
   ]
  },
  {
   "cell_type": "code",
   "execution_count": null,
   "metadata": {
    "hidden": true,
    "scrolled": true
   },
   "outputs": [],
   "source": [
    "!ansible-playbook -l {target_hub} -CDv playbooks/setup-gakunin-sp.yml || true"
   ]
  },
  {
   "cell_type": "markdown",
   "metadata": {
    "hidden": true
   },
   "source": [
    "実際に設定変更を行います。"
   ]
  },
  {
   "cell_type": "code",
   "execution_count": null,
   "metadata": {
    "hidden": true,
    "scrolled": true
   },
   "outputs": [],
   "source": [
    "!ansible-playbook -l {target_hub} playbooks/setup-gakunin-sp.yml"
   ]
  },
  {
   "cell_type": "markdown",
   "metadata": {
    "hidden": true
   },
   "source": [
    "配置したファイルを確認します。"
   ]
  },
  {
   "cell_type": "code",
   "execution_count": null,
   "metadata": {
    "hidden": true
   },
   "outputs": [],
   "source": [
    "!ansible {target_hub} -a 'tree -F {{{{jupyterhub_cfg_dir}}}}'"
   ]
  },
  {
   "cell_type": "markdown",
   "metadata": {
    "heading_collapsed": true
   },
   "source": [
    "### コンテナの更新\n",
    "\n",
    "コンテナを起動し直して変更した設定の反映を行います。"
   ]
  },
  {
   "cell_type": "markdown",
   "metadata": {
    "hidden": true
   },
   "source": [
    "起動中のコンテナを一度停止します。"
   ]
  },
  {
   "cell_type": "code",
   "execution_count": null,
   "metadata": {
    "hidden": true
   },
   "outputs": [],
   "source": [
    "!ansible {target_hub} -a 'docker stack rm coursewarehub'"
   ]
  },
  {
   "cell_type": "markdown",
   "metadata": {
    "hidden": true
   },
   "source": [
    "コンテナを起動し直します。"
   ]
  },
  {
   "cell_type": "code",
   "execution_count": null,
   "metadata": {
    "hidden": true
   },
   "outputs": [],
   "source": [
    "!ansible {target_hub} -a 'chdir={{{{compose_dir}}}} \\\n",
    "    docker stack deploy -c docker-compose.yml coursewarehub'"
   ]
  },
  {
   "cell_type": "markdown",
   "metadata": {
    "hidden": true
   },
   "source": [
    "全てのコンテナが起動するまで待ち合わせを行います。\n"
   ]
  },
  {
   "cell_type": "code",
   "execution_count": null,
   "metadata": {
    "hidden": true
   },
   "outputs": [],
   "source": [
    "import time\n",
    "import sys\n",
    "\n",
    "\n",
    "cmd = \"docker stack services --format '{{.Replicas}}' coursewarehub | grep '1/1' | wc -l\"\n",
    "for retry in range(18):\n",
    "    time.sleep(10)\n",
    "    try:\n",
    "        !ansible {target_hub} -m shell -a \"{{% raw %}} [ \\$({cmd}) -eq 4 ] {{% endraw %}}\"\n",
    "        break\n",
    "    except:\n",
    "        print('retry', file=sys.stderr)\n",
    "else:\n",
    "    !ansible {target_hub} -a 'docker stack services coursewarehub'\n",
    "    raise RuntimeError(\"起動処理が完了しませんでした。\")"
   ]
  },
  {
   "cell_type": "markdown",
   "metadata": {
    "hidden": true
   },
   "source": [
    "コンテナの起動状態を確認します。"
   ]
  },
  {
   "cell_type": "code",
   "execution_count": null,
   "metadata": {
    "hidden": true
   },
   "outputs": [],
   "source": [
    "!ansible {target_hub} -a 'docker stack services coursewarehub'"
   ]
  },
  {
   "cell_type": "markdown",
   "metadata": {},
   "source": [
    "## 学認にSP設置の申請を行う\n",
    "\n",
    "申請を行う前に学認（GakuNin）の「[参加情報](https://www.gakunin.jp/join)」にてフェデレーション参加の流れを確認してください。参加するフェデレーションに従い「[テストフェデレーション参加手続き](https://www.gakunin.jp/join/test)」または「[運用フェデレーション参加手続き](https://www.gakunin.jp/join/production)」にある「学認申請システム」から「新規SP申請」を行います。"
   ]
  },
  {
   "cell_type": "markdown",
   "metadata": {},
   "source": [
    "「新規SP申請」を選択すると以下のような画面が表示されます。\n",
    "> キャプチャー画面はテストフェデレーションのものです。\n",
    "\n",
    "![新規SP申請](images/cw-531-01.png)\n",
    "\n",
    "CoursewareHubでは[SimpleSAMLphp](https://simplesamlphp.org/)を利用しています。そのため学認申請システムのテンプレートではなく、構築したCoursewareHub のメタデータを「テンプレート外メタデータ」からアップロードして申請してください。\n",
    "\n",
    "![メタデータアップロード](images/cw-531-02.png)"
   ]
  },
  {
   "cell_type": "markdown",
   "metadata": {},
   "source": [
    "CoursewareHubからメタデータをダウンロードします。次のセルを実行することで表示されるリンク先にアクセスするとメタデータがダウンロードされます。"
   ]
  },
  {
   "cell_type": "code",
   "execution_count": null,
   "metadata": {},
   "outputs": [],
   "source": [
    "print(f'https://{gvars[\"master_fqdn\"]}/simplesaml/module.php/saml/sp/metadata.php/default-sp')"
   ]
  },
  {
   "cell_type": "markdown",
   "metadata": {},
   "source": [
    "ダウンロードしたメタデータを学認申請システムにアップロードすると「SPメタデータ情報」の入力欄のうちメタデータに対応するものが設定されます。他の欄を入力した後に申請してください。ただし CoursewareHubでは `mail` 属性を利用するので「受信する属性情報」に `mail` を**必須** な項目として追加してください。"
   ]
  },
  {
   "cell_type": "markdown",
   "metadata": {},
   "source": [
    "## 学認mAPとの連携\n",
    "\n",
    "CoursewareHubでは利用者をグループ管理するために[学認mAP](https://meatwiki.nii.ac.jp/confluence/display/gakuninmappublic/Home)を利用します。ここでは CoursewareHub を学認mAPと連携する手順について記します。"
   ]
  },
  {
   "cell_type": "markdown",
   "metadata": {},
   "source": [
    "### 申請"
   ]
  },
  {
   "cell_type": "markdown",
   "metadata": {},
   "source": [
    "mAPとの連携を行うためには、構築したCoursewareHubをSPコネクタとしてmAPに登録します。SPコネクタの登録を行うには事前にSP管理者権限を学認側のシステムで付与してもらう必要があります。学認mAPの「[問い合わせ](https://meatwiki.nii.ac.jp/confluence/pages/viewpage.action?pageId=8716731)」などに記されている窓口を通して「SPコネクタの作成」を行うため設定を依頼してください。"
   ]
  },
  {
   "cell_type": "markdown",
   "metadata": {},
   "source": [
    "### メタデータの登録（テストフェデレーションの場合）\n",
    "\n",
    "テストフェデレーションの場合、SP検証環境(mAP)のメタデータファイルをCoursewareHubに配置します。運用フェデレーションの場合はこの手順は不要です。"
   ]
  },
  {
   "cell_type": "markdown",
   "metadata": {},
   "source": [
    "SP検証環境利用申請を行うと、学認クラウドゲートウェイサービスサポートからSP検証環境のメタデータが送られてきます。送られてきたメタデータを CoursewareHub に登録します。メタデータファイルをこのNotebook環境に配置して、そのパスを次のセルで指定してください。"
   ]
  },
  {
   "cell_type": "code",
   "execution_count": null,
   "metadata": {},
   "outputs": [],
   "source": [
    "# (例)\n",
    "# cgidp_metadata = 'sptestcgidp-metadata-20200918.xml'\n",
    "\n",
    "cgidp_metadata = "
   ]
  },
  {
   "cell_type": "markdown",
   "metadata": {},
   "source": [
    "指定したパラメータをgroup varsファイルに保存します。"
   ]
  },
  {
   "cell_type": "code",
   "execution_count": null,
   "metadata": {
    "scrolled": true
   },
   "outputs": [],
   "source": [
    "import yaml\n",
    "from pathlib import Path\n",
    "\n",
    "gvars_path = Path(f'group_vars/{ugroup_name}')\n",
    "with gvars_path.open() as f:\n",
    "    gvars = yaml.safe_load(f)\n",
    "    \n",
    "if gvars[\"enable_test_federation\"]:\n",
    "    gvars.update({\"cgidp_metadata\": str(Path(cgidp_metadata).resolve())})\n",
    "    with gvars_path.open(mode='w') as f:\n",
    "        yaml.safe_dump(gvars, stream=f)\n",
    "\n",
    "!cat group_vars/{ugroup_name}"
   ]
  },
  {
   "cell_type": "markdown",
   "metadata": {},
   "source": [
    "SP検証環境のメタデータをCoursewareHubの環境に配置します。ここで配置するファイルを以下の表に示します。\n",
    "\n",
    "|パス|用途|\n",
    "|:---|:---|\n",
    "|/etc/jupyterhub/simplesamlphp/metadata/xml/cgidp-metadata.xml|SP検証環境のメタデータ|\n"
   ]
  },
  {
   "cell_type": "markdown",
   "metadata": {},
   "source": [
    "まず実際に設定を変更する前にドライラン（チェックモード）でansibleを実行します。"
   ]
  },
  {
   "cell_type": "code",
   "execution_count": null,
   "metadata": {},
   "outputs": [],
   "source": [
    "!ansible-playbook -l {target_hub} -CDv playbooks/setup-gakunin-sp.yml || true"
   ]
  },
  {
   "cell_type": "markdown",
   "metadata": {},
   "source": [
    "実際に設定変更を行います。"
   ]
  },
  {
   "cell_type": "code",
   "execution_count": null,
   "metadata": {},
   "outputs": [],
   "source": [
    "!ansible-playbook -l {target_hub} playbooks/setup-gakunin-sp.yml"
   ]
  },
  {
   "cell_type": "markdown",
   "metadata": {},
   "source": [
    "配置したファイルを確認します。"
   ]
  },
  {
   "cell_type": "code",
   "execution_count": null,
   "metadata": {},
   "outputs": [],
   "source": [
    "!ansible {target_hub} -a 'tree -F {{{{jupyterhub_cfg_dir}}}}'"
   ]
  },
  {
   "cell_type": "markdown",
   "metadata": {},
   "source": [
    "### SPコネクタの作成"
   ]
  },
  {
   "cell_type": "markdown",
   "metadata": {},
   "source": [
    "[学認クラウドゲートウェイサービス](https://cg.gakunin.jp/)または(テストフェデレーションの場合)SP検証環境にアクセスしてSPコネクタの作成を行います。手順の詳細については学認クラウドゲートウェイサービス利用マニュアルの「[SPコネクタを作成する](https://meatwiki.nii.ac.jp/confluence/pages/viewpage.action?pageId=20873902)」の章を参照してください。"
   ]
  },
  {
   "cell_type": "markdown",
   "metadata": {},
   "source": [
    "SP管理者が学認クラウドゲートウェイのウェブサイトにアクセスすると以下のような画面が表示されます。\n",
    "\n",
    "> キャプチャー画面はテストフェデレーションのものです。\n",
    "\n",
    "![クラウドゲートウェイ画面](images/cw-531-03.png)"
   ]
  },
  {
   "cell_type": "markdown",
   "metadata": {},
   "source": [
    "「SPコネクタの作成」を選択すると入力画面が表示されるので、必要な項目を入力してください。\n",
    "\n",
    "![新規SPコネクタ入力画面](images/cw-531-04.png)\n",
    "\n",
    "詳細設定の「Q1 作成するSPコネクタは、検索対象にしますか？」との項目で「検索対象としない」を選択した場合は、グループ管理者がSPコネクタを見つけることが出来なくなります。グループとの接続を行うためにはSPコネクタ側からグループへ接続申請をする必要があります。"
   ]
  },
  {
   "cell_type": "markdown",
   "metadata": {},
   "source": [
    "### グループをSPコネクタに接続する\n",
    "\n",
    "「[2. mAPグループの作成](#mAPグループの作成)」で作成したグループをサービス(SPコネクタ)に紐づけ、グループに属するユーザがCoursewareHubサービス(SP)を利用できるようにします。\n",
    "\n",
    "> ここでは SPコネクタの管理者とグループの管理者が同一であることを想定しています。"
   ]
  },
  {
   "cell_type": "markdown",
   "metadata": {},
   "source": [
    "グループとサービス（SPコネクタ）の紐づけは、グループ側からサービスを指定する方法とサービス側（SPコネクタ）からグループを指定して接続する方法があります。ここではグループ管理者がSPコネクタ（サービス）へと接続申請を行う手順を示します。設定方法の詳細については学認クラウドゲートウェイマニュアルの「[サービスを利用する](https://meatwiki.nii.ac.jp/confluence/pages/viewpage.action?pageId=20873789)」を参照してください。また、逆の関連付けとなるSPコネクタからグループ管理者へ接続申請を行う手順については「[SPコネクタにグループを接続する](https://meatwiki.nii.ac.jp/confluence/pages/viewpage.action?pageId=20873907)」を参照してください。\n",
    "\n",
    "まず、グループの管理者メニューから「利用Webサービス」を選択します。\n",
    "\n",
    "![グループ画面](images/cw-211-03.png)\n",
    "\n",
    "「利用するWebサービスを追加」ボタンを押すと、サービスの一覧が表示されるので「3.3 SPコネクタの作成」で登録したサービスを選択してください。\n",
    "\n",
    "> SPコネクタとして登録する際に、詳細設定の「Q1 作成するSPコネクタは、検索対象にしますか？」の値を「検索対象としない」と設定した場合はWebサービスの一覧には表示されません。\n",
    "\n",
    "![サービス一覧画面](images/cw-211-04.png)\n",
    "\n",
    "CoursewareHubのサービスを選択して申請を行うと承認待ちの状態となります。\n",
    "\n",
    "![承認待ち画面](images/cw-211-05.png)\n",
    "\n",
    "SPコネクタの設定画面から承認を行うと申請状態が「承認」となります。\n",
    "\n",
    "![グループ画面](images/cw-211-06.png)"
   ]
  },
  {
   "cell_type": "markdown",
   "metadata": {},
   "source": [
    "## CoursewareHubに学認IdPのアカウントでログインする\n",
    "\n",
    "学認IdPのアカウントでCoursewareHubにログインできることを確認します。"
   ]
  },
  {
   "cell_type": "markdown",
   "metadata": {},
   "source": [
    "次のセルを実行すると、CoursewareHubのアドレスを表示します。"
   ]
  },
  {
   "cell_type": "code",
   "execution_count": null,
   "metadata": {},
   "outputs": [],
   "source": [
    "print(f'https://{gvars[\"master_fqdn\"]}')"
   ]
  },
  {
   "cell_type": "markdown",
   "metadata": {},
   "source": [
    "ログイン画面に表示されている「学認フェデレーションへ」のリンクから学認IdPを利用したログインができます。\n",
    "\n",
    "![ログイン画面](images/cw-221-02.png)\n",
    "\n",
    "「学認フェデレーションへ」のリンクから進むと以下のようなIdPの選択画面が表示されます。\n",
    "\n",
    "> キャプチャー画面はテストフェデレーションのものです。\n",
    "\n",
    "![IdP選択画面](images/cw-221-03.png)\n",
    "\n",
    "IdPを選択しログインを行ってください。利用を許可したmAPグループに所属しているユーザであればsingle-userサーバが実行されてJupyter環境を利用することができます。"
   ]
  }
 ],
 "metadata": {
  "kernelspec": {
   "display_name": "Python 3",
   "language": "python",
   "name": "python3"
  },
  "language_info": {
   "file_extension": ".py",
   "mimetype": "text/x-python",
   "name": "python",
   "nbconvert_exporter": "python",
   "pygments_lexer": "ipython3",
   "version": "3.10.4"
  },
  "toc": {
   "base_numbering": 1,
   "nav_menu": {},
   "number_sections": true,
   "sideBar": true,
   "skip_h1_title": true,
   "title_cell": "Table of Contents",
   "title_sidebar": "Contents",
   "toc_cell": false,
   "toc_position": {},
   "toc_section_display": true,
   "toc_window_display": true
  }
 },
 "nbformat": 4,
 "nbformat_minor": 2
}
