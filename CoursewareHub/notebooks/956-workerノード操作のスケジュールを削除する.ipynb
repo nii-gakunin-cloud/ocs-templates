{
 "cells": [
  {
   "cell_type": "markdown",
   "metadata": {},
   "source": [
    "# ノード操作のスケジュールを削除する\n",
    "---\n",
    "\n",
    "workerノードのスケジュール設定を削除します。"
   ]
  },
  {
   "cell_type": "markdown",
   "metadata": {},
   "source": [
    "## ノード操作を行う環境の指定\n",
    "\n",
    "VCノード操作コンテナを実行する環境のansibleグループを指定します。"
   ]
  },
  {
   "cell_type": "markdown",
   "metadata": {},
   "source": [
    "既存のグループ名を確認するために `group_vars`ファイル名の一覧を表示します。"
   ]
  },
  {
   "cell_type": "code",
   "execution_count": null,
   "metadata": {},
   "outputs": [],
   "source": [
    "!ls -1 --hide all group_vars/"
   ]
  },
  {
   "cell_type": "markdown",
   "metadata": {},
   "source": [
    "上記のセルに表示されたグループ名から電源操作コンテナを実行しているグループ名を次のセルで指定してください。"
   ]
  },
  {
   "cell_type": "code",
   "execution_count": null,
   "metadata": {},
   "outputs": [],
   "source": [
    "# (例)\n",
    "# group = 'CoursewareHub'\n",
    "# group = 'powerctl'\n",
    "# group = 'scaleout'\n",
    "\n",
    "group = "
   ]
  },
  {
   "cell_type": "markdown",
   "metadata": {
    "heading_collapsed": true
   },
   "source": [
    "### チェック\n",
    "\n",
    "指定されたグループ名が妥当なものであることをチェックします。"
   ]
  },
  {
   "cell_type": "markdown",
   "metadata": {
    "hidden": true
   },
   "source": [
    "設定されているパラメータを読み込みます。"
   ]
  },
  {
   "cell_type": "code",
   "execution_count": null,
   "metadata": {
    "hidden": true
   },
   "outputs": [],
   "source": [
    "%run scripts/group.py\n",
    "gvars = load_group_vars(group)\n",
    "target_group = group if \"rsc_yml\" not in gvars else f\"{group}_manager\""
   ]
  },
  {
   "cell_type": "markdown",
   "metadata": {
    "hidden": true
   },
   "source": [
    "指定されたノードにansibleでアクセスできることを確認します。"
   ]
  },
  {
   "cell_type": "code",
   "execution_count": null,
   "metadata": {
    "hidden": true
   },
   "outputs": [],
   "source": [
    "!ansible {target_group} -m ping"
   ]
  },
  {
   "cell_type": "markdown",
   "metadata": {
    "hidden": true
   },
   "source": [
    "スケジュールの設定ファイルが対象ノードに存在していることを確認します。"
   ]
  },
  {
   "cell_type": "code",
   "execution_count": null,
   "metadata": {
    "hidden": true
   },
   "outputs": [],
   "source": [
    "!ansible {target_group} -a 'test -f {gvars[\"vcnode_ctl_dir\"]}/schedule.json'"
   ]
  },
  {
   "cell_type": "markdown",
   "metadata": {
    "hidden": true
   },
   "source": [
    "設定対象となるansibleグループにスケジュール設定があることを確認します。"
   ]
  },
  {
   "cell_type": "code",
   "execution_count": null,
   "metadata": {
    "hidden": true
   },
   "outputs": [],
   "source": [
    "tgt_gvars = load_group_vars(gvars['ugroup_name'])\n",
    "if \"schedule\" not in tgt_gvars:\n",
    "    raise RuntimeError(f\"{gvars['ugroup_name']}にはスケジュールの設定が行われていません\")"
   ]
  },
  {
   "cell_type": "markdown",
   "metadata": {},
   "source": [
    "### VCCアクセストークンの入力"
   ]
  },
  {
   "cell_type": "markdown",
   "metadata": {},
   "source": [
    "VCノードの状態を確認するためにVC Controller(VCC)のアクセストークンが必要となります。\n",
    "次のセルを実行すると表示される入力枠にVCCのアクセストークンを入力してください。\n",
    "\n",
    "> アクセストークン入力後に Enter キーを押すことで入力が完了します。"
   ]
  },
  {
   "cell_type": "code",
   "execution_count": null,
   "metadata": {},
   "outputs": [],
   "source": [
    "from getpass import getpass\n",
    "vcc_access_token = getpass()"
   ]
  },
  {
   "cell_type": "markdown",
   "metadata": {},
   "source": [
    "入力されたアクセストークンが正しいことを、実際にVCCにアクセスして確認します。"
   ]
  },
  {
   "cell_type": "code",
   "execution_count": null,
   "metadata": {},
   "outputs": [],
   "source": [
    "from common import logsetting\n",
    "from vcpsdk.vcpsdk import VcpSDK\n",
    "\n",
    "vcp = VcpSDK(vcc_access_token)"
   ]
  },
  {
   "cell_type": "markdown",
   "metadata": {},
   "source": [
    "上のセルの実行結果がエラーとなる場合は入力されたアクセストークンに誤りがあります。この節のセルを全て `unfreeze` してから、もう一度アクセストークンの入力を行ってください。"
   ]
  },
  {
   "cell_type": "markdown",
   "metadata": {
    "heading_collapsed": true
   },
   "source": [
    "## スケジュール設定の停止"
   ]
  },
  {
   "cell_type": "markdown",
   "metadata": {
    "hidden": true
   },
   "source": [
    "### タイマーの停止\n",
    "\n",
    "VCノードのスケジュール設定を行うsystemdタイマーを停止して無効化します。"
   ]
  },
  {
   "cell_type": "markdown",
   "metadata": {
    "hidden": true
   },
   "source": [
    "現在のsystemdタイマーの設定状況を確認します。"
   ]
  },
  {
   "cell_type": "code",
   "execution_count": null,
   "metadata": {
    "hidden": true
   },
   "outputs": [],
   "source": [
    "flags = '--user' if not target_group.startswith(gvars[\"ugroup_name\"]) else ''\n",
    "!ansible {target_group} -a 'systemctl {flags} list-timers'"
   ]
  },
  {
   "cell_type": "markdown",
   "metadata": {
    "hidden": true
   },
   "source": [
    "VCノードを操作するスケジュール設定を停止して無効化します。"
   ]
  },
  {
   "cell_type": "code",
   "execution_count": null,
   "metadata": {
    "hidden": true,
    "scrolled": true
   },
   "outputs": [],
   "source": [
    "if target_group.startswith(gvars[\"ugroup_name\"]):\n",
    "    become = '-b'\n",
    "    scope = 'system'\n",
    "else:\n",
    "    become = ''\n",
    "    scope  = 'user'\n",
    "\n",
    "!ansible {target_group} {become} -m systemd -a \\\n",
    "    'name=cwh-worker-node.timer enabled=false state=stopped scope={scope}'"
   ]
  },
  {
   "cell_type": "markdown",
   "metadata": {
    "hidden": true
   },
   "source": [
    "systemdタイマーの設定一覧を表示します。`cwh-worker-node.timer` が表示されなくなっていることを確認してください。"
   ]
  },
  {
   "cell_type": "code",
   "execution_count": null,
   "metadata": {
    "hidden": true
   },
   "outputs": [],
   "source": [
    "!ansible {target_group} -a 'systemctl {flags} list-timers'"
   ]
  },
  {
   "cell_type": "markdown",
   "metadata": {
    "hidden": true
   },
   "source": [
    "### workerノードの構成を設定ファイルに反映する\n",
    "\n",
    "インベントリやgroup_varsにあるworkerノードに関する情報を現在のworkerノードに合うように更新します。"
   ]
  },
  {
   "cell_type": "markdown",
   "metadata": {
    "hidden": true
   },
   "source": [
    "現在のworkerノードに割り当てられているIPアドレスを確認します。"
   ]
  },
  {
   "cell_type": "code",
   "execution_count": null,
   "metadata": {
    "hidden": true
   },
   "outputs": [],
   "source": [
    "from ipaddress import IPv4Address, AddressValueError\n",
    "\n",
    "ug = vcp.get_ugroup(gvars[\"ugroup_name\"])\n",
    "ut = ug.get_unit(\"worker\")\n",
    "nodes = ut.find_nodes()\n",
    "worker_ipaddresses = []\n",
    "for node in nodes:\n",
    "    try:\n",
    "        worker_ipaddresses.append(str(IPv4Address(node.cloud_instance_address)))\n",
    "    except AddressValueError:\n",
    "        pass\n",
    "\n",
    "print(worker_ipaddresses)"
   ]
  },
  {
   "cell_type": "markdown",
   "metadata": {
    "hidden": true
   },
   "source": [
    "group_varsファイルのパラメータを現在のworkerノードに合うように更新します。"
   ]
  },
  {
   "cell_type": "code",
   "execution_count": null,
   "metadata": {
    "hidden": true
   },
   "outputs": [],
   "source": [
    "update_group_vars(\n",
    "    gvars[\"ugroup_name\"],\n",
    "    worker_ipaddresses=worker_ipaddresses,\n",
    "    worker_nodes=len(worker_ipaddresses),\n",
    ")"
   ]
  },
  {
   "cell_type": "markdown",
   "metadata": {
    "hidden": true
   },
   "source": [
    "インベントリファイルの内容を現在のworkerノードに合うように更新します。"
   ]
  },
  {
   "cell_type": "code",
   "execution_count": null,
   "metadata": {
    "hidden": true
   },
   "outputs": [],
   "source": [
    "import yaml\n",
    "from pathlib import Path\n",
    "\n",
    "inventory_path = Path(\"inventory.yml\")\n",
    "with inventory_path.open(encoding=\"utf-8\") as f:\n",
    "    inventory = yaml.safe_load(f)\n",
    "inventory[\"all\"][\"children\"][gvars[\"ugroup_name\"]][\"children\"][f\"{gvars['ugroup_name']}_worker\"][\"hosts\"] = {\n",
    "    x: {\"servicenet_ip\": x} for x in worker_ipaddresses\n",
    "}\n",
    "with inventory_path.open(mode=\"w\", encoding=\"utf-8\") as f:\n",
    "    yaml.safe_dump(inventory, f)\n",
    "    \n",
    "!cat {inventory_path}"
   ]
  },
  {
   "cell_type": "markdown",
   "metadata": {
    "hidden": true
   },
   "source": [
    "### group_varsの更新\n",
    "\n",
    "group_varsファイルからスケジュール設定に関するパラメータを削除します。"
   ]
  },
  {
   "cell_type": "code",
   "execution_count": null,
   "metadata": {
    "hidden": true
   },
   "outputs": [],
   "source": [
    "if target_group.startswith(gvars[\"ugroup_name\"]):\n",
    "    !cp group_vars/{group} group_vars/.{group}.bak || true\n",
    "    remove_group_vars(group, \"vcnode_ctl_dir\", \"vcnode_schedule\", \"schedule\", \"vcnode_all_ipaddress\", if_exists=True)\n",
    "else:\n",
    "    remove_group_vars(gvars[\"ugroup_name\"], \"schedule\", if_exists=True)\n",
    "    !mv group_vars/{target_group} group_vars/.{target_group}.bak || true\n",
    "    remove_group_from_inventory_yml(target_group)"
   ]
  }
 ],
 "metadata": {
  "kernelspec": {
   "display_name": "Python 3",
   "language": "python",
   "name": "python3"
  },
  "language_info": {
   "file_extension": ".py",
   "mimetype": "text/x-python",
   "name": "python",
   "nbconvert_exporter": "python",
   "pygments_lexer": "ipython3",
   "version": "3.10.4"
  },
  "toc": {
   "base_numbering": 1,
   "nav_menu": {},
   "number_sections": true,
   "sideBar": true,
   "skip_h1_title": true,
   "title_cell": "Table of Contents",
   "title_sidebar": "Contents",
   "toc_cell": false,
   "toc_position": {},
   "toc_section_display": true,
   "toc_window_display": true
  }
 },
 "nbformat": 4,
 "nbformat_minor": 2
}