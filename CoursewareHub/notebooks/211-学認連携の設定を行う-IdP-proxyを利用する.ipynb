{
 "cells": [
  {
   "cell_type": "markdown",
   "metadata": {},
   "source": [
    "# 学認連携の設定を行う -- IdP-proxyを利用する\n",
    "\n",
    "---\n",
    "\n",
    "学認と連携する設定を行います。CoursewareHubを学認に直接登録せずに、IdP-proxyを利用して学認と連携して認証する設定を行います。"
   ]
  },
  {
   "cell_type": "markdown",
   "metadata": {},
   "source": [
    "## 概要\n",
    "\n",
    "このNotebookで設定するCoursewareHubと学認フェデレーションの構成要素を以下に示します。\n",
    "\n",
    "![構成](images/cw-221-01.png)"
   ]
  },
  {
   "cell_type": "markdown",
   "metadata": {},
   "source": [
    "このNotebookではCoursewareHubをIdP-proxyを利用して学認連携を設定する手順について記しています。\n",
    "\n",
    "各コンテナの役割や処理の詳細については https://github.com/NII-cloud-operation/CoursewareHub-LC_jupyterhub-deploy を参照してください。"
   ]
  },
  {
   "cell_type": "markdown",
   "metadata": {},
   "source": [
    "### 前提条件"
   ]
  },
  {
   "cell_type": "markdown",
   "metadata": {},
   "source": [
    "このNotebookは構築済みのCoursewareHubに対して学認連携による認証を追加する設定を行います。そのためCoursewareHubが構築済みであることを前提としています。\n",
    "\n",
    "学認との連携にはIdP-proxyを利用します。IdP-proxyは事前に構築されていることを前提としています。まだIdP-proxyを構築していない場合は「521-IdP-proxyのセットアップ.ipynb」などのNotebookを用いて先にIdP-proxyの構築を行ってください。またCoursewareHubのauth-proxyコンテナとIdP-proxyとの間でメタデータの取得を行います。お互いにアクセス可能となるようファイアウォールやホスト名の名前解決などの設定を事前に行ってください。"
   ]
  },
  {
   "cell_type": "markdown",
   "metadata": {},
   "source": [
    "### 設定手順"
   ]
  },
  {
   "cell_type": "markdown",
   "metadata": {},
   "source": [
    "IdP-proxyを利用して学認と連携するための設定手順を以下に示します。\n",
    "\n",
    "1. mAPグループの作成\n",
    "1. CoursewareHubに対してIdP-proxyと連携するための設定変更を行う\n",
    "1. 構築したCoursewareHubのメタデータをIdP-proxyに登録する\n",
    "\n",
    "このNotebookでの設定手順は学認との連携を設定するためCoursewareHubの設定だけではなく学認のシステムでの設定手順も含まれています。\n",
    "上に示した手順のうち1は学認のクラウドゲートウェイでの設定となります。手順2がCoursewareHubに対する設定となります。また手順3はIdP-proxyでの設定となります。設定3は別のNotebook「541-IdP-proxyへauth-proxyのメタデータを登録する.ipynb」で実行します。"
   ]
  },
  {
   "cell_type": "markdown",
   "metadata": {},
   "source": [
    "### グループ名\n",
    "\n",
    "学認連携を設定する対象となるCoursewareHubのansibleグループ名を指定します。"
   ]
  },
  {
   "cell_type": "markdown",
   "metadata": {},
   "source": [
    "CoursewareHubを構築したansibleのグループ名を確認するために `group_vars`ファイル名の一覧を表示します。"
   ]
  },
  {
   "cell_type": "code",
   "execution_count": null,
   "metadata": {},
   "outputs": [],
   "source": [
    "!ls -1 --hide all group_vars/"
   ]
  },
  {
   "cell_type": "markdown",
   "metadata": {},
   "source": [
    "グループ名を次のセルに指定してください。"
   ]
  },
  {
   "cell_type": "code",
   "execution_count": null,
   "metadata": {
    "tags": [
     "vcp:parameters"
    ]
   },
   "outputs": [],
   "source": [
    "# (例)\n",
    "# ugroup_name = 'CoursewareHub'\n",
    "\n",
    "ugroup_name = "
   ]
  },
  {
   "cell_type": "markdown",
   "metadata": {
    "heading_collapsed": true
   },
   "source": [
    "### チェック\n",
    "\n",
    "指定されたグループ名が前提条件を満たしていることを確認します。"
   ]
  },
  {
   "cell_type": "markdown",
   "metadata": {
    "hidden": true
   },
   "source": [
    "Ansibleの設定ファイルの場所を環境変数に設定しておきます。"
   ]
  },
  {
   "cell_type": "code",
   "execution_count": null,
   "metadata": {
    "hidden": true
   },
   "outputs": [],
   "source": [
    "from pathlib import Path\n",
    "import os\n",
    "\n",
    "cfg_ansible = Path('ansible.cfg')\n",
    "if cfg_ansible.exists():\n",
    "    os.environ['ANSIBLE_CONFIG'] = str(cfg_ansible.resolve())"
   ]
  },
  {
   "cell_type": "markdown",
   "metadata": {
    "hidden": true
   },
   "source": [
    "設定対象となるVCノードにアクセスできることを確認します。"
   ]
  },
  {
   "cell_type": "code",
   "execution_count": null,
   "metadata": {
    "hidden": true,
    "pinned_outputs": []
   },
   "outputs": [],
   "source": [
    "target_hub = f'{ugroup_name}_manager'\n",
    "\n",
    "!ansible {target_hub} -m ping"
   ]
  },
  {
   "cell_type": "markdown",
   "metadata": {
    "hidden": true
   },
   "source": [
    "グループ名に対応する group_varsファイルが存在していることを確認します。"
   ]
  },
  {
   "cell_type": "code",
   "execution_count": null,
   "metadata": {
    "hidden": true
   },
   "outputs": [],
   "source": [
    "!test -f group_vars/{ugroup_name}"
   ]
  },
  {
   "cell_type": "markdown",
   "metadata": {
    "hidden": true
   },
   "source": [
    "CoursewareHubのサービスが実行されていることを確認します。"
   ]
  },
  {
   "cell_type": "code",
   "execution_count": null,
   "metadata": {
    "hidden": true
   },
   "outputs": [],
   "source": [
    "cmd = \"docker stack services --format '{{.Replicas}}' coursewarehub | grep '1/1' | wc -l\"\n",
    "!ansible {target_hub} -m shell -a \"{{% raw %}} [ \\$({cmd}) -eq 4 ] {{% endraw %}}\""
   ]
  },
  {
   "cell_type": "markdown",
   "metadata": {},
   "source": [
    "## mAPグループの作成"
   ]
  },
  {
   "cell_type": "markdown",
   "metadata": {},
   "source": [
    "[学認クラウドゲートウェイサービス](https://cg.gakunin.jp/)にアクセスしてグループの作成などを行います。手順の詳細については「[GakuNin mAPマニュアル--グループ管理者](https://meatwiki.nii.ac.jp/confluence/pages/viewpage.action?pageId=20873726)」を参照してください。"
   ]
  },
  {
   "cell_type": "markdown",
   "metadata": {},
   "source": [
    "テストフェデレーションでクラウドゲートウェイの機能（SP検証環境）を利用するには事前に利用申請が必要となります。学認mAPの「[問い合わせ](https://meatwiki.nii.ac.jp/confluence/pages/viewpage.action?pageId=8716731)」などに記されている窓口を通してSP検証環境を利用するための依頼を行ってください。テストフェデレーションSP検証環境のアドレスは利用申請後にメールなどで通知されます。"
   ]
  },
  {
   "cell_type": "markdown",
   "metadata": {},
   "source": [
    "### グループの作成\n",
    "\n",
    "学認クラウドゲートウェイのウェブサイトから「グループの作成」を実行してください。"
   ]
  },
  {
   "cell_type": "markdown",
   "metadata": {},
   "source": [
    "![初期画面](images/cw-211-01.png)\n",
    "\n",
    "> キャプチャー画面はテストフェデレーションのものです。\n",
    "\n",
    "グループの作成画面に表示された項目を入力してください。\n",
    "\n",
    "![グループの作成](images/cw-211-02.png)\n",
    "\n",
    "\n",
    "CoursewareHubに対して学認との連携を設定する際に、ここで「グループID」として指定した値が必要となります。"
   ]
  },
  {
   "cell_type": "markdown",
   "metadata": {},
   "source": [
    "### SPコネクタとの接続\n",
    "\n",
    "作成したグループをサービス(SPコネクタ)に紐づけ、グループに属するユーザがIdP-proxyサービス(SP)を利用できるようにします。"
   ]
  },
  {
   "cell_type": "markdown",
   "metadata": {},
   "source": [
    "グループとサービス（SPコネクタ）の紐づけは、グループ側からサービスを指定する方法とサービス側（SPコネクタ）からグループを指定して接続する方法があります。ここではグループ管理者がSPコネクタ（サービス）へと接続申請を行う手順を示します。設定方法の詳細については学認クラウドゲートウェイマニュアルの「[サービスを利用する](https://meatwiki.nii.ac.jp/confluence/pages/viewpage.action?pageId=20873789)」を参照してください。また、逆の関連付けとなるSPコネクタからグループ管理者へ接続申請を行う手順については「[SPコネクタにグループを接続する](https://meatwiki.nii.ac.jp/confluence/pages/viewpage.action?pageId=20873907)」を参照してください。\n",
    "\n",
    "まず、グループの管理者メニューから「利用Webサービス」を選択します。\n",
    "\n",
    "![グループ画面](images/cw-211-03.png)\n",
    "\n",
    "「利用するWebサービスを追加」ボタンを押すと、サービスの一覧が表示されるので「521-IdP-proxyのセットアップ.ipynb」で登録したサービスを選択してください。\n",
    "\n",
    "> SPコネクタとして登録する際に、詳細設定の「Q1 作成するSPコネクタは、検索対象にしますか？」の値を「検索対象としない」と設定した場合はWebサービスの一覧には表示されません。\n",
    "\n",
    "![サービス一覧画面](images/cw-211-04.png)\n",
    "\n",
    "CoursewareHubのサービスを選択して申請を行うと承認待ちの状態となります。\n",
    "\n",
    "![承認待ち画面](images/cw-211-05.png)\n",
    "\n",
    "SPコネクタの管理者が承認すると申請状況の状態に「承認」と表示されるようになります。\n",
    "\n",
    "> 自身がSP管理者を兼ねている場合は、SPコネクタの設定画面から承認を行ってください。\n",
    "\n",
    "![グループ画面](images/cw-211-06.png)"
   ]
  },
  {
   "cell_type": "markdown",
   "metadata": {},
   "source": [
    "### メンバーの招待\n",
    "\n",
    "必要に応じてグループの「メンバー招待」メニューからCoursewareHubの利用者に対してグループへの招待を行ってください。"
   ]
  },
  {
   "cell_type": "markdown",
   "metadata": {},
   "source": [
    "![メンバー招待](images/cw-211-07.png)"
   ]
  },
  {
   "cell_type": "markdown",
   "metadata": {},
   "source": [
    "## CoursewareHubの設定\n",
    "\n",
    "CoursewareHubに対して学認連携設定を行います。"
   ]
  },
  {
   "cell_type": "markdown",
   "metadata": {},
   "source": [
    "### パラメータを指定する\n",
    "\n",
    "CoursewareHubと連携する学認フェデレーションに関するパラメータを設定します。"
   ]
  },
  {
   "cell_type": "markdown",
   "metadata": {},
   "source": [
    "#### フェデレーション"
   ]
  },
  {
   "cell_type": "markdown",
   "metadata": {},
   "source": [
    "参加するフェデレーションがテストフェデレーションであるか否かを次のセルで指定してください。"
   ]
  },
  {
   "cell_type": "code",
   "execution_count": null,
   "metadata": {},
   "outputs": [],
   "source": [
    "# (例)\n",
    "# enable_test_federation = False   # 運用フェデレーション\n",
    "# enable_test_federation = True    # テストフェデレーション\n",
    "\n",
    "enable_test_federation = "
   ]
  },
  {
   "cell_type": "markdown",
   "metadata": {},
   "source": [
    "#### IdP-proxy\n",
    "\n",
    "IdP-proxyのホスト名(FQDN)を指定してください。"
   ]
  },
  {
   "cell_type": "code",
   "execution_count": null,
   "metadata": {},
   "outputs": [],
   "source": [
    "# (例)\n",
    "# auth_fqdn = 'idp-proxy.example.org'\n",
    "\n",
    "auth_fqdn = "
   ]
  },
  {
   "cell_type": "markdown",
   "metadata": {},
   "source": [
    "####  mAPのグループを指定する\n",
    "\n",
    "CoursewareHubの利用を許可対象となる利用者を指定します。"
   ]
  },
  {
   "cell_type": "markdown",
   "metadata": {},
   "source": [
    "指定する値は「[2. mAPグループの作成](#mAPグループの作成)」で作成した学認mAPのグループIDとなります。グループIDの指定はリストの形式で行うので複数のグループIDを指定することができます。"
   ]
  },
  {
   "cell_type": "code",
   "execution_count": null,
   "metadata": {},
   "outputs": [],
   "source": [
    "# (例)\n",
    "# cg_groups = [\n",
    "#    'group1-id',\n",
    "#    'group2-id',\n",
    "#]\n",
    "\n",
    "cg_groups = [\n",
    "    \n",
    "]"
   ]
  },
  {
   "cell_type": "markdown",
   "metadata": {
    "heading_collapsed": true
   },
   "source": [
    "#### パラメータの保存\n",
    "\n",
    "ここまで指定したパラメータを ansible の変数として `group_vars`ファイルに保存します。"
   ]
  },
  {
   "cell_type": "code",
   "execution_count": null,
   "metadata": {
    "hidden": true
   },
   "outputs": [],
   "source": [
    "import yaml\n",
    "from pathlib import Path\n",
    "\n",
    "gvars_path = Path(f'group_vars/{ugroup_name}')\n",
    "with gvars_path.open() as f:\n",
    "    gvars = yaml.safe_load(f)\n",
    "\n",
    "cg_group_prefix = (\n",
    "    \"https://cg.gakunin.jp/gr/\"\n",
    "    if not enable_test_federation\n",
    "    else \"https://sptest.cg.gakunin.jp/gr/\"\n",
    ")\n",
    "\n",
    "for key in [\"gakunin_ds_hostname\", \"cg_fqdn\", \"metadata_signer_url\"]:\n",
    "    if key in gvars:\n",
    "        del(gvars[key])\n",
    "\n",
    "gvars.update({\n",
    "    'enable_federation': False,\n",
    "    'enable_test_federation': enable_test_federation,\n",
    "    'auth_fqdn': auth_fqdn,\n",
    "    'cg_groups': [\n",
    "        f'{cg_group_prefix}{x}' if not x.startswith('https://') else x\n",
    "        for x in cg_groups\n",
    "    ],\n",
    "})\n",
    "\n",
    "with gvars_path.open(mode='w') as f:\n",
    "    yaml.safe_dump(gvars, stream=f)\n",
    "    \n",
    "!cat group_vars/{ugroup_name}"
   ]
  },
  {
   "cell_type": "markdown",
   "metadata": {},
   "source": [
    "### 証明書の配置\n",
    "\n",
    "IdP-proxyと連携を行うために、IdP-proxyのサーバ証明書を配置します。出どころなどの情報を必要以上に残さないためにNotebookからの操作ではなく、ターミナルなどから **managerノードに ssh でログインして操作を行ってください**。"
   ]
  },
  {
   "cell_type": "markdown",
   "metadata": {},
   "source": [
    "manager ノードのIPアドレスを確認します。表示されたIPアドレスに対して、ユーザ名`vcp`と「VCノード作成」のNotebookで設定したSSHの秘密鍵を指定することで manager ノードにsshでログインできます。"
   ]
  },
  {
   "cell_type": "code",
   "execution_count": null,
   "metadata": {},
   "outputs": [],
   "source": [
    "!ansible {target_hub} -c local -m debug -a 'var=servicenet_ip'"
   ]
  },
  {
   "cell_type": "markdown",
   "metadata": {},
   "source": [
    "IdP-proxyのサーバ証明書を以下のセルの実行結果に表示されるパスに配置してください。"
   ]
  },
  {
   "cell_type": "code",
   "execution_count": null,
   "metadata": {},
   "outputs": [],
   "source": [
    "!ansible {target_hub} -c local -m debug -a 'msg=\"/home/{{{{ansible_user}}}}/certs/{{{{auth_fqdn}}}}.cer\"'"
   ]
  },
  {
   "cell_type": "markdown",
   "metadata": {},
   "source": [
    "**証明書などの配置を行った後に、これ以降の操作を行ってください。**"
   ]
  },
  {
   "cell_type": "markdown",
   "metadata": {},
   "source": [
    "証明書が配置されたことを確認します。managerノードに配置されたサーバ証明書の内容を表示してみます。"
   ]
  },
  {
   "cell_type": "code",
   "execution_count": null,
   "metadata": {
    "scrolled": true
   },
   "outputs": [],
   "source": [
    "!ansible {target_hub} -a \\\n",
    "    'openssl x509 -noout -text -in certs/{{{{auth_fqdn}}}}.cer'"
   ]
  },
  {
   "cell_type": "markdown",
   "metadata": {},
   "source": [
    "### 設定ファイルの配置、更新\n",
    "\n",
    "学認連携のために必要となる設定ファイルの配置や更新を行います。"
   ]
  },
  {
   "cell_type": "markdown",
   "metadata": {},
   "source": [
    "ここで配置、更新するファイルを以下の表に示します。\n",
    "\n",
    "|パス|用途|\n",
    "|:---|:---|\n",
    "|/etc/jupyterhub/hub-const.php|auth-proxyコンテナの設定ファイル(更新)|\n",
    "|/opt/coursewarehub/docker-compose.yml|docker-composeの設定ファイル(更新)|\n",
    "|/etc/jupyterhub/simplesamlphp/cert/idp-proxy.cer|メタデータ検証用証明書|\n"
   ]
  },
  {
   "cell_type": "markdown",
   "metadata": {},
   "source": [
    "まず実際に設定を変更する前にドライラン（チェックモード）でansibleを実行します。"
   ]
  },
  {
   "cell_type": "code",
   "execution_count": null,
   "metadata": {
    "scrolled": true
   },
   "outputs": [],
   "source": [
    "!ansible-playbook -l {target_hub} -CDv playbooks/setup-gakunin.yml || true"
   ]
  },
  {
   "cell_type": "markdown",
   "metadata": {},
   "source": [
    "実際に設定変更を行います。"
   ]
  },
  {
   "cell_type": "code",
   "execution_count": null,
   "metadata": {
    "scrolled": true
   },
   "outputs": [],
   "source": [
    "!ansible-playbook -l {target_hub} playbooks/setup-gakunin.yml"
   ]
  },
  {
   "cell_type": "markdown",
   "metadata": {},
   "source": [
    "配置したファイルを確認します。"
   ]
  },
  {
   "cell_type": "code",
   "execution_count": null,
   "metadata": {},
   "outputs": [],
   "source": [
    "!ansible {target_hub} -a 'tree -F {{{{jupyterhub_cfg_dir}}}}'"
   ]
  },
  {
   "cell_type": "markdown",
   "metadata": {
    "heading_collapsed": true
   },
   "source": [
    "### コンテナの更新\n",
    "\n",
    "コンテナを起動し直して変更した設定の反映を行います。"
   ]
  },
  {
   "cell_type": "markdown",
   "metadata": {
    "hidden": true
   },
   "source": [
    "起動中のコンテナを一度停止します。"
   ]
  },
  {
   "cell_type": "code",
   "execution_count": null,
   "metadata": {
    "hidden": true
   },
   "outputs": [],
   "source": [
    "!ansible {target_hub} -a 'docker stack rm coursewarehub'"
   ]
  },
  {
   "cell_type": "markdown",
   "metadata": {
    "hidden": true
   },
   "source": [
    "コンテナを起動し直します。"
   ]
  },
  {
   "cell_type": "code",
   "execution_count": null,
   "metadata": {
    "hidden": true
   },
   "outputs": [],
   "source": [
    "!ansible {target_hub} -a 'chdir={{{{compose_dir}}}} \\\n",
    "    docker stack deploy -c docker-compose.yml coursewarehub'"
   ]
  },
  {
   "cell_type": "markdown",
   "metadata": {
    "hidden": true
   },
   "source": [
    "全てのコンテナが起動するまで待ち合わせを行います。\n"
   ]
  },
  {
   "cell_type": "code",
   "execution_count": null,
   "metadata": {
    "hidden": true
   },
   "outputs": [],
   "source": [
    "import time\n",
    "import sys\n",
    "\n",
    "\n",
    "cmd = \"docker stack services --format '{{.Replicas}}' coursewarehub | grep '1/1' | wc -l\"\n",
    "for retry in range(18):\n",
    "    time.sleep(10)\n",
    "    try:\n",
    "        !ansible {target_hub} -m shell -a \"{{% raw %}} [ \\$({cmd}) -eq 4 ] {{% endraw %}}\"\n",
    "        break\n",
    "    except:\n",
    "        print('retry', file=sys.stderr)\n",
    "else:\n",
    "    !ansible {target_hub} -a 'docker stack services coursewarehub'\n",
    "    raise RuntimeError(\"起動処理が完了しませんでした。\")"
   ]
  },
  {
   "cell_type": "markdown",
   "metadata": {
    "hidden": true
   },
   "source": [
    "コンテナの起動状態を確認します。"
   ]
  },
  {
   "cell_type": "code",
   "execution_count": null,
   "metadata": {
    "hidden": true
   },
   "outputs": [],
   "source": [
    "!ansible {target_hub} -a 'docker stack services coursewarehub'"
   ]
  },
  {
   "cell_type": "markdown",
   "metadata": {
    "heading_collapsed": true
   },
   "source": [
    "## メタデータの更新\n",
    "\n",
    "構築したCoursewareHubのメタデータを IdP-proxy に登録するまでは、学認によるログインを利用できません。IdP-proxyの管理者にCoursewareHubのホスト名(FQDN)を伝えてメタデータの登録を依頼してください。自身でIdP-proxyを管理している場合は「541-IdP-proxyへauth-proxyのメタデータを登録する.ipynb」を実行してください。"
   ]
  },
  {
   "cell_type": "markdown",
   "metadata": {
    "hidden": true
   },
   "source": [
    "メタデータをIdP-proxyに登録せずに学認によるログインを行うと以下のようなエラーとなります。\n",
    "\n",
    "![メタデータのエラー](images/cw-221-05.png)"
   ]
  },
  {
   "cell_type": "markdown",
   "metadata": {},
   "source": [
    "## CoursewareHubに学認IdPのアカウントでログインする\n",
    "\n",
    "学認IdPのアカウントでCoursewareHubにログインできることを確認します。"
   ]
  },
  {
   "cell_type": "markdown",
   "metadata": {},
   "source": [
    "次のセルを実行すると、CoursewareHubのアドレスを表示します。"
   ]
  },
  {
   "cell_type": "code",
   "execution_count": null,
   "metadata": {},
   "outputs": [],
   "source": [
    "print(f'https://{gvars[\"master_fqdn\"]}')"
   ]
  },
  {
   "cell_type": "markdown",
   "metadata": {},
   "source": [
    "ログイン画面に表示されている「学認フェデレーションへ」のリンクから学認IdPを利用したログインができます。\n",
    "\n",
    "![ログイン画面](images/cw-221-02.png)\n",
    "\n",
    "「学認フェデレーションへ」のリンクから進むと以下のようなIdPの選択画面が表示されます。\n",
    "\n",
    "> キャプチャー画面はテストフェデレーションのものです。\n",
    "\n",
    "![IdP選択画面](images/cw-221-03.png)\n",
    "\n",
    "IdPを選択しログインを行ってください。利用を許可したmAPグループに所属しているユーザであればsingle-userサーバが実行されてJupyter環境を利用することができます。"
   ]
  },
  {
   "cell_type": "markdown",
   "metadata": {},
   "source": [
    "「学認フェデレーションへ」のリンクが表示されない場合、原因としてCoursewareHubからIdP-proxyのメタデータが取得できないななどの理由が考えられます。次のセルのコメントを外して実行し、エラーとならないことを確認してください。"
   ]
  },
  {
   "cell_type": "code",
   "execution_count": null,
   "metadata": {
    "scrolled": true
   },
   "outputs": [],
   "source": [
    "# !ansible {target_hub} -a 'curl -sf \"https://{{{{auth_fqdn}}}}/simplesaml/module.php/saml/sp/metadata.php/default-sp\"'"
   ]
  },
  {
   "cell_type": "markdown",
   "metadata": {},
   "source": [
    "エラーになる場合はファイアウォールや名前解決の設定を見直してください。設定を変更して上のセルがエラーとならずに実行できるようになったら次のセルのコメントを外して実行してください。auth-proxyコンテナが再起動されメタデータが更新されます。"
   ]
  },
  {
   "cell_type": "code",
   "execution_count": null,
   "metadata": {},
   "outputs": [],
   "source": [
    "# !ansible {target_hub} -a 'docker service update --force coursewarehub_auth-proxy'"
   ]
  }
 ],
 "metadata": {
  "kernelspec": {
   "display_name": "Python 3",
   "language": "python",
   "name": "python3"
  },
  "language_info": {
   "file_extension": ".py",
   "mimetype": "text/x-python",
   "name": "python",
   "nbconvert_exporter": "python",
   "pygments_lexer": "ipython3",
   "version": "3.10.4"
  },
  "toc": {
   "base_numbering": 1,
   "nav_menu": {},
   "number_sections": true,
   "sideBar": true,
   "skip_h1_title": true,
   "title_cell": "Table of Contents",
   "title_sidebar": "Contents",
   "toc_cell": false,
   "toc_position": {},
   "toc_section_display": true,
   "toc_window_display": true
  }
 },
 "nbformat": 4,
 "nbformat_minor": 2
}
