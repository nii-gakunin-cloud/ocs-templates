{
 "cells": [
  {
   "cell_type": "markdown",
   "metadata": {},
   "source": [
    "# サーバ証明書の更新\n",
    "\n",
    "---\n",
    "\n",
    "構築したCoursewareHubのサーバ証明書を更新します。"
   ]
  },
  {
   "cell_type": "markdown",
   "metadata": {},
   "source": [
    "## 概要\n"
   ]
  },
  {
   "cell_type": "markdown",
   "metadata": {},
   "source": [
    "### グループ名\n",
    "\n",
    "更新対象となるCoursewareHubを構築したときに指定したansibleのグループ名を指定します。"
   ]
  },
  {
   "cell_type": "markdown",
   "metadata": {},
   "source": [
    "ansibleのグループ名を確認するために `group_vars`ファイル名の一覧を表示します。"
   ]
  },
  {
   "cell_type": "code",
   "execution_count": null,
   "metadata": {},
   "outputs": [],
   "source": [
    "!ls -1 --hide all group_vars/"
   ]
  },
  {
   "cell_type": "markdown",
   "metadata": {},
   "source": [
    "上のセルの出力結果を参考にしてグループ名を次のセルに指定してください。"
   ]
  },
  {
   "cell_type": "code",
   "execution_count": null,
   "metadata": {
    "tags": [
     "vcp:parameters"
    ]
   },
   "outputs": [],
   "source": [
    "# (例)\n",
    "# ugroup_name = 'CoursewareHub'\n",
    "\n",
    "ugroup_name = "
   ]
  },
  {
   "cell_type": "markdown",
   "metadata": {
    "heading_collapsed": true
   },
   "source": [
    "### チェック\n",
    "\n",
    "指定されたグループ名が前提条件を満たしていることを確認します。"
   ]
  },
  {
   "cell_type": "markdown",
   "metadata": {
    "hidden": true
   },
   "source": [
    "Ansibleの設定ファイルの場所を環境変数に設定しておきます。"
   ]
  },
  {
   "cell_type": "code",
   "execution_count": null,
   "metadata": {
    "hidden": true
   },
   "outputs": [],
   "source": [
    "from pathlib import Path\n",
    "import os\n",
    "\n",
    "cfg_ansible = Path('ansible.cfg')\n",
    "if cfg_ansible.exists():\n",
    "    os.environ['ANSIBLE_CONFIG'] = str(cfg_ansible.resolve())"
   ]
  },
  {
   "cell_type": "markdown",
   "metadata": {
    "hidden": true
   },
   "source": [
    "構築対象となる各VCノードにアクセスできることを確認します。"
   ]
  },
  {
   "cell_type": "code",
   "execution_count": null,
   "metadata": {
    "hidden": true
   },
   "outputs": [],
   "source": [
    "target_hub = f'{ugroup_name}_manager'\n",
    "\n",
    "!ansible {target_hub} -m ping"
   ]
  },
  {
   "cell_type": "code",
   "execution_count": null,
   "metadata": {
    "hidden": true
   },
   "outputs": [],
   "source": [
    "target_nodes = f'{ugroup_name}_worker'\n",
    "\n",
    "!ansible {target_nodes} -m ping"
   ]
  },
  {
   "cell_type": "markdown",
   "metadata": {
    "hidden": true
   },
   "source": [
    "UnitGroup名に対応する group_varsファイルが存在していることを確認します。"
   ]
  },
  {
   "cell_type": "code",
   "execution_count": null,
   "metadata": {
    "hidden": true
   },
   "outputs": [],
   "source": [
    "!test -f group_vars/{ugroup_name}"
   ]
  },
  {
   "cell_type": "markdown",
   "metadata": {
    "hidden": true
   },
   "source": [
    "CoursewareHubのサービスが実行されていることを確認します。"
   ]
  },
  {
   "cell_type": "code",
   "execution_count": null,
   "metadata": {
    "hidden": true
   },
   "outputs": [],
   "source": [
    "cmd = \"docker stack services --format '{{.Replicas}}' coursewarehub | grep '1/1' | wc -l\"\n",
    "!ansible {target_hub} -m shell -a \"{{% raw %}} [ \\$({cmd}) -eq 4 ] {{% endraw %}}\""
   ]
  },
  {
   "cell_type": "markdown",
   "metadata": {
    "hidden": true
   },
   "source": [
    "group_varsから現在の設定値を読み込みます。"
   ]
  },
  {
   "cell_type": "code",
   "execution_count": null,
   "metadata": {
    "hidden": true
   },
   "outputs": [],
   "source": [
    "import yaml\n",
    "from pathlib import Path\n",
    "\n",
    "gvars_path = Path(f'group_vars/{ugroup_name}')\n",
    "with gvars_path.open() as f:\n",
    "    gvars = yaml.safe_load(f)"
   ]
  },
  {
   "cell_type": "markdown",
   "metadata": {},
   "source": [
    "## 証明書の更新\n",
    "\n",
    "auth-proxyなどのコンテナで使用するサーバ証明書、秘密鍵を更新します。"
   ]
  },
  {
   "cell_type": "markdown",
   "metadata": {},
   "source": [
    "### 証明書の配置 \n",
    "\n",
    "auth-proxyコンテナで使用するサーバ証明書、秘密鍵などのファイルを配置します。出どころなどの情報を必要以上に残さないためにNotebookからの操作ではなく、ターミナルなどから **managerノードに ssh でログインして操作を行ってください**。"
   ]
  },
  {
   "cell_type": "markdown",
   "metadata": {},
   "source": [
    "manager ノードのIPアドレスを確認します。表示されたIPアドレスに対して、ユーザ名`vcp`と「VCノード作成」のNotebookで設定したSSHの秘密鍵を指定することで manager ノードにsshでログインできます。"
   ]
  },
  {
   "cell_type": "code",
   "execution_count": null,
   "metadata": {},
   "outputs": [],
   "source": [
    "!ansible {target_hub} -c local -m debug -a 'var=servicenet_ip'"
   ]
  },
  {
   "cell_type": "markdown",
   "metadata": {},
   "source": [
    "サーバ証明書、秘密鍵をそれぞれ以下のセルの実行結果に表示されるパスに配置してください。"
   ]
  },
  {
   "cell_type": "code",
   "execution_count": null,
   "metadata": {},
   "outputs": [],
   "source": [
    "!ansible {target_hub} -c local -m debug -a 'msg=\"/home/{{{{ansible_user}}}}/certs/{{{{master_fqdn}}}}.cer\"'"
   ]
  },
  {
   "cell_type": "code",
   "execution_count": null,
   "metadata": {},
   "outputs": [],
   "source": [
    "!ansible {target_hub} -c local -m debug -a 'msg=\"/home/{{{{ansible_user}}}}/certs/{{{{master_fqdn}}}}.key\"'"
   ]
  },
  {
   "cell_type": "markdown",
   "metadata": {},
   "source": [
    "中間CA証明書がある場合は、サーバ証明書と同じディレクトリに配置してください。中間CA証明書を配置した場合は次のセルにそのファイル名を指定してください。"
   ]
  },
  {
   "cell_type": "code",
   "execution_count": null,
   "metadata": {},
   "outputs": [],
   "source": [
    "# (例)\n",
    "# intermediate_certfile = 'nii-odca4g7rsa.cer'\n",
    "\n",
    "intermediate_certfile = "
   ]
  },
  {
   "cell_type": "markdown",
   "metadata": {},
   "source": [
    "また個別の中間CA証明書を配置するのではなく、中間CA証明書を連結したファイルを配置することもできます。その場合は次のセルの実行結果に表示されるパスに配置してください。中間CA証明書を連結したファイルが存在している場合は、個別の中間CA証明書を指定しても**連結したファイルの方が優先**されます。"
   ]
  },
  {
   "cell_type": "code",
   "execution_count": null,
   "metadata": {},
   "outputs": [],
   "source": [
    "!ansible {target_hub} -c local -m debug -a 'msg=\"/home/{{{{ansible_user}}}}/certs/{{{{master_fqdn}}}}.chained.cer\"'"
   ]
  },
  {
   "cell_type": "markdown",
   "metadata": {},
   "source": [
    "**証明書などの配置を行った後に、これ以降の操作を行ってください。**"
   ]
  },
  {
   "cell_type": "markdown",
   "metadata": {},
   "source": [
    "証明書が配置されたことを確認します。managerノードに配置されたサーバ証明書の内容を表示してみます。"
   ]
  },
  {
   "cell_type": "code",
   "execution_count": null,
   "metadata": {
    "pinned_outputs": [],
    "scrolled": false
   },
   "outputs": [],
   "source": [
    "!ansible {target_hub} -a \\\n",
    "    'openssl x509 -noout -text -in certs/{{{{master_fqdn}}}}.cer'"
   ]
  },
  {
   "cell_type": "markdown",
   "metadata": {},
   "source": [
    "秘密鍵の内容を表示してみます。"
   ]
  },
  {
   "cell_type": "code",
   "execution_count": null,
   "metadata": {
    "scrolled": true
   },
   "outputs": [],
   "source": [
    "!ansible {target_hub} -m shell -a \\\n",
    "    'openssl ec -noout -text -in  certs/{{{{master_fqdn}}}}.key || \\\n",
    "    openssl rsa -noout -text -in  certs/{{{{master_fqdn}}}}.key'"
   ]
  },
  {
   "cell_type": "markdown",
   "metadata": {},
   "source": [
    "中間CA証明書を指定した場合は、そのファイルがmanagerノードに配置されていることを確認します。また、中間CA証明書のパスをgroup_varsに保存します。"
   ]
  },
  {
   "cell_type": "code",
   "execution_count": null,
   "metadata": {},
   "outputs": [],
   "source": [
    "if \"intermediate_certfile\" in vars():\n",
    "    !ansible {target_hub} -a \\\n",
    "        'openssl x509 -noout -text -in certs/{intermediate_certfile}'\n",
    "    import yaml\n",
    "    from pathlib import Path\n",
    "    gvars_path = Path(f\"group_vars/{ugroup_name}\")\n",
    "    with gvars_path.open() as f:\n",
    "        gvars = yaml.safe_load(f)\n",
    "    gvars[\"intermediate_certfile\"] = intermediate_certfile\n",
    "    with gvars_path.open(mode='w') as f:\n",
    "        yaml.safe_dump(gvars, stream=f)"
   ]
  },
  {
   "cell_type": "markdown",
   "metadata": {},
   "source": [
    "中間CA証明書を連結したファイルを配置した場合は、その内容を確認します。"
   ]
  },
  {
   "cell_type": "code",
   "execution_count": null,
   "metadata": {},
   "outputs": [],
   "source": [
    "!ansible {target_hub} -m shell -a 'chdir=certs \\\n",
    "    test ! -f {{{{master_fqdn}}}}.chained.cer || \\\n",
    "    ( openssl crl2pkcs7 -nocrl -certfile {{{{master_fqdn}}}}.chained.cer | openssl pkcs7 -print_certs -noout )'"
   ]
  },
  {
   "cell_type": "markdown",
   "metadata": {
    "heading_collapsed": true
   },
   "source": [
    "### サーバ証明書の更新\n",
    "\n",
    "managerノードに配置したサーバ証明書などを構築したCoursewareHub環境の所定のディレクトリに配置します。"
   ]
  },
  {
   "cell_type": "markdown",
   "metadata": {
    "hidden": true
   },
   "source": [
    "ここで実行するplaybookが配置するファイル、ディレクトリを以下の表に示します。\n",
    "\n",
    "|パス|用途|\n",
    "|:---|:---|\n",
    "|/etc/jupyterhub/nginx/certs/auth-proxy.chained.cer|nginxで利用するサーバ証明書|\n",
    "|/etc/jupyterhub/nginx/certs/auth-proxy.key|nginxで利用する秘密鍵|\n",
    "|/etc/jupyterhub/simplesamlphp/cert/auth-proxy.cer|simplesamlphpで利用する証明書|\n",
    "|/etc/jupyterhub/simplesamlphp/cert/auth-proxy.key|simplesamlphpで利用する秘密鍵|\n"
   ]
  },
  {
   "cell_type": "markdown",
   "metadata": {
    "hidden": true
   },
   "source": [
    "まず、実際に設定を変更する前にドライラン（チェックモード）でansibleを実行します。"
   ]
  },
  {
   "cell_type": "code",
   "execution_count": null,
   "metadata": {
    "hidden": true,
    "scrolled": true
   },
   "outputs": [],
   "source": [
    "!ansible-playbook -l {target_hub} -CDv playbooks/setup-certs.yml || true"
   ]
  },
  {
   "cell_type": "markdown",
   "metadata": {
    "hidden": true
   },
   "source": [
    "実際にサーバ証明書ファイルなどの更新を行います。"
   ]
  },
  {
   "cell_type": "code",
   "execution_count": null,
   "metadata": {
    "hidden": true,
    "scrolled": true
   },
   "outputs": [],
   "source": [
    "!ansible-playbook -v -l {target_hub} playbooks/setup-certs.yml"
   ]
  },
  {
   "cell_type": "markdown",
   "metadata": {
    "hidden": true
   },
   "source": [
    "配置したファイルを確認します。"
   ]
  },
  {
   "cell_type": "code",
   "execution_count": null,
   "metadata": {
    "hidden": true
   },
   "outputs": [],
   "source": [
    "!ansible {target_hub} -a 'ls -l {{{{jupyterhub_cfg_dir}}}}/nginx/certs {{{{jupyterhub_cfg_dir}}}}/simplesamlphp/cert'"
   ]
  },
  {
   "cell_type": "markdown",
   "metadata": {
    "heading_collapsed": true
   },
   "source": [
    "## コンテナの更新\n",
    "\n",
    "コンテナを起動しなおして更新したサーバ証明書を反映させます。"
   ]
  },
  {
   "cell_type": "markdown",
   "metadata": {
    "hidden": true
   },
   "source": [
    "auth-proxyコンテナを再起動します。"
   ]
  },
  {
   "cell_type": "code",
   "execution_count": null,
   "metadata": {
    "hidden": true
   },
   "outputs": [],
   "source": [
    "!ansible {target_hub} -a 'docker service update --force coursewarehub_auth-proxy'"
   ]
  },
  {
   "cell_type": "markdown",
   "metadata": {
    "hidden": true
   },
   "source": [
    "registryコンテナを再起動します。"
   ]
  },
  {
   "cell_type": "code",
   "execution_count": null,
   "metadata": {
    "hidden": true
   },
   "outputs": [],
   "source": [
    "!ansible {target_hub} -a 'docker service update --force coursewarehub_registry'"
   ]
  },
  {
   "cell_type": "markdown",
   "metadata": {
    "hidden": true
   },
   "source": [
    "auth-proxyコンテナのログを表示してみます。"
   ]
  },
  {
   "cell_type": "code",
   "execution_count": null,
   "metadata": {
    "hidden": true,
    "scrolled": true
   },
   "outputs": [],
   "source": [
    "!ansible {target_hub} -a 'docker service logs -n 100 coursewarehub_auth-proxy'"
   ]
  },
  {
   "cell_type": "markdown",
   "metadata": {
    "hidden": true
   },
   "source": [
    "registryコンテナのログを表示してみます。"
   ]
  },
  {
   "cell_type": "code",
   "execution_count": null,
   "metadata": {
    "hidden": true
   },
   "outputs": [],
   "source": [
    "!ansible {target_hub} -a 'docker service logs -n 100 coursewarehub_registry'"
   ]
  },
  {
   "cell_type": "markdown",
   "metadata": {},
   "source": [
    "## CoursewareHubにアクセスする\n",
    "\n",
    "証明書を更新したCoursewareHub環境にアクセスして正しく動作していることを確認してください。"
   ]
  },
  {
   "cell_type": "markdown",
   "metadata": {},
   "source": [
    "次のセルを実行するとCoursewareHubのアドレスを表示します。"
   ]
  },
  {
   "cell_type": "code",
   "execution_count": null,
   "metadata": {},
   "outputs": [],
   "source": [
    "print(f'https://{gvars[\"master_fqdn\"]}')"
   ]
  }
 ],
 "metadata": {
  "kernelspec": {
   "display_name": "Python 3",
   "language": "python",
   "name": "python3"
  },
  "language_info": {
   "file_extension": ".py",
   "mimetype": "text/x-python",
   "name": "python",
   "nbconvert_exporter": "python",
   "pygments_lexer": "ipython3",
   "version": "3.10.4"
  },
  "toc": {
   "base_numbering": 1,
   "nav_menu": {},
   "number_sections": true,
   "sideBar": true,
   "skip_h1_title": true,
   "title_cell": "Table of Contents",
   "title_sidebar": "Contents",
   "toc_cell": false,
   "toc_position": {},
   "toc_section_display": true,
   "toc_window_display": true
  }
 },
 "nbformat": 4,
 "nbformat_minor": 2
}