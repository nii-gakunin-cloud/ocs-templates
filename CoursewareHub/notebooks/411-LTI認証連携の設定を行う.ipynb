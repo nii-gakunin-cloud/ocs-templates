{
 "cells": [
  {
   "cell_type": "markdown",
   "metadata": {},
   "source": [
    "# LTI認証連携の設定を行う -- Moodle\n",
    "\n",
    "---\n",
    "\n",
    "Moodleとの間で LTI 1.3による LMS(Learning Management System)との認証連携を設定する。"
   ]
  },
  {
   "cell_type": "markdown",
   "metadata": {},
   "source": [
    "## はじめに"
   ]
  },
  {
   "cell_type": "markdown",
   "metadata": {
    "heading_collapsed": true
   },
   "source": [
    "### 概要\n",
    "\n",
    "CoursewareHub に [LTI 1.3](http://www.imsglobal.org/spec/lti/v1p3/)による LMS(Learning Management System)との認証連携を設定します。LMSを介した認証とLMSから得られた認可情報に基づく CoursewareHub へのアクセス制御を行います。このNotebookでは連携するLMSとしてMoodleを用います。"
   ]
  },
  {
   "cell_type": "markdown",
   "metadata": {
    "hidden": true
   },
   "source": [
    "#### 基本方針"
   ]
  },
  {
   "cell_type": "markdown",
   "metadata": {
    "hidden": true
   },
   "source": [
    "* CoursewareHubの既存の認証機能であるローカルユーザに基づく認証、学認連携に基づく認証と共存して設定可能とする\n",
    "* LMSで認証されたユーザとJupyterHubユーザとの対応は LMS から得られるメールアドレスを一定ルールで変換することにより行う\n",
    "    - 変換ルールは学認連携の認証と同じものを用いる\n",
    "    - LMS のユーザー管理上メールアドレスとユーザーが適切に対応付くように管理されている前提とする\n",
    "* CoursewareHubでの講師権限、受講者権限の制御は JupyterHub の admin 権限の有無によって制御する\n",
    "    - LTI 認証連携機能自体は権限に関する制御は行わない"
   ]
  },
  {
   "cell_type": "markdown",
   "metadata": {
    "hidden": true
   },
   "source": [
    "#### システム構成\n",
    "\n",
    "auth-proxyコンテナのLTI認証連携機能に関する構成を下図に示します。なおローカルユーザ認証、学認連携認証については省略しています。"
   ]
  },
  {
   "cell_type": "markdown",
   "metadata": {
    "hidden": true
   },
   "source": [
    "![lti構成](images/lti-001.png)"
   ]
  },
  {
   "cell_type": "markdown",
   "metadata": {},
   "source": [
    "### 事前に準備が必要となるものについて\n",
    "\n",
    "このNotebookを実行するにあたっての前提条件を以下に記します。"
   ]
  },
  {
   "cell_type": "markdown",
   "metadata": {},
   "source": [
    "* CoursewareHubとLTI認証連携を行う Moodle に管理者としてログインできること\n",
    "* LTI認証連携を設定するCoursewareHubとMoodleとが互いにアクセス可能であること"
   ]
  },
  {
   "cell_type": "markdown",
   "metadata": {},
   "source": [
    "### UnitGroup名\n",
    "\n",
    "CoursewareHubの構築環境となるVCPのUnitGroup名を指定します。"
   ]
  },
  {
   "cell_type": "markdown",
   "metadata": {},
   "source": [
    "VCノードを作成時に指定した値を確認するために `group_vars`ファイル名の一覧を表示します。"
   ]
  },
  {
   "cell_type": "code",
   "execution_count": null,
   "metadata": {},
   "outputs": [],
   "source": [
    "!ls -1 --hide all group_vars/"
   ]
  },
  {
   "cell_type": "markdown",
   "metadata": {},
   "source": [
    "上のセルの出力結果を参考にして、UnitGroup名を次のセルに指定してください。"
   ]
  },
  {
   "cell_type": "code",
   "execution_count": null,
   "metadata": {},
   "outputs": [],
   "source": [
    "# (例)\n",
    "# ugroup_name = 'CoursewareHub'\n",
    "\n",
    "ugroup_name = "
   ]
  },
  {
   "cell_type": "markdown",
   "metadata": {
    "heading_collapsed": true
   },
   "source": [
    "### チェック\n",
    "\n",
    "対象となるVCノードがAnsibleによって操作できることを確認します。"
   ]
  },
  {
   "cell_type": "markdown",
   "metadata": {
    "hidden": true
   },
   "source": [
    "Ansibleの設定ファイルの場所を環境変数に設定しておきます。"
   ]
  },
  {
   "cell_type": "code",
   "execution_count": null,
   "metadata": {
    "hidden": true
   },
   "outputs": [],
   "source": [
    "from pathlib import Path\n",
    "import os\n",
    "\n",
    "cfg_ansible = Path('ansible.cfg')\n",
    "if cfg_ansible.exists():\n",
    "    os.environ['ANSIBLE_CONFIG'] = str(cfg_ansible.resolve())"
   ]
  },
  {
   "cell_type": "markdown",
   "metadata": {
    "hidden": true
   },
   "source": [
    "構築対象となる各VCノードにアクセスできることを確認します。"
   ]
  },
  {
   "cell_type": "code",
   "execution_count": null,
   "metadata": {
    "hidden": true
   },
   "outputs": [],
   "source": [
    "target_hub = f'{ugroup_name}_manager'\n",
    "\n",
    "!ansible {target_hub} -m ping"
   ]
  },
  {
   "cell_type": "markdown",
   "metadata": {},
   "source": [
    "## Moodleで外部ツールの設定を行う\n",
    "\n",
    "CoursewareHubとLTI認証連携を行う Moodle にて、外部ツールの設定を行います。"
   ]
  },
  {
   "cell_type": "markdown",
   "metadata": {},
   "source": [
    "### 事前設定ツールの追加を行う\n",
    "\n",
    "CoursewareHubを Moodle の事前設定ツールとして登録します。"
   ]
  },
  {
   "cell_type": "markdown",
   "metadata": {},
   "source": [
    "まずMoodleに管理者としてログインした後に[サイト管理]--[プラグイン]の順にアクセスしてください。表示された画面の「活動モジュール」セクションに下図のような内容が表示されます。\n",
    "\n",
    "![Moodle-サイト管理画面](images/moodle-411-01.png)"
   ]
  },
  {
   "cell_type": "markdown",
   "metadata": {},
   "source": [
    "上図の赤丸で示した「ツールを管理する」というリンクを選択すると、下図に示すような外部ツールの管理画面が表示されます。\n",
    "\n",
    "![Moodle-ツール管理画面1](images/moodle-411-02.png)"
   ]
  },
  {
   "cell_type": "markdown",
   "metadata": {},
   "source": [
    "上図の赤丸で示した「ツールを手動設定」のリンクを選択してください。下図に示す「外部ツール設定」画面が表示されます。この画面でCoursewareHubと連携するための情報を設定します。\n",
    "\n",
    "![Moodle-ツール設定画面1](images/moodle-411-03.png)"
   ]
  },
  {
   "cell_type": "markdown",
   "metadata": {},
   "source": [
    "まず「ツール設定」セクションの入力を行います。上図の青枠で示した箇所への入力が必要となります。入力が必要となる項目名を以下に示します。\n",
    "\n",
    "* ツール名\n",
    "* ツールURL\n",
    "* LTIバージョン\n",
    "* 公開鍵タイプ\n",
    "* ログイン開始URL\n",
    "* リダイレクトURI\n",
    "* デフォルト起動コンテナ\n"
   ]
  },
  {
   "cell_type": "markdown",
   "metadata": {},
   "source": [
    "「ツール名」にはツールを識別するための名前を入力してください。教師がコース内で外部ツールを追加するときに、ここで指定した名前が表示されます。\n",
    "\n",
    "「ツールURL」には CoursewareHub のURLを入力してください。次のセルを実行すると CoursewareHubのURLが表示されます。"
   ]
  },
  {
   "cell_type": "code",
   "execution_count": null,
   "metadata": {},
   "outputs": [],
   "source": [
    "!ansible {target_hub} -c local -a 'echo https://{{{{master_fqdn}}}}'"
   ]
  },
  {
   "cell_type": "markdown",
   "metadata": {},
   "source": [
    "「LTIバージョン」は `LTI 1.3` を選択してください。\n",
    "\n",
    "「公開鍵タイプ」は`鍵セットURL`を選択してください。\n",
    "\n",
    "「ログイン開始URL」には CoursewareHubの OpenID Connect/Initialization Endpoint を指定します。次のセルを実行して表示されるURLを入力してください。"
   ]
  },
  {
   "cell_type": "code",
   "execution_count": null,
   "metadata": {},
   "outputs": [],
   "source": [
    "!ansible {target_hub} -c local -a 'echo https://{{{{master_fqdn}}}}/php/lti/login.php'"
   ]
  },
  {
   "cell_type": "markdown",
   "metadata": {},
   "source": [
    "「リダイレクトURI」には CoursewareHubの Redirect Endpoint を指定します。次のセルを実行して表示されるURLを入力してください。"
   ]
  },
  {
   "cell_type": "code",
   "execution_count": null,
   "metadata": {},
   "outputs": [],
   "source": [
    "!ansible {target_hub} -c local -a 'echo https://{{{{master_fqdn}}}}/php/lti/service.php'"
   ]
  },
  {
   "cell_type": "markdown",
   "metadata": {},
   "source": [
    "「デフォルト起動コンテナ」には「`新しいウィンドウ`」か「`既存のウィンドウ`」を選択してください。"
   ]
  },
  {
   "cell_type": "markdown",
   "metadata": {},
   "source": [
    "「カスタムパラメータ」はLTIリンクを作成するときに指定するので、ここでは空欄のままにしてください。"
   ]
  },
  {
   "cell_type": "markdown",
   "metadata": {},
   "source": [
    "次に「プライバシー」セクションの入力を行います。下図の青枠で示した箇所への入力が必要となります。\n",
    "\n",
    "![Moodle-ツール設定画面2](images/moodle-411-04.png)"
   ]
  },
  {
   "cell_type": "markdown",
   "metadata": {},
   "source": [
    "入力が必要となる項目名を以下に示します。\n",
    "\n",
    "* ランチャのメールをツールと共有する\n",
    "\n",
    "「ランチャのメールをツールと共有する」は「常に」を選択してください。"
   ]
  },
  {
   "cell_type": "markdown",
   "metadata": {},
   "source": [
    "最後に「変更を保存する」を選択することでツールの登録が完了します。下図に示すようにツールの管理画面に登録したツールが表示されます。\n",
    "\n",
    "![Moodle-ツール管理画面2](images/moodle-411-05.png)"
   ]
  },
  {
   "cell_type": "markdown",
   "metadata": {},
   "source": [
    "### ツールの設定詳細を確認する\n",
    "\n",
    "CoursewareHubにLTI認証連携の設定を行うために必要となる情報を確認します。"
   ]
  },
  {
   "cell_type": "markdown",
   "metadata": {},
   "source": [
    "前節の最後に示した「ツールを管理する」画面の「ツール」セクションに、登録したツールの一覧が表示されています。登録したツールの肩に「設定詳細を表示する」リンクがあります（図中に赤丸で示している箇所）。このリンクを選択すると、下図のような画面表示となります。\n",
    "\n",
    "![Moodle-ツール設定詳細](images/moodle-411-06.png)"
   ]
  },
  {
   "cell_type": "markdown",
   "metadata": {},
   "source": [
    "表示された情報は、次章で CousewareHub にLTI認証連携の設定を行う際に必要となります。"
   ]
  },
  {
   "cell_type": "markdown",
   "metadata": {},
   "source": [
    "## CoursewareHubにLTI認証連携設定を行う"
   ]
  },
  {
   "cell_type": "markdown",
   "metadata": {},
   "source": [
    "### パラメータの指定"
   ]
  },
  {
   "cell_type": "markdown",
   "metadata": {},
   "source": [
    "Moodleの「ツール設定詳細」に表示された情報のうち以下に示す項目を指定します。\n",
    "\n",
    "* プラットフォームID\n",
    "* クライアントID\n",
    "* デプロイメントID"
   ]
  },
  {
   "cell_type": "markdown",
   "metadata": {},
   "source": [
    "プラットフォームIDの値を次のセルに入力してください。\n",
    "\n",
    "> プラットフォームIDに指定する値は、既に登録してあるものと異なる値を指定してください。同じプラットフォームIDを指定した場合、クライアントID、デプロイメントIDの値が異なる値であったとしても後から登録した値のみが有効となります。"
   ]
  },
  {
   "cell_type": "code",
   "execution_count": null,
   "metadata": {},
   "outputs": [],
   "source": [
    "# (例)\n",
    "# platform_id = 'https://moodle.example.org'\n",
    "\n",
    "platform_id = "
   ]
  },
  {
   "cell_type": "markdown",
   "metadata": {},
   "source": [
    "クライアントIDの値を次のセルに入力してください。"
   ]
  },
  {
   "cell_type": "code",
   "execution_count": null,
   "metadata": {},
   "outputs": [],
   "source": [
    "# (例)\n",
    "# client_id = 'xxxxxxxxxxxxxxx'\n",
    "\n",
    "client_id = "
   ]
  },
  {
   "cell_type": "markdown",
   "metadata": {},
   "source": [
    "デプロイメントIDの値を次のセルに入力してください。"
   ]
  },
  {
   "cell_type": "code",
   "execution_count": null,
   "metadata": {},
   "outputs": [],
   "source": [
    "# (例)\n",
    "# deployment_id = '1'\n",
    "\n",
    "deployment_id = "
   ]
  },
  {
   "cell_type": "markdown",
   "metadata": {},
   "source": [
    "### パラメータの保存\n",
    "\n",
    "前節で指定したパラメータを ansible の変数として `group_vars`ファイルに保存します。"
   ]
  },
  {
   "cell_type": "code",
   "execution_count": null,
   "metadata": {},
   "outputs": [],
   "source": [
    "import yaml\n",
    "from pathlib import Path\n",
    "\n",
    "gvars_path = Path(f'group_vars/{ugroup_name}')\n",
    "with gvars_path.open() as f:\n",
    "    gvars = yaml.safe_load(f)\n",
    "lti_config = gvars.get('lti_config', {})\n",
    "lti_config[platform_id] = {\n",
    "    'platform_id': platform_id,\n",
    "    'client_id': client_id,\n",
    "    'auth_login_url': f'{platform_id}/mod/lti/auth.php',\n",
    "    'auth_token_url': f'{platform_id}/mod/lti/token.php',\n",
    "    'key_set_url': f'{platform_id}/mod/lti/certs.php',\n",
    "    'deployment_id': deployment_id,\n",
    "}\n",
    "gvars['lti_config'] = lti_config\n",
    "with gvars_path.open(mode='w') as f:\n",
    "    yaml.safe_dump(gvars, stream=f)"
   ]
  },
  {
   "cell_type": "markdown",
   "metadata": {},
   "source": [
    "### CoursewareHubにLTI認証連携のための設定ファイルを配置する\n",
    "\n",
    "前節入力された情報をもとにLTI認証連携のための設定ファイル `lti.json` を生成し、CoursewareHub環境に配置します。"
   ]
  },
  {
   "cell_type": "markdown",
   "metadata": {},
   "source": [
    "LTI関連の設定ファイルを配置、生成するための Ansible の playbook を実行します。ここで実行するplaybookでは以下の処理を行います。\n",
    "\n",
    "* 指定されたパラメータに対応するLTIファイルを配置する\n",
    "* RSAの秘密鍵ファイル`private.key`が存在していない場合は、鍵ペアの生成を行う"
   ]
  },
  {
   "cell_type": "markdown",
   "metadata": {},
   "source": [
    "まず、実際に設定を変更する前にドライラン（チェックモード）でAnsibleを実行します。"
   ]
  },
  {
   "cell_type": "code",
   "execution_count": null,
   "metadata": {
    "scrolled": true
   },
   "outputs": [],
   "source": [
    "!ansible-playbook -CDv -l {target_hub} playbooks/setup-lti.yml || true"
   ]
  },
  {
   "cell_type": "markdown",
   "metadata": {},
   "source": [
    "実際に設定ファイルの配置を行います。"
   ]
  },
  {
   "cell_type": "code",
   "execution_count": null,
   "metadata": {
    "scrolled": true
   },
   "outputs": [],
   "source": [
    "!ansible-playbook -Dv -l {target_hub} playbooks/setup-lti.yml"
   ]
  },
  {
   "cell_type": "markdown",
   "metadata": {},
   "source": [
    "配置した設定ファイル`lti.json`の内容を確認します。"
   ]
  },
  {
   "cell_type": "code",
   "execution_count": null,
   "metadata": {},
   "outputs": [],
   "source": [
    "!ansible {target_hub} -a 'cat {{{{jupyterhub_cfg_dir}}}}/lti/lti.json'"
   ]
  },
  {
   "cell_type": "markdown",
   "metadata": {},
   "source": [
    "鍵ペアの公開鍵の内容を確認します。\n",
    "\n",
    "> この公開鍵は将来のLMS連携機能のために使用する。認証連携には使用しない。"
   ]
  },
  {
   "cell_type": "code",
   "execution_count": null,
   "metadata": {},
   "outputs": [],
   "source": [
    "!ansible {target_hub} -b -m shell -a \\\n",
    "    'openssl rsa -pubout -in {{{{jupyterhub_cfg_dir}}}}/lti/private.key 2>/dev/null'"
   ]
  },
  {
   "cell_type": "markdown",
   "metadata": {},
   "source": [
    "### auth-proxyコンテナにLTI認証連携設定を反映する\n",
    "\n",
    "前節で更新したLTIの設定ファイル`lti.json`をauth-proxyコンテナに反映します。"
   ]
  },
  {
   "cell_type": "markdown",
   "metadata": {},
   "source": [
    "auth-proxyコンテナが`lti.json`を読み込み直すためにauth-proxyサービスの再起動を行います。"
   ]
  },
  {
   "cell_type": "code",
   "execution_count": null,
   "metadata": {},
   "outputs": [],
   "source": [
    "!ansible {target_hub} -a 'docker service update --force coursewarehub_auth-proxy'"
   ]
  },
  {
   "cell_type": "markdown",
   "metadata": {},
   "source": [
    "コンテナの実行状況を確認します。`auth-proxy`コンテナの状態が`Running`であり、かつ新たに起動されていることを確認してください。"
   ]
  },
  {
   "cell_type": "code",
   "execution_count": null,
   "metadata": {
    "scrolled": true
   },
   "outputs": [],
   "source": [
    "!ansible {target_hub} -a 'docker service ps coursewarehub_auth-proxy'"
   ]
  },
  {
   "cell_type": "markdown",
   "metadata": {},
   "source": [
    "## MoodleでLTI リンクを作成する\n",
    "\n",
    "MoodleのサイトまたはコースのページにLTIリンクを作成します。"
   ]
  },
  {
   "cell_type": "markdown",
   "metadata": {},
   "source": [
    "### CoursewareHubへのリンクを作成する\n",
    "\n"
   ]
  },
  {
   "cell_type": "markdown",
   "metadata": {},
   "source": [
    "コースの編集モードを開始します。下図の赤丸で示したリンクを選択してください。\n",
    "\n",
    "> ここではコースにLTIリンクを作成する手順を示しますが、サイトにリンクを作成する場合も同様の手順となります。\n",
    "\n",
    "![コース画面1](images/moodle-411-10.png)"
   ]
  },
  {
   "cell_type": "markdown",
   "metadata": {},
   "source": [
    "編集モードの表示画面から「活動またはリソースを追加する」のリンクを選択してください。下図の赤丸で示した箇所などに表示されています。\n",
    "\n",
    "![コース画面2](images/moodle-411-11.png)"
   ]
  },
  {
   "cell_type": "markdown",
   "metadata": {},
   "source": [
    "追加する活動またはリソースの選択画面から「外部ツール」を選択してください。\n",
    "\n",
    "![コース画面3](images/moodle-411-12.png)"
   ]
  },
  {
   "cell_type": "markdown",
   "metadata": {},
   "source": [
    "下図のような設定画面が表示されます。「活動名」にリンクの名前を入力してください。ここで指定した値が作成されるリンクの表示名前となります。また「事前設定ツール」の項目には登録した外部ツールの名前を選択してください。\n",
    "\n",
    "![コース画面4](images/moodle-411-13.png)\n",
    "\n",
    "画面下部の「保存してコースに戻る」ボタンを選択することでLTIリンクが作成されます。\n",
    "\n",
    "> 「保存して表示」ボタンを選択した場合 iframe の表示となりますが CoursewareHub は埋め込みに対応していな\n",
    "いため正常に認証・認可されません。"
   ]
  },
  {
   "cell_type": "markdown",
   "metadata": {},
   "source": [
    "登録したリンクは下図のように表示されます。\n",
    "\n",
    "![コース画面5](images/moodle-411-14.png)"
   ]
  },
  {
   "cell_type": "markdown",
   "metadata": {},
   "source": [
    "### CoursewareHubのNotebookへのリンクを作成する\n",
    "\n",
    "CousewareHubのNotebookファイルへのリンクを作成する場合は「新しい外部ツールを追加する」画面で「カスタムパラメータ」の指定を行います。"
   ]
  },
  {
   "cell_type": "markdown",
   "metadata": {},
   "source": [
    "前節に示した手順のうち、追加する活動またはリソースの選択画面から「外部ツール」を選択するところまでは同様のの手順となります。「新しい外部ツールを追加する」画面にて「活動名」、「事前設定ツール」を入力した後に、下図の赤丸で示した「さらに表示する」のリンクを選択してください。\n",
    "\n",
    "![コース画面6](images/moodle-411-15.png)"
   ]
  },
  {
   "cell_type": "markdown",
   "metadata": {},
   "source": [
    "下図のように「カスタムパラメータ」などの入力欄が表示されます。\n",
    "\n",
    "![コース画面7](images/moodle-411-16.png)"
   ]
  },
  {
   "cell_type": "markdown",
   "metadata": {},
   "source": [
    "「カスタムパラメータ」に以下のような内容を指定します。\n",
    "\n",
    "```\n",
    "notebook={リンクするNotebookのパス}\n",
    "```\n",
    "\n",
    "例えば、CoursewareHubの `textbook/001-test.ipynb` に対するリンクを作成するには、\n",
    "\n",
    "```\n",
    "notebook=textbook/001-test.ipynb\n",
    "```\n",
    "\n",
    "のような指定を行います。指定するパスはCoursewareHubの各ユーザーのホームディレクトリからの相対パスとなります。それぞれのユーザーは異なるホームディレクトリを持つため、全てのユーザーの同じパスにNotebookのコピーが存在している必要があります。Notebookが見つからない場合は404 のエラー画面が表示されます。"
   ]
  }
 ],
 "metadata": {
  "kernelspec": {
   "display_name": "Python 3",
   "language": "python",
   "name": "python3"
  },
  "language_info": {
   "file_extension": ".py",
   "mimetype": "text/x-python",
   "name": "python",
   "nbconvert_exporter": "python",
   "pygments_lexer": "ipython3",
   "version": "3.10.4"
  },
  "toc": {
   "base_numbering": 1,
   "nav_menu": {},
   "number_sections": true,
   "sideBar": true,
   "skip_h1_title": true,
   "title_cell": "Table of Contents",
   "title_sidebar": "Contents",
   "toc_cell": false,
   "toc_position": {},
   "toc_section_display": true,
   "toc_window_display": true
  }
 },
 "nbformat": 4,
 "nbformat_minor": 4
}
