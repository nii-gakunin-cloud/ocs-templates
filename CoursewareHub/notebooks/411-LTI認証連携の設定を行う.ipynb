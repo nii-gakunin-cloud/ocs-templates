{
 "cells": [
  {
   "cell_type": "markdown",
   "metadata": {},
   "source": [
    "# LTI認証連携の設定を行う\n",
    "\n",
    "---\n",
    "\n",
    "Moodleとの間で LTI 1.3による認証連携を設定する。"
   ]
  },
  {
   "cell_type": "markdown",
   "metadata": {},
   "source": [
    "## 概要"
   ]
  },
  {
   "cell_type": "markdown",
   "metadata": {},
   "source": [
    "### LTI連携とは\n",
    "\n",
    "LTI（Learning Tools Interoperability）は、LMS（Learning Management System）と外部学習ツール間の標準的な連携仕様です。CoursewareHubでは LTI 1.3 を使用してMoodleとの認証連携を実現し、シームレスな学習環境を提供します。\n",
    "\n",
    "**LTI連携の役割分担:**\n",
    "- **Platform（Moodle）**: ユーザ認証・認可を管理し、コース情報を提供\n",
    "- **Tool（CoursewareHub）**: Jupyter Notebook による学習環境を提供\n",
    "\n",
    "**LTI連携による利用シーン:**\n",
    "- **講師**: Moodleのコースページから CoursewareHub にアクセスし、Jupyter Notebookの教材を作成・配布\n",
    "- **受講者**: Moodleのコースページから CoursewareHub にアクセスし、専用のJupyter Notebook環境で演習を実行\n",
    "- **管理者**: 複数コースの学習環境を一元管理"
   ]
  },
  {
   "cell_type": "markdown",
   "metadata": {},
   "source": [
    "### CoursewareHubにおけるLTI実装"
   ]
  },
  {
   "cell_type": "markdown",
   "metadata": {},
   "source": "CoursewareHubのLTI実装では、以下の特徴を提供します：\n\n**認証・認可の流れ:**\n<!--\n```mermaid\nsequenceDiagram\n    participant Student as 受講者\n    participant Moodle as Moodle<br/>(Platform)\n    participant CWH as CoursewareHub<br/>(Tool)\n    \n    Student->>Moodle: ログイン\n    Student->>Moodle: CoursewareHubリンクをクリック\n    Moodle->>CWH: LTI Launch Request<br/>(認証情報+コース情報)\n    CWH->>CWH: ユーザ認証・環境準備\n    CWH->>Student: Notebook環境表示\n    Student->>CWH: 演習・課題実行\n```\n-->\n\n![認証・認可の流れ](images/cw-411-01.png)\n\n**主要機能:**\n- **シングルサインオン（SSO）**: Moodleでの認証情報を使用してCoursewareHubに自動ログイン\n- **コース識別機能**: LTI連携パラメータによるコース単位での環境分離\n- **複数コース対応**: 単一のCoursewareHubインスタンスで複数コースを管理\n- **自動環境準備**: ユーザ・コース毎に独立したNotebook環境を自動作成"
  },
  {
   "cell_type": "markdown",
   "metadata": {},
   "source": [
    "### 対象ユーザと前提条件\n",
    "\n",
    "**対象ユーザ:**\n",
    "- **講師**: 教材作成・配布および受講者管理を行う\n",
    "- **受講者**: Jupyter Notebookによる演習・課題を実行する\n",
    "\n",
    "**前提条件:**\n",
    "- Moodle環境が稼働しており、管理者権限を有すること\n",
    "- CoursewareHub から Moodle へのアクセスが可能であること"
   ]
  },
  {
   "cell_type": "markdown",
   "metadata": {},
   "source": [
    "### ユーザマッピング\n",
    "\n",
    "CoursewareHubとMoodleの間では、**メールアドレス**を主要な識別子としてユーザを対応づけます。\n",
    "\n",
    "**基本的な仕組み:**\n",
    "- **Moodle**: 各ユーザアカウントに登録されているメールアドレス\n",
    "- **CoursewareHub**: LTI認証時に受信したメールアドレスをもとに自動的にユーザアカウントを作成・管理\n",
    "- **対応関係**: 同一のメールアドレスを持つユーザが同一人物として認識される\n",
    "\n",
    "**LTI認証時の情報伝達:**\n",
    "MoodleからCoursewareHubへのLTI Launch時に**メールアドレス**のみが送信されます。\n",
    "\n",
    "**重要な留意点:**\n",
    "- 各ユーザは一意のメールアドレスを使用する必要があります\n",
    "- 学習期間中のメールアドレス変更は避けることを推奨します"
   ]
  },
  {
   "cell_type": "markdown",
   "metadata": {},
   "source": [
    "### LTI連携設定のおおまかな流れ\n",
    "\n",
    "LTI連携の設定は以下の5つのステップで構成されます："
   ]
  },
  {
   "cell_type": "markdown",
   "metadata": {},
   "source": [
    "**ステップ1: 事前準備・要件確認**\n",
    "- CoursewareHubとMoodleの疎通確認\n",
    "- 権限確認、要件整理\n",
    "- 複数コース運用時の容量・管理体制の検討\n",
    "\n",
    "**ステップ2: Moodle でのLTI外部ツール登録**\n",
    "- Moodle のサイト全体にCoursewareHubをLTI外部ツールとして登録\n",
    "- プラットフォームID、クライアントID、デプロイメントIDの取得\n",
    "\n",
    "**ステップ3: CoursewareHubでのLTI設定**\n",
    "- CoursewareHubにLTI連携設定ファイルを配置\n",
    "- auth-proxyサービスの更新\n",
    "\n",
    "**ステップ4: Moodleコースでのリンク作成**\n",
    "- Moodleの各コースにCoursewareHubへのリンクを作成\n",
    "- 複数コース対応のカスタムパラメータ設定\n",
    "\n",
    "**ステップ5: 動作確認・運用開始**\n",
    "- 実際の認証動作確認\n",
    "- 運用開始"
   ]
  },
  {
   "cell_type": "markdown",
   "metadata": {},
   "source": [
    "## 複数コース機能"
   ]
  },
  {
   "cell_type": "markdown",
   "metadata": {},
   "source": "### 複数コース機能の概要\n\nCoursewareHub では、ひとつのインスタンスで複数の「コース」を管理できる複数コース機能を提供しています。LTI連携のカスタムパラメータを使用することで、Moodleの各コースに対応した独立したJupyter Notebook環境を自動的に提供できます。\n\n<!--\n```mermaid\nflowchart TB\n    subgraph \"Moodle (Platform)\"\n        C1[コース1: Python基礎]\n        C2[コース2: データ分析]\n        C3[コース3: 機械学習]\n    end\n    \n    subgraph \"CoursewareHub (Tool)\"\n        subgraph \"Named Servers\"\n            NS1[python-basic<br/>Named Server]\n            NS2[data-analysis<br/>Named Server]\n            NS3[machine-learning<br/>Named Server]\n        end\n        \n        subgraph \"ディレクトリ構造\"\n            D1[\"/home/{user}/<br>python-basic/\"]\n            D2[\"/home/{user}/<br>data-analysis/\"]\n            D3[\"/home/{user}/<br>machine-learning/\"]\n        end\n    end\n    \n    C1 -.->|LTI Launch<br/>course_server=<br>python-basic| NS1\n    C2 -.->|LTI Launch<br/>course_server=<br>data-analysis| NS2\n    C3 -.->|LTI Launch<br/>course_server=<br>machine-learning| NS3\n    \n    NS1 --- D1\n    NS2 --- D2\n    NS3 --- D3\n    \n    style C1 fill:#bbdefb\n    style C2 fill:#c8e6c9\n    style C3 fill:#ffcdd2\n    style NS1 fill:#e3f2fd\n    style NS2 fill:#e8f5e8\n    style NS3 fill:#ffebee\n```\n-->\n\n![複数コース機能](images/cw-411-02.png)\n\n**対象ユーザ:**\n- **講師**: \n  - Moodle教師ロール（コース管理権限）を有する\n  - CoursewareHubの管理者権限（教材作成・配布のため）を有する\n- **受講者**: Moodleにログインした状態で、CoursewareHub への LTI 連携リンクにアクセスして演習を実行\n\n**複数コース機能の特徴:**\n- **コース毎の独立環境**: 各コースで独立したNotebook環境とディレクトリを自動作成\n- **コンテナイメージ**: コース毎に適切なJupyterコンテナイメージを選択可能\n- **データ分離**: コース間でのデータ分離により、セキュアな学習環境を実現"
  },
  {
   "cell_type": "markdown",
   "metadata": {},
   "source": [
    "### アーキテクチャ\n",
    "\n",
    "複数コース機能は、JupyterHubの[Named Server](https://jupyterhub.readthedocs.io/en/latest/howto/configuration/config-user-env.html#named-servers)を活用して実現されています。\n",
    "\n",
    "**Named Server による実現:**\n",
    "- **コース毎のコンテンツ**: コースの名前がついたディレクトリによって分けられる\n",
    "- **ユーザホームディレクトリ**: 各ユーザのホームディレクトリには、コース名でディレクトリが作成される\n",
    "- **専用演習環境**: コース毎にNamed Serverが作られ、それが専用の演習環境となる\n",
    "- **受講者に対する制限**: Named Serverの標準機能を利用しつつ、受講者が新規のコースを作成できないように制限\n",
    "\n",
    "**コース作成プロセス:**\n",
    "1. **講師による作成**: 講師ユーザが「コース指定付きLTIリンク」を経由してNamed Server を起動\n",
    "2. **自動ディレクトリ作成**: 以下のディレクトリが自動作成される\n",
    "   - `/home/{username}/{coursename}/` - 講師の作業用ディレクトリ\n",
    "   - `/jupyter/admin/info/{coursename}/` - 教材配布用ディレクトリ\n",
    "   - `/jupyter/admin/textbook/{coursename}/` - テキストブック用ディレクトリ\n",
    "3. **Named Server起動**: 指定されたコンテナイメージでサーバーが起動\n",
    "4. **環境変数設定**: `CWH_COURSE_NAME={coursename}` が設定される\n",
    "\n",
    "**受講者の制限**:\n",
    "   - 受講者が存在しないコース名で Named Server を起動しようとした場合、エラーメッセージが表示され起動できない\n",
    "\n",
    "**受講者用ディレクトリ作成**:\n",
    "   - 受講者が「コース指定付きLTIリンク」を経由して初回ログインした際に、ユーザのHome配下にコース用のディレクトリが自動作成される"
   ]
  },
  {
   "cell_type": "markdown",
   "metadata": {},
   "source": [
    "### LTIカスタムパラメータ\n",
    "\n",
    "複数コース機能を利用するためにはMoodleのLTI外部ツール設定で以下のカスタムパラメータを指定します。\n",
    "\n",
    "#### course_server\n",
    "- **用途**: コースのNotebookサーバー(Named Server)の名称\n",
    "- **使用可能な記号**: `-(ハイフン)`、`_（アンダースコア）`、`.（ドット）`、括弧類、`@（アットマーク）`\n",
    "- **ディレクトリ名**: course_server から、一部のパスに含まれていると不都合な記号を `_`（アンダースコア）に置換した文字列となる\n",
    "\n",
    "**命名規則の推奨事項:**\n",
    "- **文字数**: 3～50文字を推奨\n",
    "- **避けるべき文字**: スペース、日本語文字、特殊記号（`#`, `%`, `&` 等）\n",
    "- **重複回避**: 既存のコース名と重複しないよう事前確認が必要\n",
    "\n",
    "**例:**\n",
    "- 推奨: `data-analysis-2025`, `ml-advanced-spring`\n",
    "- 非推奨: `データ分析 2025`, `course#1`, `very-long-course-name-that-exceeds-reasonable-length`\n",
    "\n",
    "#### course_image\n",
    "- **用途**: Notebookサーバーのコンテナイメージ名（省略時はデフォルトのイメージ）\n",
    "- **フォーマット**: `\"{Name}:{Reference}\"`\n",
    "  - **Name**: CoursewareHubに登録済みの講義用コンテナイメージ名（例: `seaborn`, `network-command`, `python-basic`）\n",
    "  - **Reference**: イメージのタグやバージョン（例: `head`, `v1.0`, Gitコミットハッシュ）  \n",
    "    ※大文字は英小文字に変換して指定する\n",
    "- **有効条件**: course_server パラメータを指定したときのみ有効\n",
    "- **イメージ登録**:\n",
    "  - 講義用コンテナイメージはCoursewareHubの管理画面から事前に登録が必要\n",
    "  - 詳細は「731-講義用Notebook環境のイメージ登録.ipynb」を参照\n",
    "\n",
    "#### logout-redirect-url\n",
    "- **用途**: CoursewareHubからログアウトした時の戻り先となるMoodleのアドレス\n",
    "\n",
    "**設定例:**\n",
    "```\n",
    "course_server=python-basic\n",
    "course_image=python-basic:head\n",
    "logout-redirect-url=https://moodle.example.org/course/view.php?id=123\n",
    "```\n",
    "\n",
    "**結果:**\n",
    "- Named Server 名: `python-basic`\n",
    "- コースディレクトリ名: `python-basic`\n",
    "- 使用イメージ: `python-basic:head`（CoursewareHubに登録済みのコンテナイメージ）\n",
    "- 環境変数: `CWH_COURSE_NAME=python-basic`"
   ]
  },
  {
   "cell_type": "markdown",
   "metadata": {},
   "source": [
    "### ディレクトリ構成とセキュリティ\n",
    "\n",
    "#### 講師用環境\n",
    "- **ホームディレクトリ**: `/home/{username}/{coursename}` - コース専用の作業領域\n",
    "- **教材配布用**: `/jupyter/admin/info/{coursename}`, `/jupyter/admin/textbook/{coursename}`\n",
    "\n",
    "#### 受講者用環境  \n",
    "- **ホームディレクトリ**: `/home/{username}/{coursename}/` - コース専用の作業領域\n",
    "- **教材アクセス**: `/home/{username}/{coursename}/info/`, `/home/{username}/{coursename}/textbook/`\n",
    "\n",
    "#### セキュリティとアクセス制御\n",
    "\n",
    "**ファイルシステムレベルの分離:**\n",
    "- **受講者間分離**: 各受講者のホームディレクトリ（`/home/{username}/`）は他の受講者からアクセス不可\n",
    "- **コース間分離**: コース毎のコンテンツはディレクトリ（`/home/{username}/{coursename}/`）で分離\n",
    "\n",
    "**Jupyter UIでの制限:**\n",
    "- **ファイルリスト制限**: 特定コースでログイン時、Jupyterのファイルブラウザでは該当コースのディレクトリのみ表示\n",
    "- **Named Server制限**: 受講者は管理者が作成したNamed Serverにのみアクセス可能\n",
    "\n",
    "**Terminal経由でのアクセス:**\n",
    "- Terminalを使用した場合、他のコースディレクトリへのアクセスが可能"
   ]
  },
  {
   "cell_type": "markdown",
   "metadata": {},
   "source": [
    "### 運用上の要点\n",
    "\n",
    "#### 管理者の作業分担\n",
    "- **Moodle管理者（サイトレベル）**: 外部ツールの登録・管理\n",
    "- **講師（Moodle教師ロール）**: 「コース指定付きLTIリンク」の作成・管理、受講者管理\n",
    "- **CoursewareHub管理者**: 教材作成・配布、コンテナイメージ登録\n",
    "\n",
    "#### コース識別と環境変数\n",
    "- **CWH_COURSE_NAME**\n",
    "  - 各notebookでコース識別に使用する環境変数\n",
    "  - `course_server`パラメータの値がそのまま設定される"
   ]
  },
  {
   "cell_type": "markdown",
   "metadata": {},
   "source": [
    "## 事前準備"
   ]
  },
  {
   "cell_type": "markdown",
   "metadata": {},
   "source": [
    "### システム要件の確認\n",
    "\n",
    "LTI連携を実現するための基本的なシステム要件を確認します。\n",
    "\n",
    "**CoursewareHub:**\n",
    "- [23.11.0-20250402](https://github.com/nii-gakunin-cloud/ocs-templates/releases/tag/release%2F23.11.0-20250402)以降のアプリケーションテンプレートでCoursewareHubを構築していること\n",
    "- auth-proxyサービスが正常に動作していること\n",
    "\n",
    "**Moodle:**\n",
    "- LTI 1.3 に対応したMoodle（バージョン 4.1 以降推奨）\n",
    "- LTI外部ツール機能が有効であること\n",
    "\n",
    "**動作確認済み環境:**\n",
    "- Moodle: 4.5.6, 4.1.20"
   ]
  },
  {
   "cell_type": "markdown",
   "metadata": {},
   "source": [
    "### 権限要件\n",
    "\n",
    "LTI連携の設定と運用に必要な権限を整理します。\n",
    "\n",
    "#### Moodleの権限要件\n",
    "\n",
    "**サイトレベル管理者権限:**\n",
    "- **必要な作業**: LTI外部ツールのサイト全体登録\n",
    "- **具体的な権限**: 「サイト管理」→「プラグイン」→「活動モジュール」→「LTI外部ツール」の管理権限\n",
    "- **作業内容**: CoursewareHubをLTI外部ツールとして登録、プラットフォームID・クライアントID・デプロイメントIDの取得\n",
    "\n",
    "**講師（Moodle教師ロール）:**\n",
    "- **必要な作業**: 各コースへのLTIリンク作成\n",
    "- **具体的な権限**: コースの編集権限、活動・リソースの追加権限\n",
    "- **作業内容**: コースページへのLTIリンク追加、複数コース機能用カスタムパラメータ設定\n",
    "\n",
    "#### CoursewareHubの権限要件\n",
    "\n",
    "**システム管理者権限:**\n",
    "- **必要な作業**: LTI連携設定、サービス設定\n",
    "- **具体的な権限**: Ansible実行権限、設定ファイル更新権限、Dockerサービス管理権限\n",
    "- **作業内容**: LTI設定ファイルの配置、auth-proxyサービスの更新\n",
    "\n",
    "**CoursewareHub管理者権限（教材作成用）:**\n",
    "- **必要な作業**: 教材作成・配布、コース環境管理\n",
    "- **具体的な権限**: JupyterHubのadmin権限、Named Server作成権限\n",
    "- **付与対象**: Moodle教師ロールを持つ講師"
   ]
  },
  {
   "cell_type": "markdown",
   "metadata": {},
   "source": [
    "### ネットワーク要件\n",
    "\n",
    "CoursewareHubとMoodle間のネットワーク接続要件を確認します。\n",
    "\n",
    "**アクセス要件:**\n",
    "- CoursewareHubからMoodleへのアクセスが可能であること"
   ]
  },
  {
   "cell_type": "markdown",
   "metadata": {},
   "source": [
    "### 要件の確認\n",
    "\n",
    "設定対象のCoursewareHubが要件を満たしていることを確認します。"
   ]
  },
  {
   "cell_type": "markdown",
   "metadata": {},
   "source": [
    "#### 対象となるCoursewareHub\n",
    "\n",
    "LTI連携の設定対象となるCoursewareHubのUnitGroup名を指定します。"
   ]
  },
  {
   "cell_type": "markdown",
   "metadata": {},
   "source": [
    "VCノードを作成時に指定した値を確認するために `group_vars`ファイル名の一覧を表示します。"
   ]
  },
  {
   "cell_type": "code",
   "execution_count": null,
   "metadata": {},
   "outputs": [],
   "source": [
    "!ls -1 --hide all group_vars/"
   ]
  },
  {
   "cell_type": "markdown",
   "metadata": {},
   "source": [
    "上のセルの出力結果を参考にして、設定対象となるCoursewareHubのUnitGroup名を次のセルに指定してください。"
   ]
  },
  {
   "cell_type": "code",
   "execution_count": null,
   "metadata": {},
   "outputs": [],
   "source": [
    "# (例)\n",
    "# ugroup_name = 'CoursewareHub'\n",
    "\n",
    "ugroup_name = "
   ]
  },
  {
   "cell_type": "markdown",
   "metadata": {},
   "source": [
    "指定したUnitGroupのVCノードにアクセスできることを確認します。"
   ]
  },
  {
   "cell_type": "code",
   "execution_count": null,
   "metadata": {},
   "outputs": [],
   "source": [
    "target_hub = f'{ugroup_name}_manager'\n",
    "\n",
    "!ansible {target_hub} -m ping"
   ]
  },
  {
   "cell_type": "markdown",
   "metadata": {},
   "source": [
    "#### システム要件の確認\n",
    "\n",
    "以下の要件を確認します。\n",
    "\n",
    "- auth-proxyサービスが正常に動作していること\n",
    "- 構築されているCoursewareHubが複数コース機能をサポートしていること([23.11.0-20250402](https://github.com/nii-gakunin-cloud/ocs-templates/releases/tag/release%2F23.11.0-20250402)以降のアプリケーションテンプレートが対応）\n"
   ]
  },
  {
   "cell_type": "markdown",
   "metadata": {},
   "source": [
    "auth-proxyサービスが正常に動作していることを確認します。"
   ]
  },
  {
   "cell_type": "code",
   "execution_count": null,
   "metadata": {},
   "outputs": [],
   "source": [
    "!ansible {target_hub} -m shell -a '[ $(docker ps -q \\\n",
    "    --filter health=healthy \\\n",
    "    --filter \"label=com.docker.swarm.service.name=coursewarehub_auth-proxy\" \\\n",
    "    | wc -l) -eq 1 ]'"
   ]
  },
  {
   "cell_type": "markdown",
   "metadata": {},
   "source": [
    "auth-proxyサービスが複数コースに対応していることを確認します。"
   ]
  },
  {
   "cell_type": "code",
   "execution_count": null,
   "metadata": {},
   "outputs": [],
   "source": [
    "!ansible {target_hub} -m shell -a 'docker exec -it \\\n",
    "    $(docker ps --filter \"label=com.docker.swarm.service.name=coursewarehub_auth-proxy\" -q) \\\n",
    "    grep -q course_server /var/www/htdocs/php/lti/service.php'"
   ]
  },
  {
   "cell_type": "markdown",
   "metadata": {},
   "source": [
    "#### ネットワーク要件の確認\n",
    "\n",
    "以下の要件を確認します。\n",
    "\n",
    "- CoursewareHubからMoodleへのアクセスが可能であること"
   ]
  },
  {
   "cell_type": "markdown",
   "metadata": {},
   "source": [
    "LTI連携設定を行うMoodleのURLを指定してください。"
   ]
  },
  {
   "cell_type": "code",
   "execution_count": null,
   "metadata": {},
   "outputs": [],
   "source": [
    "# (例)\n",
    "# moodle_url = 'https://moodle.example.org'\n",
    "\n",
    "moodle_url = "
   ]
  },
  {
   "cell_type": "markdown",
   "metadata": {},
   "source": [
    "CoursewareHub(auth-proxyサービス)からMoodleへのアクセスが可能であることを確認します。"
   ]
  },
  {
   "cell_type": "code",
   "execution_count": null,
   "metadata": {
    "scrolled": true
   },
   "outputs": [],
   "source": [
    "!ansible {target_hub} -m shell -a 'docker exec -it \\\n",
    "    $(docker ps --filter \"label=com.docker.swarm.service.name=coursewarehub_auth-proxy\" -q) \\\n",
    "    curl -vfs -o /dev/null --connect-timeout 10 {moodle_url}'"
   ]
  },
  {
   "cell_type": "markdown",
   "metadata": {},
   "source": [
    "アクセスできない場合はファイアウォールの設定を変更するなどの対応を行なってください。"
   ]
  },
  {
   "cell_type": "markdown",
   "metadata": {
    "heading_collapsed": true
   },
   "source": [
    "##### auth-proxyの/etc/hostsにエントリを追加する\n",
    "\n",
    "以下の条件でMoodleにアクセスできない場合に、このセクションを実行してください：\n",
    "\n",
    "**実行が必要な条件:**\n",
    "- CoursewareHubからMoodleへのDNS解決に失敗する場合\n",
    "- MoodleがプライベートIPアドレスや内部ホスト名を使用している場合  \n",
    "- ネットワーク設定でDNSアクセスが制限されている場合\n",
    "\n",
    "**判断方法:**\n",
    "前のセルのcurlコマンドで「name resolution failed」や「could not resolve host」エラーが発生した場合\n",
    "\n",
    "**設定例:**\n",
    "- 内部サーバー: `(\"moodle.internal.example.org\", \"192.168.1.100\")`\n",
    "- 開発環境: `(\"moodle-dev.local\", \"10.0.0.50\")`"
   ]
  },
  {
   "cell_type": "markdown",
   "metadata": {
    "hidden": true
   },
   "source": [
    "`/etc/hosts`に追加するエントリを次のセルで指定してください。それぞれのエントリは、ホスト名、IPアドレスのタプルを指定してください。"
   ]
  },
  {
   "cell_type": "code",
   "execution_count": null,
   "metadata": {
    "hidden": true
   },
   "outputs": [],
   "source": [
    "auth_proxy_extra_hosts = [\n",
    "    # (例)\n",
    "    # (\"moodle.example.org\", \"192.168.1.100\"),\n",
    "]"
   ]
  },
  {
   "cell_type": "markdown",
   "metadata": {
    "hidden": true
   },
   "source": [
    "指定された値をgroup_varsに保存します。"
   ]
  },
  {
   "cell_type": "code",
   "execution_count": null,
   "metadata": {
    "hidden": true
   },
   "outputs": [],
   "source": [
    "%run scripts/group.py\n",
    "if auth_proxy_extra_hosts:\n",
    "    update_group_vars(ugroup_name, auth_proxy_extra_hosts=auth_proxy_extra_hosts)"
   ]
  },
  {
   "cell_type": "markdown",
   "metadata": {
    "hidden": true
   },
   "source": [
    "`docker-compose.yml`のauth-proxyにextra_hostsのエントリを追加するansibleのplaybookを実行します。まずはチェックモードで実行します。"
   ]
  },
  {
   "cell_type": "code",
   "execution_count": null,
   "metadata": {
    "hidden": true,
    "scrolled": true
   },
   "outputs": [],
   "source": [
    "!ansible-playbook -CDv -l {ugroup_name}_manager playbooks/update-extra-hosts.yml"
   ]
  },
  {
   "cell_type": "markdown",
   "metadata": {
    "hidden": true
   },
   "source": [
    "実際に`docker-compose.yml`の更新を行い、auth-proxyコンテナを起動し直します。"
   ]
  },
  {
   "cell_type": "code",
   "execution_count": null,
   "metadata": {
    "hidden": true
   },
   "outputs": [],
   "source": [
    "!ansible-playbook -v -l {ugroup_name}_manager playbooks/update-extra-hosts.yml"
   ]
  },
  {
   "cell_type": "markdown",
   "metadata": {
    "hidden": true
   },
   "source": [
    "Moodleへのアクセスが可能であることを確認します。"
   ]
  },
  {
   "cell_type": "code",
   "execution_count": null,
   "metadata": {
    "hidden": true,
    "scrolled": true
   },
   "outputs": [],
   "source": [
    "!ansible {target_hub} -m shell -a 'docker exec -it \\\n",
    "    $(docker ps --filter \"label=com.docker.swarm.service.name=coursewarehub_auth-proxy\" -q) \\\n",
    "    curl -vfs -o /dev/null --connect-timeout 10 {moodle_url}'"
   ]
  },
  {
   "cell_type": "markdown",
   "metadata": {},
   "source": [
    "## Moodleの設定\n",
    "\n",
    "CoursewareHubをLTI外部ツールとしてMoodleに登録し、CoursewareHubの設定に必要なパラメータを取得します。この作業にはMoodleのサイトレベル管理者権限が必要です。"
   ]
  },
  {
   "cell_type": "markdown",
   "metadata": {},
   "source": [
    "### LTI外部ツール登録\n",
    "\n",
    "Moodleのサイト管理画面からCoursewareHubを外部ツールとして登録します。"
   ]
  },
  {
   "cell_type": "markdown",
   "metadata": {},
   "source": "#### 管理画面へのアクセス\n\n1. **Moodle管理者権限でログイン**\n2. **サイト管理メニューへアクセス**\n   - 画面右上の管理メニューから「サイト管理」を選択\n3. **プラグイン管理画面への移動**\n   - 「プラグイン」→「活動モジュール」→「LTI外部ツール」→「ツールを管理する」を選択\n\n![LTI外部ツール管理画面](images/cw-411-03.png)"
  },
  {
   "cell_type": "markdown",
   "metadata": {},
   "source": "#### 新規ツールの追加\n\n1. **ツール追加開始**\n   - 「ツールを手動設定」をクリック\n\n![ツール設定開始](images/cw-411-04.png)\n\n2. **基本設定の入力**\n\n![基本設定フォーム](images/cw-411-05.png)\n\n「外部ツール設定」画面でLTI連携に関するCoursewareHubの情報を入力します。次のセルを実行すると、それぞれの入力欄に指定する値が表示されます。"
  },
  {
   "cell_type": "code",
   "execution_count": null,
   "metadata": {},
   "outputs": [],
   "source": [
    "%run scripts/group.py\n",
    "from IPython.display import Markdown, display\n",
    "\n",
    "gvars = load_group_vars(ugroup_name)\n",
    "cwh_url = f\"https://{gvars['master_fqdn']}\"\n",
    "display(Markdown(f\"\"\"\n",
    "| パラメータ | 値 | 備考 |\n",
    "|:--|:--|:--|\n",
    "|ツール名||任意の識別しやすい名前<br>(例)`CoursewareHub`|\n",
    "|ツールURL|`{cwh_url}`|CoursewareHubのURL|\n",
    "|LTIバージョン|LTI 1.3|LTIのバージョン<br>「LTI 1.3」を指定する|\n",
    "|公開鍵タイプ|鍵セットURL|ツール認証の方式<br>「鍵セットURL」を指定する|\n",
    "|公開鍵セット||空欄のままにする|\n",
    "|ログイン開始URL|`{cwh_url}/php/lti/login.php`||\n",
    "|リダイレクトURI|`{cwh_url}/php/lti/service.php`||\n",
    "|カスタムパラメータ||空欄のままにする|\n",
    "|ツール設定使用|「外部ツール追加時に事前設定ツールとして表示する」または<br>「活動チューザまたは事前設定ツールに表示する」|\n",
    "|デフォルト起動コンテナ|「新しいウィンドウ」または<br>「既存のウィンドウ」|\n",
    "\"\"\"))"
   ]
  },
  {
   "cell_type": "markdown",
   "metadata": {},
   "source": "#### 詳細設定の構成\n\n3. **プライバシー設定**\n   - **ランチャのメールをツールと共有する**: 常に\n\nCoursewareHubとメールの[ユーザマッピング](#ユーザマッピング)はメールアドレスを識別子として用います。そのためツールの設定でメールの共有設定を有効にする必要があります。\n\n![詳細設定フォーム](images/cw-411-06.png)\n\n4. **設定保存**\n   - 「変更を保存する」ボタンをクリック"
  },
  {
   "cell_type": "markdown",
   "metadata": {},
   "source": "#### LTI外部ツール設定の完了\n\n5. **登録されたツールの確認**\n    - 「ツールを管理する」画面にツールが表示される\n\n![ツールを管理する画面8](images/cw-411-07.png)"
  },
  {
   "cell_type": "markdown",
   "metadata": {},
   "source": "### 設定パラメータの確認\n\nCoursewareHubの設定に必要なパラメータをMoodleの画面で確認します。\n\n#### ツール設定詳細の確認\n\n1. **設定済みツール一覧の表示**\n   - 「サイト管理」→「プラグイン」→「活動モジュール」→「外部ツール」→「ツールを管理する」\n2. **設定詳細の表示**\n   - 該当ツールの「設定詳細を表示する」アイコンをクリック\n\n![LTIツール](images/cw-411-08.png)\n\n3. ツール設定詳細\n\n![LTI 1.3設定完了](images/cw-411-09.png)\n\n#### パラメータ一覧\n\n「ツール設定詳細」で表示されたパラメータのうち以下の値を確認してください。次章「5. CoursewareHub側の設定」で使用します。\n\n* プラットフォームID\n* クライアントID\n* デプロイメントID"
  },
  {
   "cell_type": "markdown",
   "metadata": {},
   "source": [
    "## CoursewareHubの設定\n",
    "\n",
    "前章で取得したMoodleのパラメータを使用してCoursewareHubでLTI連携の設定を行います。"
   ]
  },
  {
   "cell_type": "markdown",
   "metadata": {},
   "source": [
    "### パラメータの指定\n",
    "\n",
    "Moodleの外部ツールを登録した際に得られたパラメータを指定します。"
   ]
  },
  {
   "cell_type": "markdown",
   "metadata": {},
   "source": [
    "プラットフォームIDの値を次のセルに入力してください。"
   ]
  },
  {
   "cell_type": "code",
   "execution_count": null,
   "metadata": {},
   "outputs": [],
   "source": [
    "# (例)\n",
    "# platform_id = 'https://moodle.example.org'\n",
    "\n",
    "platform_id = "
   ]
  },
  {
   "cell_type": "markdown",
   "metadata": {},
   "source": [
    "クライアントIDの値を次のセルに入力してください。"
   ]
  },
  {
   "cell_type": "code",
   "execution_count": null,
   "metadata": {},
   "outputs": [],
   "source": [
    "# (例)\n",
    "# client_id = 'xxxxxxxxxxxxxxx'\n",
    "\n",
    "client_id = "
   ]
  },
  {
   "cell_type": "markdown",
   "metadata": {},
   "source": [
    "デプロイメントIDの値を次のセルに入力してください。"
   ]
  },
  {
   "cell_type": "code",
   "execution_count": null,
   "metadata": {},
   "outputs": [],
   "source": [
    "# (例)\n",
    "# deployment_id = '1'\n",
    "\n",
    "deployment_id = "
   ]
  },
  {
   "cell_type": "markdown",
   "metadata": {
    "heading_collapsed": true
   },
   "source": [
    "#### パラメータの保存\n",
    "\n",
    "ここまでに指定したパラメータの値をファイルに保存します。"
   ]
  },
  {
   "cell_type": "markdown",
   "metadata": {
    "hidden": true
   },
   "source": [
    "値を保存する前に簡単なチェックを行います。"
   ]
  },
  {
   "cell_type": "code",
   "execution_count": null,
   "metadata": {
    "hidden": true
   },
   "outputs": [],
   "source": [
    "%run scripts/group.py\n",
    "%run scripts/check_params.py\n",
    "gvars = load_group_vars(ugroup_name)\n",
    "lti_config = gvars.get('lti_config', {})\n",
    "if (platform_id := simple_url_normalize(platform_id)) in lti_config:\n",
    "    msg = f'既に登録されているplatform_idです: {platform_id}'\n",
    "    raise RuntimeError(msg)"
   ]
  },
  {
   "cell_type": "markdown",
   "metadata": {
    "hidden": true
   },
   "source": [
    "group_varsに保存します。"
   ]
  },
  {
   "cell_type": "code",
   "execution_count": null,
   "metadata": {
    "hidden": true
   },
   "outputs": [],
   "source": [
    "lti_config = gvars.get('lti_config', {})\n",
    "lti_config[platform_id] = {\n",
    "    'platform_id': platform_id,\n",
    "    'client_id': client_id,\n",
    "    'auth_login_url': simple_url_normalize(platform_id, 'mod/lti/auth.php'),\n",
    "    'auth_token_url': simple_url_normalize(platform_id, 'mod/lti/token.php'),\n",
    "    'key_set_url': simple_url_normalize(platform_id, 'mod/lti/certs.php'),\n",
    "    'deployment_id': deployment_id,\n",
    "}\n",
    "update_group_vars(ugroup_name, lti_config=lti_config)"
   ]
  },
  {
   "cell_type": "markdown",
   "metadata": {},
   "source": [
    "### LTI設定ファイルの配置\n",
    "\n",
    "CoursewareHubでLTI認証連携を行うための設定ファイル`lti.json`を配置します。"
   ]
  },
  {
   "cell_type": "markdown",
   "metadata": {},
   "source": [
    "LTI関連の設定ファイルを配置、生成するための Ansible の playbook を実行します。ここで実行するplaybookでは以下の処理を行います。\n",
    "\n",
    "* 指定されたパラメータに対応するLTIファイルを配置する\n",
    "* RSAの秘密鍵ファイル`private.key`が存在していない場合は、鍵ペアの生成を行う"
   ]
  },
  {
   "cell_type": "markdown",
   "metadata": {},
   "source": [
    "まず、実際に設定を変更する前にドライラン（チェックモード）でAnsibleを実行します。"
   ]
  },
  {
   "cell_type": "code",
   "execution_count": null,
   "metadata": {},
   "outputs": [],
   "source": [
    "!ansible-playbook -CDv -l {target_hub} playbooks/setup-lti.yml || true"
   ]
  },
  {
   "cell_type": "markdown",
   "metadata": {},
   "source": [
    "実際に設定ファイルの配置を行います。"
   ]
  },
  {
   "cell_type": "code",
   "execution_count": null,
   "metadata": {
    "scrolled": true
   },
   "outputs": [],
   "source": [
    "!ansible-playbook -Dv -l {target_hub} playbooks/setup-lti.yml"
   ]
  },
  {
   "cell_type": "markdown",
   "metadata": {},
   "source": [
    "配置した設定ファイル`lti.json`の内容を確認します。"
   ]
  },
  {
   "cell_type": "code",
   "execution_count": null,
   "metadata": {},
   "outputs": [],
   "source": [
    "!ansible {target_hub} -a 'cat {{{{jupyterhub_cfg_dir}}}}/lti/lti.json'"
   ]
  },
  {
   "cell_type": "markdown",
   "metadata": {},
   "source": [
    "### auth-proxyサービスの更新\n",
    "\n",
    "LTI設定を反映するためにauth-proxyサービスを更新します。"
   ]
  },
  {
   "cell_type": "markdown",
   "metadata": {},
   "source": [
    "auth-proxyコンテナが`lti.json`を読み込みさせるため、auth-proxyを再起動します。"
   ]
  },
  {
   "cell_type": "code",
   "execution_count": null,
   "metadata": {},
   "outputs": [],
   "source": [
    "!ansible {target_hub} -a 'docker service update --force coursewarehub_auth-proxy'"
   ]
  },
  {
   "cell_type": "markdown",
   "metadata": {},
   "source": [
    "コンテナの実行状況を確認します。`auth-proxy`コンテナの状態が`Running`であり、かつ新たに起動されていることを確認してください。"
   ]
  },
  {
   "cell_type": "code",
   "execution_count": null,
   "metadata": {},
   "outputs": [],
   "source": [
    "!ansible {target_hub} -a 'docker service ps coursewarehub_auth-proxy'"
   ]
  },
  {
   "cell_type": "markdown",
   "metadata": {},
   "source": [
    "## Moodleコースでの活用\n",
    "\n",
    "LTI連携設定が完了したので、実際のMoodleコースでCoursewareHubを活用できるようになります。この作業はMoodle教師ロール権限で実行できます。"
   ]
  },
  {
   "cell_type": "markdown",
   "metadata": {},
   "source": [
    "### コースへのリンク追加\n",
    "\n",
    "MoodleコースにCoursewareHubへのLTIリンクを追加します。"
   ]
  },
  {
   "cell_type": "markdown",
   "metadata": {},
   "source": [
    "#### コース編集モードの有効化"
   ]
  },
  {
   "cell_type": "markdown",
   "metadata": {},
   "source": "1. **対象コースにアクセス**\n   - 講師権限でMoodleにログイン\n   - CoursewareHubを利用したいコースを選択\n\n2. **編集モードの有効化**\n   - 画面右上に表示されている「編集モード」ボタンをクリック\n\n![コース編集モード](images/cw-411-10.png)"
  },
  {
   "cell_type": "markdown",
   "metadata": {},
   "source": [
    "#### LTI外部ツールの追加"
   ]
  },
  {
   "cell_type": "markdown",
   "metadata": {},
   "source": "3. **「活動またはリソースを追加する」の画面に表示**\n   - コースのメニュー[さらに]→[LTI外部ツール]を選択し外部ツール画面を表示する\n   - CoursewareHubの[活動チューザに表示する]を有効にする\n\n![コース画面-外部ツール](images/cw-411-11.png)\n\n4. **活動の追加**\n   - コース内の任意のセクションで「活動またはリソースを追加する」をクリック\n\n![活動追加](images/cw-411-12.png)\n\n5. **LTI外部ツールの選択**\n   - CoursewareHubを選択する\n\n![LTI外部ツール選択](images/cw-411-13.png)"
  },
  {
   "cell_type": "markdown",
   "metadata": {},
   "source": [
    "#### CoursewareHubツールの設定"
   ]
  },
  {
   "cell_type": "markdown",
   "metadata": {},
   "source": "6. **基本設定の入力**\n   - **活動名**: `Jupyter Notebook環境` （任意の名前）\n   - **活動説明**: 受講者向けの説明文を入力\n   \n![外部ツール-基本設定](images/cw-411-14.png)\n\n7. **カスタムパラメータの入力**\n   - [さらに表示する]を選択する\n   - カスタムパラメータに入力する値の詳細については次のセクション以降を参照\n   - 単一コースだけを利用する場合でもコース名`course_server`の指定が必要\n\n![カスタムパラメータ](images/cw-411-15.png)\n\n8. **設定の保存**\n   - 「保存してコースに戻る」をクリック"
  },
  {
   "cell_type": "markdown",
   "metadata": {},
   "source": [
    "### 複数コース対応のカスタムパラメータ設定\n",
    "\n",
    "複数コース機能を利用するためのカスタムパラメータを設定します。"
   ]
  },
  {
   "cell_type": "markdown",
   "metadata": {},
   "source": [
    "#### 必須パラメータの設定\n",
    "\n",
    "- **course_server**\n",
    "   - コース固有の識別子（例: `python-basic-2025`）\n",
    "   - 使用可能文字: 英数字、ハイフン、アンダースコア\n",
    "   - 3～50文字を推奨\n",
    "\n",
    "\n",
    "#### オプションのパラメータ\n",
    "\n",
    "- **course_image**\n",
    "   - 講義用コンテナイメージ（例: `python-basic:head`）\n",
    "   - 省略時はデフォルトイメージを使用\n",
    "   - フォーマット: `{Name}:{Reference}`\n",
    "     - **Name**: CoursewareHubに登録済みの講義用コンテナイメージ名（例: `seaborn`, `network-command`, `python-basic`）\n",
    "     - **Reference**: イメージのタグやバージョン（例: `head`, `v1.0`, Gitコミットハッシュ, Gitブランチ名）  \n",
    "       ※大文字は英小文字に変換して指定する\n",
    "\n",
    "- **logout-redirect-url**\n",
    "    - CoursewareHubからの戻り先URL（例: `https://moodle.example.org/course/view.php?id=123`）\n",
    "\n",
    "#### 設定例\n",
    "\n",
    "以下は「Python基礎 2025年度」コースの設定例です：\n",
    "\n",
    "```\n",
    "course_server=python-basic-2025\n",
    "course_image=python-basic:head\n",
    "logout-redirect-url=https://moodle.example.org/course/view.php?id=123\n",
    "```\n",
    "\n",
    "**この設定による結果**：\n",
    "- Named Server名: `python-basic-2025`\n",
    "- コースディレクトリ: `/home/{username}/python-basic-2025/`\n",
    "- 使用イメージ: `python-basic:head`\n",
    "- 環境変数: `CWH_COURSE_NAME=python-basic-2025`"
   ]
  },
  {
   "cell_type": "markdown",
   "metadata": {},
   "source": [
    "### 特定Notebookへの直接リンク\n",
    "\n",
    "特定のJupyter Notebookファイルに直接リンクする方法を説明します。"
   ]
  },
  {
   "cell_type": "markdown",
   "metadata": {},
   "source": [
    "#### カスタムパラメータの利用\n",
    "\n",
    "カスタムパラメータにNotebookを指定するパラメータを追加する。\n",
    "\n",
    "   - **パラメータ名**: `notebook`\n",
    "   - **値**: 開きたいNotebookファイルのパス\n",
    "     - **基準ディレクトリ**: `/home/{username}/{coursename}/`\n",
    "     - **指定例**: `lesson01.ipynb`\n",
    "     - **実際のパス**: `/home/{username}/{coursename}/lesson01.ipynb`\n",
    "\n",
    "#### 注意事項\n",
    "\n",
    "- **ファイルの存在確認**: 指定したNotebookファイルが実際に存在することを確認\n",
    "  - 受講者自身が`10_AcquireMaterials.ipynb`を実行するなどの方法で、事前に教材のnotebookを取得する必要がある\n",
    "- **パスの記述**: コース毎に定まる基準ディレクトリからの相対パスを指定する\n"
   ]
  },
  {
   "cell_type": "markdown",
   "metadata": {},
   "source": [
    "## 動作確認\n",
    "\n",
    "LTI連携が実際に動作することを確認します。"
   ]
  },
  {
   "cell_type": "markdown",
   "metadata": {},
   "source": [
    "### 講師権限での動作確認\n",
    "\n",
    "講師アカウントでLTI連携の基本動作を確認します。"
   ]
  },
  {
   "cell_type": "markdown",
   "metadata": {},
   "source": [
    "#### CoursewareHubの権限\n",
    "\n",
    "Moodleの講師ユーザに対応するCoursewareHubアカウントには管理者権限が必要となります。これはCoursewareHubで教材作成、配布などの作業を行うために必要な要件となります。\n",
    "\n",
    "Moodleの講師ユーザをCoursewareHubの管理者として追加するには、以下のnotebookを事前に実行してください。\n",
    "\n",
    "* 721-管理者の追加.ipynb"
   ]
  },
  {
   "cell_type": "markdown",
   "metadata": {},
   "source": [
    "#### LTI連携の基本動作を確認する"
   ]
  },
  {
   "cell_type": "markdown",
   "metadata": {},
   "source": "1. **Moodleコースへのアクセス**\n   - 講師権限のアカウントでMoodleにログイン\n   - 前章で設定したLTIリンクがあるコースにアクセス\n   \n![MoodleコースでのLTIリンク](images/cw-411-16.png)"
  },
  {
   "cell_type": "markdown",
   "metadata": {},
   "source": "2. **LTIリンクのクリック**\n   - CoursewareHubのLTIリンクをクリック\n   - CoursewareHubの認証処理が行われ、JupyterHubの画面が表示されることを確認\n   - コンテナイメージ選択画面が表示されることを確認\n   - カスタムパラメータ`course_image`で選択したコンテナイメージが選択されていることを確認\n     - `course_image`を指定していない場合はデフォルトとして設定されているコンテナイメージが選択される\n\n![LTIリンククリック](images/cw-411-17.png)"
  },
  {
   "cell_type": "markdown",
   "metadata": {},
   "source": "３. **single-userサーバの起動**\n   - コンテナイメージ選択画面の[Start]ボタンをクリックする\n   - サーバの起動処理中画面が表示されることを確認する\n\n![single-userサーバの起動](images/cw-411-18.png)"
  },
  {
   "cell_type": "markdown",
   "metadata": {},
   "source": "4. **JupyterHub画面の表示**\n   - CoursewareHubのJupyterHub画面が正常に表示されることを確認\n   - 教師用の管理機能が表示されることを確認:\n     - ファイル一覧に`admin_tools/`ディレクトリが表示されること\n![教師用JupyterHub画面](images/cw-411-19.png)\n     - [Control Panel]を選択した画面に管理者向けの[Admin], [Environments]タブが表示されること\n![教師用JupyterHub管理画面](images/cw-411-20.png)"
  },
  {
   "cell_type": "markdown",
   "metadata": {},
   "source": "5. **複数コース機能の確認**\n   - 環境変数`CWH_COURSE_NAME`にコース名が設定されていること\n   - カレントディレクトリが`/home/{username}/{coursename}/`になっていること\n\n![Named Server作成確認](images/cw-411-21.png)"
  },
  {
   "cell_type": "markdown",
   "metadata": {},
   "source": [
    "**確認ポイント**:\n",
    "\n",
    "- LTIリンクが正常にクリック可能\n",
    "- 認証処理がエラーなく完了\n",
    "- JupyterHub画面が適切に表示\n",
    "- 講師用の管理機能にアクセス可能\n",
    "- Named Serverが正しい名前で作成"
   ]
  },
  {
   "cell_type": "markdown",
   "metadata": {},
   "source": [
    "### 受講者権限での動作確認\n",
    "\n",
    "一般的な受講者アカウントでの動作を確認します。"
   ]
  },
  {
   "cell_type": "markdown",
   "metadata": {},
   "source": [
    "1. **受講者アカウントでのアクセス**\n",
    "   - 受講者権限のアカウントでMoodleにログイン\n",
    "   - コースにアクセスしてLTIリンクをクリック"
   ]
  },
  {
   "cell_type": "markdown",
   "metadata": {},
   "source": "2. **受講者用JupyterHub画面の確認**\n   - 受講者用のJupyterHub画面が表示されることを確認\n     - コンテナイメージ選択画面が表示されることなく、指定したコンテナイメージでsingle-userサーバが起動する\n   - Admin機能にはアクセスできないことを確認\n      - ファイル一覧に`admin_tools/`ディレクトリが表示されないこと\n      - ファイル一覧に`tools/`ディレクトリが表示されること\n![受講者用JupyterHub画面](images/cw-411-22.png)\n     - [Control Panel]を選択した画面に管理者向けの[Admin], [Environments]タブが表示されないこと\n![受講者用JupyterHub管理画面](images/cw-411-23.png)"
  },
  {
   "cell_type": "markdown",
   "metadata": {},
   "source": [
    "**確認ポイント:**\n",
    "- 受講者アカウントで正常にアクセス可能\n",
    "- 受講者用画面が適切に表示\n",
    "- Admin機能へのアクセスが制限\n"
   ]
  },
  {
   "cell_type": "markdown",
   "metadata": {
    "heading_collapsed": true
   },
   "source": [
    "### トラブルシューティング"
   ]
  },
  {
   "cell_type": "markdown",
   "metadata": {
    "hidden": true
   },
   "source": "#### 認証エラー\n\nLTIリンクを選択した時にJupyterHub画面が表示されず、以下のようなエラー画面が表示されることがあります。\n\n![認証エラー](images/cw-411-24.png)\n\nCoursewareHubからMoodleへのアクセスができない場合にこのエラーとなります。[3.4.3 ネットワーク要件の確認](#ネットワーク要件の確認)で行なっているチェックなどを再確認してください。"
  },
  {
   "cell_type": "markdown",
   "metadata": {
    "hidden": true
   },
   "source": "#### Named Serverへのアクセスがエラーになる\n\n`course_server`を指定したLTIリンクを選択した時に、以下のようなエラー画面が表示されることがあります。\n\n![認可エラー](images/cw-411-25.png)\n\nLTIリンクを選択したユーザ権限により異なる対応が必要となります。\n\n* 講師の場合\n  * 原因: Coursewareの管理者権限が設定されていない\n  * 対応方法: 「721-管理者の追加.ipynb」を実行して、Moodle教師ロールユーザにCoursewareHubの管理者権限を付与する\n* 受講者の場合\n  * 原因: 講師が`course_server`のNamed Serverを作成していない\n  * 対応方法:\n    * 講師が`course_server`のNamed Serverを作成する\n    * `course_server`の設定値を修正する"
  },
  {
   "cell_type": "markdown",
   "metadata": {
    "hidden": true
   },
   "source": "#### Notebookへの直接リンクのアクセスがエラーになる\n\nカスタムパラメータ`notebook`を指定したLTIリンクを選択した時に、以下のようなエラー画面が表示されることがあります。\n\n![notfoundエラー](images/cw-411-26.png)\n\nリンク先のnotebookが存在していない場合、上記のエラーとなります。\n\nnotebookは、事前に受講者自身が適切に配置する必要があります。受講者が`tools/10_AcquireMaterials.ipynb`を実行するように指導してください。"
  }
 ],
 "metadata": {
  "kernelspec": {
   "display_name": "Python 3",
   "language": "python",
   "name": "python3"
  },
  "language_info": {
   "file_extension": ".py",
   "mimetype": "text/x-python",
   "name": "python",
   "nbconvert_exporter": "python",
   "pygments_lexer": "ipython3",
   "version": "3.10.11"
  },
  "toc": {
   "base_numbering": 1,
   "nav_menu": {},
   "number_sections": true,
   "sideBar": true,
   "skip_h1_title": true,
   "title_cell": "Table of Contents",
   "title_sidebar": "Contents",
   "toc_cell": false,
   "toc_position": {
    "height": "calc(100% - 180px)",
    "left": "10px",
    "top": "150px",
    "width": "384.188px"
   },
   "toc_section_display": true,
   "toc_window_display": true
  }
 },
 "nbformat": 4,
 "nbformat_minor": 4
}
