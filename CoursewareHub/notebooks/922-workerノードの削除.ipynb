{
 "cells": [
  {
   "cell_type": "markdown",
   "metadata": {},
   "source": [
    "# workerノードの削除\n",
    "\n",
    "---\n",
    "\n",
    "CoursewareHub環境を構成しているworkerノードから一部のノードを削除します。"
   ]
  },
  {
   "cell_type": "markdown",
   "metadata": {},
   "source": [
    "## パラメータの指定\n",
    "\n",
    "workerノードを削除するのに必要となるパラメータを入力します。"
   ]
  },
  {
   "cell_type": "markdown",
   "metadata": {},
   "source": [
    "### UnitGroup名\n",
    "\n",
    "操作対象となるVCPのUnitGroup名を指定します。"
   ]
  },
  {
   "cell_type": "markdown",
   "metadata": {},
   "source": [
    "VCノードを作成時に指定したUnitGroup名を確認するために `group_vars` ファイル名の一覧を表示します。"
   ]
  },
  {
   "cell_type": "code",
   "execution_count": null,
   "metadata": {},
   "outputs": [],
   "source": [
    "!ls -1 --hide all group_vars/"
   ]
  },
  {
   "cell_type": "markdown",
   "metadata": {},
   "source": [
    "UnitGroup名を指定してください。"
   ]
  },
  {
   "cell_type": "code",
   "execution_count": null,
   "metadata": {
    "tags": [
     "vcp:skip",
     "vcp:parameters"
    ]
   },
   "outputs": [],
   "source": [
    "# (例)\n",
    "# ugroup_name = 'CoursewareHub'\n",
    "\n",
    "ugroup_name = "
   ]
  },
  {
   "cell_type": "markdown",
   "metadata": {
    "heading_collapsed": true
   },
   "source": [
    "#### チェック\n",
    "\n",
    "対象となるVCノードがAnsibleによって操作できることを確認します。"
   ]
  },
  {
   "cell_type": "markdown",
   "metadata": {
    "hidden": true
   },
   "source": [
    "Ansibleの設定ファイルの場所を環境変数に設定しておきます。"
   ]
  },
  {
   "cell_type": "code",
   "execution_count": null,
   "metadata": {
    "hidden": true
   },
   "outputs": [],
   "source": [
    "from pathlib import Path\n",
    "import os\n",
    "\n",
    "cfg_ansible = Path(\"ansible.cfg\")\n",
    "if cfg_ansible.exists():\n",
    "    os.environ[\"ANSIBLE_CONFIG\"] = str(cfg_ansible.resolve())"
   ]
  },
  {
   "cell_type": "markdown",
   "metadata": {
    "hidden": true
   },
   "source": [
    "managerノードにアクセスできることを確認します。"
   ]
  },
  {
   "cell_type": "code",
   "execution_count": null,
   "metadata": {
    "hidden": true
   },
   "outputs": [],
   "source": [
    "target_hub = f\"{ugroup_name}_manager\"\n",
    "\n",
    "!ansible {target_hub} -m ping"
   ]
  },
  {
   "cell_type": "markdown",
   "metadata": {
    "hidden": true
   },
   "source": [
    "UnitGroup名に対応する group_varsファイルが存在していることを確認します。"
   ]
  },
  {
   "cell_type": "code",
   "execution_count": null,
   "metadata": {
    "hidden": true
   },
   "outputs": [],
   "source": [
    "!test -f group_vars/{ugroup_name}"
   ]
  },
  {
   "cell_type": "markdown",
   "metadata": {
    "hidden": true
   },
   "source": [
    "UnitGroupの変数をgroup_varsファイルから読み込みます。"
   ]
  },
  {
   "cell_type": "code",
   "execution_count": null,
   "metadata": {
    "hidden": true
   },
   "outputs": [],
   "source": [
    "%run scripts/group.py\n",
    "gvars = load_group_vars(ugroup_name)"
   ]
  },
  {
   "cell_type": "markdown",
   "metadata": {
    "hidden": true
   },
   "source": [
    "指定されたUnitGroupでworkerノードのスケジュール設定が行われている場合は、このnotebookでworkerノードの削除を行うことができません。「821-ノード数のスケジュール設定を削除する.ipynb」でスケジュール設定を削除した後にこのnotebookを実行してください。"
   ]
  },
  {
   "cell_type": "code",
   "execution_count": null,
   "metadata": {
    "hidden": true
   },
   "outputs": [],
   "source": [
    "if any(name in gvars for name in [\"vcnode_schedule\", \"schedule\"]):\n",
    "    raise RuntimeError(\"スケジュール設定が行われています\")"
   ]
  },
  {
   "cell_type": "markdown",
   "metadata": {},
   "source": [
    "### VCCアクセストークンの入力"
   ]
  },
  {
   "cell_type": "markdown",
   "metadata": {},
   "source": [
    "VCノードを削除するためにVC Controller(VCC)のアクセストークンが必要となります。\n",
    "次のセルを実行すると表示される入力枠にVCCのアクセストークンを入力してください。\n",
    "\n",
    "> アクセストークン入力後に Enter キーを押すことで入力が完了します。"
   ]
  },
  {
   "cell_type": "code",
   "execution_count": null,
   "metadata": {
    "tags": [
     "vcp:skip",
     "vcp:parameters"
    ]
   },
   "outputs": [],
   "source": [
    "from getpass import getpass\n",
    "\n",
    "vcc_access_token = getpass()"
   ]
  },
  {
   "cell_type": "markdown",
   "metadata": {},
   "source": [
    "入力されたアクセストークンが正しいことを、実際にVCCにアクセスして確認します。"
   ]
  },
  {
   "cell_type": "code",
   "execution_count": null,
   "metadata": {
    "pinned_outputs": [],
    "tags": [
     "vcp:rewrite:vcpsdk"
    ]
   },
   "outputs": [],
   "source": [
    "from common import logsetting\n",
    "from vcpsdk.vcpsdk import VcpSDK\n",
    "\n",
    "vcp = VcpSDK(vcc_access_token)"
   ]
  },
  {
   "cell_type": "markdown",
   "metadata": {},
   "source": [
    "上のセルの実行結果がエラーとなり以下のようなメッセージが表示されている場合は、入力されたアクセストークンに誤りがあります。\n",
    "\n",
    "```\n",
    "config vc failed: http_status(403)\n",
    "2023/XX/XX XX:XX:XX UTC: VCPAuthException: xxxxxxx:token lookup is failed: permission denied\n",
    "```\n",
    "\n",
    "エラーになった場合はこの節のセルを全て `unfreeze` してから、もう一度アクセストークンの入力を行ってください。"
   ]
  },
  {
   "cell_type": "markdown",
   "metadata": {},
   "source": [
    "### 削除するノードの指定\n",
    "\n",
    "workerノードから削除するノードを指定します。"
   ]
  },
  {
   "cell_type": "markdown",
   "metadata": {},
   "source": [
    "削除するノードの指定は二通りの方法で行うことができます。\n",
    "\n",
    "* 削除するworkerノード数を指定する\n",
    "* 削除するノードのIPアドレスを指定する"
   ]
  },
  {
   "cell_type": "markdown",
   "metadata": {},
   "source": [
    "ノードの削除を行う前に、現在のworkerノードの状態を確認します。"
   ]
  },
  {
   "cell_type": "code",
   "execution_count": null,
   "metadata": {},
   "outputs": [],
   "source": [
    "ugroup = vcp.get_ugroup(ugroup_name)\n",
    "unit_worker = ugroup.get_unit(\"worker\")\n",
    "unit_worker.df_nodes()"
   ]
  },
  {
   "cell_type": "markdown",
   "metadata": {},
   "source": [
    "#### 削除するworkerノード数を指定する"
   ]
  },
  {
   "cell_type": "markdown",
   "metadata": {},
   "source": [
    "> 削除するノードをIPアドレスで指定する場合はこの節をスキップしてください。"
   ]
  },
  {
   "cell_type": "markdown",
   "metadata": {},
   "source": [
    "削除するノード数を指定してください。"
   ]
  },
  {
   "cell_type": "code",
   "execution_count": null,
   "metadata": {},
   "outputs": [],
   "source": [
    "# (例)\n",
    "# delete_nodes = 2\n",
    "\n",
    "delete_nodes = "
   ]
  },
  {
   "cell_type": "markdown",
   "metadata": {},
   "source": [
    "#### 削除するノードのIPアドレスを指定する"
   ]
  },
  {
   "cell_type": "markdown",
   "metadata": {},
   "source": [
    "> 削除するノード数を指定した場合はこの節をスキップしてください。ノード数とIPアドレスの両方を指定した場合はIPアドレスの指定が優先されます。"
   ]
  },
  {
   "cell_type": "markdown",
   "metadata": {},
   "source": [
    "削除するノードのIPアドレスのリストを指定してください。"
   ]
  },
  {
   "cell_type": "code",
   "execution_count": null,
   "metadata": {},
   "outputs": [],
   "source": [
    "# (例)\n",
    "# delete_ipaddresses = [\n",
    "#     '172.30.2.101',\n",
    "#     '172.30.2.102',\n",
    "#     '172.30.2.103',\n",
    "# ]\n",
    "\n",
    "delete_ipaddresses = [\n",
    "    \n",
    "]"
   ]
  },
  {
   "cell_type": "markdown",
   "metadata": {
    "heading_collapsed": true
   },
   "source": [
    "#### チェック\n",
    "\n",
    "指定されたパラメータをチェックします。"
   ]
  },
  {
   "cell_type": "code",
   "execution_count": null,
   "metadata": {
    "hidden": true
   },
   "outputs": [],
   "source": [
    "worker_addrs = unit_worker.find_ip_addresses()\n",
    "if \"delete_ipaddresses\" in vars() and len(delete_ipaddresses) > 0:\n",
    "    if not set(delete_ipaddresses) <= set(worker_addrs):\n",
    "        raise RuntimeError(\"workerノードでないIPアドレスが指定されています\")\n",
    "elif \"delete_nodes\" in vars():\n",
    "    if delete_nodes > len(worker_addrs):\n",
    "        raise RuntimeError(\"現在のworkerノード数よりも大きなノード数が指定されています\")"
   ]
  },
  {
   "cell_type": "markdown",
   "metadata": {
    "heading_collapsed": true
   },
   "source": [
    "## ノードの削除"
   ]
  },
  {
   "cell_type": "markdown",
   "metadata": {
    "hidden": true
   },
   "source": [
    "### VCノードの削除\n",
    "\n",
    "VCノードを削除します。"
   ]
  },
  {
   "cell_type": "code",
   "execution_count": null,
   "metadata": {
    "hidden": true
   },
   "outputs": [],
   "source": [
    "params = {}\n",
    "if \"delete_ipaddresses\" in vars() and len(delete_ipaddresses) > 0:\n",
    "    params[\"ip_addresses\"] = delete_ipaddresses\n",
    "elif \"delete_nodes\" in vars():\n",
    "    params[\"num_delete_nodes\"] = delete_nodes\n",
    "unit_worker.delete_nodes(**params)"
   ]
  },
  {
   "cell_type": "markdown",
   "metadata": {
    "hidden": true
   },
   "source": [
    "削除後のworkerノードの状態を確認します。"
   ]
  },
  {
   "cell_type": "code",
   "execution_count": null,
   "metadata": {
    "hidden": true
   },
   "outputs": [],
   "source": [
    "unit_worker.df_nodes()"
   ]
  },
  {
   "cell_type": "markdown",
   "metadata": {
    "hidden": true
   },
   "source": [
    "### Ansibleの設定を更新する"
   ]
  },
  {
   "cell_type": "markdown",
   "metadata": {
    "hidden": true
   },
   "source": [
    "Ansibleのインベントリから削除したノードの情報を削除します。"
   ]
  },
  {
   "cell_type": "code",
   "execution_count": null,
   "metadata": {
    "hidden": true
   },
   "outputs": [],
   "source": [
    "from pathlib import Path\n",
    "import yaml\n",
    "\n",
    "inventory_path = Path(\"inventory.yml\")\n",
    "with inventory_path.open() as f:\n",
    "    inventory = yaml.safe_load(f)\n",
    "inventory[\"all\"][\"children\"][ugroup_name][\"children\"][\n",
    "    f\"{ugroup_name}_{unit_worker.name}\"\n",
    "][\"hosts\"] = dict([(x, dict(servicenet_ip=x)) for x in unit_worker.find_ip_addresses()])\n",
    "bak_inventory_path = Path(inventory_path.parent, inventory_path.name + \".bak\")\n",
    "inventory_path.rename(bak_inventory_path)\n",
    "with inventory_path.open(mode=\"w\") as f:\n",
    "    yaml.safe_dump(inventory, f)"
   ]
  },
  {
   "cell_type": "markdown",
   "metadata": {
    "hidden": true
   },
   "source": [
    "変更差分を確認します。"
   ]
  },
  {
   "cell_type": "code",
   "execution_count": null,
   "metadata": {
    "hidden": true
   },
   "outputs": [],
   "source": [
    "! ! diff -u {bak_inventory_path} {inventory_path}"
   ]
  },
  {
   "cell_type": "markdown",
   "metadata": {
    "hidden": true
   },
   "source": [
    "group_varsに記録されているworkerノードのIPアドレスとノード数を更新します。"
   ]
  },
  {
   "cell_type": "code",
   "execution_count": null,
   "metadata": {
    "hidden": true
   },
   "outputs": [],
   "source": [
    "%run scripts/group.py\n",
    "worker_ipaddresses = unit_worker.find_ip_addresses()\n",
    "update_group_vars(\n",
    "    ugroup_name,\n",
    "    worker_nodes=len(worker_ipaddresses),\n",
    "    worker_ipaddresses=worker_ipaddresses,\n",
    ")"
   ]
  },
  {
   "cell_type": "markdown",
   "metadata": {
    "hidden": true
   },
   "source": [
    "### NFSサーバ\n",
    "\n",
    "NFSサーバが属しているansibleのグループ名を指定します。"
   ]
  },
  {
   "cell_type": "code",
   "execution_count": null,
   "metadata": {
    "hidden": true
   },
   "outputs": [],
   "source": [
    "if 'nfs_target' in gvars:\n",
    "    nfs_group = gvars['nfs_target']\n",
    "elif 'nfs_ipaddress' in gvars:\n",
    "    nfs_group = f'{ugroup_name}_nfs'\n",
    "else:\n",
    "    nfs_group = f'{ugroup_name}_manager'"
   ]
  },
  {
   "cell_type": "markdown",
   "metadata": {
    "hidden": true
   },
   "source": [
    "指定されたグループのノードを操作できることを確認します。"
   ]
  },
  {
   "cell_type": "code",
   "execution_count": null,
   "metadata": {
    "hidden": true
   },
   "outputs": [],
   "source": [
    "!ansible {nfs_group} -m ping"
   ]
  },
  {
   "cell_type": "code",
   "execution_count": null,
   "metadata": {
    "hidden": true
   },
   "outputs": [],
   "source": [
    "!ansible {nfs_group} -b -a 'whoami'"
   ]
  },
  {
   "cell_type": "markdown",
   "metadata": {
    "hidden": true
   },
   "source": [
    "### /etc/exportsを更新する\n",
    "\n",
    "NFSサーバの`/etc/exports`から削除したノードを削除して設定を更新します。"
   ]
  },
  {
   "cell_type": "markdown",
   "metadata": {
    "hidden": true
   },
   "source": [
    "`/etc/exports`の記述を更新します。"
   ]
  },
  {
   "cell_type": "code",
   "execution_count": null,
   "metadata": {
    "hidden": true
   },
   "outputs": [],
   "source": [
    "from tempfile import TemporaryDirectory\n",
    "from pathlib import Path\n",
    "\n",
    "exports_opts = 'rw,fsid=0,no_root_squash,no_subtree_check,sync,crossmnt'\n",
    "with TemporaryDirectory() as workdir:\n",
    "        exports = Path(workdir) / f'{ugroup_name}.exports'\n",
    "        with exports.open(mode='w') as f:\n",
    "            if 'nfs_ipaddress' in gvars:\n",
    "                addr = gvars[\"manager_ipaddress\"]\n",
    "                f.write(f'/exported/{ugroup_name} {addr}({exports_opts})\\n')\n",
    "            for addr in unit_worker.find_ip_addresses():\n",
    "                f.write(f'/exported/{ugroup_name} {addr}({exports_opts})\\n')\n",
    "        !cat {exports}\n",
    "        !ansible {nfs_group} -bDv -m copy -a \\\n",
    "                'src={exports} dest=/etc/exports.d/ backup=yes'"
   ]
  },
  {
   "cell_type": "markdown",
   "metadata": {
    "hidden": true
   },
   "source": [
    "設定ファイルを読み込ませてエクスポート設定を更新します。"
   ]
  },
  {
   "cell_type": "code",
   "execution_count": null,
   "metadata": {
    "hidden": true
   },
   "outputs": [],
   "source": [
    "!ansible {nfs_group} -b -a 'exportfs -r -v'"
   ]
  },
  {
   "cell_type": "markdown",
   "metadata": {
    "hidden": true
   },
   "source": [
    "### Docker Swarmを更新する\n",
    "\n",
    "削除したノードをDocker Swarmから削除します。"
   ]
  },
  {
   "cell_type": "markdown",
   "metadata": {
    "hidden": true
   },
   "source": [
    "Docker Swarmを構成しているworkerノードの一覧を確認します。"
   ]
  },
  {
   "cell_type": "code",
   "execution_count": null,
   "metadata": {
    "hidden": true
   },
   "outputs": [],
   "source": [
    "!ansible {ugroup_name}_manager -a 'docker node ls -f role=worker'"
   ]
  },
  {
   "cell_type": "markdown",
   "metadata": {
    "hidden": true
   },
   "source": [
    "削除したノードは上記の一覧表示で`STATUS`が`Down`と表示されています。このノードをDocker Swarmから削除します。"
   ]
  },
  {
   "cell_type": "code",
   "execution_count": null,
   "metadata": {
    "hidden": true
   },
   "outputs": [],
   "source": [
    "out = !ansible {ugroup_name}_manager -a \\\n",
    "    'docker node ls -f role=worker --format \"{{% raw %}}{{{{.ID}}}} {{{{.Status}}}}{{% endraw %}}\"' 2> /dev/null\n",
    "\n",
    "for node_id, status in [x.split(' ') for x in out[1:]]:\n",
    "    if (status == 'Down'):\n",
    "        !ansible {ugroup_name}_manager -a \\\n",
    "            'docker node rm {node_id}'"
   ]
  },
  {
   "cell_type": "markdown",
   "metadata": {
    "hidden": true
   },
   "source": [
    "更新後のworkerノードの一覧を確認します。"
   ]
  },
  {
   "cell_type": "code",
   "execution_count": null,
   "metadata": {
    "hidden": true
   },
   "outputs": [],
   "source": [
    "!ansible {ugroup_name}_manager -a 'docker node ls -f role=worker'"
   ]
  },
  {
   "cell_type": "markdown",
   "metadata": {
    "heading_collapsed": true
   },
   "source": [
    "## 管理者ユーザの設定\n",
    "\n",
    "構築環境のJupyterHubでは講師権限を持つ管理ユーザが操作を行うためのインベントリファイルが配置されています。このインベントリを更新します。"
   ]
  },
  {
   "cell_type": "markdown",
   "metadata": {
    "hidden": true
   },
   "source": [
    "### インベントリの更新\n",
    "\n",
    "管理者に配布しているインベントリから削除したノードを除外します。"
   ]
  },
  {
   "cell_type": "code",
   "execution_count": null,
   "metadata": {
    "hidden": true,
    "scrolled": true
   },
   "outputs": [],
   "source": [
    "%run scripts/cwh.py\n",
    "for email in gvars.get(\"teacher_email_list\", []):\n",
    "    name = get_username_from_mail_address(email)\n",
    "    !ansible-playbook -Dv -l {ugroup.name}_manager -e teacher_id={name} playbooks/deploy-inventory.yml"
   ]
  }
 ],
 "metadata": {
  "kernelspec": {
   "display_name": "Python 3",
   "language": "python",
   "name": "python3"
  },
  "language_info": {
   "file_extension": ".py",
   "mimetype": "text/x-python",
   "name": "python",
   "nbconvert_exporter": "python",
   "pygments_lexer": "ipython3",
   "version": "3.10.4"
  },
  "toc": {
   "base_numbering": 1,
   "nav_menu": {},
   "number_sections": true,
   "sideBar": true,
   "skip_h1_title": true,
   "title_cell": "Table of Contents",
   "title_sidebar": "Contents",
   "toc_cell": false,
   "toc_position": {},
   "toc_section_display": true,
   "toc_window_display": true
  },
  "vscode": {
   "interpreter": {
    "hash": "b65f94699575a72e949ff5a7848d3af0b4af139300d613828d6b8653c081f8fc"
   }
  }
 },
 "nbformat": 4,
 "nbformat_minor": 2
}