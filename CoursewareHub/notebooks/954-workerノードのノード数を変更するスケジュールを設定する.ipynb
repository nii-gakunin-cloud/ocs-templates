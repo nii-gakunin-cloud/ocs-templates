{
 "cells": [
  {
   "cell_type": "markdown",
   "metadata": {},
   "source": [
    "# ノード数を変更するスケジュールを設定する--CoursewareHub以外のノードを利用する\n",
    "\n",
    "---\n",
    "\n",
    "授業日程に合わせてworkerノードをスケールアウト、スケールインするスケジュールを設定します。"
   ]
  },
  {
   "cell_type": "markdown",
   "metadata": {},
   "source": [
    "このNotebookではノード数を操作する環境をCoursewareHubを構成するノード以外に構築する手順を実行します。そのためCoursewareHubを構成するノード以外の利用可能なノードが必要となります。追加のノードを利用せずにノード数を操作する環境を構築する場合は、このNotebookのかわりに「95３-workerノードのノード数を変更するスケジュールを設定する.ipynb」を実行してください。\n"
   ]
  },
  {
   "cell_type": "markdown",
   "metadata": {},
   "source": [
    "## 概要\n",
    "\n",
    "このNotebookではCoursewareHubを構成するworkerノードの起動数を、授業日とそれ以外の曜日で変更できるような設定を行います。授業日以外は起動するノード数を減らすことでクラウドプロバイダの課金を抑えるようにします。"
   ]
  },
  {
   "cell_type": "markdown",
   "metadata": {},
   "source": [
    "次図に、このNotebookでの設定対象を示します。このNotebookではCoursewareHubを構成する以外のノードにノード操作を行う環境を構築します。環境を構築するノード自体は既に存在しているものとします。"
   ]
  },
  {
   "cell_type": "markdown",
   "metadata": {},
   "source": [
    "![構成](images/cw-954-01.png)"
   ]
  },
  {
   "cell_type": "markdown",
   "metadata": {
    "heading_collapsed": true
   },
   "source": [
    "### 前提条件\n",
    "\n",
    "電源操作を行うための環境を構築するノードの前提条件を以下に示します。\n",
    "\n",
    "* VC Controllerにアクセスできること\n",
    "* CoursewareHubを構成する全てのノードにアクセスできること\n",
    "* このJupyterNotebook環境からアクセスできること\n",
    "* docker engine, docker composeが利用可能であること\n",
    "* systemdが利用可能であること"
   ]
  },
  {
   "cell_type": "markdown",
   "metadata": {
    "hidden": true
   },
   "source": [
    "workerノードの電源操作を行う処理はコンテナで実行します。そのため dockerが利用できるよう必要があります。ノードの電源操作はVCP SDKを用いてVC controllerに依頼を行います。そのためVC Controllerにアクセス可能である必要があります。またノードの電源状態以外にdocker swarmのノード状態(availability)の操作も合わせて行います。そのためCoursewareHubのmanagerノードにアクセスできる必要があります。\n",
    "\n",
    "電源操作の処理はsystemd timerにより起動されます。そのためsystemdが利用可能である必要があります。"
   ]
  },
  {
   "cell_type": "markdown",
   "metadata": {},
   "source": [
    "### 想定するシナリオ\n",
    "\n",
    "このNotebookでは、CoursewareHubの利用状況に応じてworkerノードの状態を変更するようにスケジュールを設定します。想定している３つの利用状況を以下に示します。\n",
    "\n",
    "* 授業時間中\n",
    "  * 授業開始数十分前から授業終了数十分後まで\n",
    "  * workerノードを最大限利用する時間帯\n",
    "* 授業時間後\n",
    "  * 授業終了数十分後から数時間後まで\n",
    "  * 利用者が徐々に減少していく時間帯\n",
    "* 授業時間外\n",
    "  * 授業時間中、授業時間後以外の時間\n",
    "  * 利用者が少ない時間帯\n",
    "\n",
    "それぞれの利用状況に応じて各workerノードの状態を変更します。ノードの状態は、docker swarmノードのavailabilityとVCノードの作成状態を組み合わせたものを定めています。それぞれの状態を以下に示します。\n",
    "\n",
    "|状態|availability|VCノードの作成状態|\n",
    "|:---|:---:|:---:|\n",
    "|利用可能|active|作成|\n",
    "|新規利用不可|pause|作成|\n",
    "|利用不可|drain|削除|\n",
    "\n",
    "docker swarmノードのavailabilityはdocker swarmがそのノードにタスク（コンテナ）を割り当てることができるかを示した設定値となっています。それぞれの値を設定した場合のdocker swarmでの振る舞いを以下に示します。\n",
    "\n",
    "* active\n",
    "  * ノードにタスクを割り当てることができる\n",
    "* pause\n",
    "  * 新しいタスクを割り当てることはできないが、既存のタスクは引き続き実行される\n",
    "* drain\n",
    "  * 実行中のタスクを終了し、他の利用可能なノードで実行するようにスケジュールする\n",
    "\n",
    "利用状況ごとのworkerノードの設定についての考え方を以下に記します。"
   ]
  },
  {
   "cell_type": "markdown",
   "metadata": {},
   "source": [
    "#### 授業時間中\n",
    "\n",
    "![授業時間中](images/cw-951-02.png)\n",
    "\n",
    "授業時間中は全てのworkerノードを「利用可能」な状態にします。この状態ではworkerノードの計算資源の上限まで、生徒が利用するJupyter環境(single-user Jupyter notebook server)コンテナを起動することができます。"
   ]
  },
  {
   "cell_type": "markdown",
   "metadata": {},
   "source": [
    "#### 授業時間後\n",
    "![授業時間中後](images/cw-951-03.png)"
   ]
  },
  {
   "cell_type": "markdown",
   "metadata": {},
   "source": [
    "授業時間が終了した後、少数の「利用可能」状態のノード以外は新規利用不可に移行します。授業時間から継続して利用している生徒のJupyter環境コンテナは「新規利用不可」にしたノードでも実行し続けますが、新たに起動したコンテナは少数の「利用可能」状態のノードに集約されます。\n",
    "\n",
    "CoursewareHubのculling機能を有効にすると一定時間アイドルになっているJupyter環境コンテナを自動停止することができます。culling機能を利用することにより「利用可能」状態のノードへの集約を効率的にに行うことができます。"
   ]
  },
  {
   "cell_type": "markdown",
   "metadata": {},
   "source": [
    "#### 授業時間外\n",
    "![授業時間外](images/cw-953-04.png)\n",
    "\n",
    "授業時間外になると「新規利用不可」のノードを「利用不可」に移行します。この状態ではVCノードを削除するのでクラウドプロバイダの課金を抑えられることが期待されます。「利用不可」状態のノードはswarmクラスタから削除されるので、そのノードで実行していたコンテナはいったん終了します。もしその時点で「利用可能」なworkerノードが存在して、かつそのノードの計算資源に空きがある場合は、「利用可能」状態のノードで改めてコンテナが起動されます。"
   ]
  },
  {
   "cell_type": "markdown",
   "metadata": {},
   "source": [
    "## ノード操作を行う環境の指定\n",
    "\n",
    "ノード操作コンテナを実行する環境を指定します。ここで指定するのはCoursewareHubを構成する以外のノードになります。"
   ]
  },
  {
   "cell_type": "markdown",
   "metadata": {},
   "source": [
    "### パラメータの指定"
   ]
  },
  {
   "cell_type": "markdown",
   "metadata": {},
   "source": [
    "ノード操作コンテナを実行するホスト名（またはIPアドレス）を指定してください。"
   ]
  },
  {
   "cell_type": "code",
   "execution_count": null,
   "metadata": {},
   "outputs": [],
   "source": [
    "# (例)\n",
    "# nodectl_hostname = 'nodectl.example.org'\n",
    "# nodectl_hostname = '172.30.2.50'\n",
    "\n",
    "nodectl_hostname = "
   ]
  },
  {
   "cell_type": "markdown",
   "metadata": {},
   "source": [
    "ノードにログインする際のユーザ名を指定してください"
   ]
  },
  {
   "cell_type": "code",
   "execution_count": null,
   "metadata": {},
   "outputs": [],
   "source": [
    "# (例)\n",
    "# nodectl_user = 'user01'\n",
    "\n",
    "nodectl_user = "
   ]
  },
  {
   "cell_type": "markdown",
   "metadata": {},
   "source": [
    "ノードにログインするためのSSHの秘密鍵ファイルのパスを指定してください。"
   ]
  },
  {
   "cell_type": "code",
   "execution_count": null,
   "metadata": {},
   "outputs": [],
   "source": [
    "# (例)\n",
    "# nodectl_ssh_private_key = '~/.ssh/id_rsa'\n",
    "\n",
    "nodectl_ssh_private_key = "
   ]
  },
  {
   "cell_type": "markdown",
   "metadata": {},
   "source": [
    "ノードに対する操作にはAnsibleを利用します。そのため対象ノードを新たなAnsibleのグループに登録します。新たに作成するAnsibleのグループ名を指定してください。ここで指定するグループ名は既存のものとは異なる名前を指定してください。"
   ]
  },
  {
   "cell_type": "code",
   "execution_count": null,
   "metadata": {},
   "outputs": [],
   "source": [
    "# (例)\n",
    "# target_group = 'scaleout'\n",
    "\n",
    "target_group = "
   ]
  },
  {
   "cell_type": "markdown",
   "metadata": {
    "heading_collapsed": true
   },
   "source": [
    "### チェック\n",
    "\n",
    "指定されたホストがノード操作コンテナを実行する前提条件を満たしているかの簡単なチェックを行います。"
   ]
  },
  {
   "cell_type": "markdown",
   "metadata": {
    "hidden": true
   },
   "source": [
    "SSHでログインできることを確認します。"
   ]
  },
  {
   "cell_type": "code",
   "execution_count": null,
   "metadata": {
    "hidden": true
   },
   "outputs": [],
   "source": [
    "!ssh -i {nodectl_ssh_private_key} \\\n",
    "    -o StrictHostKeyChecking=no -o UserKnownHostsFile=/dev/null \\\n",
    "    {nodectl_user}@{nodectl_hostname} whoami"
   ]
  },
  {
   "cell_type": "markdown",
   "metadata": {
    "hidden": true
   },
   "source": [
    "`~/.ssh/known_hosts`ファイルを更新します。"
   ]
  },
  {
   "cell_type": "code",
   "execution_count": null,
   "metadata": {
    "hidden": true
   },
   "outputs": [],
   "source": [
    "!ssh-keyscan {nodectl_hostname} >> ~/.ssh/known_hosts"
   ]
  },
  {
   "cell_type": "markdown",
   "metadata": {
    "hidden": true
   },
   "source": [
    "docker composeが利用できることを確認します。"
   ]
  },
  {
   "cell_type": "code",
   "execution_count": null,
   "metadata": {
    "hidden": true
   },
   "outputs": [],
   "source": [
    "!ssh -i {nodectl_ssh_private_key} {nodectl_user}@{nodectl_hostname} \\\n",
    "    docker compose version"
   ]
  },
  {
   "cell_type": "markdown",
   "metadata": {
    "hidden": true
   },
   "source": [
    "systemdが利用できることを確認します。"
   ]
  },
  {
   "cell_type": "code",
   "execution_count": null,
   "metadata": {
    "hidden": true
   },
   "outputs": [],
   "source": [
    "!ssh -i {nodectl_ssh_private_key} {nodectl_user}@{nodectl_hostname} \\\n",
    "    systemctl --user status"
   ]
  },
  {
   "cell_type": "markdown",
   "metadata": {
    "hidden": true
   },
   "source": [
    "指定されたグループ名に対応するgroup_varsが存在していないことを確認します。"
   ]
  },
  {
   "cell_type": "code",
   "execution_count": null,
   "metadata": {
    "hidden": true
   },
   "outputs": [],
   "source": [
    "! ! test -e group_vars/{target_group}"
   ]
  },
  {
   "cell_type": "markdown",
   "metadata": {
    "hidden": true
   },
   "source": [
    "以下の項目についてはここではチェックしません。\n",
    "\n",
    "* VC Controllerにアクセスできること\n",
    "* managerノードにアクセスできること\n"
   ]
  },
  {
   "cell_type": "markdown",
   "metadata": {
    "heading_collapsed": true
   },
   "source": [
    "### ansibleグループの登録\n",
    "\n",
    "対象ノードをansibleのインベントリに登録します。"
   ]
  },
  {
   "cell_type": "code",
   "execution_count": null,
   "metadata": {
    "hidden": true
   },
   "outputs": [],
   "source": [
    "%run scripts/group.py\n",
    "from pathlib import Path\n",
    "params = {\n",
    "    \"all\": {\n",
    "        \"children\": {\n",
    "            target_group: {\n",
    "                \"hosts\": {\n",
    "                    nodectl_hostname: {\n",
    "                        \"ansible_ssh_private_key_file\": str(Path(nodectl_ssh_private_key).expanduser()),\n",
    "                        \"ansible_user\": nodectl_user,\n",
    "                    }\n",
    "                }\n",
    "            }\n",
    "        }\n",
    "    }\n",
    "}\n",
    "path_inventory = update_inventory_yml(params)\n",
    "!diff -u {path_inventory}.bak {path_inventory} || true"
   ]
  },
  {
   "cell_type": "markdown",
   "metadata": {
    "hidden": true
   },
   "source": [
    "ansibleで対象にアクセスできることを確認します。"
   ]
  },
  {
   "cell_type": "code",
   "execution_count": null,
   "metadata": {
    "hidden": true
   },
   "outputs": [],
   "source": [
    "!ansible {target_group} -m ping"
   ]
  },
  {
   "cell_type": "markdown",
   "metadata": {},
   "source": [
    "## パラメータの指定\n",
    "\n",
    "ノードの電源操作スケジュールを登録するのに必要となるパラメータを指定します。"
   ]
  },
  {
   "cell_type": "markdown",
   "metadata": {},
   "source": [
    "### UnitGroup名\n",
    "\n",
    "操作対象となるCoursewareHubのUnitGroup名を指定します。"
   ]
  },
  {
   "cell_type": "markdown",
   "metadata": {},
   "source": [
    "VCノードを作成時に指定したUnitGroup名を確認するために `group_vars` ファイル名の一覧を表示します。"
   ]
  },
  {
   "cell_type": "code",
   "execution_count": null,
   "metadata": {},
   "outputs": [],
   "source": [
    "!ls -1 --hide all group_vars/"
   ]
  },
  {
   "cell_type": "markdown",
   "metadata": {},
   "source": [
    "UnitGroup名を指定してください。"
   ]
  },
  {
   "cell_type": "code",
   "execution_count": null,
   "metadata": {
    "tags": [
     "vcp:skip",
     "vcp:parameters"
    ]
   },
   "outputs": [],
   "source": [
    "# (例)\n",
    "# ugroup_name = 'CoursewareHub'\n",
    "\n",
    "ugroup_name = "
   ]
  },
  {
   "cell_type": "markdown",
   "metadata": {},
   "source": [
    "指定されたUnitGroup名をgroup_varsに保存します。"
   ]
  },
  {
   "cell_type": "code",
   "execution_count": null,
   "metadata": {},
   "outputs": [],
   "source": [
    "%run scripts/group.py\n",
    "update_group_vars(\n",
    "    target_group,\n",
    "    ugroup_name=ugroup_name\n",
    ")"
   ]
  },
  {
   "cell_type": "markdown",
   "metadata": {},
   "source": [
    "### VCCアクセストークンの入力"
   ]
  },
  {
   "cell_type": "markdown",
   "metadata": {},
   "source": [
    "VCノードを操作するためにVC Controller(VCC)のアクセストークンが必要となります。\n",
    "次のセルを実行すると表示される入力枠にVCCのアクセストークンを入力してください。\n",
    "\n",
    "> アクセストークン入力後に Enter キーを押すことで入力が完了します。"
   ]
  },
  {
   "cell_type": "code",
   "execution_count": null,
   "metadata": {
    "tags": [
     "vcp:skip",
     "vcp:parameters"
    ]
   },
   "outputs": [],
   "source": [
    "from getpass import getpass\n",
    "vcc_access_token = getpass()"
   ]
  },
  {
   "cell_type": "markdown",
   "metadata": {},
   "source": [
    "入力されたアクセストークンが正しいことを、実際にVCCにアクセスして確認します。"
   ]
  },
  {
   "cell_type": "code",
   "execution_count": null,
   "metadata": {
    "pinned_outputs": [],
    "tags": [
     "vcp:rewrite:vcpsdk"
    ]
   },
   "outputs": [],
   "source": [
    "from common import logsetting\n",
    "from vcpsdk.vcpsdk import VcpSDK\n",
    "\n",
    "vcp = VcpSDK(vcc_access_token)"
   ]
  },
  {
   "cell_type": "markdown",
   "metadata": {},
   "source": [
    "上のセルの実行結果がエラーとなり以下のようなメッセージが表示されている場合は、入力されたアクセストークンに誤りがあります。\n",
    "\n",
    "```\n",
    "config vc failed: http_status(403)\n",
    "2023/XX/XX XX:XX:XX UTC: VCPAuthException: xxxxxxx:token lookup is failed: permission denied\n",
    "```\n",
    "\n",
    "エラーになった場合はこの節のセルを全て `unfreeze` してから、もう一度アクセストークンの入力を行ってください。"
   ]
  },
  {
   "cell_type": "markdown",
   "metadata": {},
   "source": [
    "### IPアドレス\n",
    "\n",
    "workerノードに割り当てるIPアドレスを指定します。ここでは、workerノードとして起動するノード数の最大数分のIPアドレスを指定する必要があります。"
   ]
  },
  {
   "cell_type": "markdown",
   "metadata": {},
   "source": [
    "参考のために現在workerノードに割り当てているIPアドレスを確認します。"
   ]
  },
  {
   "cell_type": "code",
   "execution_count": null,
   "metadata": {},
   "outputs": [],
   "source": [
    "ugroup = vcp.get_ugroup(ugroup_name)\n",
    "unit_worker = ugroup.get_unit('worker')\n",
    "unit_worker.df_nodes()"
   ]
  },
  {
   "cell_type": "markdown",
   "metadata": {},
   "source": [
    "workerノードに割り当てるIPアドレスを指定してください。現在のworkerノードに割り当てるIPアドレスと全く異なるアドレスを指定することもできますが、その場合現在のworkerノードが削除された後に新たなノードを作成することになります。また指定するアドレス数は、workerノードとして起動するノード数の最大数に一致している必要があります。"
   ]
  },
  {
   "cell_type": "code",
   "execution_count": null,
   "metadata": {},
   "outputs": [],
   "source": [
    "# (例)\n",
    "# vcnode_all_ipaddress = [\n",
    "#    \"172.30.2.101\",\n",
    "#    \"172.30.2.102\",\n",
    "#    \"172.30.2.103\",\n",
    "#]\n",
    "#\n",
    "# vcnode_all_ipaddress = [f\"172.30.2.{x}\" for x in range(101, 110)]\n",
    "\n",
    "vcnode_all_ipaddress = [\n",
    "    \n",
    "]"
   ]
  },
  {
   "cell_type": "markdown",
   "metadata": {
    "heading_collapsed": true
   },
   "source": [
    "#### 指定されたパラメータの保存\n",
    "\n",
    "指定されたパラメータをgroup_varsに保存します。"
   ]
  },
  {
   "cell_type": "markdown",
   "metadata": {
    "hidden": true
   },
   "source": [
    "パラメータの保存を行う前に簡単なチェックを行います。"
   ]
  },
  {
   "cell_type": "code",
   "execution_count": null,
   "metadata": {
    "hidden": true
   },
   "outputs": [],
   "source": [
    "from ipaddress import IPv4Address, IPv4Network\n",
    "%run scripts/group.py\n",
    "\n",
    "gvars = load_group_vars(ugroup_name)\n",
    "subnet = IPv4Network(vcp.get_vpn_catalog(gvars['vc_provider']).get('private_network_ipmask'))\n",
    "for addr in vcnode_all_ipaddress:\n",
    "    if IPv4Address(addr) not in subnet:\n",
    "        raise RuntimeError(f\"指定されたアドレスは{subnet}に含まれていません: {addr}\")"
   ]
  },
  {
   "cell_type": "markdown",
   "metadata": {
    "hidden": true
   },
   "source": [
    "group_varsにパラメータを保存します。"
   ]
  },
  {
   "cell_type": "code",
   "execution_count": null,
   "metadata": {
    "hidden": true
   },
   "outputs": [],
   "source": [
    "update_group_vars(\n",
    "    ugroup_name,\n",
    "    vcnode_all_ipaddress=vcnode_all_ipaddress,\n",
    ")"
   ]
  },
  {
   "cell_type": "markdown",
   "metadata": {},
   "source": [
    "### workerノードの状態変更のスケジュールを指定する\n",
    "\n",
    "それぞれの利用状況ごとに、どのようなノード状態を設定するかを指定します。"
   ]
  },
  {
   "cell_type": "markdown",
   "metadata": {},
   "source": [
    "#### 授業日\n",
    "\n",
    "授業の曜日を指定してください。"
   ]
  },
  {
   "cell_type": "code",
   "execution_count": null,
   "metadata": {},
   "outputs": [],
   "source": [
    "# (例)\n",
    "# schedule_day_of_week = '月'\n",
    "# schedule_day_of_week = 'Tue'\n",
    "# schedule_day_of_week = 'Wednesday'\n",
    "\n",
    "\n",
    "schedule_day_of_week = "
   ]
  },
  {
   "cell_type": "markdown",
   "metadata": {},
   "source": [
    "#### 授業時間中のノード状態"
   ]
  },
  {
   "cell_type": "markdown",
   "metadata": {},
   "source": [
    "利用状況を「授業時間中」にする開始時間を指定してください。通常は実際の授業開始時刻の３０〜６０分前の時刻を指定します。"
   ]
  },
  {
   "cell_type": "code",
   "execution_count": null,
   "metadata": {},
   "outputs": [],
   "source": [
    "# (例)\n",
    "# schedule_time_0 = '8:30'\n",
    "\n",
    "schedule_time_0 = "
   ]
  },
  {
   "cell_type": "markdown",
   "metadata": {},
   "source": [
    "「授業時間中」における各ノード状態に設定するノード数を指定します。通常は「利用可能」(active)のノード数にworkerノード数を指定し他の状態には0を指定します。workerノード数の合計は`vcnode_all_ipaddress`に指定したIPアドレス数と一致している必要があります。`vcnode_all_ipaddress`に指定したアドレス数を確認します。"
   ]
  },
  {
   "cell_type": "code",
   "execution_count": null,
   "metadata": {},
   "outputs": [],
   "source": [
    "print(len(vcnode_all_ipaddress))"
   ]
  },
  {
   "cell_type": "markdown",
   "metadata": {},
   "source": [
    "ノード状態ごとのノード数を指定してください。各状態のノード数の合計がworkerノードに一致するようにしてください。"
   ]
  },
  {
   "cell_type": "code",
   "execution_count": null,
   "metadata": {},
   "outputs": [],
   "source": [
    "# (例)\n",
    "# node_availability_0 = {\n",
    "#     \"active\": 3,    # 利用可能状態のノード数\n",
    "#     \"pause\": 0,     # 新規利用不可状態のノード数\n",
    "#     \"drain\": 0,       # 利用不可状態のノード数\n",
    "# }\n",
    "\n",
    "node_availability_0 = {\n",
    "    \"active\": ,\n",
    "    \"pause\": ,\n",
    "    \"drain\": ,\n",
    "}"
   ]
  },
  {
   "cell_type": "markdown",
   "metadata": {},
   "source": [
    "#### 授業時間後のノード状態"
   ]
  },
  {
   "cell_type": "markdown",
   "metadata": {},
   "source": [
    "利用状況を「授業時間後」にする開始時間を指定してください。通常は実際の授業終了時刻の３０〜６０分後の時刻を指定します。"
   ]
  },
  {
   "cell_type": "code",
   "execution_count": null,
   "metadata": {},
   "outputs": [],
   "source": [
    "# (例)\n",
    "# schedule_time_1 = '11:00'\n",
    "\n",
    "schedule_time_1 = "
   ]
  },
  {
   "cell_type": "markdown",
   "metadata": {},
   "source": [
    "「授業時間後」における各ノード状態に設定するノード数を指定します。通常は、少数の「利用可能」(active)のノード以外は「新規利用不可」(pause)となるようにノード数を指定します。各状態のノード数の合計がworkerノードに一致するようにしてください。"
   ]
  },
  {
   "cell_type": "code",
   "execution_count": null,
   "metadata": {},
   "outputs": [],
   "source": [
    "# (例)\n",
    "# node_availability_1 = {\n",
    "#     \"active\": 1,    # 利用可能状態のノード数\n",
    "#     \"pause\": 2,     # 新規利用不可状態のノード数\n",
    "#     \"drain\": 0,       # 利用不可状態のノード数\n",
    "# }\n",
    "\n",
    "node_availability_1 = {\n",
    "    \"active\": ,\n",
    "    \"pause\": ,\n",
    "    \"drain\": ,\n",
    "}"
   ]
  },
  {
   "cell_type": "markdown",
   "metadata": {},
   "source": [
    "#### 授業時間外のノード状態"
   ]
  },
  {
   "cell_type": "markdown",
   "metadata": {},
   "source": [
    "利用状況を「授業時間外」にする開始時間を指定してください。通常は実際の授業終了時刻の数時間後の時刻を指定します。"
   ]
  },
  {
   "cell_type": "code",
   "execution_count": null,
   "metadata": {},
   "outputs": [],
   "source": [
    "# (例)\n",
    "# schedule_time_2 = '13:00'\n",
    "\n",
    "schedule_time_2 = "
   ]
  },
  {
   "cell_type": "markdown",
   "metadata": {},
   "source": [
    "「授業時間外」における各ノード状態に設定するノード数を指定します。通常は、少数の「利用可能」(active)のノード以外は「利用不可」(drain)となるようにノード数を指定します。各状態のノード数の合計がworkerノードに一致するようにしてください。"
   ]
  },
  {
   "cell_type": "code",
   "execution_count": null,
   "metadata": {},
   "outputs": [],
   "source": [
    "# (例)\n",
    "# node_availability_2 = {\n",
    "#     \"active\": 1,    # 利用可能状態のノード数\n",
    "#     \"pause\": 0,     # 新規利用不可状態のノード数\n",
    "#     \"drain\": 2,       # 利用不可状態のノード数\n",
    "# }\n",
    "\n",
    "node_availability_2 = {\n",
    "    \"active\": ,\n",
    "    \"pause\": ,\n",
    "    \"drain\": ,\n",
    "}"
   ]
  },
  {
   "cell_type": "markdown",
   "metadata": {
    "heading_collapsed": true
   },
   "source": [
    "#### 指定されたパラメータの保存\n",
    "\n",
    "指定されたパラメータをgroup_varsに保存します。"
   ]
  },
  {
   "cell_type": "markdown",
   "metadata": {
    "hidden": true
   },
   "source": [
    "パラメータの保存を行う前に簡単なチェックを行います。"
   ]
  },
  {
   "cell_type": "code",
   "execution_count": null,
   "metadata": {
    "hidden": true
   },
   "outputs": [],
   "source": [
    "import re\n",
    "\n",
    "if schedule_day_of_week.lower() not in [\n",
    "    \"sun\", \"mon\", \"tue\", \"wed\", \"thu\", \"fri\", \"sat\",\n",
    "    \"sunday\", \"monday\", \"tuesday\", \"wednesday\", \"thursday\", \"friday\", \"saturday\",\n",
    "    \"日\", \"月\", \"火\", \"水\", \"木\", \"金\", \"土\",\n",
    "]:\n",
    "    raise RuntimeError(f\"曜日指定が正しくない: {schedule_day_of_week}\")\n",
    "\n",
    "for x in [schedule_time_0, schedule_time_1, schedule_time_2]:\n",
    "    if (re.fullmatch(r\"(?:[01]?\\d|2[0-3]):[0-5]?\\d\", x, re.A) is None):\n",
    "        raise RuntimeError(f\"時刻指定が正しくない: {x}\")\n",
    "\n",
    "for x in [node_availability_0, node_availability_1, node_availability_2]:\n",
    "    if sum(x.values()) != len(vcnode_all_ipaddress):\n",
    "        raise RuntimeError(f\"ノード数の合計がworkerノード数と一致していない: {x}\")"
   ]
  },
  {
   "cell_type": "markdown",
   "metadata": {
    "hidden": true
   },
   "source": [
    "group_varsにパラメータを保存します。"
   ]
  },
  {
   "cell_type": "code",
   "execution_count": null,
   "metadata": {
    "hidden": true
   },
   "outputs": [],
   "source": [
    "%run scripts/group.py\n",
    "%run scripts/cwh.py\n",
    "gvars = load_group_vars(ugroup_name)\n",
    "schedule = [\n",
    "    {\n",
    "        \"schedule\": {\n",
    "            \"day_of_week\": schedule_day_of_week.lower(),\n",
    "            \"hour\": int(schedule_time_0.split(\":\", 2)[0]),\n",
    "            \"minute\": int(schedule_time_0.split(\":\", 2)[1]),\n",
    "        },\n",
    "        \"availability\": node_availability_0,\n",
    "    },\n",
    "    {\n",
    "        \"schedule\": {\n",
    "            \"day_of_week\": schedule_day_of_week.lower(),\n",
    "            \"hour\": int(schedule_time_1.split(\":\", 2)[0]),\n",
    "            \"minute\": int(schedule_time_1.split(\":\", 2)[1]),\n",
    "        },\n",
    "        \"availability\": node_availability_1,\n",
    "    },\n",
    "    {\n",
    "        \"schedule\": {\n",
    "            \"day_of_week\": schedule_day_of_week.lower(),\n",
    "            \"hour\": int(schedule_time_2.split(\":\", 2)[0]),\n",
    "            \"minute\": int(schedule_time_2.split(\":\", 2)[1]),\n",
    "        },\n",
    "        \"availability\": node_availability_2,\n",
    "    },\n",
    "]\n",
    "teacher_accounts = [get_username_from_mail_address(email)  for email in gvars[\"teacher_email_list\"]]\n",
    "update_group_vars(\n",
    "    target_group,\n",
    "    vcnode_schedule=schedule,\n",
    "    vcnode_all_ipaddress=vcnode_all_ipaddress,\n",
    "    teacher_accounts=teacher_accounts,\n",
    "    manager_ipaddress=gvars[\"manager_ipaddress\"],\n",
    "    master_fqdn=gvars[\"master_fqdn\"],\n",
    "    registry_pass=gvars[\"registry_pass\"],\n",
    "    ssh_private_key_path=gvars[\"ssh_private_key_path\"],\n",
    ")\n",
    "if \"nfs_ipaddress\" in gvars:\n",
    "    update_group_vars(\n",
    "        target_group,\n",
    "        nfs_ipaddress=nfs_ipaddress,\n",
    "    )\n",
    "update_group_vars(\n",
    "    ugroup_name,\n",
    "    schedule=\"scale-out\",\n",
    ")"
   ]
  },
  {
   "cell_type": "markdown",
   "metadata": {
    "heading_collapsed": true
   },
   "source": [
    "### 資材を配置するディレクトリの指定\n",
    "\n",
    "電源操作を行うコンテナ資材を配置するディレクトリを指定します。"
   ]
  },
  {
   "cell_type": "code",
   "execution_count": null,
   "metadata": {
    "hidden": true
   },
   "outputs": [],
   "source": [
    "# (例)\n",
    "# vcnode_ctl_dir = f'/home/{nodectl_user}/scale-out\n",
    "\n",
    "vcnode_ctl_dir = f'/home/{nodectl_user}/scale-out'"
   ]
  },
  {
   "cell_type": "markdown",
   "metadata": {
    "hidden": true
   },
   "source": [
    "指定された値をgroup_varsに保存します。"
   ]
  },
  {
   "cell_type": "code",
   "execution_count": null,
   "metadata": {
    "hidden": true
   },
   "outputs": [],
   "source": [
    "update_group_vars(\n",
    "    target_group,\n",
    "    vcnode_ctl_dir=vcnode_ctl_dir\n",
    ")"
   ]
  },
  {
   "cell_type": "markdown",
   "metadata": {
    "heading_collapsed": true
   },
   "source": [
    "### dockerに関するパラメータの指定"
   ]
  },
  {
   "cell_type": "markdown",
   "metadata": {
    "hidden": true
   },
   "source": [
    "構築環境における`docker`コマンドのパスを確認します。"
   ]
  },
  {
   "cell_type": "code",
   "execution_count": null,
   "metadata": {
    "hidden": true
   },
   "outputs": [],
   "source": [
    "out = !ansible {target_group} -a 'which docker' 2> /dev/null\n",
    "path_docker_cli = out[1]\n",
    "print(path_docker_cli)"
   ]
  },
  {
   "cell_type": "markdown",
   "metadata": {
    "hidden": true
   },
   "source": [
    "docker swarmノードのavailability設定を変更するにはswarmクラスタのmanagerノードのdocker engineにアクセスする必要があります。電源操作を行うノードからmanagerノードのdocker engineにアクセスするためにSSHを利用する（参照:[Use SSH to protect the Docker daemon socket](https://docs.docker.com/engine/security/protect-access/#use-ssh-to-protect-the-docker-daemon-socket)）。managerノードのIPアドレスからDOCKER_HOSTに相当する値を導出します。"
   ]
  },
  {
   "cell_type": "code",
   "execution_count": null,
   "metadata": {
    "hidden": true
   },
   "outputs": [],
   "source": [
    "%run scripts/group.py\n",
    "manager_addr = load_group_var(ugroup_name, \"manager_ipaddress\")\n",
    "manager_docker_host = f\"ssh://vcp@{manager_addr}\"\n",
    "print(manager_docker_host)"
   ]
  },
  {
   "cell_type": "markdown",
   "metadata": {
    "hidden": true
   },
   "source": [
    "group_vars に保存します。"
   ]
  },
  {
   "cell_type": "code",
   "execution_count": null,
   "metadata": {
    "hidden": true
   },
   "outputs": [],
   "source": [
    "%run scripts/group.py\n",
    "update_group_vars(\n",
    "    target_group,\n",
    "    path_docker_cli=path_docker_cli,\n",
    "    manager_docker_host=manager_docker_host,\n",
    ")"
   ]
  },
  {
   "cell_type": "markdown",
   "metadata": {
    "heading_collapsed": true
   },
   "source": [
    "## 資材の配置\n",
    "\n",
    "電源操作を行うノードに必要となる資材を配置します。"
   ]
  },
  {
   "cell_type": "markdown",
   "metadata": {
    "hidden": true
   },
   "source": [
    "実際の変更を行う前にチェックモードで資材を配置するplaybookを実行します。"
   ]
  },
  {
   "cell_type": "code",
   "execution_count": null,
   "metadata": {
    "hidden": true,
    "scrolled": true
   },
   "outputs": [],
   "source": [
    "from tempfile import TemporaryDirectory\n",
    "from pathlib import Path\n",
    "import json\n",
    "\n",
    "with TemporaryDirectory() as work_dir:\n",
    "    vars_path = Path(work_dir) / \"params.json\"\n",
    "    with vars_path.open(mode=\"w\") as f:\n",
    "        json.dump({\"vcc_access_token\": vcc_access_token}, f)\n",
    "    !ansible-playbook -CDv -l {target_group} -e @{str(vars_path)} playbooks/setup-scaleout-user.yml || true"
   ]
  },
  {
   "cell_type": "markdown",
   "metadata": {
    "hidden": true
   },
   "source": [
    "実際に資材の配置を行います。"
   ]
  },
  {
   "cell_type": "code",
   "execution_count": null,
   "metadata": {
    "hidden": true,
    "scrolled": true
   },
   "outputs": [],
   "source": [
    "with TemporaryDirectory() as work_dir:\n",
    "    vars_path = Path(work_dir) / \"params.json\"\n",
    "    with vars_path.open(mode=\"w\") as f:\n",
    "        json.dump({\"vcc_access_token\": vcc_access_token}, f)\n",
    "    !ansible-playbook -l {target_group} -e @{str(vars_path)} playbooks/setup-scaleout-user.yml"
   ]
  },
  {
   "cell_type": "markdown",
   "metadata": {
    "heading_collapsed": true
   },
   "source": [
    "## タイマーの開始\n",
    "\n",
    "設定ファイルを配置したsystemdタイマーを開始してノードの更新処理がスケジュールされるようにします。"
   ]
  },
  {
   "cell_type": "code",
   "execution_count": null,
   "metadata": {
    "hidden": true,
    "scrolled": true
   },
   "outputs": [],
   "source": [
    "!ansible {target_group} -m systemd -a \\\n",
    "    'daemon_reload=true name=cwh-worker-node.timer enabled=true state=restarted scope=user'"
   ]
  },
  {
   "cell_type": "markdown",
   "metadata": {
    "hidden": true
   },
   "source": [
    "タイマーの一覧を表示して登録されたことを確認します。"
   ]
  },
  {
   "cell_type": "code",
   "execution_count": null,
   "metadata": {
    "hidden": true
   },
   "outputs": [],
   "source": [
    "!ansible {target_group} -a 'systemctl --user list-timers'"
   ]
  },
  {
   "cell_type": "markdown",
   "metadata": {
    "hidden": true
   },
   "source": [
    "サービスのログを確認します。"
   ]
  },
  {
   "cell_type": "code",
   "execution_count": null,
   "metadata": {
    "hidden": true,
    "scrolled": true
   },
   "outputs": [],
   "source": [
    "!ansible {target_group} -a 'journalctl --user -u cwh-worker-node -n 30'"
   ]
  },
  {
   "cell_type": "markdown",
   "metadata": {
    "heading_collapsed": true
   },
   "source": [
    "## CoursewareHubのculling設定\n",
    "\n",
    "CoursewareHubを構成するJupyterHubコンテナに環境変数を設定することでculling設定を有効にすることができます。「CoursewareHubのセットアップ.ipynb」でCoursewareHub環境を構築した時にculling機能を有効にしていない場合は、必要に応じてこの章を実行してください。"
   ]
  },
  {
   "cell_type": "markdown",
   "metadata": {
    "hidden": true
   },
   "source": [
    "### パラメータの指定\n",
    "\n",
    "アイドル状態のsingle-userサーバーを自動的に停止する機能に関するパラメータを指定します。"
   ]
  },
  {
   "cell_type": "markdown",
   "metadata": {
    "hidden": true
   },
   "source": [
    "ここで指定できるパラメータを以下に示します。\n",
    "\n",
    "|項目 | 説明 | デフォルト値|\n",
    "|:---|:---|--:|\n",
    "|cull_server              | アイドル状態のNotebookサーバーの停止を有効／無効化 (yes/no/0/1)| no |\n",
    "|cull_server_idle_timeout | アイドル状態のNotebookサーバーの停止までのタイムアウト時間(秒)     | 600 |\n",
    "|cull_server_max_age      | アイドル状態でなくてもNotebookサーバーを停止するまでの時間(秒)     | 0 |\n",
    "|cull_server_every       | Notebookのアイドル状態のタイムアウトのチェック間隔(秒)             | 0 |"
   ]
  },
  {
   "cell_type": "markdown",
   "metadata": {
    "hidden": true
   },
   "source": [
    "各パラメータの値を以下のセルで指定してください。デフォルト値のままで良いパラメータはセルを実行せずにスキップしてください。"
   ]
  },
  {
   "cell_type": "code",
   "execution_count": null,
   "metadata": {
    "hidden": true
   },
   "outputs": [],
   "source": [
    "# (例)\n",
    "# cull_server = \"yes\"       # 自動停止を有効にする\n",
    "# cull_server = \"no\"        # 自動停止を無効にする\n",
    "\n",
    "cull_server = \"yes\""
   ]
  },
  {
   "cell_type": "code",
   "execution_count": null,
   "metadata": {
    "hidden": true
   },
   "outputs": [],
   "source": [
    "# (例)\n",
    "# cull_server_idle_timeout = 10 * 60               # １０分間\n",
    "# cull_server_idle_timeout = 12 * 60 * 60      # 12時間\n",
    "\n",
    "cull_server_idle_timeout = "
   ]
  },
  {
   "cell_type": "code",
   "execution_count": null,
   "metadata": {
    "hidden": true
   },
   "outputs": [],
   "source": [
    "# (例)\n",
    "# cull_server_max_age = 0\n",
    "# cull_server_max_age = 24 * 60 * 60      # 24時間\n",
    "\n",
    "cull_server_max_age = "
   ]
  },
  {
   "cell_type": "code",
   "execution_count": null,
   "metadata": {
    "hidden": true
   },
   "outputs": [],
   "source": [
    "# (例)\n",
    "# cull_server_every = 0\n",
    "# cull_server_every = 60\n",
    "\n",
    "cull_server_every = "
   ]
  },
  {
   "cell_type": "markdown",
   "metadata": {
    "heading_collapsed": true,
    "hidden": true
   },
   "source": [
    "#### パラメータの保存"
   ]
  },
  {
   "cell_type": "markdown",
   "metadata": {
    "hidden": true
   },
   "source": [
    "ここまで指定したパラメータを ansible の変数として `group_vars`ファイルに保存します。"
   ]
  },
  {
   "cell_type": "code",
   "execution_count": null,
   "metadata": {
    "hidden": true
   },
   "outputs": [],
   "source": [
    "import yaml\n",
    "from pathlib import Path\n",
    "\n",
    "gvars_path = Path(f'group_vars/{ugroup_name}')\n",
    "with gvars_path.open() as f:\n",
    "    gvars = yaml.safe_load(f)\n",
    "\n",
    "jupyterhub_param_names = [\n",
    "    'cull_server',\n",
    "    'cull_server_idle_timeout',\n",
    "    'cull_server_max_age',\n",
    "    'cull_server_every',\n",
    "]\n",
    "\n",
    "for name in jupyterhub_param_names:\n",
    "    if name in vars():\n",
    "        gvars[name] = vars()[name]\n",
    "    elif 'name' in gvars:\n",
    "        del(gvars['name'])\n",
    "\n",
    "with gvars_path.open(mode='w') as f:\n",
    "    yaml.safe_dump(gvars, stream=f)\n",
    "    \n",
    "!cat group_vars/{ugroup_name}"
   ]
  },
  {
   "cell_type": "markdown",
   "metadata": {
    "hidden": true
   },
   "source": [
    "### docker-compose.ymlの配置\n",
    "\n",
    "構築環境にculling設定を追加したdocker-compose.ymlを配置します。"
   ]
  },
  {
   "cell_type": "markdown",
   "metadata": {
    "hidden": true
   },
   "source": [
    "まずはチェックモードで確認を行います。"
   ]
  },
  {
   "cell_type": "code",
   "execution_count": null,
   "metadata": {
    "hidden": true
   },
   "outputs": [],
   "source": [
    "!ansible-playbook -l {ugroup_name}_manager -CDv playbooks/deploy-docker-compose.yml || true"
   ]
  },
  {
   "cell_type": "markdown",
   "metadata": {
    "hidden": true
   },
   "source": [
    "実際に`docker-compose.yml`の配置を行います。"
   ]
  },
  {
   "cell_type": "code",
   "execution_count": null,
   "metadata": {
    "hidden": true
   },
   "outputs": [],
   "source": [
    "!ansible-playbook -l {ugroup_name}_manager playbooks/deploy-docker-compose.yml"
   ]
  },
  {
   "cell_type": "markdown",
   "metadata": {
    "hidden": true
   },
   "source": [
    "### コンテナの更新\n",
    "\n",
    "指定されたパラメータに更新された`docker-compose.yml`でコンテナを起動し直します。"
   ]
  },
  {
   "cell_type": "markdown",
   "metadata": {
    "hidden": true
   },
   "source": [
    "コンテナ設定の更新を行います。culling設定を変更している場合はjupyterhubコンテナが起動され直します。"
   ]
  },
  {
   "cell_type": "code",
   "execution_count": null,
   "metadata": {
    "hidden": true
   },
   "outputs": [],
   "source": [
    "!ansible {ugroup_name}_manager -a 'chdir={{{{compose_dir}}}} \\\n",
    "    docker stack deploy -c docker-compose.yml coursewarehub'"
   ]
  },
  {
   "cell_type": "markdown",
   "metadata": {
    "hidden": true
   },
   "source": [
    "コンテナの起動状態を確認します。"
   ]
  },
  {
   "cell_type": "code",
   "execution_count": null,
   "metadata": {
    "hidden": true
   },
   "outputs": [],
   "source": [
    "!ansible {ugroup_name}_manager -a 'docker service ls'"
   ]
  }
 ],
 "metadata": {
  "kernelspec": {
   "display_name": "Python 3",
   "language": "python",
   "name": "python3"
  },
  "language_info": {
   "file_extension": ".py",
   "mimetype": "text/x-python",
   "name": "python",
   "nbconvert_exporter": "python",
   "pygments_lexer": "ipython3",
   "version": "3.10.4"
  },
  "toc": {
   "base_numbering": 1,
   "nav_menu": {},
   "number_sections": true,
   "sideBar": true,
   "skip_h1_title": true,
   "title_cell": "Table of Contents",
   "title_sidebar": "Contents",
   "toc_cell": false,
   "toc_position": {},
   "toc_section_display": true,
   "toc_window_display": true
  }
 },
 "nbformat": 4,
 "nbformat_minor": 2
}
