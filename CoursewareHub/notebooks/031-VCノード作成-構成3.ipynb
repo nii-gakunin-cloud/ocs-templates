{
 "cells": [
  {
   "cell_type": "markdown",
   "metadata": {},
   "source": [
    "# VCノードの作成--構成3\n",
    "\n",
    "---\n",
    "\n",
    "CoursewareHubを構築するためノードをVCP SDKを用いて作成します。"
   ]
  },
  {
   "cell_type": "markdown",
   "metadata": {},
   "source": [
    "## はじめに\n",
    "\n",
    "このNotebookでは構成2で構築したNFSサーバに、新たなCoursewareHub環境を追加するためのノード作成を行います(構成3)。NFSサーバは複数のCoursewareHub環境で共有されます。"
   ]
  },
  {
   "cell_type": "markdown",
   "metadata": {},
   "source": [
    "### ノード構成\n",
    "\n",
    "\n",
    "作成するノードはJupyterHub, PostgreSQLなどのコンテナを実行する managerノード、single-user Jupyter notebook serverを実行する workerノード、Notebookやデータなどを保持するNFSサーバノードで構成されます。"
   ]
  },
  {
   "cell_type": "markdown",
   "metadata": {},
   "source": [
    "![ノード構成](images/cw-031-01.png)"
   ]
  },
  {
   "cell_type": "markdown",
   "metadata": {},
   "source": [
    "### 事前に用意が必要となるものについて\n",
    "\n",
    "このNotebookを実行するにあたって、あらかじめ準備が必要となるものについて以下に記します。\n",
    "\n",
    "* VCCアクセストークン\n",
    "* SSH公開鍵ペア\n",
    "* VCノードに割り当てるアドレス\n",
    "* NFSサーバ\n",
    "* NTPの設定\n",
    "* mdx仮想マシンの準備  （*mdxにノードを作成する場合）"
   ]
  },
  {
   "cell_type": "markdown",
   "metadata": {},
   "source": [
    "####  VCCアクセストークン"
   ]
  },
  {
   "cell_type": "markdown",
   "metadata": {},
   "source": [
    "このNotebookではVCP SDKを用いてVCノード(クラウドの計算資源)、VCディスク(クラウドのストレージ)を作成します。VCP SDKを用いてVC Controller(VCC)の操作を行うために VCCアクセストークンが必要となります。\n",
    "\n",
    "VCCアクセストークンがない場合はVC管理者にアクセストークンの発行を依頼してください。"
   ]
  },
  {
   "cell_type": "markdown",
   "metadata": {},
   "source": [
    "#### SSH公開鍵ペア"
   ]
  },
  {
   "cell_type": "markdown",
   "metadata": {},
   "source": [
    "作成するVCノードに登録するSSHの公開鍵を用意する必要があります。あらかじめ作成したものをこのNotebook環境内にアップロードするか、この環境内で公開鍵ペアの作成を行ってください。"
   ]
  },
  {
   "cell_type": "markdown",
   "metadata": {},
   "source": [
    "#### VCノードに割り当てるアドレス"
   ]
  },
  {
   "cell_type": "markdown",
   "metadata": {},
   "source": [
    "VCノードのネットワークインターフェースに割り当てるアドレスを用意してください。VCノードにはIPアドレス、またはMACアドレスを割り当てることができます。"
   ]
  },
  {
   "cell_type": "markdown",
   "metadata": {},
   "source": [
    "IPアドレスを割り当てる場合、このNotebookではmanagerノードのみ指定することができます。workerノードについては空いているIPアドレスが自動的に割りてられます。"
   ]
  },
  {
   "cell_type": "markdown",
   "metadata": {},
   "source": [
    "MACアドレスを割り当てる場合は、作成する全てのVCノード数に対応するMACアドレスを指定する必要があります。"
   ]
  },
  {
   "cell_type": "markdown",
   "metadata": {},
   "source": [
    "#### NFSサーバ"
   ]
  },
  {
   "cell_type": "markdown",
   "metadata": {},
   "source": [
    "このNotebookで起動するVCノードは構成2で構築したNFSサーバを利用します。VCノードを起動する際に、構成2で構築したときのUnitGroup名とNFSサーバのIPアドレスが必要となるので事前に確認しておいてください。"
   ]
  },
  {
   "cell_type": "markdown",
   "metadata": {},
   "source": [
    "#### NTPの設定"
   ]
  },
  {
   "cell_type": "markdown",
   "metadata": {},
   "source": [
    "IdPと連携して認証を行う場合は時刻が正しく設定されていないと正しく動作しないことがあります。時刻合わせを行うためにVCノードのNTPを設定するには事前にVCコントローラへの設定が必要となります。\n",
    "VCPのリリースノート「[Release/20.10.0 -- 2.機能追加](https://meatwiki.nii.ac.jp/confluence/pages/viewpage.action?pageId=32677360#id-%E3%83%AA%E3%83%AA%E3%83%BC%E3%82%B9%E3%83%8E%E3%83%BC%E3%83%88-Release/20.10.0(2020/10/30))」に記されているように、OCS運用担当者にVCコントローラへのNTP設定を依頼してください。"
   ]
  },
  {
   "cell_type": "markdown",
   "metadata": {},
   "source": [
    "#### mdx仮想マシンの準備 （*mdxにノードを作成する場合）"
   ]
  },
  {
   "cell_type": "markdown",
   "metadata": {},
   "source": [
    "mdx仮想マシンをVCP既存サーバ(SSH) モードで利用できるようにするために、事前に「941-mdx仮想マシンの準備」を実行し、VCノードの起動先となるホスト環境を用意します。"
   ]
  },
  {
   "cell_type": "markdown",
   "metadata": {},
   "source": [
    "## VCノードに関するパラメータ\n",
    "\n",
    "CoursewareHubの構築環境となるVCノードに関するパラメータを指定します。"
   ]
  },
  {
   "cell_type": "markdown",
   "metadata": {},
   "source": [
    "### VCCアクセストークンの入力"
   ]
  },
  {
   "cell_type": "markdown",
   "metadata": {},
   "source": [
    "VCノードを起動するにはVC Controller(VCC)にアクセスして、操作を行う必要があります。VCCにアクセスするために必要となるアクセストークンをここで入力します。"
   ]
  },
  {
   "cell_type": "markdown",
   "metadata": {},
   "source": [
    "次のセルを実行すると入力枠が表示されるのでアクセストークンの値を入力してください。\n",
    "\n",
    "> アクセストークン入力後に Enter キーを押すことで入力が完了します。"
   ]
  },
  {
   "cell_type": "code",
   "execution_count": null,
   "metadata": {
    "tags": [
     "vcp:skip",
     "vcp:parameters"
    ]
   },
   "outputs": [],
   "source": [
    "from getpass import getpass\n",
    "vcc_access_token = getpass()"
   ]
  },
  {
   "cell_type": "markdown",
   "metadata": {},
   "source": [
    "入力されたアクセストークンが正しいことを、実際にVCCにアクセスして確認します。"
   ]
  },
  {
   "cell_type": "code",
   "execution_count": null,
   "metadata": {
    "tags": [
     "vcp:rewrite:vcpsdk"
    ]
   },
   "outputs": [],
   "source": [
    "from common import logsetting\n",
    "from vcpsdk.vcpsdk import VcpSDK\n",
    "\n",
    "vcp = VcpSDK(vcc_access_token)"
   ]
  },
  {
   "cell_type": "markdown",
   "metadata": {},
   "source": [
    "上のセルの実行結果がエラーとなり以下のようなメッセージが表示されている場合は、入力されたアクセストークンに誤りがあります。\n",
    "\n",
    "```\n",
    "config vc failed: http_status(403)\n",
    "2023/XX/XX XX:XX:XX UTC: VCPAuthException: xxxxxxx:token lookup is failed: permission denied\n",
    "```\n",
    "\n",
    "エラーになった場合はこの節のセルを全て `unfreeze` してから、もう一度アクセストークンの入力を行ってください。"
   ]
  },
  {
   "cell_type": "markdown",
   "metadata": {},
   "source": [
    "### UnitGroup名の指定"
   ]
  },
  {
   "cell_type": "markdown",
   "metadata": {},
   "source": [
    "VCPの構成要素は以下のようになっています。\n",
    "\n",
    "* VCノード\n",
    "  - クラウドにおける計算資源(VM/BM)\n",
    "  - 例えば Amazon EC2インスタンス, Microsoft Azure VM など\n",
    "* Unit\n",
    "  - 同質のVCノードにより構成されている要素\n",
    "  - 同じUnitに属するVCノードはCPU,メモリ等の計算資源が全て同じ設定になっている\n",
    "* UnitGroup\n",
    "  - 複数のUnitにより構成されている要素\n",
    "  - 使用目的、ライフサイクルなどに合わせて、複数のUnitをまとめて扱うための要素"
   ]
  },
  {
   "cell_type": "markdown",
   "metadata": {},
   "source": [
    "このNotebookではノードの役割に応じた2つのユニットを作成します。\n",
    "* managerユニット\n",
    "  - JupyterHub, auth-proxy, PostgreSQLコンテナを実行するノード\n",
    "  - NFSサーバを実行する\n",
    "  - Docker Swarmのmanagerノード\n",
    "* workerユニット\n",
    "  - JupyterHubのsingle-user Jupyter Notebook server コンテナを実行するノード\n",
    "  - Docker Swarm の workerノード"
   ]
  },
  {
   "cell_type": "markdown",
   "metadata": {},
   "source": [
    "2つのユニットをまとめて扱うためのUnitGroupの名前を指定します。既存のUnitGroup名を確認するために現在のUnitGroup一覧を表示します。次のセルを実行し`vcname`に表示されている名前が既存のUnitGroup名となります。"
   ]
  },
  {
   "cell_type": "code",
   "execution_count": null,
   "metadata": {},
   "outputs": [],
   "source": [
    "vcp.df_ugroups()"
   ]
  },
  {
   "cell_type": "markdown",
   "metadata": {},
   "source": [
    "このNotebookで作成するUnitGroup名を指定してください。上記の一覧に表示されている名前との重複を避けて下さい。またCoursewareHubのUnitGroup名には英数字のみの値を指定してください（先頭文字に数字は指定できない）。"
   ]
  },
  {
   "cell_type": "code",
   "execution_count": null,
   "metadata": {
    "tags": [
     "vcp:parameters"
    ]
   },
   "outputs": [],
   "source": [
    "# (例)\n",
    "# ugroup_name = 'CoursewareHub'\n",
    "\n",
    "ugroup_name = "
   ]
  },
  {
   "cell_type": "markdown",
   "metadata": {},
   "source": [
    "### クラウドプロバイダの指定\n",
    "\n",
    "VCノードを起動するプロバイダを選択します。\n",
    "\n",
    "> mdxにノードを作成する場合は `onpremises` を指定してください。"
   ]
  },
  {
   "cell_type": "code",
   "execution_count": null,
   "metadata": {
    "tags": [
     "vcp:parameters"
    ]
   },
   "outputs": [],
   "source": [
    "# (例)\n",
    "# vc_provider = 'aws'\n",
    "# vc_provider = 'azure'\n",
    "# vc_provider = 'onpremises' # mdx利用時\n",
    "\n",
    "vc_provider = "
   ]
  },
  {
   "cell_type": "markdown",
   "metadata": {},
   "source": [
    "### VCノードに割り当てるリソース量の指定\n",
    "\n",
    "VCノードに割り当てるリソース量を指定します。ノード種別ごとに役割が異なるため、それぞれについての指定を行います。"
   ]
  },
  {
   "cell_type": "markdown",
   "metadata": {},
   "source": [
    "### managerノード\n",
    "\n",
    "managerノードに割り当てるリソース量を指定します。managerノードではJupyterHub, auth-proxy, PostgreSQLコンテナなどを実行します。"
   ]
  },
  {
   "cell_type": "markdown",
   "metadata": {},
   "source": [
    "#### managerノードのflavor指定\n",
    "\n",
    "個々のリソース量を毎回指定するのは煩雑となるので、VCP SDKでは典型的な構成のパラメータセットを事前に定義しています。事前に定義したパラメータセットのことをVCP SDKでは`flavor`と呼んでいます。"
   ]
  },
  {
   "cell_type": "markdown",
   "metadata": {},
   "source": [
    "リソース量を指定するためのオブジェクト`spec`に設定できるパラメータはクラウドプロバイダ毎に異なるので `flavor`もプロバイダ毎にの定義されています。次のセルを実行すると `vc_provider` に設定したプロバイダに対応する `flavor` の一覧が表示されます。"
   ]
  },
  {
   "cell_type": "code",
   "execution_count": null,
   "metadata": {
    "scrolled": true
   },
   "outputs": [],
   "source": [
    "vcp.df_flavors(vc_provider)"
   ]
  },
  {
   "cell_type": "markdown",
   "metadata": {},
   "source": [
    "表示された `flavor` の値から一つを選択して、次のセルに指定してください。\n",
    "\n",
    "> mdxにノードを作成する場合は `default` を指定してください。"
   ]
  },
  {
   "cell_type": "code",
   "execution_count": null,
   "metadata": {
    "tags": [
     "vcp:skip",
     "vcp:parameters"
    ]
   },
   "outputs": [],
   "source": [
    "# (例)\n",
    "# manager_flavor = 'small'\n",
    "\n",
    "manager_flavor = "
   ]
  },
  {
   "cell_type": "markdown",
   "metadata": {},
   "source": [
    "#### managerノードのルートボリュームサイズ\n",
    "\n",
    "managerノードに割り当てるディスクサイズを指定します。"
   ]
  },
  {
   "cell_type": "markdown",
   "metadata": {},
   "source": [
    "CoursewareHubではコンテナイメージとして4GB以上のものを利用します。そのため`flavor`の指定によってはコンテナを起動する際にディスク容量が不足することがあります。ディスク容量不足を避けるためにルートボリュームサイズは32GB以上の値を指定してください。\n",
    "\n",
    "> mdxにノードを作成する場合は、便宜的に `32` を指定してください。実際には事前準備したmdx VMの仮想ディスクサイズとなります。"
   ]
  },
  {
   "cell_type": "code",
   "execution_count": null,
   "metadata": {
    "tags": [
     "vcp:skip",
     "vcp:parameters"
    ]
   },
   "outputs": [],
   "source": [
    "# (例)\n",
    "# manager_disk_size = 32\n",
    "\n",
    "manager_disk_size = "
   ]
  },
  {
   "cell_type": "markdown",
   "metadata": {},
   "source": [
    "### workerノード\n",
    "\n",
    "workerノードに割り当てるリソース量を指定します。workerノードでは各ユーザの利用環境となる single-user Jupyter notebook serverコンテナを実行します。"
   ]
  },
  {
   "cell_type": "markdown",
   "metadata": {},
   "source": [
    "#### workerノードのflavor指定"
   ]
  },
  {
   "cell_type": "markdown",
   "metadata": {},
   "source": [
    "workerノードの `flavor` を次のセルに指定してください。\n",
    "\n",
    "> mdxにノードを作成する場合は `default` を指定してください。"
   ]
  },
  {
   "cell_type": "code",
   "execution_count": null,
   "metadata": {},
   "outputs": [],
   "source": [
    "# (例)\n",
    "# worker_flavor = 'small'\n",
    "\n",
    "worker_flavor = "
   ]
  },
  {
   "cell_type": "markdown",
   "metadata": {},
   "source": [
    "#### workerノードのルートボリュームサイズ"
   ]
  },
  {
   "cell_type": "markdown",
   "metadata": {},
   "source": [
    "workerノードのルートボリュームサイズの指定を行います。16GB以上の値を指定してください。多くのライブラリを必要とする講義用カスタムイメージを利用する場合はworkerノードのディスクサイズを大きめに設定することをおすすめします。\n",
    "\n",
    "> mdxにノードを作成する場合は、便宜的に `16` を指定してください。実際には事前準備したmdx VMの仮想ディスクサイズとなります。"
   ]
  },
  {
   "cell_type": "code",
   "execution_count": null,
   "metadata": {},
   "outputs": [],
   "source": [
    "# (例)\n",
    "# worker_disk_size = 16\n",
    "\n",
    "worker_disk_size = "
   ]
  },
  {
   "cell_type": "markdown",
   "metadata": {},
   "source": [
    "#### ノード数の指定\n",
    "\n",
    "作成するworkerノードのノード数を指定してください。"
   ]
  },
  {
   "cell_type": "code",
   "execution_count": null,
   "metadata": {},
   "outputs": [],
   "source": [
    "# (例)\n",
    "# worker_nodes = 3\n",
    "\n",
    "worker_nodes = "
   ]
  },
  {
   "cell_type": "markdown",
   "metadata": {},
   "source": [
    "### アドレスの指定\n",
    "\n",
    "VCノードのネットワークインターフェースに割り当てるアドレスを指定します。"
   ]
  },
  {
   "cell_type": "markdown",
   "metadata": {},
   "source": [
    "VCノードのネットワークインタフェースに以下のアドレスを割り当てることができます。\n",
    "\n",
    "* IPアドレス\n",
    "* MACアドレス\n",
    "\n",
    "> MACアドレスの指定が可能なのは `vmware` のみ\n",
    "\n",
    "アドレスの指定が必要な場合は以下の設定を行ってください。指定しない場合は、自動的に割り当てられたアドレスを使用します。"
   ]
  },
  {
   "cell_type": "markdown",
   "metadata": {},
   "source": [
    "#### IPアドレスを指定する場合\n",
    "\n",
    "VCノードにIPアドレスを割り当てる場合はこの節を実行してください。\n",
    "\n",
    "> **mdx** にノードを作成する場合は **必ずIPアドレスを指定** してください。"
   ]
  },
  {
   "cell_type": "markdown",
   "metadata": {},
   "source": [
    "この節を実行しない場合、VCノードには割り当て可能なアドレスが自動的に設定されます。また、managerノード、workerノードのどちらか一方のみを指定することもできます。ただしworkerノードにIPアドレスを指定する場合、全てのworkerノードに対してアドレス指定を行う必要があります。"
   ]
  },
  {
   "cell_type": "markdown",
   "metadata": {},
   "source": [
    "まず指定可能なIPアドレスの範囲を確認します。次のセルを実行するとVCノードに割り当て可能なIPアドレスの範囲が表示されます。"
   ]
  },
  {
   "cell_type": "code",
   "execution_count": null,
   "metadata": {},
   "outputs": [],
   "source": [
    "print(vcp.get_vpn_catalog(vc_provider).get('private_network_ipmask'))"
   ]
  },
  {
   "cell_type": "markdown",
   "metadata": {},
   "source": [
    "次のセルで manager ノードに割り当てるプライベートネットワークのIPアドレスを指定してください。"
   ]
  },
  {
   "cell_type": "code",
   "execution_count": null,
   "metadata": {},
   "outputs": [],
   "source": [
    "# (例)\n",
    "# manager_ipaddress = '172.30.2.100'\n",
    "\n",
    "manager_ipaddress = "
   ]
  },
  {
   "cell_type": "markdown",
   "metadata": {},
   "source": [
    "次のセルに workerノードに割り当てるプライベートネットワークのIPアドレスを指定してください。指定するアドレス数は前節で指定したworkerノードのノード数と一致している必要があります。"
   ]
  },
  {
   "cell_type": "code",
   "execution_count": null,
   "metadata": {},
   "outputs": [],
   "source": [
    "# (例)\n",
    "# worker_ipaddresses = [\n",
    "#     '172.30.2.101',\n",
    "#     '172.30.2.102',\n",
    "#     '172.30.2.103',\n",
    "# ]\n",
    "\n",
    "worker_ipaddresses = [\n",
    "    \n",
    "]"
   ]
  },
  {
   "cell_type": "markdown",
   "metadata": {},
   "source": [
    "#### MACアドレスを指定する場合\n",
    "\n",
    "VCノードにMACアドレスを割り当てる場合はこの節を実行してください。\n",
    "\n",
    "> MACアドレス指定が可能なのは `vc_provider` に `vmware` を指定した場合に限られます。"
   ]
  },
  {
   "cell_type": "markdown",
   "metadata": {},
   "source": [
    "managerノード、workerノード、NFSサーバのいずれかのみを指定することもできます。ただしworkerノードにMACアドレスを指定する場合、全てのworkerノードに対してアドレス指定を行う必要があります。"
   ]
  },
  {
   "cell_type": "markdown",
   "metadata": {},
   "source": [
    "次のセルで manager ノードに割り当てるMACアドレスを指定してください。"
   ]
  },
  {
   "cell_type": "code",
   "execution_count": null,
   "metadata": {},
   "outputs": [],
   "source": [
    "# (例)\n",
    "# vc_mac_address = '4a:d1:4d:ab:cf:10'\n",
    "\n",
    "vc_mac_address = "
   ]
  },
  {
   "cell_type": "markdown",
   "metadata": {},
   "source": [
    "次のセルに workerノードに割り当てるMACアドレスを指定してください。指定するアドレス数は作成するworkerノードのノード数と一致している必要があります。"
   ]
  },
  {
   "cell_type": "code",
   "execution_count": null,
   "metadata": {},
   "outputs": [],
   "source": [
    "# (例)\n",
    "# worker_mac_addresses = [\n",
    "#     '4a:d1:4d:ab:cf:12',\n",
    "#     '4a:d1:4d:ab:cf:13',\n",
    "# ]\n",
    "\n",
    "worker_mac_addresses = [\n",
    "\n",
    "]"
   ]
  },
  {
   "cell_type": "markdown",
   "metadata": {},
   "source": [
    "### NFSサーバの指定\n",
    "\n",
    "NFSサーバのIPアドレスを指定します。"
   ]
  },
  {
   "cell_type": "markdown",
   "metadata": {},
   "source": [
    "構成2で構築したNFSサーバのIPアドレスを指定してください。"
   ]
  },
  {
   "cell_type": "code",
   "execution_count": null,
   "metadata": {},
   "outputs": [],
   "source": [
    "# (例)\n",
    "# nfs_server = '172.30.2.150'\n",
    "\n",
    "nfs_server = "
   ]
  },
  {
   "cell_type": "markdown",
   "metadata": {},
   "source": [
    "### アドレスプールの指定\n",
    "\n",
    "VCノードで実行される Docker Engineのアドレスプールの値を指定します。"
   ]
  },
  {
   "cell_type": "markdown",
   "metadata": {},
   "source": [
    "CoursewareHubではコンテナを実行するのにdocker swarmを利用します。docker swarmでは ingress networkなどが自動的に作成されますが、そのネットワークアドレスが既存のネットワークアドレスと重複することを避けるために docker engine のアドレスプールの値を明示的に指定します。"
   ]
  },
  {
   "cell_type": "markdown",
   "metadata": {},
   "source": [
    "次のセルでdocker engineに設定するアドレスプールの値を指定してください。既存のネットワークアドレスと重複する値を避けてください。"
   ]
  },
  {
   "cell_type": "code",
   "execution_count": null,
   "metadata": {},
   "outputs": [],
   "source": [
    "# (例)\n",
    "# docker_address_pool = '10.10.0.0/16'\n",
    "\n",
    "docker_address_pool = '10.10.0.0/16'"
   ]
  },
  {
   "cell_type": "markdown",
   "metadata": {},
   "source": [
    "### ホスト名\n",
    "\n",
    "managerノードのホスト名(FQDN)を指定します。後にCoursewareHubを構築するときに、ここで指定したホスト名のサーバ証明書が必要となります。"
   ]
  },
  {
   "cell_type": "code",
   "execution_count": null,
   "metadata": {},
   "outputs": [],
   "source": [
    "# (例)\n",
    "# master_fqdn = 'hub.example.org'\n",
    "\n",
    "master_fqdn = "
   ]
  },
  {
   "cell_type": "markdown",
   "metadata": {},
   "source": [
    "### SSH公開鍵認証の鍵ファイルの指定\n",
    "\n",
    "起動したVCノードにsshでログインして操作を行うためにSSH公開鍵を登録します。"
   ]
  },
  {
   "cell_type": "markdown",
   "metadata": {},
   "source": [
    "VCノードに登録するSSHの公開鍵ファイルのパスを次のセルで指定してください。\n",
    "\n",
    "> 事前に作成した公開鍵をこの環境にアップロードするか、この環境内でSSH公開鍵の作成を行ってください。"
   ]
  },
  {
   "cell_type": "code",
   "execution_count": null,
   "metadata": {
    "tags": [
     "vcp:parameters"
    ]
   },
   "outputs": [],
   "source": [
    "# (例)\n",
    "# ssh_public_key_path = '~/.ssh/id_rsa.pub'\n",
    "\n",
    "ssh_public_key_path ="
   ]
  },
  {
   "cell_type": "markdown",
   "metadata": {},
   "source": [
    "公開鍵に対応する秘密鍵のパスを次のセルで指定してください。"
   ]
  },
  {
   "cell_type": "code",
   "execution_count": null,
   "metadata": {
    "tags": [
     "vcp:parameters"
    ]
   },
   "outputs": [],
   "source": [
    "# (例)\n",
    "# ssh_private_key_path = '~/.ssh/id_rsa'\n",
    "\n",
    "ssh_private_key_path ="
   ]
  },
  {
   "cell_type": "markdown",
   "metadata": {},
   "source": [
    "### NFSサーバ\n",
    "\n",
    "NFSサーバを操作するための Ansible のグループ名を指定します。"
   ]
  },
  {
   "cell_type": "markdown",
   "metadata": {},
   "source": [
    "作成済みのUnitGroupを確認するために一覧を表示します。"
   ]
  },
  {
   "cell_type": "code",
   "execution_count": null,
   "metadata": {},
   "outputs": [],
   "source": [
    "vcp.df_ugroups()"
   ]
  },
  {
   "cell_type": "markdown",
   "metadata": {},
   "source": [
    "NFSサーバのAnsibleグループ名は、構成2でNFSサーバを構築したときのUnitGroup名に `_nfs`を末尾に付けたものになります。例えば、上のセルの`vcname`列に表示されるUnitGroup名が`CoursewareHub`の時は`CoursewareHub_nfs`を次のセルで指定してください。"
   ]
  },
  {
   "cell_type": "code",
   "execution_count": null,
   "metadata": {},
   "outputs": [],
   "source": [
    "# (例)\n",
    "# nfs_target = 'CoursewareHub_nfs'\n",
    "\n",
    "nfs_target = "
   ]
  },
  {
   "cell_type": "markdown",
   "metadata": {},
   "source": [
    "上のセルで指定したグループ名でVCノードの操作が行えることを確認します。"
   ]
  },
  {
   "cell_type": "code",
   "execution_count": null,
   "metadata": {},
   "outputs": [],
   "source": [
    "!ansible {nfs_target} -m ping\n",
    "!ansible {nfs_target} -b -a 'whoami'"
   ]
  },
  {
   "cell_type": "markdown",
   "metadata": {},
   "source": [
    "対象のVCノードでNFSサーバが実行されていることを確認します。"
   ]
  },
  {
   "cell_type": "code",
   "execution_count": null,
   "metadata": {
    "scrolled": true
   },
   "outputs": [],
   "source": [
    "!ansible {nfs_target} -b -a 'systemctl status nfs-server'"
   ]
  },
  {
   "cell_type": "markdown",
   "metadata": {},
   "source": [
    "### 共有ディレクトリの指定\n",
    "\n",
    "CoursewareHubで追加の共有ディレクトリを設定することができます。ここではその指定を行います。"
   ]
  },
  {
   "cell_type": "markdown",
   "metadata": {},
   "source": [
    "CoursewareHubのsingle-userサーバの環境では`/info`, `/textbook`が共有されています。これはVCノードの`/jupyter`がNFSで共有されていることを前提としています。CoursewareHubで追加の共有ディレクトリを設定する場合も、あらかじめNFSの追加設定を行う必要があります。その対象となるディレクトリを次のセルで指定してください。共有ディレクトリのパーミッションの初期値は`1777`に設定されます。必要に応じてVCノードが起動した後に適切な値を設定してください。"
   ]
  },
  {
   "cell_type": "code",
   "execution_count": null,
   "metadata": {},
   "outputs": [],
   "source": [
    "# (例)\n",
    "# extra_mount_points = [\n",
    "#     \"/share\",\n",
    "# ]\n",
    "\n",
    "extra_mount_points = [\n",
    "    \"/share\",\n",
    "]"
   ]
  },
  {
   "cell_type": "markdown",
   "metadata": {},
   "source": [
    "対応するディレクトリをNFSサーバに作成します。"
   ]
  },
  {
   "cell_type": "code",
   "execution_count": null,
   "metadata": {},
   "outputs": [],
   "source": [
    "for mp in extra_mount_points:\n",
    "    !ansible {nfs_target} -b -a 'mkdir -p /exported/{ugroup_name}{mp}'"
   ]
  },
  {
   "cell_type": "markdown",
   "metadata": {},
   "source": [
    "### mdx VM ログインユーザ名の指定\n",
    "\n",
    "mdxを利用する場合、事前準備した仮想マシンテンプレートで既定のログインユーザ名 (e.g. mdxuser) を指定してください。"
   ]
  },
  {
   "cell_type": "markdown",
   "metadata": {},
   "source": [
    "> この指定は**mdx**を利用する場合に限り必要となります。"
   ]
  },
  {
   "cell_type": "code",
   "execution_count": null,
   "metadata": {},
   "outputs": [],
   "source": [
    "# (例)\n",
    "# ssh_user_name = 'mdxuser'\n",
    "\n",
    "ssh_user_name = "
   ]
  },
  {
   "cell_type": "markdown",
   "metadata": {
    "heading_collapsed": true
   },
   "source": [
    "### パラメータの保存\n",
    "\n",
    "この章で指定したパラメータの値をファイルに保存します。"
   ]
  },
  {
   "cell_type": "markdown",
   "metadata": {
    "hidden": true
   },
   "source": [
    "後の手順でVCノードに対する操作を、構成管理ツールの[Ansible](https://www.ansible.com/)で行います。そこで、パラメータの保存形式は `Ansible` のフォーマットに従うことにします。Ansible では `group_vars/`というディレクトリに YAML フォーマットのファイルを配置すると、そのファイルに記録されている値を変数として利用することができます。このNotebookではパラメータを `group_vars/` のYAMLファイルとして保存します。"
   ]
  },
  {
   "cell_type": "markdown",
   "metadata": {
    "hidden": true
   },
   "source": [
    "ファイルに保存する前にパラメータに関する簡易なチェックを行います。エラーになった場合はその後に表示される指示に従ってください。"
   ]
  },
  {
   "cell_type": "code",
   "execution_count": null,
   "metadata": {
    "hidden": true
   },
   "outputs": [],
   "source": [
    "%run scripts/check_params.py\n",
    "check_parameters(\n",
    "    'ugroup_name',\n",
    "    'vc_provider',\n",
    "    'manager_flavor',\n",
    "    'manager_disk_size',\n",
    "    'worker_flavor',\n",
    "    'worker_disk_size',\n",
    "    'worker_nodes',\n",
    "    'nfs_server',\n",
    "    'docker_address_pool',\n",
    "    'ssh_public_key_path',\n",
    "    'ssh_private_key_path',\n",
    "    'ssh_user_name',\n",
    "    'manager_ipaddress',\n",
    "    'worker_ipaddresses',\n",
    "    'vc_mac_address',\n",
    "    'worker_mac_addresses',\n",
    "    params={\n",
    "        'vcp': vcp,\n",
    "        'opt_vars': [\n",
    "            'manager_ipaddress', 'worker_ipaddresses',\n",
    "            'vc_mac_address', 'worker_mac_addresses',\n",
    "            'ssh_user_name',\n",
    "        ],\n",
    "    },\n",
    "    nb_vars=locals(),\n",
    ")"
   ]
  },
  {
   "cell_type": "markdown",
   "metadata": {
    "hidden": true
   },
   "source": [
    "次のセルを実行すると、この章で指定したパラメータが group_vars ファイルに保存されます。"
   ]
  },
  {
   "cell_type": "code",
   "execution_count": null,
   "metadata": {
    "hidden": true
   },
   "outputs": [],
   "source": [
    "import os\n",
    "%run scripts/group.py\n",
    "update_group_vars(\n",
    "    ugroup_name,\n",
    "    ugroup_name=ugroup_name,\n",
    "    vc_provider=vc_provider,\n",
    "    manager_flavor=manager_flavor,\n",
    "    manager_disk_size=manager_disk_size,\n",
    "    worker_flavor=worker_flavor,\n",
    "    worker_disk_size=worker_disk_size,\n",
    "    worker_nodes=worker_nodes,\n",
    "    nfs_ipaddress=nfs_server,\n",
    "    docker_address_pool=docker_address_pool,\n",
    "    ssh_public_key_path=os.path.expanduser(ssh_public_key_path),\n",
    "    ssh_private_key_path=os.path.expanduser(ssh_private_key_path),\n",
    "    master_fqdn=master_fqdn,\n",
    "    nfs_target=nfs_target,\n",
    ")\n",
    "if 'manager_ipaddress' in vars():\n",
    "    update_group_vars(ugroup_name, manager_ipaddress=manager_ipaddress)\n",
    "if 'worker_ipaddresses' in vars():\n",
    "    update_group_vars(ugroup_name, worker_ipaddresses=worker_ipaddresses)\n",
    "if 'vc_mac_address' in vars():\n",
    "    update_group_vars(ugroup_name, vc_mac_address=vc_mac_address)\n",
    "if 'worker_mac_addresses' in vars():\n",
    "    update_group_vars(ugroup_name, worker_mac_addresses=worker_mac_addresses)\n",
    "if 'extra_mount_points' in vars():\n",
    "    update_group_vars(ugroup_name, extra_mount_points=extra_mount_points)\n",
    "if 'ssh_user_name' in vars():\n",
    "    update_group_vars(ugroup_name, ssh_user_name=ssh_user_name)"
   ]
  },
  {
   "cell_type": "markdown",
   "metadata": {
    "hidden": true
   },
   "source": [
    "group_vars ファイルの内容を表示して保存されたパラメータを確認します。"
   ]
  },
  {
   "cell_type": "code",
   "execution_count": null,
   "metadata": {
    "hidden": true
   },
   "outputs": [],
   "source": [
    "!cat group_vars/{ugroup_name}"
   ]
  },
  {
   "cell_type": "markdown",
   "metadata": {
    "heading_collapsed": true
   },
   "source": [
    "## VCノードの起動\n",
    "\n",
    "\n",
    "![VCノード](images/cw-031-02.png)"
   ]
  },
  {
   "cell_type": "markdown",
   "metadata": {
    "hidden": true
   },
   "source": [
    "### /etc/exportsの更新\n",
    "\n",
    "このNotebookで起動するVCノードからNFSサーバにアクセスできるように`/etc/exports`の設定を更新します。"
   ]
  },
  {
   "cell_type": "markdown",
   "metadata": {
    "hidden": true
   },
   "source": [
    "エクスポート対象となるディレクトリを作成します。"
   ]
  },
  {
   "cell_type": "code",
   "execution_count": null,
   "metadata": {
    "hidden": true,
    "scrolled": true
   },
   "outputs": [],
   "source": [
    "!ansible {nfs_target} -b -m file -a 'path=/exported/{ugroup_name} state=directory'\n",
    "!ansible {nfs_target} -b -m file -a 'path=/exported/{ugroup_name}/exchange state=directory mode=777'\n",
    "!ansible {nfs_target} -b -m file -a 'path=/exported/{ugroup_name}/jupyter state=directory mode=777'"
   ]
  },
  {
   "cell_type": "markdown",
   "metadata": {
    "hidden": true
   },
   "source": [
    "NFSサーバの `/etc/exports.d/` にエクスポート設定ファイルを作成します。VCノードを起動するまでIPアドレスが確定しない場合は、全てのノードに対してアクセス可能な状態に設定します。後ほどmanagerノード、workerノードを起動してNFSクライアントのIPアドレスが確定した時点で`/etc/exports`の設定を更新し、アクセスできるノードの制限を行います。"
   ]
  },
  {
   "cell_type": "code",
   "execution_count": null,
   "metadata": {
    "hidden": true,
    "scrolled": true
   },
   "outputs": [],
   "source": [
    "from tempfile import TemporaryDirectory\n",
    "from pathlib import Path\n",
    "\n",
    "exports_opts = 'rw,fsid=0,no_root_squash,no_subtree_check,sync,crossmnt'\n",
    "with TemporaryDirectory() as workdir:\n",
    "    exports = Path(workdir) / f'{ugroup_name}.exports'\n",
    "    with exports.open(mode='w') as f:\n",
    "        if {'vc_ipaddress', 'worker_ipaddresses'}.issubset(vars().keys()):\n",
    "            for x in [vc_ipaddress] + worker_ipaddresses:\n",
    "                f.write(f'/exported/{ugroup_name} {x}({exports_opts})\\n')\n",
    "        else:\n",
    "            f.write(f'/exported/{ugroup_name} *({exports_opts})\\n')\n",
    "    !cat {exports}\n",
    "    !ansible {nfs_target} -b -m copy -a \\\n",
    "        'src={exports} dest=/etc/exports.d/ backup=yes'"
   ]
  },
  {
   "cell_type": "markdown",
   "metadata": {
    "hidden": true
   },
   "source": [
    "設定ファイルを読み込ませエクスポート設定を更新します。"
   ]
  },
  {
   "cell_type": "code",
   "execution_count": null,
   "metadata": {
    "hidden": true
   },
   "outputs": [],
   "source": [
    "!ansible {nfs_target} -b -a 'exportfs -r -v'"
   ]
  },
  {
   "cell_type": "markdown",
   "metadata": {
    "hidden": true
   },
   "source": [
    "### managerノード"
   ]
  },
  {
   "cell_type": "markdown",
   "metadata": {
    "hidden": true
   },
   "source": [
    "#### manager用のVCノードを起動する"
   ]
  },
  {
   "cell_type": "markdown",
   "metadata": {
    "hidden": true
   },
   "source": [
    "manager用VCノードの `spec` を指定します。"
   ]
  },
  {
   "cell_type": "code",
   "execution_count": null,
   "metadata": {
    "hidden": true,
    "tags": [
     "vcp:rewrite:container_image"
    ]
   },
   "outputs": [],
   "source": [
    "import sys\n",
    "%run scripts/group.py\n",
    "%run scripts/vcp.py\n",
    "gvars = load_group_vars(ugroup_name)\n",
    "spec_mgr = vcp.get_spec(gvars['vc_provider'], gvars['manager_flavor'])\n",
    "\n",
    "# Baseコンテナイメージを指定する\n",
    "try:\n",
    "    vcc_version = vc_controller_version(vcp)\n",
    "    image_tag = 'base-20240402' if vcc_version != '23.04.0+20230401' else 'base-20230902'\n",
    "except:\n",
    "    image_tag = 'base-20230902'\n",
    "spec_mgr.image = f'harbor.vcloud.nii.ac.jp/vcp/coursewarehub:{image_tag}'\n",
    "\n",
    "spec_mgr.params_v = ['/sys/fs/cgroup:/sys/fs/cgroup:rw']\n",
    "\n",
    "if 'manager_ipaddress' in gvars:\n",
    "    # manager用VCノードに割り当てるIPアドレスを指定する\n",
    "    spec_mgr.ip_addresses = [gvars['manager_ipaddress']]\n",
    "if 'vc_mac_addresses' in gvars:\n",
    "    # manager用VCノードに割り当てるMACアドレスを指定する\n",
    "    spec_mgr.mac_addresses = [gvars['vc_mac_address']]\n",
    "    \n",
    "# ルートボリュームサイズを指定する\n",
    "if vc_provider == 'aws':\n",
    "    spec_mgr.volume_size = gvars['manager_disk_size']\n",
    "elif vc_provider == 'azure':\n",
    "    spec_mgr.disk_size_gb = gvars['manager_disk_size']\n",
    "elif vc_provider == 'oracle':\n",
    "    spec_mgr.boot_volume_size_in_gbs = gvars['manager_disk_size']\n",
    "else:\n",
    "    print('This provider does not support the specification of the root volume size. Does not set the disk size.', file=sys.stderr)\n",
    "\n",
    "# VCノードにsshでログインするための公開鍵を指定する\n",
    "spec_mgr.set_ssh_pubkey(gvars['ssh_public_key_path'])\n",
    "\n",
    "# NFSサーバのIPアドレスを指定する\n",
    "spec_mgr.params_e.append(\"NFS_SERVER=\" + gvars['nfs_ipaddress'])\n",
    "\n",
    "if 'extra_mount_points' in gvars:\n",
    "    spec_mgr.params_e.append(f\"EXTRA_MOUNT_POINTS={':'.join(gvars['extra_mount_points'])}\")\n",
    "\n",
    "spec_mgr.dns = [gvars[\"nfs_ipaddress\"]]\n",
    "\n",
    "# mdx利用時\n",
    "if 'ssh_user_name' in gvars:\n",
    "    spec_mgr.user_name = gvars['ssh_user_name']"
   ]
  },
  {
   "cell_type": "markdown",
   "metadata": {
    "hidden": true
   },
   "source": [
    "`spec` の設定値を確認します。"
   ]
  },
  {
   "cell_type": "code",
   "execution_count": null,
   "metadata": {
    "hidden": true,
    "scrolled": false
   },
   "outputs": [],
   "source": [
    "print(spec_mgr)"
   ]
  },
  {
   "cell_type": "markdown",
   "metadata": {
    "hidden": true
   },
   "source": [
    "UnitGroupを作成します。"
   ]
  },
  {
   "cell_type": "code",
   "execution_count": null,
   "metadata": {
    "hidden": true
   },
   "outputs": [],
   "source": [
    "ugroup = vcp.create_ugroup(ugroup_name)"
   ]
  },
  {
   "cell_type": "markdown",
   "metadata": {
    "hidden": true
   },
   "source": [
    "manager用VCノードを起動します。"
   ]
  },
  {
   "cell_type": "code",
   "execution_count": null,
   "metadata": {
    "hidden": true,
    "scrolled": true
   },
   "outputs": [],
   "source": [
    "unit_mgr = ugroup.create_unit('manager', spec_mgr)"
   ]
  },
  {
   "cell_type": "markdown",
   "metadata": {
    "hidden": true
   },
   "source": [
    "起動したVCノードの一覧を表示します。"
   ]
  },
  {
   "cell_type": "code",
   "execution_count": null,
   "metadata": {
    "hidden": true,
    "scrolled": true
   },
   "outputs": [],
   "source": [
    "unit_mgr.df_nodes()"
   ]
  },
  {
   "cell_type": "markdown",
   "metadata": {
    "hidden": true
   },
   "source": [
    "VCノードのIPアドレスを変数`vc_ipaddress`に設定します。"
   ]
  },
  {
   "cell_type": "code",
   "execution_count": null,
   "metadata": {
    "hidden": true
   },
   "outputs": [],
   "source": [
    "manager_ipaddress = unit_mgr.find_ip_addresses()[0]\n",
    "print(manager_ipaddress)"
   ]
  },
  {
   "cell_type": "markdown",
   "metadata": {
    "hidden": true
   },
   "source": [
    "`group_vars`ファイルにIPアドレスの値を記録します。"
   ]
  },
  {
   "cell_type": "code",
   "execution_count": null,
   "metadata": {
    "hidden": true
   },
   "outputs": [],
   "source": [
    "update_group_vars(ugroup_name, manager_ipaddress=manager_ipaddress, master_ip=manager_ipaddress)\n",
    "gvars = load_group_vars(ugroup_name)"
   ]
  },
  {
   "cell_type": "markdown",
   "metadata": {
    "hidden": true
   },
   "source": [
    "#### managerノードに対するAnsibleの設定\n",
    "\n",
    "起動したVCノードをAnsibleで操作するための設定を行います。"
   ]
  },
  {
   "cell_type": "markdown",
   "metadata": {
    "hidden": true
   },
   "source": [
    "まず、VCノードにSSHでログインできるようにするために `~/.ssh/known_hosts` の更新を行います。\n",
    "\n",
    "> 何度かVCノードの起動を行うと、異なるホストが同じIPアドレスで起動するためにSSHのホストキーのチェックでエラーになる事があります。このような状況に対応するために、起動したVCノードのIPアドレスに対応するエントリを`known_hosts`ファイルから削除します。その後、`ssh-keyscan`コマンドを利用して起動したVCノードのホストキーを取得して `known_hosts`ファイルの内容を更新します。"
   ]
  },
  {
   "cell_type": "code",
   "execution_count": null,
   "metadata": {
    "hidden": true
   },
   "outputs": [],
   "source": [
    "from time import sleep\n",
    "\n",
    "def check_update_known_hosts(ipaddr):\n",
    "    # VCノード起動直後だと sshd サービスが開始されておらずに known_hosts が更新されない場合がある\n",
    "    # ssh-keyscan が値を取得できるまで何度かリトライする\n",
    "    for x in range(10):\n",
    "        out = ! echo $(ssh-keyscan {ipaddr} 2> /dev/null | wc -l)\n",
    "        update_lines = int(out[0])\n",
    "        if update_lines > 0:\n",
    "            break\n",
    "        sleep(1)\n",
    "    else:\n",
    "        raise RuntimeError(\"ERROR: timeout!\")   \n",
    "\n",
    "!mkdir -p -m 0700 ~/.ssh\n",
    "!touch ~/.ssh/known_hosts\n",
    "for addr in unit_mgr.find_ip_addresses():\n",
    "    !ssh-keygen -R {addr}\n",
    "    check_update_known_hosts(addr)\n",
    "    !ssh-keyscan -H {addr} >> ~/.ssh/known_hosts"
   ]
  },
  {
   "cell_type": "markdown",
   "metadata": {
    "hidden": true
   },
   "source": [
    "起動したVCノードに対応するエントリを Ansible のインベントリに登録します。\n",
    "\n",
    "> Ansibleで操作を行うためには、操作対象のホスト(IPアドレス)をインベントリに登録する必要があります。"
   ]
  },
  {
   "cell_type": "code",
   "execution_count": null,
   "metadata": {
    "hidden": true
   },
   "outputs": [],
   "source": [
    "%run scripts/group.py\n",
    "%run scripts/edit_conf.py\n",
    "\n",
    "inventory = {'all': {'children': {\n",
    "    ugroup.name: {\n",
    "        'children': {\n",
    "            f'{ugroup.name}_{unit_mgr.name}': {\n",
    "                'hosts': dict([(x, dict(servicenet_ip=x)) for x in unit_mgr.find_ip_addresses()]),\n",
    "            },\n",
    "        },\n",
    "        'vars': {\n",
    "            'ansible_user': 'vcp',\n",
    "            'ansible_ssh_private_key_file': gvars['ssh_private_key_path'],\n",
    "            'ansible_python_interpreter': '/usr/bin/python3',\n",
    "        },\n",
    "    },\n",
    "}}}\n",
    "\n",
    "generate_edit_link(update_inventory_yml(inventory))"
   ]
  },
  {
   "cell_type": "markdown",
   "metadata": {
    "hidden": true
   },
   "source": [
    "次のセルを実行すると作成したインベントリの内容を表示します。インベントリの内容を変更したい場合は、上のセルの出力結果に表示しているリンクから編集することができます。"
   ]
  },
  {
   "cell_type": "code",
   "execution_count": null,
   "metadata": {
    "hidden": true
   },
   "outputs": [],
   "source": [
    "!cat inventory.yml"
   ]
  },
  {
   "cell_type": "markdown",
   "metadata": {
    "hidden": true
   },
   "source": [
    " 先程VCノードを登録したファイルをインベントリとして指定するためのAnsibleのコンフィギュレーションファイルを作成します。\n",
    "> カレントディレクトリにコンフィギュレーションファイル(`ansible.cfg`)を作成すると、Ansibleを実行する際にその設定が適用されます。"
   ]
  },
  {
   "cell_type": "code",
   "execution_count": null,
   "metadata": {
    "hidden": true
   },
   "outputs": [],
   "source": [
    "cfg = setup_ansible_cfg()\n",
    "generate_edit_link(cfg)"
   ]
  },
  {
   "cell_type": "markdown",
   "metadata": {
    "hidden": true
   },
   "source": [
    "次のセルを実行すると作成したコンフィギュレーションファイルの内容を表示します。コンフィギュレーションファイルの内容を変更したい場合は、上のセルの出力結果に表示しているリンクから編集することができます。"
   ]
  },
  {
   "cell_type": "code",
   "execution_count": null,
   "metadata": {
    "hidden": true
   },
   "outputs": [],
   "source": [
    "!cat ansible.cfg"
   ]
  },
  {
   "cell_type": "markdown",
   "metadata": {
    "hidden": true
   },
   "source": [
    "UnitGroupに属する全てのVCノードに対して Ansible で接続できることを確認します。\n",
    "\n",
    "> ここでは、複数のVCノードをまとめて扱うためにAnsibleのグループを指定しています。グループ名は UnitGroup名と同じ値にしてあります。"
   ]
  },
  {
   "cell_type": "code",
   "execution_count": null,
   "metadata": {
    "hidden": true
   },
   "outputs": [],
   "source": [
    "!ansible {ugroup.name} -m ping"
   ]
  },
  {
   "cell_type": "markdown",
   "metadata": {
    "hidden": true
   },
   "source": [
    "#### NFSの確認"
   ]
  },
  {
   "cell_type": "markdown",
   "metadata": {
    "hidden": true
   },
   "source": [
    "managerノードにおけるNFSマウントの状態を確認します。`/exchange`, `/jupyter`のエントリが存在していることを確認してください。"
   ]
  },
  {
   "cell_type": "code",
   "execution_count": null,
   "metadata": {
    "hidden": true
   },
   "outputs": [],
   "source": [
    "!ansible {ugroup.name}_{unit_mgr.name} -a 'mount -t nfs4'"
   ]
  },
  {
   "cell_type": "markdown",
   "metadata": {
    "hidden": true
   },
   "source": [
    "NFSサーバ側に作成したファイルをNFSクライアント側で参照できることを確認します。"
   ]
  },
  {
   "cell_type": "code",
   "execution_count": null,
   "metadata": {
    "hidden": true,
    "scrolled": true
   },
   "outputs": [],
   "source": [
    "!ansible {nfs_target} -m file -a 'path=/exported/{ugroup.name}/jupyter/xxx state=touch'\n",
    "!ansible {nfs_target} -m file -a 'path=/exported/{ugroup.name}/exchange/xxx state=touch'\n",
    "!ansible {ugroup.name}_{unit_mgr.name} -a 'test -f /jupyter/xxx'\n",
    "!ansible {ugroup.name}_{unit_mgr.name} -a 'test -f /exchange/xxx'\n",
    "!ansible {ugroup.name}_{unit_mgr.name} -m file -a 'path=/jupyter/xxx state=absent'\n",
    "!ansible {ugroup.name}_{unit_mgr.name} -m file -a 'path=/exchange/xxx state=absent'"
   ]
  },
  {
   "cell_type": "markdown",
   "metadata": {
    "hidden": true
   },
   "source": [
    "#### managerノードのホスト名\n",
    "\n",
    "ホスト名をworkerノードから名前解決できるように設定します。"
   ]
  },
  {
   "cell_type": "code",
   "execution_count": null,
   "metadata": {
    "hidden": true
   },
   "outputs": [],
   "source": [
    "master_fqdn = gvars[\"master_fqdn\"]\n",
    "manager_ipaddress= gvars[\"manager_ipaddress\"]\n",
    "!ansible {nfs_target} -b -m lineinfile \\\n",
    "    -a 'path=/etc/hosts-dnsmasq \\\n",
    "    regex=\"^{manager_ipaddress}\" line=\"{manager_ipaddress} {master_fqdn}\"'"
   ]
  },
  {
   "cell_type": "markdown",
   "metadata": {
    "hidden": true
   },
   "source": [
    "変更を反映するためにdnsmasqのサービスを再起動します。"
   ]
  },
  {
   "cell_type": "code",
   "execution_count": null,
   "metadata": {
    "hidden": true
   },
   "outputs": [],
   "source": [
    "!ansible {nfs_target} -b -a 'systemctl restart dnsmasq'"
   ]
  },
  {
   "cell_type": "markdown",
   "metadata": {
    "hidden": true
   },
   "source": [
    "### workerノード"
   ]
  },
  {
   "cell_type": "markdown",
   "metadata": {
    "hidden": true
   },
   "source": [
    "#### worker用のVCノードを起動する"
   ]
  },
  {
   "cell_type": "markdown",
   "metadata": {
    "hidden": true
   },
   "source": [
    "worker用VCノードの `spec` を指定します。"
   ]
  },
  {
   "cell_type": "code",
   "execution_count": null,
   "metadata": {
    "hidden": true,
    "tags": [
     "vcp:rewrite:container_image"
    ]
   },
   "outputs": [],
   "source": [
    "%run scripts/group.py\n",
    "%run scripts/vcp.py\n",
    "gvars = load_group_vars(ugroup_name)\n",
    "spec_worker = vcp.get_spec(gvars['vc_provider'], gvars['worker_flavor'])\n",
    "\n",
    "# Baseコンテナイメージを指定する\n",
    "try:\n",
    "    vcc_version = vc_controller_version(vcp)\n",
    "    image_tag = 'base-20240402' if vcc_version != '23.04.0+20230401' else 'base-20230902'\n",
    "except:\n",
    "    image_tag = 'base-20230902'\n",
    "spec_worker.image = f'harbor.vcloud.nii.ac.jp/vcp/coursewarehub:{image_tag}'\n",
    "\n",
    "spec_worker.params_v = ['/sys/fs/cgroup:/sys/fs/cgroup:rw']\n",
    "\n",
    "# workerノード数を指定する\n",
    "spec_worker.num_nodes = int(gvars['worker_nodes'])\n",
    "\n",
    "if 'vc_mac_addresses' in gvars:\n",
    "    # worker用VCノードに割り当てるMACアドレスを指定する\n",
    "    spec_worker.mac_addresses = gvars['worker_mac_addresses']\n",
    "if 'worker_ipaddresses' in gvars:\n",
    "    # worker用VCノードに割り当てるIPアドレスを指定する\n",
    "    spec_worker.ip_addresses = gvars['worker_ipaddresses']\n",
    "\n",
    "# ルートボリュームサイズを指定する\n",
    "if vc_provider == 'aws':\n",
    "    spec_worker.volume_size = gvars['worker_disk_size']\n",
    "elif vc_provider == 'azure':\n",
    "    spec_worker.disk_size_gb = gvars['worker_disk_size']\n",
    "elif vc_provider == 'oracle':\n",
    "    spec_worker.boot_volume_size_in_gbs = gvars['worker_disk_size']\n",
    "else:\n",
    "    print('This provider does not support the specification of the root volume size. Does not set the disk size.', file=sys.stderr)\n",
    "\n",
    "# VCノードにsshでログインするための公開鍵を指定する\n",
    "spec_worker.set_ssh_pubkey(gvars['ssh_public_key_path'])\n",
    "\n",
    "# NFSサーバのIPアドレスを指定する\n",
    "spec_worker.params_e.append(\"NFS_SERVER=\" + gvars['nfs_ipaddress'])\n",
    "\n",
    "if 'extra_mount_points' in gvars:\n",
    "    spec_worker.params_e.append(f\"EXTRA_MOUNT_POINTS={':'.join(gvars['extra_mount_points'])}\")\n",
    "\n",
    "spec_worker.dns = [gvars[\"nfs_ipaddress\"]]\n",
    "\n",
    "# mdx利用時\n",
    "if 'ssh_user_name' in gvars:\n",
    "    spec_worker.user_name = gvars['ssh_user_name']"
   ]
  },
  {
   "cell_type": "markdown",
   "metadata": {
    "hidden": true
   },
   "source": [
    "`spec` の設定値を確認します。"
   ]
  },
  {
   "cell_type": "code",
   "execution_count": null,
   "metadata": {
    "hidden": true,
    "pinned_outputs": []
   },
   "outputs": [],
   "source": [
    "print(spec_worker)"
   ]
  },
  {
   "cell_type": "markdown",
   "metadata": {
    "hidden": true
   },
   "source": [
    "worker用VCノードを起動します。"
   ]
  },
  {
   "cell_type": "code",
   "execution_count": null,
   "metadata": {
    "hidden": true,
    "scrolled": true
   },
   "outputs": [],
   "source": [
    "unit_worker = ugroup.create_unit('worker', spec_worker)"
   ]
  },
  {
   "cell_type": "markdown",
   "metadata": {
    "hidden": true
   },
   "source": [
    "起動したVCノードの一覧を表示します。"
   ]
  },
  {
   "cell_type": "code",
   "execution_count": null,
   "metadata": {
    "hidden": true
   },
   "outputs": [],
   "source": [
    "unit_worker.df_nodes()"
   ]
  },
  {
   "cell_type": "markdown",
   "metadata": {
    "hidden": true
   },
   "source": [
    "#### workerノードに対するAnsibleの設定"
   ]
  },
  {
   "cell_type": "markdown",
   "metadata": {
    "hidden": true
   },
   "source": [
    "VCノードにSSHでログインできるようにするために `~/.ssh/known_hosts` の更新を行います。"
   ]
  },
  {
   "cell_type": "code",
   "execution_count": null,
   "metadata": {
    "hidden": true
   },
   "outputs": [],
   "source": [
    "!mkdir -p -m 0700 ~/.ssh\n",
    "!touch ~/.ssh/known_hosts\n",
    "for addr in unit_worker.find_ip_addresses():\n",
    "    !ssh-keygen -R {addr}\n",
    "    check_update_known_hosts(addr)\n",
    "    !ssh-keyscan -H {addr} >> ~/.ssh/known_hosts"
   ]
  },
  {
   "cell_type": "markdown",
   "metadata": {
    "hidden": true
   },
   "source": [
    "起動したVCノードに対応するエントリを Ansible のインベントリに登録します。\n",
    "\n",
    "> Ansibleで操作を行うためには、操作対象のホスト(IPアドレス)をインベントリに登録する必要があります。"
   ]
  },
  {
   "cell_type": "code",
   "execution_count": null,
   "metadata": {
    "hidden": true
   },
   "outputs": [],
   "source": [
    "inventory = {'all': {'children': {\n",
    "    ugroup.name: {\n",
    "        'children': {\n",
    "            f'{ugroup.name}_{unit_worker.name}': {\n",
    "                'hosts': dict([(x, dict(servicenet_ip=x)) for x in unit_worker.find_ip_addresses()]),\n",
    "            },\n",
    "        },\n",
    "    },\n",
    "}}}\n",
    "\n",
    "generate_edit_link(update_inventory_yml(inventory))"
   ]
  },
  {
   "cell_type": "markdown",
   "metadata": {
    "hidden": true
   },
   "source": [
    "次のセルを実行すると作成したインベントリの内容を表示します。インベントリの内容を変更したい場合は、上のセルの出力結果に表示しているリンクから編集することができます。"
   ]
  },
  {
   "cell_type": "code",
   "execution_count": null,
   "metadata": {
    "hidden": true,
    "scrolled": true
   },
   "outputs": [],
   "source": [
    "!cat inventory.yml"
   ]
  },
  {
   "cell_type": "markdown",
   "metadata": {
    "hidden": true
   },
   "source": [
    "UnitGroupに属する全てのVCノードに対して Ansible で接続できることを確認します。"
   ]
  },
  {
   "cell_type": "code",
   "execution_count": null,
   "metadata": {
    "hidden": true
   },
   "outputs": [],
   "source": [
    "!ansible {ugroup.name} -m ping"
   ]
  },
  {
   "cell_type": "markdown",
   "metadata": {
    "hidden": true
   },
   "source": [
    "#### NFSの設定"
   ]
  },
  {
   "cell_type": "markdown",
   "metadata": {
    "hidden": true
   },
   "source": [
    "workerノードにおけるNFSマウントの状態を確認します。`/exchange`, `/jupyter`のエントリが存在していることを確認してください。"
   ]
  },
  {
   "cell_type": "code",
   "execution_count": null,
   "metadata": {
    "hidden": true,
    "scrolled": true
   },
   "outputs": [],
   "source": [
    "!ansible {ugroup.name}_{unit_worker.name} -a 'mount -t nfs4'"
   ]
  },
  {
   "cell_type": "markdown",
   "metadata": {
    "hidden": true
   },
   "source": [
    "NFSサーバの `/etc/exports` の設定を更新します。NFSサーバにアクセスできるNFSクライアントをmanagerノード、workerノードのみとなるように設定します。"
   ]
  },
  {
   "cell_type": "code",
   "execution_count": null,
   "metadata": {
    "hidden": true
   },
   "outputs": [],
   "source": [
    "exports_opts = 'rw,fsid=0,no_root_squash,no_subtree_check,sync,crossmnt'\n",
    "with TemporaryDirectory() as workdir:\n",
    "    exports = Path(workdir) / f'{ugroup_name}.exports'\n",
    "    with exports.open(mode='w') as f:\n",
    "        for addr in unit_mgr.find_ip_addresses() + unit_worker.find_ip_addresses():\n",
    "            f.write(f'/exported/{ugroup_name} {addr}({exports_opts})\\n')\n",
    "    !cat {exports}\n",
    "    !ansible {nfs_target} -b -m copy -a \\\n",
    "        'src={exports} dest=/etc/exports.d/ backup=yes'"
   ]
  },
  {
   "cell_type": "markdown",
   "metadata": {
    "hidden": true
   },
   "source": [
    "設定ファイルを読み込ませてエクスポート設定を更新します。"
   ]
  },
  {
   "cell_type": "code",
   "execution_count": null,
   "metadata": {
    "hidden": true
   },
   "outputs": [],
   "source": [
    "!ansible {nfs_target} -b -a 'exportfs -r -v'"
   ]
  },
  {
   "cell_type": "markdown",
   "metadata": {
    "hidden": true
   },
   "source": [
    "NFSサーバ側に作成したファイルをNFSクライアント側で参照できることを確認します。"
   ]
  },
  {
   "cell_type": "code",
   "execution_count": null,
   "metadata": {
    "hidden": true,
    "scrolled": true
   },
   "outputs": [],
   "source": [
    "!ansible {nfs_target} -m file -a 'path=/exported/{ugroup.name}/jupyter/xxx state=touch'\n",
    "!ansible {nfs_target} -m file -a 'path=/exported/{ugroup.name}/exchange/xxx state=touch'\n",
    "!ansible {ugroup.name}_{unit_worker.name} -a 'test -f /jupyter/xxx'\n",
    "!ansible {ugroup.name}_{unit_worker.name} -a 'test -f /exchange/xxx'\n",
    "!ansible {ugroup.name}_{unit_worker.name} -m file -a 'path=/jupyter/xxx state=absent'\n",
    "!ansible {ugroup.name}_{unit_worker.name} -m file -a 'path=/exchange/xxx state=absent'"
   ]
  },
  {
   "cell_type": "markdown",
   "metadata": {
    "heading_collapsed": true
   },
   "source": [
    "## Docker Swarmの設定\n",
    "\n",
    "Docker Swarm の設定を行います。\n",
    "\n",
    "![Docker Swarm](images/cw-031-03.png)"
   ]
  },
  {
   "cell_type": "markdown",
   "metadata": {
    "hidden": true
   },
   "source": [
    "Docker Swarmの設定を行う前に、各VCノードで Docker Engine が実行されていることを確認します。"
   ]
  },
  {
   "cell_type": "code",
   "execution_count": null,
   "metadata": {
    "hidden": true,
    "scrolled": true
   },
   "outputs": [],
   "source": [
    "!ansible {ugroup.name} -a 'docker info'"
   ]
  },
  {
   "cell_type": "markdown",
   "metadata": {
    "hidden": true
   },
   "source": [
    "manager用VCノードで Docker Swarmの初期セットアップを行います。"
   ]
  },
  {
   "cell_type": "code",
   "execution_count": null,
   "metadata": {
    "hidden": true
   },
   "outputs": [],
   "source": [
    "!ansible {ugroup.name}_{unit_mgr.name} -a 'docker swarm init \\\n",
    "    --advertise-addr={manager_ipaddress} \\\n",
    "    --default-addr-pool={{{{docker_address_pool}}}}'"
   ]
  },
  {
   "cell_type": "markdown",
   "metadata": {
    "hidden": true
   },
   "source": [
    "トークンの値を取得します。"
   ]
  },
  {
   "cell_type": "code",
   "execution_count": null,
   "metadata": {
    "hidden": true
   },
   "outputs": [],
   "source": [
    "out = !ansible {ugroup.name}_{unit_mgr.name} -a 'docker swarm join-token -q worker' 2> /dev/null\n",
    "if out[0].find('CHANGED') >= 0 or out[0].find('SUCCESS') >= 0:\n",
    "    swarm_token = out[1]\n",
    "    print(swarm_token)\n",
    "else:\n",
    "    raise"
   ]
  },
  {
   "cell_type": "markdown",
   "metadata": {
    "hidden": true
   },
   "source": [
    "workerノードを追加します。"
   ]
  },
  {
   "cell_type": "code",
   "execution_count": null,
   "metadata": {
    "hidden": true
   },
   "outputs": [],
   "source": [
    "manager_ip = gvars['manager_ipaddress']\n",
    "!ansible {ugroup.name}_{unit_worker.name} -a \\\n",
    "    'docker swarm join --token {swarm_token} {manager_ip}:2377'"
   ]
  },
  {
   "cell_type": "markdown",
   "metadata": {
    "hidden": true
   },
   "source": [
    "Docker Swarmのノード一覧を表示します。"
   ]
  },
  {
   "cell_type": "code",
   "execution_count": null,
   "metadata": {
    "hidden": true,
    "scrolled": false
   },
   "outputs": [],
   "source": [
    "!ansible {ugroup.name}_{unit_mgr.name} -a 'docker node ls'"
   ]
  },
  {
   "cell_type": "markdown",
   "metadata": {
    "hidden": true
   },
   "source": [
    "Docker Swarmのノード数が起動したVCノードと一致していることを確認します。"
   ]
  },
  {
   "cell_type": "code",
   "execution_count": null,
   "metadata": {
    "hidden": true
   },
   "outputs": [],
   "source": [
    "!ansible {ugroup.name}_{unit_mgr.name} -m shell -a \\\n",
    "    'docker node ls -q'"
   ]
  },
  {
   "cell_type": "code",
   "execution_count": null,
   "metadata": {
    "hidden": true
   },
   "outputs": [],
   "source": [
    "!ansible {ugroup.name}_{unit_mgr.name} -m shell -a \\\n",
    "    'docker node ls'"
   ]
  },
  {
   "cell_type": "code",
   "execution_count": null,
   "metadata": {
    "hidden": true
   },
   "outputs": [],
   "source": [
    "!ansible {ugroup.name}_{unit_mgr.name} -m shell -a \\\n",
    "    'test $(docker node ls -q | wc -l) -eq {worker_nodes + 1}'"
   ]
  }
 ],
 "metadata": {
  "kernelspec": {
   "display_name": "Python 3",
   "language": "python",
   "name": "python3"
  },
  "language_info": {
   "file_extension": ".py",
   "mimetype": "text/x-python",
   "name": "python",
   "nbconvert_exporter": "python",
   "pygments_lexer": "ipython3",
   "version": "3.10.4"
  },
  "toc": {
   "base_numbering": 1,
   "nav_menu": {},
   "number_sections": true,
   "sideBar": true,
   "skip_h1_title": true,
   "title_cell": "Table of Contents",
   "title_sidebar": "Contents",
   "toc_cell": false,
   "toc_position": {},
   "toc_section_display": true,
   "toc_window_display": true
  }
 },
 "nbformat": 4,
 "nbformat_minor": 2
}