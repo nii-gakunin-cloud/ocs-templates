{
 "cells": [
  {
   "cell_type": "markdown",
   "id": "cell-0",
   "metadata": {},
   "source": [
    "# 学認連携設定ガイド\n",
    "\n",
    "CoursewareHubにおける学認（GakuNin）連携の詳細設定ガイドです。"
   ]
  },
  {
   "cell_type": "markdown",
   "id": "cell-1",
   "metadata": {},
   "source": [
    "## 概要\n",
    "\n",
    "学認連携により、学認フェデレーション参加機関のユーザがシングルサインオン（SSO）でCoursewareHubにアクセスできます。ユーザID管理が不要で、大規模利用や複数大学での共同講義に適しています。"
   ]
  },
  {
   "cell_type": "markdown",
   "id": "cell-2",
   "metadata": {},
   "source": [
    "## 学認連携の方式\n",
    "\n",
    "CoursewareHubでは以下の２つの学認連携方式を選択できます："
   ]
  },
  {
   "cell_type": "markdown",
   "id": "cell-3",
   "metadata": {},
   "source": [
    "### IdP-proxy経由の学認連携（推奨）\n",
    "\n",
    "**特徴:**\n",
    "\n",
    "* 自組織で構築するIdP-proxyサーバを経由\n",
    "* CoursewareHubとIdP-proxyの間はSAMLで連携\n",
    "* 学認フェデレーションへの直接参加が不要\n",
    "* IdP-proxy構築の負荷があるが、複数CoursewareHub環境では相対的に運用負荷軽減\n",
    "\n",
    "**システム構成:**\n",
    "\n",
    "![IdP-proxy経由の学認連携](notebooks/images/cw-221-01.png)\n",
    "\n",
    "**適用場面:**\n",
    "\n",
    "* 学認連携を簡単に導入したい場合\n",
    "* CoursewareHubを学認SPとして直接登録したくない場合\n",
    "* 複数のCoursewareHub環境で学認連携を利用したい場合"
   ]
  },
  {
   "cell_type": "markdown",
   "id": "cell-4",
   "metadata": {},
   "source": [
    "### 直接学認フェデレーション連携\n",
    "\n",
    "**特徴:**\n",
    "\n",
    "* CoursewareHub自体を学認SPとして直接登録\n",
    "* SAML認証を直接処理\n",
    "* IdP-proxyを経由しない直接的な連携\n",
    "\n",
    "**システム構成:**\n",
    "\n",
    "![直接学認フェデレーション連携](notebooks/images/cw-321-01.png)\n",
    "\n",
    "**適用場面:**\n",
    "\n",
    "* IdP-proxyを経由させたくない場合\n",
    "* 機関固有の認証要件がある場合"
   ]
  },
  {
   "cell_type": "markdown",
   "id": "cell-5",
   "metadata": {},
   "source": [
    "## 選択指針\n",
    "\n",
    "| 項目 | IdP-proxy経由 | 直接連携 |\n",
    "|------|---------------|----------|\n",
    "| **設定難易度** | 高（IdP-proxy構築含む） | 中 |\n",
    "| **運用負荷** | 複数環境では相対的に低 | 高 |\n",
    "| **学認参加申請** | 個別のCoursewareHubは不要<br>IdP-proxyは必要| 必要 |\n",
    "| **環境数での効率** | 複数環境で有利 | 単一環境向け |\n",
    "| **推奨度** | ★★★（複数環境時） | ★★ |\n",
    "\n",
    "**IdP-proxy経由を推奨する理由:**\n",
    "\n",
    "* 複数CoursewareHub環境での学認連携が効率的\n",
    "* 学認フェデレーションへの参加申請が不要\n",
    "* 一度IdP-proxyを構築すれば複数環境で共用可能"
   ]
  },
  {
   "cell_type": "markdown",
   "id": "cell-6",
   "metadata": {},
   "source": [
    "## 事前準備"
   ]
  },
  {
   "cell_type": "markdown",
   "id": "cell-7",
   "metadata": {},
   "source": [
    "### 共通要件\n",
    "\n",
    "* **NTP設定**: SAML認証では時刻同期が重要\n",
    "* **DNS設定**: CoursewareHubのFQDNが適切に解決できること\n",
    "* **SSL証明書**: CoursewareHub用のサーバ証明書"
   ]
  },
  {
   "cell_type": "markdown",
   "id": "cell-8",
   "metadata": {},
   "source": [
    "### IdP-proxy経由の場合\n",
    "\n",
    "* **IdP-proxy用SSL証明書**: IdP-proxyサーバ用のサーバ証明書と秘密鍵\n",
    "* **学認フェデレーション参加申請**: IdP-proxyの学認への申請が必要"
   ]
  },
  {
   "cell_type": "markdown",
   "id": "cell-9",
   "metadata": {},
   "source": [
    "### 直接連携の場合\n",
    "\n",
    "* **学認フェデレーション参加申請**: 学認への申請が必要"
   ]
  },
  {
   "cell_type": "markdown",
   "id": "cell-10",
   "metadata": {},
   "source": [
    "## 構築手順"
   ]
  },
  {
   "cell_type": "markdown",
   "id": "cell-11",
   "metadata": {},
   "source": [
    "### IdP-proxy経由での学認連携\n",
    "\n",
    "基本的なCoursewareHub環境構築後、以下の追加手順を実行します：\n",
    "\n",
    "#### IdP-proxyの構築\n",
    "\n",
    "1. [511-VCノード作成-IdP-proxy](notebooks/511-VCノード作成-IdP-proxy.ipynb)\n",
    "2. [521-IdP-proxyのセットアップ](notebooks/521-IdP-proxyのセットアップ.ipynb)\n",
    "\n",
    "#### 学認連携の設定\n",
    "\n",
    "1. [211-学認連携の設定を行う-IdP-proxyを利用する](notebooks/211-学認連携の設定を行う-IdP-proxyを利用する.ipynb)\n",
    "2. [541-IdP-proxyへauth-proxyのメタデータを登録する](notebooks/541-IdP-proxyへauth-proxyのメタデータを登録する.ipynb)"
   ]
  },
  {
   "cell_type": "markdown",
   "id": "cell-12",
   "metadata": {},
   "source": [
    "### 直接学認フェデレーション連携\n",
    "\n",
    "* [311-学認連携の設定を行う-直接学認フェデレーションを利用する](notebooks/311-学認連携の設定を行う-直接学認フェデレーションを利用する.ipynb)\n",
    "    * SAML認証設定\n",
    "    * 学認フェデレーション参加申請"
   ]
  },
  {
   "cell_type": "markdown",
   "id": "cell-13",
   "metadata": {},
   "source": [
    "## 関連Notebook一覧"
   ]
  },
  {
   "cell_type": "markdown",
   "id": "cell-14",
   "metadata": {},
   "source": [
    "### IdP-proxy関連\n",
    "\n",
    "| Notebook | 用途 | 実行タイミング |\n",
    "|----------|------|----------------|\n",
    "| [511: VCノード作成--IdP-proxy](notebooks/511-VCノード作成-IdP-proxy.ipynb) | IdP-proxy用ノード作成 | 初期構築時 |\n",
    "| [521: IdP-proxyセットアップ](notebooks/521-IdP-proxyのセットアップ.ipynb) | IdP-proxy構築 | 初期構築時 |\n",
    "| [541: メタデータ登録](notebooks/541-IdP-proxyへauth-proxyのメタデータを登録する.ipynb) | メタデータ登録 | 連携設定時 |\n",
    "| [591: IdP-proxy削除](notebooks/591-IdP-proxyの削除.ipynb) | 環境削除 | 廃止時 |"
   ]
  },
  {
   "cell_type": "markdown",
   "id": "cell-15",
   "metadata": {},
   "source": [
    "### 学認連携関連\n",
    "\n",
    "| Notebook | 認証方式 | 用途 |\n",
    "|----------|----------|------|\n",
    "| [211: 学認連携--IdP-proxy](notebooks/211-学認連携の設定を行う-IdP-proxyを利用する.ipynb) | IdP-proxy経由 | 推奨方式での連携設定 |\n",
    "| [311: 学認連携--直接連携](notebooks/311-学認連携の設定を行う-直接学認フェデレーションを利用する.ipynb) | 直接SP登録 | 高度な設定での連携 |"
   ]
  },
  {
   "cell_type": "markdown",
   "metadata": {},
   "source": [
    "### Notebookの関連について\n",
    "\n",
    "各Notebookの実行順序などの関係性を示す図を表示します。"
   ]
  },
  {
   "cell_type": "markdown",
   "metadata": {},
   "source": [
    "#### IdP-proxy経由の場合"
   ]
  },
  {
   "cell_type": "code",
   "execution_count": null,
   "metadata": {
    "scrolled": false
   },
   "outputs": [],
   "source": [
    "from IPython.display import SVG\n",
    "%run scripts/nb_utils.py\n",
    "SVG(filename=generate_svg_diag(diag='images/notebooks-idp.diag'))"
   ]
  },
  {
   "cell_type": "markdown",
   "metadata": {},
   "source": [
    "#### 直接学認フェデレーション連携"
   ]
  },
  {
   "cell_type": "code",
   "execution_count": null,
   "metadata": {},
   "outputs": [],
   "source": [
    "from IPython.display import SVG\n",
    "%run scripts/nb_utils.py\n",
    "SVG(filename=generate_svg_diag(diag='images/notebooks-gakunin.diag'))"
   ]
  },
  {
   "cell_type": "markdown",
   "metadata": {},
   "source": [
    "## 作業用Notebookの作成\n",
    "\n",
    "この節のセルを実行することで、テンプレートのNotebookから作業用Notebookを作成することができます。\n",
    "\n",
    "> このnotebookでは学認連携設定を行うまでのnotebookだけを対象としています。環境構築後の運用、管理に関する作業用Notebookを作成する場合は[000-README.ipynb](000-README.ipynb)を実行してください。"
   ]
  },
  {
   "cell_type": "markdown",
   "metadata": {},
   "source": [
    "作業用Notebookを配置するディレクトリを指定してください。"
   ]
  },
  {
   "cell_type": "code",
   "execution_count": null,
   "metadata": {},
   "outputs": [],
   "source": [
    "WORK_DIR = 'work'"
   ]
  },
  {
   "cell_type": "markdown",
   "metadata": {},
   "source": [
    "### IdP-proxy経由の場合\n"
   ]
  },
  {
   "cell_type": "markdown",
   "metadata": {},
   "source": [
    "以下のセルを実行すると、Notebook名のドロップダウンリストと「作業開始」ボタンが現れます。\n",
    "「作業開始」ボタンを押すと、テンプレートのNotebookをコピーし、そのNotebookを自動的にブラウザで開きます。\n",
    "Notebookの説明を確認しながら実行、適宜修正しながら実行していってください。\n",
    "\n",
    "> このNotebookを Shutdown した後に再度開いた場合、次のセルに既に表示されている「作業開始」ボタンが正しく動作しません。この節のセルをいったん unfreeze した後、セルを再実行してから「作業開始」ボタンをクリックして下さい。"
   ]
  },
  {
   "cell_type": "code",
   "execution_count": null,
   "metadata": {},
   "outputs": [],
   "source": [
    "from IPython.core.display import HTML\n",
    "%run scripts/nb_utils.py\n",
    "setup_nb_workdir(WORK_DIR)\n",
    "nb_pattern = \"[0125]*-*.ipynb\"\n",
    "HTML(generate_html_work_nbs(WORK_DIR, nb_pattern, \"cwh\"))"
   ]
  },
  {
   "cell_type": "markdown",
   "metadata": {},
   "source": [
    "### 直接学認フェデレーション連携"
   ]
  },
  {
   "cell_type": "markdown",
   "metadata": {},
   "source": [
    "以下のセルを実行すると、Notebook名のドロップダウンリストと「作業開始」ボタンが現れます。\n",
    "「作業開始」ボタンを押すと、テンプレートのNotebookをコピーし、そのNotebookを自動的にブラウザで開きます。\n",
    "Notebookの説明を確認しながら実行、適宜修正しながら実行していってください。"
   ]
  },
  {
   "cell_type": "code",
   "execution_count": null,
   "metadata": {},
   "outputs": [],
   "source": [
    "from IPython.core.display import HTML\n",
    "%run scripts/nb_utils.py\n",
    "setup_nb_workdir(WORK_DIR)\n",
    "nb_pattern = \"[013]*-*.ipynb\"\n",
    "HTML(generate_html_work_nbs(WORK_DIR, nb_pattern, \"cwh\"))"
   ]
  }
 ],
 "metadata": {
  "kernelspec": {
   "display_name": "Python 3",
   "language": "python",
   "name": "python3"
  },
  "language_info": {
   "file_extension": ".py",
   "mimetype": "text/x-python",
   "name": "python",
   "nbconvert_exporter": "python",
   "pygments_lexer": "ipython3",
   "version": "3.10.11"
  },
  "toc": {
   "base_numbering": 1,
   "nav_menu": {},
   "number_sections": true,
   "sideBar": true,
   "skip_h1_title": true,
   "title_cell": "Table of Contents",
   "title_sidebar": "Contents",
   "toc_cell": false,
   "toc_position": {},
   "toc_section_display": true,
   "toc_window_display": false
  }
 },
 "nbformat": 4,
 "nbformat_minor": 4
}