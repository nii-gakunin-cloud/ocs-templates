{
 "cells": [
  {
   "cell_type": "markdown",
   "metadata": {},
   "source": [
    "# ログ解析\n",
    "\n",
    "---\n",
    "\n",
    "各種アプリケーションテンプレートで構築された環境から出力されるログを収集・解析・可視化する"
   ]
  },
  {
   "cell_type": "markdown",
   "metadata": {},
   "source": [
    "## 概要\n",
    "\n",
    "このディレクトリは、各種アプリケーションテンプレートで構築された環境から出力されるログを収集・解析・可視化するためのツールや設定手順をまとめたものです。\n",
    "\n",
    "現在はCoursewareHub環境を対象とし、Jupyter Notebook環境のlc_wrapper（Jupyter-LC_wrapper）が出力する実行ログを扱います。以下の技術スタックを使用します：\n",
    "\n",
    "- **Fluentd**: ログの収集・構造化・転送\n",
    "- **Elasticsearch**: ログデータの蓄積・検索\n",
    "- **Kibana**: ログデータの可視化・分析\n",
    "\n",
    "CoursewareHub環境では、notebookセルに付与されるMEME IDを活用して、各受講者のnotebook実行状況を詳細に追跡・分析し、学習活動の可視化を支援します。今後は他のアプリケーションテンプレートで出力される各種ログ（アプリケーション固有のログやシステムログ等）への対応拡張を予定しています。"
   ]
  },
  {
   "cell_type": "markdown",
   "metadata": {},
   "source": [
    "## notebook一覧\n",
    "\n",
    "### [201-CoursewareHub-notebook実行状況の可視化.ipynb](notebooks/201-CoursewareHub-notebook実行状況の可視化.ipynb)\n",
    "\n",
    "CoursewareHub環境のlc_wrapperログを収集・可視化するメインのnotebookです。\n",
    "\n",
    "**主な機能:**\n",
    "- lc_wrapperログの収集・処理設定\n",
    "- MEME IDの収集と通し番号の割り当て\n",
    "- ユーザ情報の付加（アカウント名、UID等）\n",
    "- Elasticsearchインデックステンプレートの設定\n",
    "- Kibanaデータビューの登録\n",
    "- 可視化ダッシュボードの作成\n",
    "\n",
    "**出力される可視化:**\n",
    "- ヒートマップ: ユーザ別・セル別の実行回数表示\n",
    "- 積み上げ棒グラフ: ユーザ別の実行セル数表示\n",
    "\n",
    "### [801-検証用Elasticsearch,Kibanaの構築.ipynb](notebooks/801-検証用Elasticsearch,Kibanaの構築.ipynb)\n",
    "\n",
    "検証用の簡易Elasticスタック環境を構築するnotebookです。\n",
    "\n",
    "**特徴:**\n",
    "- 1ノード構成のElasticsearch/Kibana\n",
    "- 認証機能無効（セキュリティ設定なし）\n",
    "- Docker Composeによるコンテナベース構築\n",
    "- 検証・テスト用途に最適化"
   ]
  },
  {
   "cell_type": "markdown",
   "metadata": {},
   "source": [
    "## 利用手順\n",
    "\n",
    "機能確認を行うために検証環境から始めることを推奨します。\n",
    "\n",
    "### 前提条件\n",
    "\n",
    "検証・実運用いずれの場合でも、以下の条件が必要です：\n",
    "\n",
    "- **CoursewareHub環境**: 稼働中のCoursewareHub環境\n",
    "- **single-userサーバ**: lc_wrapper（Jupyter-LC_wrapper）が有効化されていること\n",
    "- **CoursewareHub実行環境**: Fluentdがインストール・設定されていること\n",
    "  - 注記: OCSテンプレートで構築したCoursewareHubでは自動的にこの条件を満たします\n",
    "\n",
    "### 検証での利用手順\n",
    "\n",
    "機能テストや設定検証を行う場合の手順です。\n",
    "\n",
    "**追加前提条件（検証用Elasticsearch/Kibana環境の構築に必要）:**\n",
    "- Docker Engine、Docker Composeが利用可能\n",
    "- 十分なリソース（メモリ4GB以上推奨）\n",
    "- ネットワークポート（9200, 5601）が利用可能\n",
    "\n",
    "**手順:**\n",
    "\n",
    "1. **検証用Elasticsearch/Kibana環境の構築**\n",
    "   - `801-検証用Elasticsearch,Kibanaの構築.ipynb`を実行\n",
    "   - シングルノード構成のElasticsearch/Kibanaを構築（認証なし）\n",
    "\n",
    "2. **ログ分析機能の検証**\n",
    "   - `201-CoursewareHub-notebook実行状況の可視化.ipynb`を実行\n",
    "   - 検証環境への接続パラメータを設定\n",
    "   - サンプルデータでの動作確認\n",
    "\n",
    "3. **機能確認とテスト**\n",
    "   - Fluentdプラグインの動作テスト\n",
    "   - Elasticsearch/Kibanaの設定確認\n",
    "   - ダッシュボード表示の検証\n",
    "\n",
    "### 実運用での利用手順\n",
    "\n",
    "CoursewareHub環境の本格的なログ分析を行う場合の手順です。\n",
    "\n",
    "**追加前提条件:**\n",
    "- **Elasticsearch/Kibana環境**: 本番用クラスタ（認証設定有効）へのアクセス権\n",
    "\n",
    "**手順:**\n",
    "\n",
    "1. **201-notebookの実行**\n",
    "   - `201-CoursewareHub-notebook実行状況の可視化.ipynb`を実行\n",
    "   - 本番Elasticsearch/Kibana環境への接続パラメータ設定\n",
    "   - 認証情報（ユーザー名、パスワード等）の設定\n",
    "   - Fluentd設定の配備\n",
    "   - カスタムプラグインの展開\n",
    "   - Elasticsearch インデックステンプレートの設定\n",
    "\n",
    "2. **可視化設定と運用開始**\n",
    "   - Kibanaデータビューの登録\n",
    "   - ダッシュボードの作成・設定\n",
    "   - リアルタイム監視の開始\n",
    "   - 受講者の学習進捗状況の分析\n",
    "\n",
    "### 検証から実運用への移行\n",
    "\n",
    "検証環境で機能確認を完了した後、実運用環境に移行する際の手順です。\n",
    "\n",
    "**移行手順:**\n",
    "\n",
    "1. **201-notebookの実行**\n",
    "   - `201-CoursewareHub-notebook実行状況の可視化.ipynb`を開く\n",
    "   - 接続パラメータを本番環境用に変更（Elasticsearch/KibanaのURL等）\n",
    "   - 認証情報（ユーザー名、パスワード、APIキー等）を設定\n",
    "   - Fluentd設定の配備\n",
    "\n",
    "2. **本番環境での動作確認**\n",
    "   - 接続テストの実行\n",
    "   - データ投入・可視化の動作確認\n",
    "\n",
    "**実運用Elasticsearch/Kibana環境:**\n",
    "\n",
    "実運用を行う際に利用するElasticsearch/Kibana環境では、以下の要件を備えた環境を推奨します:\n",
    "\n",
    "- **認証・セキュリティ**: 認証機能の有効化、適切なユーザー権限管理、セキュリティ設定の実装\n",
    "- **通信暗号化**: HTTPS/TLS通信による暗号化、適切な証明書管理\n",
    "- **冗長性・可用性**: マルチノードクラスタ構成による高可用性、障害時の自動復旧機能\n",
    "- **処理性能・スケーラビリティ**: 大量ログデータ処理に対応した十分なリソース、適切なインデックス設計とパフォーマンス調整"
   ]
  },
  {
   "cell_type": "markdown",
   "metadata": {},
   "source": [
    "## 作業用Notebookの作成\n",
    "\n",
    "この節のセルを実行することで、お手本Notebookから作業用Notebookを作成することができます。"
   ]
  },
  {
   "cell_type": "markdown",
   "metadata": {},
   "source": [
    "作業用Notebookを配置するディレクトリを次のセルで指定してください。"
   ]
  },
  {
   "cell_type": "code",
   "execution_count": null,
   "metadata": {},
   "outputs": [],
   "source": [
    "WORK_DIR = 'work'"
   ]
  },
  {
   "cell_type": "markdown",
   "metadata": {},
   "source": [
    " 次のセルを実行すると、Notebook名のドロップダウンリストと「作業開始」ボタンが現れます。\n",
    "「作業開始」ボタンを押すと、お手本Notebookのコピーを作成した後、自動的にブラウザでコピーが開きます。\n",
    "Notebookの説明を確認しながら実行、適宜修正しながら実行していってください。\n",
    "> このNotebookを Shutdown した後に再度開いた場合、次のセルに既に表示されている「作用開始」ボタンが正しく動作しません。この節のセルをいったん unfreeze した後、セルを再実行してから「作業開始」ボタンをクリックして下さい。"
   ]
  },
  {
   "cell_type": "code",
   "execution_count": null,
   "metadata": {},
   "outputs": [],
   "source": [
    "from IPython.core.display import HTML\n",
    "%run scripts/nb_utils.py\n",
    "setup_nb_workdir(WORK_DIR, nb_dir='notebooks')\n",
    "HTML(generate_html_work_nbs(WORK_DIR, nb_dir='notebooks'))"
   ]
  }
 ],
 "metadata": {
  "kernelspec": {
   "display_name": "Python 3",
   "language": "python",
   "name": "python3"
  },
  "language_info": {
   "file_extension": ".py",
   "mimetype": "text/x-python",
   "name": "python",
   "nbconvert_exporter": "python",
   "pygments_lexer": "ipython3",
   "version": "3.10.11"
  },
  "toc": {
   "base_numbering": 1,
   "nav_menu": {},
   "number_sections": true,
   "sideBar": true,
   "skip_h1_title": true,
   "title_cell": "Table of Contents",
   "title_sidebar": "Contents",
   "toc_cell": false,
   "toc_position": {},
   "toc_section_display": "block",
   "toc_window_display": true
  }
 },
 "nbformat": 4,
 "nbformat_minor": 2
}
