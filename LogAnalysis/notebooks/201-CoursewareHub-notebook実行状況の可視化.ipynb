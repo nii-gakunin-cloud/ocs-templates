{
 "cells": [
  {
   "cell_type": "markdown",
   "id": "9a8bfd18",
   "metadata": {},
   "source": [
    "# CoursewareHub-実行状況の可視化\n",
    "\n",
    "---\n",
    "CoursewareHubのsingle-userサーバからnotebookの実行ログを収集し、各ユーザの実行状況を可視化します。"
   ]
  },
  {
   "cell_type": "markdown",
   "id": "9863ed68",
   "metadata": {},
   "source": [
    "## 概要"
   ]
  },
  {
   "cell_type": "markdown",
   "id": "e9fb05e8",
   "metadata": {},
   "source": [
    "Jupyter Notebook環境に[Jupyter-LC_wrapper](https://github.com/NII-cloud-operation/Jupyter-LC_wrapper)（以下でlc_wrapperと記す）を追加するとnotebookの実行結果に関する情報をログとして記録できるようになります。このログには、実行したセルを特定するMEME ID、実行したユーザのUID、実行したコード、実行開始時刻、実行終了時刻などの情報が記録されます。CoursewareHubが実行するsingle-userサーバからlc_wrapperのログを収集することにより各ユーザのnotebook実行状況を把握することができます。"
   ]
  },
  {
   "cell_type": "markdown",
   "id": "a16a2406",
   "metadata": {},
   "source": [
    "このnotebookではsingle-userサーバのlc_wrapperのログをfluentdに送信し、そのログをElasticsearchで収集する環境を構築します。また収集したログをKibanaで可視化し、各ユーザの進捗状況を確認できるようにします。\n",
    "\n",
    "![全体構成](images/fluentd-201-01.png)"
   ]
  },
  {
   "cell_type": "markdown",
   "id": "0fee7275",
   "metadata": {},
   "source": [
    "### 前提条件"
   ]
  },
  {
   "cell_type": "markdown",
   "id": "6b37058a",
   "metadata": {},
   "source": [
    "このnotebookを実行するための前提条件を以下に示します。\n",
    "\n",
    "* ログの送信元となるCoursewareHubが構築済みであること\n",
    "* ログの収集先となるElasticsearch、可視化で利用するKibanaが構築済みであること\n",
    "* CoursewareHubのsingle-userサーバでlc_wrapperが有効になっていること\n"
   ]
  },
  {
   "cell_type": "markdown",
   "id": "79c09de6",
   "metadata": {},
   "source": [
    "Elasticsearch, Kibanaの構築には以下に示すnotebookを利用することができます。\n",
    "\n",
    "* [801-開発用Elasticsearch,Kibanaの構築.ipynb](notebook/801-開発用Elasticsearch%2CKibanaの構築.ipynb)\n",
    "\n",
    "ただし、上記のnotebookで構築するElasticsearch, Kibanaは開発用の簡易構成となっているため実運用には適していません。"
   ]
  },
  {
   "cell_type": "markdown",
   "id": "8a7ac6df",
   "metadata": {
    "heading_collapsed": true
   },
   "source": [
    "### lc_wrapper\n",
    "\n",
    "single-userサーバからnotebookの実行ログを取得するためにlc_wrapperを利用します。"
   ]
  },
  {
   "cell_type": "markdown",
   "id": "8217be98",
   "metadata": {
    "hidden": true
   },
   "source": [
    "CoursewareHubが実行するデフォルトのsingle-userサーバではlc_wrapperが有効になっています。\n",
    "\n",
    "CoursewareHubのテンプレートにあるnotebook「[731-講義用Notebook環境のイメージ登録.ipynb](https://github.com/nii-gakunin-cloud/ocs-templates/blob/master/CoursewareHub/notebooks/731-%E8%AC%9B%E7%BE%A9%E7%94%A8Notebook%E7%92%B0%E5%A2%83%E3%81%AE%E3%82%A4%E3%83%A1%E3%83%BC%E3%82%B8%E7%99%BB%E9%8C%B2.ipynb)」の手順でsingle-userサーバのコンテナイメージをカスタマイズする場合は、以下のモジュールを追加するようにしてください。\n",
    "\n",
    "* [Jupyter-LC_wrapper](https://github.com/NII-cloud-operation/Jupyter-LC_wrapper)\n",
    "* [Jupyter-LC_nblineage](https://github.com/NII-cloud-operation/Jupyter-LC_nblineage)\n",
    "* [Jupyter-multi_outputs](https://github.com/NII-cloud-operation/Jupyter-multi_outputs)"
   ]
  },
  {
   "cell_type": "markdown",
   "id": "a8b8583a",
   "metadata": {
    "hidden": true
   },
   "source": [
    "カスタムイメージの定義例として、以下に示す２つのレポジトリがあります。\n",
    "\n",
    "* [cwh-custom-image-seaborn](https://github.com/nii-gakunin-cloud/cwh-custom-image-seaborn.git)\n",
    "* [cwh-custom-image-network-command](https://github.com/nii-gakunin-cloud/cwh-custom-image-network-command.git)\n",
    "\n",
    "`main`ブランチでは簡潔な例を示すためlc_wrapperが追加されていません。それぞれのレポジトリには`lc_wrapper`ブランチがあり`main`ブランチの内容にlc_wrapperを追加されたものとなっています。"
   ]
  },
  {
   "cell_type": "markdown",
   "id": "ccd88753",
   "metadata": {
    "hidden": true
   },
   "source": [
    "`lc_wrapper`ブランチの定義をカスタムイメージとして登録するにはCoursewareHubの管理画面の[Environments]から[Add New]ボタンを選択すると表示される[Create Environment]ダイアログで**Reference (git commit)**欄にブランチ名を入力してください。\n",
    "\n",
    "![CoursewareHubイメージビルド](images/fluentd-201-02.png)\n",
    "\n",
    "ビルドしたコンテナイメージでlc_wrapperが有効になっていることを確認するには、起動したsingle-userサーバのterminalで`jupyter-nbextension list`を実行してください。以下のような表示となり`lc_wrapper`が有効になっていることが確認できます。\n",
    "\n",
    "```console\n",
    "$ jupyter-nbextension list\n",
    "Known nbextensions:\n",
    "  config dir: /srv/conda/envs/notebook/etc/jupyter/nbconfig\n",
    "    notebook section\n",
    "      jupyter_resource_usage/main  enabled\n",
    "      - Validating: OK\n",
    "      jupyter-offlinenotebook/main  enabled\n",
    "      - Validating: OK\n",
    "      jupyter-js-widgets/extension  enabled\n",
    "      - Validating: OK\n",
    "      nblineage/main  enabled\n",
    "      - Validating: OK\n",
    "      multi_outputs/main  enabled\n",
    "      - Validating: OK\n",
    "      lc_wrapper/main  enabled\n",
    "      - Validating: OK\n",
    "```"
   ]
  },
  {
   "cell_type": "markdown",
   "id": "2f7c5a92",
   "metadata": {
    "heading_collapsed": true
   },
   "source": [
    "### ログデータ\n",
    "\n",
    "Elasticsearchで収集するログデータにどのような値が含まれているのかについて説明します。"
   ]
  },
  {
   "cell_type": "markdown",
   "id": "b0be0b3c",
   "metadata": {
    "hidden": true
   },
   "source": [
    "#### lc_wrapper\n",
    "\n",
    "single-userサーバでnotebookのコードセルを実行するとlc_wrapperにより実行ログがfluentdに送信されます。送信されるログに含まれている主な値を次表に示します。"
   ]
  },
  {
   "cell_type": "markdown",
   "id": "1aa937b4",
   "metadata": {
    "hidden": true
   },
   "source": [
    "|フィールド名|説明|例|\n",
    "|:---|:---|:---|\n",
    "|lc_cell_meme|セルのMEME ID|1a339f04-3e8f-11ef-91c2-02420a640009-3-c957-e4b7-54b0|\n",
    "|start_time|セルの実行開始時刻|Sep 1, 2024 @ 13:30:00.000|\n",
    "|end_time|セルの実行終了時刻|Sep 1, 2024 @ 13:30:00.000|\n",
    "|execute_reply_status|実行状態|ok|\n",
    "|input|セルの入力値|print(math.sin(1)); math.cos(1)|\n",
    "|output|コードの実行による標準出力、標準エラー|0.8414709848078965|\n",
    "|result|セルの出力結果を記録したパス|/home/user01xacca0c/python-basic/.log/20240901/20240901-043000-0280-0.pkl|\n",
    "|uid|利用者のUID|1001|\n",
    "|gid|利用者のGID|1100|\n",
    "|lc_notebook_meme|notebookのMEME ID|1a339e00-3e8f-11ef-91c2-02420a640009|\n",
    "|notebook_path|notebookのパス|ex01.ipynb|\n",
    "|server_signature|サーバのsignature|89e27d08-7a39-11ef-a663-02420a640015|\n",
    "\n",
    "lc_wrapperが記録する`start_time`, `end_time`の値はエポック秒です。Elasticsearchではそれらの値を`date`型としてパースするので日時値として表示されます。\n",
    "\n",
    "`output`にはセルを実行した際に標準出力、標準エラーに出力された値が記録されます。セルの実行結果として表示される`Out[1]`などの値はlc_wrapperがfluentdに送信するログからは除外されています。それらの値はfluentdに送信されるログとは別にsingle-userサーバのファイルに記録されます。fluentdに送信されるログにはセルの実行結果を記録したファイルのパスのみが`result`フィールドに記録されます（セルの出力結果がある場合）。\n"
   ]
  },
  {
   "cell_type": "markdown",
   "id": "da62c214",
   "metadata": {
    "hidden": true
   },
   "source": [
    "#### セルの実行結果\n",
    "\n",
    "lc_wrapperにより別ファイルに記録されたセルの実行結果の内容を読み込みfluentdの送信ログに追加します。この追加処理はfluentdのfilterプラグインで実施します。"
   ]
  },
  {
   "cell_type": "markdown",
   "id": "4d43dbfb",
   "metadata": {
    "hidden": true
   },
   "source": [
    "追加するフィールドを次表に示します。lc_wrapperログの`result`フィールドに対応する値を追加します。"
   ]
  },
  {
   "cell_type": "markdown",
   "id": "7dae12c6",
   "metadata": {
    "hidden": true
   },
   "source": [
    "|フィールド名|説明|例|\n",
    "|:---|:---|:---|\n",
    "|result_json|セル出力結果をJSONエンコードした値|{\"content\":{\"execution_count\":13,\"metadata\":{},\"data\":{\"text/plain\":\"0.5403023058681398\"}},\"msg_type\":\"execute_result\"}|\n",
    "|result_text|セルの出力結果テキスト部分|0.5403023058681398|\n",
    "\n",
    "セルの出力結果はlc_wrapperによって[pickle](https://docs.python.org/ja/3.13/library/pickle.html)形式で直列化されファイルに保存されています。このファイルのパスはfluentdのログの`result`フィールドに記録されています。fluentdのfilterプラグインでこのファイルを読み込み、内容をJSON形式に変換したものを`result_json`フィールドに追加します。さらに`result_json`からテキスト部分（\"text/plain\"）のみを抽出し`result_text`フィールドとして追加します。\n",
    "\n",
    "`result_text`として`result_json`からどの部分を抽出するかについては「[5.2 セル実行結果からテキスト部分の抽出](#セル実行結果からテキスト部分の抽出)」で設定することができます。"
   ]
  },
  {
   "cell_type": "markdown",
   "id": "29094d97",
   "metadata": {
    "hidden": true
   },
   "source": [
    "#### ユーザ情報\n",
    "\n",
    "lc_wrapperから送信されるログにはユーザ情報として`uid`フィールドしか含まれていません。ユーザを識別しやすくするため、CoursewareHubのmanagerノードのpasswdを参照し、アカウント名などの情報を付加します。この追加処理はfluentdのfilterプラグインで実施します。"
   ]
  },
  {
   "cell_type": "markdown",
   "id": "7d7e67c1",
   "metadata": {
    "hidden": true
   },
   "source": [
    "追加するフィールドを次表に示します。lc_wrapperログの`uid`フィールドに対応する値を追加します。\n",
    "\n",
    "|フィールド名|説明|例|\n",
    "|:---|:---|:---|\n",
    "|user_name|アカウント名|user01xacca0c|\n",
    "|local_name|メールアドレスのローカルパート|user01|\n",
    "\n",
    "CoursewareHubではユーザの識別子としてメールアドレスを用いています。上記の表の`local_name`は、このメールアドレスからローカルパートを抜き出した値となっています。そのため`local_name`の値は複数のユーザで重複する可能性があることに注意してください。"
   ]
  },
  {
   "cell_type": "markdown",
   "id": "db277d0a",
   "metadata": {
    "hidden": true
   },
   "source": [
    "#### セルの通番"
   ]
  },
  {
   "cell_type": "markdown",
   "id": "cc18fdac",
   "metadata": {
    "hidden": true
   },
   "source": [
    "lc_wrapperログの`lc_cell_meme`フィールドの値を確認することで、single-userサーバでどのセルが実行されたのかを特定することができます。しかし、各ユーザの進捗状況を可視化するには単にセルを特定するだけではなく、notebookにおけるセルの記述順序などの情報もあった方が処理しやすくなります。\n",
    "\n",
    "そこでCoursewareHubの教材としてリリースされたnotebookが配置されているディレクトリ`/jupyter/admin/textbook`からコードセルのMEME IDを収集し、それらのセルに通番を割り当てる処理を事前に行います。収集した情報はCSVファイルとして保存しておき、fluentdのfilterプラグインでlc_wrapperログの`lc_cell_meme`に対応するフィールドを追加するようにします。"
   ]
  },
  {
   "cell_type": "markdown",
   "id": "ceb4e6a8",
   "metadata": {
    "hidden": true
   },
   "source": [
    "追加するフィールドを次表に示します。\n",
    "\n",
    "|フィールド名|説明|例|\n",
    "|:---|:---|:---|\n",
    "|qno|コードセルの通し番号|00-000|\n",
    "|qlabel|実行したセルの直前にあるmarkdownセルから抽出した文字列|問1-1|\n",
    "|lc_cell_meme_uuid|セルのMEME IDからブランチ番号を除いた値|1a339f04-3e8f-11ef-91c2-02420a640009|\n",
    "|textbook_path|リリースしたtextbookのパス|python-basic/ex01.ipynb|\n",
    "|course_server|CoursewareHubのコース名|python-basic|\n",
    "\n",
    "`qno`はnotebook毎のコードセル順を得るための通し番号となっています。`-`の前にある値がnotebook毎に割り当てた番号で、後にある値がnotebook内のコードセルの通し番号となっています。\n",
    "\n",
    "`qlabel`はコードセルの直前にあるmarkdownセルからパターンマッチにより抽出した文字列になります。これはmarkdownセルの記述内容から設問番号などの文字列を取得することを想定しています。このフィールドは「[3.1 MEME IDに関するパラメータの指定](#MEME-IDに関するパラメータの指定)」で`qlabel_pattern`を指定した場合にのみ追加されます。\n",
    "\n",
    "`textbook_path`は、リリースした教材のディレクトリにあるnotebookのMEME IDとlc_wrapperログに記録された`lc_notebook_meme`が一致するファイルのパスになります。基本的には`notebook_path`と同じ値になりますが、[CoursewareHub](https://github.com/NII-cloud-operation/CoursewareHub-LC_platform)の複数コース機能を利用して運用している場合は`textbook_path`と`notebook_path`で異なる値が記録されます。`textbook_path`ではコース名に対応するディレクトリが付加された値になりますが、`notebook_path`はコース名部分が省かれたパスになります。\n",
    "\n",
    "`course_server`は、`textbook_path`のディレクトリ部分を抽出した値になります。`textbook_path`にディレクトリ部分がないパスが記録されている場合は`course_server`の値は空になります。CoursewareHubの複数コース機能を利用して運用している場合、`course_server`にはコース名に相当する値が記録されることになります。"
   ]
  },
  {
   "cell_type": "markdown",
   "id": "163b6f4c",
   "metadata": {},
   "source": [
    "## 準備\n",
    "\n",
    "構築対象となるホストやサービスのアドレスを指定してアクセスできることを確認します。"
   ]
  },
  {
   "cell_type": "markdown",
   "id": "be6b8c72",
   "metadata": {},
   "source": [
    "### パラメータの指定\n",
    "\n",
    "接続先となるホストやサービスのアドレスなどを指定します。"
   ]
  },
  {
   "cell_type": "markdown",
   "id": "ed1b86ae",
   "metadata": {},
   "source": [
    "#### CoursewareHub\n",
    "\n",
    "CoursewareHubのmanagerノードに接続するためのパラメータを指定します。"
   ]
  },
  {
   "cell_type": "markdown",
   "id": "c4519ead",
   "metadata": {},
   "source": [
    "managerノードのIPアドレスを次のセルで指定してください。\n",
    "\n",
    "> 外部公開用のアドレスではなく内部ネットワークのIPアドレスを指定してください。"
   ]
  },
  {
   "cell_type": "code",
   "execution_count": null,
   "id": "7aa550ed",
   "metadata": {},
   "outputs": [],
   "source": [
    "# (例)\n",
    "# cwh_hostname = \"172.30.2.100\"\n",
    "\n",
    "cwh_hostname = "
   ]
  },
  {
   "cell_type": "markdown",
   "id": "6ddc33f9",
   "metadata": {},
   "source": [
    "接続先のユーザ名を指定してください。"
   ]
  },
  {
   "cell_type": "code",
   "execution_count": null,
   "id": "2c5264c7",
   "metadata": {},
   "outputs": [],
   "source": [
    "# (例)\n",
    "# cwh_ssh_user = \"vcp\"\n",
    "\n",
    "cwh_ssh_user = "
   ]
  },
  {
   "cell_type": "markdown",
   "id": "2bf6983e",
   "metadata": {},
   "source": [
    "SSH公開鍵認証で接続するための秘密鍵のパスを指定してください。指定する値はこのnotebookを実行しているJupyter Notebook環境におけるパスを指定して下さい。また、ペアとなる公開鍵を接続先となるホストに事前に登録しておいてください。"
   ]
  },
  {
   "cell_type": "code",
   "execution_count": null,
   "id": "966ce1fc",
   "metadata": {},
   "outputs": [],
   "source": [
    "# (例)\n",
    "# cwh_ssh_private_key_path = \"~/.ssh/id_rsa\"\n",
    "\n",
    "cwh_ssh_private_key_path = "
   ]
  },
  {
   "cell_type": "markdown",
   "id": "2cd268fa",
   "metadata": {},
   "source": [
    "接続先のCoursewareHubを表すansibleのグループ名を指定してください。このnotebookの以降の操作では、IPアドレスなどの値を直接指定せずに次のセルで指定されたグループ名を用いて操作を行います。"
   ]
  },
  {
   "cell_type": "code",
   "execution_count": null,
   "id": "e9c34ab3",
   "metadata": {},
   "outputs": [],
   "source": [
    "# (例)\n",
    "# cwh_group = \"cwh\"\n",
    "\n",
    "cwh_group = "
   ]
  },
  {
   "cell_type": "markdown",
   "id": "0345e569",
   "metadata": {},
   "source": [
    "#### Elasticsearch\n",
    "\n",
    "ログの収集先となるElasticsearchのアドレスを指定します。"
   ]
  },
  {
   "cell_type": "markdown",
   "id": "17f2445a",
   "metadata": {},
   "source": [
    "ElasticsearchのURLを指定してください。"
   ]
  },
  {
   "cell_type": "code",
   "execution_count": null,
   "id": "5f262e13",
   "metadata": {},
   "outputs": [],
   "source": [
    "# (例)\n",
    "# es_url = \"http://172.30.2.101:9200\"\n",
    "# es_url = \"https://172.30.2.101:9200\"\n",
    "# es_url = \"https://es.example.org:9200\"\n",
    "\n",
    "es_url = "
   ]
  },
  {
   "cell_type": "markdown",
   "id": "6c2b0f90",
   "metadata": {},
   "source": [
    "以下の３つの項目（`es_ssl_verify`, `es_user`, `es_password`）は必要な場合のみ設定してください。「801-開発用Elasticsearch,Kibanaの構築.ipynb」を利用してElasticsearchを構築した場合は設定する必要はありません。"
   ]
  },
  {
   "cell_type": "markdown",
   "id": "794b38c3",
   "metadata": {},
   "source": [
    "ssl verificationを無効にする場合は、次のセルのコメントを外して`es_ssl_verify`を`False`に設定してください。"
   ]
  },
  {
   "cell_type": "code",
   "execution_count": null,
   "id": "f911e48a",
   "metadata": {},
   "outputs": [],
   "source": [
    "# es_ssl_verify = False"
   ]
  },
  {
   "cell_type": "markdown",
   "id": "eab650d9",
   "metadata": {},
   "source": [
    "Elasticsearchのユーザ名を指定してください。"
   ]
  },
  {
   "cell_type": "code",
   "execution_count": null,
   "id": "69150b06",
   "metadata": {},
   "outputs": [],
   "source": [
    "# (例)\n",
    "# es_user = \"elastic\"\n",
    "\n",
    "es_user = "
   ]
  },
  {
   "cell_type": "markdown",
   "id": "969b3780",
   "metadata": {},
   "source": [
    "Elasticsearchのパスワードを指定してください。"
   ]
  },
  {
   "cell_type": "code",
   "execution_count": null,
   "id": "81044e0d",
   "metadata": {},
   "outputs": [],
   "source": [
    "from getpass import getpass\n",
    "\n",
    "es_password = getpass()"
   ]
  },
  {
   "cell_type": "markdown",
   "id": "f43fe64c",
   "metadata": {},
   "source": [
    "#### Kibana"
   ]
  },
  {
   "cell_type": "markdown",
   "id": "0eae97ae",
   "metadata": {},
   "source": [
    "KibanaのURLを指定してください。"
   ]
  },
  {
   "cell_type": "code",
   "execution_count": null,
   "id": "fc88cf20",
   "metadata": {},
   "outputs": [],
   "source": [
    "# (例)\n",
    "# kibana_url = \"http://172.30.2.101:5601\"\n",
    "# kibana_url = \"https://kibana.example.org\"\n",
    "\n",
    "kibana_url = "
   ]
  },
  {
   "cell_type": "markdown",
   "id": "05c1a3b0",
   "metadata": {
    "heading_collapsed": true
   },
   "source": [
    "### CoursewareHub\n",
    "\n",
    "CoursewareHubのmanagerノードにansibleで接続する準備を行います。また接続したノードでCoursewareHubが実行されていることを確認します。"
   ]
  },
  {
   "cell_type": "markdown",
   "id": "81b53e84",
   "metadata": {
    "hidden": true
   },
   "source": [
    "#### 設定ファイルの作成\n",
    "\n",
    "ansibleの設定ファイルを作成します。"
   ]
  },
  {
   "cell_type": "markdown",
   "id": "9fd86dcd",
   "metadata": {
    "hidden": true
   },
   "source": [
    "Ansibleのインベントリファイルを現在の作業ディレクトリに`inventory.yml`という名前で作成します。"
   ]
  },
  {
   "cell_type": "code",
   "execution_count": null,
   "id": "c31be9a8",
   "metadata": {
    "hidden": true
   },
   "outputs": [],
   "source": [
    "from pathlib import Path\n",
    "import yaml\n",
    "\n",
    "path_inventory = Path(\"inventory.yml\")\n",
    "if path_inventory.exists():\n",
    "    with path_inventory.open() as f:\n",
    "        inventory = yaml.safe_load(f)\n",
    "else:\n",
    "    inventory = {\"all\": {\"children\": {}}}\n",
    "cwh = {\n",
    "    cwh_group: {\n",
    "        \"hosts\": {\n",
    "            cwh_hostname: {\n",
    "                \"ansible_user\": cwh_ssh_user,\n",
    "                \"ansible_ssh_private_key_file\": str(Path(cwh_ssh_private_key_path).expanduser()),\n",
    "            }\n",
    "        }\n",
    "    }\n",
    "}\n",
    "inventory[\"all\"][\"children\"] |= cwh\n",
    "\n",
    "with path_inventory.open(mode=\"w\") as f:\n",
    "    yaml.safe_dump(inventory, f, default_flow_style=False)\n",
    "\n",
    "!cat inventory.yml"
   ]
  },
  {
   "cell_type": "markdown",
   "id": "abf340e3",
   "metadata": {
    "hidden": true
   },
   "source": [
    "Ansibleの設定ファイル`ansible.cfg`にインベントリファイルのパスを設定します。"
   ]
  },
  {
   "cell_type": "code",
   "execution_count": null,
   "id": "4c08ab91",
   "metadata": {
    "hidden": true
   },
   "outputs": [],
   "source": [
    "import configparser\n",
    "\n",
    "config = config = configparser.ConfigParser()\n",
    "path_cfg = Path(\"ansible.cfg\")\n",
    "if path_cfg.exists():\n",
    "    with path_cfg.open() as f:\n",
    "        config.read_file(f)\n",
    "\n",
    "if not config.has_section(\"defaults\"):\n",
    "    config.add_section(\"defaults\")\n",
    "config[\"defaults\"][\"inventory\"] = str(path_inventory.resolve())\n",
    "\n",
    "with path_cfg.open(mode=\"w\") as f:\n",
    "    config.write(f)\n",
    "\n",
    "!cat ansible.cfg"
   ]
  },
  {
   "cell_type": "markdown",
   "id": "1d0d8abc",
   "metadata": {
    "hidden": true
   },
   "source": [
    "`~/.ssh/known_hosts`に接続先となるホストのSSH鍵を登録します。"
   ]
  },
  {
   "cell_type": "code",
   "execution_count": null,
   "id": "0de8e1a2",
   "metadata": {
    "hidden": true
   },
   "outputs": [],
   "source": [
    "!mkdir -p -m 0700 ~/.ssh\n",
    "!touch ~/.ssh/known_hosts\n",
    "!ssh-keygen -R {cwh_hostname}\n",
    "!ssh-keyscan -H {cwh_hostname} >> ~/.ssh/known_hosts"
   ]
  },
  {
   "cell_type": "markdown",
   "id": "a582116c",
   "metadata": {
    "hidden": true
   },
   "source": [
    "#### 接続確認\n",
    "\n",
    "対象となるホストへの接続確認を行います。"
   ]
  },
  {
   "cell_type": "code",
   "execution_count": null,
   "id": "eacb6362",
   "metadata": {
    "hidden": true
   },
   "outputs": [],
   "source": [
    "!ansible {cwh_group} -m ping"
   ]
  },
  {
   "cell_type": "markdown",
   "id": "31de24f9",
   "metadata": {
    "hidden": true
   },
   "source": [
    "管理者権限でコマンドを実行できることを確認します。"
   ]
  },
  {
   "cell_type": "code",
   "execution_count": null,
   "id": "71550646",
   "metadata": {
    "hidden": true
   },
   "outputs": [],
   "source": [
    "!ansible {cwh_group} -b -a 'whoami'"
   ]
  },
  {
   "cell_type": "markdown",
   "id": "89f37c03",
   "metadata": {
    "hidden": true
   },
   "source": [
    "#### 前提条件\n",
    "\n",
    "接続先のホストでCoursewareHubが実行されていることを確認します。"
   ]
  },
  {
   "cell_type": "markdown",
   "id": "bcff584a",
   "metadata": {
    "hidden": true
   },
   "source": [
    "次のセルを実行してエラーにならないことを確認してください。"
   ]
  },
  {
   "cell_type": "code",
   "execution_count": null,
   "id": "1a8d560f",
   "metadata": {
    "hidden": true
   },
   "outputs": [],
   "source": [
    "import json\n",
    "\n",
    "!ansible {cwh_group} -a 'docker stack services coursewarehub'\n",
    "out = !ansible {cwh_group} -a 'docker stack services --format json coursewarehub'\n",
    "count = 0\n",
    "for x in out[1:]:\n",
    "    service = json.loads(x)\n",
    "    if service[\"Name\"].startswith(\"coursewarehub_\") and service[\"Replicas\"] == \"1/1\":\n",
    "        count += 1\n",
    "if count != 4:\n",
    "    raise \"CoursewareHubが実行されていません\""
   ]
  },
  {
   "cell_type": "markdown",
   "id": "c8b305b7",
   "metadata": {
    "hidden": true
   },
   "source": [
    "fluentdがsystemdのサービスとして実行されていることを確認します。"
   ]
  },
  {
   "cell_type": "code",
   "execution_count": null,
   "id": "a8fe8bab",
   "metadata": {
    "hidden": true,
    "scrolled": true
   },
   "outputs": [],
   "source": [
    "!ansible {cwh_group} -b -a 'systemctl status fluentd'"
   ]
  },
  {
   "cell_type": "markdown",
   "id": "1ee6ce13",
   "metadata": {
    "heading_collapsed": true
   },
   "source": [
    "### Elasticsearch, Kibana\n",
    "\n",
    "Elasticsearch, Kibanaに接続できることを確認します。"
   ]
  },
  {
   "cell_type": "markdown",
   "id": "7ab3d91d",
   "metadata": {
    "hidden": true
   },
   "source": [
    "接続ユーザ名などに応じたcurlのオプション文字列を作成します。"
   ]
  },
  {
   "cell_type": "code",
   "execution_count": null,
   "id": "2a4f3e6e",
   "metadata": {
    "hidden": true
   },
   "outputs": [],
   "source": [
    "es_opts = f'-u {es_user}:{es_password}' if 'es_password' in vars() else ''\n",
    "if 'es_ssl_verify' in vars() and not es_ssl_verify:\n",
    "    es_opts += ' -k'"
   ]
  },
  {
   "cell_type": "markdown",
   "id": "5191d491",
   "metadata": {
    "hidden": true
   },
   "source": [
    "Elasticsearchに接続できることを確認します。"
   ]
  },
  {
   "cell_type": "code",
   "execution_count": null,
   "id": "367c48f7",
   "metadata": {
    "hidden": true
   },
   "outputs": [],
   "source": [
    "!curl {es_opts} {es_url}/_cluster/health?pretty"
   ]
  },
  {
   "cell_type": "markdown",
   "id": "6608c30a",
   "metadata": {
    "hidden": true
   },
   "source": [
    "Kibanaに接続できることを確認します。"
   ]
  },
  {
   "cell_type": "code",
   "execution_count": null,
   "id": "022f5add",
   "metadata": {
    "hidden": true
   },
   "outputs": [],
   "source": [
    "!set -o pipefail; curl -sf {es_opts} {kibana_url}/api/status | jq \"[.status.overall,.version]\""
   ]
  },
  {
   "cell_type": "markdown",
   "id": "05cf382a",
   "metadata": {
    "heading_collapsed": true
   },
   "source": [
    "### パラメータの保存\n",
    "\n",
    "ここまでに指定したパラメータの値をファイルに保存します。"
   ]
  },
  {
   "cell_type": "markdown",
   "id": "9f83b306",
   "metadata": {
    "hidden": true
   },
   "source": [
    "CoursewareHubに接続するためのパラメータはansibleのインベントリファイル`inventory.yml`に記録されています。Elasticsearch, Kibanaに関するパラメータをgroup_varsとしてファイルに保存します。"
   ]
  },
  {
   "cell_type": "code",
   "execution_count": null,
   "id": "7e402be1",
   "metadata": {
    "hidden": true
   },
   "outputs": [],
   "source": [
    "%run scripts/group.py\n",
    "update_group_vars(\n",
    "    cwh_group,\n",
    "    _file='10-es.yml',\n",
    "    es_url=es_url,\n",
    "    kibana_url=kibana_url,\n",
    ")\n",
    "if 'es_password' in vars():\n",
    "    update_group_vars(\n",
    "        cwh_group,\n",
    "        _file='10-es.yml',\n",
    "        es_user=es_user,\n",
    "        es_password=es_password,\n",
    "    )\n",
    "if 'es_ssl_verify' in vars():\n",
    "    update_group_vars(\n",
    "        cwh_group,\n",
    "        _file='10-es.yml',\n",
    "        es_ssl_verify=es_ssl_verify,\n",
    "    )"
   ]
  },
  {
   "cell_type": "markdown",
   "id": "a0792118",
   "metadata": {
    "heading_collapsed": true
   },
   "source": [
    "## MEME IDの収集\n",
    "\n",
    "リリースした教材からMEME IDを収集して通し番号を割り当てるサービスを配備します。"
   ]
  },
  {
   "cell_type": "markdown",
   "id": "976644f7",
   "metadata": {
    "hidden": true
   },
   "source": [
    "### MEME IDに関するパラメータの指定"
   ]
  },
  {
   "cell_type": "markdown",
   "id": "7af34322",
   "metadata": {
    "hidden": true
   },
   "source": [
    "MEME IDの収集は教材としてリリースしたnotebookが格納されているディレクトリ`/jupyter/admin/textbook`にある`*.ipynb`ファイルを対象としています。他のディレクトリでMEME IDを収集する場合は対象となるディレクトリを次のセルで指定してください。"
   ]
  },
  {
   "cell_type": "code",
   "execution_count": null,
   "id": "67d4bb78",
   "metadata": {
    "hidden": true
   },
   "outputs": [],
   "source": [
    "# (例)\n",
    "# notebook_dir = \"/jupyter/admin/textbook\"\n",
    "#\n",
    "# notebook_dir = "
   ]
  },
  {
   "cell_type": "markdown",
   "id": "fbfc0e70",
   "metadata": {
    "hidden": true
   },
   "source": [
    "収集したMEME IDの値を保存するCSVファイルのパスを指定します。通常はデフォルトの格納場所`/var/lib/lc-wrapper/meme.csv`に保存されますが、他の場所にCSVファイルを保存する場合は次のセルでパスを指定してください。"
   ]
  },
  {
   "cell_type": "code",
   "execution_count": null,
   "id": "e9cd4fb5",
   "metadata": {
    "hidden": true
   },
   "outputs": [],
   "source": [
    "# (例)\n",
    "# csv_file = \"/var/lib/lc-wrapper/meme.csv\"\n",
    "#\n",
    "# csv_file ="
   ]
  },
  {
   "cell_type": "markdown",
   "id": "442a92cd",
   "metadata": {
    "hidden": true
   },
   "source": [
    "収集したログを可視化する際に、設問番号の情報などをmarkdownのセルから取得したいことがあります。次のセルに正規表現を指定すると、マッチする文字列をmarkdownセルから抽出し、CSVファイルに追加情報として保存されます。対象となるセルは実行したコードセルの前にあるmarkdownセルになります。また指定する正規表現は[Python](https://docs.python.org/ja/3/library/re.html)の指定方法に従ったものとしてください。ここで指定した正規表現により抽出した文字列は`qlabel`フィールドとしてElasticsearchに送信されます。"
   ]
  },
  {
   "cell_type": "code",
   "execution_count": null,
   "id": "fddd97e9",
   "metadata": {
    "hidden": true
   },
   "outputs": [],
   "source": [
    "# (例)\n",
    "# qlabel_pattern = \"問\\s*\\d+-\\d+\"\n",
    "#\n",
    "# qlabel_pattern = "
   ]
  },
  {
   "cell_type": "markdown",
   "id": "a3f27764",
   "metadata": {
    "heading_collapsed": true,
    "hidden": true
   },
   "source": [
    "### パラメータの保存\n",
    "\n",
    "指定されたパラメータを保存します。"
   ]
  },
  {
   "cell_type": "code",
   "execution_count": null,
   "id": "47bc1028",
   "metadata": {
    "hidden": true
   },
   "outputs": [],
   "source": [
    "%run scripts/group.py\n",
    "\n",
    "for name in ['notebook_dir', 'csv_file', 'qlabel_pattern']:\n",
    "    if name in vars():\n",
    "        params = {name: vars()[name]}\n",
    "        update_group_vars(cwh_group, _file='10-meme.yml', **params)\n",
    "    else:\n",
    "        remove_group_vars(cwh_group, name)\n",
    "\n",
    "!touch group_vars/{cwh_group}/10-meme.yml\n",
    "!cat group_vars/{cwh_group}/10-meme.yml"
   ]
  },
  {
   "cell_type": "markdown",
   "id": "9f2aaf9e",
   "metadata": {
    "hidden": true
   },
   "source": [
    "### MEME IDの収集を実行する\n",
    "\n",
    "\n",
    "MEME IDを収集しCSVファイルに保存するサービスを配備します。"
   ]
  },
  {
   "cell_type": "markdown",
   "id": "147f89fb",
   "metadata": {
    "hidden": true
   },
   "source": [
    "配備するサービスではリリースした教材を配置するディレクトリ`/jupyter/admin/textbook`を監視します。ディレクトリ内にあるnotebookファイルが追加、変更されると、収集結果を保存するCSVファイルが更新されます。"
   ]
  },
  {
   "cell_type": "code",
   "execution_count": null,
   "id": "d6d31fdc",
   "metadata": {
    "hidden": true,
    "scrolled": true
   },
   "outputs": [],
   "source": [
    "!ansible-playbook -l {cwh_group} playbooks/deploy-meme-csv.yml"
   ]
  },
  {
   "cell_type": "markdown",
   "id": "4c648122",
   "metadata": {
    "hidden": true
   },
   "source": [
    "配備したMEME ID収集コマンドを利用して対象となる教材に問題がないかチェックします。以下のチェックを行います。\n",
    "\n",
    "* notebookにMEME IDが記録されているか\n",
    "* 複数のnotebookに同じMEME IDが記録されていないか\n"
   ]
  },
  {
   "cell_type": "code",
   "execution_count": null,
   "id": "8f9f409e",
   "metadata": {
    "hidden": true
   },
   "outputs": [],
   "source": [
    "!ansible {cwh_group} -a \"/var/lib/lc-wrapper/.venv/bin/memeid-extractor -C --strict-validate -o /dev/null\""
   ]
  },
  {
   "cell_type": "markdown",
   "id": "fdf69a14",
   "metadata": {
    "hidden": true
   },
   "source": [
    "エラーが検出されると、以下のようなメッセージが表示されます。\n",
    "\n",
    "```\n",
    "Validation errors found:\n",
    "  python-basic-2025/lesson01.ipynb:\n",
    "    Duplicate values: lc_cell_meme, textbook_path\n",
    "    Path conflicts: python-basic-2024/lesson01.ipynb\n",
    "\n",
    "To fix these errors, run:\n",
    "  jupyter nblineage new-root-meme python-basic-2025/lesson01.ipynb python-basic-2025/lesson01.fixed.ipynb\n",
    "\n",
    "Validation failed in strict mode. CSV generation aborted.non-zero return code\n",
    "```\n",
    "\n",
    "上記のメッセージでは`python-basic-2024/lesson01.ipynb`と`python-basic-2025/lesson01.ipynb`におけるMEME IDが重複していることを示しています。過去の教材を元にして作成したnotebookではこのようなことが起こり得ます。その場合は教材を作成した環境で以下の操作を行い、その後に教材のリリースを行なってください。\n",
    "\n",
    "```console\n",
    "jupyter nblineage new-root-meme python-basic-2025/lesson01.ipynb python-basic-2025/lesson01.fixed.ipynb\n",
    "mv python-basic-2025/lesson01.fixed.ipynb python-basic-2025/lesson01.ipynb\n",
    "```"
   ]
  },
  {
   "cell_type": "markdown",
   "id": "8e6d4a73",
   "metadata": {
    "hidden": true
   },
   "source": [
    "MEME IDの収集はCoursewareHubの実行環境でsystemdサービスとして実行されています。サービスのログを確認します。"
   ]
  },
  {
   "cell_type": "code",
   "execution_count": null,
   "id": "88e320a9",
   "metadata": {
    "hidden": true
   },
   "outputs": [],
   "source": [
    "!ansible {cwh_group} -b -a \"journalctl -u update-meme-csv\""
   ]
  },
  {
   "cell_type": "markdown",
   "id": "37b62756",
   "metadata": {
    "hidden": true
   },
   "source": [
    "収集されたMEME IDを記録したCSVファイルを表示します。"
   ]
  },
  {
   "cell_type": "code",
   "execution_count": null,
   "id": "0469fd7b",
   "metadata": {
    "hidden": true,
    "scrolled": true
   },
   "outputs": [],
   "source": [
    "!env ANSIBLE_NOCOLOR=1 ansible {cwh_group} -a 'cat {csv_file if \"csv_file\" in vars() else \"/var/lib/lc-wrapper/meme.csv\"}'"
   ]
  },
  {
   "cell_type": "markdown",
   "id": "a0fbaafb",
   "metadata": {
    "heading_collapsed": true
   },
   "source": [
    "## Elasticsearch, Kibanaの設定"
   ]
  },
  {
   "cell_type": "markdown",
   "id": "2df8f7c1",
   "metadata": {
    "hidden": true
   },
   "source": [
    "### パラメータの指定"
   ]
  },
  {
   "cell_type": "markdown",
   "id": "20026767",
   "metadata": {
    "hidden": true
   },
   "source": [
    "ログの保存先となるElasticsearchのインデックスのプレフィックスを次のセルで指定してください。実際の保存先となるインデックス名は、ここで指定した値の末尾に日時をつけた値となります。例えば`index_prefix`に`lcwrapper`を指定した場合は`lcwrapper-2024.04.01`のような値となります。"
   ]
  },
  {
   "cell_type": "code",
   "execution_count": null,
   "id": "f9586460",
   "metadata": {
    "hidden": true
   },
   "outputs": [],
   "source": [
    "# (例)\n",
    "# index_prefix = \"lcwrapper\"\n",
    "\n",
    "index_prefix = \"lcwrapper\""
   ]
  },
  {
   "cell_type": "markdown",
   "id": "5a45d6ed",
   "metadata": {
    "hidden": true
   },
   "source": [
    "上のセルで指定したインデックスをKibanaの[データビュー](https://www.elastic.co/guide/en/kibana/current/data-views.html)として登録します。データビューの名前を次のセルで指定してください。\n"
   ]
  },
  {
   "cell_type": "code",
   "execution_count": null,
   "id": "32c9c56d",
   "metadata": {
    "hidden": true
   },
   "outputs": [],
   "source": [
    "# (例)\n",
    "# kibana_data_view = \"CoursewareHub LC_wrapper log\"\n",
    "\n",
    "kibana_data_view = \"CoursewareHub LC_wrapper log\""
   ]
  },
  {
   "cell_type": "markdown",
   "id": "c510e926",
   "metadata": {
    "hidden": true
   },
   "source": [
    "指定したパラメータをファイルに保存します。"
   ]
  },
  {
   "cell_type": "code",
   "execution_count": null,
   "id": "258135c8",
   "metadata": {
    "hidden": true
   },
   "outputs": [],
   "source": [
    "%run scripts/group.py\n",
    "update_group_vars(\n",
    "    cwh_group,\n",
    "    _file='10-es.yml',\n",
    "    index_prefix=index_prefix,\n",
    "    kibana_data_view=kibana_data_view,\n",
    ")\n",
    "\n",
    "!cat group_vars/{cwh_group}/10-es.yml"
   ]
  },
  {
   "cell_type": "markdown",
   "id": "05f11662",
   "metadata": {
    "heading_collapsed": true,
    "hidden": true
   },
   "source": [
    "### Elasticsearch\n",
    "\n",
    "ログの保存先となるインデックスに対してテンプレートを登録します。"
   ]
  },
  {
   "cell_type": "markdown",
   "id": "cb0212bf",
   "metadata": {
    "hidden": true
   },
   "source": [
    "lc_wrapperの出力したログにはセルの実行したときに開始時刻`start_time`と終了時刻`end_time`が含まれています。これらの値をElasticsearchで日時として扱われるようにするためのテンプレートを登録します。"
   ]
  },
  {
   "cell_type": "code",
   "execution_count": null,
   "id": "8624e8be",
   "metadata": {
    "hidden": true
   },
   "outputs": [],
   "source": [
    "import json\n",
    "\n",
    "idx_template_name = 'lc-wrapper-template'\n",
    "idx_template = {\n",
    "    \"index_patterns\": [\n",
    "        f\"{index_prefix}*\",\n",
    "    ],\n",
    "    \"priority\" : 100,\n",
    "    \"template\": {\n",
    "        \"mappings\": {\n",
    "            \"properties\": {\n",
    "                \"start_time\": {\n",
    "                    \"format\": \"epoch_second\",\n",
    "                    \"type\": \"date\",\n",
    "                },\n",
    "                \"end_time\": {\n",
    "                    \"format\": \"epoch_second\",\n",
    "                    \"type\": \"date\",\n",
    "                },\n",
    "            }\n",
    "        }\n",
    "    },\n",
    "}\n",
    "\n",
    "!curl -X PUT {es_url}/_index_template/{idx_template_name} {es_opts} \\\n",
    "    -d '{json.dumps(idx_template)}' \\\n",
    "    -H 'Content-Type: application/json'"
   ]
  },
  {
   "cell_type": "markdown",
   "id": "0d065f39",
   "metadata": {
    "heading_collapsed": true,
    "hidden": true
   },
   "source": [
    "### Kibana\n",
    "\n",
    "ログの送信先となるインデックスとKibanaのデータビューに登録します。"
   ]
  },
  {
   "cell_type": "code",
   "execution_count": null,
   "id": "68e61cd2",
   "metadata": {
    "hidden": true,
    "scrolled": true
   },
   "outputs": [],
   "source": [
    "kibana_data = {\n",
    "    \"data_view\": {\n",
    "        \"name\": kibana_data_view,\n",
    "        \"title\": f\"{index_prefix}*\",\n",
    "        \"timeFieldName\": \"@timestamp\",\n",
    "    },\n",
    "}\n",
    "!curl -X POST {kibana_url}/api/data_views/data_view -d '{json.dumps(kibana_data)}' {es_opts} \\\n",
    "    -H 'Content-Type: application/json; Elastic-Api-Version=2023-10-31' -H \"kbn-xsrf: string\""
   ]
  },
  {
   "cell_type": "markdown",
   "id": "2f2240ec",
   "metadata": {
    "hidden": true
   },
   "source": [
    "登録されたことを確認します。"
   ]
  },
  {
   "cell_type": "code",
   "execution_count": null,
   "id": "4dab38ea",
   "metadata": {
    "hidden": true
   },
   "outputs": [],
   "source": [
    "!curl -s {es_opts} {kibana_url}/api/data_views | jq"
   ]
  },
  {
   "cell_type": "markdown",
   "id": "ed6f2413",
   "metadata": {
    "heading_collapsed": true
   },
   "source": [
    "## fluentdの設定\n",
    "\n",
    "lc_wrapperのログを処理してElasticsearchに送信する設定をfluentdに対して行います。"
   ]
  },
  {
   "cell_type": "markdown",
   "id": "32d5c2df",
   "metadata": {
    "hidden": true
   },
   "source": [
    "### タグの指定"
   ]
  },
  {
   "cell_type": "markdown",
   "id": "bea7f6fc",
   "metadata": {
    "hidden": true
   },
   "source": [
    "lc_wrapperのログに付けるfluentdのタグを指定します。"
   ]
  },
  {
   "cell_type": "code",
   "execution_count": null,
   "id": "20d3dfcc",
   "metadata": {
    "hidden": true
   },
   "outputs": [],
   "source": [
    "# (例)\n",
    "# tag = \"cwh.lc_wrapper\"\n",
    "\n",
    "tag = \"cwh.lc_wrapper\""
   ]
  },
  {
   "cell_type": "markdown",
   "id": "f10f16b4",
   "metadata": {
    "hidden": true
   },
   "source": [
    "指定された値を保存します。"
   ]
  },
  {
   "cell_type": "code",
   "execution_count": null,
   "id": "bb610d2b",
   "metadata": {
    "hidden": true
   },
   "outputs": [],
   "source": [
    "%run scripts/group.py\n",
    "update_group_vars(cwh_group, _file='10-fluentd.yml', tag=tag)\n",
    "!cat group_vars/{cwh_group}/10-fluentd.yml"
   ]
  },
  {
   "cell_type": "markdown",
   "id": "174a813c",
   "metadata": {
    "hidden": true
   },
   "source": [
    "### セル実行結果からテキスト部分の抽出\n",
    "\n",
    "セルの実行結果はJSON形式で`result_json`フィールドに記録されます。この値のテキスト部分を抽出して`result_text`フィールドに記録します。ここでは`result_json`のどの部分を抽出対象とするかの指定を行います。"
   ]
  },
  {
   "cell_type": "markdown",
   "id": "ee1ec45f",
   "metadata": {
    "hidden": true
   },
   "source": [
    "抽出対象の指定は[JSONPath](https://www.rfc-editor.org/rfc/rfc9535.html)で行います。例えば`result_json`が以下のような値であった場合を考えます。\n",
    "\n",
    "```json\n",
    "{\n",
    "  \"content\": {\n",
    "    \"execution_count\": 7,\n",
    "    \"metadata\": {},\n",
    "    \"data\": {\n",
    "      \"text/plain\": \"0.8414709848078965\"\n",
    "    }\n",
    "  },\n",
    "  \"msg_type\": \"execute_result\"\n",
    "}\n",
    "```\n",
    "\n",
    "JSONPathとして`$.content.data[\"text/plain\"]`することで`result_text`に`0.8414709848078965`が抽出されます。\n",
    "\n",
    "次のセルで`result_text`を抽出するためのJSONPathを指定してください。複数のJSONPathを指定した場合は最初に値が得られたものを`result_text`に設定します。"
   ]
  },
  {
   "cell_type": "code",
   "execution_count": null,
   "id": "ff419b81",
   "metadata": {
    "hidden": true
   },
   "outputs": [],
   "source": [
    "result2text_jsonpath = [\n",
    "    '$.content.data[\"text/plain\"]',\n",
    "    '$.content.ename',\n",
    "]"
   ]
  },
  {
   "cell_type": "markdown",
   "id": "cc4bbccb",
   "metadata": {
    "hidden": true
   },
   "source": [
    "指定された値を保存します。"
   ]
  },
  {
   "cell_type": "code",
   "execution_count": null,
   "id": "18fa052a",
   "metadata": {
    "hidden": true
   },
   "outputs": [],
   "source": [
    "%run scripts/group.py\n",
    "update_group_vars(cwh_group, _file='10-fluentd.yml', result2text_jsonpath=result2text_jsonpath)\n",
    "!cat group_vars/{cwh_group}/10-fluentd.yml"
   ]
  },
  {
   "cell_type": "markdown",
   "id": "74261ebc",
   "metadata": {
    "hidden": true
   },
   "source": [
    "### 設定の更新\n",
    "\n",
    "指定されたパラメータでfluentdとCoursewareHubの設定を更新します。"
   ]
  },
  {
   "cell_type": "markdown",
   "id": "98e352f7",
   "metadata": {
    "hidden": true
   },
   "source": [
    "次のセルでansibleのplaybookが実行するとCoursewareHubとfluentdの設定が更新されます。具体的には以下の操作が行われます。\n",
    "\n",
    "* CoursewareHubの設定\n",
    "    * 設定ファイル`/etc/jupyterhub/jupyterhub_config.d/lc_wrapper.py`を配置する\n",
    "        * 環境変数を設定しsingle-userサーバのlc_wrapperからfluentdにログを送信するようにする\n",
    "    * 設定を反映するためにJupyterHubコンテナを再起動する\n",
    "* fluentdの設定\n",
    "    * fluentdプラグインのgemをインストールする\n",
    "    * 設定ファイル`/etc/fluentd/config.d/lc_wrapper.conf`を配置する\n",
    "    * fluentdに設定ファイルの再読み込みを指示する"
   ]
  },
  {
   "cell_type": "code",
   "execution_count": null,
   "id": "e221b217",
   "metadata": {
    "hidden": true,
    "scrolled": true
   },
   "outputs": [],
   "source": [
    "!ansible-playbook -l {cwh_group} playbooks/deploy-lc_wrapper.yml"
   ]
  },
  {
   "cell_type": "markdown",
   "id": "2c1ccaf1",
   "metadata": {},
   "source": [
    "## Kibanaによる可視化"
   ]
  },
  {
   "cell_type": "markdown",
   "id": "586cac48",
   "metadata": {},
   "source": [
    "ここまでの設定で、single-userサーバのlc_wrapperログがElasticsearchで収集されるようになります。また、ログの送信先となるインデックスパターンがKibanaのデータビューとして登録されています。\n",
    "\n",
    "Kibanaのメニューから[Management/Stack Management]--[Kibana/Data View]を選択して、データビューが登録されていることを確認してください。"
   ]
  },
  {
   "cell_type": "markdown",
   "id": "7c43cb46",
   "metadata": {},
   "source": [
    "登録されたデータビューをKibanaのDiscoverで表示すると次図のようになります。\n",
    "\n",
    "![Kibana-Discover](images/fluentd-201-11.png)"
   ]
  },
  {
   "cell_type": "markdown",
   "id": "da9a480c",
   "metadata": {},
   "source": [
    "### 可視化に利用できる情報\n",
    "\n",
    "ログから各ユーザのnotebook実行状況を可視化するにはユーザとコードセルに関する情報が必要になります。それぞれの情報に関するフィールドとしてどのようなものがあるのかについて以下にまとめました。"
   ]
  },
  {
   "cell_type": "markdown",
   "id": "58055a15",
   "metadata": {},
   "source": [
    "Elasticsearchで収集したログの詳細については[1.3 ログデータ](#ログデータ)を参照してください。"
   ]
  },
  {
   "cell_type": "markdown",
   "id": "ad5afd74",
   "metadata": {},
   "source": [
    "#### ユーザに関するフィールド名\n",
    "\n",
    "|フィールド名|説明|例|備考|\n",
    "|:---|:---|:---|:---|\n",
    "|user_name|アカウント名|user01xacca0c|\n",
    "|local_name|メールアドレスのローカルパート|user01|複数のユーザで重複する可能性がある|\n",
    "|uid|利用者のUID|1001|"
   ]
  },
  {
   "cell_type": "markdown",
   "id": "5bd2d08f",
   "metadata": {},
   "source": [
    "#### コードセルに関するフィールド名\n",
    "\n",
    "|フィールド名|説明|例|備考|\n",
    "|:---|:---|:---|:---|\n",
    "|qno|コードセルの通し番号|00-000|リリースした教材が変更されると、同じセルに異なる番号が割り当てらる可能性がある|\n",
    "|qlabel|実行したセルの直前にあるmarkdownセルから抽出した文字列|問1-1|\n",
    "|lc_cell_meme|セルのMEME ID|1a339f04-3e8f-11ef-91c2-02420a640009-3-c957-e4b7-54b0|\n",
    "|lc_cell_meme_uuid|セルのMEME IDからブランチ番号を除いた値|1a339f04-3e8f-11ef-91c2-02420a640009|"
   ]
  },
  {
   "cell_type": "markdown",
   "id": "78341746",
   "metadata": {},
   "source": [
    "### ダッシュボードの登録\n",
    "\n",
    "各ユーザのnotebook実行状況を可視化するためのダッシュボードをKibanaに登録します。"
   ]
  },
  {
   "cell_type": "markdown",
   "id": "0934fa58",
   "metadata": {},
   "source": [
    "Kibanaのメニューから[Dashboards]--[Create Dashboard]--[Create Visualization]を選択してください。下図のような画面が表示されるのでパネルを作成します。\n",
    "\n",
    "![Create Visualization](images/fluentd-201-12.png)"
   ]
  },
  {
   "cell_type": "markdown",
   "id": "af056de8",
   "metadata": {},
   "source": [
    "ユーザのnotebook実行状況を可視化する例としてヒートマップを用いる場合と、積み上げ棒グラフを用いる場合について、以下で説明します。"
   ]
  },
  {
   "cell_type": "markdown",
   "id": "1bb300bf",
   "metadata": {},
   "source": [
    "#### ヒートマップ\n",
    "\n",
    "それぞれのユーザがどのコードセルを実行したのかをヒートマップで可視化します。"
   ]
  },
  {
   "cell_type": "markdown",
   "id": "9451bc00",
   "metadata": {},
   "source": [
    "縦軸、横軸にユーザ名、コードセルの通番とするヒートマップを作成します。視覚化パネルの設定で以下に示すようなパラメータを指定します。\n",
    "\n",
    "* Visualization type\n",
    "    * Heat map\n",
    "* Horizontal axis\n",
    "    * Functions: Top values\n",
    "    * Fields: qno.keyword\n",
    "    * Number of values: 100\n",
    "    * Rank by: Alphabetical\n",
    "* Vertical axis\n",
    "    * Functions: Top values\n",
    "    * Fields: local_name.keyword\n",
    "    * Number of values: 100\n",
    "    * Rank by: Alphabetical\n",
    "* Cell value\n",
    "    * Functions: count\n",
    "    * Field: Records\n",
    "\n",
    "またKibanaの[time range設定](https://www.elastic.co/guide/en/kibana/current/set-time-filter.html)でRefresh everyを設定してください。\n",
    "\n",
    "![time range](images/fluentd-201-13.png)"
   ]
  },
  {
   "cell_type": "markdown",
   "id": "377bae0b",
   "metadata": {},
   "source": [
    "作成したヒートマップは次図のようになります。ヒートマップの色はsingle-userサーバでコードセルを実行した回数で変わります。\n",
    "    \n",
    "![heatmap](images/fluentd-201-14.gif)\n",
    "  "
   ]
  },
  {
   "cell_type": "markdown",
   "id": "89e17b3e",
   "metadata": {},
   "source": [
    "可視化パネルにあるCell valueのAdvanced設定で可視化対象を絞り込むことができます。例えば、セルの実行結果が成功したものだけを対象にする場合はFilter by欄に`execute_reply_status.keyword:\"ok\"`を指定します。\n",
    "\n",
    "![Advanced](images/fluentd-201-15.png)"
   ]
  },
  {
   "cell_type": "markdown",
   "id": "3cc8dff4",
   "metadata": {},
   "source": [
    "#### 積み上げ棒グラフ\n",
    "\n",
    "それぞれのユーザが実行したコードセルの数を積み上げ棒グラフで可視化します。"
   ]
  },
  {
   "cell_type": "markdown",
   "id": "2bcbf7a4",
   "metadata": {},
   "source": [
    "縦軸、横軸にユーザ名、コードセルの通番とするヒートマップを作成します。視覚化パネルの設定で以下に示すようなパラメータを指定します。\n",
    "\n",
    "* Visualization type\n",
    "    * Bar horizontal stacked\n",
    "* Vertical axis\n",
    "    * Functions: Top values\n",
    "    * Fields: local_name.keyword\n",
    "    * Number of values: 100\n",
    "    * Rank by: Alphabetical\n",
    "* Horizontal axis\n",
    "    * Functions: Unique Count\n",
    "    * Field: qno.keyword\n",
    "* Breakdown\n",
    "    * Functions: Top values\n",
    "    * Fields: qno.keyword\n",
    "    * Functions: Top values\n",
    "    * Number of values: 100\n",
    "    * Rank by: Alphabetical\n",
    "\n",
    "またKibanaの[time range設定](https://www.elastic.co/guide/en/kibana/current/set-time-filter.html)でRefresh everyを設定してください。"
   ]
  },
  {
   "cell_type": "markdown",
   "id": "7d0396ad",
   "metadata": {},
   "source": [
    "作成した積み上げ棒グラフは次図のようになります。\n",
    "    \n",
    "![bar horizontal stacked](images/fluentd-201-16.gif)\n",
    "  "
   ]
  }
 ],
 "metadata": {
  "kernelspec": {
   "display_name": "Python 3",
   "language": "python",
   "name": "python3"
  },
  "language_info": {
   "file_extension": ".py",
   "mimetype": "text/x-python",
   "name": "python",
   "nbconvert_exporter": "python",
   "pygments_lexer": "ipython3",
   "version": "3.10.11"
  },
  "toc": {
   "base_numbering": 1,
   "nav_menu": {},
   "number_sections": true,
   "sideBar": true,
   "skip_h1_title": true,
   "title_cell": "Table of Contents",
   "title_sidebar": "Contents",
   "toc_cell": false,
   "toc_position": {},
   "toc_section_display": true,
   "toc_window_display": true
  }
 },
 "nbformat": 4,
 "nbformat_minor": 5
}
