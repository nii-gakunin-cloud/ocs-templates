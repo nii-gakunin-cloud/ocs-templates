{
 "cells": [
  {
   "cell_type": "markdown",
   "id": "f44cfa10",
   "metadata": {},
   "source": [
    "# 検証用のElasticsearch,Kibanaを構築する\n",
    "\n",
    "---\n",
    "検証向けに簡易構成のElasticsearch, Kibanaを構築する。"
   ]
  },
  {
   "cell_type": "markdown",
   "id": "93e744fb",
   "metadata": {},
   "source": [
    "## 概要"
   ]
  },
  {
   "cell_type": "markdown",
   "id": "9d649dd3",
   "metadata": {},
   "source": [
    "ログの集約や可視化を行うためにElasticsearch, Kibanaを利用することがあります。このnotebookでは検証時の動作確認のために簡易な構成のElasticスタックを構築します。\n",
    "\n",
    "構築するElasticスタックは以下のような構成としています。\n",
    "\n",
    "* 1ノード構成\n",
    "* 認証、TLS接続の無効化\n",
    "* コンテナによる構築\n",
    "\n",
    "実運用で利用するには適切な構成ではないので、あくまで検証用としての利用に留めてください。"
   ]
  },
  {
   "cell_type": "markdown",
   "id": "20ea0c20",
   "metadata": {},
   "source": [
    "コンテナを利用して構築を行うので、対象となるホストには事前にdocker engineをインストールしておいてください。"
   ]
  },
  {
   "cell_type": "markdown",
   "id": "f4e6647a",
   "metadata": {},
   "source": [
    "## 準備"
   ]
  },
  {
   "cell_type": "markdown",
   "id": "a46a371f",
   "metadata": {},
   "source": [
    "このnotebookではansibleを用いて構築を行います。対象となるホストにansibleでアクセスするための準備を行います。"
   ]
  },
  {
   "cell_type": "markdown",
   "id": "ccc9f080",
   "metadata": {},
   "source": [
    "### パラメータの指定"
   ]
  },
  {
   "cell_type": "markdown",
   "id": "7b1d335d",
   "metadata": {},
   "source": [
    "Elasticスタックを構築するホスト名を次のセルで指定してください。"
   ]
  },
  {
   "cell_type": "code",
   "execution_count": null,
   "id": "8b1ffe6c",
   "metadata": {},
   "outputs": [],
   "source": [
    "# (例)\n",
    "# es_hostname = \"es.example.org\"\n",
    "# es_hostname = \"172.30.2.150\"\n",
    "\n",
    "es_hostname = "
   ]
  },
  {
   "cell_type": "markdown",
   "id": "6bf6b159",
   "metadata": {},
   "source": [
    "SSHで接続するためのユーザ名を指定してください。"
   ]
  },
  {
   "cell_type": "code",
   "execution_count": null,
   "id": "dfef156a",
   "metadata": {},
   "outputs": [],
   "source": [
    "# (例)\n",
    "# ssh_user = \"user01\"\n",
    "\n",
    "ssh_user = "
   ]
  },
  {
   "cell_type": "markdown",
   "id": "2b9891da",
   "metadata": {},
   "source": [
    "SSHで接続するための秘密鍵を指定してください。\n",
    "\n",
    "> ペアとなるSSHの公開鍵を事前に対象となるホストに登録しておいてください。"
   ]
  },
  {
   "cell_type": "code",
   "execution_count": null,
   "id": "7b31111e",
   "metadata": {},
   "outputs": [],
   "source": [
    "# (例)\n",
    "# ssh_private_key_path = \"~/.ssh/id_rsa\"\n",
    "\n",
    "ssh_private_key_path = "
   ]
  },
  {
   "cell_type": "markdown",
   "id": "15e2d406",
   "metadata": {},
   "source": [
    "構築対象を表すansibleのグループ名を指定してください。"
   ]
  },
  {
   "cell_type": "code",
   "execution_count": null,
   "id": "d47979b5",
   "metadata": {},
   "outputs": [],
   "source": [
    "# (例)\n",
    "# target_group = \"es\"\n",
    "\n",
    "target_group = "
   ]
  },
  {
   "cell_type": "markdown",
   "id": "c320e50e",
   "metadata": {
    "heading_collapsed": true
   },
   "source": [
    "### 設定ファイルの作成"
   ]
  },
  {
   "cell_type": "markdown",
   "id": "0949cb2a",
   "metadata": {
    "hidden": true
   },
   "source": [
    "Ansibleのインベントリファイルをカレントディレクトリに`inventory.yml`という名前で作成します。"
   ]
  },
  {
   "cell_type": "code",
   "execution_count": null,
   "id": "a1d48f03",
   "metadata": {
    "hidden": true
   },
   "outputs": [],
   "source": [
    "from pathlib import Path\n",
    "import yaml\n",
    "\n",
    "path_inventory = Path(\"inventory.yml\")\n",
    "if path_inventory.exists():\n",
    "    with path_inventory.open() as f:\n",
    "        inventory = yaml.safe_load(f)\n",
    "else:\n",
    "    inventory = {\"all\": {\"children\": {}}}\n",
    "es = {\n",
    "    target_group: {\n",
    "        \"hosts\": {\n",
    "            es_hostname: {\n",
    "                \"ansible_user\": ssh_user,\n",
    "                \"ansible_ssh_private_key_file\": str(Path(ssh_private_key_path).expanduser()),\n",
    "            }\n",
    "        }\n",
    "    }\n",
    "}\n",
    "inventory[\"all\"][\"children\"] |= es\n",
    "\n",
    "with path_inventory.open(mode=\"w\") as f:\n",
    "    yaml.safe_dump(inventory, f, default_flow_style=False)\n",
    "\n",
    "!cat inventory.yml"
   ]
  },
  {
   "cell_type": "markdown",
   "id": "4277dfe5",
   "metadata": {
    "hidden": true
   },
   "source": [
    "Ansibleの設定ファイル`ansible.cfg`にインベントリファイルのパスを設定します。"
   ]
  },
  {
   "cell_type": "code",
   "execution_count": null,
   "id": "1091a286",
   "metadata": {
    "hidden": true
   },
   "outputs": [],
   "source": [
    "import configparser\n",
    "\n",
    "config = config = configparser.ConfigParser()\n",
    "path_cfg = Path(\"ansible.cfg\")\n",
    "if path_cfg.exists():\n",
    "    with path_cfg.open() as f:\n",
    "        config.read_file(f)\n",
    "\n",
    "if not config.has_section(\"defaults\"):\n",
    "    config.add_section(\"defaults\")\n",
    "config[\"defaults\"][\"inventory\"] = str(path_inventory.resolve())\n",
    "\n",
    "with path_cfg.open(mode=\"w\") as f:\n",
    "    config.write(f)\n",
    "\n",
    "!cat ansible.cfg"
   ]
  },
  {
   "cell_type": "markdown",
   "id": "41e2bcfe",
   "metadata": {
    "hidden": true
   },
   "source": [
    "`~/.ssh/known_hosts`ファイルを更新します。"
   ]
  },
  {
   "cell_type": "code",
   "execution_count": null,
   "id": "e9dd5b29",
   "metadata": {
    "hidden": true
   },
   "outputs": [],
   "source": [
    "!mkdir -p -m 0700 ~/.ssh\n",
    "!touch ~/.ssh/known_hosts\n",
    "!ssh-keygen -R {es_hostname}\n",
    "!ssh-keyscan -H {es_hostname} >> ~/.ssh/known_hosts"
   ]
  },
  {
   "cell_type": "markdown",
   "id": "6650028e",
   "metadata": {
    "heading_collapsed": true
   },
   "source": [
    "### 接続確認"
   ]
  },
  {
   "cell_type": "markdown",
   "id": "f727a924",
   "metadata": {
    "hidden": true
   },
   "source": [
    "対象となるホストへの接続確認を行います。"
   ]
  },
  {
   "cell_type": "code",
   "execution_count": null,
   "id": "91609c90",
   "metadata": {
    "hidden": true
   },
   "outputs": [],
   "source": [
    "!ansible {target_group} -m ping"
   ]
  },
  {
   "cell_type": "markdown",
   "id": "98f8d527",
   "metadata": {
    "hidden": true
   },
   "source": [
    "管理者権限でコマンドを実行できることを確認します。"
   ]
  },
  {
   "cell_type": "code",
   "execution_count": null,
   "id": "5a08d2bd",
   "metadata": {
    "hidden": true
   },
   "outputs": [],
   "source": [
    "!ansible {target_group} -b -a 'whoami'"
   ]
  },
  {
   "cell_type": "markdown",
   "id": "9747e378",
   "metadata": {
    "heading_collapsed": true
   },
   "source": [
    "### docker\n",
    "\n",
    "対象となるホストでdockerが利用できることを確認します。"
   ]
  },
  {
   "cell_type": "code",
   "execution_count": null,
   "id": "a51f18e2",
   "metadata": {
    "hidden": true,
    "scrolled": true
   },
   "outputs": [],
   "source": [
    "!ansible {target_group} -a 'docker info'"
   ]
  },
  {
   "cell_type": "markdown",
   "id": "bf454a57",
   "metadata": {
    "heading_collapsed": true
   },
   "source": [
    "## Elasticsearch, Kibana"
   ]
  },
  {
   "cell_type": "markdown",
   "id": "5169469c",
   "metadata": {
    "hidden": true
   },
   "source": [
    "### パラメータの指定"
   ]
  },
  {
   "cell_type": "markdown",
   "id": "bbb32bae",
   "metadata": {
    "hidden": true
   },
   "source": [
    "Elasticスタックを構築するための資材を配置するディレクトリを指定します。"
   ]
  },
  {
   "cell_type": "code",
   "execution_count": null,
   "id": "5047959d",
   "metadata": {
    "hidden": true
   },
   "outputs": [],
   "source": [
    "# (例)\n",
    "# es_path = \"/srv/es\"\n",
    "\n",
    "es_path = \"/srv/es\""
   ]
  },
  {
   "cell_type": "markdown",
   "id": "d9236183",
   "metadata": {
    "hidden": true
   },
   "source": [
    "Elasticスタックのバージョンを指定します。\n",
    "\n",
    "> このnotebookの構築手順はElasticsearch v9で確認を行なっています。"
   ]
  },
  {
   "cell_type": "code",
   "execution_count": null,
   "id": "501a0f8f",
   "metadata": {
    "hidden": true
   },
   "outputs": [],
   "source": [
    "# (例)\n",
    "# es_version = \"9.1.2\"\n",
    "\n",
    "es_version = \"9.1.2\""
   ]
  },
  {
   "cell_type": "markdown",
   "id": "462c5cd4",
   "metadata": {
    "hidden": true
   },
   "source": [
    "設定されたパラメータを保存します。"
   ]
  },
  {
   "cell_type": "code",
   "execution_count": null,
   "id": "b111cf49",
   "metadata": {
    "hidden": true
   },
   "outputs": [],
   "source": [
    "%run scripts/group.py\n",
    "update_group_vars(\n",
    "    target_group,\n",
    "    _file='10-es.yml',\n",
    "    es_path=es_path,\n",
    "    es_version=es_version,\n",
    ")"
   ]
  },
  {
   "cell_type": "markdown",
   "id": "7eebda62",
   "metadata": {
    "hidden": true
   },
   "source": [
    "### 資材の配置\n",
    "\n",
    "Elasticスタックを起動するための資材を配置します。"
   ]
  },
  {
   "cell_type": "markdown",
   "id": "00e587ef",
   "metadata": {
    "hidden": true
   },
   "source": [
    "実際に資材を配置する前にチェックモードで実行します。"
   ]
  },
  {
   "cell_type": "code",
   "execution_count": null,
   "id": "e0afbc77",
   "metadata": {
    "hidden": true,
    "scrolled": true
   },
   "outputs": [],
   "source": [
    "!ansible-playbook -b -l {target_group} -CDv playbooks/deploy-es.yml"
   ]
  },
  {
   "cell_type": "markdown",
   "id": "53cb9d49",
   "metadata": {
    "hidden": true
   },
   "source": [
    "実際に資材を配置します。"
   ]
  },
  {
   "cell_type": "code",
   "execution_count": null,
   "id": "71e82cc5",
   "metadata": {
    "hidden": true,
    "scrolled": true
   },
   "outputs": [],
   "source": [
    "!ansible-playbook -b -l {target_group} -v playbooks/deploy-es.yml"
   ]
  },
  {
   "cell_type": "markdown",
   "id": "0afc7d7c",
   "metadata": {
    "hidden": true
   },
   "source": [
    "### コンテナの実行"
   ]
  },
  {
   "cell_type": "markdown",
   "id": "068341ea",
   "metadata": {
    "hidden": true
   },
   "source": [
    "コンテナを起動する前に、コンテナイメージの取得を行います。"
   ]
  },
  {
   "cell_type": "code",
   "execution_count": null,
   "id": "a1e8f514",
   "metadata": {
    "hidden": true
   },
   "outputs": [],
   "source": [
    "!ansible {target_group} -a 'chdir={es_path} docker compose pull -q'"
   ]
  },
  {
   "cell_type": "markdown",
   "id": "0697c967",
   "metadata": {
    "hidden": true
   },
   "source": [
    "コンテナを起動します。"
   ]
  },
  {
   "cell_type": "code",
   "execution_count": null,
   "id": "5806d1b2",
   "metadata": {
    "hidden": true,
    "scrolled": true
   },
   "outputs": [],
   "source": [
    "!ansible {target_group} -a 'chdir={es_path} docker compose up --wait'"
   ]
  },
  {
   "cell_type": "markdown",
   "id": "62bc23c6",
   "metadata": {
    "hidden": true
   },
   "source": [
    "コンテナの状態を確認します。"
   ]
  },
  {
   "cell_type": "code",
   "execution_count": null,
   "id": "7fa5e26f",
   "metadata": {
    "hidden": true
   },
   "outputs": [],
   "source": [
    "!ansible {target_group} -a 'chdir={es_path} docker compose ps'"
   ]
  },
  {
   "cell_type": "markdown",
   "id": "a8179104",
   "metadata": {
    "hidden": true
   },
   "source": [
    "構築したKibanaにアクセスできることを確認します。"
   ]
  },
  {
   "cell_type": "code",
   "execution_count": null,
   "id": "b9b4719a",
   "metadata": {
    "hidden": true,
    "scrolled": true
   },
   "outputs": [],
   "source": [
    "!curl -fI http://{es_hostname}:5601"
   ]
  },
  {
   "cell_type": "markdown",
   "id": "76063c1c",
   "metadata": {
    "hidden": true
   },
   "source": [
    "Kibanaのアドレスを表示します。"
   ]
  },
  {
   "cell_type": "code",
   "execution_count": null,
   "id": "6fcd3d97",
   "metadata": {
    "hidden": true
   },
   "outputs": [],
   "source": [
    "print(f\"http://{es_hostname}:5601\")"
   ]
  }
 ],
 "metadata": {
  "kernelspec": {
   "display_name": "Python 3",
   "language": "python",
   "name": "python3"
  },
  "language_info": {
   "file_extension": ".py",
   "mimetype": "text/x-python",
   "name": "python",
   "nbconvert_exporter": "python",
   "pygments_lexer": "ipython3",
   "version": "3.10.11"
  },
  "toc": {
   "base_numbering": 1,
   "nav_menu": {},
   "number_sections": true,
   "sideBar": true,
   "skip_h1_title": true,
   "title_cell": "Table of Contents",
   "title_sidebar": "Contents",
   "toc_cell": false,
   "toc_position": {},
   "toc_section_display": true,
   "toc_window_display": true
  }
 },
 "nbformat": 4,
 "nbformat_minor": 5
}
