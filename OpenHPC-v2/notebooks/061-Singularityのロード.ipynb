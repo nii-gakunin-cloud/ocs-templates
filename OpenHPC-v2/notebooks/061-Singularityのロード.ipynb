{
 "cells": [
  {
   "cell_type": "markdown",
   "metadata": {},
   "source": [
    "# Singularityのロード\n",
    "\n",
    "---\n",
    "\n",
    "構築したOpenHPC環境で[Singularity](https://sylabs.io/singularity/)がデフォルトでロードされるように設定します。"
   ]
  },
  {
   "cell_type": "markdown",
   "metadata": {},
   "source": [
    "## 前提条件\n",
    "\n",
    "このNotebookを実行するための前提条件を満たしていることを確認します。"
   ]
  },
  {
   "cell_type": "markdown",
   "metadata": {},
   "source": [
    "以下のことを前提条件とします。\n",
    "* 構築済のOpenHPC環境がある\n",
    "* OpenHPC環境の各ノードに対してAnsibleで操作できるように設定されている"
   ]
  },
  {
   "cell_type": "markdown",
   "metadata": {},
   "source": [
    "VCノードを作成時に指定した値を確認するために `group_vars` ファイル名の一覧を表示します。"
   ]
  },
  {
   "cell_type": "code",
   "execution_count": null,
   "metadata": {},
   "outputs": [],
   "source": [
    "!ls -1 group_vars/*.yml | sed -e 's/^group_vars\\///' -e 's/\\.yml//' | sort"
   ]
  },
  {
   "cell_type": "markdown",
   "metadata": {},
   "source": [
    "各ノードに対してAnsibleによる操作が行えることを確認します。操作対象となる UnitGroup 名を指定してください。"
   ]
  },
  {
   "cell_type": "code",
   "execution_count": null,
   "metadata": {
    "tags": [
     "vcp:skip",
     "vcp:parameters"
    ]
   },
   "outputs": [],
   "source": [
    "# (例)\n",
    "# ugroup_name = 'OpenHPC'\n",
    "\n",
    "ugroup_name = "
   ]
  },
  {
   "cell_type": "markdown",
   "metadata": {},
   "source": [
    "疎通確認を行います。"
   ]
  },
  {
   "cell_type": "code",
   "execution_count": null,
   "metadata": {},
   "outputs": [],
   "source": [
    "!ansible {ugroup_name} -m ping"
   ]
  },
  {
   "cell_type": "markdown",
   "metadata": {},
   "source": [
    "## 設定変更\n",
    "\n",
    "Singularity(version:3.7.1)をデフォルトで利用できるようにするために `/etc/profile.d/` の設定ファイルを変更します。"
   ]
  },
  {
   "cell_type": "markdown",
   "metadata": {},
   "source": [
    "OpenHPC環境では、デフォルトでは[Singularity](https://sylabs.io/singularity/)が利用できるようになっていません。ここでは`/etc/profile.d`/にある[Lmod](https://lmod.readthedocs.io/en/latest/index.html)の設定ファイルを変更操作して Singularity を利用できるようにします。\n",
    "\n",
    "> OpenHPCでは複数の開発ツールやライブラリから実際に利用するものを選択するためにLmodを使用しています。"
   ]
  },
  {
   "cell_type": "markdown",
   "metadata": {},
   "source": [
    "まずLmodのコマンド`module`を実行して、OpenHPC環境で利用可能なモジュールの一覧を表示してみます。"
   ]
  },
  {
   "cell_type": "code",
   "execution_count": null,
   "metadata": {
    "scrolled": true
   },
   "outputs": [],
   "source": [
    "!ansible {ugroup_name} -m shell -a 'module avail'"
   ]
  },
  {
   "cell_type": "markdown",
   "metadata": {},
   "source": [
    "一覧表示されたモジュールのなかで `(L)` のマークがついているものはLmodがロード済のもので、実行可能な状態になっています。\n",
    "\n",
    "ロードされたモジュールの一覧を表示してみます。"
   ]
  },
  {
   "cell_type": "code",
   "execution_count": null,
   "metadata": {
    "scrolled": true
   },
   "outputs": [],
   "source": [
    "!ansible {ugroup_name} -m shell -a 'module list'"
   ]
  },
  {
   "cell_type": "markdown",
   "metadata": {},
   "source": [
    "Lmod がデフォルトでロードするモジュールは `/etc/profile.d/` にある `lmod.sh`, `lmod.csh` で設定されています。Singularityをロードするように設定ファイルを書き換えます。"
   ]
  },
  {
   "cell_type": "code",
   "execution_count": null,
   "metadata": {
    "scrolled": true
   },
   "outputs": [],
   "source": [
    "# 書き換え対象のファイル\n",
    "files = ['/etc/profile.d/lmod.sh', '/etc/profile.d/lmod.csh']\n",
    "\n",
    "# 追加する行\n",
    "line = 'module try-add singularity'\n",
    "\n",
    "for file in files:\n",
    "    !ansible {ugroup_name} -m lineinfile -b -a \\\n",
    "        'path={file} backup=yes line=\"{line}\" regexp=\"module\\s+try-add\\s+singularity\"'"
   ]
  },
  {
   "cell_type": "markdown",
   "metadata": {},
   "source": [
    "設定が変更されたことを確認するために、ロードモジュールの内容を再度確認してみます。"
   ]
  },
  {
   "cell_type": "code",
   "execution_count": null,
   "metadata": {
    "scrolled": true
   },
   "outputs": [],
   "source": [
    "!ansible {ugroup_name} -m shell -a 'module list'"
   ]
  },
  {
   "cell_type": "markdown",
   "metadata": {},
   "source": [
    "以下のように `singularity/3.7.1` がロードモジュールに追加されていれば、設定変更が行われたことが確認できます。\n",
    "```\n",
    "Currently Loaded Modules:\n",
    "  1) autotools\n",
    "  2) prun/2.2\n",
    "  3) gnu12/12.4.0\n",
    "  4) hwloc/2.7.2\n",
    "  5) ucx/1.15.0\n",
    "  6) libfabric/1.19.0\n",
    "  7) openmpi4/4.1.6\n",
    "  8) ohpc\n",
    "  9) singularity/3.7.1\n",
    "```"
   ]
  },
  {
   "cell_type": "markdown",
   "metadata": {},
   "source": [
    "Singularityがロードされていることを確認します。\n",
    "\n",
    "> ロードされていない場合は、次のセルを実行するとエラーになります。"
   ]
  },
  {
   "cell_type": "code",
   "execution_count": null,
   "metadata": {},
   "outputs": [],
   "source": [
    "!ansible {ugroup_name} -m shell -a 'module is-loaded singularity'"
   ]
  },
  {
   "cell_type": "markdown",
   "metadata": {},
   "source": [
    "`singularity`コマンドが実行できることを確認します。"
   ]
  },
  {
   "cell_type": "code",
   "execution_count": null,
   "metadata": {},
   "outputs": [],
   "source": [
    "!ansible {ugroup_name} -m shell -a 'singularity version'"
   ]
  }
 ],
 "metadata": {
  "kernelspec": {
   "display_name": "Python 3",
   "language": "python",
   "name": "python3"
  },
  "language_info": {
   "file_extension": ".py",
   "mimetype": "text/x-python",
   "name": "python",
   "nbconvert_exporter": "python",
   "pygments_lexer": "ipython3",
   "version": "3.10.4"
  },
  "toc": {
   "base_numbering": 1,
   "nav_menu": {},
   "number_sections": true,
   "sideBar": true,
   "skip_h1_title": true,
   "title_cell": "Table of Contents",
   "title_sidebar": "Contents",
   "toc_cell": false,
   "toc_position": {},
   "toc_section_display": true,
   "toc_window_display": true
  }
 },
 "nbformat": 4,
 "nbformat_minor": 2
}
