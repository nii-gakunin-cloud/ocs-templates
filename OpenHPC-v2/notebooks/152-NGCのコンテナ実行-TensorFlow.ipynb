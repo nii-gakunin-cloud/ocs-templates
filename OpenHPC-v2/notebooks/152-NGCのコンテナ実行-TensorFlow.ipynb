{
 "cells": [
  {
   "cell_type": "markdown",
   "metadata": {},
   "source": [
    "# NGC Catalogのコンテナを実行する--TensorFlow-Docker\n",
    "\n",
    "---\n",
    "\n",
    "構築したOpenHPC環境でNGC Catalogの[TensorFlowコンテナ](https://ngc.nvidia.com/catalog/containers/nvidia:tensorflow)を実行します。"
   ]
  },
  {
   "cell_type": "markdown",
   "metadata": {},
   "source": [
    "## 前提条件\n",
    "\n",
    "このNotebookを実行するための前提条件を満たしていることを確認します。"
   ]
  },
  {
   "cell_type": "markdown",
   "metadata": {},
   "source": [
    "以下のことを前提条件とします。\n",
    "* 構築済のOpenHPC環境がある\n",
    "* OpenHPC環境のマスターノードに対してSSHでログインできる\n",
    "* 計算ノードでDockerが利用できること\n",
    "* SlurmのGeneric Resource(GRES)としてGPUが登録されていること\n",
    "* GPUがCUDA Compute Capability 5.2以上であること\n",
    "\n",
    "> [AWS P2](https://aws.amazon.com/jp/ec2/instance-types/p2/)などのNVIDIA K80は[Compute Capability](https://developer.nvidia.com/cuda-gpus)が3.7なので、このNotebookで利用しているコンテナイメージを実行することができません。"
   ]
  },
  {
   "cell_type": "markdown",
   "metadata": {},
   "source": [
    "マスターノードに対して SSH でログインできることを確認します。マスターノードのIPアドレスを指定してください。"
   ]
  },
  {
   "cell_type": "code",
   "execution_count": null,
   "metadata": {
    "tags": [
     "vcp:skip",
     "vcp:parameters"
    ]
   },
   "outputs": [],
   "source": [
    "# (例)\n",
    "# master_address = '172.30.XXX.xxx'\n",
    "\n",
    "master_address = "
   ]
  },
  {
   "cell_type": "markdown",
   "metadata": {},
   "source": [
    "SSHでログインするユーザ名を指定してください。"
   ]
  },
  {
   "cell_type": "code",
   "execution_count": null,
   "metadata": {
    "tags": [
     "vcp:skip",
     "vcp:parameters"
    ]
   },
   "outputs": [],
   "source": [
    "# (例)\n",
    "# user = 'vcp'\n",
    "# user = 'user00'\n",
    "\n",
    "user = "
   ]
  },
  {
   "cell_type": "markdown",
   "metadata": {},
   "source": [
    "必要であればSSHの秘密鍵を指定してください。"
   ]
  },
  {
   "cell_type": "code",
   "execution_count": null,
   "metadata": {
    "tags": [
     "vcp:rewrite:ssh_identity"
    ]
   },
   "outputs": [],
   "source": [
    "# (例)\n",
    "# ssh_identity = '~/.ssh/id_rsa'"
   ]
  },
  {
   "cell_type": "markdown",
   "metadata": {},
   "source": [
    "SSHでログインする際の引数を、変数に格納しておきます。"
   ]
  },
  {
   "cell_type": "code",
   "execution_count": null,
   "metadata": {
    "tags": [
     "vcp:parameters"
    ]
   },
   "outputs": [],
   "source": [
    "# ユーザ名とホスト名\n",
    "target = f'{user}@{master_address}'\n",
    "print(target)\n",
    "\n",
    "# SSHのコマンドライン引数\n",
    "ssh_opts = f'-i {ssh_identity}' if 'ssh_identity' in vars() else ''\n",
    "print(ssh_opts)"
   ]
  },
  {
   "cell_type": "markdown",
   "metadata": {},
   "source": [
    "マスターノードに対してSSHでログインしてコマンドを実行してみます。"
   ]
  },
  {
   "cell_type": "code",
   "execution_count": null,
   "metadata": {},
   "outputs": [],
   "source": [
    "!ssh {ssh_opts} {target} hostname"
   ]
  },
  {
   "cell_type": "markdown",
   "metadata": {},
   "source": [
    "計算ノード数を指定してください。"
   ]
  },
  {
   "cell_type": "code",
   "execution_count": null,
   "metadata": {},
   "outputs": [],
   "source": [
    "# (例)\n",
    "# nodes = 1\n",
    "\n",
    "nodes = "
   ]
  },
  {
   "cell_type": "markdown",
   "metadata": {},
   "source": [
    "Dockerを利用できることを確認します。"
   ]
  },
  {
   "cell_type": "code",
   "execution_count": null,
   "metadata": {
    "scrolled": true
   },
   "outputs": [],
   "source": [
    "!ssh {ssh_opts} {target} 'srun -N {nodes} docker info'"
   ]
  },
  {
   "cell_type": "markdown",
   "metadata": {},
   "source": [
    "上のセルがエラーになった場合は Docker Engineがインストールされていないか docker を実行する権限が与えられていません。\n",
    "\n",
    "以下のようなエラーが表示された場合は Docker Engine がインストールされていません。「071-DockerEngineのインストール.ipynb」を実行してDocker Engineを利用できるようにしてください。\n",
    "```\n",
    "slurmstepd: error: execve(): docker: No such file or directory\n",
    "```\n",
    "\n",
    "また、以下のようなエラーが表示された場合は docker を実行する権限が与えられていません。「051-ユーザの追加.ipynb」の「グループの追加」などを参考に`docker`グループへの追加を行ってください。\n",
    "```\n",
    "ERROR: Got permission denied while trying to connect to the Docker daemon socket at unix:///var/run/docker.sock: \n",
    "```"
   ]
  },
  {
   "cell_type": "markdown",
   "metadata": {},
   "source": [
    "SlurmのGeneric Resource(GRES)としてGPUが登録されていることを確認します。"
   ]
  },
  {
   "cell_type": "code",
   "execution_count": null,
   "metadata": {},
   "outputs": [],
   "source": [
    "!ssh {ssh_opts} {target} sinfo -N --Format=NodeHost,Gres | grep -w gpu"
   ]
  },
  {
   "cell_type": "markdown",
   "metadata": {},
   "source": [
    "上のセルがエラーになった場合はSlurmにGPUがGRESとして登録されていません。「032-設定ファイルの編集-GRESの登録.ipynb」を実行してGRESの設定をしてください。"
   ]
  },
  {
   "cell_type": "markdown",
   "metadata": {},
   "source": [
    "## TensorFlowコンテナの実行\n",
    "\n",
    "TensorFlowコンテナでMNISTを実行してみます。"
   ]
  },
  {
   "cell_type": "markdown",
   "metadata": {},
   "source": [
    "### コンテナイメージの取得"
   ]
  },
  {
   "cell_type": "markdown",
   "metadata": {},
   "source": [
    "NGCカタログから[TensorFlow](https://ngc.nvidia.com/catalog/containers/nvidia:tensorflow)のコンテナイメージを取得します。"
   ]
  },
  {
   "cell_type": "code",
   "execution_count": null,
   "metadata": {
    "scrolled": true
   },
   "outputs": [],
   "source": [
    "ngc_version = '24.04'\n",
    "docker_image = f'nvcr.io/nvidia/tensorflow:{ngc_version}-tf2-py3'"
   ]
  },
  {
   "cell_type": "code",
   "execution_count": null,
   "metadata": {
    "scrolled": true
   },
   "outputs": [],
   "source": [
    "!ssh {ssh_opts} {target} srun -N {nodes} docker pull {docker_image}"
   ]
  },
  {
   "cell_type": "markdown",
   "metadata": {},
   "source": [
    "ユーザを追加したコンテナイメージを作成します。"
   ]
  },
  {
   "cell_type": "code",
   "execution_count": null,
   "metadata": {
    "scrolled": true
   },
   "outputs": [],
   "source": [
    "from pathlib import Path\n",
    "from tempfile import TemporaryDirectory\n",
    "\n",
    "!ssh {ssh_opts} {target} mkdir -p tensorflow-img\n",
    "out = !ssh {ssh_opts} {target} id -u\n",
    "uid = out[0]\n",
    "with TemporaryDirectory() as workdir:\n",
    "    dockerfile = Path(workdir) / 'Dockerfile'\n",
    "    with dockerfile.open(mode='w') as f:\n",
    "        f.write(f'''\n",
    "FROM {docker_image}\n",
    "\n",
    "ARG USER={user}\n",
    "RUN useradd -m ${{USER}} -u {uid}\n",
    "WORKDIR /home/${{USER}}\n",
    "USER {user}\n",
    "''')\n",
    "    !cat {dockerfile}\n",
    "    !scp {ssh_opts} {dockerfile} {target}:tensorflow-img\n",
    "\n",
    "!ssh {ssh_opts} {target} srun -N {nodes} docker build -t tensorflow-{user} tensorflow-img"
   ]
  },
  {
   "cell_type": "markdown",
   "metadata": {},
   "source": [
    "### 準備\n",
    "\n",
    "MNISTのデータやスクリプトを準備します。"
   ]
  },
  {
   "cell_type": "markdown",
   "metadata": {},
   "source": [
    "まず、データやスクリプトを配置するディレクトリを作成します。"
   ]
  },
  {
   "cell_type": "code",
   "execution_count": null,
   "metadata": {},
   "outputs": [],
   "source": [
    "work_dir = 'tensorflow'\n",
    "!ssh {ssh_opts} {target} mkdir -p {work_dir}"
   ]
  },
  {
   "cell_type": "markdown",
   "metadata": {},
   "source": [
    "データをダウンロードするためのスクリプトを配置します。"
   ]
  },
  {
   "cell_type": "code",
   "execution_count": null,
   "metadata": {},
   "outputs": [],
   "source": [
    "!scp {ssh_opts} template/tensorflow/download_mnist.py {target}:{work_dir}"
   ]
  },
  {
   "cell_type": "markdown",
   "metadata": {},
   "source": [
    "TensorFlowの[Quickstart for beginners](https://www.tensorflow.org/tutorials/quickstart/beginner)で実行しているのと同等のスクリプトをOpenHPC環境に配置します。"
   ]
  },
  {
   "cell_type": "code",
   "execution_count": null,
   "metadata": {},
   "outputs": [],
   "source": [
    "!scp {ssh_opts} template/tensorflow/mnist_classify.py {target}:{work_dir}"
   ]
  },
  {
   "cell_type": "markdown",
   "metadata": {},
   "source": [
    "取得したスクリプトの内容を先頭部分を表示してみます。"
   ]
  },
  {
   "cell_type": "code",
   "execution_count": null,
   "metadata": {},
   "outputs": [],
   "source": [
    "!ssh {ssh_opts} {target} head {work_dir}/mnist_classify.py"
   ]
  },
  {
   "cell_type": "markdown",
   "metadata": {},
   "source": [
    "### コンテナからGPUが利用できることを確認する\n",
    "\n",
    "Singularityで実行したコンテナ環境からGPUを利用できることを確認します。"
   ]
  },
  {
   "cell_type": "markdown",
   "metadata": {},
   "source": [
    "GPUを利用できるかをチェックするスクリプトを配置します。"
   ]
  },
  {
   "cell_type": "code",
   "execution_count": null,
   "metadata": {},
   "outputs": [],
   "source": [
    "!scp {ssh_opts} template/tensorflow/check_gpu.py {target}:{work_dir}"
   ]
  },
  {
   "cell_type": "markdown",
   "metadata": {},
   "source": [
    "コンテナを実行できるようにするためにホームディレクトリのパーミッションを変更します。"
   ]
  },
  {
   "cell_type": "code",
   "execution_count": null,
   "metadata": {},
   "outputs": [],
   "source": [
    "!ssh {ssh_opts} {target} chmod 755 ."
   ]
  },
  {
   "cell_type": "markdown",
   "metadata": {},
   "source": [
    "GPU利用の可否をチェックするスクリプトを実行します。次のセルを実行してエラーとならないことを確認してください。"
   ]
  },
  {
   "cell_type": "code",
   "execution_count": null,
   "metadata": {
    "scrolled": true
   },
   "outputs": [],
   "source": [
    "!ssh {ssh_opts} {target} srun -N {nodes} --gpus-per-node=1 \\\n",
    "    docker run --gpus all --ipc=host -v /home/{user}:/home/{user} --rm tensorflow-{user} \\\n",
    "    python {work_dir}/check_gpu.py"
   ]
  },
  {
   "cell_type": "markdown",
   "metadata": {},
   "source": [
    "### ジョブの実行\n",
    "\n",
    "MNISTのスクリプトをSlurmのジョブとして実行します。"
   ]
  },
  {
   "cell_type": "markdown",
   "metadata": {},
   "source": [
    "ジョブの実行スクリプトを作成します。"
   ]
  },
  {
   "cell_type": "code",
   "execution_count": null,
   "metadata": {},
   "outputs": [],
   "source": [
    "from tempfile import TemporaryDirectory\n",
    "from pathlib import Path\n",
    "\n",
    "with TemporaryDirectory() as workdir:\n",
    "    batch_file = Path(workdir) / 'tensorflow_mnist_docker.job'\n",
    "    with batch_file.open(mode='w') as f:\n",
    "        f.write(f'''#!/bin/bash\n",
    "        \n",
    "#SBATCH -J tensorflow-mnist-docker         # create a short name for your job\n",
    "#SBATCH -o tensorflow-mnist-docker.%j.out  # Name of stdout output file (%j expands to jobId)\n",
    "#SBATCH -N 1                               # Total number of nodes requested\n",
    "#SBATCH -n 1                               # Total number of across all nodes\n",
    "#SBATCH --gres=gpu:1                       # number of gpus per node\n",
    "#SBATCH -t 00:10:00                        # Run time (hh:mm:ss)\n",
    "\n",
    "docker run -td --gpus all -v /home/{user}:/home/{user} --rm --ipc=host --net=host --name tensorflow-{user} tensorflow-{user}\n",
    "docker exec -t -u {user} -w $HOME/{work_dir} tensorflow-{user} python3 download_mnist.py\n",
    "docker exec -t -u {user} -w $HOME/{work_dir} tensorflow-{user} python3 mnist_classify.py\n",
    "docker stop tensorflow-{user}\n",
    "''')\n",
    "    !cat {batch_file}\n",
    "    !scp {ssh_opts} {str(batch_file)} {target}:{work_dir}"
   ]
  },
  {
   "cell_type": "markdown",
   "metadata": {},
   "source": [
    "ジョブを実行する前のキューの状態を確認します。"
   ]
  },
  {
   "cell_type": "code",
   "execution_count": null,
   "metadata": {},
   "outputs": [],
   "source": [
    "!ssh {ssh_opts} {target} squeue"
   ]
  },
  {
   "cell_type": "markdown",
   "metadata": {},
   "source": [
    "ノードのGPU利用状況を確認します。"
   ]
  },
  {
   "cell_type": "code",
   "execution_count": null,
   "metadata": {},
   "outputs": [],
   "source": [
    "!ssh {ssh_opts} {target} sinfo --Node --Format=NodeHost,Gres,GresUsed"
   ]
  },
  {
   "cell_type": "markdown",
   "metadata": {},
   "source": [
    "ジョブを実行します。"
   ]
  },
  {
   "cell_type": "code",
   "execution_count": null,
   "metadata": {},
   "outputs": [],
   "source": [
    "!ssh {ssh_opts} {target} bash -l -c \\\n",
    "    \"'cd {work_dir} && sbatch tensorflow_mnist_docker.job'\""
   ]
  },
  {
   "cell_type": "markdown",
   "metadata": {},
   "source": [
    "ジョブの実行状況を確認します。"
   ]
  },
  {
   "cell_type": "code",
   "execution_count": null,
   "metadata": {},
   "outputs": [],
   "source": [
    "!ssh {ssh_opts} {target} squeue"
   ]
  },
  {
   "cell_type": "markdown",
   "metadata": {},
   "source": [
    "ノードのGPU利用状況を確認します。`GRES_USED` の欄でノードのGPU利用状況を確認してください。"
   ]
  },
  {
   "cell_type": "code",
   "execution_count": null,
   "metadata": {},
   "outputs": [],
   "source": [
    "!ssh {ssh_opts} {target} sinfo --Node --Format=NodeHost,Gres,GresUsed"
   ]
  },
  {
   "cell_type": "markdown",
   "metadata": {},
   "source": [
    "ジョブが完了するまで数分かかります。ジョブ実行中のCPU, メモリ, GPUなどの利用状況は VCC の Grafana で確認することができます。"
   ]
  },
  {
   "cell_type": "markdown",
   "metadata": {},
   "source": [
    "ジョブの完了後に次のセルを実行してください。ジョブの出力結果が確認できます。"
   ]
  },
  {
   "cell_type": "code",
   "execution_count": null,
   "metadata": {
    "tags": [
     "vcp:wait:180"
    ]
   },
   "outputs": [],
   "source": [
    "!ssh {ssh_opts} {target} bash -l -c \\\n",
    "    \"'cd {work_dir} && tail tensorflow-mnist*.out'\""
   ]
  },
  {
   "cell_type": "markdown",
   "metadata": {},
   "source": [
    "ジョブの実行が完了していれば出力結果の末尾に以下のような内容が表示されます。\n",
    "\n",
    "```\n",
    "1875/1875 [==============================] - 2s 1ms/step - loss: 0.1098 - accuracy: 0.9664\n",
    "Epoch 4/5\n",
    "1875/1875 [==============================] - 2s 1ms/step - loss: 0.0891 - accuracy: 0.9724\n",
    "Epoch 5/5\n",
    "1875/1875 [==============================] - 2s 1ms/step - loss: 0.0748 - accuracy: 0.9755\n",
    "313/313 - 0s - loss: 0.0839 - accuracy: 0.9748\n",
    "\n",
    "Test accuracy: 0.9747999906539917\n",
    "```"
   ]
  }
 ],
 "metadata": {
  "kernelspec": {
   "display_name": "Python 3",
   "language": "python",
   "name": "python3"
  },
  "language_info": {
   "file_extension": ".py",
   "mimetype": "text/x-python",
   "name": "python",
   "nbconvert_exporter": "python",
   "pygments_lexer": "ipython3",
   "version": "3.10.4"
  },
  "toc": {
   "base_numbering": 1,
   "nav_menu": {},
   "number_sections": true,
   "sideBar": true,
   "skip_h1_title": true,
   "title_cell": "Table of Contents",
   "title_sidebar": "Contents",
   "toc_cell": false,
   "toc_position": {},
   "toc_section_display": true,
   "toc_window_display": true
  }
 },
 "nbformat": 4,
 "nbformat_minor": 2
}
