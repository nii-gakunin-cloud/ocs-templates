{
 "cells": [
  {
   "cell_type": "markdown",
   "metadata": {},
   "source": [
    "# OpenHPCの起動\n",
    "\n",
    "---\n",
    "\n",
    "OpenHPC環境を構成するVCノード、VCディスクを作成します。"
   ]
  },
  {
   "cell_type": "markdown",
   "metadata": {},
   "source": [
    "## 構成\n",
    "\n",
    "このNotebookが構築する環境の構成を図に示します。\n",
    "\n",
    "![構成](images/ohpc-000.png)"
   ]
  },
  {
   "cell_type": "markdown",
   "metadata": {},
   "source": [
    "## 準備\n",
    "\n",
    "このNotebookを実行するための準備作業を行います。"
   ]
  },
  {
   "cell_type": "markdown",
   "metadata": {},
   "source": [
    "### UnitGroup名の指定\n",
    "\n",
    "構築環境の UnitGroup名を指定します。\n",
    "\n",
    "> 「010-パラメータ設定.ipynb」と同じUnitGroup名(`ugroup_name`)を指定することで、既に入力したパラメータを引き継ぐことができます。"
   ]
  },
  {
   "cell_type": "markdown",
   "metadata": {},
   "source": [
    "VCノードを作成時に指定した値を確認するために `group_vars` ファイル名の一覧を表示します。"
   ]
  },
  {
   "cell_type": "code",
   "execution_count": null,
   "metadata": {},
   "outputs": [],
   "source": [
    "!ls -1 group_vars/*.yml | sed -e 's/^group_vars\\///' -e 's/\\.yml//' | sort"
   ]
  },
  {
   "cell_type": "markdown",
   "metadata": {},
   "source": [
    "UnitGroup名を次のセルに指定してください。"
   ]
  },
  {
   "cell_type": "code",
   "execution_count": null,
   "metadata": {
    "tags": [
     "vcp:skip",
     "vcp:parameters"
    ]
   },
   "outputs": [],
   "source": [
    "# (例)\n",
    "# ugroup_name = 'OpenHPC'\n",
    "\n",
    "ugroup_name = "
   ]
  },
  {
   "cell_type": "markdown",
   "metadata": {},
   "source": [
    "### VCCアクセストークンの入力\n",
    "\n",
    "VCノードを起動するにはVC Controller(VCC)にアクセスして、操作を行う必要があります。VCCにアクセスするために必要となるアクセストークンをここで入力します。"
   ]
  },
  {
   "cell_type": "code",
   "execution_count": null,
   "metadata": {
    "tags": [
     "vcp:skip",
     "vcp:parameters"
    ]
   },
   "outputs": [],
   "source": [
    "from getpass import getpass\n",
    "vcc_access_token = getpass()"
   ]
  },
  {
   "cell_type": "markdown",
   "metadata": {},
   "source": [
    "入力されたアクセストークンが正しいことを、実際にVCCにアクセスして確認します。"
   ]
  },
  {
   "cell_type": "code",
   "execution_count": null,
   "metadata": {
    "tags": [
     "vcp:rewrite:vcpsdk"
    ]
   },
   "outputs": [],
   "source": [
    "from common import logsetting\n",
    "from vcpsdk.vcpsdk import VcpSDK\n",
    "vcp = VcpSDK(vcc_access_token)"
   ]
  },
  {
   "cell_type": "markdown",
   "metadata": {},
   "source": [
    "上のセルの実行結果がエラーとなり以下のようなメッセージが表示されている場合は、入力されたアクセストークンに誤りがあります。\n",
    "\n",
    "```\n",
    "config vc failed: http_status(403)\n",
    "2021/XX/XX XX:XX:XX UTC: VCPAuthException: xxxxxxx:token lookup is failed: permission denied\n",
    "```\n",
    "\n",
    "エラーになった場合はこの節のセルを全て `unfreeze` してから、もう一度アクセストークンの入力を行ってください。\n",
    "\n",
    "> `unfreeze`するにはNotebookのツールバーにある`unfreeze below in section`ボタンなどを利用してください。"
   ]
  },
  {
   "cell_type": "markdown",
   "metadata": {},
   "source": [
    "### group_varsの読み込み"
   ]
  },
  {
   "cell_type": "markdown",
   "metadata": {},
   "source": [
    "次のセルを実行すると「010-パラメータの設定.ipynb」で指定したパラメータを読み込みます。読み込むパラメータの値は、UnitGroup名に指定した 値に対応するものになります。UnitGroup名の指定が誤っていると意図したパラメータが読み込めないので注意してください。"
   ]
  },
  {
   "cell_type": "code",
   "execution_count": null,
   "metadata": {},
   "outputs": [],
   "source": [
    "%run scripts/group.py\n",
    "\n",
    "gvars = load_group_vars(ugroup_name)"
   ]
  },
  {
   "cell_type": "markdown",
   "metadata": {
    "heading_collapsed": true
   },
   "source": [
    "## VCディスクの作成\n",
    "\n",
    "マスターノードのNFSサーバが公開するファイルを配置するためのディスクを作成します。\n",
    "\n",
    "> 「010-パラメータ設定.ipynb」でVCディスクを作成しない設定にした場合は、この節を実行してもVCディスクは作成されません。\n",
    "\n",
    "![VCディスク](images/ohpc-007.png)"
   ]
  },
  {
   "cell_type": "markdown",
   "metadata": {
    "hidden": true
   },
   "source": [
    "### VCディスクのUnitGroup作成\n",
    "\n",
    "VCディスクを管理するためのUnitGroupを作成します。"
   ]
  },
  {
   "cell_type": "markdown",
   "metadata": {
    "hidden": true
   },
   "source": [
    "UnitGroupを作成する前に、現在のUnitGroupの一覧を確認します。"
   ]
  },
  {
   "cell_type": "code",
   "execution_count": null,
   "metadata": {
    "hidden": true
   },
   "outputs": [],
   "source": [
    "vcp.df_ugroups()"
   ]
  },
  {
   "cell_type": "markdown",
   "metadata": {
    "hidden": true
   },
   "source": [
    "VCディスクのUnitGroupを作成します。"
   ]
  },
  {
   "cell_type": "code",
   "execution_count": null,
   "metadata": {
    "hidden": true
   },
   "outputs": [],
   "source": [
    "if 'nfs_disk_size' in gvars:\n",
    "    ug_disk = vcp.create_ugroup(f'{ugroup_name}_disk', ugroup_type='storage')"
   ]
  },
  {
   "cell_type": "markdown",
   "metadata": {
    "hidden": true
   },
   "source": [
    "UnitGroupの一覧を確認します。"
   ]
  },
  {
   "cell_type": "code",
   "execution_count": null,
   "metadata": {
    "hidden": true
   },
   "outputs": [],
   "source": [
    "vcp.df_ugroups()"
   ]
  },
  {
   "cell_type": "markdown",
   "metadata": {
    "hidden": true
   },
   "source": [
    "### VCディスクの作成\n",
    "\n",
    "VCディスクを作成します。"
   ]
  },
  {
   "cell_type": "code",
   "execution_count": null,
   "metadata": {
    "hidden": true
   },
   "outputs": [],
   "source": [
    "if 'nfs_disk_size' in gvars:\n",
    "    provider = gvars['vc_provider']\n",
    "    spec_disk = vcp.get_spec(f'{provider}_disk', 'small')\n",
    "    if gvars['vc_provider'] == 'azure':\n",
    "        spec_disk.disk_size_gb = gvars['nfs_disk_size']\n",
    "    if gvars['vc_provider'] == 'oracle':\n",
    "        spec_disk.size_in_gbs = gvars['nfs_disk_size']\n",
    "    else:\n",
    "        spec_disk.size = gvars['nfs_disk_size']\n",
    "    unit_disk = ug_disk.create_unit('nfs', spec_disk)"
   ]
  },
  {
   "cell_type": "markdown",
   "metadata": {
    "hidden": true
   },
   "source": [
    "UnitGroupに作成したVCディスクの一覧を表示してみます。"
   ]
  },
  {
   "cell_type": "code",
   "execution_count": null,
   "metadata": {
    "hidden": true
   },
   "outputs": [],
   "source": [
    "from IPython.display import display\n",
    "if 'unit_disk' in vars() and unit_disk:\n",
    "    display(unit_disk.df_nodes())"
   ]
  },
  {
   "cell_type": "markdown",
   "metadata": {
    "heading_collapsed": true
   },
   "source": [
    "## VCノードの起動\n",
    "\n",
    "マスターノード、計算ノードとして利用するVCノードを起動します。"
   ]
  },
  {
   "cell_type": "markdown",
   "metadata": {
    "hidden": true
   },
   "source": [
    "### VCノードのUnitGroup作成\n",
    "\n",
    "VCノードを管理するためのUnitGroupを作成します。"
   ]
  },
  {
   "cell_type": "markdown",
   "metadata": {
    "hidden": true
   },
   "source": [
    "UnitGroupを作成する前に、現在のUnitGroupの一覧を確認します。"
   ]
  },
  {
   "cell_type": "code",
   "execution_count": null,
   "metadata": {
    "hidden": true,
    "scrolled": true
   },
   "outputs": [],
   "source": [
    "vcp.df_ugroups()"
   ]
  },
  {
   "cell_type": "markdown",
   "metadata": {
    "hidden": true
   },
   "source": [
    "VCノードのUnitGroupを作成します。"
   ]
  },
  {
   "cell_type": "code",
   "execution_count": null,
   "metadata": {
    "hidden": true
   },
   "outputs": [],
   "source": [
    "ug = vcp.create_ugroup(ugroup_name)"
   ]
  },
  {
   "cell_type": "markdown",
   "metadata": {
    "hidden": true
   },
   "source": [
    "UnitGroupの一覧を確認します。"
   ]
  },
  {
   "cell_type": "code",
   "execution_count": null,
   "metadata": {
    "hidden": true
   },
   "outputs": [],
   "source": [
    "vcp.df_ugroups()"
   ]
  },
  {
   "cell_type": "markdown",
   "metadata": {
    "hidden": true
   },
   "source": [
    "### マスターノード\n",
    "\n",
    "マスターノードとして利用するVCノードを起動します。\n",
    "\n",
    "![マスターノード](images/ohpc-008.png)"
   ]
  },
  {
   "cell_type": "markdown",
   "metadata": {
    "hidden": true
   },
   "source": [
    "#### spec を指定する\n",
    "\n",
    "「010-パラメータ設定.ipynb」で指定したパラメータを`spec` に設定します。"
   ]
  },
  {
   "cell_type": "markdown",
   "metadata": {
    "hidden": true
   },
   "source": [
    "`spec`に設定するパラメータを以下に示します。\n",
    "\n",
    "* `image`: Baseコンテナイメージ\n",
    "  - Baseコンテナイメージを設定します\n",
    "* `params_v`: ボリューム設定\n",
    "  - Baseコンテナのボリュームを設定します\n",
    "  - OpenHPCコンテナではホスト側の `/sys/fs/cgroup` をコンテナから見えるように設定する必要があります\n",
    "* `ip_addresses`: IPアドレス\n",
    "  - VCノードに割り当てるプライベートIPアドレスを設定します\n",
    "* `disks`: VCディスクのリスト\n",
    "  - VCノードにアタッチするVCディスクのリストを設定します\n",
    "* `volume_size`: ルートボリュームサイズ\n",
    "  - VCノードのルートボリュームサイズを設定します\n",
    "* `instance_type`: インスタンスタイプ\n",
    "  - VCノードのインスタンスタイプ\n",
    "* `set_ssh_publickey()`: SSHの公開鍵\n",
    "  - VCノードに登録するSSHの公開鍵"
   ]
  },
  {
   "cell_type": "code",
   "execution_count": null,
   "metadata": {
    "hidden": true,
    "tags": [
     "vcp:rewrite:docker_registry"
    ]
   },
   "outputs": [],
   "source": [
    "spec_master = vcp.get_spec(gvars['vc_provider'], gvars['master_flavor'])\n",
    "spec_master.image = 'harbor.vcloud.nii.ac.jp/vcp/openhpc:master-2.8'\n",
    "spec_master.params_v = ['/sys/fs/cgroup:/sys/fs/cgroup:rw']\n",
    "# onpremisesの場合にはnum_nodesを明示的に指定\n",
    "if gvars['vc_provider'] == 'onpremises':\n",
    "    spec_master.num_nodes = 1\n",
    "spec_master.ip_addresses = [gvars['master_ipaddress']]\n",
    "if 'ug_disk' in vars() and ug_disk:\n",
    "    spec_master.disks = ug_disk.find_nodes()\n",
    "else:\n",
    "    spec_master.params_v.append('/srv/OpenHPC:/exports')\n",
    "if gvars['vc_provider'] == 'aws':\n",
    "    spec_master.volume_size = gvars['master_root_size']\n",
    "    if 'master_instance_type' in gvars:\n",
    "        spec_master.instance_type = gvars['master_instance_type']\n",
    "elif gvars['vc_provider'] == 'azure':\n",
    "    spec_master.disk_size_gb = gvars['master_root_size']\n",
    "    if 'master_instance_type' in gvars:\n",
    "        spec_master.vm_size = gvars['master_instance_type']\n",
    "elif gvars['vc_provider'] == 'oracle':\n",
    "    spec_master.boot_volume_size_in_gbs = gvars['master_root_size']\n",
    "    if 'master_instance_type' in gvars:\n",
    "        spec_master.shape = gvars['master_instance_type']\n",
    "spec_master.set_ssh_pubkey(gvars['ssh_public_key_path'])"
   ]
  },
  {
   "cell_type": "markdown",
   "metadata": {
    "hidden": true
   },
   "source": [
    "mdxの場合には、VCノードとなるVMにログインするためのユーザ名を指定します。"
   ]
  },
  {
   "cell_type": "code",
   "execution_count": null,
   "metadata": {
    "hidden": true
   },
   "outputs": [],
   "source": [
    "if 'mdx_ssh_user_name' in gvars:\n",
    "    spec_master.user_name = gvars['mdx_ssh_user_name']"
   ]
  },
  {
   "cell_type": "markdown",
   "metadata": {
    "hidden": true
   },
   "source": [
    "ここまで `spec` に設定した内容を表示してみます。"
   ]
  },
  {
   "cell_type": "code",
   "execution_count": null,
   "metadata": {
    "hidden": true
   },
   "outputs": [],
   "source": [
    "print(spec_master)"
   ]
  },
  {
   "cell_type": "markdown",
   "metadata": {
    "hidden": true
   },
   "source": [
    "ベースコンテナの環境変数に以下のパラメータを設定します。\n",
    "\n",
    "* `SLURM_NODE_PARAMS`\n",
    "    - slurm.conf に追加する計算ノードのパラメータ\n",
    "* `MUNGE_KEY`\n",
    "    - VCノードの `munge.key` の内容\n",
    "* `NFS_DEV`\n",
    "    - NFS用ディスクのデバイス名\n",
    "    \n",
    "さらに各ノードに対応するエントリを `/etc/hosts` に追加するためのパラメータを設定します。"
   ]
  },
  {
   "cell_type": "code",
   "execution_count": null,
   "metadata": {
    "hidden": true
   },
   "outputs": [],
   "source": [
    "%run scripts/utils.py\n",
    "\n",
    "spec_master.params_e.extend([\n",
    "    f'SLURM_NODE_PARAMS={spec_env_slurm_conf(gvars)}',\n",
    "    f'MUNGE_KEY={spec_env_munge_key(gvars, vcp, vcc_access_token)}',\n",
    "])\n",
    "if 'nfs_device' in gvars:\n",
    "    spec_master.params_e.append(f'NFS_DEV={gvars[\"nfs_device\"]}')\n",
    "spec_master.hostname = gvars[\"master_hostname\"]\n",
    "spec_master.add_host = spec_add_host_list(gvars)"
   ]
  },
  {
   "cell_type": "markdown",
   "metadata": {
    "hidden": true
   },
   "source": [
    "`spec` に設定した内容を表示してみます。\n",
    "\n",
    "> 表示内容には、**秘匿情報**となる `munge.key` の内容を含んでいます。扱いには**注意してください**。"
   ]
  },
  {
   "cell_type": "code",
   "execution_count": null,
   "metadata": {
    "hidden": true
   },
   "outputs": [],
   "source": [
    "print(spec_master)"
   ]
  },
  {
   "cell_type": "markdown",
   "metadata": {
    "hidden": true
   },
   "source": [
    "#### VCノードの起動\n",
    "\n",
    "マスターノードとして利用するVCノードを起動します。"
   ]
  },
  {
   "cell_type": "markdown",
   "metadata": {
    "hidden": true
   },
   "source": [
    "> AWSで起動するにはおよそ５分程度かかります。"
   ]
  },
  {
   "cell_type": "code",
   "execution_count": null,
   "metadata": {
    "hidden": true,
    "scrolled": true
   },
   "outputs": [],
   "source": [
    "unit_master = ug.create_unit('master', spec_master)"
   ]
  },
  {
   "cell_type": "markdown",
   "metadata": {
    "hidden": true
   },
   "source": [
    "VCノードの状態が `RUNNING` になっていることを確認します。\n",
    "\n",
    "> VCノードの起動に失敗して`RUNNING`以外の状態になっている場合は次のセルを実行するとエラーになります。"
   ]
  },
  {
   "cell_type": "code",
   "execution_count": null,
   "metadata": {
    "hidden": true
   },
   "outputs": [],
   "source": [
    "unit_master = ug.get_unit('master')\n",
    "if any([node.state != 'RUNNING' for node in unit_master.find_nodes()]):\n",
    "    raise RuntimeError('ERROR: not running')"
   ]
  },
  {
   "cell_type": "markdown",
   "metadata": {
    "hidden": true
   },
   "source": [
    "起動したVCノードの一覧を表示します。\n",
    "\n",
    "> 上のセルがエラーになった場合も、次のセルを実行してノードの状態を確認してください。`node_state` が`BOOTING`だった場合は、単にノード起動に時間がかかっているだけである可能性があります。しばらく待ってから、ノードの状態を再確認してみてください。また、`node_state`が`ERROR`となっている場合はノードの起動に失敗しています。`ug.cleanup()` を実行して VCノードを削除してください。その後、エラー原因を解消してから「[VCノードのUnitGroup作成](#VCノードのUnitGroup作成)」以下を `unfreeze` して再実行してください。"
   ]
  },
  {
   "cell_type": "code",
   "execution_count": null,
   "metadata": {
    "hidden": true
   },
   "outputs": [],
   "source": [
    "unit_master.df_nodes()"
   ]
  },
  {
   "cell_type": "markdown",
   "metadata": {
    "hidden": true
   },
   "source": [
    "#### NFS serverの起動確認\n",
    "\n",
    "NFS serverのサービスが実行されていることを確認します。"
   ]
  },
  {
   "cell_type": "code",
   "execution_count": null,
   "metadata": {
    "hidden": true,
    "tags": [
     "vcp:callback:nfs_server"
    ]
   },
   "outputs": [],
   "source": [
    "addr = gvars['master_ipaddress']\n",
    "ssh_opts = f'-o UserKnownHostsFile=/dev/null -o StrictHostKeyChecking=no -i {gvars[\"ssh_private_key_path\"]}'\n",
    "!ssh-keygen -R {addr}\n",
    "!ssh {ssh_opts} vcp@{addr} systemctl status nfs-server"
   ]
  },
  {
   "cell_type": "markdown",
   "metadata": {
    "hidden": true
   },
   "source": [
    "エラーになった場合は、起動したVCノードにて `journalctl` などを実行してエラーの原因を確認してください。原因となった事象を解消した後に次のセルのコメントを外してから実行し NFSサーバのサービスを再起動してください。\n",
    "\n",
    "> よくある事例として、起動に時間がかかりタイムアウトすることでNFSサーバが起動しないことがあります。この場合は、単に次のセルのコメントを外してサービスの再起動を行うことで問題が解消します。"
   ]
  },
  {
   "cell_type": "code",
   "execution_count": null,
   "metadata": {
    "hidden": true,
    "tags": [
     "vcp:rewrite:nfs_server"
    ]
   },
   "outputs": [],
   "source": [
    "# !ssh {ssh_opts} vcp@{addr} sudo systemctl restart nfs-server"
   ]
  },
  {
   "cell_type": "markdown",
   "metadata": {
    "hidden": true
   },
   "source": [
    "サービスを再起動した場合は次のセルのコメントを外して、NFSサーバのサービスが起動したことを確認してください。"
   ]
  },
  {
   "cell_type": "code",
   "execution_count": null,
   "metadata": {
    "hidden": true
   },
   "outputs": [],
   "source": [
    "# !ssh {ssh_opts} vcp@{addr} systemctl status nfs-server"
   ]
  },
  {
   "cell_type": "markdown",
   "metadata": {
    "hidden": true
   },
   "source": [
    "NFSのエクスポート設定が１つ以上あることを確認します。次のセルを実行し、エラーとならないことを確認してください。"
   ]
  },
  {
   "cell_type": "code",
   "execution_count": null,
   "metadata": {
    "hidden": true
   },
   "outputs": [],
   "source": [
    "# エクスポートの設定状況を表示する\n",
    "!ssh {ssh_opts} vcp@{addr} \"sudo /sbin/exportfs -v\"\n",
    "# エクスポートの設定項目が１つ以上あることをチェックする\n",
    "!test $(ssh {ssh_opts} vcp@{addr} \"sudo /sbin/exportfs -v\" | wc -l) -gt 0 "
   ]
  },
  {
   "cell_type": "markdown",
   "metadata": {
    "hidden": true
   },
   "source": [
    "上のセルがエラーとなる場合は、パラメータ設定にて指定した `nfs_device` の値が正しくないことが考えられます。次のセルのコメントを外してパラメータに設定した値と、起動したVCノードにアタッチされているブロックデバイス名が一致しているかを確認してください。正しく設定されている場合は、以下の表示例のように１行目と最後の行に表示されるブロックデバイス名（この例では`xvdf`） に同じ値が表示されます。\n",
    "\n",
    "```\n",
    "nfsdevice=/dev/xvdf\n",
    "NAME    MAJ:MIN RM SIZE RO TYPE MOUNTPOINT\n",
    "xvda    202:0    0  60G  0 disk \n",
    "└─xvda1 202:1    0  60G  0 part /etc/hosts\n",
    "xvdf    202:80   0  64G  0 disk /exports\n",
    "```\n",
    "\n",
    "異なる値が表示されている場合は設定するパラメータを修正する必要があります。\n",
    "「920-OpenHPC環境の削除.ipynb」のNotebookで起動したVCノード、VCディスクを削除してから、再度「010-パラメータ設定.ipynb」のNotebookで、正しいブロックデバイス名を設定しなおしてください。"
   ]
  },
  {
   "cell_type": "code",
   "execution_count": null,
   "metadata": {
    "hidden": true
   },
   "outputs": [],
   "source": [
    "# 設定されているパラメータ nfs_device の値を確認する\n",
    "# print(f'nfsdevice={gvars[\"nfs_device\"]}')\n",
    "\n",
    "# VCノードのブロックデバイスを確認する\n",
    "# !ssh {ssh_opts} vcp@{addr} lsblk 2> /dev/null"
   ]
  },
  {
   "cell_type": "markdown",
   "metadata": {
    "hidden": true
   },
   "source": [
    "### 計算ノード\n",
    "\n",
    "マスターノードとして利用するVCノードを起動します。\n",
    "\n",
    "![計算ノード](images/ohpc-009.png)"
   ]
  },
  {
   "cell_type": "markdown",
   "metadata": {
    "hidden": true
   },
   "source": [
    "#### spec を指定する\n",
    "\n",
    "「010-パラメータ設定.ipynb」で指定したパラメータを`spec` に設定します。"
   ]
  },
  {
   "cell_type": "markdown",
   "metadata": {
    "hidden": true
   },
   "source": [
    "`spec`に設定するパラメータを以下に示します。\n",
    "\n",
    "* `image`: Baseコンテナイメージ\n",
    "  - Baseコンテナイメージを設定します\n",
    "* `params_v`: ボリューム設定\n",
    "  - Baseコンテナのボリュームを設定します\n",
    "  - OpenHPCコンテナではホスト側の `/sys/fs/cgroup` をコンテナから見えるように設定する必要があります\n",
    "* `ip_addresses`: IPアドレス\n",
    "  - VCノードに割り当てるプライベートIPアドレスを設定します\n",
    "* `volume_size`: ルートボリュームサイズ\n",
    "  - VCノードのルートボリュームサイズを設定します\n",
    "* `instance_type`: インスタンスタイプ\n",
    "  - VCノードのインスタンスタイプ\n",
    "* `set_ssh_publickey()`: SSHの公開鍵\n",
    "  - VCノードに登録するSSHの公開鍵"
   ]
  },
  {
   "cell_type": "code",
   "execution_count": null,
   "metadata": {
    "hidden": true,
    "tags": [
     "vcp:rewrite:docker_registry"
    ]
   },
   "outputs": [],
   "source": [
    "spec_compute = vcp.get_spec(gvars['vc_provider'], gvars['compute_flavor'])\n",
    "spec_compute.image = 'harbor.vcloud.nii.ac.jp/vcp/openhpc:compute-2.8'\n",
    "if gvars['compute_use_gpu']:\n",
    "    spec_compute.gpus = 'all'\n",
    "    spec_compute.image = 'harbor.vcloud.nii.ac.jp/vcp/openhpc:compute-gpu-2.8'\n",
    "    if gvars['vc_provider'] != 'onpremises':\n",
    "        spec_compute.cloud_image = 'niivcp-22.04.0-x86_64-ubuntu20.04-gpu-a-r3'\n",
    "spec_compute.params_v = [\n",
    "    '/sys/fs/cgroup:/sys/fs/cgroup:rw',\n",
    "    '/opt/var/lib/docker:/var/lib/docker',\n",
    "]\n",
    "# onpremisesの場合にはnum_nodesを明示的に指定\n",
    "if gvars['vc_provider'] == 'onpremises':\n",
    "    spec_compute.num_nodes = gvars['compute_nodes']\n",
    "spec_compute.ip_addresses = [x for x in gvars['compute_etc_hosts'].keys()]\n",
    "if 'compute_root_size' in gvars:\n",
    "    if gvars['vc_provider'] == 'aws':\n",
    "        spec_compute.volume_size = gvars['compute_root_size']\n",
    "    elif gvars['vc_provider'] == 'azure':\n",
    "        spec_compute.disk_size_gb = gvars['compute_root_size']\n",
    "    elif gvars['vc_provider'] == 'oracle':\n",
    "        spec_compute.boot_volume_size_in_gbs = gvars['compute_root_size']\n",
    "if 'compute_instance_type' in gvars:\n",
    "    if gvars['vc_provider'] == 'aws':\n",
    "        spec_compute.instance_type = gvars['compute_instance_type']\n",
    "    elif gvars['vc_provider'] == 'azure':\n",
    "        spec_compute.vm_size = gvars['compute_instance_type']\n",
    "    elif gvars['vc_provider'] == 'oracle':\n",
    "        spec_compute.shape = gvars['compute_instance_type']\n",
    "spec_compute.set_ssh_pubkey(gvars['ssh_public_key_path'])"
   ]
  },
  {
   "cell_type": "markdown",
   "metadata": {
    "hidden": true
   },
   "source": [
    "mdxの場合には、VCノードとなるVMにログインするためのユーザ名を指定します。"
   ]
  },
  {
   "cell_type": "code",
   "execution_count": null,
   "metadata": {
    "hidden": true
   },
   "outputs": [],
   "source": [
    "if 'mdx_ssh_user_name' in gvars:\n",
    "    spec_compute.user_name = gvars['mdx_ssh_user_name']"
   ]
  },
  {
   "cell_type": "markdown",
   "metadata": {
    "hidden": true
   },
   "source": [
    "ここまで `spec` に設定した内容を表示してみます。"
   ]
  },
  {
   "cell_type": "code",
   "execution_count": null,
   "metadata": {
    "hidden": true
   },
   "outputs": [],
   "source": [
    "print(spec_compute)"
   ]
  },
  {
   "cell_type": "markdown",
   "metadata": {
    "hidden": true
   },
   "source": [
    "ベースコンテナの環境変数に以下のパラメータを設定します。\n",
    "\n",
    "* `MASTER_HOSTNAME`\n",
    "    - マスターノードのホスト名\n",
    "* `SLURM_NODE_PARAMS`\n",
    "    - slurm.conf に追加する計算ノードのパラメータ\n",
    "* `MUNGE_KEY`\n",
    "    - VCノードの `munge.key` の内容\n",
    "    \n",
    "さらに各ノードに対応するエントリを `/etc/hosts` に追加するためのパラメータを設定します。"
   ]
  },
  {
   "cell_type": "code",
   "execution_count": null,
   "metadata": {
    "hidden": true
   },
   "outputs": [],
   "source": [
    "%run scripts/utils.py\n",
    "\n",
    "spec_compute.params_e.extend([\n",
    "    f'MASTER_HOSTNAME={gvars[\"master_hostname\"]}',\n",
    "    f'SLURM_NODE_PARAMS={spec_env_slurm_conf(gvars)}',\n",
    "    f'MUNGE_KEY={spec_env_munge_key(gvars, vcp, vcc_access_token)}',\n",
    "])\n",
    "spec_compute.add_host = spec_add_host_list(gvars)"
   ]
  },
  {
   "cell_type": "markdown",
   "metadata": {
    "hidden": true
   },
   "source": [
    "`spec` に設定した内容を表示してみます。\n",
    "\n",
    "> 表示内容には、**秘匿情報**となる `munge.key` の内容を含んでいます。扱いには**注意してください**。"
   ]
  },
  {
   "cell_type": "code",
   "execution_count": null,
   "metadata": {
    "hidden": true
   },
   "outputs": [],
   "source": [
    "print(spec_compute)"
   ]
  },
  {
   "cell_type": "markdown",
   "metadata": {
    "hidden": true
   },
   "source": [
    "#### VCノードの起動\n",
    "\n",
    "計算ノードとして利用するVCノードを起動します。"
   ]
  },
  {
   "cell_type": "markdown",
   "metadata": {
    "hidden": true
   },
   "source": [
    "> AWSで起動するにはおよそ３分程度かかります。"
   ]
  },
  {
   "cell_type": "code",
   "execution_count": null,
   "metadata": {
    "hidden": true,
    "scrolled": true
   },
   "outputs": [],
   "source": [
    "unit_compute = ug.create_unit('compute', spec_compute)"
   ]
  },
  {
   "cell_type": "markdown",
   "metadata": {
    "hidden": true
   },
   "source": [
    "VCノードの状態が `RUNNING` になっていることを確認します。\n",
    "\n",
    "> VCノードの起動に失敗して`RUNNING`以外の状態になっている場合は次のセルを実行するとエラーになります。エラーになった場合は、`ug.cleanup()` を実行して VCノードを削除してください。その後、「[VCノードのUnitGroup作成](#VCノードのUnitGroup作成)」以下を `unfreeze` してから再実行してください。"
   ]
  },
  {
   "cell_type": "code",
   "execution_count": null,
   "metadata": {
    "hidden": true
   },
   "outputs": [],
   "source": [
    "unit_compute = ug.get_unit('compute')\n",
    "if any([node.state != 'RUNNING' for node in unit_compute.find_nodes()]):\n",
    "    raise RuntimeError('ERROR: not running')"
   ]
  },
  {
   "cell_type": "markdown",
   "metadata": {
    "hidden": true
   },
   "source": [
    "起動したVCノードの一覧を表示します。"
   ]
  },
  {
   "cell_type": "code",
   "execution_count": null,
   "metadata": {
    "hidden": true
   },
   "outputs": [],
   "source": [
    "unit_compute.df_nodes()"
   ]
  },
  {
   "cell_type": "markdown",
   "metadata": {
    "heading_collapsed": true
   },
   "source": [
    "## Ansibleの設定\n",
    "\n",
    "VCノードをAnsibleで操作するための設定を行います。"
   ]
  },
  {
   "cell_type": "markdown",
   "metadata": {
    "hidden": true
   },
   "source": [
    "まず、VCノードにSSHでログインできるようにするために `~/.ssh/known_hosts` の更新を行います。\n",
    "\n",
    "> 何度かVCノードの起動を行うと、異なるホストが同じIPアドレスで起動するためにSSHのホストキーのチェックでエラーになる事があります。このような状況に対応するために、起動したVCノードのIPアドレスに対応するエントリを`known_hosts`ファイルから削除します。その後、`ssh-keyscan`コマンドを利用して起動したVCノードのホストキーを取得して `known_hosts`ファイルの内容を更新します。"
   ]
  },
  {
   "cell_type": "code",
   "execution_count": null,
   "metadata": {
    "hidden": true,
    "scrolled": true
   },
   "outputs": [],
   "source": [
    "from time import sleep\n",
    "\n",
    "def check_update_known_hosts(ipaddr):\n",
    "    # VCノード起動直後だと sshd サービスが開始されておらずに known_hosts が更新されない場合がある\n",
    "    # ssh-keyscan が値を取得できるまで何度かリトライする\n",
    "    for x in range(10):\n",
    "        out = ! echo $(ssh-keyscan {ipaddr} 2> /dev/null | wc -l)\n",
    "        update_lines = int(out[0])\n",
    "        if update_lines > 0:\n",
    "            break\n",
    "        sleep(1)\n",
    "    else:\n",
    "        raise RuntimeError(\"ERROR: timeout!\")    \n",
    "\n",
    "!mkdir -p -m 0700 ~/.ssh\n",
    "!touch ~/.ssh/known_hosts\n",
    "for addr in ug.find_ip_addresses():\n",
    "    !ssh-keygen -R {addr}\n",
    "    check_update_known_hosts(addr)\n",
    "    !ssh-keyscan -H {addr} >> ~/.ssh/known_hosts"
   ]
  },
  {
   "cell_type": "markdown",
   "metadata": {
    "hidden": true
   },
   "source": [
    "起動したVCノードに対応するエントリを Ansible のインベントリに登録します。\n",
    "\n",
    "> Ansibleで操作を行うためには、操作対象のホスト(IPアドレス)をインベントリに登録する必要があります。"
   ]
  },
  {
   "cell_type": "code",
   "execution_count": null,
   "metadata": {
    "hidden": true
   },
   "outputs": [],
   "source": [
    "import yaml\n",
    "\n",
    "inventory = {\n",
    "    'all': {\n",
    "        'children': {\n",
    "            ug.name: {\n",
    "                'children': dict([\n",
    "                    (\n",
    "                        f'{ug.name}_{unit.name}',\n",
    "                        {\n",
    "                            'hosts': dict([\n",
    "                                (ip, {})\n",
    "                                for ip in unit.find_ip_addresses()\n",
    "                            ])\n",
    "                        }\n",
    "                    )\n",
    "                    for unit in ug.find_units()]),\n",
    "                'vars': {\n",
    "                    'ansible_user': 'vcp',\n",
    "                    'ansible_ssh_private_key_file': gvars['ssh_private_key_path'],\n",
    "                }\n",
    "            }\n",
    "        }\n",
    "    }\n",
    "}\n",
    "\n",
    "with open('inventory.yml', 'w') as f:\n",
    "    yaml.safe_dump(inventory, f, default_flow_style=False)\n",
    "    \n",
    "!cat inventory.yml"
   ]
  },
  {
   "cell_type": "markdown",
   "metadata": {
    "hidden": true
   },
   "source": [
    "先程VCノードを登録したファイルをインベントリとして指定するためのAnsibleのコンフィギュレーションファイルを作成します。\n",
    "\n",
    "> カレントディレクトリにコンフィギュレーションファイル(`ansible.cfg`)を作成すると、Ansibleを実行する際にその設定が適用されます。"
   ]
  },
  {
   "cell_type": "code",
   "execution_count": null,
   "metadata": {
    "hidden": true
   },
   "outputs": [],
   "source": [
    "from pathlib import Path\n",
    "\n",
    "inventory_path = Path('./inventory.yml').resolve()\n",
    "ansible_cfg = Path('./ansible.cfg').resolve()\n",
    "with ansible_cfg.open(mode='w') as f:\n",
    "    f.write(f'''\n",
    "[defaults]\n",
    "inventory = {inventory_path}\n",
    "remote_tmp = /var/tmp\n",
    "timeout = 30\n",
    "''')\n",
    "ansible_cfg.parent.chmod(0o755)\n",
    "\n",
    "!cat ./ansible.cfg"
   ]
  },
  {
   "cell_type": "markdown",
   "metadata": {
    "hidden": true
   },
   "source": [
    "VCノードに対して Ansible で接続できることを確認します。"
   ]
  },
  {
   "cell_type": "code",
   "execution_count": null,
   "metadata": {
    "hidden": true
   },
   "outputs": [],
   "source": [
    "!ansible {ugroup_name} -m ping"
   ]
  },
  {
   "cell_type": "markdown",
   "metadata": {
    "hidden": true
   },
   "source": [
    "正常に接続できると以下のように表示されます。\n",
    "\n",
    "```\n",
    "XXX.XXX.XXX.XXX | SUCCESS => {\n",
    "    \"changed\": false, \n",
    "    \"ping\": \"pong\"\n",
    "}\n",
    "```"
   ]
  },
  {
   "cell_type": "markdown",
   "metadata": {
    "hidden": true
   },
   "source": [
    "VCノードに対して設定ファイルの変更やパッケージの追加を行う場合にVCノードの管理者権限が必要になる場合があります。Ansibleで管理者権限によるコマンド実行が可能かどうかを確認します。"
   ]
  },
  {
   "cell_type": "code",
   "execution_count": null,
   "metadata": {
    "hidden": true
   },
   "outputs": [],
   "source": [
    "!ansible {ugroup_name} -b -a 'whoami'"
   ]
  },
  {
   "cell_type": "markdown",
   "metadata": {},
   "source": [
    "## Slurmの状態を確認する\n",
    "\n",
    "起動したVCノードで実行されているSlurmの状態を確認します。"
   ]
  },
  {
   "cell_type": "markdown",
   "metadata": {},
   "source": [
    "### ノードの状態を確認する"
   ]
  },
  {
   "cell_type": "markdown",
   "metadata": {},
   "source": [
    "Slurmクラスタのノードの状態を確認します。"
   ]
  },
  {
   "cell_type": "code",
   "execution_count": null,
   "metadata": {
    "tags": [
     "vcp:callback:sinfo"
    ]
   },
   "outputs": [],
   "source": [
    "!ansible {ugroup_name}_master -a sinfo"
   ]
  },
  {
   "cell_type": "markdown",
   "metadata": {},
   "source": [
    "`STATE`が`idle`と表示されていればノードが利用可能な状態になっています。\n",
    "\n",
    "もし、`STATE`が `down` となっている場合は次のセルのコメント(先頭の `#`)を外して実行してください。"
   ]
  },
  {
   "cell_type": "code",
   "execution_count": null,
   "metadata": {
    "scrolled": true,
    "tags": [
     "vcp:rewrite:scontrol_update"
    ]
   },
   "outputs": [],
   "source": [
    "# for x in gvars['compute_etc_hosts'].values():\n",
    "#     !ansible {ugroup_name}_master -b -a 'scontrol update nodename={x} state=resume' || true"
   ]
  },
  {
   "cell_type": "markdown",
   "metadata": {},
   "source": [
    "もう一度、ノードの状態を確認します。"
   ]
  },
  {
   "cell_type": "code",
   "execution_count": null,
   "metadata": {
    "tags": [
     "vcp:callback:sinfo_check"
    ]
   },
   "outputs": [],
   "source": [
    "!ansible {ugroup_name}_master -a sinfo"
   ]
  },
  {
   "cell_type": "markdown",
   "metadata": {},
   "source": [
    "### ジョブを実行する\n",
    "\n",
    "ジョブを実行できることを確認します。"
   ]
  },
  {
   "cell_type": "markdown",
   "metadata": {},
   "source": [
    "`srun`コマンドで、`hostname` コマンドを計算ノードで実行させてみます。\n",
    "\n",
    "計算ノードが２ノードの場合、以下のような実行結果が表示されます（ホストの表示順序は入れ替わることがあります）。\n",
    "\n",
    "```\n",
    "0: c1\n",
    "1: c2\n",
    "```"
   ]
  },
  {
   "cell_type": "code",
   "execution_count": null,
   "metadata": {},
   "outputs": [],
   "source": [
    "!ansible {ugroup_name}_master -a 'srun -l -N {gvars[\"compute_nodes\"]} hostname'"
   ]
  },
  {
   "cell_type": "markdown",
   "metadata": {},
   "source": [
    "次に、サンプルの `hello.c` をコンパイルして `sbatch` で実行してみます。"
   ]
  },
  {
   "cell_type": "markdown",
   "metadata": {},
   "source": [
    "まず、ソースファイルをコンパイルして、実行ファイルを作成します。"
   ]
  },
  {
   "cell_type": "code",
   "execution_count": null,
   "metadata": {},
   "outputs": [],
   "source": [
    "!ansible {ugroup_name}_master -a 'mpicc -O3 -o hello /opt/ohpc/pub/examples/mpi/hello.c'\n",
    "!ansible {ugroup_name}_master -a 'ls -l hello'"
   ]
  },
  {
   "cell_type": "markdown",
   "metadata": {},
   "source": [
    "ジョブスクリプトを作成します。"
   ]
  },
  {
   "cell_type": "code",
   "execution_count": null,
   "metadata": {},
   "outputs": [],
   "source": [
    "from tempfile import TemporaryDirectory\n",
    "from pathlib import Path\n",
    "\n",
    "with TemporaryDirectory() as work_dir:\n",
    "    job_file = Path(work_dir) / 'hello.job'\n",
    "    with job_file.open(mode='w') as f:\n",
    "        f.write(f'''#!/bin/bash\n",
    "\n",
    "#SBATCH -J hello               # Job name\n",
    "#SBATCH -o hello.%j.out         # Name of stdout output file (%j expands to jobId)\n",
    "#SBATCH -N {gvars[\"compute_nodes\"]}                  # Total number of nodes requested\n",
    "#SBATCH -n {gvars[\"compute_nodes\"]}                  # Total number of mpi tasks requested\n",
    "#SBATCH -t 00:01:00           # Run time (hh:mm:ss)\n",
    "\n",
    "# Launch MPI-based executable\n",
    "prun ./hello\n",
    "''')\n",
    "    !cat {job_file}\n",
    "    !ansible {ugroup_name}_master -m copy -a 'src={str(job_file)} dest=.'"
   ]
  },
  {
   "cell_type": "markdown",
   "metadata": {},
   "source": [
    "ジョブを投入します。"
   ]
  },
  {
   "cell_type": "code",
   "execution_count": null,
   "metadata": {},
   "outputs": [],
   "source": [
    "!ansible {ugroup_name}_master -a 'sbatch hello.job'"
   ]
  },
  {
   "cell_type": "markdown",
   "metadata": {},
   "source": [
    "ジョブの出力結果を表示してみます。ジョブの実行が成功していると以下のような出力結果が得られます。\n",
    "\n",
    "```\n",
    "[prun] Master compute host = c1\n",
    "[prun] Resource manager = slurm\n",
    "[prun] Launch cmd = mpirun ./hello (family=openmpi4)\n",
    "\n",
    " Hello, world (2 procs total)\n",
    "    --> Process #   0 of   2 is alive. -> c1\n",
    "    --> Process #   1 of   2 is alive. -> c2\n",
    "```"
   ]
  },
  {
   "cell_type": "code",
   "execution_count": null,
   "metadata": {},
   "outputs": [],
   "source": [
    "!ansible {ugroup_name}_master -m shell -a 'cat hello.*.out'"
   ]
  }
 ],
 "metadata": {
  "kernelspec": {
   "display_name": "Python 3",
   "language": "python",
   "name": "python3"
  },
  "language_info": {
   "file_extension": ".py",
   "mimetype": "text/x-python",
   "name": "python",
   "nbconvert_exporter": "python",
   "pygments_lexer": "ipython3",
   "version": "3.10.4"
  },
  "toc": {
   "base_numbering": 1,
   "nav_menu": {},
   "number_sections": true,
   "sideBar": true,
   "skip_h1_title": true,
   "title_cell": "Table of Contents",
   "title_sidebar": "Contents",
   "toc_cell": false,
   "toc_position": {},
   "toc_section_display": true,
   "toc_window_display": true
  }
 },
 "nbformat": 4,
 "nbformat_minor": 2
}
