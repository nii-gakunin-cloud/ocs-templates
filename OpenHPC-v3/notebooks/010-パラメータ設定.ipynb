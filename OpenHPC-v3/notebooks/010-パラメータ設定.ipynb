{
 "cells": [
  {
   "cell_type": "markdown",
   "metadata": {},
   "source": [
    "# パラメータ設定\n",
    "\n",
    "---\n",
    "\n",
    "OpenHPC環境を構築するのに必要となるパラメータを設定します。"
   ]
  },
  {
   "cell_type": "markdown",
   "metadata": {},
   "source": [
    "## 概要\n",
    "\n",
    "VCP SDKを用いてクラウド上に仮想サーバを作成し、OpenHPC環境の構築を行います。\n",
    "\n",
    "![構成](images/ohpc-000.png)"
   ]
  },
  {
   "cell_type": "markdown",
   "metadata": {},
   "source": [
    "このNotebookでは以下に示すパラメータを設定します。\n",
    "\n",
    "* VCP SDKに関するパラメータ\n",
    "* VCノードに共通するパラメータ\n",
    "* 割り当てリソースに関するパラメータ\n",
    "    - 計算ノード\n",
    "    - マスターノード\n",
    "    - NFS用ディスク\n",
    "* VCノードのホスト名とIPアドレス\n",
    "* Slurmに関するパラメータ"
   ]
  },
  {
   "cell_type": "markdown",
   "metadata": {},
   "source": [
    "## VCP SDK\n",
    "\n",
    "VCP SDKを利用する際に必要となるパラメータを設定します。\n"
   ]
  },
  {
   "cell_type": "markdown",
   "metadata": {},
   "source": [
    "### VCCアクセストークンの入力\n",
    "\n",
    "![VCP SDK](images/ohpc-001.png)\n",
    "\n",
    "VCノードを起動するにはVC Controller(VCC)にアクセスして、操作を行う必要があります。VCCにアクセスするために必要となるアクセストークンをここで入力します。"
   ]
  },
  {
   "cell_type": "markdown",
   "metadata": {},
   "source": [
    "次のセルを実行すると入力枠が表示されるのでアクセストークンの値を入力してください。\n",
    "\n",
    "> アクセストークン入力後に Enter キーを押すことで入力が完了します。"
   ]
  },
  {
   "cell_type": "code",
   "execution_count": null,
   "metadata": {
    "tags": [
     "vcp:skip",
     "vcp:parameters"
    ]
   },
   "outputs": [],
   "source": [
    "from getpass import getpass\n",
    "vcc_access_token = getpass()"
   ]
  },
  {
   "cell_type": "markdown",
   "metadata": {},
   "source": [
    "入力されたアクセストークンが正しいことを、実際にVCCにアクセスして確認します。"
   ]
  },
  {
   "cell_type": "code",
   "execution_count": null,
   "metadata": {
    "tags": [
     "vcp:rewrite:vcpsdk"
    ]
   },
   "outputs": [],
   "source": [
    "from vcpsdk.vcpsdk import VcpSDK\n",
    "vcp = VcpSDK(vcc_access_token)"
   ]
  },
  {
   "cell_type": "markdown",
   "metadata": {},
   "source": [
    "上のセルの実行結果がエラーとなり以下のようなメッセージが表示されている場合は、入力されたアクセストークンに誤りがあります。\n",
    "\n",
    "```\n",
    "config vc failed: http_status(403)\n",
    "2021/XX/XX XX:XX:XX UTC: VCPAuthException: xxxxxxx:token lookup is failed: permission denied\n",
    "```\n",
    "\n",
    "エラーになった場合はこの節のセルを全て `unfreeze` してから、もう一度アクセストークンの入力を行ってください。\n",
    "\n",
    "> `unfreeze`するにはNotebookのツールバーにある`unfreeze below in section`ボタンなどを利用してください。"
   ]
  },
  {
   "cell_type": "markdown",
   "metadata": {},
   "source": [
    "#### VCCのバージョンチェック\n",
    "\n",
    "このテンプレートはVCC 25.04以上での利用を想定しています。利用環境のVCCが条件を満たしていることをチェックします。"
   ]
  },
  {
   "cell_type": "markdown",
   "metadata": {},
   "source": [
    "VCCのバージョンを確認します。"
   ]
  },
  {
   "cell_type": "code",
   "execution_count": null,
   "metadata": {},
   "outputs": [],
   "source": [
    " %run scripts/vcp.py\n",
    "vc_controller_version(vcp) "
   ]
  },
  {
   "cell_type": "markdown",
   "metadata": {},
   "source": [
    "VCCのバージョンが25.04以上であることをチェックします。"
   ]
  },
  {
   "cell_type": "code",
   "execution_count": null,
   "metadata": {},
   "outputs": [],
   "source": [
    " check_vcc_version(vcp, \"25.04\")"
   ]
  },
  {
   "cell_type": "markdown",
   "metadata": {},
   "source": [
    "### UnitGroup名の指定\n",
    "\n",
    "このアプリケーションテンプレートで構築するOpenHPC環境に対して、名前を付けます。指定した名前はVCPのUnitGroup名となります。"
   ]
  },
  {
   "cell_type": "markdown",
   "metadata": {},
   "source": [
    "VCPの構成要素は以下のようになっています。\n",
    "\n",
    "* VCノード\n",
    "  - クラウドにおける計算資源(VM/BM)\n",
    "  - 例えば Amazon EC2インスタンス, Microsoft Azure VM など\n",
    "* Unit\n",
    "  - 同質のVCノードにより構成されている要素\n",
    "  - 同じUnitに属するVCノードはCPU,メモリ等の計算資源が全て同じ設定になっている\n",
    "* UnitGroup\n",
    "  - 複数のUnitにより構成されている要素\n",
    "  - 使用目的、ライフサイクルなどに合わせて、複数のUnitをまとめて扱うための要素  "
   ]
  },
  {
   "cell_type": "markdown",
   "metadata": {},
   "source": [
    "VCP SDKで作成した他の環境と区別するために UnitGroupに名前を付けます。UnitGroup名は既存のものと異なる値を指定する必要があります。\n",
    "既存のUnitGroupを確認するために一覧を表示します。"
   ]
  },
  {
   "cell_type": "code",
   "execution_count": null,
   "metadata": {},
   "outputs": [],
   "source": [
    "vcp.df_ugroups()"
   ]
  },
  {
   "cell_type": "markdown",
   "metadata": {},
   "source": [
    "この構築環境のUnitGroup名を次のセルで指定してください。UnitGroup名は**英数字のみ**の値を指定してください（先頭文字に数字は指定できない）。\n",
    "\n",
    "> 英数字以外の文字を指定すると、環境構築時のansibleの実行にて警告文が表示される場合があります。"
   ]
  },
  {
   "cell_type": "code",
   "execution_count": null,
   "metadata": {
    "tags": [
     "vcp:skip",
     "vcp:parameters"
    ]
   },
   "outputs": [],
   "source": [
    "# (例)\n",
    "# ugroup_name = 'OpenHPC'\n",
    "\n",
    "ugroup_name = "
   ]
  },
  {
   "cell_type": "markdown",
   "metadata": {
    "heading_collapsed": true
   },
   "source": [
    "### パラメータの保存\n",
    "\n",
    "この章で指定したパラメータの値をファイルに保存します。"
   ]
  },
  {
   "cell_type": "markdown",
   "metadata": {
    "hidden": true
   },
   "source": [
    "後の手順でVCノードに対する操作を、構成管理ツールの[Ansible](https://www.ansible.com/)で行います。そこで、パラメータの保存形式は `Ansible` のフォーマットに従うことにします。Ansible では `group_vars/`というディレクトリに YAML フォーマットのファイルを配置すると、そのファイルに記録されている値を変数として利用することができます。このNotebookでは `group_vars/` にあるファイルを `group_vars ファイル`と呼ぶことにします。"
   ]
  },
  {
   "cell_type": "markdown",
   "metadata": {
    "hidden": true
   },
   "source": [
    "値の保存を行う前に、入力されたパラメータに対して簡易なチェックを行います。エラーになった場合はその後に表示される指示に従ってください。"
   ]
  },
  {
   "cell_type": "code",
   "execution_count": null,
   "metadata": {
    "hidden": true
   },
   "outputs": [],
   "source": [
    "%run scripts/utils.py\n",
    "\n",
    "check_parameters(\n",
    "    _params=dict(vcp=vcp),\n",
    "    ugroup_name=ugroup_name,\n",
    ")"
   ]
  },
  {
   "cell_type": "markdown",
   "metadata": {
    "hidden": true
   },
   "source": [
    "次のセルを実行すると、この章で指定したパラメータが group_vars ファイルに保存されます。\n",
    "\n",
    "> YAMLフォーマットでファイルに値を保存するために、事前に作成した Python のスクリプト `scripts/group.py` を利用しています。"
   ]
  },
  {
   "cell_type": "code",
   "execution_count": null,
   "metadata": {
    "hidden": true
   },
   "outputs": [],
   "source": [
    "%run scripts/group.py\n",
    "from pathlib import Path\n",
    "\n",
    "update_group_vars(\n",
    "    ugroup_name,\n",
    "    ugroup_name=ugroup_name,\n",
    ")"
   ]
  },
  {
   "cell_type": "markdown",
   "metadata": {
    "hidden": true
   },
   "source": [
    "`group_vars`ファイルの内容を確認してみます。"
   ]
  },
  {
   "cell_type": "code",
   "execution_count": null,
   "metadata": {
    "hidden": true
   },
   "outputs": [],
   "source": [
    "!cat group_vars/{ugroup_name}.yml"
   ]
  },
  {
   "cell_type": "markdown",
   "metadata": {},
   "source": [
    "## VCノードに共通するパラメータ\n",
    "\n",
    "マスターノード、計算ノードに共通するパラメータを指定します。"
   ]
  },
  {
   "cell_type": "markdown",
   "metadata": {},
   "source": [
    "### クラウドプロバイダの指定\n",
    "\n",
    "VCノードを作成するプロバイダ名を指定します。"
   ]
  },
  {
   "cell_type": "code",
   "execution_count": null,
   "metadata": {
    "tags": [
     "vcp:skip",
     "vcp:parameters"
    ]
   },
   "outputs": [],
   "source": [
    "# (例)\n",
    "# vc_provider = 'aws'\n",
    "# vc_provider = 'azure'\n",
    "# vc_provider = 'oracle'\n",
    "# vc_provider = 'onpremises'   ### mdxの場合\n",
    "\n",
    "vc_provider = "
   ]
  },
  {
   "cell_type": "markdown",
   "metadata": {},
   "source": [
    "### SSH公開鍵認証の鍵ファイルの指定\n",
    "\n",
    "起動したVCノードにはsshでログインして操作を行います。sshでログインできるようにするために、事前に公開鍵をVCノードに登録します。"
   ]
  },
  {
   "cell_type": "markdown",
   "metadata": {},
   "source": [
    "> 公開鍵は事前にNotebook環境で`ssh-keygen`コマンドなどを用いて作成するか、他環境で作成した鍵ファイルをNotebook環境にアップロードしておいてください。"
   ]
  },
  {
   "cell_type": "markdown",
   "metadata": {},
   "source": [
    "VCノードに登録するSSHの公開鍵ファイルのパスを次のセルで指定してください。"
   ]
  },
  {
   "cell_type": "code",
   "execution_count": null,
   "metadata": {
    "tags": [
     "vcp:skip",
     "vcp:parameters"
    ]
   },
   "outputs": [],
   "source": [
    "# (例)\n",
    "# ssh_public_key_path = '~/.ssh/id_rsa.pub'\n",
    "\n",
    "ssh_public_key_path = "
   ]
  },
  {
   "cell_type": "markdown",
   "metadata": {},
   "source": [
    "公開鍵に対応する秘密鍵のパスを次のセルで指定してください。"
   ]
  },
  {
   "cell_type": "code",
   "execution_count": null,
   "metadata": {
    "tags": [
     "vcp:skip",
     "vcp:parameters"
    ]
   },
   "outputs": [],
   "source": [
    "# (例)\n",
    "# ssh_private_key_path = '~/.ssh/id_rsa'\n",
    "\n",
    "ssh_private_key_path = "
   ]
  },
  {
   "cell_type": "markdown",
   "metadata": {
    "heading_collapsed": true
   },
   "source": [
    "### パラメータの保存\n",
    "\n",
    "この章で指定したパラメータの値をファイルに保存します。"
   ]
  },
  {
   "cell_type": "markdown",
   "metadata": {
    "hidden": true
   },
   "source": [
    "値の保存を行う前に、入力されたパラメータに対して簡易なチェックを行います。エラーになった場合はその後に表示される指示に従ってください。"
   ]
  },
  {
   "cell_type": "code",
   "execution_count": null,
   "metadata": {
    "hidden": true
   },
   "outputs": [],
   "source": [
    "%run scripts/utils.py\n",
    "from pathlib import Path\n",
    "\n",
    "check_parameters(\n",
    "    _params=dict(vcp=vcp),\n",
    "    vc_provider=vc_provider,\n",
    "    ssh_public_key_path=str(Path(ssh_public_key_path).expanduser()),\n",
    "    ssh_private_key_path=str(Path(ssh_private_key_path).expanduser()),\n",
    ")"
   ]
  },
  {
   "cell_type": "markdown",
   "metadata": {
    "hidden": true
   },
   "source": [
    "この章で指定したパラメータを group_vars ファイルに保存します。"
   ]
  },
  {
   "cell_type": "code",
   "execution_count": null,
   "metadata": {
    "hidden": true
   },
   "outputs": [],
   "source": [
    "%run scripts/group.py\n",
    "from pathlib import Path\n",
    "\n",
    "update_group_vars(\n",
    "    ugroup_name,\n",
    "    vc_provider=vc_provider,\n",
    "    ssh_public_key_path=str(Path(ssh_public_key_path).expanduser()),\n",
    "    ssh_private_key_path=str(Path(ssh_private_key_path).expanduser()),\n",
    ")"
   ]
  },
  {
   "cell_type": "markdown",
   "metadata": {
    "hidden": true
   },
   "source": [
    "`group_vars`ファイルの内容を確認してみます。"
   ]
  },
  {
   "cell_type": "code",
   "execution_count": null,
   "metadata": {
    "hidden": true
   },
   "outputs": [],
   "source": [
    "!cat group_vars/{ugroup_name}.yml"
   ]
  },
  {
   "cell_type": "markdown",
   "metadata": {},
   "source": [
    "## 構築環境に割り当てるリソース\n",
    "\n",
    "各VCノード、VCディスクに割り当てるリソースを指定します。"
   ]
  },
  {
   "cell_type": "markdown",
   "metadata": {},
   "source": [
    "### 計算ノード\n",
    "\n",
    "計算ノードに割り当てるリソースを指定します。\n",
    "\n",
    "![計算ノード](images/ohpc-002.png)"
   ]
  },
  {
   "cell_type": "markdown",
   "metadata": {},
   "source": [
    "#### 計算ノードのノード数\n",
    "\n",
    "計算ノードとして作成するノード数を指定します。"
   ]
  },
  {
   "cell_type": "code",
   "execution_count": null,
   "metadata": {
    "tags": [
     "vcp:skip",
     "vcp:parameters"
    ]
   },
   "outputs": [],
   "source": [
    "# (例)\n",
    "# compute_nodes = 4\n",
    "\n",
    "compute_nodes = "
   ]
  },
  {
   "cell_type": "markdown",
   "metadata": {},
   "source": [
    "初回構築時の計算ノード数は上のセルで指定した`compute_nodes`の値となります。構築後に「081-計算ノードの追加.ipynb」「082-計算ノードの削除.ipynb」を実行することにより計算ノード数を変更することができます。ただし、計算ノード数の上限をあらかじめ定める必要があります。その上限値を次のセルで指定してください。"
   ]
  },
  {
   "cell_type": "code",
   "execution_count": null,
   "metadata": {},
   "outputs": [],
   "source": [
    "# (例)\n",
    "# max_compute_nodes = 10\n",
    "\n",
    "max_compute_nodes = "
   ]
  },
  {
   "cell_type": "markdown",
   "metadata": {},
   "source": [
    "#### 計算ノードのflavor"
   ]
  },
  {
   "cell_type": "markdown",
   "metadata": {},
   "source": [
    "VCノードの`spec`に対して種々のパラメータを毎回設定するのは煩雑な作業になります。そこでVCP SDKでは典型的なパラメータセットを事前に定義しています。事前に定義したパラメータセットのことをVCP SDKでは`flavor`と呼んでいます。`spec`に設定できるパラメータはクラウドプロバイダ毎に異なるので `flavor`もプロバイダ毎に定義されています。\n",
    "\n",
    "次のセルを実行すると、先ほど`vc_provider`で指定したクラウドプロバイダ名に対応する `flavor` の一覧が表示されます。"
   ]
  },
  {
   "cell_type": "code",
   "execution_count": null,
   "metadata": {},
   "outputs": [],
   "source": [
    "vcp.df_flavors(vc_provider)"
   ]
  },
  {
   "cell_type": "markdown",
   "metadata": {},
   "source": [
    "上に表示された表の `flavor` の欄の値から、計算ノードとして利用するVCノードの `flavor` を選んで次のセルで指定してください。"
   ]
  },
  {
   "cell_type": "code",
   "execution_count": null,
   "metadata": {
    "tags": [
     "vcp:skip",
     "vcp:parameters"
    ]
   },
   "outputs": [],
   "source": [
    "# (例)\n",
    "# compute_flavor = 'medium'\n",
    "# compute_flavor = 'gpu'\n",
    "# compute_flavor = 'default'    ### mdxの場合\n",
    "\n",
    "compute_flavor = "
   ]
  },
  {
   "cell_type": "markdown",
   "metadata": {},
   "source": [
    "#### 計算ノードのインスタンスタイプ\n",
    "\n",
    "`flavor`で定義されている以外のインスタンスタイプを計算ノードで利用したい場合は次のセルのコメントを外してインスタンスタイプを指定してください。"
   ]
  },
  {
   "cell_type": "code",
   "execution_count": null,
   "metadata": {
    "tags": [
     "vcp:parameters"
    ]
   },
   "outputs": [],
   "source": [
    "# (例)\n",
    "# compute_instance_type = 'g5.xlarge'              # AWS NVIDIA A10G\n",
    "# compute_instance_type = 'Standard_NC4as_T4_v3'   # Azure NVIDIA T4\n",
    "# compute_instance_type = 'VM.GPU2.1'              # Oracle Cloud  NVIDIA P100"
   ]
  },
  {
   "cell_type": "markdown",
   "metadata": {},
   "source": [
    "#### 計算ノードのルートボリュームサイズ\n",
    "\n",
    "計算ノードのルートボリュームサイズを変更する必要がある場合は、次のセルのコメントを外してサイズ(GB)を指定してください。"
   ]
  },
  {
   "cell_type": "markdown",
   "metadata": {},
   "source": [
    "計算ノードに Docker Engine をインストールして利用することを予定している場合は十分大きなサイズを指定してください。各計算ノードの`/var/lib/docker`はルートボリュームに割り当てたディスクの領域を利用します。"
   ]
  },
  {
   "cell_type": "code",
   "execution_count": null,
   "metadata": {
    "tags": [
     "vcp:parameters"
    ]
   },
   "outputs": [],
   "source": [
    "# (例)\n",
    "# compute_root_size = 16"
   ]
  },
  {
   "cell_type": "markdown",
   "metadata": {},
   "source": [
    "#### 計算ノードにおけるGPUの利用\n",
    "\n",
    "計算ノードでGPUを利用するか否かについて指定してください。"
   ]
  },
  {
   "cell_type": "code",
   "execution_count": null,
   "metadata": {
    "tags": [
     "vcp:skip",
     "vcp:parameters"
    ]
   },
   "outputs": [],
   "source": [
    "# (例)\n",
    "# compute_use_gpu = False  # GPU を利用しない\n",
    "# compute_use_gpu = True   # GPU を利用する\n",
    "\n",
    "compute_use_gpu = "
   ]
  },
  {
   "cell_type": "markdown",
   "metadata": {},
   "source": [
    "`compute_use_gpu`を`True`に設定することで、計算ノードを起動する際のVMイメージ、BaseコンテナイメージとしてNVIDIAドライバがセットアップされているものが選択されます。ただし`compute_flavor`や`compute_instance_type`で指定したインスタンスタイプがGPUを利用可能なものである必要があります。"
   ]
  },
  {
   "cell_type": "markdown",
   "metadata": {},
   "source": [
    "GPUを利用する場合は１ノードあたりのGPU数を次のセルで指定してください。指定する値は`compute_flavor`または`compute_instance_type`で指定した計算ノードのインスタンスタイプが保持するGPU数と一致する値を指定してください。"
   ]
  },
  {
   "cell_type": "code",
   "execution_count": null,
   "metadata": {},
   "outputs": [],
   "source": [
    "# (例)\n",
    "# compute_gpus = 1\n",
    "\n",
    "compute_gpus = 1"
   ]
  },
  {
   "cell_type": "markdown",
   "metadata": {},
   "source": [
    "### マスターノード\n",
    "\n",
    "マスターノードに割り当てるリソースを指定します。\n",
    "\n",
    "![マスターノード](images/ohpc-003.png)"
   ]
  },
  {
   "cell_type": "markdown",
   "metadata": {},
   "source": [
    "#### マスターノードのflavor\n",
    "\n",
    "マスターノードに割り当てるリソースに対応する `flavor` の値を指定してください。"
   ]
  },
  {
   "cell_type": "markdown",
   "metadata": {},
   "source": [
    "`flavor`の一覧を表示します。"
   ]
  },
  {
   "cell_type": "code",
   "execution_count": null,
   "metadata": {},
   "outputs": [],
   "source": [
    "vcp.df_flavors(vc_provider)"
   ]
  },
  {
   "cell_type": "markdown",
   "metadata": {},
   "source": [
    "上に表示された表の `flavor` の欄の値から、マスターノードとして利用するVCノードの `flavor` を選んで次のセルで指定してください。"
   ]
  },
  {
   "cell_type": "code",
   "execution_count": null,
   "metadata": {
    "tags": [
     "vcp:skip",
     "vcp:parameters"
    ]
   },
   "outputs": [],
   "source": [
    "# (例)\n",
    "# master_flavor = 'small'\n",
    "# master_flavor = 'default'    ### mdxの場合\n",
    "\n",
    "master_flavor = "
   ]
  },
  {
   "cell_type": "markdown",
   "metadata": {},
   "source": [
    "#### マスターノードのインスタンスタイプ\n",
    "\n",
    "`flavor`で定義されている以外のインスタンスタイプをマスターノードで利用したい場合は次のセルのコメントを外してインスタンスタイプを指定してください。"
   ]
  },
  {
   "cell_type": "code",
   "execution_count": null,
   "metadata": {
    "tags": [
     "vcp:parameters"
    ]
   },
   "outputs": [],
   "source": [
    "# (例)\n",
    "# master_instance_type = 'm7i.xlarge'"
   ]
  },
  {
   "cell_type": "markdown",
   "metadata": {},
   "source": [
    "#### マスターノードのルートボリュームサイズ\n",
    "\n",
    "マスターノード用VCノードのルートボリュームサイズ(GB)を指定します。"
   ]
  },
  {
   "cell_type": "markdown",
   "metadata": {},
   "source": [
    "OpenHPCのマスターノードのルートボリュームサイズには20GB以上の値を指定してください。また NGC カタログのコンテナを利用する場合は Singularity でコンテナイメージを変換するための作業領域が必要となるため 60GB 以上の値を指定してください。"
   ]
  },
  {
   "cell_type": "code",
   "execution_count": null,
   "metadata": {
    "tags": [
     "vcp:skip",
     "vcp:parameters"
    ]
   },
   "outputs": [],
   "source": [
    "# (例)\n",
    "# master_root_size = 60\n",
    "\n",
    "master_root_size = "
   ]
  },
  {
   "cell_type": "markdown",
   "metadata": {},
   "source": [
    "### NFS用ディスク\n",
    "\n",
    "NFS用ディスクに割り当てるリソースを指定します。\n",
    "\n",
    "> NFS用に仮想ディスクを作成しない構成にする場合は、この節をスキップしてください。\n",
    "\n",
    "mdx上でOpenHPC環境を構築する場合、VCディスクは非対応のためこの節をスキップしてください。\n",
    "\n",
    "![NFS](images/ohpc-004.png)"
   ]
  },
  {
   "cell_type": "markdown",
   "metadata": {},
   "source": [
    "ディスクサイズ(GB)を指定してください。16GB 以上の値を指定してください。"
   ]
  },
  {
   "cell_type": "code",
   "execution_count": null,
   "metadata": {
    "tags": [
     "vcp:skip",
     "vcp:parameters"
    ]
   },
   "outputs": [],
   "source": [
    "# (例)\n",
    "# nfs_disk_size = 64\n",
    "\n",
    "nfs_disk_size = "
   ]
  },
  {
   "cell_type": "markdown",
   "metadata": {},
   "source": [
    "ディスクのデバイス名を指定してください。デバイス名はプロバイダやインスタンスタイプによって異なる値となります。"
   ]
  },
  {
   "cell_type": "code",
   "execution_count": null,
   "metadata": {
    "tags": [
     "vcp:skip",
     "vcp:parameters"
    ]
   },
   "outputs": [],
   "source": [
    "# (例)\n",
    "# nfs_device = '/dev/nvme1n1' # AWS\n",
    "# nfs_device = '/dev/xvdf'    # AWS(Xenインスタンスタイプ)\n",
    "# nfs_device = '/dev/sdc'     # Azure\n",
    "# nfs_device = '/dev/sdb'     # Oracle Cloud\n",
    "\n",
    "nfs_device = "
   ]
  },
  {
   "cell_type": "markdown",
   "metadata": {},
   "source": [
    "NFS用に仮想ディスクを作成しない構成の場合、誤ってディスクに関するパラメータを設定してしまった場合は、次のセルのコメントを外して実行してください。"
   ]
  },
  {
   "cell_type": "code",
   "execution_count": null,
   "metadata": {},
   "outputs": [],
   "source": [
    "# del(nfs_disk_size)\n",
    "# del(nfs_device)"
   ]
  },
  {
   "cell_type": "markdown",
   "metadata": {
    "heading_collapsed": true
   },
   "source": [
    "### パラメータの保存\n",
    "\n",
    "この章で指定したパラメータの値をファイルに保存します。"
   ]
  },
  {
   "cell_type": "markdown",
   "metadata": {
    "hidden": true
   },
   "source": [
    "値の保存を行う前に、入力されたパラメータに対して簡易なチェックを行います。エラーになった場合はその後に表示される指示に従ってください。"
   ]
  },
  {
   "cell_type": "code",
   "execution_count": null,
   "metadata": {
    "hidden": true
   },
   "outputs": [],
   "source": [
    "%run scripts/utils.py\n",
    "from pathlib import Path\n",
    "\n",
    "if 'nfs_disk_size' in vars():\n",
    "    check_parameters(\n",
    "        _params=dict(vc_provider=vc_provider),\n",
    "        nfs_disk_size=nfs_disk_size,\n",
    "        nfs_device=nfs_device,\n",
    "    )\n",
    "\n",
    "check_parameters(\n",
    "    _params=dict(\n",
    "        vcp=vcp, \n",
    "        vc_provider=vc_provider,\n",
    "        nfs_disk_size=nfs_disk_size if 'nfs_disk_size' in vars() else 0,\n",
    "    ),\n",
    "    compute_nodes=compute_nodes,\n",
    "    max_compute_nodes=max_compute_nodes,\n",
    "    compute_flavor=compute_flavor,\n",
    "    master_flavor=master_flavor,\n",
    "    master_root_size=master_root_size,\n",
    "    compute_use_gpu=compute_use_gpu,\n",
    "    compute_gpus=compute_gpus if 'compute_gpus' in vars() else 0,\n",
    ")"
   ]
  },
  {
   "cell_type": "markdown",
   "metadata": {
    "hidden": true
   },
   "source": [
    "この章で指定したパラメータを `group_vars` ファイルに保存します。"
   ]
  },
  {
   "cell_type": "code",
   "execution_count": null,
   "metadata": {
    "hidden": true
   },
   "outputs": [],
   "source": [
    "%run scripts/group.py\n",
    "\n",
    "update_group_vars(\n",
    "    ugroup_name,\n",
    "    compute_nodes=compute_nodes,\n",
    "    max_compute_nodes=max_compute_nodes,\n",
    "    compute_flavor=compute_flavor,\n",
    "    compute_use_gpu=compute_use_gpu,\n",
    "    master_flavor=master_flavor,\n",
    "    master_root_size=master_root_size,\n",
    ")\n",
    "\n",
    "if 'compute_instance_type' in vars():\n",
    "    update_group_vars(\n",
    "        ugroup_name,\n",
    "        compute_instance_type=compute_instance_type,\n",
    "        slurm_partitions={\"compute\": f\"{vc_provider}-{compute_instance_type}\"}\n",
    "    )\n",
    "else:\n",
    "    update_group_vars(\n",
    "        ugroup_name,\n",
    "        slurm_partitions={\"compute\": f\"{vc_provider}-{compute_flavor}\"}\n",
    "    )\n",
    "\n",
    "if 'compute_root_size' in vars():\n",
    "    update_group_vars(\n",
    "        ugroup_name, \n",
    "        compute_root_size=compute_root_size,\n",
    "    )\n",
    "\n",
    "if 'master_instance_type' in vars():\n",
    "    update_group_vars(\n",
    "        ugroup_name, \n",
    "        master_instance_type=master_instance_type,\n",
    "    )\n",
    "\n",
    "if 'nfs_disk_size' in vars():\n",
    "    update_group_vars(\n",
    "        ugroup_name,\n",
    "        nfs_disk_size=nfs_disk_size,\n",
    "        nfs_device=nfs_device,\n",
    "    )\n",
    "\n",
    "if compute_use_gpu:\n",
    "    update_group_vars(\n",
    "        ugroup_name,\n",
    "        compute_gpus=compute_gpus,\n",
    "    )"
   ]
  },
  {
   "cell_type": "markdown",
   "metadata": {
    "hidden": true
   },
   "source": [
    "`group_vars`ファイルの内容を確認してみます。"
   ]
  },
  {
   "cell_type": "code",
   "execution_count": null,
   "metadata": {
    "hidden": true
   },
   "outputs": [],
   "source": [
    "!cat group_vars/{ugroup_name}.yml"
   ]
  },
  {
   "cell_type": "markdown",
   "metadata": {},
   "source": [
    "## IPアドレスとホスト名\n",
    "\n",
    "各ノードに設定するIPアドレスとホスト名を指定します。\n",
    "\n",
    "![etc_hosts](images/ohpc-005.png)"
   ]
  },
  {
   "cell_type": "markdown",
   "metadata": {},
   "source": [
    "### マスターノードのIPアドレスとホスト名\n",
    "\n",
    "マスターノードに割り当てるIPアドレスを指定します。"
   ]
  },
  {
   "cell_type": "markdown",
   "metadata": {},
   "source": [
    "まず、VCノードに割り当て可能なIPアドレスの範囲を確認します。\n",
    "\n",
    "mdx上での構築の場合には、以下のセルではアドレス範囲を取得できないため、[mdxでの静的IPアドレス設定方法](https://docs.mdx.jp/ja/main/faq.html#ip)に従って割り当て可能なIPアドレス範囲を確認し、範囲内かつ未使用のIPアドレス範囲からmaster_ip_addressおよびc_ip_addressを設定してください。"
   ]
  },
  {
   "cell_type": "code",
   "execution_count": null,
   "metadata": {},
   "outputs": [],
   "source": [
    "print(vcp.get_vpn_catalog(vc_provider).get('private_network_ipmask'))"
   ]
  },
  {
   "cell_type": "markdown",
   "metadata": {},
   "source": [
    "次のセルに、マスターノードに割り当てるIPアドレスを指定してください。上のセルの出力結果に表示された範囲のIPアドレスを指定してください。"
   ]
  },
  {
   "cell_type": "code",
   "execution_count": null,
   "metadata": {
    "tags": [
     "vcp:skip",
     "vcp:parameters"
    ]
   },
   "outputs": [],
   "source": [
    "# (例)\n",
    "# master_ipaddress = '172.30.2.120'\n",
    "\n",
    "master_ipaddress = "
   ]
  },
  {
   "cell_type": "markdown",
   "metadata": {},
   "source": [
    "マスターノードに設定するホスト名を指定してください。"
   ]
  },
  {
   "cell_type": "code",
   "execution_count": null,
   "metadata": {
    "tags": [
     "vcp:parameters"
    ]
   },
   "outputs": [],
   "source": [
    "# (例)\n",
    "# master_hostname = 'master'\n",
    "\n",
    "master_hostname = 'master'"
   ]
  },
  {
   "cell_type": "markdown",
   "metadata": {},
   "source": [
    "### 計算ノードのIPアドレスとホスト名\n",
    "\n",
    "計算ノードに割り当てるIPアドレスとホスト名を指定します。"
   ]
  },
  {
   "cell_type": "markdown",
   "metadata": {},
   "source": [
    "計算ノードの先頭のIPアドレスを指定してください。他のノードは連番のアドレスが指定されます。指定する値は、マスターノードのIPアドレスを指定するときに確認した範囲のIPアドレスを指定してください。\n",
    "\n",
    "> 計算ノードに連番ではなく任意のIPアドレスを割り当てる場合は、この節の最後にある記述を確認してください。"
   ]
  },
  {
   "cell_type": "code",
   "execution_count": null,
   "metadata": {
    "tags": [
     "vcp:skip",
     "vcp:parameters"
    ]
   },
   "outputs": [],
   "source": [
    "# (例)\n",
    "# c_ip_address = '172.30.2.121'\n",
    "\n",
    "c_ip_address = "
   ]
  },
  {
   "cell_type": "markdown",
   "metadata": {},
   "source": [
    "計算ノードのホスト名のプレフィックスを指定してください。\n",
    "\n",
    "例えば `c_hostname_prefix` に `c` を指定した場合、計算ノードのホスト名は以下のようになります。\n",
    "\n",
    "* c1\n",
    "* c2\n",
    "* c3\n",
    "* ..."
   ]
  },
  {
   "cell_type": "code",
   "execution_count": null,
   "metadata": {
    "tags": [
     "vcp:parameters"
    ]
   },
   "outputs": [],
   "source": [
    "# (例)\n",
    "# c_hostname_prefix = 'c'\n",
    "\n",
    "c_hostname_prefix = 'c'"
   ]
  },
  {
   "cell_type": "markdown",
   "metadata": {},
   "source": [
    "ここまでに指定したパラメータから計算ノードのIPアドレスとホスト名のdict型変数を作成します。"
   ]
  },
  {
   "cell_type": "code",
   "execution_count": null,
   "metadata": {},
   "outputs": [],
   "source": [
    "import json\n",
    "from ipaddress import ip_network, ip_address\n",
    "\n",
    "subnet = ip_network(vcp.get_vpn_catalog(vc_provider).get('private_network_ipmask'))\n",
    "c_addr = ip_address(c_ip_address)\n",
    "compute_etc_hosts = {\n",
    "    f'{addr}': f'{c_hostname_prefix}{x + 1}'\n",
    "    for x in range(max_compute_nodes)\n",
    "    if (addr := c_addr + x) in subnet\n",
    "}\n",
    "if len(compute_etc_hosts) != max_compute_nodes:\n",
    "    msg = f'最大ノード数に対応するアドレスがサブネットの範囲に収まりません: {c_addr + max_compute_nodes - 1}'\n",
    "    raise RuntimeError(msg)\n",
    "print(json.dumps(compute_etc_hosts, indent=2))"
   ]
  },
  {
   "cell_type": "markdown",
   "metadata": {},
   "source": [
    "計算ノードのIPアドレスに連番ではなく、任意のアドレスを指定したい場合は`compute_etc_hosts`の値としてIPアドレスをキー、ホスト名を値とする dict を指定してください。\n",
    "\n",
    "```\n",
    "compute_etc_hosts = {\n",
    "    \"172.30.2.111\": \"c1\",\n",
    "    \"172.30.2.121\": \"c2\",\n",
    "    \"172.30.2.131\": \"c3\",\n",
    "    \"172.30.2.141\": \"c4\",\n",
    "}\n",
    "```"
   ]
  },
  {
   "cell_type": "markdown",
   "metadata": {
    "heading_collapsed": true
   },
   "source": [
    "### パラメータの保存\n",
    "\n",
    "この章で指定したパラメータの値をファイルに保存します。"
   ]
  },
  {
   "cell_type": "markdown",
   "metadata": {
    "hidden": true
   },
   "source": [
    "値の保存を行う前に、入力されたパラメータに対して簡易なチェックを行います。エラーになった場合はその後に表示される指示に従ってください。\n",
    "\n",
    "> IPアドレスに到達可能なものがあるかをチェックするので、ある程度時間が掛かります。"
   ]
  },
  {
   "cell_type": "code",
   "execution_count": null,
   "metadata": {
    "hidden": true
   },
   "outputs": [],
   "source": [
    "%run scripts/utils.py\n",
    "\n",
    "check_parameters(\n",
    "    _params=dict(\n",
    "        vcp=vcp,\n",
    "        vc_provider=vc_provider,\n",
    "        compute_nodes=max_compute_nodes,\n",
    "    ),\n",
    "    master_ipaddress=master_ipaddress,\n",
    "    master_hostname=master_hostname,\n",
    "    compute_etc_hosts=compute_etc_hosts,\n",
    ")"
   ]
  },
  {
   "cell_type": "markdown",
   "metadata": {
    "hidden": true
   },
   "source": [
    "この章で指定したパラメータを `group_vars` ファイルに保存します。"
   ]
  },
  {
   "cell_type": "code",
   "execution_count": null,
   "metadata": {
    "hidden": true
   },
   "outputs": [],
   "source": [
    "%run scripts/group.py\n",
    "\n",
    "update_group_vars(\n",
    "    ugroup_name,\n",
    "    master_ipaddress=master_ipaddress,\n",
    "    master_hostname=master_hostname,\n",
    "    compute_etc_hosts=compute_etc_hosts,\n",
    ")"
   ]
  },
  {
   "cell_type": "markdown",
   "metadata": {
    "hidden": true
   },
   "source": [
    "`group_vars`ファイルの内容を確認してみます。"
   ]
  },
  {
   "cell_type": "code",
   "execution_count": null,
   "metadata": {
    "hidden": true
   },
   "outputs": [],
   "source": [
    "!cat group_vars/{ugroup_name}.yml"
   ]
  },
  {
   "cell_type": "markdown",
   "metadata": {
    "heading_collapsed": true
   },
   "source": [
    "## mdx固有の設定\n",
    "\n",
    "mdx上でOpenHPC環境を作成する場合に必要となる設定について示します。\n",
    "\n",
    "ここでの構築方法としては、マスターノードと計算ノードをmdx上でVCP既存サーバ(SSH)モードでセットアップし、VCノードとして組み込みます。そのため、まずmdx上でマスターノード、計算ノードとなるVMをデプロイし、その後それらをVCノードとしてセットアップします。\n",
    "\n",
    "OpenHPC環境作成にあたっては、以下を前提とします。\n",
    "* VCコントローラは、[handson202209-vcp](https://github.com/nii-gakunin-cloud/handson/tree/master/Basic-Tutorials/handson202209-vcp)に従ってmdx上に築され、そのVCコントローラからmdx上にVCノードの作成を確認済みであること。\n",
    "* このNotebookの実行環境は、VCコントローラと同一ホスト上で稼動するJupyterNotebookサーバであること。"
   ]
  },
  {
   "cell_type": "markdown",
   "metadata": {
    "hidden": true
   },
   "source": [
    "### VcpSDK mdxプラグインの修正\n",
    "\n",
    "VMデプロイが非同期に実行できるよう、mdxプラグインを修正します。"
   ]
  },
  {
   "cell_type": "markdown",
   "metadata": {
    "hidden": true
   },
   "source": [
    "以下のセルを実行して、**mdxプラグインモジュールのロード前に**mdxプラグインにパッチを適用します。パッチが適用済みの場合に、パッチが適用済みか検査する段階で`2 out of 2 hunks FAILED`のように表示されるますが、セルの実行が成功となれば問題はありません。"
   ]
  },
  {
   "cell_type": "code",
   "execution_count": null,
   "metadata": {
    "hidden": true
   },
   "outputs": [],
   "source": [
    "import os\n",
    "sdkdirs = [os.path.expanduser('~/vcp/vcpsdk'),\n",
    "           os.path.expanduser('~/vcpsdk')]\n",
    "mdxpatch = 'patches/mdx-deploy-wait_for-False.patch'\n",
    "\n",
    "for d in sdkdirs:\n",
    "    if os.path.exists(d):\n",
    "        !if cat {mdxpatch} | (cd {d}; patch -sf -p1 --dry-run); then \\\n",
    "            cat {mdxpatch} | (cd {d}; patch -p1); \\\n",
    "        else \\\n",
    "            if cat {mdxpatch} | (cd {d}; patch -R -sf -p1 --dry-run); then \\\n",
    "                echo \"Patch already applied in {d}.\"; \\\n",
    "            else \\\n",
    "                echo \"Patch could not be applied in {d}.\"; \\\n",
    "                exit 1; \\\n",
    "            fi \\\n",
    "        fi"
   ]
  },
  {
   "cell_type": "markdown",
   "metadata": {
    "hidden": true
   },
   "source": [
    "### mdxでのVMデプロイ準備\n",
    "\n",
    "mdxでマスターノードおよび計算ノードとなるVMをデプロイするための準備をします。"
   ]
  },
  {
   "cell_type": "markdown",
   "metadata": {
    "hidden": true
   },
   "source": [
    "以下のセルを実行してmdx REST API認証トークンを入力します。"
   ]
  },
  {
   "cell_type": "code",
   "execution_count": null,
   "metadata": {
    "hidden": true
   },
   "outputs": [],
   "source": [
    "from getpass import getpass\n",
    "mdx_token = getpass(\"mdx API token\")"
   ]
  },
  {
   "cell_type": "markdown",
   "metadata": {
    "hidden": true
   },
   "source": [
    "mdx REST APIエンドポイントにIPv6で接続しようとすると到達不可となる場合があるため、以下のセルを実行してIPv4での接続を強制します。"
   ]
  },
  {
   "cell_type": "code",
   "execution_count": null,
   "metadata": {
    "hidden": true
   },
   "outputs": [],
   "source": [
    "def use_ipv4_only():\n",
    "    import socket\n",
    "    old_getaddrinfo = socket.getaddrinfo\n",
    "    def new_getaddrinfo(*args, **kwargs):\n",
    "        responses = old_getaddrinfo(*args, **kwargs)\n",
    "        return [response\n",
    "                for response in responses\n",
    "                if response[0] == socket.AF_INET]\n",
    "    socket.getaddrinfo = new_getaddrinfo\n",
    "\n",
    "use_ipv4_only()"
   ]
  },
  {
   "cell_type": "markdown",
   "metadata": {
    "hidden": true
   },
   "source": [
    "VCP SDK mdx用プラグインモジュールを読み込みます。"
   ]
  },
  {
   "cell_type": "code",
   "execution_count": null,
   "metadata": {
    "hidden": true
   },
   "outputs": [],
   "source": [
    "from common import logsetting\n",
    "from vcpsdk.plugins.mdx_ext import MdxResourceExt\n",
    "mdx = MdxResourceExt(mdx_token)"
   ]
  },
  {
   "cell_type": "markdown",
   "metadata": {
    "hidden": true
   },
   "source": [
    "利用可能なmdxのプロジェクト情報を確認します。"
   ]
  },
  {
   "cell_type": "code",
   "execution_count": null,
   "metadata": {
    "hidden": true
   },
   "outputs": [],
   "source": [
    "import json\n",
    "projects = mdx.get_assigned_projects()\n",
    "print(json.dumps(projects[0][\"projects\"], indent=2))"
   ]
  },
  {
   "cell_type": "markdown",
   "metadata": {
    "hidden": true
   },
   "source": [
    "OpenHPC環境を構築するプロジェクト名を、mdx_project_nameに設定します。"
   ]
  },
  {
   "cell_type": "code",
   "execution_count": null,
   "metadata": {
    "hidden": true
   },
   "outputs": [],
   "source": [
    "mdx_project_name = 'プロジェクト名'"
   ]
  },
  {
   "cell_type": "markdown",
   "metadata": {
    "hidden": true
   },
   "source": [
    "今後のVMセットアップのため、操作対象のプロジェクトを設定します。\n",
    "\n",
    "以下のセルがエラーとなる場合はプロジェクト名の指定に誤りがありますので、上のセルのプロジェクト名設定を確認してください。"
   ]
  },
  {
   "cell_type": "code",
   "execution_count": null,
   "metadata": {
    "hidden": true
   },
   "outputs": [],
   "source": [
    "mdx.set_current_project_by_name(mdx_project_name)"
   ]
  },
  {
   "cell_type": "markdown",
   "metadata": {
    "hidden": true
   },
   "source": [
    "プロジェクトで利用可能なットワークセグメントのリストを取得し、先頭のIDを設定します。"
   ]
  },
  {
   "cell_type": "code",
   "execution_count": null,
   "metadata": {
    "hidden": true
   },
   "outputs": [],
   "source": [
    "segments = mdx.get_segments()\n",
    "print(json.dumps(segments, indent=2))\n",
    "\n",
    "mdx_segment_id = mdx.get_segments()[0][\"uuid\"]\n",
    "print(mdx_segment_id)"
   ]
  },
  {
   "cell_type": "markdown",
   "metadata": {
    "hidden": true
   },
   "source": [
    "VMノードへのsshログインで使用する公開鍵を読み込みます。"
   ]
  },
  {
   "cell_type": "code",
   "execution_count": null,
   "metadata": {
    "hidden": true
   },
   "outputs": [],
   "source": [
    "import os\n",
    "with open(os.path.expanduser(ssh_public_key_path)) as f:\n",
    "    ssh_shared_key = f.read()\n",
    "print(ssh_shared_key)"
   ]
  },
  {
   "cell_type": "markdown",
   "metadata": {
    "hidden": true
   },
   "source": [
    "VMのパラメータを設定します。mdx_master_pack_numにはマスターノードのパック数、mdx_compute_pack_numには計算ノードのパック数を指定します。"
   ]
  },
  {
   "cell_type": "code",
   "execution_count": null,
   "metadata": {
    "hidden": true
   },
   "outputs": [],
   "source": [
    "mdx_master_pack_num = 4\n",
    "mdx_compute_pack_num = 4"
   ]
  },
  {
   "cell_type": "markdown",
   "metadata": {
    "hidden": true
   },
   "source": [
    "パック数のパラメータをチェックします。"
   ]
  },
  {
   "cell_type": "code",
   "execution_count": null,
   "metadata": {
    "hidden": true
   },
   "outputs": [],
   "source": [
    "%run scripts/utils.py\n",
    "from pathlib import Path\n",
    "\n",
    "check_parameters(\n",
    "    _params=dict(\n",
    "        vcp=vcp, \n",
    "        vc_provider=vc_provider,\n",
    "    ),\n",
    "    mdx_master_pack_num=mdx_master_pack_num,\n",
    "    mdx_compute_pack_num=mdx_compute_pack_num,\n",
    ")"
   ]
  },
  {
   "cell_type": "markdown",
   "metadata": {
    "hidden": true
   },
   "source": [
    "マスターノードのパラメータを設定します。"
   ]
  },
  {
   "cell_type": "code",
   "execution_count": null,
   "metadata": {
    "hidden": true
   },
   "outputs": [],
   "source": [
    "MDX_MASTER_CATALOG = \"16a41081-a1cf-428e-90d0-a147b3aa6fc2\"\n",
    "MDX_MASTER_TEMPLATE_NAME = \"UT-20220412-2043-ubuntu-2004-server\"\n",
    "\n",
    "mdx_master_spec = dict(\n",
    "    catalog=MDX_MASTER_CATALOG,\n",
    "    template_name=MDX_MASTER_TEMPLATE_NAME,\n",
    "    pack_num=mdx_master_pack_num,\n",
    "    pack_type=\"cpu\",\n",
    "    disk_size=master_root_size,\n",
    "    gpu=\"0\",\n",
    "    network_adapters=[\n",
    "        dict(\n",
    "            adapter_number=1,\n",
    "            segment=mdx_segment_id\n",
    "        )\n",
    "    ],\n",
    "    shared_key=ssh_shared_key,\n",
    "    storage_network=\"portgroup\",\n",
    ")"
   ]
  },
  {
   "cell_type": "markdown",
   "metadata": {
    "hidden": true
   },
   "source": [
    "計算ノードのVMのパラメータを設定します。"
   ]
  },
  {
   "cell_type": "code",
   "execution_count": null,
   "metadata": {
    "hidden": true
   },
   "outputs": [],
   "source": [
    "MDX_COMPUTE_CATALOG = \"16a41081-a1cf-428e-90d0-a147b3aa6fc2\"\n",
    "MDX_COMPUTE_TEMPLATE_NAME = \"UT-20220412-2043-ubuntu-2004-server\"\n",
    "\n",
    "mdx_compute_spec = dict(\n",
    "    catalog=MDX_COMPUTE_CATALOG,\n",
    "    template_name=MDX_COMPUTE_TEMPLATE_NAME,\n",
    "    pack_num=mdx_compute_pack_num,\n",
    "    pack_type=\"cpu\",\n",
    "    disk_size=compute_root_size if 'compute_root_size' in vars() else 40,\n",
    "    gpu=\"0\",\n",
    "    network_adapters=[\n",
    "        dict(\n",
    "            adapter_number=1,\n",
    "            segment=mdx_segment_id\n",
    "        )\n",
    "    ],\n",
    "    shared_key=ssh_shared_key,\n",
    "    storage_network=\"portgroup\",\n",
    ")"
   ]
  },
  {
   "cell_type": "markdown",
   "metadata": {
    "hidden": true
   },
   "source": [
    "2023-01-31のmdx REST APIの仕様変更により、VMのspecに`service_level`を指定しないとVMデプロイのリクエストがエラーとなるようになりました。このため、`service_level`を`guarantee`に指定して、明示的に起動保証VMとしてデプロイするよう指定します。"
   ]
  },
  {
   "cell_type": "code",
   "execution_count": null,
   "metadata": {
    "hidden": true
   },
   "outputs": [],
   "source": [
    "from vcpsdk.plugins.mdx_ext import MDX_VM_SPEC_SCHEMA\n",
    "\n",
    "if not 'service_level' in MDX_VM_SPEC_SCHEMA['properties']:\n",
    "    MDX_VM_SPEC_SCHEMA['properties'].update(\n",
    "        {'service_level': {'type': 'string'}}\n",
    "    )\n",
    "\n",
    "for s in [mdx_master_spec, mdx_compute_spec]:\n",
    "    s.update({'service_level': 'guarantee'})"
   ]
  },
  {
   "cell_type": "markdown",
   "metadata": {
    "hidden": true
   },
   "source": [
    "### VMデプロイ\n",
    "\n",
    "マスターノードと計算ノードをmdx上にデプロイします。"
   ]
  },
  {
   "cell_type": "markdown",
   "metadata": {
    "hidden": true
   },
   "source": [
    "mdx VMにIPアドレスが設定されるまで5分程度要するため、実行中のセルの経過時間を表示するライブラリjupyter-autotime機能を有効化します。"
   ]
  },
  {
   "cell_type": "code",
   "execution_count": null,
   "metadata": {
    "hidden": true
   },
   "outputs": [],
   "source": [
    "!pip install --no-deps jupyter-autotime\n",
    "%load_ext autotime"
   ]
  },
  {
   "cell_type": "markdown",
   "metadata": {
    "hidden": true
   },
   "source": [
    "マスターノード、計算ノードをVMをデプロイします。起動完了待ち合わせは後のセルで実施するため、wait_forパラメータにはFalseを指定しています。"
   ]
  },
  {
   "cell_type": "code",
   "execution_count": null,
   "metadata": {
    "hidden": true
   },
   "outputs": [],
   "source": [
    "wait_for_flag=False\n",
    "\n",
    "mdx.deploy_vm(master_hostname, mdx_master_spec.copy(), wait_for=wait_for_flag)\n",
    "print(f\"{master_hostname} deployed.\")\n",
    "\n",
    "for addr,name in compute_etc_hosts.items():\n",
    "    mdx.deploy_vm(name, mdx_compute_spec.copy(), wait_for=wait_for_flag)\n",
    "    print(f\"{name} deployed.\")"
   ]
  },
  {
   "cell_type": "markdown",
   "metadata": {
    "hidden": true
   },
   "source": [
    "各VMの起動とIPアドレスの設定を待ち合わせます。5分程度かかります。\n",
    "\n",
    "`Error: VMs not deploed: [vm1, vm2...]` のように表示された場合、VMのデプロイに失敗しています。"
   ]
  },
  {
   "cell_type": "code",
   "execution_count": null,
   "metadata": {
    "hidden": true
   },
   "outputs": [],
   "source": [
    "from vcpsdk.plugins.mdx_ext import SLEEP_TIME_SEC, DEPLOY_VM_SLEEP_COUNT\n",
    "import time\n",
    "\n",
    "mdx_vms = list(compute_etc_hosts.values())\n",
    "mdx_vms.insert(0, master_hostname)\n",
    "\n",
    "vms = mdx_vms.copy()\n",
    "for i in range(DEPLOY_VM_SLEEP_COUNT):\n",
    "    for vm in vms:\n",
    "        info = mdx.get_vm_info(vm)\n",
    "        if info[\"status\"] != \"PowerON\":\n",
    "            continue\n",
    "        addr = info[\"service_networks\"][0][\"ipv4_address\"][0]\n",
    "        if re.match(r\"^[0-9]+\\.[0-9]+\\.[0-9]+\\.[0-9]+$\", addr) is None:\n",
    "            continue\n",
    "        vms.remove(vm)\n",
    "        print(f\"{vm} is now up with address {addr}.\")\n",
    "        break\n",
    "    if len(vms) == 0:\n",
    "        break\n",
    "    else:\n",
    "        time.sleep(SLEEP_TIME_SEC)\n",
    "\n",
    "if len(vms) > 0:\n",
    "    raise RuntimeError(f\"Error: VMs not deploed: {vms}\")"
   ]
  },
  {
   "cell_type": "markdown",
   "metadata": {
    "hidden": true
   },
   "source": [
    "### IPアドレスの変更\n",
    "\n",
    "現時点のmdxでは、割り当てるIPアドレスを指定してVMをデプロイすることはできないため、上で起動したVMのIPアドレスを、「[IPアドレスとホスト名](#IPアドレスとホスト名)」の節で設定したアドレスに変更します。"
   ]
  },
  {
   "cell_type": "markdown",
   "metadata": {
    "hidden": true
   },
   "source": [
    "初回のログイン時にパスワード設定を求められるので、パスワードを設定します。"
   ]
  },
  {
   "cell_type": "code",
   "execution_count": null,
   "metadata": {
    "hidden": true
   },
   "outputs": [],
   "source": [
    "ssh_user_name = \"mdxuser\"\n",
    "mdx_user_password= \"openhpcv2_mdx_vm_initial_password\" \n",
    "for vm in mdx_vms:\n",
    "    info = mdx.get_vm_info(vm)\n",
    "    addr = info[\"service_networks\"][0][\"ipv4_address\"][0]\n",
    "    !./scripts/init_mdx_passwd.exp {ssh_user_name} {addr} {ssh_private_key_path} {mdx_user_password}"
   ]
  },
  {
   "cell_type": "markdown",
   "metadata": {
    "hidden": true
   },
   "source": [
    "IPアドレス変更スクリプトを各VMにコピーします。"
   ]
  },
  {
   "cell_type": "code",
   "execution_count": null,
   "metadata": {
    "hidden": true
   },
   "outputs": [],
   "source": [
    "for vm in mdx_vms:\n",
    "    info = mdx.get_vm_info(vm)\n",
    "    addr = info[\"service_networks\"][0][\"ipv4_address\"][0]\n",
    "    !scp -i {ssh_private_key_path} -o StrictHostKeyChecking=no -o UserKnownHostsFile=/dev/null scripts/mdx_change_addr.sh {ssh_user_name}@{addr}:"
   ]
  },
  {
   "cell_type": "markdown",
   "metadata": {
    "hidden": true
   },
   "source": [
    "コピーしたスクリプトをSSHで実行してIPアドレスを変更します。"
   ]
  },
  {
   "cell_type": "code",
   "execution_count": null,
   "metadata": {
    "hidden": true
   },
   "outputs": [],
   "source": [
    "ssh_opts = f\" -i {ssh_private_key_path} -o StrictHostKeyChecking=no -o UserKnownHostsFile=/dev/null\"\n",
    "\n",
    "all_etc_hosts = compute_etc_hosts.copy()\n",
    "all_etc_hosts.update({master_ipaddress: master_hostname})\n",
    "for addr, name in all_etc_hosts.items():\n",
    "    info = mdx.get_vm_info(name)\n",
    "    orig = info[\"service_networks\"][0][\"ipv4_address\"][0]\n",
    "    !ssh {ssh_opts} {ssh_user_name}@{orig} ./mdx_change_addr.sh {addr}"
   ]
  },
  {
   "cell_type": "markdown",
   "metadata": {
    "hidden": true
   },
   "source": [
    "IPアドレスの変更を待ち合わせます。"
   ]
  },
  {
   "cell_type": "code",
   "execution_count": null,
   "metadata": {
    "hidden": true
   },
   "outputs": [],
   "source": [
    "def wait_for_addr_change(host, newaddr):\n",
    "    for i in range(DEPLOY_VM_SLEEP_COUNT):\n",
    "        info = mdx.get_vm_info(host)\n",
    "        addr = info[\"service_networks\"][0][\"ipv4_address\"][0]\n",
    "        if newaddr == addr:\n",
    "            print(f\"{host} changed to {addr}\")\n",
    "            return True\n",
    "        time.sleep(SLEEP_TIME_SEC)\n",
    "    return False\n",
    "\n",
    "for addr, host in all_etc_hosts.items():\n",
    "    if not wait_for_addr_change(host, addr):\n",
    "        raise RuntimeError(f\"Error: address of {host} not changed\")"
   ]
  },
  {
   "cell_type": "markdown",
   "metadata": {
    "hidden": true
   },
   "source": [
    "### VMをVCP既存サーバ(SSH)モードとしてセットアップ\n",
    "\n",
    "各VMを、VCP既存サーバモードでVCノードとして使用できるようにします。"
   ]
  },
  {
   "cell_type": "markdown",
   "metadata": {
    "hidden": true
   },
   "source": [
    "VCP既存サーバ(SSH)モード セットアップスクリプトをコピーします。"
   ]
  },
  {
   "cell_type": "code",
   "execution_count": null,
   "metadata": {
    "hidden": true
   },
   "outputs": [],
   "source": [
    "for addr, name in all_etc_hosts.items():\n",
    "    !scp -p {ssh_opts} scripts/init_mdx_node.sh {ssh_user_name}@{addr}:"
   ]
  },
  {
   "cell_type": "markdown",
   "metadata": {
    "hidden": true
   },
   "source": [
    "スクリプトを実行してVCP既存サーバ(SSH)モードのVCノードをセットアップします。"
   ]
  },
  {
   "cell_type": "code",
   "execution_count": null,
   "metadata": {
    "hidden": true
   },
   "outputs": [],
   "source": [
    "for addr, name in all_etc_hosts.items():\n",
    "    !ssh {ssh_opts} {ssh_user_name}@{addr} ./init_mdx_node.sh"
   ]
  },
  {
   "cell_type": "markdown",
   "metadata": {
    "hidden": true
   },
   "source": [
    "VMがVCコントローラから制御できるよう、VCコントローラのSSH公開鍵を各VMに配置します。"
   ]
  },
  {
   "cell_type": "code",
   "execution_count": null,
   "metadata": {
    "hidden": true
   },
   "outputs": [],
   "source": [
    "vcp_ssh_pubkey = vcp.get_publickey()\n",
    "\n",
    "for addr in all_etc_hosts.keys():\n",
    "    !echo \"{vcp_ssh_pubkey}\" | (ssh {ssh_opts} -p20022 {ssh_user_name}@{addr} \"cat >> ~/.ssh/authorized_keys\")"
   ]
  },
  {
   "cell_type": "markdown",
   "metadata": {
    "heading_collapsed": true,
    "hidden": true
   },
   "source": [
    "### パラメータの保存\n",
    "\n",
    "この章で指定したパラメータの値をファイルに保存します。"
   ]
  },
  {
   "cell_type": "markdown",
   "metadata": {
    "hidden": true
   },
   "source": [
    "値の保存を行う前に、入力されたパラメータに対して簡易なチェックを行います。エラーになった場合はその後に表示される指示に従ってください。"
   ]
  },
  {
   "cell_type": "code",
   "execution_count": null,
   "metadata": {
    "hidden": true
   },
   "outputs": [],
   "source": [
    "%run scripts/utils.py\n",
    "from pathlib import Path\n",
    "\n",
    "check_parameters(\n",
    "    _params=dict(\n",
    "        vcp=vcp,\n",
    "        vc_provider=vc_provider,\n",
    "    ),\n",
    "    mdx_master_pack_num=mdx_master_pack_num,\n",
    "    mdx_compute_pack_num=mdx_compute_pack_num,\n",
    ")"
   ]
  },
  {
   "cell_type": "markdown",
   "metadata": {
    "hidden": true
   },
   "source": [
    "この章で指定したパラメータを group_vars ファイルに保存します。"
   ]
  },
  {
   "cell_type": "code",
   "execution_count": null,
   "metadata": {
    "hidden": true
   },
   "outputs": [],
   "source": [
    "%run scripts/group.py\n",
    "\n",
    "update_group_vars(\n",
    "    ugroup_name,\n",
    "    mdx_ssh_user_name=ssh_user_name,\n",
    "    mdx_project_name=mdx_project_name,\n",
    "    mdx_segment_id=mdx_segment_id,\n",
    "    mdx_master_pack_num=mdx_master_pack_num,\n",
    "    mdx_compute_pack_num=mdx_compute_pack_num,\n",
    ")"
   ]
  },
  {
   "cell_type": "markdown",
   "metadata": {
    "hidden": true
   },
   "source": [
    "`group_vars`ファイルの内容を確認してみます。"
   ]
  },
  {
   "cell_type": "code",
   "execution_count": null,
   "metadata": {
    "hidden": true
   },
   "outputs": [],
   "source": [
    "!cat group_vars/{ugroup_name}.yml"
   ]
  },
  {
   "cell_type": "markdown",
   "metadata": {
    "heading_collapsed": true
   },
   "source": [
    "## Slurm\n",
    "\n",
    "Slurmに関連するパラメータを指定します。\n",
    "\n",
    "![etc_hosts](images/ohpc-006.png)"
   ]
  },
  {
   "cell_type": "markdown",
   "metadata": {
    "hidden": true
   },
   "source": [
    "### munge.key\n",
    "\n",
    "[MUNGE](https://dun.github.io/munge/)はHPCクラスタ環境のための認証サービスです。この節ではSLURMがコンポーネント間の認証に利用するMUNGEの鍵ファイル`munge.key`を作成します。"
   ]
  },
  {
   "cell_type": "markdown",
   "metadata": {
    "hidden": true
   },
   "source": [
    "`munge.key` に書き込む内容を乱数から生成します。"
   ]
  },
  {
   "cell_type": "code",
   "execution_count": null,
   "metadata": {
    "hidden": true,
    "tags": [
     "vcp:parameters"
    ]
   },
   "outputs": [],
   "source": [
    "import secrets\n",
    "\n",
    "munge_key = secrets.token_bytes(1024)"
   ]
  },
  {
   "cell_type": "markdown",
   "metadata": {
    "hidden": true
   },
   "source": [
    "`munge.key` の内容は秘匿情報になるので、`group_vars`ファイルではなく VC Controller の HashiCorp Vault に保存します。\n",
    "HashiCorp Vault は秘密情報を保存するための Key Valueストアです。保持する情報は暗号化されます。\n",
    "\n",
    "\n",
    "HashiCorp Valutのなかの記録場所となるパスを次のセルで指定します。"
   ]
  },
  {
   "cell_type": "code",
   "execution_count": null,
   "metadata": {
    "hidden": true
   },
   "outputs": [],
   "source": [
    "vault_path_munge_key = f'cubbyhole/OpenHPC/{ugroup_name}/munge.key'\n",
    "print(vault_path_munge_key)"
   ]
  },
  {
   "cell_type": "markdown",
   "metadata": {
    "heading_collapsed": true,
    "hidden": true
   },
   "source": [
    "### パラメータの保存\n",
    "\n",
    "この章で指定したパラメータの値をファイルに保存します。`munge.key`は秘匿情報のため、暗号化され記録される HashiCorp Vaultに保存します。他のパラメータについては `group_vars`ファイルに保存します。"
   ]
  },
  {
   "cell_type": "markdown",
   "metadata": {
    "hidden": true
   },
   "source": [
    "`munge.key`の内容をVCCのHashiCorp Valutに保存します。次のセルを実行してください。\n",
    "\n",
    "> 保存に成功すると `<Response [204]>` と表示されます。"
   ]
  },
  {
   "cell_type": "code",
   "execution_count": null,
   "metadata": {
    "hidden": true
   },
   "outputs": [],
   "source": [
    "import requests\n",
    "import base64\n",
    "\n",
    "payload = {\n",
    "    'munge.key': base64.b64encode(munge_key).decode('UTF-8'),\n",
    "}\n",
    "\n",
    "vault_url = f'{vcp.vcc_info()[\"vault_url\"]}/v1/{vault_path_munge_key}'\n",
    "\n",
    "custom_headers = {\n",
    "    'X-Vault-Token': vcc_access_token,\n",
    "}\n",
    "\n",
    "r = requests.post(vault_url, headers=custom_headers, json=payload)\n",
    "r"
   ]
  },
  {
   "cell_type": "markdown",
   "metadata": {
    "hidden": true
   },
   "source": [
    "他の値を `group_vars`ファイルに保存します。"
   ]
  },
  {
   "cell_type": "code",
   "execution_count": null,
   "metadata": {
    "hidden": true
   },
   "outputs": [],
   "source": [
    "%run scripts/group.py\n",
    "\n",
    "update_group_vars(\n",
    "    ugroup_name,\n",
    "    vault_path_munge_key=vault_path_munge_key,\n",
    ")"
   ]
  },
  {
   "cell_type": "markdown",
   "metadata": {
    "hidden": true
   },
   "source": [
    "`group_vars`ファイルの内容を確認してみます。"
   ]
  },
  {
   "cell_type": "code",
   "execution_count": null,
   "metadata": {
    "hidden": true,
    "scrolled": true
   },
   "outputs": [],
   "source": [
    "!cat group_vars/{ugroup_name}.yml"
   ]
  },
  {
   "cell_type": "markdown",
   "metadata": {
    "heading_collapsed": true
   },
   "source": [
    "## チェック\n",
    "\n",
    "設定項目漏れがないことを確認します。"
   ]
  },
  {
   "cell_type": "markdown",
   "metadata": {
    "hidden": true
   },
   "source": [
    "次のセルを実行しエラーとならないことを確認してください。エラーになった場合は、このNotebookの中に実行していないセルがないかを確認してください。"
   ]
  },
  {
   "cell_type": "code",
   "execution_count": null,
   "metadata": {
    "hidden": true
   },
   "outputs": [],
   "source": [
    "%run scripts/group.py\n",
    "gvars = load_group_vars(ugroup_name)\n",
    "require_params = [\n",
    "    'compute_etc_hosts', 'compute_flavor', 'compute_nodes', 'max_compute_nodes',\n",
    "    'compute_use_gpu', 'master_flavor', 'master_hostname',\n",
    "    'master_ipaddress', 'master_root_size', 'slurm_partitions',\n",
    "    'ugroup_name', 'ssh_private_key_path', 'ssh_public_key_path',\n",
    "    'vault_path_munge_key', 'vc_provider',\n",
    "]\n",
    "\n",
    "for x in require_params:\n",
    "    if x not in gvars:\n",
    "        raise RuntimeError(\"ERROR: not set {}\".format(x))"
   ]
  }
 ],
 "metadata": {
  "kernelspec": {
   "display_name": "Python 3",
   "language": "python",
   "name": "python3"
  },
  "language_info": {
   "file_extension": ".py",
   "mimetype": "text/x-python",
   "name": "python",
   "nbconvert_exporter": "python",
   "pygments_lexer": "ipython3",
   "version": "3.10.11"
  },
  "toc": {
   "base_numbering": 1,
   "nav_menu": {},
   "number_sections": true,
   "sideBar": true,
   "skip_h1_title": true,
   "title_cell": "Table of Contents",
   "title_sidebar": "Contents",
   "toc_cell": false,
   "toc_position": {},
   "toc_section_display": true,
   "toc_window_display": true
  }
 },
 "nbformat": 4,
 "nbformat_minor": 2
}
