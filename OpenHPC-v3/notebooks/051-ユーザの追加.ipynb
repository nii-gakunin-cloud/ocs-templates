{
 "cells": [
  {
   "cell_type": "markdown",
   "metadata": {},
   "source": [
    "# ユーザの追加\n",
    "\n",
    "---\n",
    "OpenHPC環境にユーザを追加します。"
   ]
  },
  {
   "cell_type": "markdown",
   "metadata": {},
   "source": [
    "## 前提条件\n",
    "\n",
    "このNotebookを実行するための前提条件を満たしていることを確認します。"
   ]
  },
  {
   "cell_type": "markdown",
   "metadata": {},
   "source": [
    "以下のことを前提条件とします。\n",
    "* 構築済のOpenHPC環境がある\n",
    "* OpenHPC環境のマスターノードに対してAnsibleで操作できるように設定されている"
   ]
  },
  {
   "cell_type": "markdown",
   "metadata": {},
   "source": [
    "VCノードを作成時に指定した値を確認するために `group_vars` ファイル名の一覧を表示します。"
   ]
  },
  {
   "cell_type": "code",
   "execution_count": null,
   "metadata": {},
   "outputs": [],
   "source": [
    "!ls -1 group_vars/*.yml | sed -e 's/^group_vars\\///' -e 's/\\.yml//' | sort"
   ]
  },
  {
   "cell_type": "markdown",
   "metadata": {},
   "source": [
    "各ノードに対してAnsibleによる操作が行えることを確認します。操作対象となる UnitGroup 名を指定してください。"
   ]
  },
  {
   "cell_type": "code",
   "execution_count": null,
   "metadata": {
    "tags": [
     "vcp:skip",
     "vcp:parameters"
    ]
   },
   "outputs": [],
   "source": [
    "# (例)\n",
    "# ugroup_name = 'OpenHPC'\n",
    "\n",
    "ugroup_name = "
   ]
  },
  {
   "cell_type": "markdown",
   "metadata": {},
   "source": [
    "マスターノードに対応する Ansible のグループ名を指定します。"
   ]
  },
  {
   "cell_type": "code",
   "execution_count": null,
   "metadata": {},
   "outputs": [],
   "source": [
    "target_master = f'{ugroup_name}_master'"
   ]
  },
  {
   "cell_type": "markdown",
   "metadata": {},
   "source": [
    "疎通確認を行います。"
   ]
  },
  {
   "cell_type": "code",
   "execution_count": null,
   "metadata": {},
   "outputs": [],
   "source": [
    "!ansible {target_master} -m ping"
   ]
  },
  {
   "cell_type": "markdown",
   "metadata": {},
   "source": [
    "管理者権限でコマンドを実行できることを確認します。"
   ]
  },
  {
   "cell_type": "code",
   "execution_count": null,
   "metadata": {},
   "outputs": [],
   "source": [
    "!ansible {target_master} -b -a 'whoami'"
   ]
  },
  {
   "cell_type": "markdown",
   "metadata": {},
   "source": [
    "## ユーザ登録\n",
    "\n",
    "OpenHPC環境にユーザを登録します。"
   ]
  },
  {
   "cell_type": "markdown",
   "metadata": {},
   "source": [
    "追加するユーザ名を指定してください。"
   ]
  },
  {
   "cell_type": "code",
   "execution_count": null,
   "metadata": {
    "tags": [
     "vcp:skip",
     "vcp:parameters"
    ]
   },
   "outputs": [],
   "source": [
    "# (例)\n",
    "# user = 'user00'\n",
    "\n",
    "user = "
   ]
  },
  {
   "cell_type": "markdown",
   "metadata": {},
   "source": [
    "ユーザの新規登録を行います。"
   ]
  },
  {
   "cell_type": "code",
   "execution_count": null,
   "metadata": {
    "scrolled": true
   },
   "outputs": [],
   "source": [
    "!ansible {target_master} -b -m user -a 'name={user}'"
   ]
  },
  {
   "cell_type": "markdown",
   "metadata": {},
   "source": [
    "作成したユーザのSSHの公開鍵を `$HOME/.ssh/authorized_keys` に追加します。\n",
    "\n",
    "次のセルを実行すると入力枠が表示されるので、SSHの公開鍵を入力してください（最後にEnterキーをタイプすることで入力内容が確定します）。"
   ]
  },
  {
   "cell_type": "code",
   "execution_count": null,
   "metadata": {
    "scrolled": true,
    "tags": [
     "vcp:skip",
     "vcp:parameters"
    ]
   },
   "outputs": [],
   "source": [
    "from getpass import getpass\n",
    "ssh_public_key = getpass()"
   ]
  },
  {
   "cell_type": "markdown",
   "metadata": {},
   "source": [
    "入力されたSSHの公開鍵を登録します。"
   ]
  },
  {
   "cell_type": "code",
   "execution_count": null,
   "metadata": {
    "scrolled": true
   },
   "outputs": [],
   "source": [
    "!ansible {target_master} -b -m authorized_key -a 'user={user} key=\"{ssh_public_key}\"'"
   ]
  },
  {
   "cell_type": "markdown",
   "metadata": {},
   "source": [
    "試しに登録したユーザでログインして、コマンドを実行してみます。SSHの秘密鍵とログインするホストのIPアドレスを設定してから、次のセルを実行してください。"
   ]
  },
  {
   "cell_type": "code",
   "execution_count": null,
   "metadata": {
    "tags": [
     "vcp:skip"
    ]
   },
   "outputs": [],
   "source": [
    "# 秘密鍵のパス\n",
    "# (例)\n",
    "# path_identity = '~/.ssh/id_rsa'\n",
    "path_identity = \n",
    "\n",
    "# ログインするホストのIPアドレス\n",
    "# (例)\n",
    "# target_ipaddr = '172.30.2.120'\n",
    "target_ipaddr = \n",
    "\n",
    "!ssh -i {path_identity} {user}@{target_ipaddr} hostname"
   ]
  },
  {
   "cell_type": "markdown",
   "metadata": {},
   "source": [
    "## グループの追加\n",
    "\n",
    "ユーザをプライマリグループ(メイングループ)以外のグループに登録する場合はこの節を実行してください。"
   ]
  },
  {
   "cell_type": "markdown",
   "metadata": {},
   "source": [
    "> 登録ユーザに docker コマンドの実行を許可する場合は `docker` グループへの登録が必要となります。"
   ]
  },
  {
   "cell_type": "markdown",
   "metadata": {},
   "source": [
    "登録するグループのリストを次のセルで指定してください。"
   ]
  },
  {
   "cell_type": "code",
   "execution_count": null,
   "metadata": {},
   "outputs": [],
   "source": [
    "groups = [\n",
    "# (例)\n",
    "#    'docker',\n",
    "    \n",
    "]"
   ]
  },
  {
   "cell_type": "markdown",
   "metadata": {},
   "source": [
    "ユーザを指定したグループに追加します。"
   ]
  },
  {
   "cell_type": "code",
   "execution_count": null,
   "metadata": {
    "scrolled": false
   },
   "outputs": [],
   "source": [
    "if len(groups) > 0:\n",
    "    !ansible {target_master} -b -m user -a 'name={user} append=yes groups={\",\".join(groups)}'"
   ]
  },
  {
   "cell_type": "markdown",
   "metadata": {},
   "source": [
    "ユーザがグループに登録されたことを確認します。"
   ]
  },
  {
   "cell_type": "code",
   "execution_count": null,
   "metadata": {},
   "outputs": [],
   "source": [
    "!ssh -i {path_identity} {user}@{target_ipaddr} id"
   ]
  }
 ],
 "metadata": {
  "kernelspec": {
   "display_name": "Python 3",
   "language": "python",
   "name": "python3"
  },
  "language_info": {
   "file_extension": ".py",
   "mimetype": "text/x-python",
   "name": "python",
   "nbconvert_exporter": "python",
   "pygments_lexer": "ipython3",
   "version": "3.10.4"
  },
  "toc": {
   "base_numbering": 1,
   "nav_menu": {},
   "number_sections": true,
   "sideBar": true,
   "skip_h1_title": true,
   "title_cell": "Table of Contents",
   "title_sidebar": "Contents",
   "toc_cell": false,
   "toc_position": {},
   "toc_section_display": true,
   "toc_window_display": true
  }
 },
 "nbformat": 4,
 "nbformat_minor": 2
}