{
 "cells": [
  {
   "cell_type": "markdown",
   "metadata": {},
   "source": [
    "# Linpackベンチマーク -- HPL\n",
    "\n",
    "---\n",
    "OpenHPC環境で、Linpackベンチマークの[HPL](http://www.netlib.org/benchmark/hpl/)を実行します。"
   ]
  },
  {
   "cell_type": "markdown",
   "metadata": {},
   "source": [
    "## 前提条件\n",
    "\n",
    "このNotebookを実行するための前提条件を満たしていることを確認します。"
   ]
  },
  {
   "cell_type": "markdown",
   "metadata": {},
   "source": [
    "以下のことを前提条件とします。\n",
    "\n",
    "* 構築済のOpenHPC環境がある\n",
    "* OpenHPC環境のマスターノードに対してSSHでログインできる\n",
    "\n",
    "> この Notebookでは、管理ユーザ以外が実行した状況に合わせるために Ansible ではなく ssh で操作を行います。"
   ]
  },
  {
   "cell_type": "markdown",
   "metadata": {},
   "source": [
    "マスターノードに対して SSH でログインできることを確認します。マスターノードのアドレスを指定してください。"
   ]
  },
  {
   "cell_type": "code",
   "execution_count": null,
   "metadata": {
    "tags": [
     "vcp:skip",
     "vcp:parameters"
    ]
   },
   "outputs": [],
   "source": [
    "# (例)\n",
    "# master_address = '172.30.XXX.xxx'\n",
    "\n",
    "master_address = "
   ]
  },
  {
   "cell_type": "markdown",
   "metadata": {},
   "source": [
    "SSHでログインするユーザ名を指定してください。"
   ]
  },
  {
   "cell_type": "code",
   "execution_count": null,
   "metadata": {
    "tags": [
     "vcp:skip",
     "vcp:parameters"
    ]
   },
   "outputs": [],
   "source": [
    "# (例)\n",
    "# user = 'vcp'\n",
    "# user = 'user00'\n",
    "\n",
    "user = "
   ]
  },
  {
   "cell_type": "markdown",
   "metadata": {},
   "source": [
    "必要であればSSHの秘密鍵を指定してください。"
   ]
  },
  {
   "cell_type": "code",
   "execution_count": null,
   "metadata": {
    "tags": [
     "vcp:rewrite:ssh_identity"
    ]
   },
   "outputs": [],
   "source": [
    "# (例)\n",
    "# ssh_identity = '~/.ssh/id_rsa'"
   ]
  },
  {
   "cell_type": "markdown",
   "metadata": {},
   "source": [
    "SSHでログインする際の引数を、変数に格納しておきます。"
   ]
  },
  {
   "cell_type": "code",
   "execution_count": null,
   "metadata": {
    "tags": [
     "vcp:parameters"
    ]
   },
   "outputs": [],
   "source": [
    "# ユーザ名とホスト名\n",
    "target = f'{user}@{master_address}'\n",
    "print(target)\n",
    "\n",
    "# SSHのコマンドライン引数\n",
    "ssh_opts = f'-i {ssh_identity}' if 'ssh_identity' in vars() else ''\n",
    "print(ssh_opts)"
   ]
  },
  {
   "cell_type": "markdown",
   "metadata": {},
   "source": [
    "マスターノードに対してSSHでログインしてコマンドを実行してみます。"
   ]
  },
  {
   "cell_type": "code",
   "execution_count": null,
   "metadata": {},
   "outputs": [],
   "source": [
    "!ssh {ssh_opts} {target} hostname"
   ]
  },
  {
   "cell_type": "markdown",
   "metadata": {},
   "source": [
    "## 準備\n",
    "\n",
    "HPLを実行するための準備作業を行います。"
   ]
  },
  {
   "cell_type": "markdown",
   "metadata": {},
   "source": [
    "[HPL](http://www.netlib.org/benchmark/hpl/)のソースを取得してビルドします。\n",
    "まず、ソースファイルを取得して、ホームディレクトリに展開します。"
   ]
  },
  {
   "cell_type": "code",
   "execution_count": null,
   "metadata": {
    "scrolled": true
   },
   "outputs": [],
   "source": [
    "hpl_version = '2.3'\n",
    "hpl_url = f'http://www.netlib.org/benchmark/hpl/hpl-{hpl_version}.tar.gz'\n",
    "\n",
    "!ssh {ssh_opts} {target} curl -L -O {hpl_url}\n",
    "!ssh {ssh_opts} {target} tar xzf hpl-{hpl_version}.tar.gz"
   ]
  },
  {
   "cell_type": "markdown",
   "metadata": {},
   "source": [
    "後で参照しやすいように、シンボリックリンクを作成します。"
   ]
  },
  {
   "cell_type": "code",
   "execution_count": null,
   "metadata": {},
   "outputs": [],
   "source": [
    "!ssh {ssh_opts} {target} ln -sf hpl-{hpl_version} hpl"
   ]
  },
  {
   "cell_type": "markdown",
   "metadata": {},
   "source": [
    "HPLのコンパイルオプションを指定します。以下のようなオプションが指定できます。\n",
    "\n",
    "```\n",
    "    -DHPL_COPY_L\n",
    "       force the copy of the panel L before bcast;\n",
    "\n",
    "    -DHPL_CALL_CBLAS\n",
    "       call the cblas interface;\n",
    "\n",
    "    -DHPL_CALL_VSIPL\n",
    "       call the vsip  library;\n",
    "\n",
    "    -DHPL_DETAILED_TIMING\n",
    "       enables detail timers;\n",
    "```"
   ]
  },
  {
   "cell_type": "code",
   "execution_count": null,
   "metadata": {
    "tags": [
     "vcp:parameters"
    ]
   },
   "outputs": [],
   "source": [
    "hpl_opts = '-DHPL_CALL_CBLAS'"
   ]
  },
  {
   "cell_type": "markdown",
   "metadata": {},
   "source": [
    "HPL をビルドするときの `arch` 名を指定します。ここで指定した名前を使って後で`Make.{arch}` ファイルを作成します。"
   ]
  },
  {
   "cell_type": "code",
   "execution_count": null,
   "metadata": {
    "tags": [
     "vcp:parameters"
    ]
   },
   "outputs": [],
   "source": [
    "hpl_arch= 'Linux_OPENBLAS'"
   ]
  },
  {
   "cell_type": "markdown",
   "metadata": {},
   "source": [
    "`Make.{arch}` ファイルを作成します。"
   ]
  },
  {
   "cell_type": "code",
   "execution_count": null,
   "metadata": {},
   "outputs": [],
   "source": [
    "!ssh {ssh_opts} {target} '''cd hpl && module load openblas && sed \\\n",
    "    -e 's%@ARCH@%{hpl_arch}%' \\\n",
    "    -e 's%@LADIR@%\\\\\\$\\\\\\(OPENBLAS_DIR\\\\\\)%' \\\n",
    "    -e 's%@LAINC@%-I\\\\\\$\\\\\\(OPENBLAS_INC\\\\\\)%' \\\n",
    "    -e 's%@LALIB@%-Wl,-rpath,\\\\\\$\\\\\\(OPENBLAS_LIB\\\\\\)\\\\\\ -L\\\\\\$\\\\\\(OPENBLAS_LIB\\\\\\)\\\\\\ -lopenblas%' \\\n",
    "    -e 's%@SHELL@%/bin/sh%' \\\n",
    "    -e 's%@CD@%cd%' \\\n",
    "    -e 's%@CP@%cp%' \\\n",
    "    -e 's%@LN_S@%ln\\\\\\ -s%' \\\n",
    "    -e 's%@MKDIR@%mkdir%' \\\n",
    "    -e 's%@RM@%/bin/rm\\\\\\ -f%' \\\n",
    "    -e 's%@TOUCH@%touch%' \\\n",
    "    -e 's%@CC@%mpicc%' \\\n",
    "    -e 's%@CCNOOPT@%%' \\\n",
    "    -e 's%@CCFLAGS@%-fomit-frame-pointer\\\\\\ -O3\\\\\\ -funroll-loops\\\\\\ -W\\\\\\ -Wall%' \\\n",
    "    -e 's%@LINKER@%mpif77%' \\\n",
    "    -e 's%@LINKFLAGS@%\\\\\\$\\\\\\(CCFLAGS\\\\\\)%' \\\n",
    "    -e 's%@ARCHIVER@%ar%' \\\n",
    "    -e 's%@ARFLAGS@%r%' \\\n",
    "    -e 's%@RANLIB@%echo%' \\\n",
    "    -e 's%@MPDIR@%%' \\\n",
    "    -e 's%@MPINC@%%' \\\n",
    "    -e 's%@MPLIB@%%' \\\n",
    "    -e 's%@F2CDEFS@%%' \\\n",
    "    -e 's%^HPL_OPTS.*%HPL_OPTS\\\\\\ =\\\\\\ {hpl_opts.replace(\" \", \"\\\\\\\\\\\\ \")}%' \\\n",
    "    setup/Make.UNKNOWN.in > Make.{hpl_arch}'''"
   ]
  },
  {
   "cell_type": "markdown",
   "metadata": {},
   "source": [
    "作成した `Make.{arch}`の内容を確認します。"
   ]
  },
  {
   "cell_type": "code",
   "execution_count": null,
   "metadata": {},
   "outputs": [],
   "source": [
    "!ssh {ssh_opts} {target} 'cat hpl/Make.{hpl_arch}'"
   ]
  },
  {
   "cell_type": "markdown",
   "metadata": {},
   "source": [
    "HPLのビルドを行います。"
   ]
  },
  {
   "cell_type": "code",
   "execution_count": null,
   "metadata": {},
   "outputs": [],
   "source": [
    "!ssh {ssh_opts} {target} 'cd hpl && module load openblas && \\\n",
    "    make arch={hpl_arch}'"
   ]
  },
  {
   "cell_type": "markdown",
   "metadata": {},
   "source": [
    "`xhpl`コマンドがビルドできたことを確認します。"
   ]
  },
  {
   "cell_type": "code",
   "execution_count": null,
   "metadata": {},
   "outputs": [],
   "source": [
    "!ssh {ssh_opts} {target} 'ls -l hpl/bin/{hpl_arch}'"
   ]
  },
  {
   "cell_type": "markdown",
   "metadata": {},
   "source": [
    "## HPLの実行\n",
    "\n",
    "HPLを実行します。"
   ]
  },
  {
   "cell_type": "markdown",
   "metadata": {},
   "source": [
    "### パラメータの設定"
   ]
  },
  {
   "cell_type": "markdown",
   "metadata": {},
   "source": [
    "計算ノードの数を指定してください。"
   ]
  },
  {
   "cell_type": "code",
   "execution_count": null,
   "metadata": {
    "tags": [
     "vcp:skip",
     "vcp:parameters"
    ]
   },
   "outputs": [],
   "source": [
    "# (例)\n",
    "# num_nodes = 2\n",
    "\n",
    "num_nodes = "
   ]
  },
  {
   "cell_type": "markdown",
   "metadata": {},
   "source": [
    "MPIのタスク数を指定してください。"
   ]
  },
  {
   "cell_type": "code",
   "execution_count": null,
   "metadata": {
    "tags": [
     "vcp:skip",
     "vcp:parameters"
    ]
   },
   "outputs": [],
   "source": [
    "# (例)\n",
    "# num_tasks = 4\n",
    "\n",
    "num_tasks = "
   ]
  },
  {
   "cell_type": "markdown",
   "metadata": {},
   "source": [
    "### HPL.dat の作成\n",
    "\n",
    "HPL.dat を作成します。"
   ]
  },
  {
   "cell_type": "markdown",
   "metadata": {},
   "source": [
    "次のセルの `N`や`NB`の値を必要に応じて書き換えて実行してください。HPL.dat の記述方法については[HPL Tuning](http://www.netlib.org/benchmark/hpl/tuning.html) を参照してください。"
   ]
  },
  {
   "cell_type": "code",
   "execution_count": null,
   "metadata": {},
   "outputs": [],
   "source": [
    "from tempfile import TemporaryDirectory\n",
    "from pathlib import Path\n",
    "%run scripts/hpl_utils.py\n",
    "\n",
    "\n",
    "p, q = hpl_pq(num_tasks)\n",
    "with TemporaryDirectory() as workdir:\n",
    "    hpl_dat = Path(workdir) / 'HPL.dat'\n",
    "    with hpl_dat.open(mode='w') as f:\n",
    "        f.write(f'''HPLinpack benchmark input file\n",
    "Innovative Computing Laboratory, University of Tennessee\n",
    "HPL.out      output file name (if any)\n",
    "6            device out (6=stdout,7=stderr,file)\n",
    "1            # of problems sizes (N)\n",
    "10000        Ns\n",
    "1            # of NBs\n",
    "192          NBs\n",
    "0            PMAP process mapping (0=Row-,1=Column-major)\n",
    "1            # of process grids (P x Q)\n",
    "{p}            Ps\n",
    "{q}            Qs\n",
    "16.0         threshold\n",
    "1            # of panel fact\n",
    "2            PFACTs (0=left, 1=Crout, 2=Right)\n",
    "1            # of recursive stopping criterium\n",
    "2            NBMINs (>= 1)\n",
    "1            # of panels in recursion\n",
    "2            NDIVs\n",
    "1            # of recursive panel fact.\n",
    "1            RFACTs (0=left, 1=Crout, 2=Right)\n",
    "1            # of broadcast\n",
    "0            BCASTs (0=1rg,1=1rM,2=2rg,3=2rM,4=Lng,5=LnM)\n",
    "1            # of lookahead depth\n",
    "0            DEPTHs (>=0)\n",
    "0            SWAP (0=bin-exch,1=long,2=mix)\n",
    "1            swapping threshold\n",
    "1            L1 in (0=transposed,1=no-transposed) form\n",
    "1            U  in (0=transposed,1=no-transposed) form\n",
    "0            Equilibration (0=no,1=yes)\n",
    "8            memory alignment in double (> 0)\n",
    "''')\n",
    "    !cat {hpl_dat}\n",
    "    !scp {ssh_opts} {str(hpl_dat)} {target}:hpl/bin/{hpl_arch}"
   ]
  },
  {
   "cell_type": "markdown",
   "metadata": {},
   "source": [
    "### ジョブスクリプトの作成\n",
    "\n",
    "HPLを実行するジョブスクリプトを作成します。"
   ]
  },
  {
   "cell_type": "code",
   "execution_count": null,
   "metadata": {},
   "outputs": [],
   "source": [
    "with TemporaryDirectory() as workdir:\n",
    "    hpl_batch = Path(workdir) / 'hpl.job'\n",
    "    with hpl_batch.open(mode='w') as f:\n",
    "        f.write(f'''#!/bin/bash\n",
    "\n",
    "#SBATCH -J hpl                # Job name\n",
    "#SBATCH -o hpl.%j.out         # Name of stdout output file (%j expands to jobId)\n",
    "#SBATCH -N {num_nodes}                  # Total number of nodes requested\n",
    "#SBATCH -n {num_tasks}                  # Total number of mpi tasks requested\n",
    "#SBATCH -t 01:00:00           # Run time (hh:mm:ss)\n",
    "\n",
    "# Launch MPI-based executable\n",
    "module load openblas\n",
    "\n",
    "cd hpl/bin/{hpl_arch}\n",
    "\n",
    "export PRTE_MCA_rmaps_default_mapping_policy=:hwtcpus\n",
    "prun ./xhpl        \n",
    "''')\n",
    "    !cat {hpl_batch}\n",
    "    !scp {ssh_opts} {str(hpl_batch)} {target}:."
   ]
  },
  {
   "cell_type": "markdown",
   "metadata": {},
   "source": [
    "### ジョブの実行\n",
    "\n",
    "HPLのジョブを実行します。"
   ]
  },
  {
   "cell_type": "code",
   "execution_count": null,
   "metadata": {},
   "outputs": [],
   "source": [
    "!ssh {ssh_opts} {target} sbatch hpl.job"
   ]
  },
  {
   "cell_type": "markdown",
   "metadata": {},
   "source": [
    "ジョブの状態を確認します。"
   ]
  },
  {
   "cell_type": "code",
   "execution_count": null,
   "metadata": {},
   "outputs": [],
   "source": [
    "!ssh {ssh_opts} {target} squeue"
   ]
  },
  {
   "cell_type": "markdown",
   "metadata": {},
   "source": [
    "結果を確認します。\n",
    "\n",
    "> ジョブの実行が完了するまで数分程度かかります。しばらく待ってから次のセルを実行してください。"
   ]
  },
  {
   "cell_type": "code",
   "execution_count": null,
   "metadata": {
    "tags": [
     "vcp:wait:180"
    ]
   },
   "outputs": [],
   "source": [
    "!ssh {ssh_opts} {target} 'cat hpl.*.out'"
   ]
  }
 ],
 "metadata": {
  "kernelspec": {
   "display_name": "Python 3",
   "language": "python",
   "name": "python3"
  },
  "language_info": {
   "file_extension": ".py",
   "mimetype": "text/x-python",
   "name": "python",
   "nbconvert_exporter": "python",
   "pygments_lexer": "ipython3",
   "version": "3.10.4"
  },
  "toc": {
   "base_numbering": 1,
   "nav_menu": {},
   "number_sections": true,
   "sideBar": true,
   "skip_h1_title": true,
   "title_cell": "Table of Contents",
   "title_sidebar": "Contents",
   "toc_cell": false,
   "toc_position": {},
   "toc_section_display": true,
   "toc_window_display": true
  }
 },
 "nbformat": 4,
 "nbformat_minor": 2
}
