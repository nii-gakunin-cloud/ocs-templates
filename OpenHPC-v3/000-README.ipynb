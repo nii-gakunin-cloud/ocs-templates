{
 "cells": [
  {
   "cell_type": "markdown",
   "metadata": {},
   "source": [
    "# README\n",
    "\n",
    "---\n",
    "\n",
    "VCP SDKを用いてクラウド上にOpenHPC環境を構築します。"
   ]
  },
  {
   "cell_type": "markdown",
   "metadata": {},
   "source": [
    "## 概要\n",
    "\n",
    "[OpenHPC](https://openhpc.community/)で配布しているパッケージを利用してクラウド上にHPC環境を構築します。"
   ]
  },
  {
   "cell_type": "markdown",
   "metadata": {},
   "source": [
    "### 構成について"
   ]
  },
  {
   "cell_type": "markdown",
   "metadata": {},
   "source": [
    "構築するOpenHPC環境は１つのマスターノード（ヘッドノード）と複数の計算ノードによって構成されます。\n",
    "マスターノードはNFSサーバとしての役割も担います。NFSによってホームディレクトリやライブラリなどのファイルを計算ノードとの間で共有します。\n",
    "\n",
    "OpenHPCではジョブスケジューラとして[Slurm](https://www.schedmd.com/)と[OpenPBS](https://www.openpbs.org/)が選択できますが、このテンプレートではSlurmを使用します。"
   ]
  },
  {
   "cell_type": "markdown",
   "metadata": {},
   "source": [
    "![構成](images/ohpc-000.png)"
   ]
  },
  {
   "cell_type": "markdown",
   "metadata": {},
   "source": [
    "### 構築方法について"
   ]
  },
  {
   "cell_type": "markdown",
   "metadata": {},
   "source": [
    "OpenHPCのInstall guideでは[Warewulf](http://warewulf.lbl.gov/)などを用いて計算ノードのプロビジョニングを行っています。このテンプレートでは Warewulf などを利用せずに、VCP SDKを用いてマスターノードと計算ノードのプロビジョニングを行います。VCP SDKを用いることでクラウド上に仮想サーバを作成することができます。またNFS用の仮想ディスクもVCP SDKによって作成します。VCP SDKが作成する仮想サーバ、仮想ディスクのことを VCノード、VCディスクと呼びます。"
   ]
  },
  {
   "cell_type": "markdown",
   "metadata": {},
   "source": [
    "#### VCノードの作成\n",
    "\n",
    "VCノード（クラウド上の仮想サーバ）を作成するには、このNotebook環境に用意されているVCP SDKを利用します。VCP SDKはNotebook環境から利用できるPython3のライブラリで、パブリッククラウド上(AWS, Azure, ...)に仮想サーバや仮想ディスクを作成する操作を簡単に行うことができます。"
   ]
  },
  {
   "cell_type": "markdown",
   "metadata": {},
   "source": [
    "実際のクラウドに対する操作はVCP SDKが直接行うのではなくVC Controllerと呼ばれるVCPのサーバによって実行されます。VC ControllerのAPIをNotebook環境から直接利用することも可能ですが、利用しやすいようにライブラリとしてまとめたものが VCP SDKになります。VC Contorollerを利用するには、アクセストークンが必要となります。VCP SDKを利用する場合も同様にVC Controllerのアクセストークンが必要となりますので、事前にVC管理者に対してアクセストークンの発行を依頼しておいてください。"
   ]
  },
  {
   "cell_type": "markdown",
   "metadata": {},
   "source": [
    "#### VCノードのイメージ選択"
   ]
  },
  {
   "cell_type": "markdown",
   "metadata": {},
   "source": [
    "VCPでは利用者に対して、異なるクラウド(AWS, Azure, ...)の仮想サーバを同一の環境として提供するために[Docker コンテナ](https://www.docker.com/)を利用しています。クラウドのVM/BMをVCノードとして組み入れる際にVCPが各VM/BMの上で共通環境となるコンテナを起動します。VCPではこのコンテナのことをBaseコンテナと呼びます。Baseコンテナは仮想サーバのモニタリングなどのVCノードに共通する機能を提供する役割も担っています。"
   ]
  },
  {
   "cell_type": "markdown",
   "metadata": {},
   "source": [
    "標準のBaseコンテナは共通環境を提供することを目的としていますが、それとは別に特定の利用目的を持ったBaseコンテナを\n",
    "アプリケーションテンプレートでは提供しています。OpenHPC向けには、マスターノード用Baseコンテナイメージと計算ノード用Baseコンテナイメージを用意しています。"
   ]
  },
  {
   "cell_type": "markdown",
   "metadata": {},
   "source": [
    "#### VCディスクの作成\n",
    "\n",
    "VCディスク（クラウド上の仮想ディスク）もVCノードと同様にVCP SDKを利用することで作成できます。"
   ]
  },
  {
   "cell_type": "markdown",
   "metadata": {},
   "source": [
    "現在VCディスクを作成できるプロバイダは `AWS` ,`Azure` , `Oracle Cloud` に限定されています。その他のプロバイダでOpenHPC環境を構築することを考慮して、このアプリケーションテンプレートではマスターノードにNFS用ディスクを作成しない構成にも対応しています。NFS用ディスクを作成しない場合は仮想ノードのルートボリュームを直接利用するので、ルートボリュームサイズに大きめの値を指定してください。"
   ]
  },
  {
   "cell_type": "markdown",
   "metadata": {},
   "source": [
    "### バージョン\n",
    "\n",
    "このテンプレートで構築するミドルウェア、OSのバージョンを示します。"
   ]
  },
  {
   "cell_type": "markdown",
   "metadata": {},
   "source": [
    "* [OpenHPC 3.2](https://github.com/openhpc/ohpc/releases/tag/v3.2.GA)\n",
    "* Rocky Linux 9"
   ]
  },
  {
   "cell_type": "markdown",
   "metadata": {},
   "source": [
    "### 前提条件"
   ]
  },
  {
   "cell_type": "markdown",
   "metadata": {},
   "source": [
    "#### 時刻同期\n",
    "\n",
    "OpenHPCでは各ノードの時刻が正しく設定されている必要があります。"
   ]
  },
  {
   "cell_type": "markdown",
   "metadata": {},
   "source": [
    "VCPで時刻同期を行うには、リリースノート「[Release/20.10.0 -- 2.機能追加](https://meatwiki.nii.ac.jp/confluence/pages/viewpage.action?pageId=32677360#id-%E3%83%AA%E3%83%AA%E3%83%BC%E3%82%B9%E3%83%8E%E3%83%BC%E3%83%88-Release/20.10.0(2020/10/30))」に記されているようにVCコントローラへの設定が必要となります。\n",
    "OpenHPCの構築を行う前にOCS運用担当者にVCコントローラへの設定を依頼してください。"
   ]
  },
  {
   "cell_type": "markdown",
   "metadata": {},
   "source": [
    "## Notebookについて\n",
    "\n",
    "OpenHPCテンプレートのNotebookについて記します。"
   ]
  },
  {
   "cell_type": "markdown",
   "metadata": {},
   "source": [
    "### 実行方法\n",
    "\n",
    "テンプレートのNotebookを実行するには、下記に示すいずれかの手順で作業用Notebookを作成する必要があります。"
   ]
  },
  {
   "cell_type": "markdown",
   "metadata": {},
   "source": [
    "* [000-README.ipynb#作業用notebookの作成](000-README.ipynb#作業用Notebookの作成)で作業用のNotebookを作成する\n",
    "* テンプレートのNotebookを配置してあるディレクトリ [`notebooks/`](./notebooks/) から、`000-README.ipynb`(このNotebook)と同じディレクトリに手作業でコピーする"
   ]
  },
  {
   "cell_type": "markdown",
   "metadata": {},
   "source": [
    "***注意:***\n",
    "\n",
    " [`notebooks/`](./notebooks/)に配置してあるNotebokをそのまま実行すると、他のファイルのパスなどが想定しているものと異なるため、\n",
    "***正しく処理できずエラーとなります***。"
   ]
  },
  {
   "cell_type": "markdown",
   "metadata": {},
   "source": [
    "### 実行順序\n",
    "\n",
    "テンプレートのNotebookを実行する順序について記します。"
   ]
  },
  {
   "cell_type": "markdown",
   "metadata": {},
   "source": [
    "はじめに全てのNotebookの関係について示し、その後に具体的な目的に応じた実行手順を例示します。\n",
    "具体例としては以下のものを示します。\n",
    "\n",
    "* LINPACKを実行する\n",
    "* NGC(NVIDIA GPU CLOUD)カタログのコンテナを実行する"
   ]
  },
  {
   "cell_type": "markdown",
   "metadata": {},
   "source": [
    "#### Notebook間の関係について"
   ]
  },
  {
   "cell_type": "markdown",
   "metadata": {},
   "source": [
    "次のセルを実行すると、テンプレートにあるNotebook間の関連を示す図を表示します。ひとつの長方形の枠がそれぞれテンプレートのNotebookに対応しています。\n",
    "\n",
    "> 図が表示されずに `<IPython.core.display.SVG object>` と表示されている場合は、次のセルを `unfreeze` した後に再実行してください。"
   ]
  },
  {
   "cell_type": "code",
   "execution_count": null,
   "metadata": {
    "scrolled": false
   },
   "outputs": [],
   "source": [
    "from IPython.display import SVG\n",
    "%run scripts/nb_utils.py\n",
    "setup_diag()\n",
    "SVG(filename=generate_svg_diag(diag='images/notebooks.diag'))"
   ]
  },
  {
   "cell_type": "markdown",
   "metadata": {},
   "source": [
    "#### LINPACKを実行する\n",
    "\n",
    "OpenHPC環境で[HPL(High-Performance Linpack Benchmark)](http://www.netlib.org/benchmark/hpl/)を実行する手順の例を示します。次のセルを実行すると実行順序の図が表示されます。"
   ]
  },
  {
   "cell_type": "code",
   "execution_count": null,
   "metadata": {},
   "outputs": [],
   "source": [
    "SVG(filename=generate_svg_diag(diag='images/notebooks-linpack.diag'))"
   ]
  },
  {
   "cell_type": "markdown",
   "metadata": {},
   "source": [
    "まずは「環境構築」に表示されている、以下の４つのNotebookでOpenHPC環境の構築を行います。\n",
    "\n",
    "* 010: パラメータ設定\n",
    "* 020: OpenHPCの起動\n",
    "* 031: 設定ファイルの編集 - slurm.conf\n",
    "* 051: ユーザの追加\n",
    "\n",
    "その後、構築したOpenHPC環境でHPLをジョブとして実行します。ジョブの実行は構築の際に利用した管理権限のあるユーザではなく「051:ユーザの追加」で作成した一般ユーザによって行うことを想定しています。\n",
    "\n",
    "* 121: Linpackベンチマーク - HPL"
   ]
  },
  {
   "cell_type": "markdown",
   "metadata": {},
   "source": [
    "#### NGC(NVIDIA GPU CLOUD)カタログのコンテナをApptainerで実行する\n",
    "\n",
    "OpenHPC環境で[NGCカタログ](https://ngc.nvidia.com/)のコンテナをApptainerで実行する手順の例を示します。次のセルを実行すると実行順序の図が表示されます。"
   ]
  },
  {
   "cell_type": "code",
   "execution_count": null,
   "metadata": {
    "scrolled": false
   },
   "outputs": [],
   "source": [
    "SVG(filename=generate_svg_diag(diag='images/notebooks-gpu.diag'))"
   ]
  },
  {
   "cell_type": "markdown",
   "metadata": {},
   "source": [
    "まずは「環境構築」に表示されている４つのNotebookでOpenHPC環境の構築を行います。ここではGPUを利用したジョブを実行することを想定してます。そのため「032: 設定ファイルの編集 - GPU(GRES)の登録」により Slurm にGPUをリソース登録します。\n",
    "* 010: パラメータ設定\n",
    "* 020: OpenHPCの起動\n",
    "* 032: 設定ファイルの編集 - GPU(GRES)の登録\n",
    "* 051: ユーザの追加\n",
    "\n",
    "その後、構築したOpenHPC環境でNGCカタログのコンテナを利用したジョブを実行します。ジョブの実行は構築の際に利用した管理権限のあるユーザではなく「051:ユーザの追加」で作成した一般ユーザによって行うことを想定しています。この実行例ではNGCカタログのコンテナを実行する前に「140: Apptainerの利用」によってApptainerを用いたコンテナ実行の手順を確認しています。\n",
    "\n",
    "* 140: Apptainerの利用\n",
    "* 141: NGC Catalogのコンテナを実行する - PyTorch-Apptainer\n",
    "* 142: NGC Catalogのコンテナを実行する - TensorFlow-Apptainer"
   ]
  },
  {
   "cell_type": "markdown",
   "metadata": {},
   "source": [
    "***注意:***\n",
    "\n",
    "NGCカタログのコンテナを実行する場合は、環境構築で実行する「010: パラメータ設定」のNotebookで以下のような設定が必要となります。\n",
    "\n",
    "* 4.1.3 計算ノードのインスタンスタイプ\n",
    "    - `compute_instance_type`にNVIDIAのGPUを利用できるインスタンスタイプ、VMサイズを指定してください\n",
    "    - 動作確認済のインスタンスタイプ・VMサイズを以下に示します\n",
    "        + AWS\n",
    "            - [G5(NVIDIA A10G)](https://aws.amazon.com/jp/ec2/instance-types/g5/)\n",
    "            - [G4(NVIDIA T4)](https://aws.amazon.com/jp/ec2/instance-types/g4/)\n",
    "        + Azure\n",
    "            - [NC T4_v3(NVIDIA T4)](https://docs.microsoft.com/ja-jp/azure/virtual-machines/nct4-v3-series)\n",
    "            - [NCv3(NVIDIA V100)](https://docs.microsoft.com/ja-jp/azure/virtual-machines/ncv3-series)\n",
    "        + Oracle Cloud\n",
    "            - [VM.GPU2(NVIDIA P100)](https://www.oracle.com/jp/cloud/compute/gpu.html)\n",
    "\n",
    "* 4.1.5 計算ノードにおけるGPUの利用\n",
    "    - `compute_use_gpu`の値に`True` を指定してください\n",
    "* 4.2.3 マスターノードのルートボリュームサイズ\n",
    "    - コンテナイメージをApptainerで利用できるように処理するための作業領域としてある程度以上のサイズが必要となります\n",
    "    - NGCカタログのPyTorchまたはTensorFlowのコンテナイメージを利用するには、`master_root_size`に少なくとも 60GB 以上の値を指定してください\n",
    "\n",
    "> 上に示した「4.1.3」などの表記は Notebook「010: パラメータ設定」における章番号になります。"
   ]
  },
  {
   "cell_type": "markdown",
   "metadata": {},
   "source": [
    "#### NGC(NVIDIA GPU CLOUD)カタログのコンテナをDockerで実行する\n",
    "\n",
    "[NGCカタログ](https://ngc.nvidia.com/)のコンテナをDockerで実行する手順の例を示します。次のセルを実行すると実行順序の図が表示されます。前節との違いはコンテナの実行に ApptainerではなくDockerを利用することになります。"
   ]
  },
  {
   "cell_type": "code",
   "execution_count": null,
   "metadata": {},
   "outputs": [],
   "source": [
    "SVG(filename=generate_svg_diag(diag='images/notebooks-gpu-docker.diag'))"
   ]
  },
  {
   "cell_type": "markdown",
   "metadata": {},
   "source": [
    "まずは「環境構築」に表示されている５つのNotebookでOpenHPC環境の構築を行います。ここではGPUを利用したジョブを実行することを想定してます。そのため「032: 設定ファイルの編集 - GPU(GRES)の登録」により Slurm にGPUをリソース登録します。またユーザにdockerコマンドの実行を許可するために「051: ユーザの追加」で追加するユーザに `docker` グループへの追加が必要となります。\n",
    "\n",
    "* 010: パラメータ設定\n",
    "* 020: OpenHPCの起動\n",
    "* 032: 設定ファイルの編集 - GPU(GRES)の登録\n",
    "* 071: Docker Engineのインストール\n",
    "* 051: ユーザの追加\n",
    "\n",
    "その後、構築したOpenHPC環境でNGCカタログのコンテナを利用したジョブを実行します。\n",
    "\n",
    "* 151: NGC Catalogのコンテナを実行する - PyTorch-Docker\n",
    "* 152: NGC Catalogのコンテナを実行する - TensorFlow-Docker"
   ]
  },
  {
   "cell_type": "markdown",
   "metadata": {},
   "source": [
    "### 各Notebookの目次"
   ]
  },
  {
   "cell_type": "markdown",
   "metadata": {},
   "source": [
    "次のセルを実行すると、テンプレートの全てのNotebookの目次が表示されます。\n",
    "\n",
    "> 目次が表示されずに `<IPython.core.display.Markdown object>` と表示されている場合は、次のセルを `unfreeze` した後に再実行してください。\n",
    "\n",
    "リンクが表示されている項目が一つのNotebookに対応しており、そのサブ項目が各Notebook内の目次になっています。"
   ]
  },
  {
   "cell_type": "code",
   "execution_count": null,
   "metadata": {
    "scrolled": true
   },
   "outputs": [],
   "source": [
    "from IPython.display import Markdown\n",
    "%run scripts/nb_utils.py\n",
    "Markdown(notebooks_toc())"
   ]
  },
  {
   "cell_type": "markdown",
   "metadata": {},
   "source": [
    "## 作業用Notebookの作成\n",
    "\n",
    "この節のセルを実行することで、テンプレートのNotebookから作業用Notebookを作成することができます。"
   ]
  },
  {
   "cell_type": "markdown",
   "metadata": {},
   "source": [
    "まず、作業用Notebookを配置するディレクトリを指定してください。"
   ]
  },
  {
   "cell_type": "code",
   "execution_count": null,
   "metadata": {},
   "outputs": [],
   "source": [
    "WORK_DIR = 'work'"
   ]
  },
  {
   "cell_type": "markdown",
   "metadata": {},
   "source": [
    "次のセルを実行すると、Notebook名のドロップダウンリストと「作業開始」ボタンが現れます。\n",
    "「作業開始」ボタンを押すと、テンプレートのNotebookからコピーを作成した後、自動的にブラウザでコピーが開きます。\n",
    "Notebookの説明を確認しながら実行、適宜修正しながら実行していってください。\n",
    "\n",
    "> このNotebookを Shutdown した後に再度開いた場合、次のセルに既に表示されている「作用開始」ボタンが正しく動作しません。次のセルをいったん unfreeze した後、セルを再実行してから「作業開始」ボタンをクリックして下さい。"
   ]
  },
  {
   "cell_type": "code",
   "execution_count": null,
   "metadata": {},
   "outputs": [],
   "source": [
    "from IPython.core.display import HTML\n",
    "%run scripts/nb_utils.py\n",
    "setup_nb_workdir(WORK_DIR)\n",
    "HTML(generate_html_work_nbs(WORK_DIR))"
   ]
  }
 ],
 "metadata": {
  "kernelspec": {
   "display_name": "Python 3",
   "language": "python",
   "name": "python3"
  },
  "language_info": {
   "file_extension": ".py",
   "mimetype": "text/x-python",
   "name": "python",
   "nbconvert_exporter": "python",
   "pygments_lexer": "ipython3",
   "version": "3.7.6"
  },
  "toc": {
   "base_numbering": 1,
   "nav_menu": {},
   "number_sections": true,
   "sideBar": true,
   "skip_h1_title": true,
   "title_cell": "Table of Contents",
   "title_sidebar": "Contents",
   "toc_cell": false,
   "toc_position": {},
   "toc_section_display": "block",
   "toc_window_display": true
  }
 },
 "nbformat": 4,
 "nbformat_minor": 2
}
