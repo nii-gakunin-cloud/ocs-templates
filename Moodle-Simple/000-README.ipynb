{
 "cells": [
  {
   "cell_type": "markdown",
   "metadata": {},
   "source": [
    "# README\n",
    "\n",
    "---\n",
    "\n",
    "Moodle環境の構築を行います。"
   ]
  },
  {
   "cell_type": "markdown",
   "metadata": {},
   "source": [
    "## 構成について"
   ]
  },
  {
   "cell_type": "markdown",
   "metadata": {},
   "source": [
    "### コンテナ構成\n",
    "\n",
    "![コンテナ構成](images/moodle-000-01.png)\n",
    "\n",
    "このアプリケーションテンプレートではDockerコンテナを用いて[Moodle](https://moodle.org/)環境の構築を行います。\n",
    "構築する環境は次の２つのコンテナで構成されます。\n",
    "\n",
    "* Moodle\n",
    "  - MoodleのPHPスクリプトを実行するコンテナ\n",
    "* [MariaDB](https://hub.docker.com/_/mariadb/)\n",
    "  - Moodleの設定を保存するデータベース\n",
    "\n",
    "ここでは小規模構成を想定して２つのコンテナを１つのノードに配置する構成とします。"
   ]
  },
  {
   "cell_type": "markdown",
   "metadata": {},
   "source": [
    "### リバースプロキシ\n",
    "\n",
    "Moodle環境へのアクセスをリバースプロキシを経由するように構成することが可能です。ただし、リバースプロキシの構築自体についてはこのアプリケーションテンプレートの対象外となります。\n",
    "\n",
    "![リバースプロキシ構成](images/moodle-000-02.png)"
   ]
  },
  {
   "cell_type": "markdown",
   "metadata": {},
   "source": [
    "### HTTPS接続\n",
    "\n",
    "デフォルトの構成ではMoodleコンテナへの接続はHTTPとなっています。HTTPS接続に対応したhttpdコンテナを追加することでMoodleをHTTPSで公開することができます。\n",
    "\n",
    "![HTTPS構成](images/moodle-000-03.png)\n",
    "\n",
    "HTTPS接続でのMoodle環境を構築するには、まずHTTP接続構成で構築する「021-Moodleコンテナの起動.ipynb」を実行した後に「071-HTTPS接続に変更する.ipynb」を実行してください。"
   ]
  },
  {
   "cell_type": "markdown",
   "metadata": {},
   "source": [
    "### LDAP認証\n",
    "\n",
    "MoodleのLDAPサーバプラグインを有効にしてLDAP認証を利用することができます。"
   ]
  },
  {
   "cell_type": "markdown",
   "metadata": {},
   "source": [
    "![LDAP認証](images/moodle-000-04.png)\n",
    "\n",
    "LDAPサーバに接続するためにCA証明書の追加やDNSサーバ設定の変更が必要となる場合は「211-LDAP認証の設定.ipynb」を実行してください。"
   ]
  },
  {
   "cell_type": "markdown",
   "metadata": {
    "heading_collapsed": true
   },
   "source": [
    "### Shibboleth認証\n",
    "\n",
    "MoodleのShibbolethプラグインを有効にしてShibboleth認証を利用することができます。"
   ]
  },
  {
   "cell_type": "markdown",
   "metadata": {
    "hidden": true
   },
   "source": [
    "![Shibboleth認証](images/moodle-000-05.png)"
   ]
  },
  {
   "cell_type": "markdown",
   "metadata": {
    "hidden": true
   },
   "source": [
    "Moodleコンテナの前段にShibbolethコンテナを配置することで構築環境にShibboleth SPの機能を追加することができます。このコンテナ構成の環境を構築するには「221-Shibboleth認証の設定.ipynb」を実行してください。"
   ]
  },
  {
   "cell_type": "markdown",
   "metadata": {
    "heading_collapsed": true
   },
   "source": [
    "### ログの転送\n",
    "\n",
    "テンプレートで構築したMoodle環境ではコンテナのログ以外に、コンテナ内で実行しているApache HTTP Serverのアクセスログなどのログが出力されています。これらのログを集約するために構築環境外の syslogサーバやFluentdにログを送信するように構成することができます。"
   ]
  },
  {
   "cell_type": "markdown",
   "metadata": {
    "hidden": true
   },
   "source": [
    "![syslog構成](images/moodle-000-06.png)\n",
    "\n",
    "ログをsyslogに転送するには「051-ロギングドライバを変更する.ipynb」を実行してください。"
   ]
  },
  {
   "cell_type": "markdown",
   "metadata": {
    "hidden": true
   },
   "source": [
    "![fluentd構成](images/moodle-000-07.png)\n",
    "\n",
    "ログをFluentdに転送するには「052-ロギングドライバを変更する.ipynb」を実行してください。"
   ]
  },
  {
   "cell_type": "markdown",
   "metadata": {},
   "source": [
    "## 準備事項\n",
    "\n",
    "このアプリケーションテンプレートを実行する前に、必要となる準備事項について記します。"
   ]
  },
  {
   "cell_type": "markdown",
   "metadata": {},
   "source": [
    "### 仮想マシン作成に必要となるもの\n",
    "\n",
    "このアプリケーションテンプレートではMoodle環境を構築するための仮想マシンの作成に以下の３つの方法を選択できます。\n",
    "\n",
    "1. VCP SDKを利用する\n",
    "1. Amazon EC2インスタンスを利用する\n",
    "1. Azure仮想マシンを利用する\n",
    "\n",
    "どの方法を選択するかによって準備するものが異なります。\n",
    "\n",
    "#### VCP SDKを利用する場合\n",
    "\n",
    "* VCP SDKのセットアップ\n",
    "* VC Controllerのアクセストークン\n",
    "\n",
    "#### Amazon EC2インスタンスを利用する場合\n",
    "\n",
    "* Amazon のクレデンシャル（アクセスキー、シークレットキー）\n",
    "* Amazon VPCとサブネットが作成済であること\n",
    "* EC2キーペアが作成済であること\n",
    "\n",
    "#### Azure 仮想マシンを利用する場合\n",
    "\n",
    "* Azureのサービスプリンシパル（サブスクリプションID、 テナントID、クライアントID、シークレット）\n",
    "* 仮想ネットワーク、サブネットが作成済であること\n",
    "\n",
    "#### 共通で必要となるもの\n",
    "\n",
    "* アプリケーションテンプレートで作成した仮想マシンにSSH公開鍵認証でログインするための公開鍵、秘密鍵"
   ]
  },
  {
   "cell_type": "markdown",
   "metadata": {},
   "source": [
    "### Moodle環境構築に必要となるもの\n",
    "\n",
    "* Moodleを公開するときのURL\n",
    "* リバースプロキシに関する情報（リバースプロキシを利用する場合）\n",
    "* サーバ証明書(HTTPS接続で公開する場合)"
   ]
  },
  {
   "cell_type": "markdown",
   "metadata": {},
   "source": [
    "## Notebookの一覧\n",
    "\n",
    "お手本Notebookの一覧を示します。"
   ]
  },
  {
   "cell_type": "markdown",
   "metadata": {},
   "source": [
    "**注意**:\n",
    "\n",
    "この節ではお手本Notebookへのリンクを示す箇所がありますが、リンク先のNotebookは参照用となっていて**そのままでは実行できません**。\n",
    "\n",
    "> Notebook自体は実行できてしまいますが、パスなどが想定しているものと異なるため正しく処理できずエラーとなります。\n",
    "\n",
    "次のどちらかの手順で作業用Notebookを作成する必要があります。\n",
    "\n",
    "* 次節の「作業用Notebookの作成」で作業用のNotebookを作成する。\n",
    "* お手本Notebookを配置してある `notebooks/` から、この`000-README.ipynb`と同じディレクトリにNotebookをコピーする。"
   ]
  },
  {
   "cell_type": "markdown",
   "metadata": {},
   "source": [
    "### 各Notebookの関連について\n",
    "\n",
    "各Notebookの実行順序などの関係性を示す図を表示します。"
   ]
  },
  {
   "cell_type": "markdown",
   "metadata": {},
   "source": [
    "次のセルを実行すると、各Notebookの関連を示す図を表示します。\n",
    "\n",
    "> 図が表示されずに `<IPython.core.display.SVG object>` と表示されている場合は、次のセルを `unfreeze` した後に再実行してください。\n",
    "\n",
    "図に表示される１つのブロックが１つのNotebookに対応しており、ブロックのタイトル部分にNotebookへのリンクが埋め込まれています。"
   ]
  },
  {
   "cell_type": "code",
   "execution_count": null,
   "metadata": {
    "scrolled": false
   },
   "outputs": [],
   "source": [
    "from IPython.display import SVG\n",
    "%run scripts/nb_utils.py\n",
    "SVG(filename=generate_svg_diag(diag='images/notebooks.diag'))"
   ]
  },
  {
   "cell_type": "markdown",
   "metadata": {},
   "source": [
    "### 各Notebookの目次"
   ]
  },
  {
   "cell_type": "markdown",
   "metadata": {},
   "source": [
    "次のセルを実行すると、各お手本Notebookの目次が表示されます。\n",
    "\n",
    "> 目次が表示されずに `<IPython.core.display.Markdown object>` と表示されている場合は、次のセルを `unfreeze` した後に再実行してください。\n",
    "\n",
    "リンクが表示されている項目が一つのNotebookに対応しており、そのサブ項目が各Notebook内の目次になっています。"
   ]
  },
  {
   "cell_type": "code",
   "execution_count": null,
   "metadata": {
    "scrolled": false
   },
   "outputs": [],
   "source": [
    "from IPython.display import Markdown\n",
    "%run scripts/nb_utils.py\n",
    "Markdown(notebooks_toc())"
   ]
  },
  {
   "cell_type": "markdown",
   "metadata": {},
   "source": [
    "## 作業用Notebookの作成\n",
    "\n",
    "この節のセルを実行することで、お手本Notebookから作業用Notebookを作成することができます。"
   ]
  },
  {
   "cell_type": "markdown",
   "metadata": {},
   "source": [
    "まず、作業用Notebookを配置するディレクトリを指定してください。"
   ]
  },
  {
   "cell_type": "code",
   "execution_count": null,
   "metadata": {},
   "outputs": [],
   "source": [
    "WORK_DIR = 'work'"
   ]
  },
  {
   "cell_type": "markdown",
   "metadata": {},
   "source": [
    "次のセルを実行すると、Notebook名のドロップダウンリストと「作業開始」ボタンが現れます。\n",
    "「作業開始」ボタンを押すと、お手本Notebookのコピーを作成した後、自動的にブラウザでコピーが開きます。\n",
    "Notebookの説明を確認しながら実行、適宜修正しながら実行していってください。\n",
    "\n",
    "> このNotebookを Shutdown した後に再度開いた場合、次のセルに既に表示されている「作用開始」ボタンが正しく動作しません。この節のセルをいったん unfreeze した後、セルを再実行してから「作業開始」ボタンをクリックして下さい。"
   ]
  },
  {
   "cell_type": "code",
   "execution_count": null,
   "metadata": {},
   "outputs": [],
   "source": [
    "from IPython.core.display import HTML\n",
    "%run scripts/nb_utils.py\n",
    "setup_nb_workdir(WORK_DIR)\n",
    "HTML(generate_html_work_nbs(WORK_DIR))"
   ]
  }
 ],
 "metadata": {
  "kernelspec": {
   "display_name": "Python 3",
   "language": "python",
   "name": "python3"
  },
  "language_info": {
   "file_extension": ".py",
   "mimetype": "text/x-python",
   "name": "python",
   "nbconvert_exporter": "python",
   "pygments_lexer": "ipython3",
   "version": "3.8.6"
  },
  "toc": {
   "base_numbering": 1,
   "nav_menu": {},
   "number_sections": true,
   "sideBar": true,
   "skip_h1_title": true,
   "title_cell": "Table of Contents",
   "title_sidebar": "Contents",
   "toc_cell": false,
   "toc_position": {},
   "toc_section_display": "block",
   "toc_window_display": false
  }
 },
 "nbformat": 4,
 "nbformat_minor": 2
}
