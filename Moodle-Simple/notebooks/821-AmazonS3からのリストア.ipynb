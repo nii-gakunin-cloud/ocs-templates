{
 "cells": [
  {
   "cell_type": "markdown",
   "metadata": {},
   "source": [
    "# About: Amazon S3からのリストア\n",
    "\n",
    "---\n",
    "\n",
    "Moodle構築環境のデータ、設定ファイルなどを Amazon S3 からリストアします。"
   ]
  },
  {
   "cell_type": "markdown",
   "metadata": {},
   "source": [
    "## 概要\n",
    "\n",
    "Amazon S3に作成したMoodle環境のバックアップからのリストアを行います。"
   ]
  },
  {
   "cell_type": "markdown",
   "metadata": {},
   "source": [
    "### 前提条件\n"
   ]
  },
  {
   "cell_type": "markdown",
   "metadata": {},
   "source": [
    "この Notebook を実行するには事前に以下のものを準備する必要があります。\n",
    "\n",
    "* バックアップの保存先であるAmazon S3にアクセルするためのクレデンシャル\n",
    "* リストア先となるVCノード/EC2インスタンス/Azure仮想マシン\n",
    "\n",
    "リストア先となる環境は「011-VCノードの作成」、「012-EC2インスタンスの作成」、「013-Azure仮想マシンの作成」のいずれかのNotebookで作成することができます。\n",
    "\n",
    "また、リストアの操作により既存の環境を損ねることを避けるため、リストア先となるディレクトリ `/srv/moodle` が存在していないことを前提としています。"
   ]
  },
  {
   "cell_type": "markdown",
   "metadata": {},
   "source": [
    "## パラメータ設定"
   ]
  },
  {
   "cell_type": "markdown",
   "metadata": {},
   "source": [
    "### リストア先のMoodle環境を指定する\n",
    "\n",
    "リストア先となるノードをAnsibleのグループ名で指定してください。"
   ]
  },
  {
   "cell_type": "markdown",
   "metadata": {},
   "source": [
    "既存のグループ名を確認するために`group_vars`にあるディレクトリの一覧を表示します。"
   ]
  },
  {
   "cell_type": "code",
   "execution_count": null,
   "metadata": {},
   "outputs": [],
   "source": [
    "!ls -1 group_vars/"
   ]
  },
  {
   "cell_type": "markdown",
   "metadata": {},
   "source": [
    "上のセルの出力結果を参考にしてAnsibleのグループ名を次のセルに指定してください。"
   ]
  },
  {
   "cell_type": "code",
   "execution_count": null,
   "metadata": {},
   "outputs": [],
   "source": [
    "# (例)\n",
    "# target_group = 'Moodle'\n",
    "\n",
    "target_group = "
   ]
  },
  {
   "cell_type": "markdown",
   "metadata": {
    "heading_collapsed": true
   },
   "source": [
    "#### チェック\n",
    "\n",
    "指定された `target_group` の値が適切なものかチェックします。"
   ]
  },
  {
   "cell_type": "markdown",
   "metadata": {
    "hidden": true
   },
   "source": [
    "`target_group` に対応する設定ファイルが存在していることを確認します。"
   ]
  },
  {
   "cell_type": "code",
   "execution_count": null,
   "metadata": {
    "hidden": true
   },
   "outputs": [],
   "source": [
    "from pathlib import Path\n",
    "\n",
    "target_dir = Path('group_vars') / target_group\n",
    "if not (target_dir.is_dir() and len(list(target_dir.glob(\"*\"))) > 0):\n",
    "    raise RuntimeError(f\"ERROR: not exists {target_group}\")"
   ]
  },
  {
   "cell_type": "markdown",
   "metadata": {
    "hidden": true
   },
   "source": [
    "リストア対象のノードにアクセスできることを確認します。"
   ]
  },
  {
   "cell_type": "code",
   "execution_count": null,
   "metadata": {
    "hidden": true
   },
   "outputs": [],
   "source": [
    "!ansible {target_group} -m ping"
   ]
  },
  {
   "cell_type": "markdown",
   "metadata": {
    "hidden": true
   },
   "source": [
    "リストア先となるディレクトリ `/srv/moodle` が存在していないことを確認します。"
   ]
  },
  {
   "cell_type": "code",
   "execution_count": null,
   "metadata": {
    "hidden": true
   },
   "outputs": [],
   "source": [
    "!ansible {target_group} -a 'test ! -e /srv/moodle'"
   ]
  },
  {
   "cell_type": "markdown",
   "metadata": {},
   "source": [
    "### AWSの認証情報\n",
    "\n",
    "Amazon S3を利用するための認証情報を指定します。"
   ]
  },
  {
   "cell_type": "markdown",
   "metadata": {},
   "source": [
    "Amazonのアクセスキーを指定してください。"
   ]
  },
  {
   "cell_type": "code",
   "execution_count": null,
   "metadata": {},
   "outputs": [],
   "source": [
    "from getpass import getpass\n",
    "aws_access_key = getpass()"
   ]
  },
  {
   "cell_type": "markdown",
   "metadata": {},
   "source": [
    "Amazonのシークレットキーを指定してください。"
   ]
  },
  {
   "cell_type": "code",
   "execution_count": null,
   "metadata": {},
   "outputs": [],
   "source": [
    "aws_secret_key = getpass()"
   ]
  },
  {
   "cell_type": "markdown",
   "metadata": {},
   "source": [
    "### バックアップの保存先を指定する\n",
    "\n",
    "バックアップの保存先である Amazon S3 のバケット名、パスを指定します。"
   ]
  },
  {
   "cell_type": "markdown",
   "metadata": {},
   "source": [
    "Amazon S3 のバケット名を指定してください。"
   ]
  },
  {
   "cell_type": "code",
   "execution_count": null,
   "metadata": {},
   "outputs": [],
   "source": [
    "# (例)\n",
    "# s3_bucket = 's3-bucket-name'\n",
    "\n",
    "s3_bucket = "
   ]
  },
  {
   "cell_type": "markdown",
   "metadata": {},
   "source": [
    "リストアを行うバックアップファイルを選択するために、バックアップファイルの一覧を確認します。"
   ]
  },
  {
   "cell_type": "code",
   "execution_count": null,
   "metadata": {
    "scrolled": true
   },
   "outputs": [],
   "source": [
    "!ansible {target_group} -a \\\n",
    "    'env AWS_ACCESS_KEY_ID={aws_access_key} AWS_SECRET_ACCESS_KEY=\"{aws_secret_key}\" \\\n",
    "    aws s3 ls --recursive s3://{s3_bucket}/'"
   ]
  },
  {
   "cell_type": "markdown",
   "metadata": {},
   "source": [
    "リストアを行うバックアップファイルを格納しているディレクトリを指定してください。"
   ]
  },
  {
   "cell_type": "code",
   "execution_count": null,
   "metadata": {},
   "outputs": [],
   "source": [
    "# (例)\n",
    "# backup_dir = 'moodle-simple/Moodle/2020-XX-XXTXX:XX:XX.XXXXXX'\n",
    "\n",
    "backup_dir = "
   ]
  },
  {
   "cell_type": "markdown",
   "metadata": {},
   "source": [
    "指定したバケット名、ディレクトリにバックアップファイルがあることを確認します。次のセルを実行してMoodle環境のバックアップファイル `db.sql.gz`, `moodle.tar.gz` が存在していることを確認してください。"
   ]
  },
  {
   "cell_type": "code",
   "execution_count": null,
   "metadata": {},
   "outputs": [],
   "source": [
    "!ansible {target_group} -a \\\n",
    "    'env AWS_ACCESS_KEY_ID={aws_access_key} AWS_SECRET_ACCESS_KEY=\"{aws_secret_key}\" \\\n",
    "    aws s3 ls s3://{s3_bucket}/{backup_dir}/'"
   ]
  },
  {
   "cell_type": "markdown",
   "metadata": {},
   "source": [
    "### MoodleのURL\n",
    "\n",
    "リストア環境でMoodleのURLを変更する場合は、次のセルに新しいURLを指定してください。\n",
    "\n",
    "> バックアップに記録されているURLをそのまま使用する場合は、この節をスキップしてください。"
   ]
  },
  {
   "cell_type": "code",
   "execution_count": null,
   "metadata": {},
   "outputs": [],
   "source": [
    "# (例)\n",
    "# moodle_url = 'http://moodle.example.org'\n",
    "# moodle_url = 'http://172.30.2.100'\n",
    "# moodle_url = 'https://moodle.example.org'\n",
    "\n",
    "moodle_url = "
   ]
  },
  {
   "cell_type": "markdown",
   "metadata": {},
   "source": [
    "指定された値の簡単なチェックを行います。"
   ]
  },
  {
   "cell_type": "code",
   "execution_count": null,
   "metadata": {},
   "outputs": [],
   "source": [
    "if 'moodle_url' in vars():\n",
    "    %run scripts/utils.py\n",
    "    check_parameters('moodle_url', nb_vars=locals())"
   ]
  },
  {
   "cell_type": "markdown",
   "metadata": {
    "heading_collapsed": true
   },
   "source": [
    "## リストア\n",
    "\n",
    "Moodle環境のリストアを行います。"
   ]
  },
  {
   "cell_type": "markdown",
   "metadata": {
    "hidden": true
   },
   "source": [
    "### ディレクトリの作成\n",
    "\n",
    "リストア先となるディレクトリを作成します。"
   ]
  },
  {
   "cell_type": "code",
   "execution_count": null,
   "metadata": {
    "hidden": true
   },
   "outputs": [],
   "source": [
    "!ansible {target_group} -b -m file -a \\\n",
    "    'path=/srv/moodle state=directory owner={{{{ansible_ssh_user}}}}'"
   ]
  },
  {
   "cell_type": "markdown",
   "metadata": {
    "hidden": true
   },
   "source": [
    "デフォルトのコンテナログの出力先ディレクトリを作成します。"
   ]
  },
  {
   "cell_type": "code",
   "execution_count": null,
   "metadata": {
    "hidden": true
   },
   "outputs": [],
   "source": [
    "!ansible {target_group} -b -m file -a 'path=/var/log/httpd state=directory'\n",
    "!ansible {target_group} -b -m file -a 'path=/var/log/mysql owner=999 group=adm state=directory'"
   ]
  },
  {
   "cell_type": "markdown",
   "metadata": {
    "hidden": true
   },
   "source": [
    "### コンテナ構成、Moodleデータなどのリストア\n",
    "\n",
    "設定ファイルなどのバックアップファイル `moodle.tar.gz` をリストアします。"
   ]
  },
  {
   "cell_type": "markdown",
   "metadata": {
    "hidden": true
   },
   "source": [
    "リストア対象のバックアップファイルを確認します。"
   ]
  },
  {
   "cell_type": "code",
   "execution_count": null,
   "metadata": {
    "hidden": true
   },
   "outputs": [],
   "source": [
    "s3_moodle_backup = f's3://{s3_bucket}/{backup_dir}/moodle.tar.gz'\n",
    "print(s3_moodle_backup)"
   ]
  },
  {
   "cell_type": "markdown",
   "metadata": {
    "hidden": true
   },
   "source": [
    "リストアを行います。"
   ]
  },
  {
   "cell_type": "code",
   "execution_count": null,
   "metadata": {
    "hidden": true
   },
   "outputs": [],
   "source": [
    "!ansible {target_group} -m shell -a \\\n",
    "    'env AWS_ACCESS_KEY_ID={aws_access_key} AWS_SECRET_ACCESS_KEY=\"{aws_secret_key}\" \\\n",
    "    aws s3 cp {s3_moodle_backup} - \\\n",
    "    | bash -c \"sudo tar xzpf - -C /srv/moodle\"'"
   ]
  },
  {
   "cell_type": "markdown",
   "metadata": {
    "hidden": true
   },
   "source": [
    "リストアされたことを確認します。"
   ]
  },
  {
   "cell_type": "code",
   "execution_count": null,
   "metadata": {
    "hidden": true
   },
   "outputs": [],
   "source": [
    "!ansible {target_group} -a 'chdir=/srv/moodle tree -L 3 -F'"
   ]
  },
  {
   "cell_type": "markdown",
   "metadata": {
    "hidden": true
   },
   "source": [
    "### DBデータ\n",
    "\n",
    "DBデータを復元するためのSQLファイルを取得します。"
   ]
  },
  {
   "cell_type": "markdown",
   "metadata": {
    "hidden": true
   },
   "source": [
    "リストア対象のバックアップファイルを確認します。"
   ]
  },
  {
   "cell_type": "code",
   "execution_count": null,
   "metadata": {
    "hidden": true
   },
   "outputs": [],
   "source": [
    "s3_db_backup = f's3://{s3_bucket}/{backup_dir}/db.sql.gz'\n",
    "print(s3_db_backup)"
   ]
  },
  {
   "cell_type": "markdown",
   "metadata": {
    "hidden": true
   },
   "source": [
    "リストア先となるディレクトリを作成します。"
   ]
  },
  {
   "cell_type": "code",
   "execution_count": null,
   "metadata": {
    "hidden": true,
    "scrolled": true
   },
   "outputs": [],
   "source": [
    "!ansible {target_group} -b -m file -a \\\n",
    "    'path=/srv/moodle/db/data state=directory owner={{{{ansible_ssh_user}}}}'\n",
    "!ansible {target_group} -b -m file -a \\\n",
    "    'path=/srv/moodle/db/sql state=directory owner={{{{ansible_ssh_user}}}}'"
   ]
  },
  {
   "cell_type": "markdown",
   "metadata": {
    "hidden": true
   },
   "source": [
    "DBデータをリストアするためのSQLファイルファイルを配置します。配置したSQLファイルはDBコンテナ起動時に自動的に実行されます。"
   ]
  },
  {
   "cell_type": "code",
   "execution_count": null,
   "metadata": {
    "hidden": true
   },
   "outputs": [],
   "source": [
    "!ansible {target_group} -a \\\n",
    "    'env AWS_ACCESS_KEY_ID={aws_access_key} AWS_SECRET_ACCESS_KEY=\"{aws_secret_key}\" \\\n",
    "    aws s3 cp {s3_db_backup} /srv/moodle/db/sql/backup.sql.gz'"
   ]
  },
  {
   "cell_type": "markdown",
   "metadata": {
    "hidden": true
   },
   "source": [
    "### コンテナイメージ\n",
    "\n",
    "Dockerコンテナイメージのリストアを行います。"
   ]
  },
  {
   "cell_type": "markdown",
   "metadata": {
    "hidden": true
   },
   "source": [
    "> コンテナイメージのバックアップを作成していない、あるいはレポジトリのコンテナイメージを利用する場合はこの節を実行せずにスキップしてください。"
   ]
  },
  {
   "cell_type": "markdown",
   "metadata": {
    "hidden": true
   },
   "source": [
    "コンテナイメージをリストアする前の状態を確認しておきます。コンテナイメージの一覧を表示します。"
   ]
  },
  {
   "cell_type": "code",
   "execution_count": null,
   "metadata": {
    "hidden": true
   },
   "outputs": [],
   "source": [
    "!ansible {target_group} -a 'docker images'"
   ]
  },
  {
   "cell_type": "markdown",
   "metadata": {
    "hidden": true
   },
   "source": [
    "リストア対象のバックアップファイルを確認します。"
   ]
  },
  {
   "cell_type": "code",
   "execution_count": null,
   "metadata": {
    "hidden": true
   },
   "outputs": [],
   "source": [
    "s3_cnt_img = f's3://{s3_bucket}/{backup_dir}/container-image.tar.gz'\n",
    "print(s3_cnt_img)"
   ]
  },
  {
   "cell_type": "markdown",
   "metadata": {
    "hidden": true
   },
   "source": [
    "コンテナイメージをリストアします。\n",
    "\n",
    "> バックアップファイルが存在していない場合はエラーになります。"
   ]
  },
  {
   "cell_type": "code",
   "execution_count": null,
   "metadata": {
    "hidden": true
   },
   "outputs": [],
   "source": [
    "!ansible {target_group} -m shell -a \\\n",
    "    'env AWS_ACCESS_KEY_ID={aws_access_key} AWS_SECRET_ACCESS_KEY=\"{aws_secret_key}\" \\\n",
    "    aws s3 cp {s3_cnt_img} - | gzip -cd | docker load'"
   ]
  },
  {
   "cell_type": "markdown",
   "metadata": {
    "hidden": true
   },
   "source": [
    "リストアを行った後の状態を確認します。コンテナイメージの一覧を表示します。"
   ]
  },
  {
   "cell_type": "code",
   "execution_count": null,
   "metadata": {
    "hidden": true
   },
   "outputs": [],
   "source": [
    "!ansible {target_group} -a 'docker images'"
   ]
  },
  {
   "cell_type": "markdown",
   "metadata": {
    "hidden": true
   },
   "source": [
    "### group_vars\n",
    "\n",
    "バックアップされた`group_vars`を、このJupyter Notebook環境にリストアします。"
   ]
  },
  {
   "cell_type": "markdown",
   "metadata": {
    "hidden": true
   },
   "source": [
    "リストアにより意図せず既存のパラメータを変更してしまうことへの対応として、現在のgroup_varsを複製します。"
   ]
  },
  {
   "cell_type": "code",
   "execution_count": null,
   "metadata": {
    "hidden": true
   },
   "outputs": [],
   "source": [
    "!cp -a group_vars/{target_group}  group_vars/.{target_group}.$(date +\"%Y%m%d%H%M%S\").bak"
   ]
  },
  {
   "cell_type": "markdown",
   "metadata": {
    "hidden": true
   },
   "source": [
    "group_varsのリストアを行います。"
   ]
  },
  {
   "cell_type": "code",
   "execution_count": null,
   "metadata": {
    "hidden": true
   },
   "outputs": [],
   "source": [
    "!ansible {target_group} -Dv -m synchronize -a \\\n",
    "    'src=/srv/moodle/misc/group_vars/*/ dest=group_vars/{target_group} mode=pull'"
   ]
  },
  {
   "cell_type": "markdown",
   "metadata": {
    "hidden": true
   },
   "source": [
    "[2.4 MoodleのURL](#MoodleのURL)で新たな`moodle_url`を指定した場合はその値で `group_vars` を更新します。また新たな`group_vars`の値で`docker-compose.yml`を生成し直します。"
   ]
  },
  {
   "cell_type": "code",
   "execution_count": null,
   "metadata": {
    "hidden": true
   },
   "outputs": [],
   "source": [
    "if 'moodle_url' in vars():\n",
    "    %run scripts/group.py\n",
    "\n",
    "    update_group_vars(\n",
    "        target_group,\n",
    "        moodle_url=moodle_url,\n",
    "    )\n",
    "    !ansible {target_group} -Dv -m template \\\n",
    "        -a 'src=template/docker-compose.yml.j2 dest=/srv/moodle/docker-compose.yml backup=yes'"
   ]
  },
  {
   "cell_type": "markdown",
   "metadata": {
    "hidden": true
   },
   "source": [
    "### crontab\n",
    "\n",
    "crontabの設定を復元します。"
   ]
  },
  {
   "cell_type": "markdown",
   "metadata": {
    "hidden": true
   },
   "source": [
    "現在の crontab の設定を確認します。"
   ]
  },
  {
   "cell_type": "code",
   "execution_count": null,
   "metadata": {
    "hidden": true
   },
   "outputs": [],
   "source": [
    "try:\n",
    "    !ansible {target_group} -a 'crontab -l'\n",
    "except:\n",
    "    pass"
   ]
  },
  {
   "cell_type": "markdown",
   "metadata": {
    "hidden": true
   },
   "source": [
    "バックアップファイルからcrontabの復元を行います。"
   ]
  },
  {
   "cell_type": "code",
   "execution_count": null,
   "metadata": {
    "hidden": true
   },
   "outputs": [],
   "source": [
    "!ansible {target_group} -a 'crontab /srv/moodle/misc/crontab'"
   ]
  },
  {
   "cell_type": "markdown",
   "metadata": {
    "hidden": true
   },
   "source": [
    "復元後の設定を確認します。"
   ]
  },
  {
   "cell_type": "code",
   "execution_count": null,
   "metadata": {
    "hidden": true
   },
   "outputs": [],
   "source": [
    "!ansible {target_group} -a 'crontab -l'"
   ]
  },
  {
   "cell_type": "markdown",
   "metadata": {
    "hidden": true
   },
   "source": [
    "### logrotate\n",
    "\n",
    "コンテナログのログローテーションの設定を復元します。"
   ]
  },
  {
   "cell_type": "code",
   "execution_count": null,
   "metadata": {
    "hidden": true,
    "scrolled": true
   },
   "outputs": [],
   "source": [
    "for file in [\"httpd\", \"mysql-server\"]:\n",
    "    !ansible {target_group} -b -m copy -a \\\n",
    "        'src=/srv/moodle/misc/logrotate.d/{file} dest=/etc/logrotate.d/ remote_src=yes'"
   ]
  },
  {
   "cell_type": "markdown",
   "metadata": {
    "hidden": true
   },
   "source": [
    "### rsyslog\n",
    "\n",
    "rsyslogの設定ファイルを復元します。ただしバックアップした環境で`051-ロギングドライバを変更する.ipynb`によりrsyslogのロギング設定を行った場合のみ実行します。"
   ]
  },
  {
   "cell_type": "code",
   "execution_count": null,
   "metadata": {
    "hidden": true
   },
   "outputs": [],
   "source": [
    "%run scripts/group.py\n",
    "try:\n",
    "    logging_driver = load_group_var(target_group, \"logging_driver\")\n",
    "except KeyError:\n",
    "    logging_driver = None\n",
    "\n",
    "if logging_driver == \"syslog\":\n",
    "    !ansible {target_group} -b -m copy -a \\\n",
    "        'src=/srv/moodle/misc/rsyslog/rsyslog.conf dest=/etc/ remote_src=yes' || true\n",
    "    !ansible {target_group} -b -m copy -a \\\n",
    "        'src=/srv/moodle/misc/rsyslog/rsyslog.d/moodle.conf dest=/etc/rsyslog.d/ remote_src=yes' || true"
   ]
  },
  {
   "cell_type": "markdown",
   "metadata": {
    "hidden": true
   },
   "source": [
    "設定を反映させるためにrsyslogサービスの再起動を行います。"
   ]
  },
  {
   "cell_type": "code",
   "execution_count": null,
   "metadata": {
    "hidden": true
   },
   "outputs": [],
   "source": [
    "if logging_driver == \"syslog\":\n",
    "    !ansible {target_group} -b -m systemd -a \\\n",
    "        'name=rsyslog state=restarted'"
   ]
  },
  {
   "cell_type": "markdown",
   "metadata": {
    "hidden": true
   },
   "source": [
    "rsyslogサービスの状態を確認します。"
   ]
  },
  {
   "cell_type": "code",
   "execution_count": null,
   "metadata": {
    "hidden": true
   },
   "outputs": [],
   "source": [
    "!ansible {target_group} -b -a \\\n",
    "    'systemctl status rsyslog'"
   ]
  },
  {
   "cell_type": "markdown",
   "metadata": {
    "hidden": true
   },
   "source": [
    "### fluentd\n",
    "\n",
    "fluentdの設定ファイルを復元します。ただしバックアップした環境で`052-ロギングドライバを変更する.ipynb`によりfluentdのロギング設定を行った場合のみ実行します。"
   ]
  },
  {
   "cell_type": "code",
   "execution_count": null,
   "metadata": {
    "hidden": true
   },
   "outputs": [],
   "source": [
    "if logging_driver == \"fluentd\":\n",
    "    !ansible {target_group} -b -m copy -a \\\n",
    "        'src=/srv/moodle/misc/fluentd/fluent.conf dest=/etc/fluentd/ remote_src=yes' || true\n",
    "    !ansible {target_group} -b -m copy -a \\\n",
    "        'src=/srv/moodle/misc/fluentd/config.d/moodle.conf dest=/etc/fluentd/config.d/ remote_src=yes' || true\n",
    "    !ansible {target_group} -b -m copy -a \\\n",
    "        'src=/srv/moodle/misc/fluentd/config.d/ocs-output/forward.conf dest=/etc/fluentd/config.d/ocs-output/ remote_src=yes' || true"
   ]
  },
  {
   "cell_type": "markdown",
   "metadata": {
    "hidden": true
   },
   "source": [
    "設定を反映させるためにfluentdサービスの再読み込みを行います。"
   ]
  },
  {
   "cell_type": "code",
   "execution_count": null,
   "metadata": {
    "hidden": true
   },
   "outputs": [],
   "source": [
    "if logging_driver == \"fluentd\":\n",
    "    !ansible {target_group} -b -m systemd -a \\\n",
    "        'name=fluentd state=reloaded'"
   ]
  },
  {
   "cell_type": "markdown",
   "metadata": {
    "hidden": true
   },
   "source": [
    "fluentdサービスの状態を確認します。"
   ]
  },
  {
   "cell_type": "code",
   "execution_count": null,
   "metadata": {
    "hidden": true,
    "scrolled": true
   },
   "outputs": [],
   "source": [
    "if logging_driver == \"fluentd\":\n",
    "    !ansible {target_group} -b -a \\\n",
    "        'systemctl status fluentd'"
   ]
  },
  {
   "cell_type": "markdown",
   "metadata": {
    "hidden": true
   },
   "source": [
    "### コンテナの起動\n",
    "\n",
    "リストアした環境のコンテナを起動します。"
   ]
  },
  {
   "cell_type": "code",
   "execution_count": null,
   "metadata": {
    "hidden": true
   },
   "outputs": [],
   "source": [
    "!ansible {target_group} -a 'chdir=/srv/moodle \\\n",
    "    docker compose up -d'"
   ]
  },
  {
   "cell_type": "markdown",
   "metadata": {
    "hidden": true
   },
   "source": [
    "コンテナの状態を確認します。`State`が`Up`となっていることを確認してください。"
   ]
  },
  {
   "cell_type": "code",
   "execution_count": null,
   "metadata": {
    "hidden": true
   },
   "outputs": [],
   "source": [
    "!ansible {target_group} -a 'chdir=/srv/moodle \\\n",
    "    docker compose ps'"
   ]
  },
  {
   "cell_type": "markdown",
   "metadata": {
    "heading_collapsed": true,
    "hidden": true
   },
   "source": [
    "### メンテナンスモードの解除\n",
    "\n",
    "メンテナンスモードに変更してからバックアップを作成した場合はメンテナンスモードの解除が必要となります。"
   ]
  },
  {
   "cell_type": "code",
   "execution_count": null,
   "metadata": {
    "hidden": true
   },
   "outputs": [],
   "source": [
    "!ansible {target_group} -a 'chdir=/srv/moodle docker compose exec -T moodle \\\n",
    "    /usr/bin/php /var/www/html/admin/cli/maintenance.php --disable'"
   ]
  },
  {
   "cell_type": "markdown",
   "metadata": {},
   "source": [
    "## Moodle を利用できることを確認\n",
    "\n",
    "リストアしたMoodle環境にアクセスして利用できることを確認します。"
   ]
  },
  {
   "cell_type": "markdown",
   "metadata": {},
   "source": [
    "次のセルを実行するとリストアしたMoodle環境にアクセスするためのリンクが表示されます。リンクをクリックしてMoodle環境にログインできることを確認してください。"
   ]
  },
  {
   "cell_type": "code",
   "execution_count": null,
   "metadata": {},
   "outputs": [],
   "source": [
    "from IPython.core.display import HTML\n",
    "%run scripts/group.py\n",
    "moodle_url = load_group_var(target_group, \"moodle_url\")\n",
    "HTML(u'<a href=\"{0}\" target=\"_blank\">{0}</a>'.format(moodle_url))"
   ]
  }
 ],
 "metadata": {
  "kernelspec": {
   "display_name": "Python 3",
   "language": "python",
   "name": "python3"
  },
  "language_info": {
   "file_extension": ".py",
   "mimetype": "text/x-python",
   "name": "python",
   "nbconvert_exporter": "python",
   "pygments_lexer": "ipython3",
   "version": "3.10.4"
  },
  "toc": {
   "base_numbering": 1,
   "nav_menu": {},
   "number_sections": true,
   "sideBar": true,
   "skip_h1_title": true,
   "title_cell": "Table of Contents",
   "title_sidebar": "Contents",
   "toc_cell": false,
   "toc_position": {},
   "toc_section_display": true,
   "toc_window_display": true
  }
 },
 "nbformat": 4,
 "nbformat_minor": 2
}
