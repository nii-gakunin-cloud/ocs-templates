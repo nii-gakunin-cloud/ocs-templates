{
 "cells": [
  {
   "cell_type": "markdown",
   "metadata": {},
   "source": [
    "# About: ECインスタンスの作成\n",
    "\n",
    "---\n",
    "\n",
    "Moodle環境を構築するための計算資源をAWS EC2インスタンスで作成します。"
   ]
  },
  {
   "cell_type": "markdown",
   "metadata": {},
   "source": [
    "## 概要"
   ]
  },
  {
   "cell_type": "markdown",
   "metadata": {},
   "source": [
    "### 前提条件\n",
    "\n",
    "このNotebookで EC2インスタンスを作成する際の前提条件を以下に示します。"
   ]
  },
  {
   "cell_type": "markdown",
   "metadata": {},
   "source": [
    "* AWSを操作するための[認証情報（アクセスキー、シークレットキー）](https://docs.aws.amazon.com/ja_jp/IAM/latest/UserGuide/id_credentials_access-keys.html#Using_CreateAccessKey)があること\n",
    "* [Amazon VPC](https://docs.aws.amazon.com/ja_jp/vpc/latest/userguide/what-is-amazon-vpc.html)と[サブネット](https://docs.aws.amazon.com/ja_jp/vpc/latest/userguide/VPC_Subnets.html)が作成済であること\n",
    "* [EC2キーペア](https://docs.aws.amazon.com/ja_jp/AWSEC2/latest/UserGuide/ec2-key-pairs.html)が作成済であること\n",
    "* 起動したEC2インスタンスに対して、このNotebook環境からsshでログイン可能であること\n",
    "    - ネットワーク的に到達可能なこと\n",
    "    - ログインするためのSSH鍵ファイルをこのNotebook環境に配置してあること"
   ]
  },
  {
   "cell_type": "markdown",
   "metadata": {
    "heading_collapsed": true
   },
   "source": [
    "### 準備\n",
    "\n",
    "AWS EC2インスタンスを操作するために必要となるライブラリをインストールします。"
   ]
  },
  {
   "cell_type": "markdown",
   "metadata": {
    "hidden": true
   },
   "source": [
    "このNotebookでは Ansible を利用してEC2インスタンスを作成します。\n",
    "現在の環境にインストールされているライブラリとの競合をさけるためにvenvで独立した環境を構築します。\n",
    "\n",
    "まず venv で仮想環境を作成します。"
   ]
  },
  {
   "cell_type": "code",
   "execution_count": null,
   "metadata": {
    "hidden": true
   },
   "outputs": [],
   "source": [
    "!python -mvenv .venv"
   ]
  },
  {
   "cell_type": "markdown",
   "metadata": {
    "hidden": true
   },
   "source": [
    "venvの環境に ansible とAWSの操作に必要となるライブラリをインストールします。"
   ]
  },
  {
   "cell_type": "code",
   "execution_count": null,
   "metadata": {
    "hidden": true,
    "scrolled": true
   },
   "outputs": [],
   "source": [
    "!.venv/bin/pip install ansible-core\n",
    "!.venv/bin/ansible-galaxy collection install -f amazon.aws:10.1.0\n",
    "!.venv/bin/pip install -r $HOME/.ansible/collections/ansible_collections/amazon/aws/requirements.txt"
   ]
  },
  {
   "cell_type": "markdown",
   "metadata": {},
   "source": [
    "## パラメータの設定\n",
    "\n",
    "このNotebookで作成するAWS EC2インスタンスのパラメータを設定します。"
   ]
  },
  {
   "cell_type": "markdown",
   "metadata": {},
   "source": [
    "### AWSの認証情報\n",
    "\n",
    "EC2インスタンスの操作を行う際に必要となるAWSの認証情報を指定します。"
   ]
  },
  {
   "cell_type": "markdown",
   "metadata": {},
   "source": [
    "AWSの認証情報（アクセスキー、シークレットキー）を取得する手順については[「アクセスキーの管理」](https://docs.aws.amazon.com/ja_jp/IAM/latest/UserGuide/id_credentials_access-keys.html#Using_CreateAccessKey)などを参照してください。"
   ]
  },
  {
   "cell_type": "markdown",
   "metadata": {},
   "source": [
    "次のセルを実行すると入力枠が表示されるのでAWSのアクセスキーの値を入力してください。\n",
    "\n",
    "> 入力後に Enter キーを押すことで入力が完了します。"
   ]
  },
  {
   "cell_type": "code",
   "execution_count": null,
   "metadata": {
    "tags": [
     "vcp:skip",
     "vcp:parameters"
    ]
   },
   "outputs": [],
   "source": [
    "from getpass import getpass\n",
    "aws_access_key = getpass()"
   ]
  },
  {
   "cell_type": "markdown",
   "metadata": {},
   "source": [
    "AWSのシークレットキーを入力してください。"
   ]
  },
  {
   "cell_type": "code",
   "execution_count": null,
   "metadata": {
    "tags": [
     "vcp:skip",
     "vcp:parameters"
    ]
   },
   "outputs": [],
   "source": [
    "aws_secret_key = getpass()"
   ]
  },
  {
   "cell_type": "markdown",
   "metadata": {},
   "source": [
    "このNotebookから実行するコマンドでAWS認証情報を参照できるようにするために、環境変数`AWS_ACCESS_KEY_ID`, `AWS_SECRET_ACCESS_KEY`の設定を行います。"
   ]
  },
  {
   "cell_type": "code",
   "execution_count": null,
   "metadata": {},
   "outputs": [],
   "source": [
    "import os\n",
    "\n",
    "os.environ['AWS_ACCESS_KEY_ID'] = aws_access_key\n",
    "os.environ['AWS_SECRET_ACCESS_KEY'] = aws_secret_key"
   ]
  },
  {
   "cell_type": "markdown",
   "metadata": {},
   "source": [
    "### EC2インスタンスの名前の指定"
   ]
  },
  {
   "cell_type": "markdown",
   "metadata": {},
   "source": [
    "EC2インスタンスの名前を指定してください。指定した値はEC2インスタンスのNameタグに設定されます。"
   ]
  },
  {
   "cell_type": "code",
   "execution_count": null,
   "metadata": {
    "tags": [
     "vcp:skip",
     "vcp:parameters"
    ]
   },
   "outputs": [],
   "source": [
    "# (例)\n",
    "# aws_ec2_name = 'moodle'\n",
    "\n",
    "aws_ec2_name = "
   ]
  },
  {
   "cell_type": "markdown",
   "metadata": {},
   "source": [
    "### ECインスタンスを起動する環境の指定"
   ]
  },
  {
   "cell_type": "markdown",
   "metadata": {},
   "source": [
    "EC2インスタンスを起動するリージョンを指定してください。"
   ]
  },
  {
   "cell_type": "code",
   "execution_count": null,
   "metadata": {
    "tags": [
     "vcp:skip",
     "vcp:parameters"
    ]
   },
   "outputs": [],
   "source": [
    "# (例)\n",
    "# aws_region = 'ap-northeast-1' # アジアパシフィック (東京)\n",
    "\n",
    "aws_region = "
   ]
  },
  {
   "cell_type": "markdown",
   "metadata": {},
   "source": [
    "EC2インスタンスのサブネットIDを指定してください。"
   ]
  },
  {
   "cell_type": "code",
   "execution_count": null,
   "metadata": {
    "tags": [
     "vcp:skip",
     "vcp:parameters"
    ]
   },
   "outputs": [],
   "source": [
    "# (例)\n",
    "# aws_vpc_subnet_id = 'subnet-xxxxxxxxxxxxxxxxx'\n",
    "\n",
    "aws_vpc_subnet_id = "
   ]
  },
  {
   "cell_type": "markdown",
   "metadata": {},
   "source": [
    "### EC2インスタンスに割り当てるリソースの指定\n",
    "\n",
    "起動するEC2インスタンスに割り当てるリソース量を指定します。"
   ]
  },
  {
   "cell_type": "markdown",
   "metadata": {},
   "source": [
    "EC2インスタンスの[インスタンスタイプ](https://aws.amazon.com/jp/ec2/instance-types/)を指定してください。"
   ]
  },
  {
   "cell_type": "code",
   "execution_count": null,
   "metadata": {
    "tags": [
     "vcp:skip",
     "vcp:parameters"
    ]
   },
   "outputs": [],
   "source": [
    "# (例)\n",
    "# aws_instance_type = 'm7i.large'\n",
    "# aws_instance_type = 't3a.large'\n",
    "\n",
    "aws_instance_type = "
   ]
  },
  {
   "cell_type": "markdown",
   "metadata": {},
   "source": [
    "EC2インスタンスのルートボリュームサイズ(GB)を指定してください。"
   ]
  },
  {
   "cell_type": "code",
   "execution_count": null,
   "metadata": {
    "tags": [
     "vcp:skip",
     "vcp:parameters"
    ]
   },
   "outputs": [],
   "source": [
    "# (例)\n",
    "# aws_volume_size = 32\n",
    "\n",
    "aws_volume_size = "
   ]
  },
  {
   "cell_type": "markdown",
   "metadata": {},
   "source": [
    "### AMIの指定"
   ]
  },
  {
   "cell_type": "markdown",
   "metadata": {},
   "source": [
    "ECインスタンスの[AMI](https://docs.aws.amazon.com/ja_jp/AWSEC2/latest/UserGuide/AMIs.html)を指定します。このアプリケーションテンプレートでは、ノードのOSとしてRockyLinux9を使用します。\n",
    "\n",
    "\n",
    "指定したリージョンに対応するAMI IDを[Rocky Linux 9](https://aws.amazon.com/marketplace/pp/prodview-ygp66mwgbl2ii)で確認して次のセルに指定してください。"
   ]
  },
  {
   "cell_type": "code",
   "execution_count": null,
   "metadata": {
    "tags": [
     "vcp:parameters"
    ]
   },
   "outputs": [],
   "source": [
    "# (例)\n",
    "# aws_image_id = 'ami-0bdd4b6c4c6feca84 # RockyLinux 9.6 x86_64, Asia Pacific (Tokyo)\n",
    "\n",
    "aws_image_id  = 'ami-0bdd4b6c4c6feca84'"
   ]
  },
  {
   "cell_type": "markdown",
   "metadata": {},
   "source": [
    "### セキュリティグループの指定\n",
    "\n",
    "[セキュリティグループ](https://docs.aws.amazon.com/ja_jp/AWSEC2/latest/UserGuide/ec2-security-groups.html)を指定します。\n",
    "\n",
    "次のセルでセキュリティグループIDを指定してください。"
   ]
  },
  {
   "cell_type": "code",
   "execution_count": null,
   "metadata": {
    "tags": [
     "vcp:skip",
     "vcp:parameters"
    ]
   },
   "outputs": [],
   "source": [
    "# (例)\n",
    "# aws_security_group = 'sg-xxxxxxxxxxxxxxxxx'\n",
    "\n",
    "aws_security_group = "
   ]
  },
  {
   "cell_type": "markdown",
   "metadata": {},
   "source": [
    "### キーペアの指定\n",
    "\n",
    "EC2インスタンスに設定する[キーペア](https://docs.aws.amazon.com/ja_jp/AWSEC2/latest/UserGuide/ec2-key-pairs.html)を指定します。"
   ]
  },
  {
   "cell_type": "code",
   "execution_count": null,
   "metadata": {
    "tags": [
     "vcp:skip",
     "vcp:parameters"
    ]
   },
   "outputs": [],
   "source": [
    "# (例)\n",
    "# aws_key_name = 'key_name'\n",
    "\n",
    "aws_key_name = "
   ]
  },
  {
   "cell_type": "markdown",
   "metadata": {},
   "source": [
    "## EC2インスタンスの作成\n",
    "\n",
    "これまでに入力したパラメータを指定したEC2インスタンスを作成します。"
   ]
  },
  {
   "cell_type": "markdown",
   "metadata": {},
   "source": [
    "### Ansible Playbook の生成\n",
    "\n",
    "このNotebookではEC2インスタンスを作成するために [Ansible](https://www.ansible.com/)を利用します。"
   ]
  },
  {
   "cell_type": "markdown",
   "metadata": {},
   "source": [
    "次のセルを実行するとEC2インスタンスを作成するための [Ansible Playbook](https://docs.ansible.com/ansible/latest/user_guide/playbooks_intro.html) を生成します。"
   ]
  },
  {
   "cell_type": "code",
   "execution_count": null,
   "metadata": {
    "tags": [
     "vcp:callback:playbook"
    ]
   },
   "outputs": [],
   "source": [
    "%run scripts/edit_conf.py\n",
    "\n",
    "playbook = create_conf_file('localhost', 'aws-ec2.yml')\n",
    "with playbook.open(mode='w') as f:\n",
    "    f.write(f'''\n",
    "- hosts: localhost\n",
    "  tasks:\n",
    "  - amazon.aws.ec2_instance:\n",
    "      name: {aws_ec2_name}\n",
    "      image_id: {aws_image_id}\n",
    "      instance_type: {aws_instance_type}\n",
    "      vpc_subnet_id: {aws_vpc_subnet_id}\n",
    "      security_group: {aws_security_group}\n",
    "      region: {aws_region}\n",
    "      key_name: {aws_key_name}\n",
    "      volumes:\n",
    "      - device_name: /dev/sda1\n",
    "        ebs:\n",
    "          volume_size: {aws_volume_size}\n",
    "          delete_on_termination: true\n",
    "''')\n",
    "generate_edit_link(playbook)"
   ]
  },
  {
   "cell_type": "markdown",
   "metadata": {},
   "source": [
    "上のリンクをクリックするとブラウザの新しいウィンドウ（タブ）で playbook の編集画面が開きます。編集を行った場合は `ctrl-s` またはメニューの[File]-[Save]で編集結果を保存してください。\n",
    "\n",
    "EC2インスタンスを作成するためのパラメータの詳細についてはAnsibleのドキュメント[「amazon.aws.ec2_instance モジュール」](https://docs.ansible.com/ansible/latest/collections/amazon/aws/ec2_instance_module.html)を参照してください。\n",
    "例えばEC2インスタンスのプライベートIPアドレスに `172.30.2.10` を設定するには以下のような指定を追加してください。\n",
    "\n",
    "```\n",
    "      network:\n",
    "        private_ip_address: 172.30.2.10\n",
    "```"
   ]
  },
  {
   "cell_type": "markdown",
   "metadata": {},
   "source": [
    "確認のためplaybookの内容を表示します。"
   ]
  },
  {
   "cell_type": "code",
   "execution_count": null,
   "metadata": {},
   "outputs": [],
   "source": [
    "!cat {playbook}"
   ]
  },
  {
   "cell_type": "markdown",
   "metadata": {
    "heading_collapsed": true
   },
   "source": [
    "### EC2インスタンスの起動\n",
    "\n",
    "playbookを実行してEC2インスタンスを起動します。"
   ]
  },
  {
   "cell_type": "code",
   "execution_count": null,
   "metadata": {
    "hidden": true
   },
   "outputs": [],
   "source": [
    "!.venv/bin/ansible-playbook -c local {playbook}"
   ]
  },
  {
   "cell_type": "markdown",
   "metadata": {
    "hidden": true
   },
   "source": [
    "作成したEC2インスタンスのIDなどを確認するために[amazon.aws.ec2_instance_infoモジュール](https://docs.ansible.com/ansible/latest/collections/amazon/aws/ec2_instance_info_module.html)を用いて情報を取得します。"
   ]
  },
  {
   "cell_type": "code",
   "execution_count": null,
   "metadata": {
    "hidden": true,
    "scrolled": true
   },
   "outputs": [],
   "source": [
    "import json\n",
    "out = !.venv/bin/ansible localhost -c local -m amazon.aws.ec2_instance_info -a 'region={aws_region} \\\n",
    "    filters=\"{{\"tag:Name\": \"{aws_ec2_name}\", \"instance-state-name\": \"running\", \"network-interface.subnet-id\": \"{aws_vpc_subnet_id}\"}}\"'\n",
    "idx = [i for i, x in enumerate(out) if x.startswith('localhost |')][0]\n",
    "if out[idx] == 'localhost | SUCCESS => {':\n",
    "    ec2_info = json.loads(' '.join(['{'] + out[(idx + 1):]))\n",
    "    for line in out[idx:]:\n",
    "        print(line)\n",
    "else:\n",
    "    for line in out:\n",
    "        print(line)\n",
    "    raise RuntimeError(\"error!\")"
   ]
  },
  {
   "cell_type": "markdown",
   "metadata": {
    "hidden": true
   },
   "source": [
    "取得した情報からインスタンスIDの一覧を表示します。"
   ]
  },
  {
   "cell_type": "code",
   "execution_count": null,
   "metadata": {
    "hidden": true,
    "tags": [
     "vcp:rewrite:instance_ids"
    ]
   },
   "outputs": [],
   "source": [
    "instance_ids = [x['instance_id'] for x in ec2_info['instances']]\n",
    "for id in instance_ids:\n",
    "    print(id)"
   ]
  },
  {
   "cell_type": "markdown",
   "metadata": {
    "hidden": true
   },
   "source": [
    "取得した情報はインスタンスID以外の情報も多く含まれています。\n",
    "例えばプライベートIPアドレスを取得するには次のセルに示した手順で一覧を表示できます。"
   ]
  },
  {
   "cell_type": "code",
   "execution_count": null,
   "metadata": {
    "hidden": true
   },
   "outputs": [],
   "source": [
    "for x in ec2_info['instances']:\n",
    "    print(x['private_ip_address'])"
   ]
  },
  {
   "cell_type": "markdown",
   "metadata": {
    "hidden": true
   },
   "source": [
    "取得した情報の内容については[Ansibleのドキュメント](https://docs.ansible.com/ansible/latest/collections/amazon/aws/ec2_instance_info_module.html#return-values)を参照してください。"
   ]
  },
  {
   "cell_type": "markdown",
   "metadata": {},
   "source": [
    "## Ansibleの設定\n",
    "\n",
    "起動したEC2インスタンスをAnsibleで操作するための設定を行います。"
   ]
  },
  {
   "cell_type": "markdown",
   "metadata": {},
   "source": [
    "### パラメータの設定"
   ]
  },
  {
   "cell_type": "markdown",
   "metadata": {},
   "source": [
    "EC2インスタンスを登録するAnsibleのグループ名を指定してください。"
   ]
  },
  {
   "cell_type": "code",
   "execution_count": null,
   "metadata": {
    "tags": [
     "vcp:parameters"
    ]
   },
   "outputs": [],
   "source": [
    "# (例)\n",
    "# target_group = 'Moodle'\n",
    "# target_group = aws_ec2_name  # EC2インスタンスのNameと同じグループ名にする場合\n",
    "\n",
    "target_group = aws_ec2_name"
   ]
  },
  {
   "cell_type": "markdown",
   "metadata": {},
   "source": [
    "このNotebook環境からEC2インスタンスに接続する際のホスト名（IPアドレス）を指定してください。"
   ]
  },
  {
   "cell_type": "code",
   "execution_count": null,
   "metadata": {
    "tags": [
     "vcp:skip",
     "vcp:parameters"
    ]
   },
   "outputs": [],
   "source": [
    "# (例)\n",
    "# target_hostname = 'moodle.example.org'\n",
    "# target_hostname = '172.30.1.10'\n",
    "\n",
    "\n",
    "target_hostname = "
   ]
  },
  {
   "cell_type": "markdown",
   "metadata": {},
   "source": [
    "EC2インスタンスにログインするためのSSH秘密鍵のファイルを指定してください。"
   ]
  },
  {
   "cell_type": "code",
   "execution_count": null,
   "metadata": {
    "tags": [
     "vcp:skip",
     "vcp:parameters"
    ]
   },
   "outputs": [],
   "source": [
    "# (例)\n",
    "# ssh_private_key_file = '~/.ssh/aws_key.pem'\n",
    "# ssh_private_key_file = '~/.ssh/id_rsa'\n",
    "\n",
    "ssh_private_key_file = "
   ]
  },
  {
   "cell_type": "markdown",
   "metadata": {
    "heading_collapsed": true
   },
   "source": [
    "### インベントリの作成\n",
    "\n",
    "Ansibleのインベントリ`inventory.yml`をカレントディレクトリに作成します。"
   ]
  },
  {
   "cell_type": "code",
   "execution_count": null,
   "metadata": {
    "hidden": true,
    "tags": [
     "vcp:callback:inventory"
    ]
   },
   "outputs": [],
   "source": [
    "%run scripts/group.py\n",
    "\n",
    "inventory = {'all': {'children': {\n",
    "    target_group: {\n",
    "        'hosts': {\n",
    "            target_hostname: {},\n",
    "        },\n",
    "        'vars': {\n",
    "            'ansible_user': 'rocky',\n",
    "            'ansible_ssh_private_key_file': os.path.expanduser(ssh_private_key_file),\n",
    "        }\n",
    "    }\n",
    "}}}\n",
    "\n",
    "generate_edit_link(update_inventory_yml(inventory))"
   ]
  },
  {
   "cell_type": "markdown",
   "metadata": {
    "hidden": true
   },
   "source": [
    "次のセルを実行すると作成したインベントリの内容を表示します。インベントリの内容を変更したい場合は、上のセルの出力結果に表示しているリンクから編集することができます。"
   ]
  },
  {
   "cell_type": "code",
   "execution_count": null,
   "metadata": {
    "hidden": true
   },
   "outputs": [],
   "source": [
    "!cat inventory.yml"
   ]
  },
  {
   "cell_type": "markdown",
   "metadata": {
    "heading_collapsed": true
   },
   "source": [
    "### ansible.cfg の作成"
   ]
  },
  {
   "cell_type": "markdown",
   "metadata": {
    "hidden": true
   },
   "source": [
    "先程、カレントディレクトリに作成した`inventory.yml`をAnsibleのインベントリとして指定するための設定を行います。\n",
    "\n",
    "> カレントディレクトリにコンフィギュレーションファイル`ansible.cfg`を作成すると、Ansibleを実行する際にその設定が適用されます。"
   ]
  },
  {
   "cell_type": "code",
   "execution_count": null,
   "metadata": {
    "hidden": true,
    "tags": [
     "vcp:callback:ansible_cfg"
    ]
   },
   "outputs": [],
   "source": [
    "cfg = setup_ansible_cfg()\n",
    "generate_edit_link(cfg)"
   ]
  },
  {
   "cell_type": "markdown",
   "metadata": {
    "hidden": true
   },
   "source": [
    "次のセルを実行すると作成したコンフィギュレーションファイルの内容を表示します。コンフィギュレーションファイルの内容を変更したい場合は、上のセルの出力結果に表示しているリンクから編集することができます。"
   ]
  },
  {
   "cell_type": "code",
   "execution_count": null,
   "metadata": {
    "hidden": true
   },
   "outputs": [],
   "source": [
    "!cat ansible.cfg"
   ]
  },
  {
   "cell_type": "markdown",
   "metadata": {
    "heading_collapsed": true
   },
   "source": [
    "### EC2インスタンスへの接続確認"
   ]
  },
  {
   "cell_type": "markdown",
   "metadata": {
    "hidden": true
   },
   "source": [
    "EC2インスタンスに対して Ansible で接続できることを確認します。"
   ]
  },
  {
   "cell_type": "code",
   "execution_count": null,
   "metadata": {
    "hidden": true,
    "tags": [
     "vcp:rewrite:ping"
    ]
   },
   "outputs": [],
   "source": [
    "!ssh-keygen -R {target_hostname} || true\n",
    "!mkdir -p -m 0700 ~/.ansible/cp\n",
    "!env ANSIBLE_HOST_KEY_CHECKING=False \\\n",
    "    ansible {target_group} -m ping"
   ]
  },
  {
   "cell_type": "markdown",
   "metadata": {
    "hidden": true
   },
   "source": [
    "正常に接続できると以下のように表示されます。\n",
    "\n",
    "```\n",
    "XXX.XXX.XXX.XXX | SUCCESS => {\n",
    "    \"changed\": false, \n",
    "    \"ping\": \"pong\"\n",
    "}\n",
    "```"
   ]
  },
  {
   "cell_type": "markdown",
   "metadata": {
    "hidden": true
   },
   "source": [
    "`~/.ssh/known_hosts`の内容を更新します。"
   ]
  },
  {
   "cell_type": "code",
   "execution_count": null,
   "metadata": {
    "hidden": true
   },
   "outputs": [],
   "source": [
    "!ssh-keyscan -H {target_hostname} >> ~/.ssh/known_hosts"
   ]
  },
  {
   "cell_type": "markdown",
   "metadata": {
    "hidden": true
   },
   "source": [
    "VCノードに対して設定ファイルの変更やパッケージの追加を行う場合にVCノードの管理者権限が必要になる場合があります。Ansibleで管理者権限によるコマンド実行が可能かどうかを確認します。"
   ]
  },
  {
   "cell_type": "code",
   "execution_count": null,
   "metadata": {
    "hidden": true,
    "scrolled": false
   },
   "outputs": [],
   "source": [
    "# 管理者権限(-b)でのコマンド実行\n",
    "!ansible {target_group} -b -a 'whoami'"
   ]
  },
  {
   "cell_type": "markdown",
   "metadata": {
    "heading_collapsed": true
   },
   "source": [
    "### group_vars ファイルの更新"
   ]
  },
  {
   "cell_type": "code",
   "execution_count": null,
   "metadata": {
    "hidden": true
   },
   "outputs": [],
   "source": [
    "%run scripts/group.py\n",
    "\n",
    "update_group_vars(\n",
    "    target_group,\n",
    "    _file='10-node.yml',\n",
    "    aws_region=aws_region,\n",
    "    instance_ids=instance_ids,\n",
    ")"
   ]
  },
  {
   "cell_type": "markdown",
   "metadata": {
    "hidden": true
   },
   "source": [
    "`group_vars`ファイルの内容を確認してみます。"
   ]
  },
  {
   "cell_type": "code",
   "execution_count": null,
   "metadata": {
    "hidden": true
   },
   "outputs": [],
   "source": [
    "!cat group_vars/{target_group}/10-node.yml"
   ]
  },
  {
   "cell_type": "markdown",
   "metadata": {
    "heading_collapsed": true
   },
   "source": [
    "## パッケージなどのインストール\n",
    "\n",
    "Moodle環境を構築する際に必要となるパッケージなどのインストールを行います。"
   ]
  },
  {
   "cell_type": "markdown",
   "metadata": {
    "hidden": true
   },
   "source": [
    "### Dockerのインストール\n",
    "\n",
    "[Docker - Install Engine](https://docs.rockylinux.org/gemstones/containers/docker/) の手順に従い Docker のインストールを行います。"
   ]
  },
  {
   "cell_type": "markdown",
   "metadata": {
    "hidden": true
   },
   "source": [
    "Dockerのレポジトリを追加します。"
   ]
  },
  {
   "cell_type": "code",
   "execution_count": null,
   "metadata": {
    "hidden": true
   },
   "outputs": [],
   "source": [
    "!ansible {target_group} -b -a \\\n",
    "    'dnf config-manager --add-repo https://download.docker.com/linux/rhel/docker-ce.repo'"
   ]
  },
  {
   "cell_type": "markdown",
   "metadata": {
    "hidden": true
   },
   "source": [
    "Dockerのパッケージをインストールします。"
   ]
  },
  {
   "cell_type": "code",
   "execution_count": null,
   "metadata": {
    "hidden": true,
    "scrolled": true
   },
   "outputs": [],
   "source": [
    "!ansible {target_group} -b -m dnf -a 'name=docker-ce,docker-ce-cli,containerd.io,docker-buildx-plugin,docker-compose-plugin'"
   ]
  },
  {
   "cell_type": "markdown",
   "metadata": {
    "hidden": true
   },
   "source": [
    "Docker Engine を実行するサービスを開始します。"
   ]
  },
  {
   "cell_type": "code",
   "execution_count": null,
   "metadata": {
    "hidden": true
   },
   "outputs": [],
   "source": [
    "!ansible {target_group} -b -a 'systemctl start docker'"
   ]
  },
  {
   "cell_type": "code",
   "execution_count": null,
   "metadata": {
    "hidden": true
   },
   "outputs": [],
   "source": [
    "!ansible {target_group} -b -a 'systemctl enable docker'"
   ]
  },
  {
   "cell_type": "markdown",
   "metadata": {
    "hidden": true
   },
   "source": [
    "Docker Engine が実行されていることを確認するために `docker info` を実行してみます。"
   ]
  },
  {
   "cell_type": "code",
   "execution_count": null,
   "metadata": {
    "hidden": true,
    "scrolled": true
   },
   "outputs": [],
   "source": [
    "!ansible {target_group} -b -a 'docker info'"
   ]
  },
  {
   "cell_type": "markdown",
   "metadata": {
    "hidden": true
   },
   "source": [
    "dockerコマンドを管理者権限なしで実行できるようにするためにユーザを `docker` グループに所属させるようにします。"
   ]
  },
  {
   "cell_type": "code",
   "execution_count": null,
   "metadata": {
    "hidden": true
   },
   "outputs": [],
   "source": [
    "!ansible {target_group} -b -m user -a 'name={{{{ansible_user}}}} append=yes groups=docker'"
   ]
  },
  {
   "cell_type": "markdown",
   "metadata": {
    "hidden": true
   },
   "source": [
    "管理者権限なしで docker コマンドが実行できることを確認します。まず、新しいグループでログインし直すために、現在のsshの接続をいったん終了します。"
   ]
  },
  {
   "cell_type": "code",
   "execution_count": null,
   "metadata": {
    "hidden": true
   },
   "outputs": [],
   "source": [
    "if os.path.exists(os.path.expanduser(f'~/.ansible/cp/rocky@{target_hostname}:22')):\n",
    "    !ssh -o ControlPath=~/.ansible/cp/rocky@{target_hostname}:22 -O exit {target_hostname}"
   ]
  },
  {
   "cell_type": "markdown",
   "metadata": {
    "hidden": true
   },
   "source": [
    "一般ユーザで `docker info`が実行できることを確認します。"
   ]
  },
  {
   "cell_type": "code",
   "execution_count": null,
   "metadata": {
    "hidden": true,
    "scrolled": true
   },
   "outputs": [],
   "source": [
    "!ansible {target_group} -a 'docker info'"
   ]
  },
  {
   "cell_type": "markdown",
   "metadata": {
    "hidden": true
   },
   "source": [
    "### Python3などのインストール"
   ]
  },
  {
   "cell_type": "code",
   "execution_count": null,
   "metadata": {
    "hidden": true,
    "scrolled": true
   },
   "outputs": [],
   "source": [
    "!ansible {target_group} -b -m dnf -a 'name=python3.12,python3.12-pip,unzip,tree,git,wget,nmap-ncat,jq,which'"
   ]
  },
  {
   "cell_type": "markdown",
   "metadata": {
    "hidden": true
   },
   "source": [
    "### aws cli のインストール\n",
    "\n",
    "構築したMoodle環境をAmazon S3にバックアップする際に利用する aws cli のインストールを行います。"
   ]
  },
  {
   "cell_type": "code",
   "execution_count": null,
   "metadata": {
    "hidden": true
   },
   "outputs": [],
   "source": [
    "!ansible {target_group} -m unarchive -a 'src=https://awscli.amazonaws.com/awscli-exe-linux-x86_64.zip \\\n",
    "    dest=/tmp remote_src=yes'\n",
    "!ansible {target_group} -b -a 'chdir=/tmp/aws ./install'\n",
    "!ansible {target_group} -a 'rm -rf /tmp/aws'"
   ]
  },
  {
   "cell_type": "markdown",
   "metadata": {
    "hidden": true
   },
   "source": [
    "インストールされたことを確認するためにバージョンを表示してみます。"
   ]
  },
  {
   "cell_type": "code",
   "execution_count": null,
   "metadata": {
    "hidden": true
   },
   "outputs": [],
   "source": [
    "!ansible {target_group} -a '/usr/local/bin/aws --version'"
   ]
  },
  {
   "cell_type": "markdown",
   "metadata": {
    "hidden": true
   },
   "source": [
    "### タイムゾーンの変更\n",
    "\n",
    "タイムゾーンをJSTに変更します。"
   ]
  },
  {
   "cell_type": "code",
   "execution_count": null,
   "metadata": {
    "hidden": true
   },
   "outputs": [],
   "source": [
    "!ansible {target_group} -b -a 'timedatectl set-timezone Asia/Tokyo'"
   ]
  },
  {
   "cell_type": "markdown",
   "metadata": {
    "hidden": true
   },
   "source": [
    "タイムゾーンが変更されたことを確認します。"
   ]
  },
  {
   "cell_type": "code",
   "execution_count": null,
   "metadata": {
    "hidden": true
   },
   "outputs": [],
   "source": [
    "!ansible {target_group} -a 'date'"
   ]
  }
 ],
 "metadata": {
  "kernelspec": {
   "display_name": "Python 3",
   "language": "python",
   "name": "python3"
  },
  "language_info": {
   "file_extension": ".py",
   "mimetype": "text/x-python",
   "name": "python",
   "nbconvert_exporter": "python",
   "pygments_lexer": "ipython3",
   "version": "3.10.4"
  },
  "toc": {
   "base_numbering": 1,
   "nav_menu": {},
   "number_sections": true,
   "sideBar": true,
   "skip_h1_title": true,
   "title_cell": "Table of Contents",
   "title_sidebar": "Contents",
   "toc_cell": false,
   "toc_position": {},
   "toc_section_display": "block",
   "toc_window_display": true
  }
 },
 "nbformat": 4,
 "nbformat_minor": 2
}
