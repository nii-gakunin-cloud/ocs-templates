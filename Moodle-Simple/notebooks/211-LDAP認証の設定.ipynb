{
 "cells": [
  {
   "cell_type": "markdown",
   "metadata": {},
   "source": [
    "# About: LDAP認証の設定\n",
    "\n",
    "---\n",
    "\n",
    "MoodleのLDAP認証プラグインの設定を行います。"
   ]
  },
  {
   "cell_type": "markdown",
   "metadata": {},
   "source": [
    "## 概要"
   ]
  },
  {
   "cell_type": "markdown",
   "metadata": {},
   "source": [
    "![処理の流れ](images/moodle-211-01.png)\n",
    "\n",
    "設定手順の主な流れを以下に示します。\n",
    "\n",
    "1. CA証明書を配置する\n",
    "1. LDAPサーバの名前解決に関する設定を追加した`compose.yaml`を配置する\n",
    "1. 新たな設定でコンテナを起動し直す\n",
    "1. Moodleの管理画面でLDAPサーバプラグインの設定を行う"
   ]
  },
  {
   "cell_type": "markdown",
   "metadata": {},
   "source": [
    "上記の手順のうち1〜3はLDAPサーバとのTLS接続にプライベート認証局の証明書を用いている場合のみ必要な設定手順となります。LDAPサーバとの接続にTLSを利用しない場合、あるいはパブリックな認証局により発行された証明書を用いる場合は、手順4のみを実行してください。"
   ]
  },
  {
   "cell_type": "markdown",
   "metadata": {},
   "source": [
    "## LDAPサーバに接続するための設定\n",
    "\n",
    "LDAPサーバに接続するために必要となる設定を行います。"
   ]
  },
  {
   "cell_type": "markdown",
   "metadata": {},
   "source": [
    "ここでの設定は、以下に示す条件に全て合致している場合のみ必要となります。\n",
    "\n",
    "* LDAPサーバとの接続にTLSを利用している\n",
    "* プライベート認証局により発行された証明書を利用している\n",
    "\n",
    "該当しない場合はこの章をスキップして次に進んでください。"
   ]
  },
  {
   "cell_type": "markdown",
   "metadata": {},
   "source": [
    "### グループ名の指定\n",
    "\n",
    "操作対象となるAnsibleのグループ名を設定します。"
   ]
  },
  {
   "cell_type": "markdown",
   "metadata": {},
   "source": [
    "既存のグループ名を確認するために`group_vars`にあるディレクトリの一覧を表示します。"
   ]
  },
  {
   "cell_type": "code",
   "execution_count": null,
   "metadata": {},
   "outputs": [],
   "source": [
    "!ls -1 group_vars/"
   ]
  },
  {
   "cell_type": "markdown",
   "metadata": {},
   "source": [
    "上のセルの出力結果を参考にしてAnsibleのグループ名を次のセルに指定してください。"
   ]
  },
  {
   "cell_type": "code",
   "execution_count": null,
   "metadata": {},
   "outputs": [],
   "source": [
    "# (例)\n",
    "# target_group = 'Moodle'\n",
    "\n",
    "target_group = "
   ]
  },
  {
   "cell_type": "markdown",
   "metadata": {
    "heading_collapsed": true
   },
   "source": [
    "#### チェック\n",
    "\n",
    "指定されたグループ名をチェックします。"
   ]
  },
  {
   "cell_type": "markdown",
   "metadata": {
    "hidden": true
   },
   "source": [
    "`target_group` に対応する設定ファイルが存在していることを確認します。"
   ]
  },
  {
   "cell_type": "code",
   "execution_count": null,
   "metadata": {
    "hidden": true
   },
   "outputs": [],
   "source": [
    "from pathlib import Path\n",
    "\n",
    "target_dir = Path('group_vars') / target_group\n",
    "if not (target_dir.is_dir() and len(list(target_dir.glob(\"*\"))) > 0):\n",
    "    target_file = Path('group_vars') / f\"{target_group}.yml\"\n",
    "    if target_file.is_file():\n",
    "        target_dir.mkdir(exist_ok=True)\n",
    "        target_file.rename(target_dir / \"00-moodle.yml\")\n",
    "    else:\n",
    "        raise RuntimeError(f\"ERROR: not exists {target_group}\")"
   ]
  },
  {
   "cell_type": "markdown",
   "metadata": {
    "hidden": true
   },
   "source": [
    "対象となるホストにAnsibleで到達可能であることを確認します。"
   ]
  },
  {
   "cell_type": "code",
   "execution_count": null,
   "metadata": {
    "hidden": true
   },
   "outputs": [],
   "source": [
    "!ansible {target_group} -m ping"
   ]
  },
  {
   "cell_type": "markdown",
   "metadata": {},
   "source": [
    "### CA証明書の配置\n",
    "\n",
    "LDAPサーバの証明書がプライベート認証局で発行されたものの場合、そのCA証明書をMoodle構築環境に配置します。\n",
    "\n",
    "> ここで指定するCA証明書は事前にこのNotebook環境にアップロードしておいてください。"
   ]
  },
  {
   "cell_type": "markdown",
   "metadata": {},
   "source": [
    "CA証明書のパスを指定してください。"
   ]
  },
  {
   "cell_type": "code",
   "execution_count": null,
   "metadata": {},
   "outputs": [],
   "source": [
    "# (例)\n",
    "# cacert_path = './certs/ldap-ca.crt'\n",
    "\n",
    "cacert_path = "
   ]
  },
  {
   "cell_type": "markdown",
   "metadata": {},
   "source": [
    "MoodleコンテナにCA証明書を配置します。"
   ]
  },
  {
   "cell_type": "code",
   "execution_count": null,
   "metadata": {},
   "outputs": [],
   "source": [
    "!ansible {target_group} -b -m copy \\\n",
    "    -a 'src={cacert_path} dest=/srv/moodle/moodle/conf/ca-trust/'"
   ]
  },
  {
   "cell_type": "markdown",
   "metadata": {},
   "source": [
    "配置したCA証明書をMoodleコンテナのトラストアンカーに追加します。"
   ]
  },
  {
   "cell_type": "code",
   "execution_count": null,
   "metadata": {},
   "outputs": [],
   "source": [
    "!ansible {target_group} -a 'chdir=/srv/moodle \\\n",
    "    docker compose exec moodle \\\n",
    "    update-ca-trust extract'"
   ]
  },
  {
   "cell_type": "markdown",
   "metadata": {},
   "source": [
    "### LDAPサーバの名前解決を設定する\n",
    "\n",
    "TLS接続を行う場合、LDAPサーバの名前解決が正しく行われる必要があります。ここではMoodleコンテナでの名前解決に関する設定を行います。"
   ]
  },
  {
   "cell_type": "markdown",
   "metadata": {},
   "source": [
    "Moodleコンテナでのホストの名前解決を設定するには２つの方法があります。\n",
    "\n",
    "* コンテナの `/etc/hosts` にエントリを追加する\n",
    "* DNSサーバの設定を追加する\n",
    "\n",
    "それぞれの方法に対応した設定を以下で行います。"
   ]
  },
  {
   "cell_type": "markdown",
   "metadata": {},
   "source": [
    "#### コンテナの/etc/hostsにエントリを追加する\n",
    "\n",
    "次のセルにホスト名とIPアドレスのペアを指定してください。キーにホスト名(FQDN)を、バリューにIPアドレスを指定します。`/etc/hosts`へのエントリ追加が不要な場合は実行せずに次に進んでください。"
   ]
  },
  {
   "cell_type": "code",
   "execution_count": null,
   "metadata": {},
   "outputs": [],
   "source": [
    "# (例)\n",
    "# moodle_extra_hosts = {\n",
    "#    \"ldap.example.org\": \"192.168.2.200\",\n",
    "# }\n",
    "\n",
    "moodle_extra_hosts = {\n",
    "    \n",
    "}"
   ]
  },
  {
   "cell_type": "markdown",
   "metadata": {},
   "source": [
    "#### DNSサーバの設定を追加する\n",
    "\n",
    "次のセルにDNSサーバのアドレスを指定してください。DNSサーバの設定が不要な場合は実行せずに次に進んでください。"
   ]
  },
  {
   "cell_type": "code",
   "execution_count": null,
   "metadata": {},
   "outputs": [],
   "source": [
    "# (例)\n",
    "# moodle_dns_list = [\n",
    "#      \"192.168.1.1\",  \n",
    "# ]\n",
    "\n",
    "moodle_dns_list = [\n",
    "    \n",
    "]"
   ]
  },
  {
   "cell_type": "markdown",
   "metadata": {
    "heading_collapsed": true
   },
   "source": [
    "#### パラメータの保存\n",
    "\n",
    "この節で指定したパラメータの値をファイルに保存します。"
   ]
  },
  {
   "cell_type": "code",
   "execution_count": null,
   "metadata": {
    "hidden": true
   },
   "outputs": [],
   "source": [
    "%run scripts/group.py\n",
    "\n",
    "if 'moodle_extra_hosts' in vars() and len(moodle_extra_hosts) > 0:\n",
    "    update_group_vars(\n",
    "        target_group,\n",
    "        _file=\"30-ldap.yml\",\n",
    "        moodle_extra_hosts=moodle_extra_hosts,\n",
    "    ) \n",
    "else:\n",
    "    if 'moodle_extra_hosts' in load_group_vars(target_group):\n",
    "        remove_group_vars(target_group, moodle_extra_hosts)    \n",
    "\n",
    "if 'moodle_dns_list' in vars() and len(moodle_dns_list) > 0:\n",
    "    update_group_vars(\n",
    "        target_group,\n",
    "        _file=\"30-ldap.yml\",\n",
    "        moodle_dns_list=moodle_dns_list,\n",
    "    ) \n",
    "else:\n",
    "    if 'moodle_dns_list' in load_group_vars(target_group):\n",
    "        remove_group_vars(target_group, moodle_dns_list)    "
   ]
  },
  {
   "cell_type": "markdown",
   "metadata": {
    "hidden": true
   },
   "source": [
    "`group_vars`ファイルの内容を確認してみます。"
   ]
  },
  {
   "cell_type": "code",
   "execution_count": null,
   "metadata": {
    "hidden": true
   },
   "outputs": [],
   "source": [
    "!cat group_vars/{target_group}/30-ldap.yml"
   ]
  },
  {
   "cell_type": "markdown",
   "metadata": {
    "heading_collapsed": true
   },
   "source": [
    "#### compose.yaml の配置\n",
    "\n",
    "`/etc/hosts`またはDNSサーバの設定を変更した`compose.yaml`を配置し、設定を反映するためにコンテナを起動し直します。"
   ]
  },
  {
   "cell_type": "markdown",
   "metadata": {
    "hidden": true
   },
   "source": [
    "実際に`compose.yaml`を配置する前にチェックモードで ansible を実行します。"
   ]
  },
  {
   "cell_type": "code",
   "execution_count": null,
   "metadata": {
    "hidden": true
   },
   "outputs": [],
   "source": [
    "!ansible {target_group} -CDv -m template \\\n",
    "    -a 'src=template/compose.yaml.j2 \\\n",
    "    dest=/srv/moodle/compose.yaml backup=yes'"
   ]
  },
  {
   "cell_type": "markdown",
   "metadata": {
    "hidden": true
   },
   "source": [
    "`compose.yaml`を構築環境に配置します。"
   ]
  },
  {
   "cell_type": "code",
   "execution_count": null,
   "metadata": {
    "hidden": true
   },
   "outputs": [],
   "source": [
    "!ansible {target_group} -m template \\\n",
    "    -a 'src=template/compose.yaml.j2 \\\n",
    "    dest=/srv/moodle/compose.yaml backup=yes'"
   ]
  },
  {
   "cell_type": "markdown",
   "metadata": {
    "hidden": true
   },
   "source": [
    "コンテナ設定の変更反映をするためにコンテナを起動し直します。"
   ]
  },
  {
   "cell_type": "code",
   "execution_count": null,
   "metadata": {
    "hidden": true
   },
   "outputs": [],
   "source": [
    "!ansible {target_group} -a 'chdir=/srv/moodle \\\n",
    "    docker compose up --wait --remove-orphans'"
   ]
  },
  {
   "cell_type": "markdown",
   "metadata": {
    "hidden": true
   },
   "source": [
    "変更後のコンテナの状態を確認してみます。`State` の値が `Up` となっていることを確認してください。"
   ]
  },
  {
   "cell_type": "code",
   "execution_count": null,
   "metadata": {
    "hidden": true
   },
   "outputs": [],
   "source": [
    "!ansible {target_group} -a 'chdir=/srv/moodle \\\n",
    "    docker compose ps'"
   ]
  },
  {
   "cell_type": "markdown",
   "metadata": {},
   "source": [
    "## LDAP認証プラグインの設定\n",
    "\n",
    "MoodleでLDAP認証行うための設定を行います。"
   ]
  },
  {
   "cell_type": "markdown",
   "metadata": {},
   "source": [
    "### LDAP認証プラグインの有効化"
   ]
  },
  {
   "cell_type": "markdown",
   "metadata": {},
   "source": [
    "まずLDAP認証プラグインを有効にします。管理者ユーザでログインして[サイト管理]-[プラグイン]-[認証管理]を選択し認証プラグインの一覧を表示してください。以下のような画面が表示されます。\n",
    "\n",
    "![認証管理画面](images/moodle-211-02.png)\n",
    "\n",
    "図の「LDAPサーバ」の行の「有効にする」のアイコンを選択してLDAP認証プラグインを有効にしてください。"
   ]
  },
  {
   "cell_type": "markdown",
   "metadata": {},
   "source": [
    "### LDAPサーバの設定"
   ]
  },
  {
   "cell_type": "markdown",
   "metadata": {},
   "source": [
    "「LDAPサーバ」の「設定」のリンクを選択すると以下のような設定画面が表示されます。\n",
    "\n",
    "![ldap設定画面](images/moodle-211-03.png)\n",
    "\n",
    "「ホストURL」などにLDAPサーバのアドレスなどを設定してください。また同じ画面にある「バインド設定」でLDAPサーバに接続するための識別名、パスワードを、「ユーザルックアップ設定」でコンテクストなどを設定してください。最後に設定画面の最下部にある「変更を保存する」ボタンを選択してください。"
   ]
  },
  {
   "cell_type": "markdown",
   "metadata": {},
   "source": [
    "### LDAPサーバへの接続確認"
   ]
  },
  {
   "cell_type": "markdown",
   "metadata": {},
   "source": [
    "認証プラグインの一覧画面にある「設定テスト」リンクを選択すると、現在の設定でLDAPサーバに接続できるかをテストすることができます。\n",
    "\n",
    "![ldap設定テスト](images/moodle-211-04.png)\n",
    "\n",
    "LDAPサーバへの接続が成功すると以下のような表示となります。\n",
    "\n",
    "![ldap設定結果](images/moodle-211-05.png)"
   ]
  }
 ],
 "metadata": {
  "kernelspec": {
   "display_name": "Python 3",
   "language": "python",
   "name": "python3"
  },
  "language_info": {
   "file_extension": ".py",
   "mimetype": "text/x-python",
   "name": "python",
   "nbconvert_exporter": "python",
   "pygments_lexer": "ipython3",
   "version": "3.10.4"
  },
  "toc": {
   "base_numbering": 1,
   "nav_menu": {},
   "number_sections": true,
   "sideBar": true,
   "skip_h1_title": true,
   "title_cell": "Table of Contents",
   "title_sidebar": "Contents",
   "toc_cell": false,
   "toc_position": {},
   "toc_section_display": true,
   "toc_window_display": true
  }
 },
 "nbformat": 4,
 "nbformat_minor": 2
}