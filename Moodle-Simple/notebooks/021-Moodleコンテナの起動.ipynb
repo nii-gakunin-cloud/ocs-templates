{
 "cells": [
  {
   "cell_type": "markdown",
   "metadata": {},
   "source": [
    "# About: Moodleコンテナの起動\n",
    "\n",
    "---\n",
    "\n",
    "Moodleコンテナを起動します。"
   ]
  },
  {
   "cell_type": "markdown",
   "metadata": {},
   "source": [
    "## 全体構成\n",
    "\n",
    "![構成](images/moodle-021-01.png)"
   ]
  },
  {
   "cell_type": "markdown",
   "metadata": {},
   "source": [
    "構築するMoodle環境は次の２つのDockerコンテナで構成されます。\n",
    "\n",
    "* [Moodle](https://harbor.vcloud.nii.ac.jp/harbor/projects/2/repositories/vcp%2Fmoodle-simple)\n",
    "  - MoodleのPHPスクリプトを実行するコンテナ\n",
    "* [MariaDB](https://hub.docker.com/_/mariadb/)\n",
    "  - Moodleの設定を保存するデータベース\n",
    "  \n",
    "構築環境となるノードを事前に「011-VCノードの作成」、「012-EC2インスタンスの作成」、「013-Azure仮想マシンの作成」のいずれかのNotebookで作成しておく必要があります。"
   ]
  },
  {
   "cell_type": "markdown",
   "metadata": {},
   "source": [
    "## 準備"
   ]
  },
  {
   "cell_type": "markdown",
   "metadata": {},
   "source": [
    "### グループ名の指定\n",
    "\n",
    "Moodle環境の構築対象を指定するために Ansible のグループ名を指定します。"
   ]
  },
  {
   "cell_type": "markdown",
   "metadata": {},
   "source": [
    "ノード作成をどのNotebookで行ったかによって、ここで指定する値は異なります。各Notebookでどの値がAnsibleのグループ名に対応するのかを以下に示します。\n",
    "\n",
    "* 011-VCノードの作成.ipynb\n",
    "    - UnitGroup名: `ugroup_name`\n",
    "* 012-EC2インスタンスの作成.ipynb\n",
    "    - EC2インスタンスの名前: `aws_ec2_name`\n",
    "* 013-Azure仮想マシンの作成.ipynb\n",
    "    - 仮想マシンの名前: `azure_vm_name`\n",
    "\n",
    "ノードを作成した時に指定した値を確認するために `group_vars`にあるディレクトリの一覧を表示します。"
   ]
  },
  {
   "cell_type": "code",
   "execution_count": null,
   "metadata": {},
   "outputs": [],
   "source": [
    "!ls -1 group_vars/"
   ]
  },
  {
   "cell_type": "markdown",
   "metadata": {},
   "source": [
    "上のセルの出力結果を参考にしてAnsibleのグループ名を次のセルに指定してください。"
   ]
  },
  {
   "cell_type": "code",
   "execution_count": null,
   "metadata": {
    "tags": [
     "vcp:skip",
     "vcp:parameters"
    ]
   },
   "outputs": [],
   "source": [
    "# (例)\n",
    "# target_group = 'Moodle'\n",
    "\n",
    "target_group = "
   ]
  },
  {
   "cell_type": "markdown",
   "metadata": {
    "heading_collapsed": true
   },
   "source": [
    "### 前提条件の確認\n",
    "\n",
    "このNotebookを実行するための前提条件を満たしていることを確認します。"
   ]
  },
  {
   "cell_type": "markdown",
   "metadata": {
    "hidden": true
   },
   "source": [
    "前提となる条件を以下に示します。\n",
    "\n",
    "* Ansibleから操作可能であること\n",
    "* Ansibleから管理者権限でコマンドを実行できること\n",
    "* Docker が利用可能であること\n",
    "* docker compose コマンドが利用可能であること\n",
    "* RockyLinuxであること"
   ]
  },
  {
   "cell_type": "markdown",
   "metadata": {
    "hidden": true
   },
   "source": [
    "`target_group` に対応する設定ファイルが存在していることを確認します。"
   ]
  },
  {
   "cell_type": "code",
   "execution_count": null,
   "metadata": {
    "hidden": true
   },
   "outputs": [],
   "source": [
    "from pathlib import Path\n",
    "\n",
    "target_dir = Path('group_vars') / target_group\n",
    "if not (target_dir.is_dir() and len(list(target_dir.glob(\"*\"))) > 0):\n",
    "    raise RuntimeError(f\"ERROR: not exists {target_group}\")"
   ]
  },
  {
   "cell_type": "markdown",
   "metadata": {
    "hidden": true
   },
   "source": [
    "対象となるホストにAnsibleで到達可能であることを確認します。"
   ]
  },
  {
   "cell_type": "code",
   "execution_count": null,
   "metadata": {
    "hidden": true
   },
   "outputs": [],
   "source": [
    "!ansible {target_group} -m ping"
   ]
  },
  {
   "cell_type": "markdown",
   "metadata": {
    "hidden": true
   },
   "source": [
    "管理者権限でコマンド実行可能であることを確認します。"
   ]
  },
  {
   "cell_type": "code",
   "execution_count": null,
   "metadata": {
    "hidden": true
   },
   "outputs": [],
   "source": [
    "# 管理者権限(-b)でのコマンド実行\n",
    "!ansible {target_group} -b -a 'whoami'"
   ]
  },
  {
   "cell_type": "markdown",
   "metadata": {
    "hidden": true
   },
   "source": [
    "Dockerが利用可能であることを確認します。"
   ]
  },
  {
   "cell_type": "code",
   "execution_count": null,
   "metadata": {
    "hidden": true,
    "scrolled": true
   },
   "outputs": [],
   "source": [
    "!ansible {target_group} -a 'docker info'"
   ]
  },
  {
   "cell_type": "markdown",
   "metadata": {
    "hidden": true
   },
   "source": [
    "docker composeコマンドが利用可能であることを確認します。"
   ]
  },
  {
   "cell_type": "code",
   "execution_count": null,
   "metadata": {
    "hidden": true
   },
   "outputs": [],
   "source": [
    "!ansible {target_group} -a 'docker compose version'"
   ]
  },
  {
   "cell_type": "markdown",
   "metadata": {
    "hidden": true
   },
   "source": [
    "構築対象のノードが RockyLinux 8 であること確認します。"
   ]
  },
  {
   "cell_type": "code",
   "execution_count": null,
   "metadata": {
    "hidden": true
   },
   "outputs": [],
   "source": [
    "import json\n",
    "\n",
    "out = !ansible {target_group} -m setup\n",
    "try:\n",
    "    idx = [i for i, x in enumerate(out) if x.endswith('| SUCCESS => {')][0]\n",
    "    data = json.loads(' '.join(['{'] + out[(idx + 1):]))\n",
    "    distribution = data['ansible_facts']['ansible_distribution']\n",
    "    distribution_major_version = data['ansible_facts']['ansible_distribution_major_version']\n",
    "    if distribution != 'Rocky':\n",
    "        raise RuntimeError(f\"ERROR: {distribution} {distribution_major_version}\")\n",
    "except:\n",
    "    for line in out:\n",
    "        print(line)\n",
    "    raise RuntimeError(\"error!\")"
   ]
  },
  {
   "cell_type": "markdown",
   "metadata": {},
   "source": [
    "## パラメータ設定"
   ]
  },
  {
   "cell_type": "markdown",
   "metadata": {},
   "source": [
    "### Moodle\n",
    "Moodleに関するパラメータを指定します。\n",
    "\n",
    "![Moodle設定](images/moodle-021-02.png)"
   ]
  },
  {
   "cell_type": "markdown",
   "metadata": {},
   "source": [
    "#### Moodleのコンテナイメージ\n",
    "\n",
    "Moodleコンテナのイメージ名を指定してください。"
   ]
  },
  {
   "cell_type": "markdown",
   "metadata": {},
   "source": [
    "ここで指定する値は `harbor.vcloud.nii.ac.jp` にあらかじめ用意してある Moodle イメージから選択する必要があります。次のセルを実行すると選択可能な値の一覧を表示します。"
   ]
  },
  {
   "cell_type": "code",
   "execution_count": null,
   "metadata": {
    "scrolled": true
   },
   "outputs": [],
   "source": [
    "import itertools\n",
    "import math\n",
    "import re\n",
    "import requests\n",
    "%run scripts/utils.py\n",
    "\n",
    "url = 'https://harbor.vcloud.nii.ac.jp/api/v2.0/projects/vcp/repositories/moodle-simple'\n",
    "res = requests.get(url)\n",
    "page_size = 100\n",
    "artifact_count = res.json()[\"artifact_count\"]\n",
    "tags = []\n",
    "for idx in range(math.ceil(artifact_count / page_size)):\n",
    "    res = requests.get(f\"{url}/artifacts?page={idx + 1}&page_size={page_size}\")\n",
    "    tags.extend([[tag[\"name\"] for tag in x[\"tags\"]] for x in res.json()])\n",
    "tags = sorted([\n",
    "    f\"harbor.vcloud.nii.ac.jp/vcp/moodle-simple:{x}\"\n",
    "    for x in itertools.chain.from_iterable(tags)\n",
    "    if not x.endswith('-ssl') and re.match(r'^\\d', x) and check_version(x)\n",
    "], reverse=True)\n",
    "for tag in tags:\n",
    "    print(tag)"
   ]
  },
  {
   "cell_type": "markdown",
   "metadata": {},
   "source": [
    "コンテナイメージのタグによって、どのリリースに対応するMoodle環境を構築するかを指定できます。`4.x.x` のようなタグはマイナーリリースまで特定したコンテナイメージとなります。また `4.x` のようなタグは各ブランチにおける最新のマイナーリリースを意味しています。Moodleのリリース状況に関しては[Releases | Moodle Developer Resources](https://moodledev.io/general/releases)を参照してください。現在の最新のLTS(Long Term Support)はMoodle 4.5となっています。"
   ]
  },
  {
   "cell_type": "code",
   "execution_count": null,
   "metadata": {
    "tags": [
     "vcp:skip",
     "vcp:parameters"
    ]
   },
   "outputs": [],
   "source": [
    "# (例)\n",
    "# moodle_image_name = 'harbor.vcloud.nii.ac.jp/vcp/moodle-simple:4.5.5'\n",
    "# moodle_image_name = 'harbor.vcloud.nii.ac.jp/vcp/moodle-simple:4.5'\n",
    "\n",
    "moodle_image_name = "
   ]
  },
  {
   "cell_type": "markdown",
   "metadata": {},
   "source": [
    "#### Moodleの管理者ユーザ名\n",
    "\n",
    "Moodleの管理者ユーザ名を指定します。"
   ]
  },
  {
   "cell_type": "markdown",
   "metadata": {},
   "source": [
    "> Moodleのユーザ名に指定できる文字は、小文字英数字と`_`, `-`, `@`, `.`です。"
   ]
  },
  {
   "cell_type": "code",
   "execution_count": null,
   "metadata": {
    "tags": [
     "vcp:skip",
     "vcp:parameters"
    ]
   },
   "outputs": [],
   "source": [
    "# (例)\n",
    "# moodle_admin_name = 'admin'\n",
    "\n",
    "moodle_admin_name = "
   ]
  },
  {
   "cell_type": "markdown",
   "metadata": {},
   "source": [
    "#### Moodleの管理者パスワード\n",
    "\n",
    "管理者パスワードを指定します。"
   ]
  },
  {
   "cell_type": "markdown",
   "metadata": {},
   "source": [
    "次のセルを実行するとパスワード入力用の枠が表示されます。管理者パスワードを入力してください（入力後に Enter キーを押すことで入力が完了します）。\n",
    "\n",
    "> パスワードの値は `admin` 以外の値を指定してください。"
   ]
  },
  {
   "cell_type": "code",
   "execution_count": null,
   "metadata": {
    "tags": [
     "vcp:skip",
     "vcp:parameters"
    ]
   },
   "outputs": [],
   "source": [
    "from getpass import getpass\n",
    "moodle_admin_password = getpass()"
   ]
  },
  {
   "cell_type": "markdown",
   "metadata": {},
   "source": [
    "#### MoodleのURL\n",
    "\n",
    "MoodleではサイトのURLを`config.php`の`$CFG->wwwroot`に設定する必要があります。構築対象のURLを指定してください。"
   ]
  },
  {
   "cell_type": "code",
   "execution_count": null,
   "metadata": {
    "tags": [
     "vcp:skip",
     "vcp:parameters"
    ]
   },
   "outputs": [],
   "source": [
    "# (例)\n",
    "# moodle_url = 'http://moodle.example.org'\n",
    "# moodle_url = 'http://172.30.2.100'\n",
    "# moodle_url = 'https://moodle.example.org'\n",
    "\n",
    "moodle_url = "
   ]
  },
  {
   "cell_type": "markdown",
   "metadata": {
    "heading_collapsed": true
   },
   "source": [
    "#### パラメータの保存\n",
    "\n",
    "この節で指定したパラメータの値をファイルに保存します。ただしパスワードなどの秘匿情報についてはファイルへの保存を行いません。"
   ]
  },
  {
   "cell_type": "markdown",
   "metadata": {
    "hidden": true
   },
   "source": [
    "値の保存を行う前に、入力されたパラメータに対して簡易なチェックを行います。エラーになった場合はその後に表示される指示に従ってください。"
   ]
  },
  {
   "cell_type": "code",
   "execution_count": null,
   "metadata": {
    "hidden": true,
    "scrolled": true
   },
   "outputs": [],
   "source": [
    "%run scripts/utils.py\n",
    "check_parameters(\n",
    "    'moodle_admin_name',\n",
    "    'moodle_url',\n",
    "    nb_vars=locals(),\n",
    ")"
   ]
  },
  {
   "cell_type": "markdown",
   "metadata": {
    "hidden": true
   },
   "source": [
    "パラメータの値を group_vars ファイルに保存します。"
   ]
  },
  {
   "cell_type": "code",
   "execution_count": null,
   "metadata": {
    "hidden": true
   },
   "outputs": [],
   "source": [
    "%run scripts/group.py\n",
    "\n",
    "update_group_vars(\n",
    "    target_group,\n",
    "    _file=\"20-moodle.yml\",\n",
    "    moodle_image_name=moodle_image_name,\n",
    "    moodle_url=moodle_url,\n",
    ")"
   ]
  },
  {
   "cell_type": "markdown",
   "metadata": {
    "hidden": true
   },
   "source": [
    "`group_vars`ファイルの内容を確認してみます。"
   ]
  },
  {
   "cell_type": "code",
   "execution_count": null,
   "metadata": {
    "hidden": true
   },
   "outputs": [],
   "source": [
    "!cat group_vars/{target_group}/20-moodle.yml"
   ]
  },
  {
   "cell_type": "markdown",
   "metadata": {},
   "source": [
    "### データベース\n",
    "\n",
    "Moodleの設定値などを保存するデータベースに関するパラメータを指定します。\n",
    "\n",
    "![データベース設定](images/moodle-021-03.png)"
   ]
  },
  {
   "cell_type": "markdown",
   "metadata": {},
   "source": [
    "#### データベースのコンテナイメージ\n"
   ]
  },
  {
   "cell_type": "markdown",
   "metadata": {},
   "source": [
    "データベースコンテナのイメージ名を指定してください。このNotebookが構築する環境では MariaDBのコンテナイメージを指定することができます。"
   ]
  },
  {
   "cell_type": "code",
   "execution_count": null,
   "metadata": {
    "tags": [
     "vcp:parameters"
    ]
   },
   "outputs": [],
   "source": [
    "db_image_name = 'mariadb:11.4'"
   ]
  },
  {
   "cell_type": "markdown",
   "metadata": {},
   "source": [
    "Moodleの設定ファイル`config.php`の中で `$CFG->dbtype` に指定するデータベースの種別を指定してください。\n",
    "\n",
    "> このNotebookでは `mariadb` を指定した場合の動作確認のみ行っています。"
   ]
  },
  {
   "cell_type": "code",
   "execution_count": null,
   "metadata": {
    "tags": [
     "vcp:parameters"
    ]
   },
   "outputs": [],
   "source": [
    "# (例)\n",
    "# db_type = 'mariadb'    # MariaDB\n",
    "# db_type = 'mysql'      # MySQL\n",
    "\n",
    "db_type = 'mariadb'"
   ]
  },
  {
   "cell_type": "markdown",
   "metadata": {},
   "source": [
    "#### データベース名\n",
    "\n",
    "Moodleが使用するデータベース名を指定してください。"
   ]
  },
  {
   "cell_type": "code",
   "execution_count": null,
   "metadata": {
    "tags": [
     "vcp:parameters"
    ]
   },
   "outputs": [],
   "source": [
    "# (例)\n",
    "# db_moodle_db = 'moodle'\n",
    "\n",
    "db_moodle_db = 'moodle'"
   ]
  },
  {
   "cell_type": "markdown",
   "metadata": {},
   "source": [
    "#### データベースの接続ユーザ\n",
    "\n",
    "Moodleのデータベースに接続するためのデータベースのユーザ名を指定してください。"
   ]
  },
  {
   "cell_type": "code",
   "execution_count": null,
   "metadata": {
    "tags": [
     "vcp:parameters"
    ]
   },
   "outputs": [],
   "source": [
    "# (例)\n",
    "# db_moodle_db_user = 'moodle'\n",
    "\n",
    "db_moodle_db_user = 'moodle'"
   ]
  },
  {
   "cell_type": "markdown",
   "metadata": {},
   "source": [
    "#### データベースのパスワード\n"
   ]
  },
  {
   "cell_type": "markdown",
   "metadata": {},
   "source": [
    "Moodleのデータベースに接続するためのパスワードを指定します。"
   ]
  },
  {
   "cell_type": "code",
   "execution_count": null,
   "metadata": {
    "tags": [
     "vcp:skip",
     "vcp:parameters"
    ]
   },
   "outputs": [],
   "source": [
    "from getpass import getpass\n",
    "db_moodle_db_password = getpass()"
   ]
  },
  {
   "cell_type": "markdown",
   "metadata": {},
   "source": [
    "#### データベースの管理者パスワード\n",
    "\n",
    "管理者のパスワードを指定します。"
   ]
  },
  {
   "cell_type": "code",
   "execution_count": null,
   "metadata": {
    "tags": [
     "vcp:skip",
     "vcp:parameters"
    ]
   },
   "outputs": [],
   "source": [
    "db_root_password = getpass()"
   ]
  },
  {
   "cell_type": "markdown",
   "metadata": {
    "heading_collapsed": true
   },
   "source": [
    "#### パラメータの保存\n",
    "\n",
    "この節で指定したパラメータの値をファイルに保存します。ただしパスワードなどの秘匿情報についてはファイルへの保存を行いません。"
   ]
  },
  {
   "cell_type": "code",
   "execution_count": null,
   "metadata": {
    "hidden": true
   },
   "outputs": [],
   "source": [
    "update_group_vars(\n",
    "    target_group,\n",
    "    _file=\"20-moodle.yml\",\n",
    "    db_image_name=db_image_name,\n",
    "    db_type=db_type,\n",
    "    db_moodle_db=db_moodle_db,\n",
    ")"
   ]
  },
  {
   "cell_type": "markdown",
   "metadata": {
    "hidden": true
   },
   "source": [
    "`group_vars`ファイルの内容を確認してみます。"
   ]
  },
  {
   "cell_type": "code",
   "execution_count": null,
   "metadata": {
    "hidden": true
   },
   "outputs": [],
   "source": [
    "!cat group_vars/{target_group}/20-moodle.yml"
   ]
  },
  {
   "cell_type": "markdown",
   "metadata": {
    "heading_collapsed": true
   },
   "source": [
    "## 設定ファイルの配置\n",
    "\n",
    "Moodleコンテナ、DBコンテナを実行するのに必要となる設定ファイルを構築環境に配置します。\n",
    "\n",
    "![設定ファイルの配置](images/moodle-021-04.png)"
   ]
  },
  {
   "cell_type": "markdown",
   "metadata": {
    "hidden": true
   },
   "source": [
    "### compose.yaml の配置"
   ]
  },
  {
   "cell_type": "markdown",
   "metadata": {
    "hidden": true
   },
   "source": [
    "このNotebookで構築するMoodle環境は複数のコンテナから構成されています。複数コンテナの管理を容易にするために`docker compose`を利用します。`docker compose`を利用することで、YAMLで記述した設定ファイル`compose.yaml`に記述したコンテナ構成に従い複数のコンテナの起動、停止などの操作が行えます。"
   ]
  },
  {
   "cell_type": "markdown",
   "metadata": {
    "hidden": true
   },
   "source": [
    "まず構築環境に`compose.yaml`などを格納するディレクトリ`/srv/moodle`を作成します。"
   ]
  },
  {
   "cell_type": "code",
   "execution_count": null,
   "metadata": {
    "hidden": true
   },
   "outputs": [],
   "source": [
    "!ansible {target_group} -b -m file -a \\\n",
    "    'path=/srv/moodle state=directory owner={{{{ansible_ssh_user}}}}'"
   ]
  },
  {
   "cell_type": "markdown",
   "metadata": {
    "hidden": true
   },
   "source": [
    "作成したディレクトリに `compose.yaml` を配置します。"
   ]
  },
  {
   "cell_type": "code",
   "execution_count": null,
   "metadata": {
    "hidden": true,
    "scrolled": true
   },
   "outputs": [],
   "source": [
    "!ansible {target_group} -Dv -m template \\\n",
    "    -a 'src=template/compose.yaml.j2 dest=/srv/moodle/compose.yaml backup=yes'"
   ]
  },
  {
   "cell_type": "markdown",
   "metadata": {
    "hidden": true
   },
   "source": [
    "### 秘匿情報に関する値を構築環境に配置する"
   ]
  },
  {
   "cell_type": "markdown",
   "metadata": {
    "hidden": true
   },
   "source": [
    "この構築環境ではMoodleの管理者パスワードやデータベースの接続パスワード、ユーザ名などの秘匿情報を[docker secrets](https://docs.docker.com/engine/swarm/secrets/)の機能を用いて管理します。docker secretsの設定は`compose.yaml`の[secrets](https://docs.docker.com/reference/compose-file/secrets/)として記述しますが、各パラメータの値は構築環境の個別のファイルに格納することになります。各パラメータとその値を格納するファイル名の対応を下表に示します。\n",
    "\n",
    "|パラメータ|ファイル名|\n",
    "|:---|:---|\n",
    "|Moodleの管理者ユーザ名|/srv/moodle/secrets/MOODLE_ADMIN|\n",
    "|Moodleの管理者パスワード|/srv/moodle/secrets/MOODLE_ADMIN_PASSWORD|\n",
    "|データベース名|/srv/moodle/secrets/DB_DATABASE|\n",
    "|データベースの接続ユーザ名|/srv/moodle/secrets/DB_USER|\n",
    "|データベースの接続パスワード|/srv/moodle/secrets/DB_PASSWORD|\n",
    "|データベースの管理者パスワード|/srv/moodle/secrets/DB_ROOT_PASSWORD|"
   ]
  },
  {
   "cell_type": "markdown",
   "metadata": {
    "hidden": true
   },
   "source": [
    "秘匿情報の値を格納したファイルを作成します。"
   ]
  },
  {
   "cell_type": "code",
   "execution_count": null,
   "metadata": {
    "hidden": true,
    "scrolled": true
   },
   "outputs": [],
   "source": [
    "from tempfile import TemporaryDirectory\n",
    "from pathlib import Path\n",
    "\n",
    "!ansible {target_group} -b -m file -a \\\n",
    "    'path=/srv/moodle state=directory owner={{{{ansible_ssh_user}}}}'\n",
    "!ansible {target_group} -b -m file -a \\\n",
    "    'path=/srv/moodle/secrets state=directory owner={{{{ansible_ssh_user}}}}'\n",
    "params = {\n",
    "    'MOODLE_ADMIN': moodle_admin_name,\n",
    "    'MOODLE_ADMIN_PASSWORD': moodle_admin_password,\n",
    "    'DB_DATABASE': db_moodle_db,\n",
    "    'DB_USER': db_moodle_db_user,\n",
    "    'DB_PASSWORD': db_moodle_db_password,\n",
    "    'DB_ROOT_PASSWORD': db_root_password,\n",
    "}\n",
    "\n",
    "with TemporaryDirectory() as workdir:\n",
    "    for key, value in params.items():\n",
    "        var_path = Path(workdir) / key\n",
    "        with var_path.open(mode='w') as f:\n",
    "            f.write(value)\n",
    "        !ansible {target_group} -b -m copy \\\n",
    "            -a 'src={var_path} dest=/srv/moodle/secrets/ mode=0400 owner=root'"
   ]
  },
  {
   "cell_type": "markdown",
   "metadata": {
    "hidden": true
   },
   "source": [
    "作成したファイルの一覧を確認します。"
   ]
  },
  {
   "cell_type": "code",
   "execution_count": null,
   "metadata": {
    "hidden": true
   },
   "outputs": [],
   "source": [
    "!ansible {target_group} -a 'chdir=/srv/moodle \\\n",
    "    tree secrets'"
   ]
  },
  {
   "cell_type": "markdown",
   "metadata": {
    "hidden": true
   },
   "source": [
    "### 各コンテナの設定ファイルを配置する"
   ]
  },
  {
   "cell_type": "markdown",
   "metadata": {
    "hidden": true
   },
   "source": [
    "このNotebookで構築する環境では、コンテナ内で実行する Apache HTTP server の`httpd.conf`などの設定ファイルを構築環境のホスト側に配置しています。これは各コンテナイメージに状態を持たせないようにして、バックアップ、リストアなどを容易に行うために行っています。ホスト側に配置した設定ファイルは[bind mount](https://docs.docker.com/storage/bind-mounts/)の機能を利用してコンテナから参照できるようにしています。\n",
    "\n",
    "bind mountによって配置する設定ファイルのホスト環境におけるパスとコンテナ環境におけるパスの対応関係の主なものを以下に示します。\n",
    "\n",
    "|コンテナ名|コンテナ環境のパス|ホスト環境のパス|\n",
    "|:---|:---|:---|\n",
    "|moodle|/etc/httpd/conf/httpd.conf|/srv/moodle/moodle/conf/httpd/conf/httpd.conf|\n",
    "|moodle|/etc/httpd/conf.d/|/srv/moodle/moodle/conf/httpd/conf.d/|\n",
    "|moodle|/etc/httpd/conf.modules.d/|/srv/moodle/moodle/conf/httpd/conf.modules.d/|\n",
    "|moodle|/etc/php.ini|/srv/moodle/moodle/conf/php.ini|\n",
    "|moodle|/etc/php.d/|/srv/moodle/moodle/conf/php.d/|\n",
    "|moodle|/etc/php-fpm.conf|/srv/moodle/moodle/conf/php-fpm.conf|\n",
    "|moodle|/etc/php-fpm.d/|/srv/moodle/moodle/conf/php-fpm.d/|\n",
    "|db|/etc/mysql/mariadb.cnf|/srv/moodle/db/conf/mariadb.cnf|\n",
    "|db|/etc/mysql/mariadb.conf.d/|/srv/moodle/db/conf/mariadb.conf.d/|\n",
    "\n",
    "この節では、コンテナイメージの設定ファイルをコピーして構築環境のホスト側への配置を行います。"
   ]
  },
  {
   "cell_type": "markdown",
   "metadata": {
    "hidden": true
   },
   "source": [
    "コンテナ内の設定ファイルをホスト側にコピーするために仮のコンテナを起動します。仮のコンテナを起動するために`compose.setup-*.yaml`を用います。"
   ]
  },
  {
   "cell_type": "markdown",
   "metadata": {
    "hidden": true
   },
   "source": [
    "実際の操作を行う前にチェックモードで ansible を実行します。"
   ]
  },
  {
   "cell_type": "code",
   "execution_count": null,
   "metadata": {
    "hidden": true
   },
   "outputs": [],
   "source": [
    "!ansible-playbook -l {target_group} -CDv playbooks/deploy-setup-conf.yml || true"
   ]
  },
  {
   "cell_type": "markdown",
   "metadata": {
    "hidden": true
   },
   "source": [
    "実際に設定ファイルの取得を行います。"
   ]
  },
  {
   "cell_type": "code",
   "execution_count": null,
   "metadata": {
    "hidden": true,
    "scrolled": true
   },
   "outputs": [],
   "source": [
    "!ansible-playbook -l {target_group} -v playbooks/deploy-setup-conf.yml"
   ]
  },
  {
   "cell_type": "markdown",
   "metadata": {
    "hidden": true
   },
   "source": [
    "ホスト環境にコピーした設定ファイルを確認します。"
   ]
  },
  {
   "cell_type": "code",
   "execution_count": null,
   "metadata": {
    "hidden": true
   },
   "outputs": [],
   "source": [
    "!ansible {target_group} -a 'chdir=/srv/moodle \\\n",
    "    tree -L 3 db moodle'"
   ]
  },
  {
   "cell_type": "markdown",
   "metadata": {
    "hidden": true
   },
   "source": [
    "### ログ関連の準備\n",
    "\n",
    "コンテナで実行するサービスのログに関するセットアップを行います。"
   ]
  },
  {
   "cell_type": "markdown",
   "metadata": {
    "hidden": true
   },
   "source": [
    "#### ログ出力先のディレクトリの作成"
   ]
  },
  {
   "cell_type": "markdown",
   "metadata": {
    "hidden": true
   },
   "source": [
    "このNotebookで構築する環境では、コンテナ内で実行する Apache HTTP server などのログ出力先ディレクトリをホスト側のディレクトリに[bind mount](https://docs.docker.com/storage/bind-mounts/)します。これによりホスト側からもログの参照が容易になります。\n",
    "\n",
    "ログ出力先ディレクトリのコンテナ環境とホスト環境での対応関係を以下に示します。\n",
    "\n",
    "|コンテナ名|コンテナ環境のパス|ホスト環境のパス|\n",
    "|:---|:---|:---|\n",
    "|moodle|/var/log/httpd|/var/log/httpd|\n",
    "|db|/var/log/mysql|/var/log/mysql|"
   ]
  },
  {
   "cell_type": "markdown",
   "metadata": {
    "hidden": true
   },
   "source": [
    "ログ出力先のディレクトリを作成します。"
   ]
  },
  {
   "cell_type": "code",
   "execution_count": null,
   "metadata": {
    "hidden": true
   },
   "outputs": [],
   "source": [
    "!ansible {target_group} -b -m file -a 'path=/var/log/httpd state=directory'\n",
    "!ansible {target_group} -b -m file -a 'path=/var/log/mysql owner=999 group=adm state=directory'"
   ]
  },
  {
   "cell_type": "markdown",
   "metadata": {
    "hidden": true
   },
   "source": [
    "#### logrotateの設定ファイルを配置する\n",
    "\n",
    "Moodleコンテナ、DBコンテナのログをローテーションするための設定ファイルを配置します。logrotateはホスト環境で実行するので、ホスト側の `/etc/logrotate.d/` に配置します。 "
   ]
  },
  {
   "cell_type": "code",
   "execution_count": null,
   "metadata": {
    "hidden": true
   },
   "outputs": [],
   "source": [
    "!ansible {target_group} -b -m copy -a 'src=template/logrotate.d/httpd dest=/etc/logrotate.d/'\n",
    "!ansible {target_group} -b -m copy -a 'src=template/logrotate.d/mysql-server dest=/etc/logrotate.d/'"
   ]
  },
  {
   "cell_type": "markdown",
   "metadata": {
    "hidden": true
   },
   "source": [
    "#### mysqladmin の設定ファイルを配置する\n",
    "\n",
    "MariaDB/MySQL に対して logrotate を行うには管理者権限で `mysqladmin flush-logs` などのコマンドを実行出来るようにする必要があります。これを可能にするために管理者パスワードの情報を `/root/.my.cnf` に格納します。"
   ]
  },
  {
   "cell_type": "markdown",
   "metadata": {
    "hidden": true
   },
   "source": [
    "コンテナに状態を持たせないようにするために設定ファイルはホスト環境に配置したものを bind mountすることにします。コンテナ環境、ホスト環境におけるパスを以下に示します。\n",
    "\n",
    "|コンテナ環境のパス|ホスト環境のパス|\n",
    "|:---|:---|\n",
    "|/root/.my.cnf|/srv/moodle/db/misc/my.cnf|"
   ]
  },
  {
   "cell_type": "markdown",
   "metadata": {
    "hidden": true
   },
   "source": [
    "設定ファイルをホスト側に配置します。"
   ]
  },
  {
   "cell_type": "code",
   "execution_count": null,
   "metadata": {
    "hidden": true
   },
   "outputs": [],
   "source": [
    "import yaml\n",
    "\n",
    "with TemporaryDirectory() as workdir:\n",
    "    vars_path = Path(workdir) / 'moodle.yml'\n",
    "    with vars_path.open(mode='w') as f:\n",
    "        yaml.safe_dump({'db_root_password': db_root_password}, f)\n",
    "    !ansible {target_group} -b -m template -e @{vars_path} \\\n",
    "        -a 'src=template/mysql/my.cnf.j2 dest=/srv/moodle/db/misc/my.cnf \\\n",
    "        mode=0600 owner=root group=root'"
   ]
  },
  {
   "cell_type": "markdown",
   "metadata": {
    "heading_collapsed": true
   },
   "source": [
    "## アプリケーションコンテナの起動\n",
    "\n",
    "Moodleコンテナ、データベースコンテナを起動して、Moodle環境を起動します。\n",
    "\n",
    "![コンテナの起動](images/moodle-021-05.png)"
   ]
  },
  {
   "cell_type": "markdown",
   "metadata": {
    "hidden": true
   },
   "source": [
    "コンテナの起動を行います。Moodleのサービスが開始されるまで数分程度を要します。"
   ]
  },
  {
   "cell_type": "code",
   "execution_count": null,
   "metadata": {
    "hidden": true
   },
   "outputs": [],
   "source": [
    "!ansible {target_group} -a 'chdir=/srv/moodle \\\n",
    "    docker compose up --wait --remove-orphans'"
   ]
  },
  {
   "cell_type": "markdown",
   "metadata": {},
   "source": [
    "## Moodle を利用できることを確認\n",
    "\n",
    "構築したMoodle環境にアクセスし、Moodle が利用できることを確認します。"
   ]
  },
  {
   "cell_type": "markdown",
   "metadata": {},
   "source": [
    "### アドレスの確認"
   ]
  },
  {
   "cell_type": "markdown",
   "metadata": {},
   "source": [
    "次のセルを実行すると表示されるリンクが、構築したMoodle環境のアドレスです。リンクをクリックしてMoodle環境にログインしてください。"
   ]
  },
  {
   "cell_type": "code",
   "execution_count": null,
   "metadata": {},
   "outputs": [],
   "source": [
    "from IPython.core.display import HTML\n",
    "HTML(u'<a href=\"{0}\" target=\"_blank\">{0}</a>'.format(moodle_url))"
   ]
  },
  {
   "cell_type": "markdown",
   "metadata": {},
   "source": [
    "### ライブログの確認\n",
    "\n",
    "Moodle のライブログを確認します。次のセルを実行すると表示されるリンクをクリックしてください。"
   ]
  },
  {
   "cell_type": "code",
   "execution_count": null,
   "metadata": {},
   "outputs": [],
   "source": [
    "from IPython.core.display import HTML\n",
    "HTML(u'<a href=\"{0}/report/loglive/index.php\" target=\"_blank\">{0}/report/loglive/index.php</a>'.format(moodle_url))"
   ]
  },
  {
   "cell_type": "markdown",
   "metadata": {},
   "source": [
    "## コンテナのログを確認する"
   ]
  },
  {
   "cell_type": "markdown",
   "metadata": {},
   "source": [
    "MoodleコンテナのApache HTTP Serverのログはホスト環境の `/var/log/httpd/` に出力されます。アクセスログ `access_log` の内容を確認してみます。"
   ]
  },
  {
   "cell_type": "code",
   "execution_count": null,
   "metadata": {
    "scrolled": true
   },
   "outputs": [],
   "source": [
    "!ansible {target_group} -a 'tail /var/log/httpd/access_log'"
   ]
  },
  {
   "cell_type": "markdown",
   "metadata": {},
   "source": [
    "DBコンテナのログはホスト環境の `/var/log/mysql/` に出力されます。エラーログ `error.log` の内容を確認してみます。"
   ]
  },
  {
   "cell_type": "code",
   "execution_count": null,
   "metadata": {
    "scrolled": true
   },
   "outputs": [],
   "source": [
    "!ansible {target_group} -b -a 'tail /var/log/mysql/error.log'"
   ]
  },
  {
   "cell_type": "markdown",
   "metadata": {
    "heading_collapsed": true
   },
   "source": [
    "## crontabの設定\n",
    "\n",
    "Moodleのスケジュールタスクを実行するために必要となるスクリプトを1分毎に実行するように crontab を設定します。"
   ]
  },
  {
   "cell_type": "code",
   "execution_count": null,
   "metadata": {
    "hidden": true
   },
   "outputs": [],
   "source": [
    "!ansible {target_group} -m cron -a 'name=PATH env=yes job=/usr/bin:/usr/local/bin'\n",
    "!ansible {target_group} -m cron -a 'name={target_group} \\\n",
    "    job=\"docker compose --project-directory=/srv/moodle exec -T moodle /usr/bin/php /var/www/moodle/admin/cli/cron.php > /dev/null\"'"
   ]
  }
 ],
 "metadata": {
  "kernelspec": {
   "display_name": "Python 3",
   "language": "python",
   "name": "python3"
  },
  "language_info": {
   "file_extension": ".py",
   "mimetype": "text/x-python",
   "name": "python",
   "nbconvert_exporter": "python",
   "pygments_lexer": "ipython3",
   "version": "3.10.4"
  },
  "toc": {
   "base_numbering": 1,
   "nav_menu": {},
   "number_sections": true,
   "sideBar": true,
   "skip_h1_title": true,
   "title_cell": "Table of Contents",
   "title_sidebar": "Contents",
   "toc_cell": false,
   "toc_position": {},
   "toc_section_display": "block",
   "toc_window_display": true
  }
 },
 "nbformat": 4,
 "nbformat_minor": 2
}
