{
 "cells": [
  {
   "cell_type": "markdown",
   "metadata": {},
   "source": [
    "# About: HTTPS接続に変更する\n",
    "---\n",
    "Moodleへの接続を HTTP から HTTPS に変更します。"
   ]
  },
  {
   "cell_type": "markdown",
   "metadata": {},
   "source": [
    "## 概要\n",
    "\n",
    "「021-Moodleコンテナの起動.ipynb」で構築した環境ではMoodleにHTTP(80)で接続する設定となっています。これをHTTPS(443)で接続するように変更します。"
   ]
  },
  {
   "cell_type": "markdown",
   "metadata": {},
   "source": [
    "![処理の流れ](images/moodle-071-01.png)\n",
    "\n",
    "設定手順の主な流れを以下に示します。\n",
    "\n",
    "1. HTTPサーバで利用する証明書と秘密鍵を配置する\n",
    "1. httpdの設定ファイルを配置する\n",
    "1. httpdコンテナの構成を記述した `compose.yaml` を配置する\n",
    "1. 新たな構成でコンテナを起動しなおす"
   ]
  },
  {
   "cell_type": "markdown",
   "metadata": {},
   "source": [
    "### コンテナ構成について"
   ]
  },
  {
   "cell_type": "markdown",
   "metadata": {},
   "source": [
    "「021-Moodleコンテナの起動.ipynb」で構築した環境は次図のようなコンテナ構成となっています。\n",
    "\n",
    "![変更前の構成](images/moodle-071-02.png)\n",
    "\n",
    " MoodleコンテナではMoodle をHTTP(80)で外部に公開する Apache HTTP server(httpd)と、MoodleのPHPファイルを実行するphp-fpmが実行されています。httpdとphp-fpmはUNIXドメインソケットを経由して通信を行っています。\n",
    "\n",
    "HTTPS(443)でMoodleを公開するために、先ほど示したコンテナ構成を次図のように変更します。\n",
    "\n",
    "![変更後の構成](images/moodle-071-03.png)\n",
    "\n",
    "MoodleをHTTPS(443)で公開するためのhttpdコンテナをMoodleコンテナの前段に配置しています。httpdコンテナにはサーバ証明書をbindマウントし、かつmod_sslを有効にしてApache HTTP server(httpd)がHTTPS(443)で公開できるように設定します。\n",
    "\n",
    "httpdコンテナで受け付けた外部からのリクエストはUNIXドメインソケットを経由してMoodleコンテナのphp-fpmで処理します。この連携を行うためにホスト環境にあるUNIXドメインソケットのファイルをhttpdコンテナとMoodleコンテナからbindマウントして、それぞれのコンテナから同一のソケットが見えるように設定します。 この構成では元々Moodleコンテナで実行していたhttpdは不要なので停止させます。"
   ]
  },
  {
   "cell_type": "markdown",
   "metadata": {},
   "source": [
    "## 準備"
   ]
  },
  {
   "cell_type": "markdown",
   "metadata": {},
   "source": [
    "### グループ名の指定\n",
    "\n",
    "このNotebookの操作対象となるAnsibleのグループ名を設定します。"
   ]
  },
  {
   "cell_type": "markdown",
   "metadata": {},
   "source": [
    "既存のグループ名を確認するために`group_vars`にあるディレクトリの一覧を表示します。"
   ]
  },
  {
   "cell_type": "code",
   "execution_count": null,
   "metadata": {},
   "outputs": [],
   "source": [
    "!ls -1 group_vars/"
   ]
  },
  {
   "cell_type": "markdown",
   "metadata": {},
   "source": [
    "上のセルの出力結果を参考にしてAnsibleのグループ名を次のセルに指定してください。"
   ]
  },
  {
   "cell_type": "code",
   "execution_count": null,
   "metadata": {},
   "outputs": [],
   "source": [
    "# (例)\n",
    "# target_group = 'Moodle'\n",
    "\n",
    "target_group = "
   ]
  },
  {
   "cell_type": "markdown",
   "metadata": {
    "heading_collapsed": true
   },
   "source": [
    "### 前提条件の確認\n",
    "\n",
    "このNotebookを実行するための前提条件を満たしていることを確認します。"
   ]
  },
  {
   "cell_type": "markdown",
   "metadata": {
    "hidden": true
   },
   "source": [
    "前提となる条件を以下に示します。\n",
    "\n",
    "* 構築した際のパラメータが group_vars ファイルに記録されていること\n",
    "* Ansibleから操作可能であること\n",
    "* Ansibleから管理者権限でコマンドを実行できること\n",
    "* Moodleコンテナが実行中であること\n",
    "* Moodleコンテナでphp-fpmが実行されていること"
   ]
  },
  {
   "cell_type": "markdown",
   "metadata": {
    "hidden": true
   },
   "source": [
    "`target_group` に対応する設定ファイルが存在していることを確認します。"
   ]
  },
  {
   "cell_type": "code",
   "execution_count": null,
   "metadata": {
    "hidden": true
   },
   "outputs": [],
   "source": [
    "from pathlib import Path\n",
    "\n",
    "target_dir = Path('group_vars') / target_group\n",
    "if not (target_dir.is_dir() and len(list(target_dir.glob(\"*\"))) > 0):\n",
    "    target_file = Path('group_vars') / f\"{target_group}.yml\"\n",
    "    if target_file.is_file():\n",
    "        target_dir.mkdir(exist_ok=True)\n",
    "        target_file.rename(target_dir / \"00-moodle.yml\")\n",
    "    else:\n",
    "        raise RuntimeError(f\"ERROR: not exists {target_group}\")"
   ]
  },
  {
   "cell_type": "markdown",
   "metadata": {
    "hidden": true
   },
   "source": [
    "対象となるホストにAnsibleで到達可能であることを確認します。"
   ]
  },
  {
   "cell_type": "code",
   "execution_count": null,
   "metadata": {
    "hidden": true
   },
   "outputs": [],
   "source": [
    "!ansible {target_group} -m ping"
   ]
  },
  {
   "cell_type": "markdown",
   "metadata": {
    "hidden": true
   },
   "source": [
    "管理者権限でコマンド実行可能であることを確認します。"
   ]
  },
  {
   "cell_type": "code",
   "execution_count": null,
   "metadata": {
    "hidden": true
   },
   "outputs": [],
   "source": [
    "# 管理者権限(-b)でのコマンド実行\n",
    "!ansible {target_group} -b -a 'whoami'"
   ]
  },
  {
   "cell_type": "markdown",
   "metadata": {
    "hidden": true
   },
   "source": [
    "Moodleコンテナが実行中であることを確認します。"
   ]
  },
  {
   "cell_type": "code",
   "execution_count": null,
   "metadata": {
    "hidden": true
   },
   "outputs": [],
   "source": [
    "!ansible {target_group} -m shell -a 'chdir=/srv/moodle \\\n",
    "    docker compose ps --status running moodle | grep moodle'"
   ]
  },
  {
   "cell_type": "markdown",
   "metadata": {
    "hidden": true
   },
   "source": [
    "Moodleコンテナでphp-fpmが実行されていることを確認します。"
   ]
  },
  {
   "cell_type": "code",
   "execution_count": null,
   "metadata": {
    "hidden": true
   },
   "outputs": [],
   "source": [
    "!ansible {target_group} -m shell -a 'chdir=/srv/moodle \\\n",
    "    docker compose exec moodle supervisorctl status || \\\n",
    "    docker compose exec moodle ls /run/php-fpm/www.sock'"
   ]
  },
  {
   "cell_type": "markdown",
   "metadata": {},
   "source": [
    "## パラメータ設定"
   ]
  },
  {
   "cell_type": "markdown",
   "metadata": {},
   "source": [
    "### MoodleのURL\n",
    "\n",
    "MoodleではサイトのURLを`config.php`の`$CFG->wwwroot`に設定しています。HTTPS接続にすることによりURLが変更される場合はその値を指定します。\n",
    "\n",
    "> 公開するURLが現在の設定値から変更がない場合はこの節の操作をスキップして「4. メンテナンスモードへの切り替え」に進んでください。"
   ]
  },
  {
   "cell_type": "markdown",
   "metadata": {},
   "source": [
    "現在設定されている URL の値を確認します。"
   ]
  },
  {
   "cell_type": "code",
   "execution_count": null,
   "metadata": {},
   "outputs": [],
   "source": [
    "%run scripts/group.py\n",
    "gvars = load_group_vars(target_group)\n",
    "print(gvars[\"moodle_url\"])"
   ]
  },
  {
   "cell_type": "markdown",
   "metadata": {},
   "source": [
    "新たなURLの値を次のセルで指定してください。"
   ]
  },
  {
   "cell_type": "code",
   "execution_count": null,
   "metadata": {},
   "outputs": [],
   "source": [
    "# (例)\n",
    "# moodle_url = 'https://moodle.example.org'\n",
    "\n",
    "moodle_url = "
   ]
  },
  {
   "cell_type": "markdown",
   "metadata": {
    "heading_collapsed": true
   },
   "source": [
    "#### パラメータの保存\n",
    "\n",
    "この節で指定したパラメータの値をファイルに保存します。"
   ]
  },
  {
   "cell_type": "markdown",
   "metadata": {
    "hidden": true
   },
   "source": [
    "値の保存を行う前に入力されたパラメータに対して簡易なチェックを行います。エラーになった場合はその後に表示される指示に従ってください。"
   ]
  },
  {
   "cell_type": "code",
   "execution_count": null,
   "metadata": {
    "hidden": true
   },
   "outputs": [],
   "source": [
    "%run scripts/utils.py\n",
    "check_parameters(\n",
    "    'moodle_url',\n",
    "    nb_vars=locals(),\n",
    ")"
   ]
  },
  {
   "cell_type": "markdown",
   "metadata": {
    "hidden": true
   },
   "source": [
    "パラメータの値を group_vars ファイルに保存します。"
   ]
  },
  {
   "cell_type": "code",
   "execution_count": null,
   "metadata": {
    "hidden": true
   },
   "outputs": [],
   "source": [
    "%run scripts/group.py\n",
    "\n",
    "update_group_vars(\n",
    "    target_group,\n",
    "    _file=\"30-httpd.yml\",\n",
    "    moodle_url=moodle_url,\n",
    ")"
   ]
  },
  {
   "cell_type": "markdown",
   "metadata": {
    "hidden": true
   },
   "source": [
    "`group_vars`ファイルの内容を確認してみます。"
   ]
  },
  {
   "cell_type": "code",
   "execution_count": null,
   "metadata": {
    "hidden": true
   },
   "outputs": [],
   "source": [
    "!cat group_vars/{target_group}/30-httpd.yml"
   ]
  },
  {
   "cell_type": "markdown",
   "metadata": {
    "heading_collapsed": true
   },
   "source": [
    "## メンテナンスモードへの切り替え\n",
    "\n",
    "Moodleコンテナが一時停止することになるので、メンテナンスモードに切り替えます。"
   ]
  },
  {
   "cell_type": "code",
   "execution_count": null,
   "metadata": {
    "hidden": true
   },
   "outputs": [],
   "source": [
    "!ansible {target_group} -a 'chdir=/srv/moodle docker compose exec -T moodle \\\n",
    "    /usr/bin/php /var/www/html/admin/cli/maintenance.php --enable'"
   ]
  },
  {
   "cell_type": "markdown",
   "metadata": {},
   "source": [
    "## サーバ証明書の配置\n",
    "\n",
    "httpdコンテナで使用するサーバ証明書を配置します。"
   ]
  },
  {
   "cell_type": "markdown",
   "metadata": {},
   "source": [
    "Apache HTTP serverで利用する証明書と秘密鍵を配置します。\n",
    "\n",
    "> ここで指定するサーバ証明書と秘密鍵は事前にこのNotebook環境にアップロードしておいてください。"
   ]
  },
  {
   "cell_type": "markdown",
   "metadata": {},
   "source": [
    "ここで指定した証明書、秘密鍵は構築環境に配置されhttpdコンテナにbindマウントされます。配置先のパスとコンテナにおけるパスの関係を次表に示します。\n",
    "\n",
    "|構築環境の配置先となるパス|コンテナでのパス|説明|Apache HTTP serverでの設定項目|\n",
    "|:---|:---|:---|:---|\n",
    "|/srv/moodle/httpd/conf/httpd/certs/server.crt|/etc/pki/tls/certs/server.crt|Apache HTTP serverのサーバ証明書|SSLCertificateFile|\n",
    "|/srv/moodle/httpd/conf/httpd/certs/server.key|/etc/pki/tls/private/server.key|Apache HTTP serverの秘密鍵|SSLCertificateKeyFile|\n"
   ]
  },
  {
   "cell_type": "markdown",
   "metadata": {},
   "source": [
    "### 配置するファイルの指定\n",
    "\n",
    "構築環境に配置するファイルを指定します。"
   ]
  },
  {
   "cell_type": "markdown",
   "metadata": {},
   "source": [
    " ####  サーバ証明書の指定\n",
    " \n",
    " サーバ証明書のパスを次のセルで指定してください。ここで指定するパスはNotebook環境におけるサーバ証明書のパスになります。"
   ]
  },
  {
   "cell_type": "code",
   "execution_count": null,
   "metadata": {},
   "outputs": [],
   "source": [
    "# (例)\n",
    "# moodle_cert_path = './certs/server.crt'\n",
    "\n",
    "moodle_cert_path = "
   ]
  },
  {
   "cell_type": "markdown",
   "metadata": {},
   "source": [
    " 証明書のフォーマットはPEMであることを想定しています。 またサーバ証明書に中間CA証明書を連結する場合は[電子証明書発行サービス-サーバ動作事例集](https://certs.nii.ac.jp/manual/manuals/reports/03)で説明されているように、「サーバ証明書」、「中間CA証明書」の順に記載してください。"
   ]
  },
  {
   "cell_type": "markdown",
   "metadata": {},
   "source": [
    "#### 秘密鍵の指定\n",
    "\n",
    "秘密鍵のパスを次のセルで指定してください。ここで指定するパスはNotebook環境における秘密鍵のパスになります。"
   ]
  },
  {
   "cell_type": "code",
   "execution_count": null,
   "metadata": {},
   "outputs": [],
   "source": [
    "# (例)\n",
    "# moodle_private_key_path = './certs/server.key'\n",
    "\n",
    "moodle_private_key_path = "
   ]
  },
  {
   "cell_type": "markdown",
   "metadata": {
    "heading_collapsed": true
   },
   "source": [
    "#### パラメータの保存\n",
    "\n",
    "指定したパラメータの値をファイルに保存します。"
   ]
  },
  {
   "cell_type": "code",
   "execution_count": null,
   "metadata": {
    "hidden": true
   },
   "outputs": [],
   "source": [
    "%run scripts/group.py\n",
    "from pathlib import Path\n",
    "\n",
    "update_group_vars(\n",
    "    target_group,\n",
    "    _file=\"30-httpd.yml\",\n",
    "    moodle_cert_path=str(Path(moodle_cert_path).resolve()),\n",
    "    moodle_private_key_path=str(Path(moodle_private_key_path).resolve()),\n",
    "    httpd=\"httpd\",\n",
    ")"
   ]
  },
  {
   "cell_type": "markdown",
   "metadata": {
    "hidden": true
   },
   "source": [
    "`group_vars`ファイルの内容を確認してみます。"
   ]
  },
  {
   "cell_type": "code",
   "execution_count": null,
   "metadata": {
    "hidden": true
   },
   "outputs": [],
   "source": [
    "!cat group_vars/{target_group}/30-httpd.yml"
   ]
  },
  {
   "cell_type": "markdown",
   "metadata": {
    "heading_collapsed": true
   },
   "source": [
    "### 証明書と秘密鍵を構築環境に配置する\n",
    "\n",
    "次のセルを実行すると証明書、秘密鍵を構築環境に配置する ansible の playbook を実行します。"
   ]
  },
  {
   "cell_type": "markdown",
   "metadata": {
    "hidden": true
   },
   "source": [
    "実際の操作を行う前にチェックモードで ansible を実行します。"
   ]
  },
  {
   "cell_type": "code",
   "execution_count": null,
   "metadata": {
    "hidden": true
   },
   "outputs": [],
   "source": [
    "!ansible-playbook -l {target_group} -CDv playbooks/deploy-httpd-certs.yml || true"
   ]
  },
  {
   "cell_type": "markdown",
   "metadata": {
    "hidden": true
   },
   "source": [
    "実際に証明書の配置を行います。"
   ]
  },
  {
   "cell_type": "code",
   "execution_count": null,
   "metadata": {
    "hidden": true
   },
   "outputs": [],
   "source": [
    "!ansible-playbook -l {target_group} -v playbooks/deploy-httpd-certs.yml"
   ]
  },
  {
   "cell_type": "markdown",
   "metadata": {
    "hidden": true
   },
   "source": [
    "サーバ証明書がMoodle環境に配置されたことを確認するために、証明書の内容を表示してみます。"
   ]
  },
  {
   "cell_type": "code",
   "execution_count": null,
   "metadata": {
    "hidden": true,
    "scrolled": true
   },
   "outputs": [],
   "source": [
    "!ansible {target_group} -a \\\n",
    "    'openssl x509 -in /srv/moodle/httpd/conf/httpd/certs/server.crt \\\n",
    "    -noout -text'"
   ]
  },
  {
   "cell_type": "markdown",
   "metadata": {
    "hidden": true
   },
   "source": [
    "配置した秘密鍵を表示します。"
   ]
  },
  {
   "cell_type": "code",
   "execution_count": null,
   "metadata": {
    "hidden": true,
    "scrolled": true
   },
   "outputs": [],
   "source": [
    "!ansible {target_group} -b -a \\\n",
    "    'openssl rsa -in /srv/moodle/httpd/conf/httpd/certs/server.key \\\n",
    "    -noout -text'"
   ]
  },
  {
   "cell_type": "markdown",
   "metadata": {
    "heading_collapsed": true
   },
   "source": [
    "## 設定ファイルの配置\n",
    "\n",
    "httpdコンテナで実行するApache HTTP serverの設定ファイルを構築環境のホスト側に配置します。"
   ]
  },
  {
   "cell_type": "markdown",
   "metadata": {
    "hidden": true
   },
   "source": [
    "bind mountによって配置する設定ファイルのホスト環境におけるパスとコンテナ環境におけるパスの対応関係を以下に示します。\n",
    "\n",
    "|コンテナ名|コンテナ環境のパス|ホスト環境のパス|\n",
    "|:---|:---|:---|\n",
    "|httpd|/etc/httpd/conf/httpd.conf|/srv/moodle/httpd/conf/httpd/conf/httpd.conf|\n",
    "|httpd|/etc/httpd/conf.d/|/srv/moodle/moodle/conf/httpd/conf.d/|\n",
    "|httpd|/etc/httpd/conf.modules.d/|/srv/moodle/httpd/conf/httpd/conf.modules.d/|"
   ]
  },
  {
   "cell_type": "markdown",
   "metadata": {
    "hidden": true
   },
   "source": [
    "実際の操作を行う前にチェックモードで ansible を実行します。"
   ]
  },
  {
   "cell_type": "code",
   "execution_count": null,
   "metadata": {
    "hidden": true
   },
   "outputs": [],
   "source": [
    "!ansible-playbook -l {target_group} -CDv playbooks/deploy-httpd-conf.yml"
   ]
  },
  {
   "cell_type": "markdown",
   "metadata": {
    "hidden": true
   },
   "source": [
    "実際に設定ファイルの配置を行います。"
   ]
  },
  {
   "cell_type": "code",
   "execution_count": null,
   "metadata": {
    "hidden": true
   },
   "outputs": [],
   "source": [
    "!ansible-playbook -l {target_group} -v playbooks/deploy-httpd-conf.yml"
   ]
  },
  {
   "cell_type": "markdown",
   "metadata": {
    "heading_collapsed": true
   },
   "source": [
    "## コンテナ構成の変更\n",
    "\n",
    "MoodleをHTTPSで公開するためのApache HTTP Serverのコンテナを追加する構成変更を行います。"
   ]
  },
  {
   "cell_type": "markdown",
   "metadata": {
    "hidden": true
   },
   "source": [
    "### compose.yaml の配置"
   ]
  },
  {
   "cell_type": "markdown",
   "metadata": {
    "hidden": true
   },
   "source": [
    "このNotebookの設定手順ではHTTPS接続に対応するためのコンテナを追加する変更を行います。新たなコンテナ構成に対応する`compose.yaml`を構築環境に配置します。ここで配置する`compose.yaml`は元の設定に対して以下に示す変更をおこなっています。\n",
    "\n",
    "* Apache HTTP Serverのmod_ssl を有効にしたhttpdコンテナを追加する\n",
    "* moodleコンテナで実行している `php-fpm` のソケットを httpd コンテナを共有するように bind マウントを設定する\n",
    "* moodleコンテナの httpd サービスを無効化する\n",
    "* moodleコンテナの`config.php`で設定している `$CFG->wwwroot` の値を新たな値に変更する"
   ]
  },
  {
   "cell_type": "markdown",
   "metadata": {
    "hidden": true
   },
   "source": [
    "実際に`compose.yaml`を配置する前にチェックモードで ansible を実行します。"
   ]
  },
  {
   "cell_type": "code",
   "execution_count": null,
   "metadata": {
    "hidden": true
   },
   "outputs": [],
   "source": [
    "!ansible {target_group} -CDv -m template \\\n",
    "    -a 'src=template/compose.yaml.j2 \\\n",
    "    dest=/srv/moodle/compose.yaml backup=yes'"
   ]
  },
  {
   "cell_type": "markdown",
   "metadata": {
    "hidden": true
   },
   "source": [
    "`compose.yaml`を構築環境に配置します。"
   ]
  },
  {
   "cell_type": "code",
   "execution_count": null,
   "metadata": {
    "hidden": true
   },
   "outputs": [],
   "source": [
    "!ansible {target_group} -m template \\\n",
    "    -a 'src=template/compose.yaml.j2 \\\n",
    "    dest=/srv/moodle/compose.yaml backup=yes'"
   ]
  },
  {
   "cell_type": "markdown",
   "metadata": {
    "hidden": true
   },
   "source": [
    "### コンテナ設定の変更を反映する\n",
    "\n",
    "コンテナ設定の変更反映をするために`docker compose up`を実行します。"
   ]
  },
  {
   "cell_type": "code",
   "execution_count": null,
   "metadata": {
    "hidden": true
   },
   "outputs": [],
   "source": [
    "!ansible {target_group} -a 'chdir=/srv/moodle \\\n",
    "    docker compose up --wait --remove-orphans'"
   ]
  },
  {
   "cell_type": "markdown",
   "metadata": {
    "hidden": true
   },
   "source": [
    "変更後のコンテナの状態を確認してみます。`State` の値が `Up` となっていることを確認してください。"
   ]
  },
  {
   "cell_type": "code",
   "execution_count": null,
   "metadata": {
    "hidden": true
   },
   "outputs": [],
   "source": [
    "!ansible {target_group} -a 'chdir=/srv/moodle \\\n",
    "    docker compose ps'"
   ]
  },
  {
   "cell_type": "markdown",
   "metadata": {
    "hidden": true
   },
   "source": [
    "`State`が`Up`となっていない場合はコンテナのログなどを確認してください。"
   ]
  },
  {
   "cell_type": "code",
   "execution_count": null,
   "metadata": {
    "hidden": true,
    "scrolled": true
   },
   "outputs": [],
   "source": [
    "!ansible {target_group} -a 'chdir=/srv/moodle \\\n",
    "    docker compose logs --tail=50 httpd'"
   ]
  },
  {
   "cell_type": "markdown",
   "metadata": {
    "heading_collapsed": true
   },
   "source": [
    "## メンテナンスモードの解除\n",
    "\n",
    "設定変更が完了したのでメンテナンスモードを解除します。"
   ]
  },
  {
   "cell_type": "code",
   "execution_count": null,
   "metadata": {
    "hidden": true,
    "scrolled": true
   },
   "outputs": [],
   "source": [
    "!ansible {target_group} -a 'chdir=/srv/moodle docker compose exec -T moodle \\\n",
    "    /usr/bin/php /var/www/html/admin/cli/maintenance.php --disable'"
   ]
  },
  {
   "cell_type": "markdown",
   "metadata": {},
   "source": [
    "## Moodle を利用できることを確認\n",
    "\n",
    "Moodle環境にアクセスして利用可能であることを確認します。"
   ]
  },
  {
   "cell_type": "markdown",
   "metadata": {},
   "source": [
    "次のセルを実行するとMoodleのアドレスを表示します。表示されたリンクをクリックしてMoodleにアクセスできることを確認してください。"
   ]
  },
  {
   "cell_type": "code",
   "execution_count": null,
   "metadata": {},
   "outputs": [],
   "source": [
    "%run scripts/group.py\n",
    "gvars = load_group_vars(target_group)\n",
    "print(gvars[\"moodle_url\"])"
   ]
  }
 ],
 "metadata": {
  "kernelspec": {
   "display_name": "Python 3",
   "language": "python",
   "name": "python3"
  },
  "language_info": {
   "file_extension": ".py",
   "mimetype": "text/x-python",
   "name": "python",
   "nbconvert_exporter": "python",
   "pygments_lexer": "ipython3",
   "version": "3.10.4"
  },
  "toc": {
   "base_numbering": 1,
   "nav_menu": {},
   "number_sections": true,
   "sideBar": true,
   "skip_h1_title": true,
   "title_cell": "Table of Contents",
   "title_sidebar": "Contents",
   "toc_cell": false,
   "toc_position": {},
   "toc_section_display": true,
   "toc_window_display": true
  }
 },
 "nbformat": 4,
 "nbformat_minor": 2
}
