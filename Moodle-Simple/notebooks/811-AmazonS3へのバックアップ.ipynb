{
 "cells": [
  {
   "cell_type": "markdown",
   "metadata": {},
   "source": [
    "# About: Amazon S3へのバックアップ\n",
    "\n",
    "---\n",
    "\n",
    "Moodle構築環境のデータ、設定ファイルなどを Amazon S3 にバックアップします。"
   ]
  },
  {
   "cell_type": "markdown",
   "metadata": {},
   "source": [
    "## 概要\n",
    "\n",
    "アプリケーションテンプレートで構築したMoodle環境のバックアップを作成し Amazon S3 に保存します。"
   ]
  },
  {
   "cell_type": "markdown",
   "metadata": {},
   "source": [
    "### 前提条件\n"
   ]
  },
  {
   "cell_type": "markdown",
   "metadata": {},
   "source": [
    "この Notebook を実行するには事前に以下のものを準備する必要があります。\n",
    "\n",
    "* バックアップ先となるAmazon S3のバケット\n",
    "* Amazon S3のバケットに書き込みできるクレデンシャル"
   ]
  },
  {
   "cell_type": "markdown",
   "metadata": {},
   "source": [
    "### バックアップの対象"
   ]
  },
  {
   "cell_type": "markdown",
   "metadata": {},
   "source": [
    "バックアップの対象を以下に示します。\n",
    "\n",
    "* DBデータ\n",
    "* アップロードファイル(moodledata)\n",
    "* PHPファイル\n",
    "* 各コンテナで実行しているサービスの設定ファイル\n",
    "    - Moodleコンテナ (`httpd.conf`, `php.ini`, ...)\n",
    "    - データベースコンテナ (`my.cnf`, ...)\n",
    "* `compose.yaml`\n",
    "* コンテナイメージ\n",
    "* crontab\n",
    "* コンテナログのlogrotate設定\n",
    "* /etc/rsyslogの設定ファイル(`051-ロギングドライバを変更する.ipynb`で設定した場合のみ)\n",
    "* /etc/fluentdの設定ファイル(`052-ロギングドライバを変更する.ipynb`で設定した場合のみ)\n",
    "* group_vars（`10-node.yml`は除く）"
   ]
  },
  {
   "cell_type": "markdown",
   "metadata": {},
   "source": [
    "## パラメータ設定"
   ]
  },
  {
   "cell_type": "markdown",
   "metadata": {},
   "source": [
    "### Ansibleのグループを指定する\n",
    "\n",
    "バックアップ対象となるAnsibleのグループ名を指定してください。"
   ]
  },
  {
   "cell_type": "markdown",
   "metadata": {},
   "source": [
    "既存のグループ名を確認するために`group_vars`にあるディレクトリの一覧を表示します。"
   ]
  },
  {
   "cell_type": "code",
   "execution_count": null,
   "metadata": {
    "scrolled": true
   },
   "outputs": [],
   "source": [
    "!ls -1 group_vars/"
   ]
  },
  {
   "cell_type": "markdown",
   "metadata": {},
   "source": [
    "上のセルの出力結果を参考にしてAnsibleのグループ名を次のセルに指定してください。"
   ]
  },
  {
   "cell_type": "code",
   "execution_count": null,
   "metadata": {
    "scrolled": true
   },
   "outputs": [],
   "source": [
    "# (例)\n",
    "# target_group = 'Moodle'\n",
    "\n",
    "target_group = "
   ]
  },
  {
   "cell_type": "markdown",
   "metadata": {
    "heading_collapsed": true
   },
   "source": [
    "#### チェック\n",
    "\n",
    "指定された `target_group` の値が適切なものかチェックします。"
   ]
  },
  {
   "cell_type": "markdown",
   "metadata": {
    "hidden": true
   },
   "source": [
    "`target_group` に対応する設定ファイルが存在していることを確認します。"
   ]
  },
  {
   "cell_type": "code",
   "execution_count": null,
   "metadata": {
    "hidden": true,
    "scrolled": true
   },
   "outputs": [],
   "source": [
    "from pathlib import Path\n",
    "\n",
    "target_dir = Path('group_vars') / target_group\n",
    "if not (target_dir.is_dir() and len(list(target_dir.glob(\"*\"))) > 0):\n",
    "    target_file = Path('group_vars') / f\"{target_group}.yml\"\n",
    "    if target_file.is_file():\n",
    "        target_dir.mkdir(exist_ok=True)\n",
    "        target_file.rename(target_dir / \"00-moodle.yml\")\n",
    "    else:\n",
    "        raise RuntimeError(f\"ERROR: not exists {target_group}\")"
   ]
  },
  {
   "cell_type": "markdown",
   "metadata": {
    "hidden": true
   },
   "source": [
    "バックアップ対象のノードにアクセスできることを確認します。"
   ]
  },
  {
   "cell_type": "code",
   "execution_count": null,
   "metadata": {
    "hidden": true,
    "scrolled": true
   },
   "outputs": [],
   "source": [
    "!ansible {target_group} -m ping"
   ]
  },
  {
   "cell_type": "markdown",
   "metadata": {},
   "source": [
    "### AWSの認証情報\n",
    "\n",
    "Amazon S3を利用するための認証情報を指定します。"
   ]
  },
  {
   "cell_type": "markdown",
   "metadata": {},
   "source": [
    "Amazonのアクセスキーを指定してください。"
   ]
  },
  {
   "cell_type": "code",
   "execution_count": null,
   "metadata": {
    "scrolled": false
   },
   "outputs": [],
   "source": [
    "from getpass import getpass\n",
    "aws_access_key = getpass()"
   ]
  },
  {
   "cell_type": "markdown",
   "metadata": {},
   "source": [
    "Amazonのシークレットキーを指定してください。"
   ]
  },
  {
   "cell_type": "code",
   "execution_count": null,
   "metadata": {
    "scrolled": true
   },
   "outputs": [],
   "source": [
    "aws_secret_key = getpass()"
   ]
  },
  {
   "cell_type": "markdown",
   "metadata": {},
   "source": [
    "### バックアップの保存先を指定する\n",
    "\n",
    "バックアップの保存先となる Amazon S3 のバケット名、パスを指定します。"
   ]
  },
  {
   "cell_type": "markdown",
   "metadata": {},
   "source": [
    "Amazon S3 のバケット名を指定してください。"
   ]
  },
  {
   "cell_type": "code",
   "execution_count": null,
   "metadata": {
    "scrolled": true
   },
   "outputs": [],
   "source": [
    "# (例)\n",
    "# s3_bucket = 's3-bucket-name'\n",
    "\n",
    "s3_bucket = "
   ]
  },
  {
   "cell_type": "markdown",
   "metadata": {},
   "source": [
    "バックアップの保存先となるディレクトリを指定してください。バックアップファイルは、次のセルで指定したディレクトリにバックアップ日時に対応するサブディレクトリを作成し、その下に保存されます。"
   ]
  },
  {
   "cell_type": "code",
   "execution_count": null,
   "metadata": {
    "scrolled": true
   },
   "outputs": [],
   "source": [
    "# (例)\n",
    "# backup_path = f'moodle-simple/{target_group}'\n",
    "\n",
    "backup_path = "
   ]
  },
  {
   "cell_type": "markdown",
   "metadata": {
    "heading_collapsed": true
   },
   "source": [
    "### チェック\n",
    "\n",
    "ここまでに入力したパラメータでAmazon S3を利用できることをチェックします。"
   ]
  },
  {
   "cell_type": "markdown",
   "metadata": {
    "hidden": true
   },
   "source": [
    "指定されたバケットのファイル一覧を表示してみます。"
   ]
  },
  {
   "cell_type": "code",
   "execution_count": null,
   "metadata": {
    "hidden": true,
    "scrolled": true
   },
   "outputs": [],
   "source": [
    "!ansible {target_group} -a \\\n",
    "    'env AWS_ACCESS_KEY_ID=\"{aws_access_key}\" AWS_SECRET_ACCESS_KEY=\"{aws_secret_key}\" \\\n",
    "    aws s3 ls s3://{s3_bucket}/'"
   ]
  },
  {
   "cell_type": "markdown",
   "metadata": {
    "heading_collapsed": true
   },
   "source": [
    "## バックアップ"
   ]
  },
  {
   "cell_type": "markdown",
   "metadata": {
    "hidden": true
   },
   "source": [
    "### メンテナンスモードへの切り替え\n",
    "\n",
    "バックアップを作成する前にMoodleをメンテナンスモードに切り替えます。"
   ]
  },
  {
   "cell_type": "markdown",
   "metadata": {
    "hidden": true
   },
   "source": [
    "メンテナンスモードのへの切り替えが必要ない場合は、次のセルの実行をスキップしてください。"
   ]
  },
  {
   "cell_type": "code",
   "execution_count": null,
   "metadata": {
    "hidden": true,
    "scrolled": true
   },
   "outputs": [],
   "source": [
    "!ansible {target_group} -a 'chdir=/srv/moodle docker compose exec -T moodle \\\n",
    "    /usr/bin/php /var/www/html/admin/cli/maintenance.php --enable'"
   ]
  },
  {
   "cell_type": "markdown",
   "metadata": {
    "hidden": true
   },
   "source": [
    "### DBデータのバックアップ\n",
    "\n",
    "DBデータのバックアップを作成します。"
   ]
  },
  {
   "cell_type": "markdown",
   "metadata": {
    "hidden": true
   },
   "source": [
    "Amazon S3のバケット名、保存先のディレクトリと現在時刻からバックアップの保存先となるS3uriを生成します。"
   ]
  },
  {
   "cell_type": "code",
   "execution_count": null,
   "metadata": {
    "hidden": true,
    "scrolled": true
   },
   "outputs": [],
   "source": [
    "import datetime\n",
    "s3_prefix = f's3://{s3_bucket}/{backup_path}/{datetime.datetime.now().isoformat()}/'\n",
    "\n",
    "s3_db_dest = s3_prefix + 'db.sql.gz'\n",
    "print(s3_db_dest)"
   ]
  },
  {
   "cell_type": "markdown",
   "metadata": {
    "hidden": true
   },
   "source": [
    "DBデータのバックアップを作成しAmazon S3に保存します。\n",
    "\n",
    "> DBコンテナは MySQL/MariaDB であることを前提としています。"
   ]
  },
  {
   "cell_type": "code",
   "execution_count": null,
   "metadata": {
    "hidden": true,
    "scrolled": true
   },
   "outputs": [],
   "source": [
    "!ansible {target_group} -m shell -a \"chdir=/srv/moodle \\\n",
    "    docker compose exec db bash -c -o pipefail \\\n",
    "    'mariadb-dump --single-transaction -u\\$(cat \\$MYSQL_USER_FILE) \\\n",
    "    -p\\$(cat \\$MYSQL_PASSWORD_FILE) \\$(cat \\$MYSQL_DATABASE_FILE)' \\\n",
    "    | gzip | env AWS_ACCESS_KEY_ID={aws_access_key} AWS_SECRET_ACCESS_KEY='{aws_secret_key}' \\\n",
    "    aws s3 cp - {s3_db_dest}\""
   ]
  },
  {
   "cell_type": "markdown",
   "metadata": {
    "hidden": true
   },
   "source": [
    "### その他ファイルのバックアップ\n",
    "\n",
    "DBデータ以外のファイルのバックアップを作成します。"
   ]
  },
  {
   "cell_type": "markdown",
   "metadata": {
    "hidden": true
   },
   "source": [
    "この節で作成するバックアップの対象を以下に示します。\n",
    "\n",
    "* アップロードファイル(moodledata)\n",
    "* PHPファイル\n",
    "* 各コンテナで実行しているサービスの設定ファイル\n",
    "    - Moodleコンテナ (`httpd.conf`, `php.ini`, ...)\n",
    "    - データベースコンテナ (`my.cnf`, ...)\n",
    "* `compose.yaml`\n",
    "* crontab\n",
    "* コンテナログのlogrotate設定\n",
    "* /etc/rsyslogの設定ファイル(`051-ロギングドライバを変更する.ipynb`で設定した場合のみ)\n",
    "* /etc/fluentdの設定ファイル(`052-ロギングドライバを変更する.ipynb`で設定した場合のみ)\n",
    "* group_vars（`10-node.yml`は除く）\n",
    "\n",
    "> ホスト環境の `/etc/` にある設定ファイルをバックアップの対象としていません（上記に示したものを除く）。必要に応じて別途バックアップを行ってください。"
   ]
  },
  {
   "cell_type": "markdown",
   "metadata": {
    "hidden": true
   },
   "source": [
    "まずcrontabの設定をバックアップするために、設定内容をファイルに保存します。"
   ]
  },
  {
   "cell_type": "code",
   "execution_count": null,
   "metadata": {
    "hidden": true,
    "scrolled": true
   },
   "outputs": [],
   "source": [
    "!ansible {target_group} -m file -a \"path=/srv/moodle/misc state=directory\"\n",
    "!ansible {target_group} -m shell -a \"chdir=/srv/moodle \\\n",
    "    crontab -l > misc/crontab\""
   ]
  },
  {
   "cell_type": "markdown",
   "metadata": {
    "hidden": true
   },
   "source": [
    "コンテナログのlogrotate設定をバックアップするために、設定ファイルを `/srv/moodle/misc/logrotate.d` にコピーします。"
   ]
  },
  {
   "cell_type": "code",
   "execution_count": null,
   "metadata": {
    "hidden": true,
    "scrolled": true
   },
   "outputs": [],
   "source": [
    "!ansible {target_group} -m file -a \\\n",
    "    \"path=/srv/moodle/misc/logrotate.d state=directory\"\n",
    "!ansible {target_group} -b -a \\\n",
    "    \"cp -fp /etc/logrotate.d/httpd /etc/logrotate.d/mysql-server \\\n",
    "    /srv/moodle/misc/logrotate.d\""
   ]
  },
  {
   "cell_type": "markdown",
   "metadata": {
    "hidden": true
   },
   "source": [
    "rsyslogの設定ファイルをバックアップするために`/etc/rsyslog.conf`, `/etc/rsyslog.d/`を`/srv/moodle/misc/rsyslog`にコピーします。ただし`051-ロギングドライバを変更する.ipynb`でrsyslogのロギング設定を行った場合のみ実行します。"
   ]
  },
  {
   "cell_type": "code",
   "execution_count": null,
   "metadata": {
    "hidden": true,
    "scrolled": true
   },
   "outputs": [],
   "source": [
    "%run scripts/group.py\n",
    "try:\n",
    "    logging_driver = load_group_var(target_group, \"logging_driver\")\n",
    "except KeyError:\n",
    "    logging_driver = None\n",
    "if logging_driver == \"syslog\":\n",
    "    !ansible {target_group} -m file -a \\\n",
    "        \"path=/srv/moodle/misc/rsyslog state=directory\"\n",
    "    !ansible {target_group} -b -m shell -a \\\n",
    "        \"rm -rf /srv/moodle/misc/rsyslog/* \\\n",
    "        && cp -a /etc/rsyslog.conf /etc/rsyslog.d /srv/moodle/misc/rsyslog\""
   ]
  },
  {
   "cell_type": "markdown",
   "metadata": {
    "hidden": true
   },
   "source": [
    "fluentdの設定ファイルをバックアップするために`/etc/fluentd/`を`/srv/moodle/misc/fluentd`にコピーします。ただし`052-ロギングドライバを変更する.ipynb`でfluentdのロギング設定を行った場合のみ実行します。"
   ]
  },
  {
   "cell_type": "code",
   "execution_count": null,
   "metadata": {
    "hidden": true,
    "scrolled": true
   },
   "outputs": [],
   "source": [
    "if logging_driver == \"fluentd\":\n",
    "    !ansible {target_group} -m file -a \\\n",
    "        \"path=/srv/moodle/misc/fluentd state=directory\"\n",
    "    !ansible {target_group} -b -m shell -a \\\n",
    "        \"rm -rf /srv/moodle/misc/fluentd/* \\\n",
    "        && cp -a /etc/fluentd/* /srv/moodle/misc/fluentd/\" || true"
   ]
  },
  {
   "cell_type": "markdown",
   "metadata": {
    "hidden": true
   },
   "source": [
    "`group_vars`に記録したパラメータをバックアップするために、構築環境の`/srv/moodle/misc/group_vars` にコピーします。"
   ]
  },
  {
   "cell_type": "code",
   "execution_count": null,
   "metadata": {
    "hidden": true,
    "scrolled": true
   },
   "outputs": [],
   "source": [
    "!ansible {target_group} -b -m shell -a 'chdir=/srv/moodle/misc \\\n",
    "        test -d group_vars \\\n",
    "        && mv group_vars .group_vars.$(date +\"%Y%m%d%H%M%S\")' \\\n",
    "    || true\n",
    "!ansible {target_group} -m copy \\\n",
    "    -a 'src=group_vars/{target_group} dest=/srv/moodle/misc/group_vars/'"
   ]
  },
  {
   "cell_type": "markdown",
   "metadata": {
    "hidden": true
   },
   "source": [
    "Moodleキャッシュなどのバックアップ対象から外すディレクトリを指定します。前節のバックアップ対象であるDBデータを格納しているディレクトリ `db/data`、データベースをリストアするためのSQLファイルを格納しているディレクトリ `db/sql`も除外対象としています。"
   ]
  },
  {
   "cell_type": "code",
   "execution_count": null,
   "metadata": {
    "hidden": true,
    "scrolled": true
   },
   "outputs": [],
   "source": [
    "exclude_dir_list = [\n",
    "    './moodle/data/moodledata/cache',\n",
    "    './moodle/data/moodledata/localcache',\n",
    "    './moodle/data/moodledata/sessions',\n",
    "    './moodle/data/moodledata/temp',\n",
    "    './moodle/data/moodledata/trashdir',\n",
    "    './db/data',\n",
    "    './db/sql',\n",
    "    f'./misc/group_vars/{target_group}/10-node.yml',\n",
    "]"
   ]
  },
  {
   "cell_type": "markdown",
   "metadata": {
    "hidden": true
   },
   "source": [
    "除外ディレクトリのリストをファイルに書き込みます。"
   ]
  },
  {
   "cell_type": "code",
   "execution_count": null,
   "metadata": {
    "hidden": true,
    "scrolled": true
   },
   "outputs": [],
   "source": [
    "from tempfile import TemporaryDirectory\n",
    "from pathlib import Path\n",
    "\n",
    "tmpdir = !ansible {target_group} -a 'mktemp -d'\n",
    "with TemporaryDirectory() as workdir:\n",
    "    exclude_file = Path(workdir) / 'exclude'\n",
    "    with exclude_file.open(mode='w') as f:\n",
    "        for line in exclude_dir_list:\n",
    "            print(line, file=f)\n",
    "    !cat {exclude_file}\n",
    "    !ansible {target_group} -m copy -a 'src={str(exclude_file)} dest={tmpdir[1]}/'"
   ]
  },
  {
   "cell_type": "markdown",
   "metadata": {
    "hidden": true
   },
   "source": [
    "バックアップの保存先となるS3uriを確認します。保存先のディレクトリはDBデータのバックアップの保存先と同じディレクトリとします。"
   ]
  },
  {
   "cell_type": "code",
   "execution_count": null,
   "metadata": {
    "hidden": true,
    "scrolled": true
   },
   "outputs": [],
   "source": [
    "s3_moodle_dest = s3_prefix + 'moodle.tar.gz'\n",
    "print(s3_moodle_dest)"
   ]
  },
  {
   "cell_type": "markdown",
   "metadata": {
    "hidden": true
   },
   "source": [
    "バックアップを作成します。"
   ]
  },
  {
   "cell_type": "code",
   "execution_count": null,
   "metadata": {
    "hidden": true,
    "scrolled": true
   },
   "outputs": [],
   "source": [
    "!ansible {target_group} -m shell -a \\\n",
    "    'bash -c \"sudo tar czpf - -C /srv/moodle -X {tmpdir[1]}/exclude .\" \\\n",
    "    | env AWS_ACCESS_KEY_ID={aws_access_key} AWS_SECRET_ACCESS_KEY=\"{aws_secret_key}\" \\\n",
    "    aws s3 cp - {s3_moodle_dest}'"
   ]
  },
  {
   "cell_type": "markdown",
   "metadata": {
    "hidden": true
   },
   "source": [
    "除外ディレクトリのファイルを格納していた作業ディレクトリを削除します。"
   ]
  },
  {
   "cell_type": "code",
   "execution_count": null,
   "metadata": {
    "hidden": true,
    "scrolled": true
   },
   "outputs": [],
   "source": [
    "!ansible {target_group} -a 'rm -r {tmpdir[1]}'"
   ]
  },
  {
   "cell_type": "markdown",
   "metadata": {
    "hidden": true
   },
   "source": [
    "### コンテナイメージ\n",
    "\n",
    "コンテナイメージのバックアップを作成します。"
   ]
  },
  {
   "cell_type": "markdown",
   "metadata": {
    "hidden": true
   },
   "source": [
    "> レポジトリから取得したコンテナイメージを変更せずに利用している場合は、この節をスキップすることも可能です。"
   ]
  },
  {
   "cell_type": "markdown",
   "metadata": {
    "hidden": true
   },
   "source": [
    "Moodle環境を構成しているコンテナイメージ名を取得します。"
   ]
  },
  {
   "cell_type": "code",
   "execution_count": null,
   "metadata": {
    "hidden": true,
    "scrolled": true
   },
   "outputs": [],
   "source": [
    "out = !ansible {target_group} -a 'chdir=/srv/moodle docker compose images'\n",
    "images = [':'.join(x.split()[1:3]) for x in out[2:]]\n",
    "for x in images:\n",
    "    print(x)"
   ]
  },
  {
   "cell_type": "markdown",
   "metadata": {
    "hidden": true
   },
   "source": [
    "バックアップの保存先となるS3uriを確認します。保存先のディレクトリは他のバックアップの保存先と同じディレクトリとします。"
   ]
  },
  {
   "cell_type": "code",
   "execution_count": null,
   "metadata": {
    "hidden": true,
    "scrolled": true
   },
   "outputs": [],
   "source": [
    "s3_img_dest = s3_prefix + 'container-image.tar.gz'\n",
    "print(s3_img_dest)"
   ]
  },
  {
   "cell_type": "markdown",
   "metadata": {
    "hidden": true
   },
   "source": [
    "バックアップを作成します。"
   ]
  },
  {
   "cell_type": "code",
   "execution_count": null,
   "metadata": {
    "hidden": true,
    "scrolled": true
   },
   "outputs": [],
   "source": [
    "!ansible {target_group} -m shell \\\n",
    "    -a 'docker save {\" \".join(images)} \\\n",
    "    | gzip | env AWS_ACCESS_KEY_ID={aws_access_key} AWS_SECRET_ACCESS_KEY=\"{aws_secret_key}\" \\\n",
    "    aws s3 cp - {s3_img_dest}'"
   ]
  },
  {
   "cell_type": "markdown",
   "metadata": {
    "hidden": true
   },
   "source": [
    "### バックアップファイルの確認\n",
    "\n",
    "作成したバックアップの一覧を表示し、バックアップが作成されたことを確認します。"
   ]
  },
  {
   "cell_type": "code",
   "execution_count": null,
   "metadata": {
    "hidden": true,
    "scrolled": true
   },
   "outputs": [],
   "source": [
    "!ansible {target_group} -a \\\n",
    "    'env AWS_ACCESS_KEY_ID={aws_access_key} AWS_SECRET_ACCESS_KEY=\"{aws_secret_key}\" \\\n",
    "    aws s3 ls {s3_prefix}'"
   ]
  },
  {
   "cell_type": "markdown",
   "metadata": {
    "heading_collapsed": true,
    "hidden": true
   },
   "source": [
    "### メンテナンスモードの解除\n",
    "\n",
    "メンテナンスモードを解除し、バックアップ作業を終了します。"
   ]
  },
  {
   "cell_type": "code",
   "execution_count": null,
   "metadata": {
    "hidden": true,
    "scrolled": true
   },
   "outputs": [],
   "source": [
    "!ansible {target_group} -a 'chdir=/srv/moodle docker compose exec -T moodle \\\n",
    "    /usr/bin/php /var/www/html/admin/cli/maintenance.php --disable'"
   ]
  }
 ],
 "metadata": {
  "kernelspec": {
   "display_name": "Python 3",
   "language": "python",
   "name": "python3"
  },
  "language_info": {
   "file_extension": ".py",
   "mimetype": "text/x-python",
   "name": "python",
   "nbconvert_exporter": "python",
   "pygments_lexer": "ipython3",
   "version": "3.10.4"
  },
  "toc": {
   "base_numbering": 1,
   "nav_menu": {},
   "number_sections": true,
   "sideBar": true,
   "skip_h1_title": true,
   "title_cell": "Table of Contents",
   "title_sidebar": "Contents",
   "toc_cell": false,
   "toc_position": {},
   "toc_section_display": true,
   "toc_window_display": true
  }
 },
 "nbformat": 4,
 "nbformat_minor": 2
}