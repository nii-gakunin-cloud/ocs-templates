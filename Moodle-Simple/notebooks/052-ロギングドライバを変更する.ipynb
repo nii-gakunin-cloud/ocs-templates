{
 "cells": [
  {
   "cell_type": "markdown",
   "metadata": {},
   "source": [
    "# About: ロギングドライバを変更する--fluentd\n",
    "---\n",
    "\n",
    "`compose.yaml`を編集してMoodleコンテナのロギングドライバを変更します。"
   ]
  },
  {
   "cell_type": "markdown",
   "metadata": {},
   "source": [
    "## 概要\n",
    "\n",
    "VCノードとして起動したノードではfluentdがサービスとして実行されています。このNotebookではコンテナログやコンテナ内で実行されているサービスのログをVCノードのfluentdを経由して他ホストのfluentdに転送する設定を行います。\n",
    "\n",
    "![処理の流れ](images/moodle-052-01.png)"
   ]
  },
  {
   "cell_type": "markdown",
   "metadata": {},
   "source": [
    "1. 他ホストのfluentdにログを転送するfluentdの設定ファイルを配置する\n",
    "1. `/var/log/httpd/*` などホスト側に出力されるログファイルをfluentdで読み込む設定ファイルを配置する\n",
    "1. ホスト環境の `fluentd` を再起動して追加した設定を反映する\n",
    "1. コンテナのロギングドライバ設定を追加した`compose.yaml`を配置する\n",
    "1. ロギング設定の変更を反映するためにコンテナを起動し直す"
   ]
  },
  {
   "cell_type": "markdown",
   "metadata": {},
   "source": [
    "### 前提条件\n",
    "\n",
    "このNotebookでの設定手順の前提となる条件を以下に示します。"
   ]
  },
  {
   "cell_type": "markdown",
   "metadata": {},
   "source": [
    "* 転送先の fluentd が、Moodle構築環境から転送したログを受け取ることができること\n",
    "* 「011-VCノードの作成.ipynb」でノードを作成していること\n",
    "\n",
    "このNotebookで示している設定手順はVCノードにあらかじめ組み込まれているfluentdの機能を前提としたものとなっています。そのためノードの作成は「011-VCノードの作成.ipynb」で行なう必要があります。"
   ]
  },
  {
   "cell_type": "markdown",
   "metadata": {},
   "source": [
    "## 準備"
   ]
  },
  {
   "cell_type": "markdown",
   "metadata": {},
   "source": [
    "### グループ名の指定\n",
    "\n",
    "このNotebookの操作対象となるAnsibleのグループ名を設定します。"
   ]
  },
  {
   "cell_type": "markdown",
   "metadata": {},
   "source": [
    "既存のグループ名を確認するために`group_vars`にあるディレクトリの一覧を表示します。"
   ]
  },
  {
   "cell_type": "code",
   "execution_count": null,
   "metadata": {},
   "outputs": [],
   "source": [
    "!ls -1 group_vars/"
   ]
  },
  {
   "cell_type": "markdown",
   "metadata": {},
   "source": [
    "上のセルの出力結果を参考にしてAnsibleのグループ名を次のセルに指定してください。"
   ]
  },
  {
   "cell_type": "code",
   "execution_count": null,
   "metadata": {},
   "outputs": [],
   "source": [
    "# (例)\n",
    "# target_group = 'Moodle'\n",
    "\n",
    "target_group = "
   ]
  },
  {
   "cell_type": "markdown",
   "metadata": {
    "heading_collapsed": true
   },
   "source": [
    "#### チェック\n",
    "\n",
    "指定された `target_group` の値が適切であることをチェックします。またfluentdの設定を行うための前提条件に合致しているかの簡単なチェックも行います。"
   ]
  },
  {
   "cell_type": "markdown",
   "metadata": {
    "hidden": true
   },
   "source": [
    "`target_group` に対応する設定ファイルが存在していることを確認します。"
   ]
  },
  {
   "cell_type": "code",
   "execution_count": null,
   "metadata": {
    "hidden": true
   },
   "outputs": [],
   "source": [
    "from pathlib import Path\n",
    "\n",
    "target_dir = Path('group_vars') / target_group\n",
    "if not (target_dir.is_dir() and len(list(target_dir.glob(\"*\"))) > 0):\n",
    "    target_file = Path('group_vars') / f\"{target_group}.yml\"\n",
    "    if target_file.is_file():\n",
    "        target_dir.mkdir(exist_ok=True)\n",
    "        target_file.rename(target_dir / \"00-moodle.yml\")\n",
    "    else:\n",
    "        raise RuntimeError(f\"ERROR: not exists {target_group}\")"
   ]
  },
  {
   "cell_type": "markdown",
   "metadata": {
    "hidden": true
   },
   "source": [
    "`target_group`で指定したホストにAnsibleで到達可能であることを確認します。"
   ]
  },
  {
   "cell_type": "code",
   "execution_count": null,
   "metadata": {
    "hidden": true
   },
   "outputs": [],
   "source": [
    "!ansible {target_group} -m ping"
   ]
  },
  {
   "cell_type": "markdown",
   "metadata": {
    "hidden": true
   },
   "source": [
    "管理者権限でコマンド実行可能であることを確認します。"
   ]
  },
  {
   "cell_type": "code",
   "execution_count": null,
   "metadata": {
    "hidden": true
   },
   "outputs": [],
   "source": [
    "# 管理者権限(-b)でのコマンド実行\n",
    "!ansible {target_group} -b -a 'whoami'"
   ]
  },
  {
   "cell_type": "markdown",
   "metadata": {
    "hidden": true
   },
   "source": [
    "構築環境でfluentdサービスが実行されていることを確認します。"
   ]
  },
  {
   "cell_type": "code",
   "execution_count": null,
   "metadata": {
    "hidden": true,
    "scrolled": true
   },
   "outputs": [],
   "source": [
    "!ansible {target_group} -b -a 'systemctl status fluentd'"
   ]
  },
  {
   "cell_type": "markdown",
   "metadata": {
    "hidden": true
   },
   "source": [
    "ポート 24224 でリッスンしていることを確認します。"
   ]
  },
  {
   "cell_type": "code",
   "execution_count": null,
   "metadata": {
    "hidden": true
   },
   "outputs": [],
   "source": [
    "!ansible {target_group} -m shell -a '/sbin/ss -nlt | grep 24224'"
   ]
  },
  {
   "cell_type": "markdown",
   "metadata": {},
   "source": [
    "## パラメータ設定"
   ]
  },
  {
   "cell_type": "markdown",
   "metadata": {},
   "source": [
    "### 転送先となるfluentdの指定\n",
    "\n",
    "ログの送信先となる fluentd サーバを指定します。"
   ]
  },
  {
   "cell_type": "markdown",
   "metadata": {},
   "source": [
    "> VCノードではログをVCコントローラに転送する設定があらかじめ組み込まれています。VCコントローラのみにログを転送すれば十分な場合はこの節での設定は不要です。次節の「3.2 転送対象とするホスト環境のログを指定する」にスキップしてください。"
   ]
  },
  {
   "cell_type": "markdown",
   "metadata": {},
   "source": [
    "ログの転送先となるfluentdサーバのホスト名（IPアドレス）を指定してください。"
   ]
  },
  {
   "cell_type": "code",
   "execution_count": null,
   "metadata": {},
   "outputs": [],
   "source": [
    "# (例)\n",
    "# fluentd_server = 'fluentd.example.org'\n",
    "# fluentd_server = '192.168.200.200'\n",
    "\n",
    "fluentd_server = "
   ]
  },
  {
   "cell_type": "markdown",
   "metadata": {},
   "source": [
    "ログの転送先となるfluentdサーバのポート番号を指定してください。"
   ]
  },
  {
   "cell_type": "code",
   "execution_count": null,
   "metadata": {},
   "outputs": [],
   "source": [
    "# (例)\n",
    "# fluentd_port = 24224\n",
    "\n",
    "fluentd_port = 24224"
   ]
  },
  {
   "cell_type": "markdown",
   "metadata": {
    "heading_collapsed": true
   },
   "source": [
    "#### パラメータの保存\n",
    "\n",
    "この節で指定したパラメータの値をファイルに保存します。"
   ]
  },
  {
   "cell_type": "markdown",
   "metadata": {
    "hidden": true
   },
   "source": [
    "パラメータの値をファイルに保存します。"
   ]
  },
  {
   "cell_type": "code",
   "execution_count": null,
   "metadata": {
    "hidden": true
   },
   "outputs": [],
   "source": [
    "%run scripts/group.py\n",
    "update_group_vars(\n",
    "    target_group,\n",
    "    _file=\"50-logging.yml\",\n",
    "    logging_driver='fluentd',\n",
    "    fluentd_server=fluentd_server,\n",
    "    fluentd_port=fluentd_port,\n",
    ")"
   ]
  },
  {
   "cell_type": "markdown",
   "metadata": {
    "hidden": true
   },
   "source": [
    "`group_vars`ファイルの内容を確認してみます。"
   ]
  },
  {
   "cell_type": "code",
   "execution_count": null,
   "metadata": {
    "hidden": true
   },
   "outputs": [],
   "source": [
    "!cat group_vars/{target_group}/50-logging.yml"
   ]
  },
  {
   "cell_type": "markdown",
   "metadata": {},
   "source": [
    "### 転送対象とするホスト環境のログを指定する\n",
    "\n",
    "コンテナで実行しているApache HTTP serverなどのサービスのログはホスト環境の`/var/log/`に記録されています。これらのログを fluentdから読み込むようにする際に必要となるパラメータの指定を行います。"
   ]
  },
  {
   "cell_type": "markdown",
   "metadata": {},
   "source": [
    "ホスト側に記録されるログとコンテナとの関係を次表に示します。\n",
    "\n",
    "|コンテナ|パス|\n",
    "|:---|:---|\n",
    "|db|/var/log/mysql/error.log|\n",
    "|moodle|/var/log/httpd/access_log|\n",
    "|moodle|/var/log/httpd/error_log|\n",
    "|httpd|/var/log/httpd/access_log|\n",
    "|httpd|/var/log/httpd/error_log|\n",
    "|httpd|/var/log/httpd/ssl_access_log|\n",
    "|httpd|/var/log/httpd/ssl_error_log|\n",
    "|shibboleth|/var/log/httpd/access_log|\n",
    "|shibboleth|/var/log/httpd/error_log|\n",
    "|shibboleth|/var/log/httpd/ssl_access_log|\n",
    "|shibboleth|/var/log/httpd/ssl_error_log|\n",
    "|shibboleth|/var/log/shibboleth/shibd.log|\n",
    "|shibboleth|/var/log/shibboleth/shibd_warn.log|\n",
    "|shibboleth|/var/log/shibboleth/signature.log|\n",
    "|shibboleth|/var/log/shibboleth/transaction.log|\n",
    "\n",
    "\n",
    "これらのログは[in_tail](https://docs.fluentd.org/input/tail)プラグインの機能を利用してMoodle構築環境で実行しているfluentdから読みむように設定します。in_tailプラグインに関するパラメータを次のセルで指定してください。例えば、\n",
    "```python\n",
    "[\n",
    "    {\n",
    "        \"path\": \"/var/log/httpd/access_log\",\n",
    "        \"tag\": \"ocs.app.httpd\",\n",
    "        \"pos_file\": \"/var/run/log/fluentd/httpd_access_log.pos\",\n",
    "        \"parse\": {\n",
    "            \"@type\": \"apache2\",\n",
    "        },\n",
    "    },\n",
    "]\n",
    "```\n",
    "のように指定すると、以下に示すfluentdの設定が生成されます。\n",
    "\n",
    "```\n",
    "<source>\n",
    "    @type tail\n",
    "    path \"/var/log/httpd/access_log\"\n",
    "    tag \"ocs.app.httpd\"\n",
    "    pos_file \"/var/run/log/fluentd/httpd_access_log.pos\"\n",
    "    <parse>\n",
    "        @type \"apache2\"\n",
    "    </parse>\n",
    "</source>\n",
    "```\n",
    "\n",
    "\n",
    "> httpdコンテナ、shibbolethコンテナに関連するログファイルはコメントアウトしています。必要に応じてコメントを外してください。"
   ]
  },
  {
   "cell_type": "code",
   "execution_count": null,
   "metadata": {},
   "outputs": [],
   "source": [
    "fluentd_configs = [\n",
    "    {\n",
    "        \"path\": \"/var/log/mysql/error.log\",\n",
    "        \"tag\": \"ocs.app.mariadb\",\n",
    "        \"parse\": {\n",
    "            \"@type\": \"none\",\n",
    "        },\n",
    "        \"pos_file\": \"/var/run/log/fluentd/mysql_error_log.pos\",\n",
    "    },\n",
    "    {\n",
    "        \"path\": \"/var/log/httpd/access_log\",\n",
    "        \"tag\": \"ocs.app.httpd\",\n",
    "        \"parse\": {\n",
    "            \"@type\": \"apache2\",\n",
    "        },\n",
    "        \"pos_file\": \"/var/run/log/fluentd/httpd_access_log.pos\",\n",
    "    },\n",
    "    {\n",
    "        \"path\": \"/var/log/httpd/error_log\",\n",
    "        \"tag\": \"ocs.app.httpd\",\n",
    "        \"parse\": {\n",
    "            \"@type\": \"apache_error\",\n",
    "        },\n",
    "        \"pos_file\": \"/var/run/log/fluentd/httpd_error_log.pos\",\n",
    "    },\n",
    "\n",
    "### httpd\n",
    "#    {\n",
    "#        \"path\": \"/var/log/httpd/ssl_access_log\",\n",
    "#        \"tag\": \"ocs.app.httpd\",\n",
    "#        \"parse\": {\n",
    "#            \"@type\": \"apache2\",\n",
    "#        },\n",
    "#        \"pos_file\": \"/var/run/log/fluentd/httpd_ssl_access_log.pos\",\n",
    "#    },\n",
    "#    {\n",
    "#        \"path\": \"/var/log/httpd/ssl_error_log\",\n",
    "#        \"tag\": \"ocs.app.httpd\",\n",
    "#        \"parse\": {\n",
    "#            \"@type\": \"apache_error\",\n",
    "#        },\n",
    "#        \"pos_file\": \"/var/run/log/fluentd/httpd_ssl_error_log.pos\",\n",
    "#    },\n",
    "    \n",
    "### shibboleth\n",
    "#    {\n",
    "#        \"path\": \"/var/log/shibboleth/shibd.log\",\n",
    "#        \"tag\": \"ocs.app.shibboleth\",\n",
    "#        \"parse\": {\n",
    "#            \"@type\": \"none\",\n",
    "#        },\n",
    "#        \"pos_file\": \"/var/run/log/fluentd/shibboleth_shibd_log.pos\",\n",
    "#    },\n",
    "#    {\n",
    "#        \"path\": \"/var/log/shibboleth/shibd_warn.log\",\n",
    "#        \"tag\": \"ocs.app.shibboleth.warn\",\n",
    "#        \"parse\": {\n",
    "#            \"@type\": \"none\",\n",
    "#        },\n",
    "#        \"pos_file\": \"/var/run/log/fluentd/shibboleth_shibd_warn_log.pos\",\n",
    "#    },\n",
    "#    {\n",
    "#        \"path\": \"/var/log/shibboleth/transaction.log\",\n",
    "#        \"tag\": \"ocs.app.shibboleth.transaction\",\n",
    "#        \"parse\": {\n",
    "#            \"@type\": \"none\",\n",
    "#        },\n",
    "#        \"pos_file\": \"/var/run/log/fluentd/shibboleth_transaction_log.pos\",\n",
    "#    },\n",
    "#    {\n",
    "#        \"path\": \"/var/log/shibboleth/signature.log\",\n",
    "#        \"tag\": \"ocs.app.shibboleth.signature\",\n",
    "#        \"parse\": {\n",
    "#            \"@type\": \"none\",\n",
    "#        },\n",
    "#        \"pos_file\": \"/var/run/log/fluentd/shibboleth_signature_log.pos\",\n",
    "#    },\n",
    "]"
   ]
  },
  {
   "cell_type": "markdown",
   "metadata": {
    "heading_collapsed": true
   },
   "source": [
    "#### パラメータの保存\n",
    "\n",
    "この節で指定したパラメータの値をファイルに保存します。"
   ]
  },
  {
   "cell_type": "code",
   "execution_count": null,
   "metadata": {
    "hidden": true
   },
   "outputs": [],
   "source": [
    "%run scripts/group.py\n",
    "update_group_vars(\n",
    "    target_group,\n",
    "    _file=\"50-logging.yml\",\n",
    "    logging_driver='fluentd',\n",
    "    fluentd_configs=fluentd_configs,\n",
    ")"
   ]
  },
  {
   "cell_type": "markdown",
   "metadata": {
    "hidden": true
   },
   "source": [
    "`group_vars`ファイルの内容を確認してみます。"
   ]
  },
  {
   "cell_type": "code",
   "execution_count": null,
   "metadata": {
    "hidden": true,
    "scrolled": true
   },
   "outputs": [],
   "source": [
    "!cat group_vars/{target_group}/50-logging.yml"
   ]
  },
  {
   "cell_type": "markdown",
   "metadata": {},
   "source": [
    "### コンテナのログ設定に関するパラメータの指定\n",
    "\n",
    "コンテナのロギング設定に関するオプションを指定します。指定するパラメータは[Fluentd logging driver - Options](https://docs.docker.com/config/containers/logging/fluentd/#options)に記されているものをキー、バリューの形で指定します。"
   ]
  },
  {
   "cell_type": "markdown",
   "metadata": {},
   "source": [
    "例えば `fluentd-buffer-limit` に `2097152` を設定する場合は、以下のような指定を行います。\n",
    "\n",
    "```python\n",
    "logging_options = {\n",
    "    \"fluentd-buffer-limit\": 2097152,\n",
    "}\n",
    "```\n",
    "\n",
    "コンテナログは構築環境のVCノードで実行しているfluentdを経由して送信されるため`fluentd-address`の値を`logging_options`で指定する必要はありません。"
   ]
  },
  {
   "cell_type": "code",
   "execution_count": null,
   "metadata": {},
   "outputs": [],
   "source": [
    "logging_options = {\n",
    "\n",
    "}"
   ]
  },
  {
   "cell_type": "markdown",
   "metadata": {},
   "source": [
    "ロギングオプションの`tag`に指定するパラメータを指定します。指定する値はコンテナごとに異なる値を指定します。次のセルではキーに`compose.yaml`のサービス名を、バリューに`tag`に設定する値をdict 型の変数として指定を行います。\n",
    "\n",
    "「021-Moodleコンテナの起動.ipynb」で構築した環境では`db`コンテナ、`moodle`コンテナの2つのコンテナ飲みで構成されています。「071-HTTPS接続に変更する.ipynb」「221-Shibboleth認証の設定.ipynb」を実行しコンテナ構成が変更された場合を考慮して`httpd`コンテナ、`shibboleth`コンテナに対するタグの値もあらかじめ、ここで指定することを推奨します。"
   ]
  },
  {
   "cell_type": "code",
   "execution_count": null,
   "metadata": {},
   "outputs": [],
   "source": [
    "logging_tags = {\n",
    "    'db': 'db',\n",
    "    'moodle': 'moodle',\n",
    "    'httpd': 'httpd',\n",
    "    'shibboleth': 'shibboleth',\n",
    "}"
   ]
  },
  {
   "cell_type": "markdown",
   "metadata": {
    "heading_collapsed": true
   },
   "source": [
    "#### パラメータの保存\n",
    "\n",
    "この節で指定したパラメータの値をファイルに保存します。"
   ]
  },
  {
   "cell_type": "code",
   "execution_count": null,
   "metadata": {
    "hidden": true
   },
   "outputs": [],
   "source": [
    "%run scripts/group.py\n",
    "update_group_vars(\n",
    "    target_group,\n",
    "    _file=\"50-logging.yml\",\n",
    "    logging_driver='fluentd',\n",
    "    logging_options=logging_options if 'logging_options' in vars() else {},\n",
    "    logging_tags=logging_tags if 'logging_tags' in vars() else {},\n",
    ")"
   ]
  },
  {
   "cell_type": "markdown",
   "metadata": {
    "hidden": true
   },
   "source": [
    "`group_vars`ファイルの内容を確認してみます。"
   ]
  },
  {
   "cell_type": "code",
   "execution_count": null,
   "metadata": {
    "hidden": true,
    "scrolled": true
   },
   "outputs": [],
   "source": [
    "!cat group_vars/{target_group}/50-logging.yml"
   ]
  },
  {
   "cell_type": "markdown",
   "metadata": {
    "heading_collapsed": true
   },
   "source": [
    "## fluentdの設定を変更する\n",
    "\n"
   ]
  },
  {
   "cell_type": "markdown",
   "metadata": {
    "hidden": true
   },
   "source": [
    "### 設定ファイルを配置する\n",
    "\n",
    "fluentdの設定ファイルを構築環境に配置します。"
   ]
  },
  {
   "cell_type": "markdown",
   "metadata": {
    "hidden": true
   },
   "source": [
    "#### 転送先に関する設定ファイルの配置"
   ]
  },
  {
   "cell_type": "markdown",
   "metadata": {
    "hidden": true
   },
   "source": [
    "実際に設定ファイルを配置する前にチェックモードで ansible を実行します。"
   ]
  },
  {
   "cell_type": "code",
   "execution_count": null,
   "metadata": {
    "hidden": true
   },
   "outputs": [],
   "source": [
    "!ansible {target_group} -b -CDv -m template \\\n",
    "    -a 'src=template/fluentd/forward.conf.j2 \\\n",
    "    dest=/etc/fluentd/config.d/ocs-output/forward.conf backup=yes'"
   ]
  },
  {
   "cell_type": "markdown",
   "metadata": {
    "hidden": true
   },
   "source": [
    "設定ファイルを構築環境に配置します。"
   ]
  },
  {
   "cell_type": "code",
   "execution_count": null,
   "metadata": {
    "hidden": true
   },
   "outputs": [],
   "source": [
    "!ansible {target_group} -b -m template \\\n",
    "    -a 'src=template/fluentd/forward.conf.j2 \\\n",
    "    dest=/etc/fluentd/config.d/ocs-output/forward.conf backup=yes'"
   ]
  },
  {
   "cell_type": "markdown",
   "metadata": {
    "hidden": true
   },
   "source": [
    "#### ログの読み取り先を指定する設定ファイルの配置"
   ]
  },
  {
   "cell_type": "markdown",
   "metadata": {
    "hidden": true
   },
   "source": [
    "実際に設定ファイルを配置する前にチェックモードで ansible を実行します。"
   ]
  },
  {
   "cell_type": "code",
   "execution_count": null,
   "metadata": {
    "hidden": true
   },
   "outputs": [],
   "source": [
    "!ansible {target_group} -b -CDv -m template \\\n",
    "    -a 'src=template/fluentd/moodle.conf.j2 \\\n",
    "    dest=/etc/fluentd/config.d/moodle.conf backup=yes'"
   ]
  },
  {
   "cell_type": "markdown",
   "metadata": {
    "hidden": true
   },
   "source": [
    "設定ファイルを構築環境に配置します。"
   ]
  },
  {
   "cell_type": "code",
   "execution_count": null,
   "metadata": {
    "hidden": true
   },
   "outputs": [],
   "source": [
    "!ansible {target_group} -b -m template \\\n",
    "    -a 'src=template/fluentd/moodle.conf.j2 \\\n",
    "    dest=/etc/fluentd/config.d/moodle.conf backup=yes'"
   ]
  },
  {
   "cell_type": "markdown",
   "metadata": {
    "hidden": true
   },
   "source": [
    "### 変更を反映する\n",
    "\n",
    "fluentdサービスの再起動を行い、変更を反映させます。"
   ]
  },
  {
   "cell_type": "markdown",
   "metadata": {
    "hidden": true
   },
   "source": [
    "fluentdサービスの再起動を行います。"
   ]
  },
  {
   "cell_type": "code",
   "execution_count": null,
   "metadata": {
    "hidden": true
   },
   "outputs": [],
   "source": [
    "!ansible {target_group} -b -a 'systemctl restart fluentd'"
   ]
  },
  {
   "cell_type": "markdown",
   "metadata": {
    "hidden": true
   },
   "source": [
    "fluentdサービスの状態を確認します。エラーになっていないことを確認してください。"
   ]
  },
  {
   "cell_type": "code",
   "execution_count": null,
   "metadata": {
    "hidden": true
   },
   "outputs": [],
   "source": [
    "!ansible {target_group} -b -a 'systemctl status fluentd'"
   ]
  },
  {
   "cell_type": "markdown",
   "metadata": {
    "heading_collapsed": true
   },
   "source": [
    "## コンテナのロギング設定を変更する\n",
    "\n",
    "コンテナのログをfluentdに転送するための構成変更を行います。"
   ]
  },
  {
   "cell_type": "markdown",
   "metadata": {
    "hidden": true
   },
   "source": [
    "### compose.yaml の配置\n",
    "\n",
    "ロギングドライバの設定を追加した`compose.yaml`を構築環境に配置します。"
   ]
  },
  {
   "cell_type": "markdown",
   "metadata": {
    "hidden": true
   },
   "source": [
    "実際に`compose.yaml`を配置する前にチェックモードで ansible を実行します。"
   ]
  },
  {
   "cell_type": "code",
   "execution_count": null,
   "metadata": {
    "hidden": true
   },
   "outputs": [],
   "source": [
    "!ansible {target_group} -CDv -m template \\\n",
    "    -a 'src=template/compose.yaml.j2 \\\n",
    "    dest=/srv/moodle/compose.yaml backup=yes'"
   ]
  },
  {
   "cell_type": "markdown",
   "metadata": {
    "hidden": true
   },
   "source": [
    "`compose.yaml`を構築環境に配置します。"
   ]
  },
  {
   "cell_type": "code",
   "execution_count": null,
   "metadata": {
    "hidden": true
   },
   "outputs": [],
   "source": [
    "!ansible {target_group} -m template \\\n",
    "    -a 'src=template/compose.yaml.j2 \\\n",
    "    dest=/srv/moodle/compose.yaml backup=yes'"
   ]
  },
  {
   "cell_type": "markdown",
   "metadata": {
    "hidden": true
   },
   "source": [
    "### コンテナ設定の変更を反映する\n",
    "\n",
    "コンテナ設定の変更反映をするためにコンテナを再起動します。"
   ]
  },
  {
   "cell_type": "code",
   "execution_count": null,
   "metadata": {
    "hidden": true
   },
   "outputs": [],
   "source": [
    "!ansible {target_group} -a 'chdir=/srv/moodle \\\n",
    "    docker compose up --wait --remove-orphans'"
   ]
  },
  {
   "cell_type": "markdown",
   "metadata": {
    "hidden": true
   },
   "source": [
    "変更後のコンテナの状態を確認してみます。`State` の値が `Up` となっていることを確認してください。"
   ]
  },
  {
   "cell_type": "code",
   "execution_count": null,
   "metadata": {
    "hidden": true
   },
   "outputs": [],
   "source": [
    "!ansible {target_group} -a 'chdir=/srv/moodle \\\n",
    "    docker compose ps'"
   ]
  },
  {
   "cell_type": "markdown",
   "metadata": {
    "hidden": true
   },
   "source": [
    "送信先のfluentdにログが転送されていることを確認してください。"
   ]
  }
 ],
 "metadata": {
  "kernelspec": {
   "display_name": "Python 3",
   "language": "python",
   "name": "python3"
  },
  "language_info": {
   "file_extension": ".py",
   "mimetype": "text/x-python",
   "name": "python",
   "nbconvert_exporter": "python",
   "pygments_lexer": "ipython3",
   "version": "3.10.4"
  },
  "toc": {
   "base_numbering": 1,
   "nav_menu": {},
   "number_sections": true,
   "sideBar": true,
   "skip_h1_title": true,
   "title_cell": "Table of Contents",
   "title_sidebar": "Contents",
   "toc_cell": false,
   "toc_position": {},
   "toc_section_display": true,
   "toc_window_display": true
  }
 },
 "nbformat": 4,
 "nbformat_minor": 2
}