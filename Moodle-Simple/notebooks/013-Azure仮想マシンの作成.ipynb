{
 "cells": [
  {
   "cell_type": "markdown",
   "metadata": {},
   "source": [
    "# About: Azure仮想マシンの作成\n",
    "\n",
    "---\n",
    "\n",
    "Moodle環境を構築するためのAzure仮想マシンを作成します。"
   ]
  },
  {
   "cell_type": "markdown",
   "metadata": {},
   "source": [
    "## 概要"
   ]
  },
  {
   "cell_type": "markdown",
   "metadata": {},
   "source": [
    "### 前提条件\n",
    "\n",
    "このNotebookでAzureに仮想マシンを作成する際の前提条件を以下に示します。"
   ]
  },
  {
   "cell_type": "markdown",
   "metadata": {},
   "source": [
    "* Azureの[サービスプリンシパル](https://docs.microsoft.com/ja-jp/cli/azure/create-an-azure-service-principal-azure-cli?view=azure-cli-latest)\n",
    "\n",
    "* 起動したAzureの仮想マシンに対して、このNotebook環境からsshでログイン可能であること\n",
    "    - ネットワーク的に到達可能なこと\n",
    "    - ログインするためのSSH鍵ファイルをこのNotebook環境に配置してあること"
   ]
  },
  {
   "cell_type": "markdown",
   "metadata": {
    "heading_collapsed": true
   },
   "source": [
    "### 準備\n",
    "\n",
    "Azureの仮想マシンを作成するために必要となるライブラリをインストールします。"
   ]
  },
  {
   "cell_type": "markdown",
   "metadata": {
    "hidden": true
   },
   "source": [
    "現在の環境にインストールされているライブラリとの競合をさけるためにvenvで独立した環境を構築します。\n",
    "\n",
    "まず venv で仮想環境を作成します。"
   ]
  },
  {
   "cell_type": "code",
   "execution_count": null,
   "metadata": {
    "hidden": true,
    "scrolled": true
   },
   "outputs": [],
   "source": [
    "!python -mvenv .venv"
   ]
  },
  {
   "cell_type": "markdown",
   "metadata": {
    "hidden": true
   },
   "source": [
    "venvの環境に ansible で Azureを操作するのに必要となるライブラリをインストールします。"
   ]
  },
  {
   "cell_type": "code",
   "execution_count": null,
   "metadata": {
    "hidden": true,
    "scrolled": true
   },
   "outputs": [],
   "source": [
    "!.venv/bin/pip install ansible-core\n",
    "!.venv/bin/ansible-galaxy collection install -f azure.azcollection:3.5.0\n",
    "!.venv/bin/pip install -r $HOME/.ansible/collections/ansible_collections/azure/azcollection/requirements.txt"
   ]
  },
  {
   "cell_type": "markdown",
   "metadata": {},
   "source": [
    "## パラメータの設定\n",
    "\n",
    "このNotebookで作成するAzure仮想マシンのパラメータを設定します。"
   ]
  },
  {
   "cell_type": "markdown",
   "metadata": {},
   "source": [
    "### Azureの認証情報の設定\n",
    "\n",
    "Azureの操作を行うために必要とサービスプリンシパルに関する情報を指定します。"
   ]
  },
  {
   "cell_type": "markdown",
   "metadata": {},
   "source": [
    "> この節で指定するAzureのサービスプリンシパルを取得する手順については「[Azure CLI で Azure サービス プリンシパルを作成する](https://docs.microsoft.com/ja-jp/cli/azure/create-an-azure-service-principal-azure-cli?view=azure-cli-latest)」などを参照してください。"
   ]
  },
  {
   "cell_type": "markdown",
   "metadata": {},
   "source": [
    "次のセルを実行すると入力枠が表示されるのでサブスクリプションIDの値を入力してください。\n",
    "\n",
    "> 入力後に Enter キーを押すことで入力が完了します。"
   ]
  },
  {
   "cell_type": "code",
   "execution_count": null,
   "metadata": {
    "tags": [
     "vcp:skip",
     "vcp:parameters"
    ]
   },
   "outputs": [],
   "source": [
    "from getpass import getpass\n",
    "azure_subscription_id = getpass()"
   ]
  },
  {
   "cell_type": "markdown",
   "metadata": {},
   "source": [
    "テナントIDを入力してください。"
   ]
  },
  {
   "cell_type": "code",
   "execution_count": null,
   "metadata": {
    "tags": [
     "vcp:skip",
     "vcp:parameters"
    ]
   },
   "outputs": [],
   "source": [
    "azure_tenant = getpass()"
   ]
  },
  {
   "cell_type": "markdown",
   "metadata": {},
   "source": [
    "クライアントIDを入力してください。"
   ]
  },
  {
   "cell_type": "code",
   "execution_count": null,
   "metadata": {
    "tags": [
     "vcp:skip",
     "vcp:parameters"
    ]
   },
   "outputs": [],
   "source": [
    "azure_client_id = getpass()"
   ]
  },
  {
   "cell_type": "markdown",
   "metadata": {},
   "source": [
    "シークレットを入力してください。"
   ]
  },
  {
   "cell_type": "code",
   "execution_count": null,
   "metadata": {
    "tags": [
     "vcp:skip",
     "vcp:parameters"
    ]
   },
   "outputs": [],
   "source": [
    "azure_secret = getpass()"
   ]
  },
  {
   "cell_type": "markdown",
   "metadata": {},
   "source": [
    "このNotebookから実行するコマンドでAzureのサービスプリンシパルを参照できるようにするために、[環境変数(`AZURE_SUBSCRIPTION_ID`, `AZURE_TENANT`, `AZURE_CLIENT_ID`, `AZURE_SECRET`)](https://docs.microsoft.com/ja-jp/azure/developer/ansible/install-on-linux-vm#env-credentials)の設定を行います。"
   ]
  },
  {
   "cell_type": "code",
   "execution_count": null,
   "metadata": {},
   "outputs": [],
   "source": [
    "import os\n",
    "\n",
    "os.environ['AZURE_SUBSCRIPTION_ID'] = azure_subscription_id\n",
    "os.environ['AZURE_TENANT'] = azure_tenant\n",
    "os.environ['AZURE_CLIENT_ID'] = azure_client_id\n",
    "os.environ['AZURE_SECRET'] = azure_secret"
   ]
  },
  {
   "cell_type": "markdown",
   "metadata": {},
   "source": [
    "### 仮想マシンの名前の指定"
   ]
  },
  {
   "cell_type": "code",
   "execution_count": null,
   "metadata": {
    "tags": [
     "vcp:skip",
     "vcp:parameters"
    ]
   },
   "outputs": [],
   "source": [
    "# (例)\n",
    "# azure_vm_name = 'moodle'\n",
    "\n",
    "azure_vm_name = "
   ]
  },
  {
   "cell_type": "markdown",
   "metadata": {},
   "source": [
    "### リソースグループの指定\n",
    "\n",
    "仮想マシンを作成するリソースグループを指定してください。"
   ]
  },
  {
   "cell_type": "code",
   "execution_count": null,
   "metadata": {
    "tags": [
     "vcp:skip",
     "vcp:parameters"
    ]
   },
   "outputs": [],
   "source": [
    "# (例)\n",
    "# azure_resource_group = 'resource-group'\n",
    "\n",
    "azure_resource_group = "
   ]
  },
  {
   "cell_type": "markdown",
   "metadata": {},
   "source": [
    "### ネットワークの指定"
   ]
  },
  {
   "cell_type": "markdown",
   "metadata": {},
   "source": [
    "仮想ネットワーク名を指定してください。"
   ]
  },
  {
   "cell_type": "code",
   "execution_count": null,
   "metadata": {
    "tags": [
     "vcp:skip",
     "vcp:parameters"
    ]
   },
   "outputs": [],
   "source": [
    "# (例)\n",
    "# azure_virtual_network_name = 'virtual-network-name'\n",
    "\n",
    "azure_virtual_network_name = "
   ]
  },
  {
   "cell_type": "markdown",
   "metadata": {},
   "source": [
    "サブネット名を指定してください。"
   ]
  },
  {
   "cell_type": "code",
   "execution_count": null,
   "metadata": {
    "tags": [
     "vcp:skip",
     "vcp:parameters"
    ]
   },
   "outputs": [],
   "source": [
    "# (例)\n",
    "# azure_subnet_name = 'subnet-name'\n",
    "\n",
    "azure_subnet_name = "
   ]
  },
  {
   "cell_type": "markdown",
   "metadata": {},
   "source": [
    "### 仮想マシンに割り当てるリソースの指定\n",
    "\n",
    "起動する仮想マシンに割り当てるリソース量を指定します。"
   ]
  },
  {
   "cell_type": "markdown",
   "metadata": {},
   "source": [
    "仮想マシンの[サイズ](https://docs.microsoft.com/ja-jp/azure/virtual-machines/linux/sizes)を指定してください。"
   ]
  },
  {
   "cell_type": "code",
   "execution_count": null,
   "metadata": {
    "tags": [
     "vcp:skip",
     "vcp:parameters"
    ]
   },
   "outputs": [],
   "source": [
    "# (例)\n",
    "# azure_vm_size = 'Standard_D2s_v3'\n",
    "# azure_vm_size = 'Standard_B2s'\n",
    "\n",
    "azure_vm_size = "
   ]
  },
  {
   "cell_type": "markdown",
   "metadata": {},
   "source": [
    "OSディスクのサイズ(GB)を指定してください。"
   ]
  },
  {
   "cell_type": "code",
   "execution_count": null,
   "metadata": {
    "tags": [
     "vcp:skip",
     "vcp:parameters"
    ]
   },
   "outputs": [],
   "source": [
    "# (例)\n",
    "# azure_os_disk_size_gb = 32\n",
    "\n",
    "azure_os_disk_size_gb = "
   ]
  },
  {
   "cell_type": "markdown",
   "metadata": {},
   "source": [
    "### アカウント名の指定\n",
    "\n",
    "仮想マシンに作成するアカウント名を指定してください。"
   ]
  },
  {
   "cell_type": "code",
   "execution_count": null,
   "metadata": {
    "tags": [
     "vcp:skip",
     "vcp:parameters"
    ]
   },
   "outputs": [],
   "source": [
    "# (例)\n",
    "# azure_admin_user = 'moodle'\n",
    "\n",
    "azure_admin_user = "
   ]
  },
  {
   "cell_type": "markdown",
   "metadata": {},
   "source": [
    "### SSH公開鍵の指定\n",
    "\n",
    "作成した仮想マシンにSSHでログインする際に利用するSSHの公開鍵ファイルのパスを指定してください。"
   ]
  },
  {
   "cell_type": "code",
   "execution_count": null,
   "metadata": {
    "tags": [
     "vcp:skip",
     "vcp:parameters"
    ]
   },
   "outputs": [],
   "source": [
    "# (例)\n",
    "# azure_ssh_public_key = '~/.ssh/id_rsa.pub'\n",
    "\n",
    "azure_ssh_public_key = "
   ]
  },
  {
   "cell_type": "markdown",
   "metadata": {
    "heading_collapsed": true
   },
   "source": [
    "## 仮想マシンの作成\n",
    "\n",
    "これまでに入力したパラメータに従いAzureの仮想マシンを作成します。"
   ]
  },
  {
   "cell_type": "markdown",
   "metadata": {
    "hidden": true
   },
   "source": [
    "### Ansible Playbook の生成\n",
    "\n",
    "このNotebookでは仮想マシンを作成するために [Ansible](https://www.ansible.com/)を利用します。"
   ]
  },
  {
   "cell_type": "markdown",
   "metadata": {
    "hidden": true
   },
   "source": [
    "次のセルを実行するとAzureの仮想マシンを作成するための [Ansible Playbook](https://docs.ansible.com/ansible/latest/user_guide/playbooks_intro.html) を生成します。"
   ]
  },
  {
   "cell_type": "code",
   "execution_count": null,
   "metadata": {
    "hidden": true,
    "tags": [
     "vcp:callback:playbook"
    ]
   },
   "outputs": [],
   "source": [
    "%run scripts/edit_conf.py\n",
    "import json\n",
    "\n",
    "playbook = create_conf_file('localhost', 'azure.yml')\n",
    "with playbook.open(mode='w') as f:\n",
    "    f.write(f'''\n",
    "- hosts: localhost\n",
    "  tasks:\n",
    "  - azure.azcollection.azure_rm_virtualmachine:\n",
    "      name: {azure_vm_name}\n",
    "      resource_group: {azure_resource_group}\n",
    "      image:\n",
    "        community_gallery_image_id: \"/CommunityGalleries/rocky-dc1c6aa6-905b-4d9c-9577-63ccc28c482a/Images/Rocky-9-x86_64/Versions/9.4.20240509\"\n",
    "      vm_size: {azure_vm_size}\n",
    "      managed_disk_type: Standard_LRS\n",
    "      os_disk_size_gb: {azure_os_disk_size_gb}\n",
    "      virtual_network_name: {azure_virtual_network_name}\n",
    "      subnet_name: {azure_subnet_name}\n",
    "      admin_username: {azure_admin_user}\n",
    "      ssh_password_enabled: false\n",
    "      ssh_public_keys:\n",
    "      - path: /home/{azure_admin_user}/.ssh/authorized_keys\n",
    "        key_data: \"{{{{lookup('file', '{os.path.expanduser(azure_ssh_public_key)}')}}}}\"\n",
    "''')\n",
    "generate_edit_link(playbook)"
   ]
  },
  {
   "cell_type": "markdown",
   "metadata": {
    "hidden": true
   },
   "source": [
    "上のリンクをクリックするとブラウザの新しいウィンドウ（タブ）で playbook の編集画面が開きます。編集を行った場合は `ctrl-s` またはメニューの[File]-[Save]で編集結果を保存してください。\n",
    "\n",
    "Azureの仮想マシンを作成するためのパラメータの詳細についてはAnsibleのドキュメント[「azure.azcollection.azure_rm_virtualmachineモジュール」](https://docs.ansible.com/ansible/latest/collections/azure/azcollection/azure_rm_virtualmachine_module.html)を参照してください。"
   ]
  },
  {
   "cell_type": "markdown",
   "metadata": {
    "hidden": true
   },
   "source": [
    "確認のためplaybookの内容を表示します。"
   ]
  },
  {
   "cell_type": "code",
   "execution_count": null,
   "metadata": {
    "hidden": true
   },
   "outputs": [],
   "source": [
    "!cat {playbook}"
   ]
  },
  {
   "cell_type": "markdown",
   "metadata": {
    "hidden": true
   },
   "source": [
    "### 仮想マシンの起動\n",
    "\n",
    "playbookを実行して仮想マシンを起動します。"
   ]
  },
  {
   "cell_type": "code",
   "execution_count": null,
   "metadata": {
    "hidden": true,
    "pinned_outputs": [],
    "scrolled": false
   },
   "outputs": [],
   "source": [
    "!.venv/bin/ansible-playbook -c local {playbook}"
   ]
  },
  {
   "cell_type": "markdown",
   "metadata": {
    "hidden": true
   },
   "source": [
    "作成した仮想マシンの情報を取得します。"
   ]
  },
  {
   "cell_type": "code",
   "execution_count": null,
   "metadata": {
    "hidden": true
   },
   "outputs": [],
   "source": [
    "out = !.venv/bin/ansible localhost -c local -m azure.azcollection.azure_rm_virtualmachine_info \\\n",
    "    -a 'resource_group={azure_resource_group} name={azure_vm_name}'\n",
    "idx = [i for i, x in enumerate(out) if x.startswith('localhost |')][0]\n",
    "if out[idx] == 'localhost | SUCCESS => {':\n",
    "    data = json.loads(' '.join(['{'] + out[(idx + 1):]))\n",
    "    network_interface_names = sum([x['network_interface_names'] for x in data['vms']], [])\n",
    "    for line in out[idx:]:\n",
    "        print(line)\n",
    "else:\n",
    "    for line in out:\n",
    "        print(line)\n",
    "    raise RuntimeError(\"error!\")"
   ]
  },
  {
   "cell_type": "markdown",
   "metadata": {
    "hidden": true
   },
   "source": [
    "仮想マシンに割り当てられたパブリックIPアドレスの値を確認します。"
   ]
  },
  {
   "cell_type": "code",
   "execution_count": null,
   "metadata": {
    "hidden": true
   },
   "outputs": [],
   "source": [
    "for netif in network_interface_names:\n",
    "    out = !.venv/bin/ansible localhost -c local -m azure.azcollection.azure_rm_publicipaddress_info \\\n",
    "        -a 'resource_group={azure_resource_group} name={netif}'\n",
    "    idx = [i for i, x in enumerate(out) if x.startswith('localhost |')][0]\n",
    "    if out[idx] == 'localhost | SUCCESS => {':\n",
    "        data = json.loads(' '.join(['{'] + out[(idx + 1):]))\n",
    "        for ipaddr in [x['ip_address'] for x in data['publicipaddresses']]:\n",
    "            print(ipaddr)\n",
    "    else:\n",
    "        for line in out:\n",
    "            print(line)\n",
    "        raise RuntimeError(\"error!\")"
   ]
  },
  {
   "cell_type": "markdown",
   "metadata": {
    "hidden": true
   },
   "source": [
    "仮想マシンに割り当てられたプライベートIPアドレスの値を確認します。"
   ]
  },
  {
   "cell_type": "code",
   "execution_count": null,
   "metadata": {
    "hidden": true
   },
   "outputs": [],
   "source": [
    "for netif in network_interface_names:\n",
    "    out = !.venv/bin/ansible localhost -c local -m azure.azcollection.azure_rm_networkinterface_info \\\n",
    "        -a 'resource_group={azure_resource_group} name={netif}'\n",
    "    idx = [i for i, x in enumerate(out) if x.startswith('localhost |')][0]\n",
    "    if out[idx] == 'localhost | SUCCESS => {':\n",
    "        data = json.loads(' '.join(['{'] + out[(idx + 1):]))\n",
    "        addrs = [x['private_ip_address']\n",
    "                 for x in sum([x['ip_configurations']\n",
    "                               for x in data['networkinterfaces']], [])]\n",
    "        for ipaddr in addrs:\n",
    "            print(ipaddr)\n",
    "    else:\n",
    "        for line in out:\n",
    "            print(line)\n",
    "        raise RuntimeError(\"error!\")"
   ]
  },
  {
   "cell_type": "markdown",
   "metadata": {},
   "source": [
    "## Ansibleの設定\n",
    "\n",
    "起動した仮想マシンをAnsibleで操作するための設定を行います。"
   ]
  },
  {
   "cell_type": "markdown",
   "metadata": {},
   "source": [
    "### パラメータの設定"
   ]
  },
  {
   "cell_type": "markdown",
   "metadata": {},
   "source": [
    "仮想マシンを登録するAnsibleのグループ名を指定してください。"
   ]
  },
  {
   "cell_type": "code",
   "execution_count": null,
   "metadata": {
    "tags": [
     "vcp:parameters"
    ]
   },
   "outputs": [],
   "source": [
    "# (例)\n",
    "# target_group = 'Moodle'\n",
    "# target_group = azure_vm_name  # 仮想マシンのNameと同じグループ名にする場合\n",
    "\n",
    "target_group = azure_vm_name"
   ]
  },
  {
   "cell_type": "markdown",
   "metadata": {},
   "source": [
    "このNotebook環境から仮想マシンに接続する際のホスト名（IPアドレス）を指定してください。"
   ]
  },
  {
   "cell_type": "code",
   "execution_count": null,
   "metadata": {
    "tags": [
     "vcp:skip",
     "vcp:parameters"
    ]
   },
   "outputs": [],
   "source": [
    "# (例)\n",
    "# target_hostname = 'moodle.example.org'\n",
    "# target_hostname = '172.30.1.10'\n",
    "\n",
    "target_hostname = "
   ]
  },
  {
   "cell_type": "markdown",
   "metadata": {},
   "source": [
    "仮想マシンにログインするためのSSH秘密鍵のファイルを指定してください。"
   ]
  },
  {
   "cell_type": "code",
   "execution_count": null,
   "metadata": {
    "tags": [
     "vcp:skip",
     "vcp:parameters"
    ]
   },
   "outputs": [],
   "source": [
    "# (例)\n",
    "# ssh_private_key_file = '~/.ssh/id_rsa'\n",
    "\n",
    "ssh_private_key_file ="
   ]
  },
  {
   "cell_type": "markdown",
   "metadata": {
    "heading_collapsed": true
   },
   "source": [
    "### インベントリの作成\n",
    "\n",
    "Ansibleのインベントリ`inventory.yml`をカレントディレクトリに作成します。"
   ]
  },
  {
   "cell_type": "code",
   "execution_count": null,
   "metadata": {
    "hidden": true,
    "tags": [
     "vcp:callback:inventory"
    ]
   },
   "outputs": [],
   "source": [
    "%run scripts/group.py\n",
    "\n",
    "inventory = {'all': {'children': {\n",
    "    target_group: {\n",
    "        'hosts': {\n",
    "            target_hostname: {},\n",
    "        },\n",
    "        'vars': {\n",
    "            'ansible_user': azure_admin_user,\n",
    "            'ansible_ssh_private_key_file': os.path.expanduser(ssh_private_key_file),\n",
    "        }\n",
    "    }\n",
    "}}}\n",
    "\n",
    "generate_edit_link(update_inventory_yml(inventory))"
   ]
  },
  {
   "cell_type": "markdown",
   "metadata": {
    "hidden": true
   },
   "source": [
    "次のセルを実行すると作成したインベントリの内容を表示します。インベントリの内容を変更したい場合は、上のセルの出力結果に表示しているリンクから編集することができます。"
   ]
  },
  {
   "cell_type": "code",
   "execution_count": null,
   "metadata": {
    "hidden": true
   },
   "outputs": [],
   "source": [
    "!cat inventory.yml"
   ]
  },
  {
   "cell_type": "markdown",
   "metadata": {
    "heading_collapsed": true
   },
   "source": [
    "### ansible.cfg の作成"
   ]
  },
  {
   "cell_type": "markdown",
   "metadata": {
    "hidden": true
   },
   "source": [
    "先程、カレントディレクトリに作成した`inventory.yml`をAnsibleのインベントリとして指定するための設定を行います。\n",
    "\n",
    "> カレントディレクトリにコンフィギュレーションファイル`ansible.cfg`を作成すると、Ansibleを実行する際にその設定が適用されます。"
   ]
  },
  {
   "cell_type": "code",
   "execution_count": null,
   "metadata": {
    "hidden": true,
    "tags": [
     "vcp:callback:ansible_cfg"
    ]
   },
   "outputs": [],
   "source": [
    "cfg = setup_ansible_cfg()\n",
    "generate_edit_link(cfg)"
   ]
  },
  {
   "cell_type": "markdown",
   "metadata": {
    "hidden": true
   },
   "source": [
    "次のセルを実行すると作成したコンフィギュレーションファイルの内容を表示します。コンフィギュレーションファイルの内容を変更したい場合は、上のセルの出力結果に表示しているリンクから編集することができます。"
   ]
  },
  {
   "cell_type": "code",
   "execution_count": null,
   "metadata": {
    "hidden": true
   },
   "outputs": [],
   "source": [
    "!cat ansible.cfg"
   ]
  },
  {
   "cell_type": "markdown",
   "metadata": {
    "heading_collapsed": true
   },
   "source": [
    "### 仮想マシンへの接続確認"
   ]
  },
  {
   "cell_type": "markdown",
   "metadata": {
    "hidden": true
   },
   "source": [
    "作成した仮想マシンに対して Ansible で接続できることを確認します。"
   ]
  },
  {
   "cell_type": "code",
   "execution_count": null,
   "metadata": {
    "hidden": true,
    "tags": [
     "vcp:rewrite:ping"
    ]
   },
   "outputs": [],
   "source": [
    "!ssh-keygen -R {target_hostname} || true\n",
    "!mkdir -p -m 0700 ~/.ansible/cp\n",
    "!env ANSIBLE_HOST_KEY_CHECKING=False \\\n",
    "    ansible {target_group} -m ping"
   ]
  },
  {
   "cell_type": "markdown",
   "metadata": {
    "hidden": true
   },
   "source": [
    "正常に接続できると以下のように表示されます。\n",
    "\n",
    "```\n",
    "XXX.XXX.XXX.XXX | SUCCESS => {\n",
    "    \"changed\": false, \n",
    "    \"ping\": \"pong\"\n",
    "}\n",
    "```"
   ]
  },
  {
   "cell_type": "markdown",
   "metadata": {
    "hidden": true
   },
   "source": [
    "`~/.ssh/known_hosts`の内容を更新します。"
   ]
  },
  {
   "cell_type": "code",
   "execution_count": null,
   "metadata": {
    "hidden": true
   },
   "outputs": [],
   "source": [
    "!ssh-keyscan -H {target_hostname} >> ~/.ssh/known_hosts"
   ]
  },
  {
   "cell_type": "markdown",
   "metadata": {
    "hidden": true
   },
   "source": [
    "VCノードに対して設定ファイルの変更やパッケージの追加を行う場合にVCノードの管理者権限が必要になる場合があります。Ansibleで管理者権限によるコマンド実行が可能かどうかを確認します。"
   ]
  },
  {
   "cell_type": "code",
   "execution_count": null,
   "metadata": {
    "hidden": true,
    "scrolled": false
   },
   "outputs": [],
   "source": [
    "# 管理者権限(-b)でのコマンド実行\n",
    "!ansible {target_group} -b -a 'whoami'"
   ]
  },
  {
   "cell_type": "markdown",
   "metadata": {
    "heading_collapsed": true
   },
   "source": [
    "### group_vars ファイルの更新"
   ]
  },
  {
   "cell_type": "code",
   "execution_count": null,
   "metadata": {
    "hidden": true
   },
   "outputs": [],
   "source": [
    "%run scripts/group.py\n",
    "\n",
    "update_group_vars(\n",
    "    target_group,\n",
    "    _file='10-node.yml',\n",
    "    azure_resource_group=azure_resource_group,\n",
    "    azure_vm_name=azure_vm_name,\n",
    ")"
   ]
  },
  {
   "cell_type": "markdown",
   "metadata": {
    "hidden": true
   },
   "source": [
    "`group_vars`ファイルの内容を確認してみます。"
   ]
  },
  {
   "cell_type": "code",
   "execution_count": null,
   "metadata": {
    "hidden": true
   },
   "outputs": [],
   "source": [
    "!cat group_vars/{target_group}/10-node.yml"
   ]
  },
  {
   "cell_type": "markdown",
   "metadata": {
    "heading_collapsed": true
   },
   "source": [
    "## パッケージなどのインストール\n",
    "\n",
    "Moodle環境を構築する際に必要となるパッケージなどのインストールを行います。"
   ]
  },
  {
   "cell_type": "markdown",
   "metadata": {
    "hidden": true
   },
   "source": [
    "### Dockerのインストール\n",
    "\n",
    "[Docker - Install Engine](https://docs.rockylinux.org/gemstones/containers/docker/) の手順に従い Docker のインストールを行います。"
   ]
  },
  {
   "cell_type": "markdown",
   "metadata": {
    "hidden": true
   },
   "source": [
    "Dockerのレポジトリを追加します。"
   ]
  },
  {
   "cell_type": "code",
   "execution_count": null,
   "metadata": {
    "hidden": true
   },
   "outputs": [],
   "source": [
    "!ansible {target_group} -b -a \\\n",
    "    'dnf config-manager --add-repo https://download.docker.com/linux/rhel/docker-ce.repo'"
   ]
  },
  {
   "cell_type": "markdown",
   "metadata": {
    "hidden": true
   },
   "source": [
    "Dockerのパッケージをインストールします。"
   ]
  },
  {
   "cell_type": "code",
   "execution_count": null,
   "metadata": {
    "hidden": true,
    "scrolled": true
   },
   "outputs": [],
   "source": [
    "!ansible {target_group} -b -m dnf -a 'name=docker-ce,docker-ce-cli,containerd.io,docker-buildx-plugin,docker-compose-plugin'"
   ]
  },
  {
   "cell_type": "markdown",
   "metadata": {
    "hidden": true
   },
   "source": [
    "Docker Engine を実行するサービスを開始します。"
   ]
  },
  {
   "cell_type": "code",
   "execution_count": null,
   "metadata": {
    "hidden": true
   },
   "outputs": [],
   "source": [
    "!ansible {target_group} -b -a 'systemctl start docker'\n",
    "!ansible {target_group} -b -a 'systemctl enable docker'"
   ]
  },
  {
   "cell_type": "markdown",
   "metadata": {
    "hidden": true
   },
   "source": [
    "Docker Engine が実行されていることを確認するために `docker info` を実行してみます。"
   ]
  },
  {
   "cell_type": "code",
   "execution_count": null,
   "metadata": {
    "hidden": true,
    "scrolled": true
   },
   "outputs": [],
   "source": [
    "!ansible {target_group} -b -a 'docker info'"
   ]
  },
  {
   "cell_type": "markdown",
   "metadata": {
    "hidden": true
   },
   "source": [
    "dockerコマンドを管理者権限なしで実行できるようにするためにユーザを `docker` グループに所属させるようにします。"
   ]
  },
  {
   "cell_type": "code",
   "execution_count": null,
   "metadata": {
    "hidden": true
   },
   "outputs": [],
   "source": [
    "!ansible {target_group} -b -m user -a 'name={{{{ansible_user}}}} append=yes groups=docker'"
   ]
  },
  {
   "cell_type": "markdown",
   "metadata": {
    "hidden": true
   },
   "source": [
    "管理者権限なしで docker コマンドが実行できることを確認します。まず、新しいグループでログインし直すために、現在のsshの接続をいったん終了します。"
   ]
  },
  {
   "cell_type": "code",
   "execution_count": null,
   "metadata": {
    "hidden": true
   },
   "outputs": [],
   "source": [
    "if os.path.exists(os.path.expanduser(f'~/.ansible/cp/{azure_admin_user}@{target_hostname}:22')):\n",
    "    !ssh -o ControlPath=~/.ansible/cp/{azure_admin_user}@{target_hostname}:22 -O exit {target_hostname}"
   ]
  },
  {
   "cell_type": "markdown",
   "metadata": {
    "hidden": true
   },
   "source": [
    "一般ユーザで `docker info`が実行できることを確認します。"
   ]
  },
  {
   "cell_type": "code",
   "execution_count": null,
   "metadata": {
    "hidden": true,
    "scrolled": true
   },
   "outputs": [],
   "source": [
    "!ansible {target_group} -a 'docker info'"
   ]
  },
  {
   "cell_type": "markdown",
   "metadata": {
    "hidden": true
   },
   "source": [
    "### Python3などのインストール"
   ]
  },
  {
   "cell_type": "code",
   "execution_count": null,
   "metadata": {
    "hidden": true,
    "scrolled": true
   },
   "outputs": [],
   "source": [
    "!ansible {target_group} -b -m dnf -a 'name=python3.12,python3.12-pip,unzip,tree,git,wget,nmap-ncat,jq,which'"
   ]
  },
  {
   "cell_type": "markdown",
   "metadata": {
    "hidden": true
   },
   "source": [
    "### aws cli のインストール\n",
    "\n",
    "構築したMoodle環境をAmazon S3にバックアップする際に利用する aws cli のインストールを行います。"
   ]
  },
  {
   "cell_type": "code",
   "execution_count": null,
   "metadata": {
    "hidden": true,
    "scrolled": true
   },
   "outputs": [],
   "source": [
    "!ansible {target_group} -m unarchive -a 'src=https://awscli.amazonaws.com/awscli-exe-linux-x86_64.zip \\\n",
    "    dest=/tmp remote_src=yes'\n",
    "!ansible {target_group} -b -a 'chdir=/tmp/aws ./install'\n",
    "!ansible {target_group} -a 'rm -rf /tmp/aws'"
   ]
  },
  {
   "cell_type": "markdown",
   "metadata": {
    "hidden": true
   },
   "source": [
    "インストールされたことを確認するためにバージョンを表示してみます。"
   ]
  },
  {
   "cell_type": "code",
   "execution_count": null,
   "metadata": {
    "hidden": true
   },
   "outputs": [],
   "source": [
    "!ansible {target_group} -a '/usr/local/bin/aws --version'"
   ]
  },
  {
   "cell_type": "markdown",
   "metadata": {
    "hidden": true
   },
   "source": [
    "### タイムゾーンの変更\n",
    "\n",
    "タイムゾーンをJSTに変更します。"
   ]
  },
  {
   "cell_type": "code",
   "execution_count": null,
   "metadata": {
    "hidden": true
   },
   "outputs": [],
   "source": [
    "!ansible {target_group} -b -a 'timedatectl set-timezone Asia/Tokyo'"
   ]
  },
  {
   "cell_type": "markdown",
   "metadata": {
    "hidden": true
   },
   "source": [
    "タイムゾーンが変更されたことを確認します。"
   ]
  },
  {
   "cell_type": "code",
   "execution_count": null,
   "metadata": {
    "hidden": true
   },
   "outputs": [],
   "source": [
    "!ansible {target_group} -a 'date'"
   ]
  }
 ],
 "metadata": {
  "kernelspec": {
   "display_name": "Python 3",
   "language": "python",
   "name": "python3"
  },
  "language_info": {
   "file_extension": ".py",
   "mimetype": "text/x-python",
   "name": "python",
   "nbconvert_exporter": "python",
   "pygments_lexer": "ipython3",
   "version": "3.10.4"
  },
  "toc": {
   "base_numbering": 1,
   "nav_menu": {},
   "number_sections": true,
   "sideBar": true,
   "skip_h1_title": true,
   "title_cell": "Table of Contents",
   "title_sidebar": "Contents",
   "toc_cell": false,
   "toc_position": {},
   "toc_section_display": "block",
   "toc_window_display": true
  }
 },
 "nbformat": 4,
 "nbformat_minor": 2
}