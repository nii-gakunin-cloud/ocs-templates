{
 "cells": [
  {
   "cell_type": "markdown",
   "metadata": {},
   "source": [
    "# About: MoodleのURLを変更する\n",
    "\n",
    "---\n",
    "\n",
    "MoodleのURLを変更します。"
   ]
  },
  {
   "cell_type": "markdown",
   "metadata": {},
   "source": [
    "## パラメータ設定"
   ]
  },
  {
   "cell_type": "markdown",
   "metadata": {},
   "source": [
    "### グループ名の指定\n",
    "\n",
    "このNotebookの操作対象となるAnsibleのグループ名を設定します。"
   ]
  },
  {
   "cell_type": "markdown",
   "metadata": {},
   "source": [
    "既存のグループ名を確認するために`group_vars`にあるディレクトリの一覧を表示します。"
   ]
  },
  {
   "cell_type": "code",
   "execution_count": null,
   "metadata": {},
   "outputs": [],
   "source": [
    "!ls -1 group_vars/"
   ]
  },
  {
   "cell_type": "markdown",
   "metadata": {},
   "source": [
    "上のセルの出力結果を参考にしてAnsibleのグループ名を次のセルに指定してください。"
   ]
  },
  {
   "cell_type": "code",
   "execution_count": null,
   "metadata": {},
   "outputs": [],
   "source": [
    "# (例)\n",
    "# target_group = 'Moodle'\n",
    "\n",
    "target_group = "
   ]
  },
  {
   "cell_type": "markdown",
   "metadata": {
    "heading_collapsed": true
   },
   "source": [
    "#### チェック\n",
    "\n",
    "指定された `target_group` の値が適切なものかチェックします。"
   ]
  },
  {
   "cell_type": "markdown",
   "metadata": {
    "hidden": true
   },
   "source": [
    "`target_group` に対応する設定ファイルが存在していることを確認します。"
   ]
  },
  {
   "cell_type": "code",
   "execution_count": null,
   "metadata": {
    "hidden": true
   },
   "outputs": [],
   "source": [
    "from pathlib import Path\n",
    "\n",
    "target_dir = Path('group_vars') / target_group\n",
    "if not (target_dir.is_dir() and len(list(target_dir.glob(\"*\"))) > 0):\n",
    "    target_file = Path('group_vars') / f\"{target_group}.yml\"\n",
    "    if target_file.is_file():\n",
    "        target_dir.mkdir(exist_ok=True)\n",
    "        target_file.rename(target_dir / \"00-moodle.yml\")\n",
    "    else:\n",
    "        raise RuntimeError(f\"ERROR: not exists {target_group}\")"
   ]
  },
  {
   "cell_type": "markdown",
   "metadata": {
    "hidden": true
   },
   "source": [
    "`target_group`で指定したホストにAnsibleで到達可能であることを確認します。"
   ]
  },
  {
   "cell_type": "code",
   "execution_count": null,
   "metadata": {
    "hidden": true
   },
   "outputs": [],
   "source": [
    "!ansible {target_group} -m ping"
   ]
  },
  {
   "cell_type": "markdown",
   "metadata": {},
   "source": [
    "### MoodleのURL\n",
    "\n",
    "次のセルに新しいURLを指定してください。"
   ]
  },
  {
   "cell_type": "code",
   "execution_count": null,
   "metadata": {},
   "outputs": [],
   "source": [
    "# (例)\n",
    "# moodle_url = 'http://moodle.example.org'\n",
    "# moodle_url = 'http://172.30.2.100'\n",
    "# moodle_url = 'https://moodle.example.org'\n",
    "\n",
    "moodle_url = "
   ]
  },
  {
   "cell_type": "markdown",
   "metadata": {
    "heading_collapsed": true
   },
   "source": [
    "#### パラメータの保存\n",
    "\n",
    "この節で指定したパラメータの値をファイルに保存します。"
   ]
  },
  {
   "cell_type": "markdown",
   "metadata": {
    "hidden": true
   },
   "source": [
    "値の保存を行う前に、入力されたパラメータに対して簡易なチェックを行います。エラーになった場合はその後に表示される指示に従ってください。"
   ]
  },
  {
   "cell_type": "code",
   "execution_count": null,
   "metadata": {
    "hidden": true
   },
   "outputs": [],
   "source": [
    "%run scripts/utils.py\n",
    "check_parameters('moodle_url', nb_vars=locals())"
   ]
  },
  {
   "cell_type": "markdown",
   "metadata": {
    "hidden": true
   },
   "source": [
    "パラメータの値を group_vars ファイルに保存します。"
   ]
  },
  {
   "cell_type": "code",
   "execution_count": null,
   "metadata": {
    "hidden": true
   },
   "outputs": [],
   "source": [
    "%run scripts/group.py\n",
    "\n",
    "update_group_vars(\n",
    "    target_group,\n",
    "    moodle_url=moodle_url,\n",
    ")"
   ]
  },
  {
   "cell_type": "markdown",
   "metadata": {
    "hidden": true
   },
   "source": [
    "`group_vars`ファイルの内容を確認してみます。"
   ]
  },
  {
   "cell_type": "code",
   "execution_count": null,
   "metadata": {
    "hidden": true
   },
   "outputs": [],
   "source": [
    "!cat group_vars/{target_group}/20-moodle.yml"
   ]
  },
  {
   "cell_type": "markdown",
   "metadata": {
    "heading_collapsed": true
   },
   "source": [
    "## URLの変更\n",
    "\n",
    "Moodleコンテナを新しく指定されたURLで起動し直します。"
   ]
  },
  {
   "cell_type": "markdown",
   "metadata": {
    "hidden": true
   },
   "source": [
    "### メンテナンスモードへの切り替え\n",
    "\n",
    "Moodleをメンテナンスモードに切り替えます。"
   ]
  },
  {
   "cell_type": "code",
   "execution_count": null,
   "metadata": {
    "hidden": true
   },
   "outputs": [],
   "source": [
    "!ansible {target_group} -a 'chdir=/srv/moodle docker compose exec -T moodle \\\n",
    "    /usr/bin/php /var/www/html/admin/cli/maintenance.php --enable'"
   ]
  },
  {
   "cell_type": "markdown",
   "metadata": {
    "hidden": true
   },
   "source": [
    "### compose.yaml\n",
    "\n",
    "新たな URL の値で `compose.yaml`を生成し直します。"
   ]
  },
  {
   "cell_type": "code",
   "execution_count": null,
   "metadata": {
    "hidden": true
   },
   "outputs": [],
   "source": [
    "!ansible {target_group} -Dv -m template \\\n",
    "    -a 'src=template/compose.yaml.j2 dest=/srv/moodle/compose.yaml backup=yes'"
   ]
  },
  {
   "cell_type": "markdown",
   "metadata": {
    "hidden": true
   },
   "source": [
    "### コンテナの起動\n",
    "\n",
    "コンテナを起動し直します。"
   ]
  },
  {
   "cell_type": "code",
   "execution_count": null,
   "metadata": {
    "hidden": true
   },
   "outputs": [],
   "source": [
    "!ansible {target_group} -a 'chdir=/srv/moodle \\\n",
    "    docker compose up --wait'"
   ]
  },
  {
   "cell_type": "markdown",
   "metadata": {
    "hidden": true
   },
   "source": [
    "コンテナの状態を確認します。`State`が`Up`となっていることを確認してください。"
   ]
  },
  {
   "cell_type": "code",
   "execution_count": null,
   "metadata": {
    "hidden": true
   },
   "outputs": [],
   "source": [
    "!ansible {target_group} -a 'chdir=/srv/moodle \\\n",
    "    docker compose ps'"
   ]
  },
  {
   "cell_type": "markdown",
   "metadata": {
    "hidden": true
   },
   "source": [
    "### メンテナンスモードの解除\n",
    "\n",
    "メンテナンスモードを解除します。"
   ]
  },
  {
   "cell_type": "code",
   "execution_count": null,
   "metadata": {
    "hidden": true,
    "scrolled": true
   },
   "outputs": [],
   "source": [
    "!ansible {target_group} -a 'chdir=/srv/moodle docker compose exec -T moodle \\\n",
    "    /usr/bin/php /var/www/html/admin/cli/maintenance.php --disable'"
   ]
  },
  {
   "cell_type": "markdown",
   "metadata": {},
   "source": [
    "## Moodle を利用できることを確認\n",
    "\n",
    "変更したURLにアクセスしMoodle が利用できることを確認します。"
   ]
  },
  {
   "cell_type": "markdown",
   "metadata": {},
   "source": [
    "次のセルを実行すると変更したURLのリンクが表示されます。リンクをクリックしてMoodle環境にログインできることを確認してください。"
   ]
  },
  {
   "cell_type": "code",
   "execution_count": null,
   "metadata": {},
   "outputs": [],
   "source": [
    "print(moodle_url)"
   ]
  }
 ],
 "metadata": {
  "kernelspec": {
   "display_name": "Python 3",
   "language": "python",
   "name": "python3"
  },
  "language_info": {
   "file_extension": ".py",
   "mimetype": "text/x-python",
   "name": "python",
   "nbconvert_exporter": "python",
   "pygments_lexer": "ipython3",
   "version": "3.10.4"
  },
  "toc": {
   "base_numbering": 1,
   "nav_menu": {},
   "number_sections": true,
   "sideBar": true,
   "skip_h1_title": true,
   "title_cell": "Table of Contents",
   "title_sidebar": "Contents",
   "toc_cell": false,
   "toc_position": {},
   "toc_section_display": true,
   "toc_window_display": true
  }
 },
 "nbformat": 4,
 "nbformat_minor": 2
}