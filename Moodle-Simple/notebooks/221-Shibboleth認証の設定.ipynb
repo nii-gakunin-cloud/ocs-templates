{
 "cells": [
  {
   "cell_type": "markdown",
   "metadata": {},
   "source": [
    "# About: Shibboleth認証の設定\n",
    "---\n",
    "MoodleにShibboleth認証の設定を追加します"
   ]
  },
  {
   "cell_type": "markdown",
   "metadata": {},
   "source": [
    "## 概要\n",
    "\n",
    "「021-Moodleコンテナの起動.ipynb」で構築したMoodle環境をShibbolethと連携して認証が行えるように設定します。"
   ]
  },
  {
   "cell_type": "markdown",
   "metadata": {},
   "source": [
    "![処理の流れ](images/moodle-221-01.png)\n",
    "\n",
    "設定手順の主な流れを以下に示します。\n",
    "\n",
    "1. HTTPサーバ、Shibbleth SPで利用する証明書と秘密鍵を配置する\n",
    "1. httpd, shibd の設定ファイルを配置する\n",
    "1. Shibbolethコンテナの構成を記述した `compose.yaml` を配置する\n",
    "1. 新たな構成でコンテナを起動しなおす\n",
    "1. Moodleの管理画面でShibbolethプラグインの設定を行う\n",
    "\n",
    "Shibbolethによる認証を行う場合は時刻同期を有効にすることを推奨します。VCノードで時刻同期を行うには「[Release/20.10.0 -- 2.機能追加](https://meatwiki.nii.ac.jp/confluence/pages/viewpage.action?pageId=32677360#id-%E3%83%AA%E3%83%AA%E3%83%BC%E3%82%B9%E3%83%8E%E3%83%BC%E3%83%88-Release/20.10.0(2020/10/30))」に記されているようにVCコントローラへの設定を行う必要があります。設定を行う場合はVCノードを構築する前にOCS運用担当者に設定変更を依頼してください。"
   ]
  },
  {
   "cell_type": "markdown",
   "metadata": {},
   "source": [
    "### コンテナ構成について"
   ]
  },
  {
   "cell_type": "markdown",
   "metadata": {},
   "source": [
    "「021-Moodleコンテナの起動.ipynb」で構築した環境は次図のようなコンテナ構成となっています。\n",
    "\n",
    "![変更前の構成](images/moodle-071-02.png)\n",
    "\n",
    " MoodleコンテナではMoodle をHTTP(80)で外部に公開する Apache HTTP server(httpd) と MoodleのPHPファイルを実行する php-fpm が実行されています。httpdとphp-fpmはUNIXドメインソケットを経由して通信を行っています。\n",
    "\n",
    "MoodleとShibbolethが連携できるように次図のようにコンテナ構成を変更します。\n",
    "\n",
    "![変更後の構成](images/moodle-221-02.png)\n",
    "\n",
    "この構成ではHTTPS(443)での接続を行なうhttpdとShibboleth SPの処理を行なうshibdを実行するShibbolethコンテナをMoodleコンテナの前段に配置しています。\n",
    "\n",
    "Shibbolethコンテナのhttpdで受け付けた外部からのリクエストはUNIXドメインソケットを経由してMoodleコンテナのphp-fpmで処理します。この連携を行うためにホスト環境にあるUNIXドメインソケットのファイルをShibbolethコンテナとMoodleコンテナからbindマウントして、それぞれのコンテナから同一のソケットが見えるように設定します。 この構成では元々Moodleコンテナで実行していたhttpdは不要なので停止させます。\n",
    "\n",
    "\n",
    "「071-HTTPS接続に変更する.ipynb」を既に実行している状態でこのNotebookを実行する場合は、 Moodleコンテナの前段に配置されているhttpdコンテナをShibbolethコンテナに置き換えることになります。ShibbolethコンテナはHTTPS接続でMoodleコンテナを公開するのでhttpdコンテナの機能を包含しており置き換えることが可能です。"
   ]
  },
  {
   "cell_type": "markdown",
   "metadata": {},
   "source": [
    "### Shibboleth SPの設定について"
   ]
  },
  {
   "cell_type": "markdown",
   "metadata": {},
   "source": [
    "#### 学認フェデレーションに参加する場合\n",
    "\n",
    "学認技術ガイドの「[SPセッティング　- 接続までに必要なセッティング](https://meatwiki.nii.ac.jp/confluence/pages/viewpage.action?pageId=12158187)」に沿った設定を行います。"
   ]
  },
  {
   "cell_type": "markdown",
   "metadata": {},
   "source": [
    "Shibboleth SPのインストールやshibboleth2.xmlのentityIDの設定、サーバ証明書の設定についてはShibbolethコンテナに組み込まれています。学認技術ガイドの「[shibboleth2.xmlファイル](https://meatwiki.nii.ac.jp/confluence/pages/viewpage.action?pageId=12158266)」に示されている以下の項目については参加するフェデレーションにより異なる指定を行う必要があります。\n",
    "\n",
    "* 2. DSサーバの参照設定を行います。\n",
    "* 3. メタデータの自動更新設定を行います。\n",
    "\n",
    "これらの項目についての設定を「[3.2 学認フェデレーションに関するパラメータ](#学認フェデレーションに関するパラメータ)」「[5.2 メタデータを検証するための証明書の指定](#メタデータを検証するための証明書の指定)」にて行います。\n",
    "\n",
    "> 設定手順は学認技術ガイドに記されている最低限のものとなります。個別の状況に対応するより詳細な設定が必要となる場合は構築後に`shibboleth2.xml`などの設定ファイルを編集してください。"
   ]
  },
  {
   "cell_type": "markdown",
   "metadata": {},
   "source": [
    "#### 学認フェデレーションに参加せずに運用する場合\n",
    "\n",
    "学認技術ガイドの「[学内システムとして構築する場合の設定](https://meatwiki.nii.ac.jp/confluence/pages/viewpage.action?pageId=12158282)」に沿った設定を行います。\n"
   ]
  },
  {
   "cell_type": "markdown",
   "metadata": {},
   "source": [
    "「学内システムとして構築する場合の設定」では、以下の設定を行う手順が示されています。\n",
    "\n",
    "1. SPは、DSを経由せず、特定のIdPのみ信頼する\n",
    "1. IdPは、特定のSPのみ信頼する\n",
    "\n",
    "このNotebookでは SP に対する設定のみを実行します。IdPについては学認技術ガイドの記述内容などを参考に設定を行なってください。\n",
    "\n",
    "SPの設定は「[3.3 学内システムとして構築する場合の設定](#%E5%AD%A6%E5%86%85%E3%82%B7%E3%82%B9%E3%83%86%E3%83%A0%E3%81%A8%E3%81%97%E3%81%A6%E6%A7%8B%E7%AF%89%E3%81%99%E3%82%8B%E5%A0%B4%E5%90%88%E3%81%AE%E8%A8%AD%E5%AE%9A)」にて行います。\n",
    "\n",
    "> 設定手順は学認技術ガイドに記されている最低限のものとなります。個別の状況に対応するより詳細な設定が必要となる場合は構築後に`shibboleth2.xml`などの設定ファイルを編集してください。"
   ]
  },
  {
   "cell_type": "markdown",
   "metadata": {},
   "source": [
    "## 準備"
   ]
  },
  {
   "cell_type": "markdown",
   "metadata": {},
   "source": [
    "### グループ名の指定\n",
    "\n",
    "このNotebookの操作対象となるAnsibleのグループ名を設定します。"
   ]
  },
  {
   "cell_type": "markdown",
   "metadata": {},
   "source": [
    "既存のグループ名を確認するために`group_vars`にあるディレクトリの一覧を表示します。"
   ]
  },
  {
   "cell_type": "code",
   "execution_count": null,
   "metadata": {},
   "outputs": [],
   "source": [
    "!ls -1 group_vars/"
   ]
  },
  {
   "cell_type": "markdown",
   "metadata": {},
   "source": [
    "上のセルの出力結果を参考にしてAnsibleのグループ名を次のセルに指定してください。"
   ]
  },
  {
   "cell_type": "code",
   "execution_count": null,
   "metadata": {},
   "outputs": [],
   "source": [
    "# (例)\n",
    "# target_group = 'Moodle'\n",
    "\n",
    "target_group = "
   ]
  },
  {
   "cell_type": "markdown",
   "metadata": {
    "heading_collapsed": true
   },
   "source": [
    "### 前提条件の確認\n",
    "\n",
    "このNotebookを実行するための前提条件を満たしていることを確認します。"
   ]
  },
  {
   "cell_type": "markdown",
   "metadata": {
    "hidden": true
   },
   "source": [
    "前提となる条件を以下に示します。\n",
    "\n",
    "* 構築した際のパラメータが group_vars ファイルに記録されていること\n",
    "* Ansibleから操作可能であること\n",
    "* Ansibleから管理者権限でコマンドを実行できること\n",
    "* Moodleコンテナが実行中であること\n",
    "* Moodleコンテナでphp-fpmが実行されていること"
   ]
  },
  {
   "cell_type": "markdown",
   "metadata": {
    "hidden": true
   },
   "source": [
    "`target_group` に対応する設定ファイルが存在していることを確認します。"
   ]
  },
  {
   "cell_type": "code",
   "execution_count": null,
   "metadata": {
    "hidden": true
   },
   "outputs": [],
   "source": [
    "from pathlib import Path\n",
    "\n",
    "target_dir = Path('group_vars') / target_group\n",
    "if not (target_dir.is_dir() and len(list(target_dir.glob(\"*\"))) > 0):\n",
    "    target_file = Path('group_vars') / f\"{target_group}.yml\"\n",
    "    if target_file.is_file():\n",
    "        target_dir.mkdir(exist_ok=True)\n",
    "        target_file.rename(target_dir / \"00-moodle.yml\")\n",
    "    else:\n",
    "        raise RuntimeError(f\"ERROR: not exists {target_group}\")"
   ]
  },
  {
   "cell_type": "markdown",
   "metadata": {
    "hidden": true
   },
   "source": [
    "対象となるホストにAnsibleで到達可能であることを確認します。"
   ]
  },
  {
   "cell_type": "code",
   "execution_count": null,
   "metadata": {
    "hidden": true
   },
   "outputs": [],
   "source": [
    "!ansible {target_group} -m ping"
   ]
  },
  {
   "cell_type": "markdown",
   "metadata": {
    "hidden": true
   },
   "source": [
    "管理者権限でコマンド実行可能であることを確認します。"
   ]
  },
  {
   "cell_type": "code",
   "execution_count": null,
   "metadata": {
    "hidden": true
   },
   "outputs": [],
   "source": [
    "# 管理者権限(-b)でのコマンド実行\n",
    "!ansible {target_group} -b -a 'whoami'"
   ]
  },
  {
   "cell_type": "markdown",
   "metadata": {
    "hidden": true
   },
   "source": [
    "Moodleコンテナが実行中であることを確認します。"
   ]
  },
  {
   "cell_type": "code",
   "execution_count": null,
   "metadata": {
    "hidden": true
   },
   "outputs": [],
   "source": [
    "!ansible {target_group} -m shell -a 'chdir=/srv/moodle \\\n",
    "    docker compose ps --status running moodle | grep moodle'"
   ]
  },
  {
   "cell_type": "markdown",
   "metadata": {
    "hidden": true
   },
   "source": [
    "Moodleコンテナでphp-fpmが実行されていることを確認します。"
   ]
  },
  {
   "cell_type": "code",
   "execution_count": null,
   "metadata": {
    "hidden": true
   },
   "outputs": [],
   "source": [
    "!ansible {target_group} -m shell -a 'chdir=/srv/moodle \\\n",
    "    docker compose exec moodle supervisorctl status || \\\n",
    "    docker compose exec moodle ls /run/php-fpm/www.sock'"
   ]
  },
  {
   "cell_type": "markdown",
   "metadata": {},
   "source": [
    "## パラメータ設定"
   ]
  },
  {
   "cell_type": "markdown",
   "metadata": {},
   "source": [
    "### MoodleのURL\n",
    "\n",
    "MoodleではサイトのURLを`config.php`の`$CFG->wwwroot`に設定しています。HTTPS接続にすることによりURLが変更される場合はその値を指定します。\n",
    "\n",
    "> 公開するURLが現在の設定値から変更がない場合はこの節をスキップして次節に進んでください。"
   ]
  },
  {
   "cell_type": "markdown",
   "metadata": {},
   "source": [
    "現在設定されている URL の値を確認します。"
   ]
  },
  {
   "cell_type": "code",
   "execution_count": null,
   "metadata": {},
   "outputs": [],
   "source": [
    "%run scripts/group.py\n",
    "gvars = load_group_vars(target_group)\n",
    "print(gvars[\"moodle_url\"])"
   ]
  },
  {
   "cell_type": "markdown",
   "metadata": {},
   "source": [
    "新たなURLの値を次のセルで指定してください。"
   ]
  },
  {
   "cell_type": "code",
   "execution_count": null,
   "metadata": {},
   "outputs": [],
   "source": [
    "# (例)\n",
    "# moodle_url = 'https://moodle.example.org'\n",
    "\n",
    "moodle_url = "
   ]
  },
  {
   "cell_type": "markdown",
   "metadata": {
    "heading_collapsed": true
   },
   "source": [
    "#### パラメータの保存\n",
    "\n",
    "この節で指定したパラメータの値をファイルに保存します。"
   ]
  },
  {
   "cell_type": "markdown",
   "metadata": {
    "hidden": true
   },
   "source": [
    "値の保存を行う前に入力されたパラメータに対して簡易なチェックを行います。エラーになった場合はその後に表示される指示に従ってください。"
   ]
  },
  {
   "cell_type": "code",
   "execution_count": null,
   "metadata": {
    "hidden": true
   },
   "outputs": [],
   "source": [
    "%run scripts/utils.py\n",
    "check_parameters(\n",
    "    'moodle_url',\n",
    "    nb_vars=locals(),\n",
    ")"
   ]
  },
  {
   "cell_type": "markdown",
   "metadata": {
    "hidden": true
   },
   "source": [
    "パラメータの値を group_vars ファイルに保存します。"
   ]
  },
  {
   "cell_type": "code",
   "execution_count": null,
   "metadata": {
    "hidden": true
   },
   "outputs": [],
   "source": [
    "%run scripts/group.py\n",
    "\n",
    "update_group_vars(\n",
    "    target_group,\n",
    "    _file=\"30-httpd.yml\",\n",
    "    moodle_url=moodle_url,\n",
    ")"
   ]
  },
  {
   "cell_type": "markdown",
   "metadata": {
    "hidden": true
   },
   "source": [
    "`group_vars`ファイルの内容を確認してみます。"
   ]
  },
  {
   "cell_type": "code",
   "execution_count": null,
   "metadata": {
    "hidden": true
   },
   "outputs": [],
   "source": [
    "!cat group_vars/{target_group}/30-httpd.yml"
   ]
  },
  {
   "cell_type": "markdown",
   "metadata": {},
   "source": [
    "### 学認フェデレーションに関するパラメータ\n",
    "\n",
    "学認技術ガイドの「[shibboleth2.xml　ファイル](https://meatwiki.nii.ac.jp/confluence/pages/viewpage.action?pageId=12158266)」に説明されているパラメータの設定を行います。\n",
    "\n",
    "> この節は**学認フェデレーションに参加する場合のみ**指定が必要となります。学認フェデレーションに参加せずに学内システムとして構築するなどの場合はこの節をスキップして次節に進んでください。"
   ]
  },
  {
   "cell_type": "markdown",
   "metadata": {},
   "source": [
    "この節では以下のパラメータを指定します。\n",
    "\n",
    "* DSサーバのURL\n",
    "* メタデータのURL\n",
    "\n",
    "参加するフェデレーションによって指定する値は異なります。以下のリンク先などを先などを参照して適切な値を指定してください。\n",
    "\n",
    "* [shibboleth2.xml ファイル](https://meatwiki.nii.ac.jp/confluence/pages/viewpage.action?pageId=12158266)\n",
    "* [テストフェデレーションのルール](https://www.gakunin.jp/join/test/rule)"
   ]
  },
  {
   "cell_type": "markdown",
   "metadata": {},
   "source": [
    "#### DSサーバ\n",
    "\n",
    "DSサーバのURLを次のセルで指定してください。"
   ]
  },
  {
   "cell_type": "code",
   "execution_count": null,
   "metadata": {},
   "outputs": [],
   "source": [
    "# (例)\n",
    "# url_gakunin_ds = 'https://ds.gakunin.nii.ac.jp/WAYF'          # 運用フェデレーション\n",
    "# url_gakunin_ds = 'https://test-ds.gakunin.nii.ac.jp/WAYF' # テストフェデレーション\n",
    "\n",
    "url_gakunin_ds = "
   ]
  },
  {
   "cell_type": "markdown",
   "metadata": {},
   "source": [
    "#### メタデータ\n",
    "\n",
    "学認フェデレーションのメタデータを取得するURLを次のセルで指定してください。"
   ]
  },
  {
   "cell_type": "code",
   "execution_count": null,
   "metadata": {},
   "outputs": [],
   "source": [
    "# (例)\n",
    "# url_gakunin_metadata = 'https://metadata.gakunin.nii.ac.jp/gakunin-metadata.xml'          # 運用フェデレーション\n",
    "# url_gakunin_metadata = 'https://metadata.gakunin.nii.ac.jp/gakunin-test-metadata.xml'  # テストフェデレーション\n",
    "\n",
    "url_gakunin_metadata = "
   ]
  },
  {
   "cell_type": "markdown",
   "metadata": {
    "heading_collapsed": true
   },
   "source": [
    "#### パラメータの保存\n",
    "\n",
    "この節で指定したパラメータの値をファイルに保存します。"
   ]
  },
  {
   "cell_type": "code",
   "execution_count": null,
   "metadata": {
    "hidden": true
   },
   "outputs": [],
   "source": [
    "%run scripts/group.py\n",
    "update_group_vars(\n",
    "    target_group,\n",
    "    _file=\"30-shibboleth.yml\",\n",
    "    url_gakunin_ds=url_gakunin_ds,\n",
    "    url_gakunin_metadata=url_gakunin_metadata,\n",
    ")"
   ]
  },
  {
   "cell_type": "markdown",
   "metadata": {
    "hidden": true
   },
   "source": [
    "`group_vars`ファイルの内容を確認してみます。"
   ]
  },
  {
   "cell_type": "code",
   "execution_count": null,
   "metadata": {
    "hidden": true
   },
   "outputs": [],
   "source": [
    "!cat group_vars/{target_group}/30-shibboleth.yml"
   ]
  },
  {
   "cell_type": "markdown",
   "metadata": {},
   "source": [
    "### 学内システムとして構築する場合の設定\n",
    "\n",
    "学認技術ガイドの「[学内システムとして構築する場合の設定](https://meatwiki.nii.ac.jp/confluence/pages/viewpage.action?pageId=12158282)」の記述に従い、特定のIdP・特定のSPの間でのみ連携する設定を行います。このNotebookでは Shibboleth SP 側の設定のみ扱います。IdP側の設定は技術ガイドの記述などを参考に設定を行ってください。\n",
    "\n",
    "> 学認フェデレーションに参加している場合はこの節をスキップして先に進んでください。"
   ]
  },
  {
   "cell_type": "markdown",
   "metadata": {},
   "source": [
    "Shibboleth SPに対して設定する以下の項目の値を指定します。\n",
    "\n",
    "* IdP の entityID\n",
    "* IdP のメタデータファイル"
   ]
  },
  {
   "cell_type": "markdown",
   "metadata": {},
   "source": [
    "#### IdPのentity ID\n",
    "\n",
    "SPと連携するIdPの entity ID を次のセルで指定してください。"
   ]
  },
  {
   "cell_type": "code",
   "execution_count": null,
   "metadata": {},
   "outputs": [],
   "source": [
    "# (例)\n",
    "# idp_entity_id = 'https://idp.example.org/idp/shibboleth' \n",
    "\n",
    "idp_entity_id = "
   ]
  },
  {
   "cell_type": "markdown",
   "metadata": {},
   "source": [
    "#### IdPのメタデータ\n",
    "\n",
    "連携するIdPのメタデータのファイルを次のセルで指定してください。"
   ]
  },
  {
   "cell_type": "markdown",
   "metadata": {},
   "source": [
    "指定するメタデータファイルは事前にこのNotebook環境にアップロードしておいてください。次のセルにはNotebook環境でのパスを指定してください。"
   ]
  },
  {
   "cell_type": "code",
   "execution_count": null,
   "metadata": {},
   "outputs": [],
   "source": [
    "# (例)\n",
    "# idp_metadata = 'idp-metadata.xml' \n",
    "\n",
    "idp_metadata = "
   ]
  },
  {
   "cell_type": "markdown",
   "metadata": {
    "heading_collapsed": true
   },
   "source": [
    "#### パラメータの保存\n",
    "\n",
    "この節で指定したパラメータの値をファイルに保存します。"
   ]
  },
  {
   "cell_type": "code",
   "execution_count": null,
   "metadata": {
    "hidden": true
   },
   "outputs": [],
   "source": [
    "%run scripts/group.py\n",
    "from pathlib import Path\n",
    "\n",
    "update_group_vars(\n",
    "    target_group,\n",
    "    _file=\"30-shibboleth.yml\",\n",
    "    idp_entity_id=idp_entity_id,\n",
    "    idp_metadata=str(Path(idp_metadata).resolve()),\n",
    ")"
   ]
  },
  {
   "cell_type": "markdown",
   "metadata": {
    "hidden": true
   },
   "source": [
    "`group_vars`ファイルの内容を確認してみます。"
   ]
  },
  {
   "cell_type": "code",
   "execution_count": null,
   "metadata": {
    "hidden": true
   },
   "outputs": [],
   "source": [
    "!cat group_vars/{target_group}/30-shibboleth.yml"
   ]
  },
  {
   "cell_type": "markdown",
   "metadata": {
    "heading_collapsed": true
   },
   "source": [
    "## メンテナンスモードへの切り替え\n",
    "\n",
    "設定を行う際にMoodleコンテナを一時停止することになるので、メンテナンスモードに切り替えます。"
   ]
  },
  {
   "cell_type": "code",
   "execution_count": null,
   "metadata": {
    "hidden": true
   },
   "outputs": [],
   "source": [
    "!ansible {target_group} -a 'chdir=/srv/moodle docker compose exec -T moodle \\\n",
    "    /usr/bin/php /var/www/html/admin/cli/maintenance.php --enable'"
   ]
  },
  {
   "cell_type": "markdown",
   "metadata": {},
   "source": [
    "## 証明書の配置\n",
    "\n",
    "Shibbolethコンテナが使用する証明書、秘密鍵を配置します。"
   ]
  },
  {
   "cell_type": "markdown",
   "metadata": {},
   "source": [
    "Shibbolethコンテナが使用する証明書、秘密鍵を以下に示します。\n",
    "\n",
    "1. Apache HTTP serverが mod_ssl で利用するサーバ証明書\n",
    "1. Shibboleth SPが署名、暗号化のために利用するサーバ証明書\n",
    "1. 学認フェデレーションのメタデータを検証するための証明書（学認フェデレーションを利用する場合のみ）\n",
    "\n",
    "通常の運用では1と2の証明書、秘密鍵は同じものとなります。そのため、ここでは1と2を個別に指定せずに１組の証明書、秘密鍵のみを指定します。"
   ]
  },
  {
   "cell_type": "markdown",
   "metadata": {},
   "source": [
    "### 証明書と秘密鍵の指定\n",
    "\n",
    "Apache HTTP serverとShibboleth SPで利用する証明書と秘密鍵を配置します。\n",
    "\n",
    "> ここで指定するサーバ証明書と秘密鍵は事前にこのNotebook環境にアップロードしておいてください。"
   ]
  },
  {
   "cell_type": "markdown",
   "metadata": {},
   "source": [
    "ここで指定した証明書、秘密鍵は構築環境に配置されShibbolethコンテナにbindマウントされます。配置先のパスとコンテナにおけるパスの関係を次表に示します。\n",
    "\n",
    "|構築環境の配置先となるパス|コンテナでのパス|説明|\n",
    "|:---|:---|:---|\n",
    "|/srv/moodle/shibboleth/conf/httpd/certs/server.crt|/etc/pki/tls/certs/server.crt|Apache HTTP serverのサーバ証明書|\n",
    "|/srv/moodle/shibboleth/conf/httpd/certs/server.key|/etc/pki/tls/private/server.key|Apache HTTP serverの秘密鍵|\n",
    "\n",
    "bindマウントされた証明書、秘密鍵のファイルはApache HTTP serverから利用されます。さらにコンテナの起動時に、これらのファイルはShibboleth SPで利用するファイルとしてコピーされます。Shibboleth SPが利用する証明書、秘密鍵のパスを次表に示します。\n",
    "\n",
    "|コンテナ内でのパス|説明|\n",
    "|:---|:---|\n",
    "|/etc/shibboleth/cert/server.crt|Shibboleth SPのサーバ証明書|\n",
    "|/etc/shibboleth/cert/server.key|Shibboleth SPの秘密鍵|\n",
    "\n",
    "Shibboleth SPが利用するサーバ証明書、秘密鍵をApache HTTP server が利用するものと別に用意するのは、それぞれの用途に応じたファイルの所有者、グループの設定が必要となるためです。\n",
    "\n",
    "またShibbolethコンテナによる証明書のコピーは上記の表に示したパスに既にファイルが存在している場合は実行されません。SP用の証明書、秘密鍵をコンテナにbindマウントするように設定するするとコンテナ起動時のコピーを抑制することができます。これによりApache HTTP serverとShibboleth SPとで異なる証明書を利用するなどの例外的な状況に対応してすることが可能となります。"
   ]
  },
  {
   "cell_type": "markdown",
   "metadata": {},
   "source": [
    " ####  サーバ証明書の指定\n",
    " \n",
    " サーバ証明書のパスを次のセルで指定してください。ここで指定するパスはNotebook環境におけるサーバ証明書のパスになります。"
   ]
  },
  {
   "cell_type": "markdown",
   "metadata": {},
   "source": [
    " 証明書のフォーマットはPEMであることを想定しています。 またサーバ証明書に中間CA証明書を連結する場合は[電子証明書発行サービス-サーバ動作事例集](https://certs.nii.ac.jp/manual/manuals/reports/03)で説明されているように、「サーバ証明書」、「中間CA証明書」の順に記載してください。"
   ]
  },
  {
   "cell_type": "code",
   "execution_count": null,
   "metadata": {},
   "outputs": [],
   "source": [
    "# (例)\n",
    "# moodle_cert_path = './certs/server.crt'\n",
    "\n",
    "moodle_cert_path = "
   ]
  },
  {
   "cell_type": "markdown",
   "metadata": {},
   "source": [
    "#### 秘密鍵の指定\n",
    "\n",
    "秘密鍵のパスを次のセルで指定してください。ここで指定するパスはNotebook環境における秘密鍵のパスになります。"
   ]
  },
  {
   "cell_type": "code",
   "execution_count": null,
   "metadata": {},
   "outputs": [],
   "source": [
    "# (例)\n",
    "# moodle_private_key_path = './certs/server.key'\n",
    "\n",
    "moodle_private_key_path = "
   ]
  },
  {
   "cell_type": "markdown",
   "metadata": {
    "heading_collapsed": true
   },
   "source": [
    "#### パラメータの保存\n",
    "\n",
    "この節で指定したパラメータの値をファイルに保存します。"
   ]
  },
  {
   "cell_type": "code",
   "execution_count": null,
   "metadata": {
    "hidden": true
   },
   "outputs": [],
   "source": [
    "%run scripts/group.py\n",
    "from pathlib import Path\n",
    "\n",
    "update_group_vars(\n",
    "    target_group,\n",
    "    _file=\"30-httpd.yml\",\n",
    "    moodle_cert_path=str(Path(moodle_cert_path).resolve()),\n",
    "    moodle_private_key_path=str(Path(moodle_private_key_path).resolve()),\n",
    "    httpd=\"shibboleth\",\n",
    ")"
   ]
  },
  {
   "cell_type": "markdown",
   "metadata": {
    "hidden": true
   },
   "source": [
    "`group_vars`ファイルの内容を確認してみます。"
   ]
  },
  {
   "cell_type": "code",
   "execution_count": null,
   "metadata": {
    "hidden": true
   },
   "outputs": [],
   "source": [
    "!cat group_vars/{target_group}/30-httpd.yml"
   ]
  },
  {
   "cell_type": "markdown",
   "metadata": {},
   "source": [
    "### メタデータを検証するための証明書の指定\n",
    "\n",
    "学認フェデレーションのメタデータを検証するための証明書を指定します。　\n",
    "\n",
    "> この節は**学認フェデレーションに参加する場合のみ**指定が必要となります。学認フェデレーションに参加せずに学内システムとして構築するなどの場合はこの節をスキップして次節に進んでください。"
   ]
  },
  {
   "cell_type": "markdown",
   "metadata": {},
   "source": [
    "次のセルで学認のメタデータの署名を検証するための署名証明書を指定してください。\n",
    "\n",
    "ここで指定する証明書は参加するフェデレーションによって異なります。以下に示すリンク先の情報などを参考にしてください。\n",
    "\n",
    "* [メタデータ署名証明書 -- 運用フェデレーション用](https://meatwiki.nii.ac.jp/confluence/display/GakuNinShibInstall/signer)\n",
    "* [テストフェデレーションの概要とルール](https://www.gakunin.jp/join/test/rule)\n",
    "* [shibboleth2.xml ファイル](https://meatwiki.nii.ac.jp/confluence/pages/viewpage.action?pageId=12158266)"
   ]
  },
  {
   "cell_type": "code",
   "execution_count": null,
   "metadata": {},
   "outputs": [],
   "source": [
    "# (例)\n",
    "# gakunin_signer = 'https://metadata.gakunin.nii.ac.jp/gakunin-signer-2017.cer'           # 運用フェデレーション\n",
    "# gakunin_signer = 'https://metadata.gakunin.nii.ac.jp/gakunin-test-signer-2020.cer'  # テストフェデレーション\n",
    "# gakunin_signer = './certs/gakunin-signer.cer'　　# Notebook環境のパスで指定する場合\n",
    "\n",
    "gakunin_signer = "
   ]
  },
  {
   "cell_type": "markdown",
   "metadata": {
    "heading_collapsed": true
   },
   "source": [
    "#### パラメータの保存\n",
    "\n",
    "この節で指定したパラメータの値をファイルに保存します。"
   ]
  },
  {
   "cell_type": "code",
   "execution_count": null,
   "metadata": {
    "hidden": true
   },
   "outputs": [],
   "source": [
    "%run scripts/group.py\n",
    "from urllib.parse import urlparse\n",
    "from pathlib import Path\n",
    "\n",
    "url_gakunin_signer = urlparse(gakunin_signer)\n",
    "if len(url_gakunin_signer.scheme) > 0:\n",
    "    remove_group_vars(target_group, 'path_gakunin_signer')\n",
    "    update_group_vars(\n",
    "        target_group,\n",
    "        _file=\"30-shibboleth.yml\",\n",
    "        url_gakunin_signer=gakunin_signer,\n",
    "    )\n",
    "else:\n",
    "    remove_group_vars(target_group, 'url_gakunin_signer')\n",
    "    update_group_vars(\n",
    "        target_group,\n",
    "        _file=\"30-shibboleth.yml\",\n",
    "        path_gakunin_signer=str(Path(gakunin_signer).resolve()),\n",
    "    )"
   ]
  },
  {
   "cell_type": "markdown",
   "metadata": {
    "hidden": true
   },
   "source": [
    "`group_vars`ファイルの内容を確認してみます。"
   ]
  },
  {
   "cell_type": "code",
   "execution_count": null,
   "metadata": {
    "hidden": true
   },
   "outputs": [],
   "source": [
    "!cat group_vars/{target_group}/30-shibboleth.yml"
   ]
  },
  {
   "cell_type": "markdown",
   "metadata": {
    "heading_collapsed": true
   },
   "source": [
    "### 証明書と秘密鍵を構築環境に配置する\n",
    "\n",
    "次のセルを実行すると証明書、秘密鍵を構築環境に配置する ansible の playbook を実行します。"
   ]
  },
  {
   "cell_type": "markdown",
   "metadata": {
    "hidden": true
   },
   "source": [
    "実際の操作を行う前にチェックモードで ansible を実行します。"
   ]
  },
  {
   "cell_type": "code",
   "execution_count": null,
   "metadata": {
    "hidden": true,
    "scrolled": false
   },
   "outputs": [],
   "source": [
    "!ansible-playbook -l {target_group} -CDv playbooks/deploy-shibboleth-certs.yml || true"
   ]
  },
  {
   "cell_type": "markdown",
   "metadata": {
    "hidden": true
   },
   "source": [
    "実際に証明書の配置を行います。"
   ]
  },
  {
   "cell_type": "code",
   "execution_count": null,
   "metadata": {
    "hidden": true,
    "scrolled": true
   },
   "outputs": [],
   "source": [
    "!ansible-playbook -l {target_group} -v playbooks/deploy-shibboleth-certs.yml"
   ]
  },
  {
   "cell_type": "markdown",
   "metadata": {
    "hidden": true
   },
   "source": [
    "サーバ証明書がMoodle環境に配置されたことを確認するために、証明書の内容を表示してみます。"
   ]
  },
  {
   "cell_type": "code",
   "execution_count": null,
   "metadata": {
    "hidden": true
   },
   "outputs": [],
   "source": [
    "!ansible {target_group} -a \\\n",
    "    'openssl x509 -in /srv/moodle/shibboleth/conf/httpd/certs/server.crt \\\n",
    "    -noout -text'"
   ]
  },
  {
   "cell_type": "markdown",
   "metadata": {
    "hidden": true
   },
   "source": [
    "配置した秘密鍵を表示します。"
   ]
  },
  {
   "cell_type": "code",
   "execution_count": null,
   "metadata": {
    "hidden": true
   },
   "outputs": [],
   "source": [
    "!ansible {target_group} -b -a \\\n",
    "    'openssl rsa -in /srv/moodle/shibboleth/conf/httpd/certs/server.key \\\n",
    "    -noout -text'"
   ]
  },
  {
   "cell_type": "markdown",
   "metadata": {
    "heading_collapsed": true
   },
   "source": [
    "## 設定ファイルの配置\n",
    "\n",
    "Shibbolethコンテナで実行する Apache HTTP server と Shibboleth SP の設定ファイルを構築環境のホスト側に配置します。"
   ]
  },
  {
   "cell_type": "markdown",
   "metadata": {
    "hidden": true
   },
   "source": [
    "bind mountによって配置する設定ファイルのホスト環境におけるパスとコンテナ環境におけるパスの対応関係を以下に示します。\n",
    "\n",
    "|コンテナ名|コンテナ環境のパス|ホスト環境のパス|\n",
    "|:---|:---|:---|\n",
    "|shibboleth|/etc/httpd/conf/httpd.conf|/srv/moodle/shibboleth/conf/httpd/conf/httpd.conf|\n",
    "|shibboleth|/etc/httpd/conf.d/|/srv/moodle/shibboleth/conf/httpd/conf.d/|\n",
    "|shibboleth|/etc/httpd/conf.modules.d/|/srv/moodle/shibboleth/conf/httpd/conf.modules.d/|\n",
    "|shibboleth|/etc/shibboleth/|/srv/moodle/shibboleth/conf/shibboleth/|"
   ]
  },
  {
   "cell_type": "markdown",
   "metadata": {
    "hidden": true
   },
   "source": [
    "実際の操作を行う前にチェックモードで ansible を実行します。"
   ]
  },
  {
   "cell_type": "code",
   "execution_count": null,
   "metadata": {
    "hidden": true
   },
   "outputs": [],
   "source": [
    "!ansible-playbook -l {target_group} -CDv playbooks/deploy-shibboleth-conf.yml"
   ]
  },
  {
   "cell_type": "markdown",
   "metadata": {
    "hidden": true
   },
   "source": [
    "実際に設定ファイルの配置を行います。"
   ]
  },
  {
   "cell_type": "code",
   "execution_count": null,
   "metadata": {
    "hidden": true
   },
   "outputs": [],
   "source": [
    "!ansible-playbook -l {target_group} -v playbooks/deploy-shibboleth-conf.yml"
   ]
  },
  {
   "cell_type": "markdown",
   "metadata": {
    "hidden": true
   },
   "source": [
    "設定ファイルがコピーされたことを確認します。"
   ]
  },
  {
   "cell_type": "code",
   "execution_count": null,
   "metadata": {
    "hidden": true,
    "scrolled": true
   },
   "outputs": [],
   "source": [
    "!ansible {target_group} -a 'chdir=/srv/moodle \\\n",
    "    tree shibboleth/conf'"
   ]
  },
  {
   "cell_type": "markdown",
   "metadata": {
    "heading_collapsed": true
   },
   "source": [
    "## コンテナ構成の変更\n",
    "\n",
    "MoodleとShibboleth SPが連携できるようにするようコンテナ構成を変更します。"
   ]
  },
  {
   "cell_type": "markdown",
   "metadata": {
    "hidden": true
   },
   "source": [
    "### compose.yaml の配置"
   ]
  },
  {
   "cell_type": "markdown",
   "metadata": {
    "hidden": true
   },
   "source": [
    "このNotebookの設定手順ではHTTPS接続に対応するためのコンテナを追加する変更を行います。新たなコンテナ構成に対応する`compose.yaml`を構築環境に配置します。ここで配置する`compose.yaml`は元の設定に対して以下に示す変更をおこなっています。\n",
    "\n",
    "* Shibbolethコンテナを追加する\n",
    "* moodleコンテナで実行している `php-fpm` のソケットをShibbolethコンテナを共有するように bind マウントを設定する\n",
    "* moodleコンテナのhttpdサービスを無効化する\n",
    "* moodleコンテナの`config.php`で設定している `$CFG->wwwroot` の値を変更する"
   ]
  },
  {
   "cell_type": "markdown",
   "metadata": {
    "hidden": true
   },
   "source": [
    "実際に`compose.yaml`を配置する前にチェックモードで ansible を実行します。"
   ]
  },
  {
   "cell_type": "code",
   "execution_count": null,
   "metadata": {
    "hidden": true
   },
   "outputs": [],
   "source": [
    "!ansible {target_group} -CDv -m template \\\n",
    "    -a 'src=template/compose.yaml.j2 \\\n",
    "    dest=/srv/moodle/compose.yaml backup=yes'"
   ]
  },
  {
   "cell_type": "markdown",
   "metadata": {
    "hidden": true
   },
   "source": [
    "`compose.yaml`を構築環境に配置します。"
   ]
  },
  {
   "cell_type": "code",
   "execution_count": null,
   "metadata": {
    "hidden": true
   },
   "outputs": [],
   "source": [
    "!ansible {target_group} -m template \\\n",
    "    -a 'src=template/compose.yaml.j2 \\\n",
    "    dest=/srv/moodle/compose.yaml backup=yes'"
   ]
  },
  {
   "cell_type": "markdown",
   "metadata": {
    "hidden": true
   },
   "source": [
    "### コンテナ設定の変更を反映する\n",
    "\n",
    "コンテナ設定の変更反映をするためにコンテナを再起動します。"
   ]
  },
  {
   "cell_type": "code",
   "execution_count": null,
   "metadata": {
    "hidden": true
   },
   "outputs": [],
   "source": [
    "!ansible {target_group} -a 'chdir=/srv/moodle \\\n",
    "    docker compose up -d --remove-orphans'"
   ]
  },
  {
   "cell_type": "markdown",
   "metadata": {
    "hidden": true
   },
   "source": [
    "変更後のコンテナの状態を確認してみます。`State` の値が `Up` となっていることを確認してください。"
   ]
  },
  {
   "cell_type": "code",
   "execution_count": null,
   "metadata": {
    "hidden": true
   },
   "outputs": [],
   "source": [
    "!ansible {target_group} -a 'chdir=/srv/moodle \\\n",
    "    docker compose ps'"
   ]
  },
  {
   "cell_type": "markdown",
   "metadata": {
    "hidden": true
   },
   "source": [
    "`State`が`Up`となっていない場合はコンテナのログなどを確認してください。"
   ]
  },
  {
   "cell_type": "code",
   "execution_count": null,
   "metadata": {
    "hidden": true,
    "scrolled": true
   },
   "outputs": [],
   "source": [
    "!ansible {target_group} -a 'chdir=/srv/moodle \\\n",
    "    docker compose logs --tail=50 shibboleth'"
   ]
  },
  {
   "cell_type": "markdown",
   "metadata": {
    "heading_collapsed": true
   },
   "source": [
    "## メンテナンスモードの解除\n",
    "\n",
    "設定変更が完了したのでメンテナンスモードを解除します。"
   ]
  },
  {
   "cell_type": "code",
   "execution_count": null,
   "metadata": {
    "hidden": true,
    "scrolled": true
   },
   "outputs": [],
   "source": [
    "!ansible {target_group} -a 'chdir=/srv/moodle docker compose exec -T moodle \\\n",
    "    /usr/bin/php /var/www/html/admin/cli/maintenance.php --disable'"
   ]
  },
  {
   "cell_type": "markdown",
   "metadata": {},
   "source": [
    "## Moodle を利用できることを確認\n",
    "\n",
    "Moodle環境にアクセスして利用可能であることを確認します。"
   ]
  },
  {
   "cell_type": "markdown",
   "metadata": {},
   "source": [
    "次のセルを実行するとMoodleのアドレスを表示します。表示されたリンクをクリックしてMoodleにアクセスできることを確認してください。"
   ]
  },
  {
   "cell_type": "code",
   "execution_count": null,
   "metadata": {},
   "outputs": [],
   "source": [
    "%run scripts/group.py\n",
    "gvars = load_group_vars(target_group)\n",
    "print(gvars[\"moodle_url\"])"
   ]
  },
  {
   "cell_type": "markdown",
   "metadata": {},
   "source": [
    "## MoodleのShibbolethプラグインの設定\n",
    "\n",
    "MoodleのShibboleth認証を利用できるようにする設定を行います。"
   ]
  },
  {
   "cell_type": "markdown",
   "metadata": {},
   "source": [
    "### Shibboleth認証を有効にする"
   ]
  },
  {
   "cell_type": "markdown",
   "metadata": {},
   "source": [
    "次のセルを実行すると表示されるリンクからMoodleの認証管理画面を開いてください。\n",
    "> メニューから[サイト管理]--[プラグイン]--[認証]--[認証管理]を選択して同様の画面を開くことができます。"
   ]
  },
  {
   "cell_type": "code",
   "execution_count": null,
   "metadata": {},
   "outputs": [],
   "source": [
    "from IPython.core.display import HTML\n",
    "HTML(u'<a href=\"{0}/admin/settings.php?section=manageauths\" target=\"_blank\">{1}</a>'.format(\n",
    "    load_group_var(target_group, 'moodle_url'), u'認証管理'))"
   ]
  },
  {
   "cell_type": "markdown",
   "metadata": {},
   "source": [
    "以下のような画面が表示されるので Shibboleth の「有効にする」のアイコンを選択してShibboleth認証プラグインを有効にしてください。\n",
    "\n",
    "![認証管理](images/moodle-221-03.png)"
   ]
  },
  {
   "cell_type": "markdown",
   "metadata": {},
   "source": [
    "### Shibbolethプラグイン設定\n",
    "\n",
    "Shibbolethプラグインの設定を行います。"
   ]
  },
  {
   "cell_type": "markdown",
   "metadata": {},
   "source": [
    "次のセルを実行すると表示されるリンクからShibbolethプラグインの設定画面を開いてください。\n",
    "> メニューから[サイト管理]--[プラグイン]--[認証]--[Shibboleth]を選択して同様の画面を開くことができます。"
   ]
  },
  {
   "cell_type": "code",
   "execution_count": null,
   "metadata": {},
   "outputs": [],
   "source": [
    "HTML(u'<a href=\"{0}/admin/settings.php?section=authsettingshibboleth\" target=\"_blank\">{1}</a>'.format(\n",
    "    load_group_var(target_group, 'moodle_url'), u'Shibboleth 設定'))"
   ]
  },
  {
   "cell_type": "markdown",
   "metadata": {},
   "source": [
    "以下のような画面が表示されるので Shibboleth認証に関する設定を行ってください。\n",
    "\n",
    "![Shibboleth設定](images/moodle-221-04.png)"
   ]
  },
  {
   "cell_type": "markdown",
   "metadata": {},
   "source": [
    "Shibbolethコンテナでは学認により[テンプレート](https://meatwiki.nii.ac.jp/confluence/pages/viewpage.action?pageId=12158175)として公開されている `attribute-map.xml`を利用しています。`attribute-map.xml`で設定されている属性名をMoodleのデータマッピングの設定に指定してください。\n",
    "\n",
    "例えば以下のように指定を行います。\n",
    "\n",
    "|項目名|設定例|\n",
    "|:---|:---|\n",
    "|ユーザ名|eppn|\n",
    "|データマッピング：名|jaGivenName|\n",
    "|データマッピング：姓|jasn|\n",
    "|データマッピング：メールアドレス|mail|\n",
    "|データマッピング：所属組織|jao|\n",
    "|データマッピング：部署|jaou|\n",
    "|データマッピング：名 - ヨミガナ|givenName|\n",
    "|データマッピング：姓 - ヨミガナ|sn|\n"
   ]
  }
 ],
 "metadata": {
  "kernelspec": {
   "display_name": "Python 3",
   "language": "python",
   "name": "python3"
  },
  "language_info": {
   "file_extension": ".py",
   "mimetype": "text/x-python",
   "name": "python",
   "nbconvert_exporter": "python",
   "pygments_lexer": "ipython3",
   "version": "3.10.4"
  },
  "toc": {
   "base_numbering": 1,
   "nav_menu": {},
   "number_sections": true,
   "sideBar": true,
   "skip_h1_title": true,
   "title_cell": "Table of Contents",
   "title_sidebar": "Contents",
   "toc_cell": false,
   "toc_position": {},
   "toc_section_display": true,
   "toc_window_display": true
  }
 },
 "nbformat": 4,
 "nbformat_minor": 2
}