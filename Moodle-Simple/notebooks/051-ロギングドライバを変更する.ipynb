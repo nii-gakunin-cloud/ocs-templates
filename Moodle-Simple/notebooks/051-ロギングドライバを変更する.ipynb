{
 "cells": [
  {
   "cell_type": "markdown",
   "metadata": {},
   "source": [
    "# About: ロギングドライバを変更する--syslog\n",
    "---\n",
    "\n",
    "`compose.yaml`を編集してMoodleコンテナのロギングドライバを変更します。"
   ]
  },
  {
   "cell_type": "markdown",
   "metadata": {},
   "source": [
    "## 概要\n",
    "\n",
    "Dockerコンテナのロギングドライバを`syslog` に変更して、ログを他ホストのsyslogに転送するように設定します。\n",
    "\n",
    "![処理の流れ](images/moodle-051-01.png)"
   ]
  },
  {
   "cell_type": "markdown",
   "metadata": {},
   "source": [
    "1. `/var/log/httpd/*` などホスト側に出力されるログファイルを rsyslog で転送する設定を行う\n",
    "1. ホスト環境の `rsyslogd` を再起動して設定変更を反映する\n",
    "1. ロギングドライバの設定を追加した`compose.yaml`を構築環境に配置する\n",
    "1. コンテナのロギング設定を変更するためにコンテナを起動し直す\n"
   ]
  },
  {
   "cell_type": "markdown",
   "metadata": {},
   "source": [
    "### 前提条件"
   ]
  },
  {
   "cell_type": "markdown",
   "metadata": {},
   "source": [
    "* Moodle実行環境とは別のノードに syslogサーバが構築済であること\n",
    "* syslogサーバはMoodle構築環境からのログを受け取れるように設定されていること"
   ]
  },
  {
   "cell_type": "markdown",
   "metadata": {},
   "source": [
    "## 準備"
   ]
  },
  {
   "cell_type": "markdown",
   "metadata": {},
   "source": [
    "### グループ名の指定\n",
    "\n",
    "このNotebookの操作対象となるAnsibleのグループ名を設定します。"
   ]
  },
  {
   "cell_type": "markdown",
   "metadata": {},
   "source": [
    "既存のグループ名を確認するために`group_vars`にあるディレクトリの一覧を表示します。"
   ]
  },
  {
   "cell_type": "code",
   "execution_count": null,
   "metadata": {},
   "outputs": [],
   "source": [
    "!ls -1 group_vars/"
   ]
  },
  {
   "cell_type": "markdown",
   "metadata": {},
   "source": [
    "上のセルの出力結果を参考にしてAnsibleのグループ名を次のセルに指定してください。"
   ]
  },
  {
   "cell_type": "code",
   "execution_count": null,
   "metadata": {},
   "outputs": [],
   "source": [
    "# (例)\n",
    "# target_group = 'Moodle'\n",
    "\n",
    "target_group = "
   ]
  },
  {
   "cell_type": "markdown",
   "metadata": {
    "heading_collapsed": true
   },
   "source": [
    "#### チェック\n",
    "\n",
    "指定された `target_group` の値が適切であることをチェックします。"
   ]
  },
  {
   "cell_type": "markdown",
   "metadata": {
    "hidden": true
   },
   "source": [
    "`target_group` に対応する設定ファイルが存在していることを確認します。"
   ]
  },
  {
   "cell_type": "code",
   "execution_count": null,
   "metadata": {
    "hidden": true
   },
   "outputs": [],
   "source": [
    "from pathlib import Path\n",
    "\n",
    "target_dir = Path('group_vars') / target_group\n",
    "if not (target_dir.is_dir() and len(list(target_dir.glob(\"*\"))) > 0):\n",
    "    target_file = Path('group_vars') / f\"{target_group}.yml\"\n",
    "    if target_file.is_file():\n",
    "        target_dir.mkdir(exist_ok=True)\n",
    "        target_file.rename(target_dir / \"00-moodle.yml\")\n",
    "    else:\n",
    "        raise RuntimeError(f\"ERROR: not exists {target_group}\")"
   ]
  },
  {
   "cell_type": "markdown",
   "metadata": {
    "hidden": true
   },
   "source": [
    "`target_group`で指定したホストにAnsibleで到達可能であることを確認します。"
   ]
  },
  {
   "cell_type": "code",
   "execution_count": null,
   "metadata": {
    "hidden": true
   },
   "outputs": [],
   "source": [
    "!ansible {target_group} -m ping"
   ]
  },
  {
   "cell_type": "markdown",
   "metadata": {
    "hidden": true
   },
   "source": [
    "管理者権限でコマンド実行可能であることを確認します。"
   ]
  },
  {
   "cell_type": "code",
   "execution_count": null,
   "metadata": {
    "hidden": true
   },
   "outputs": [],
   "source": [
    "# 管理者権限(-b)でのコマンド実行\n",
    "!ansible {target_group} -b -a 'whoami'"
   ]
  },
  {
   "cell_type": "markdown",
   "metadata": {},
   "source": [
    "## パラメータ設定"
   ]
  },
  {
   "cell_type": "markdown",
   "metadata": {},
   "source": [
    "### syslogサーバの指定\n",
    "\n",
    "ログの送信先となる syslog サーバを指定します。"
   ]
  },
  {
   "cell_type": "markdown",
   "metadata": {},
   "source": [
    "転送先となるsyslogサーバのホスト名（IPアドレス）を指定してください。"
   ]
  },
  {
   "cell_type": "code",
   "execution_count": null,
   "metadata": {},
   "outputs": [],
   "source": [
    "# (例)\n",
    "# syslog_server = 'syslog.example.org'\n",
    "# syslog_server = '192.168.200.200'\n",
    "\n",
    "syslog_server = "
   ]
  },
  {
   "cell_type": "markdown",
   "metadata": {},
   "source": [
    "転送先となるsyslogサーバのポート番号を指定してください。"
   ]
  },
  {
   "cell_type": "code",
   "execution_count": null,
   "metadata": {},
   "outputs": [],
   "source": [
    "# (例)\n",
    "# syslog_port = 514\n",
    "\n",
    "syslog_port = 514"
   ]
  },
  {
   "cell_type": "markdown",
   "metadata": {},
   "source": [
    "転送先となるsyslogサーバのプロトコルを指定してください。"
   ]
  },
  {
   "cell_type": "code",
   "execution_count": null,
   "metadata": {},
   "outputs": [],
   "source": [
    "# (例)\n",
    "# syslog_protocol = 'tcp'\n",
    "# syslog_protocol = 'udp'\n",
    "\n",
    "syslog_protocol = "
   ]
  },
  {
   "cell_type": "markdown",
   "metadata": {},
   "source": [
    "#### パラメータの保存\n",
    "\n",
    "この節で指定したパラメータの値をファイルに保存します。"
   ]
  },
  {
   "cell_type": "markdown",
   "metadata": {},
   "source": [
    "指定されたパラメータでログを送信できることを確認します。 転送先となるsyslogサーバでログを受け取ることができたか確認してください。"
   ]
  },
  {
   "cell_type": "code",
   "execution_count": null,
   "metadata": {},
   "outputs": [],
   "source": [
    "logger_opts = '-d' if syslog_protocol == 'udp' else '-T'\n",
    "logger_message = 'test message 001'\n",
    "\n",
    "!ansible {target_group} -a \\\n",
    "    'logger -n {syslog_server} -P {syslog_port} {logger_opts} \"{logger_message}\"'"
   ]
  },
  {
   "cell_type": "markdown",
   "metadata": {},
   "source": [
    "パラメータの値をファイルに保存します。"
   ]
  },
  {
   "cell_type": "code",
   "execution_count": null,
   "metadata": {},
   "outputs": [],
   "source": [
    "%run scripts/group.py\n",
    "update_group_vars(\n",
    "    target_group,\n",
    "    _file=\"50-logging.yml\",\n",
    "    logging_driver=\"syslog\",\n",
    "    syslog_server=syslog_server,\n",
    "    syslog_port=syslog_port,\n",
    "    syslog_protocol=syslog_protocol,\n",
    ")"
   ]
  },
  {
   "cell_type": "markdown",
   "metadata": {},
   "source": [
    "`group_vars`ファイルの内容を確認してみます。"
   ]
  },
  {
   "cell_type": "code",
   "execution_count": null,
   "metadata": {},
   "outputs": [],
   "source": [
    "!cat group_vars/{target_group}/50-logging.yml"
   ]
  },
  {
   "cell_type": "markdown",
   "metadata": {},
   "source": [
    "### 転送対象とするホスト環境のログを指定する\n",
    "\n",
    "コンテナで実行しているApache HTTP serverのなどのサービスのログはホスト環境の`/var/log/`に記録されています。これらのログをホスト側で実行しているrsyslogの機能を利用してリモートホストのsyslogに転送する設定を行います。ここではホスト側のrsyslogで転送するログに関するパラメータの指定を行います。"
   ]
  },
  {
   "cell_type": "markdown",
   "metadata": {},
   "source": [
    "ホスト側に記録されるログとコンテナとの関係を次表に示します。\n",
    "\n",
    "|コンテナ|パス|\n",
    "|:---|:---|\n",
    "|db|/var/log/mysql/error.log|\n",
    "|moodle|/var/log/httpd/access_log|\n",
    "|moodle|/var/log/httpd/error_log|\n",
    "|httpd|/var/log/httpd/access_log|\n",
    "|httpd|/var/log/httpd/error_log|\n",
    "|httpd|/var/log/httpd/ssl_access_log|\n",
    "|httpd|/var/log/httpd/ssl_error_log|\n",
    "|shibboleth|/var/log/httpd/access_log|\n",
    "|shibboleth|/var/log/httpd/error_log|\n",
    "|shibboleth|/var/log/httpd/ssl_access_log|\n",
    "|shibboleth|/var/log/httpd/ssl_error_log|\n",
    "|shibboleth|/var/log/shibboleth/shibd.log|\n",
    "|shibboleth|/var/log/shibboleth/shibd_warn.log|\n",
    "|shibboleth|/var/log/shibboleth/signature.log|\n",
    "|shibboleth|/var/log/shibboleth/transaction.log|\n",
    "\n",
    "\n",
    "これらのログは、ホスト側で実行しているrsyslogの[imfile](https://rsyslog.readthedocs.io/en/latest/configuration/modules/imfile.html)モジュールの機能によりログの転送を行います。転送対象とするログを次のセルで指定してください。[imfile - Input Parameter](https://rsyslog.readthedocs.io/en/latest/configuration/modules/imfile.html#input-parameters)に示されているパラメータの `File` と `Tag`　が必須項目となります。\n",
    "\n",
    "例えば、\n",
    "```python\n",
    "[\n",
    "    {\n",
    "        \"file\": \"/var/log/httpd/access_log\",\n",
    "        \"tag\": \"httpd_access_log\",\n",
    "    },\n",
    "]\n",
    "```\n",
    "のように指定すると、以下に示すような rsyslog の設定が生成されます。\n",
    "\n",
    "```\n",
    "input(type=\"imfile\" file=\"/var/log/httpd/access_log\" tag=\"httpd_access_log\" ruleset=\"moodle\")\n",
    "```\n",
    "\n",
    "生成された設定のうち`ruleset=\"moodle\"`は、転送先を指定する際のルールセット名になります。"
   ]
  },
  {
   "cell_type": "code",
   "execution_count": null,
   "metadata": {},
   "outputs": [],
   "source": [
    "rsyslog_configs = [\n",
    "    {\n",
    "        \"file\": \"/var/log/mysql/error.log\",\n",
    "        \"tag\": \"mariadb_error_log\",\n",
    "    },\n",
    "    {\n",
    "        \"file\": \"/var/log/httpd/access_log\",\n",
    "        \"tag\": \"httpd_access_log\",\n",
    "    },\n",
    "    {\n",
    "        \"file\": \"/var/log/httpd/access_log\",\n",
    "        \"tag\": \"httpd_error_log\",\n",
    "    },\n",
    "    {\n",
    "        \"file\": \"/var/log/httpd/ssl_access_log\",\n",
    "        \"tag\": \"httpd_ssl_access_log\",\n",
    "    },\n",
    "    {\n",
    "        \"file\": \"/var/log/httpd/ssl_error_log\",\n",
    "        \"tag\": \"httpd_ssl_error_log\",\n",
    "    },\n",
    "    {\n",
    "        \"file\": \"/var/log/shibboleth/shibd.log\",\n",
    "        \"tag\": \"shibboleth_shibd_log\",\n",
    "    },\n",
    "    {\n",
    "        \"file\": \"/var/log/shibboleth/shibd_warn.log\",\n",
    "        \"tag\": \"shibboleth_shibd_warn_log\",\n",
    "    },\n",
    "    {\n",
    "        \"file\": \"/var/log/shibboleth/signature.log\",\n",
    "        \"tag\": \"shibboleth_signature_log\",\n",
    "    },\n",
    "    {\n",
    "        \"file\": \"/var/log/shibboleth/transaction.log\",\n",
    "        \"tag\": \"shibboleth_transaction_log\",\n",
    "    },\n",
    "]"
   ]
  },
  {
   "cell_type": "markdown",
   "metadata": {
    "heading_collapsed": true
   },
   "source": [
    "#### パラメータの保存\n",
    "\n",
    "この節で指定したパラメータの値をファイルに保存します。"
   ]
  },
  {
   "cell_type": "code",
   "execution_count": null,
   "metadata": {
    "hidden": true
   },
   "outputs": [],
   "source": [
    "%run scripts/group.py\n",
    "update_group_vars(\n",
    "    target_group,\n",
    "    _file=\"50-logging.yml\",\n",
    "    rsyslog_configs=rsyslog_configs,\n",
    ")"
   ]
  },
  {
   "cell_type": "markdown",
   "metadata": {
    "hidden": true
   },
   "source": [
    "`group_vars`ファイルの内容を確認してみます。"
   ]
  },
  {
   "cell_type": "code",
   "execution_count": null,
   "metadata": {
    "hidden": true
   },
   "outputs": [],
   "source": [
    "!cat group_vars/{target_group}/50-logging.yml"
   ]
  },
  {
   "cell_type": "markdown",
   "metadata": {},
   "source": [
    "### コンテナのログ設定に関するパラメータの指定"
   ]
  },
  {
   "cell_type": "markdown",
   "metadata": {},
   "source": [
    "コンテナのロギング設定に関するオプションを指定します。指定するパラメータは[Syslog logging driver - Options](https://docs.docker.com/config/containers/logging/syslog/#options)に記されているものをキー、バリューの形で指定します。ただし`syslog-address`については前節で指定したパラメータから内部で自動的に生成するのでここでの指定は不要です。また`tag`については後ほど指定するのでここでの指定は不要です。"
   ]
  },
  {
   "cell_type": "code",
   "execution_count": null,
   "metadata": {},
   "outputs": [],
   "source": [
    "# (例)\n",
    "# logging_options = {\n",
    "#    \"syslog-facility\": \"local1\",\n",
    "# }\n",
    "\n",
    "logging_options = {\n",
    "\n",
    "}"
   ]
  },
  {
   "cell_type": "markdown",
   "metadata": {},
   "source": [
    "ロギングオプションの`tag`に指定するパラメータを指定します。指定する値はコンテナごとに異なる値を指定します。次のセルではキーに`compose.yaml`のサービス名を、バリューに`tag`に設定する値をdict 型の変数として指定を行います。\n",
    "\n",
    "「021-Moodleコンテナの起動.ipynb」で構築した環境では`db`コンテナ、`moodle`コンテナの2つのコンテナ飲みで構成されています。「071-HTTPS接続に変更する.ipynb」「221-Shibboleth認証の設定.ipynb」を実行しコンテナ構成が変更された場合を考慮して`httpd`コンテナ、`shibboleth`コンテナに対するタグの値もあらかじめ、ここで指定することを推奨します。"
   ]
  },
  {
   "cell_type": "code",
   "execution_count": null,
   "metadata": {},
   "outputs": [],
   "source": [
    "logging_tags = {\n",
    "    'db': 'db',\n",
    "    'moodle': 'moodle',\n",
    "    'httpd': 'httpd',\n",
    "    'shibboleth': 'shibboleth',\n",
    "}"
   ]
  },
  {
   "cell_type": "markdown",
   "metadata": {
    "heading_collapsed": true
   },
   "source": [
    "#### パラメータの保存\n",
    "\n",
    "この節で指定したパラメータの値をファイルに保存します。"
   ]
  },
  {
   "cell_type": "code",
   "execution_count": null,
   "metadata": {
    "hidden": true
   },
   "outputs": [],
   "source": [
    "%run scripts/group.py\n",
    "update_group_vars(\n",
    "    target_group,\n",
    "    _file=\"50-logging.yml\",\n",
    "    logging_driver='syslog',\n",
    "    logging_options=logging_options if 'logging_options' in vars() else {},\n",
    "    logging_tags=logging_tags if 'logging_tags' in vars() else {},\n",
    ")"
   ]
  },
  {
   "cell_type": "markdown",
   "metadata": {
    "hidden": true
   },
   "source": [
    "`group_vars`ファイルの内容を確認してみます。"
   ]
  },
  {
   "cell_type": "code",
   "execution_count": null,
   "metadata": {
    "hidden": true
   },
   "outputs": [],
   "source": [
    "!cat group_vars/{target_group}/50-logging.yml"
   ]
  },
  {
   "cell_type": "markdown",
   "metadata": {
    "heading_collapsed": true
   },
   "source": [
    "## rsyslogの設定を変更する\n",
    "\n"
   ]
  },
  {
   "cell_type": "markdown",
   "metadata": {
    "hidden": true
   },
   "source": [
    "### 設定ファイルを配置する\n",
    "\n",
    "ログの転送に関する記述を行なった設定ファイルを構築環境に配置します。"
   ]
  },
  {
   "cell_type": "markdown",
   "metadata": {
    "hidden": true
   },
   "source": [
    "実際に設定ファイルを配置する前にチェックモードで ansible を実行します。"
   ]
  },
  {
   "cell_type": "code",
   "execution_count": null,
   "metadata": {
    "hidden": true
   },
   "outputs": [],
   "source": [
    "!ansible {target_group} -CDv -m template \\\n",
    "    -a 'src=template/rsyslog/moodle.conf.j2 \\\n",
    "    dest=/etc/rsyslog.d/moodle.conf backup=yes'"
   ]
  },
  {
   "cell_type": "markdown",
   "metadata": {
    "hidden": true
   },
   "source": [
    "設定ファイルを構築環境に配置します。"
   ]
  },
  {
   "cell_type": "code",
   "execution_count": null,
   "metadata": {
    "hidden": true
   },
   "outputs": [],
   "source": [
    "!ansible {target_group} -b -m template \\\n",
    "    -a 'src=template/rsyslog/moodle.conf.j2 \\\n",
    "    dest=/etc/rsyslog.d/moodle.conf backup=yes'"
   ]
  },
  {
   "cell_type": "markdown",
   "metadata": {
    "hidden": true
   },
   "source": [
    "### 変更を反映する\n",
    "\n",
    "rsyslogサービスの再起動を行い、変更を反映させます。"
   ]
  },
  {
   "cell_type": "markdown",
   "metadata": {
    "hidden": true
   },
   "source": [
    "rsyslogサービスの再起動を行います。"
   ]
  },
  {
   "cell_type": "code",
   "execution_count": null,
   "metadata": {
    "hidden": true
   },
   "outputs": [],
   "source": [
    "!ansible {target_group} -b -a 'systemctl restart rsyslog'"
   ]
  },
  {
   "cell_type": "markdown",
   "metadata": {
    "hidden": true
   },
   "source": [
    "rsyslogサービスの状態を確認します。エラーになっていないことを確認してください。"
   ]
  },
  {
   "cell_type": "code",
   "execution_count": null,
   "metadata": {
    "hidden": true
   },
   "outputs": [],
   "source": [
    "!ansible {target_group} -b -a 'systemctl status rsyslog'"
   ]
  },
  {
   "cell_type": "markdown",
   "metadata": {
    "heading_collapsed": true
   },
   "source": [
    "## コンテナのロギング設定を変更する\n",
    "\n",
    "コンテナのログをsyslogで転送するための構成変更を行います。"
   ]
  },
  {
   "cell_type": "markdown",
   "metadata": {
    "hidden": true
   },
   "source": [
    "### compose.yaml の配置\n",
    "\n",
    "ロギングドライバの設定を追加した`compose.yaml`を構築環境に配置します。"
   ]
  },
  {
   "cell_type": "markdown",
   "metadata": {
    "hidden": true
   },
   "source": [
    "実際に`compose.yaml`を配置する前にチェックモードで ansible を実行します。"
   ]
  },
  {
   "cell_type": "code",
   "execution_count": null,
   "metadata": {
    "hidden": true
   },
   "outputs": [],
   "source": [
    "!ansible {target_group} -CDv -m template \\\n",
    "    -a 'src=template/compose.yaml.j2 \\\n",
    "    dest=/srv/moodle/compose.yaml backup=yes'"
   ]
  },
  {
   "cell_type": "markdown",
   "metadata": {
    "hidden": true
   },
   "source": [
    "`compose.yaml`を構築環境に配置します。"
   ]
  },
  {
   "cell_type": "code",
   "execution_count": null,
   "metadata": {
    "hidden": true
   },
   "outputs": [],
   "source": [
    "!ansible {target_group} -m template \\\n",
    "    -a 'src=template/compose.yaml.j2 \\\n",
    "    dest=/srv/moodle/compose.yaml backup=yes'"
   ]
  },
  {
   "cell_type": "markdown",
   "metadata": {
    "hidden": true
   },
   "source": [
    "### コンテナ設定の変更を反映する\n",
    "\n",
    "コンテナ設定の変更反映をするためにコンテナを再起動します。"
   ]
  },
  {
   "cell_type": "code",
   "execution_count": null,
   "metadata": {
    "hidden": true
   },
   "outputs": [],
   "source": [
    "!ansible {target_group} -a 'chdir=/srv/moodle \\\n",
    "    docker compose up --wait --remove-orphans'"
   ]
  },
  {
   "cell_type": "markdown",
   "metadata": {
    "hidden": true
   },
   "source": [
    "変更後のコンテナの状態を確認してみます。`State` の値が `Up` となっていることを確認してください。"
   ]
  },
  {
   "cell_type": "code",
   "execution_count": null,
   "metadata": {
    "hidden": true
   },
   "outputs": [],
   "source": [
    "!ansible {target_group} -a 'chdir=/srv/moodle \\\n",
    "    docker compose ps'"
   ]
  },
  {
   "cell_type": "markdown",
   "metadata": {
    "hidden": true
   },
   "source": [
    "送信先の syslog にログが転送されていることを確認してください。"
   ]
  }
 ],
 "metadata": {
  "kernelspec": {
   "display_name": "Python 3",
   "language": "python",
   "name": "python3"
  },
  "language_info": {
   "file_extension": ".py",
   "mimetype": "text/x-python",
   "name": "python",
   "nbconvert_exporter": "python",
   "pygments_lexer": "ipython3",
   "version": "3.10.4"
  },
  "toc": {
   "base_numbering": 1,
   "nav_menu": {},
   "number_sections": true,
   "sideBar": true,
   "skip_h1_title": true,
   "title_cell": "Table of Contents",
   "title_sidebar": "Contents",
   "toc_cell": false,
   "toc_position": {},
   "toc_section_display": true,
   "toc_window_display": true
  }
 },
 "nbformat": 4,
 "nbformat_minor": 2
}